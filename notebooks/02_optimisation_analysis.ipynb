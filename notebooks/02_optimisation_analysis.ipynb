{
 "cells": [
  {
   "cell_type": "markdown",
   "metadata": {},
   "source": [
    "# Optimisation Results Analysis"
   ]
  },
  {
   "cell_type": "code",
   "execution_count": null,
   "metadata": {},
   "outputs": [],
   "source": [
    "from pathlib import Path\n",
    "\n",
    "import numpy as np\n",
    "import pandas as pd\n",
    "import plotly.express as px\n",
    "import seaborn as sns\n",
    "import matplotlib.pyplot as plt\n",
    "\n",
    "from src.dataloader import get_commute_data\n",
    "from src.utils import plot_agenda, preprocess_schedules"
   ]
  },
  {
   "cell_type": "code",
   "execution_count": null,
   "metadata": {},
   "outputs": [],
   "source": [
    "KIND = \"driving\"\n",
    "results_dir = Path(\"../results/question_1_a\")"
   ]
  },
  {
   "cell_type": "markdown",
   "metadata": {},
   "source": [
    "## Load data"
   ]
  },
  {
   "cell_type": "code",
   "execution_count": null,
   "metadata": {},
   "outputs": [],
   "source": [
    "paths = results_dir.glob(\"*.csv\")\n",
    "\n",
    "files = []\n",
    "for file_ in paths:\n",
    "    files.append(pd.read_csv(file_))\n",
    "df_optimised = pd.concat(files, axis=0)\n",
    "df_optimised = df_optimised.sort_values([\"Heure de début\", \"Heure de fin\"])"
   ]
  },
  {
   "cell_type": "code",
   "execution_count": null,
   "metadata": {},
   "outputs": [],
   "source": [
    "# df_optimised[df_optimised.Prestation != \"COMMUTE\"].to_csv(\"../results/question_1_b.csv\")"
   ]
  },
  {
   "cell_type": "code",
   "execution_count": null,
   "metadata": {},
   "outputs": [],
   "source": [
    "commute_file_paths = [\n",
    "    \"../data/commute_bicycling_clients.csv\",\n",
    "    \"../data/commute_driving_clients.csv\",\n",
    "    \"../data/commute_bicycling_care_clients.csv\",\n",
    "    \"../data/commute_bicycling_clients_care.csv\",\n",
    "    \"../data/commute_driving_care_clients.csv\",\n",
    "    \"../data/commute_driving_clients_care.csv\",\n",
    "]\n",
    "\n",
    "commute_data_df = get_commute_data(commute_file_paths)\n",
    "caregivers = pd.read_excel(\"../data/ChallengeXHEC23022024.xlsx\", sheet_name=2)"
   ]
  },
  {
   "cell_type": "code",
   "execution_count": null,
   "metadata": {},
   "outputs": [],
   "source": [
    "optimised_sched = preprocess_schedules(\n",
    "    df_optimised, caregivers, sched=\"optimised\", kind=KIND\n",
    ")"
   ]
  },
  {
   "cell_type": "code",
   "execution_count": null,
   "metadata": {},
   "outputs": [],
   "source": [
    "schedule = pd.read_excel(\"../data/ChallengeXHEC23022024.xlsx\", sheet_name=0)\n",
    "\n",
    "discard_list = [\n",
    "    \"ADMINISTRATION\",\n",
    "    \"VISITE MEDICALE\",\n",
    "    \"FORMATION\",\n",
    "    \"COORDINATION\",\n",
    "    \"HOMMES TOUTES MAINS\",\n",
    "]\n",
    "\n",
    "schedule = schedule[~schedule.Prestation.isin(discard_list)]\n",
    "given_sched = preprocess_schedules(\n",
    "    schedule, caregivers, sched=\"given\", kind=KIND\n",
    ")\n",
    "\n",
    "given_sched = given_sched[given_sched.Date.isin(optimised_sched.Date.unique())]"
   ]
  },
  {
   "cell_type": "markdown",
   "metadata": {},
   "source": [
    "## Plot given agenda"
   ]
  },
  {
   "cell_type": "code",
   "execution_count": null,
   "metadata": {},
   "outputs": [],
   "source": [
    "all_intervenant_agendas = []\n",
    "\n",
    "for intervenant_id in optimised_sched[\"ID Intervenant\"].unique():\n",
    "    # NOTE: change kind here depending on execution above\n",
    "    intervenant_agenda_commute = plot_agenda(\n",
    "        intervenant_id, given_sched, commute_data_df, kind=KIND\n",
    "    )\n",
    "    all_intervenant_agendas.append(intervenant_agenda_commute)\n",
    "\n",
    "df_agendas_given = pd.concat(all_intervenant_agendas)"
   ]
  },
  {
   "cell_type": "markdown",
   "metadata": {},
   "source": [
    "## Plot optimised agenda"
   ]
  },
  {
   "cell_type": "code",
   "execution_count": null,
   "metadata": {},
   "outputs": [],
   "source": [
    "all_intervenant_agendas = []\n",
    "\n",
    "for intervenant_id in optimised_sched[\"ID Intervenant\"].unique():\n",
    "    # NOTE: change kind here depending on execution above\n",
    "    intervenant_agenda_commute = plot_agenda(\n",
    "        intervenant_id, optimised_sched, commute_data_df, kind=KIND\n",
    "    )\n",
    "    all_intervenant_agendas.append(intervenant_agenda_commute)\n",
    "\n",
    "df_agendas_opt = pd.concat(all_intervenant_agendas)"
   ]
  },
  {
   "cell_type": "markdown",
   "metadata": {},
   "source": [
    "## Comparison of metrics"
   ]
  },
  {
   "cell_type": "code",
   "execution_count": null,
   "metadata": {},
   "outputs": [],
   "source": [
    "print(\"Commute time in Jan 24\")\n",
    "print(\n",
    "    f\"Given Schedule (in h): {df_agendas_given.loc[(df_agendas_given['Task'] == 'Commute Time'), 'Commute Time'].sum() / 60:.2f}\"\n",
    ")\n",
    "print(\n",
    "    f\"Optimised Schedule (in h): {df_agendas_opt.loc[(df_agendas_opt['Task'] == 'Commute Time'), 'Commute Time'].sum() / 60:.2f}\"\n",
    ")"
   ]
  },
  {
   "cell_type": "code",
   "execution_count": null,
   "metadata": {},
   "outputs": [],
   "source": [
    "time_given = (\n",
    "    df_agendas_given[(df_agendas_given[\"Task\"] == \"Commute Time\")]\n",
    "    .groupby([\"Date\", \"ID Intervenant\"])[\"Commute Time\"]\n",
    "    .sum()\n",
    "    .groupby(\"Date\")\n",
    "    .mean()\n",
    "    .mean()\n",
    ")\n",
    "\n",
    "time_opt = (\n",
    "    df_agendas_opt[(df_agendas_opt[\"Task\"] == \"Commute Time\")]\n",
    "    .groupby([\"Date\", \"ID Intervenant\"])[\"Commute Time\"]\n",
    "    .sum()\n",
    "    .groupby(\"Date\")\n",
    "    .mean()\n",
    "    .mean()\n",
    ")\n",
    "\n",
    "print(\"Avg. commute time per caregiver per day\")\n",
    "print(f\"Given Schedule (in min): {time_given:.2f}\")\n",
    "print(f\"Optimised Schedule (in min): {time_opt:.2f}\")"
   ]
  },
  {
   "cell_type": "code",
   "execution_count": null,
   "metadata": {},
   "outputs": [],
   "source": [
    "print(\"Number short downtimes in Jan 24\")\n",
    "print(\n",
    "    f\"Given Schedule: {df_agendas_given.loc[(df_agendas_given['Task'] == 'Wait Time'), 'Wait Time'].count()}\"\n",
    ")\n",
    "print(\n",
    "    f\"Optimised Schedule: {df_agendas_opt.loc[(df_agendas_opt['Task'] == 'Wait Time'), 'Wait Time'].count()}\"\n",
    ")"
   ]
  },
  {
   "cell_type": "code",
   "execution_count": null,
   "metadata": {},
   "outputs": [],
   "source": [
    "print(\"Short downtimes in Jan 24\")\n",
    "print(\n",
    "    f\"Given Schedule (in h): {df_agendas_given.loc[(df_agendas_given['Task'] == 'Wait Time'), 'Wait Time'].sum() / 60:.2f}\"\n",
    ")\n",
    "print(\n",
    "    f\"Optimised Schedule (in h): {df_agendas_opt.loc[(df_agendas_opt['Task'] == 'Wait Time'), 'Wait Time'].sum() / 60:.2f}\"\n",
    ")"
   ]
  },
  {
   "cell_type": "code",
   "execution_count": null,
   "metadata": {},
   "outputs": [],
   "source": [
    "cnt_given = (\n",
    "    df_agendas_given[(df_agendas_given[\"Task\"] == \"Wait Time\")]\n",
    "    .groupby([\"Date\", \"ID Intervenant\"])[\"Wait Time\"]\n",
    "    .count()\n",
    "    .groupby(\"Date\")\n",
    "    .mean()\n",
    "    .mean()\n",
    ")\n",
    "cnt_opt = (\n",
    "    df_agendas_opt[(df_agendas_opt[\"Task\"] == \"Wait Time\")]\n",
    "    .groupby([\"Date\", \"ID Intervenant\"])[\"Wait Time\"]\n",
    "    .count()\n",
    "    .groupby(\"Date\")\n",
    "    .mean()\n",
    "    .mean()\n",
    ")\n",
    "\n",
    "print(\"Avg. nr. short downtimes per caregiver per day:\")\n",
    "print(f\"Given schedule: {cnt_given:.2f}\")\n",
    "print(f\"Optimised schedule: {cnt_opt:.2f}\")"
   ]
  },
  {
   "cell_type": "code",
   "execution_count": null,
   "metadata": {},
   "outputs": [],
   "source": [
    "commute_given = df_agendas_given.loc[\n",
    "    (df_agendas_given[\"Task\"] == \"Commute Time\")\n",
    "    & (df_agendas_given[\"Commute Method\"] == \"driving\"),\n",
    "    \"Commute Meters\",\n",
    "].sum()\n",
    "commute_opt = df_agendas_opt.loc[\n",
    "    (df_agendas_opt[\"Task\"] == \"Commute Time\")\n",
    "    & (df_agendas_opt[\"Commute Method\"] == \"driving\"),\n",
    "    \"Commute Meters\",\n",
    "].sum()\n",
    "print(\"Commute meters in Jan 24\")\n",
    "print(f\"Given Schedule (in km): {commute_given / 1000:.2f}\")\n",
    "print(f\"Optimised Schedule (in km): {commute_opt / 1000:.2f}\")"
   ]
  },
  {
   "cell_type": "markdown",
   "metadata": {},
   "source": [
    "## Boxplot for a given day"
   ]
  },
  {
   "cell_type": "code",
   "execution_count": null,
   "metadata": {},
   "outputs": [],
   "source": [
    "opt_03_01 = (\n",
    "    df_agendas_opt[(df_agendas_opt[\"Task\"] == \"Commute Time\")]\n",
    "    .groupby([\"Date\", \"ID Intervenant\", \"Commute Method\"])[\"Commute Time\"]\n",
    "    .sum()\n",
    ")\n",
    "opt_03_01 = opt_03_01.reset_index()\n",
    "opt_03_01 = opt_03_01[opt_03_01.Date == \"2024-01-03\"]"
   ]
  },
  {
   "cell_type": "code",
   "execution_count": null,
   "metadata": {},
   "outputs": [],
   "source": [
    "sns.set_theme()\n",
    "sns.set(font_scale=3, style=\"white\")\n",
    "plt.figure(figsize=(15, 3))\n",
    "sns.boxplot(\n",
    "    data=opt_03_01, x=\"Commute Time\", y=\"Commute Method\", color=\"#D9D9D9\"\n",
    ")  #\n",
    "plt.ylabel(\"\")\n",
    "plt.xlabel(\"\")\n",
    "plt.xlim(0, 175)"
   ]
  },
  {
   "cell_type": "code",
   "execution_count": null,
   "metadata": {},
   "outputs": [],
   "source": [
    "given_03_01 = (\n",
    "    df_agendas_given[(df_agendas_given[\"Task\"] == \"Commute Time\")]\n",
    "    .groupby([\"Date\", \"ID Intervenant\", \"Commute Method\"])[\"Commute Time\"]\n",
    "    .sum()\n",
    ")\n",
    "given_03_01 = given_03_01.reset_index()\n",
    "given_03_01 = given_03_01[given_03_01.Date == \"2024-01-03\"]"
   ]
  },
  {
   "cell_type": "code",
   "execution_count": null,
   "metadata": {},
   "outputs": [],
   "source": [
    "sns.set(font_scale=3, style=\"white\")\n",
    "plt.figure(figsize=(15, 3))\n",
    "sns.boxplot(\n",
    "    data=given_03_01, x=\"Commute Time\", y=\"Commute Method\", color=\"#D9D9D9\"\n",
    ")  #\n",
    "plt.ylabel(\"\")\n",
    "plt.xlabel(\"\")\n",
    "plt.xlim(0, 175)"
   ]
  },
  {
   "cell_type": "code",
   "execution_count": null,
   "metadata": {},
   "outputs": [],
   "source": [
    "print(\"Number of cargivers working on 03-01-2024\")\n",
    "print(\"Given schedule: \", given_03_01[\"ID Intervenant\"].nunique())\n",
    "print(\"Optimised schedule: \", opt_03_01[\"ID Intervenant\"].nunique())"
   ]
  },
  {
   "cell_type": "markdown",
   "metadata": {},
   "source": [
    "## Value counts of short downtimes"
   ]
  },
  {
   "cell_type": "code",
   "execution_count": null,
   "metadata": {},
   "outputs": [],
   "source": [
    "given_03_01 = (\n",
    "    df_agendas_given[(df_agendas_given[\"Task\"] == \"Wait Time\")]\n",
    "    .groupby([\"Date\", \"ID Intervenant\", \"Commute Method\"])[\"Wait Time\"]\n",
    "    .count()\n",
    ")\n",
    "given_03_01 = given_03_01.reset_index()\n",
    "given_03_01 = given_03_01[given_03_01.Date == \"2024-01-03\"]"
   ]
  },
  {
   "cell_type": "code",
   "execution_count": null,
   "metadata": {},
   "outputs": [],
   "source": [
    "given_03_01[\"Wait Time\"].value_counts()"
   ]
  },
  {
   "cell_type": "code",
   "execution_count": null,
   "metadata": {},
   "outputs": [],
   "source": [
    "opt_03_01 = (\n",
    "    df_agendas_opt[(df_agendas_opt[\"Task\"] == \"Wait Time\")]\n",
    "    .groupby([\"Date\", \"ID Intervenant\", \"Commute Method\"])[\"Wait Time\"]\n",
    "    .count()\n",
    ")\n",
    "opt_03_01 = opt_03_01.reset_index()\n",
    "opt_03_01 = opt_03_01[opt_03_01.Date == \"2024-01-03\"]"
   ]
  },
  {
   "cell_type": "code",
   "execution_count": null,
   "metadata": {},
   "outputs": [],
   "source": [
    "opt_03_01[\"Wait Time\"].value_counts()"
   ]
  },
  {
   "cell_type": "markdown",
   "metadata": {},
   "source": [
    "## Box plots of commute time"
   ]
  },
  {
   "cell_type": "code",
   "execution_count": null,
   "metadata": {},
   "outputs": [],
   "source": [
    "file_path = \"../data/ChallengeXHEC23022024.xlsx\"\n",
    "excel_data = pd.ExcelFile(file_path)\n",
    "intervenants_df = pd.read_excel(excel_data, sheet_name=\"intervenants\")\n",
    "intervenants_df[\"Commute Method\"] = intervenants_df[\"Véhicule personnel\"].map(\n",
    "    {\"Oui\": \"driving\", \"Non\": \"bicycling\", np.nan: \"bicycling\"}\n",
    ")"
   ]
  },
  {
   "cell_type": "code",
   "execution_count": null,
   "metadata": {},
   "outputs": [],
   "source": [
    "daily_commute_sum = df_agendas_given.groupby(\n",
    "    [\"ID Intervenant\", \"Date\"], as_index=False\n",
    ")[\"Commute Time\"].sum()\n",
    "daily_commute_sum = daily_commute_sum.merge(\n",
    "    intervenants_df[[\"ID Intervenant\", \"Commute Method\"]],\n",
    "    on=\"ID Intervenant\",\n",
    "    how=\"left\",\n",
    ")\n",
    "daily_commute_sum[\"ID Intervenant\"] = daily_commute_sum[\n",
    "    \"ID Intervenant\"\n",
    "].astype(str)\n",
    "\n",
    "fig = px.box(\n",
    "    daily_commute_sum,\n",
    "    x=\"ID Intervenant\",\n",
    "    y=\"Commute Time\",\n",
    "    color=\"Commute Method\",\n",
    "    title=\"Total Commute Time per Day per Intervenant - Given Schedule\",\n",
    "    color_discrete_map={\"driving\": \"#013D5C\", \"bicycling\": \"#237250\"},\n",
    ")\n",
    "# fig.update_layout(\n",
    "#     paper_bgcolor='rgba(0,0,0,0)',\n",
    "#     plot_bgcolor='rgba(0,0,0,0)',\n",
    "#     width=1200,\n",
    "#     height=400,\n",
    "# )\n",
    "\n",
    "fig.show()"
   ]
  },
  {
   "cell_type": "code",
   "execution_count": null,
   "metadata": {},
   "outputs": [],
   "source": [
    "daily_commute_sum = df_agendas_opt.groupby(\n",
    "    [\"ID Intervenant\", \"Date\"], as_index=False\n",
    ")[\"Commute Time\"].sum()\n",
    "daily_commute_sum = daily_commute_sum.merge(\n",
    "    intervenants_df[[\"ID Intervenant\", \"Commute Method\"]],\n",
    "    on=\"ID Intervenant\",\n",
    "    how=\"left\",\n",
    ")\n",
    "daily_commute_sum[\"ID Intervenant\"] = daily_commute_sum[\n",
    "    \"ID Intervenant\"\n",
    "].astype(str)\n",
    "\n",
    "fig = px.box(\n",
    "    daily_commute_sum,\n",
    "    x=\"ID Intervenant\",\n",
    "    y=\"Commute Time\",\n",
    "    color=\"Commute Method\",\n",
    "    title=\"Total Commute Time per Day per Intervenant - Optimised Schedule\",\n",
    "    color_discrete_map={\"driving\": \"#013D5C\", \"bicycling\": \"#237250\"},\n",
    ")\n",
    "\n",
    "fig.show()"
   ]
  },
  {
   "cell_type": "code",
   "execution_count": null,
   "metadata": {},
   "outputs": [],
   "source": []
  }
 ],
 "metadata": {
  "kernelspec": {
   "display_name": ".venv",
   "language": "python",
   "name": "python3"
  },
  "language_info": {
   "codemirror_mode": {
    "name": "ipython",
    "version": 3
   },
   "file_extension": ".py",
   "mimetype": "text/x-python",
   "name": "python",
   "nbconvert_exporter": "python",
   "pygments_lexer": "ipython3",
   "version": "3.10.7"
  }
 },
 "nbformat": 4,
 "nbformat_minor": 2
}
