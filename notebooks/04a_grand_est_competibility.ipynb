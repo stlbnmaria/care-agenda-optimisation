{
 "cells": [
  {
   "cell_type": "code",
   "execution_count": null,
   "metadata": {},
   "outputs": [],
   "source": [
    "from pathlib import Path\n",
    "\n",
    "import pandas as pd\n",
    "import matplotlib.pyplot as plt\n",
    "import numpy as np\n",
    "import geopandas as gpd\n",
    "import folium\n",
    "from folium.plugins import MarkerCluster\n",
    "from IPython.display import display\n",
    "from shapely.geometry import Point\n",
    "from sklearn.preprocessing import MinMaxScaler"
   ]
  },
  {
   "cell_type": "markdown",
   "metadata": {},
   "source": [
    "Personal Vehicle Data Source: https://www.insee.fr/fr/statistiques/2012694#graphique-TCRD_001_tab1_regions2016"
   ]
  },
  {
   "cell_type": "code",
   "execution_count": null,
   "metadata": {},
   "outputs": [],
   "source": [
    "personal_vehicles_file = Path(\"../data/TCRD_001.xlsx\")\n",
    "excel_file = Path(\"../data/base-ic-evol-struct-pop-2019.xlsx\")\n",
    "domicile_file = Path(\"../data/ac_ina_125.xlsx\")"
   ]
  },
  {
   "cell_type": "code",
   "execution_count": null,
   "metadata": {},
   "outputs": [],
   "source": [
    "# Personal Vehicles Info\n",
    "personal_vehicles = pd.read_excel(\n",
    "    personal_vehicles_file, sheet_name=0, skiprows=3\n",
    ")\n",
    "personal_vehicles = personal_vehicles.rename(columns={\"Unnamed: 0\": \"DEP\"})\n",
    "dep_to_car_rate_mapping = dict(\n",
    "    zip(\n",
    "        personal_vehicles[\"DEP\"],\n",
    "        personal_vehicles[\"Taux d’équipement des ménages\"],\n",
    "    )\n",
    ")\n",
    "\n",
    "# Share of elderly people using at-home services\n",
    "domicile_rates = pd.read_excel(domicile_file, sheet_name=2, skiprows=2)\n",
    "dep_to_domicile_rates_mapping = dict(\n",
    "    zip(\n",
    "        domicile_rates[\"Département\"],\n",
    "        domicile_rates[\n",
    "            \"Part des personnes âgées dépendantes vivant en ménage en 2015 (%)\"\n",
    "        ],\n",
    "    )\n",
    ")\n",
    "\n",
    "statistics = pd.read_excel(excel_file, sheet_name=0, skiprows=5)\n",
    "com_to_reg_mapping = dict(zip(statistics[\"COM\"], statistics[\"DEP\"]))"
   ]
  },
  {
   "cell_type": "code",
   "execution_count": null,
   "metadata": {},
   "outputs": [],
   "source": [
    "df = pd.read_csv(\"../data/df_question_1.csv\")\n",
    "df.drop([\"geometry\", \"nom\", \"code\"], axis=1, inplace=True)\n",
    "df[\"COM\"] = df[\"COM\"].astype(str)\n",
    "df[\"DEP\"] = df[\"COM\"].map(com_to_reg_mapping)\n",
    "df[\"personal_vehicle_rate\"] = df[\"DEP\"].map(dep_to_car_rate_mapping) / 100\n",
    "df[\"at_home_rate\"] = df[\"DEP\"].map(dep_to_domicile_rates_mapping) / 100\n",
    "df.head(5)"
   ]
  },
  {
   "cell_type": "markdown",
   "metadata": {},
   "source": [
    "## Question 2: Based on web/public data concerning local players, estimate the competitive intensity (number of competitors, estimated turnover & number of employees, etc.)ineachofthemaincity."
   ]
  },
  {
   "cell_type": "markdown",
   "metadata": {},
   "source": [
    "### Availability of personal cars"
   ]
  },
  {
   "cell_type": "code",
   "execution_count": null,
   "metadata": {},
   "outputs": [],
   "source": [
    "geojson_file = Path(\"../data/communes.geojson\")\n",
    "gdf = gpd.read_file(geojson_file)\n",
    "gdf = gdf.merge(df, left_on=\"code\", right_on=\"COM\")"
   ]
  },
  {
   "cell_type": "code",
   "execution_count": null,
   "metadata": {},
   "outputs": [],
   "source": [
    "# gdf['log_count_soins_a_domicile'] = np.log(gdf['count_soins_a_domicile'] + 1)\n",
    "gdf.plot(\n",
    "    column=\"personal_vehicle_rate\", cmap=\"Greens\", legend=True, figsize=(10, 5)\n",
    ")\n",
    "plt.xlabel(\"Longitude\")\n",
    "plt.ylabel(\"Latitude\")\n",
    "plt.show()"
   ]
  },
  {
   "cell_type": "markdown",
   "metadata": {},
   "source": [
    "### Competitve Analysis: Indirect Competitors - Infirmier and Hébergement des personnes âgées"
   ]
  },
  {
   "cell_type": "code",
   "execution_count": null,
   "metadata": {},
   "outputs": [],
   "source": [
    "gdf[\"log_Infirmier (en nombre) 2021\"] = np.log(\n",
    "    gdf[\"Infirmier (en nombre) 2021\"] + 1\n",
    ")\n",
    "gdf.plot(\n",
    "    column=\"log_Infirmier (en nombre) 2021\",\n",
    "    cmap=\"cividis\",\n",
    "    legend=True,\n",
    "    figsize=(10, 5),\n",
    ")\n",
    "plt.show()"
   ]
  },
  {
   "cell_type": "code",
   "execution_count": null,
   "metadata": {},
   "outputs": [],
   "source": [
    "gdf[\"log_Hébergement des personnes âgées (en nombre) 2021\"] = np.log(\n",
    "    gdf[\"Hébergement des personnes âgées (en nombre) 2021\"] + 1\n",
    ")\n",
    "gdf.plot(\n",
    "    column=\"log_Hébergement des personnes âgées (en nombre) 2021\",\n",
    "    cmap=\"cividis\",\n",
    "    legend=True,\n",
    "    figsize=(10, 5),\n",
    ")\n",
    "plt.show()"
   ]
  },
  {
   "cell_type": "markdown",
   "metadata": {},
   "source": [
    "### Home Care Services: Competitve Analysis"
   ]
  },
  {
   "cell_type": "markdown",
   "metadata": {},
   "source": [
    "Data source: https://www.data.gouv.fr/fr/datasets/services-daide-et-de-soins-a-domicile/"
   ]
  },
  {
   "cell_type": "code",
   "execution_count": null,
   "metadata": {},
   "outputs": [],
   "source": [
    "soins_a_domicile_file = Path(\"../data/base-soins-a-domicile.xlsx\")\n",
    "soins_a_domicile = pd.read_excel(\n",
    "    soins_a_domicile_file, sheet_name=0, skiprows=0\n",
    ")\n",
    "soins_a_domicile.head(3)"
   ]
  },
  {
   "cell_type": "code",
   "execution_count": null,
   "metadata": {},
   "outputs": [],
   "source": [
    "soins_a_domicile = soins_a_domicile.dropna(\n",
    "    subset=[\"coordinates.latitude\", \"coordinates.longitude\"]\n",
    ")\n",
    "m = folium.Map(location=[48.9131, 5.4426], zoom_start=7)\n",
    "marker_cluster = MarkerCluster().add_to(m)\n",
    "\n",
    "for index, row in soins_a_domicile.iterrows():\n",
    "    latitude = row[\"coordinates.latitude\"]\n",
    "    longitude = row[\"coordinates.longitude\"]\n",
    "\n",
    "    folium.Marker(\n",
    "        location=[latitude, longitude], popup=row[\"title\"], icon=None\n",
    "    ).add_to(marker_cluster)\n",
    "\n",
    "display(m)"
   ]
  },
  {
   "cell_type": "code",
   "execution_count": null,
   "metadata": {},
   "outputs": [],
   "source": [
    "geojson_file = Path(\"../data/communes.geojson\")\n",
    "gdf = gpd.read_file(geojson_file)\n",
    "gdf = gdf[gdf[\"code\"].isin(df[\"COM\"].astype(str))]"
   ]
  },
  {
   "cell_type": "code",
   "execution_count": null,
   "metadata": {},
   "outputs": [],
   "source": [
    "soins_a_domicile_geometry = [\n",
    "    Point(xy)\n",
    "    for xy in zip(\n",
    "        soins_a_domicile[\"coordinates.longitude\"],\n",
    "        soins_a_domicile[\"coordinates.latitude\"],\n",
    "    )\n",
    "]\n",
    "soins_a_domicile_gdf = gpd.GeoDataFrame(\n",
    "    soins_a_domicile, geometry=soins_a_domicile_geometry\n",
    ")\n",
    "\n",
    "# Perform spatial join\n",
    "result = gpd.sjoin(gdf, soins_a_domicile_gdf, how=\"left\", op=\"contains\")\n",
    "count_per_location = (\n",
    "    result.groupby(\"code\").size().reset_index(name=\"count_soins_a_domicile\")\n",
    ")\n",
    "gdf = gdf.merge(count_per_location, on=\"code\", how=\"left\")\n",
    "gdf[\"count_soins_a_domicile\"] = (\n",
    "    gdf[\"count_soins_a_domicile\"].fillna(0).astype(int)\n",
    ")"
   ]
  },
  {
   "cell_type": "code",
   "execution_count": null,
   "metadata": {},
   "outputs": [],
   "source": [
    "code_to_house_service_mapping = dict(\n",
    "    zip(gdf[\"code\"], gdf[\"count_soins_a_domicile\"])\n",
    ")\n",
    "df[\"house_services\"] = df[\"COM\"].map(code_to_house_service_mapping)"
   ]
  },
  {
   "cell_type": "code",
   "execution_count": null,
   "metadata": {},
   "outputs": [],
   "source": [
    "gdf[\"log_count_soins_a_domicile\"] = np.log(gdf[\"count_soins_a_domicile\"] + 1)\n",
    "gdf.plot(\n",
    "    column=\"log_count_soins_a_domicile\",\n",
    "    cmap=\"cividis\",\n",
    "    legend=True,\n",
    "    figsize=(10, 5),\n",
    ")\n",
    "plt.xlabel(\"Longitude\")\n",
    "plt.ylabel(\"Latitude\")\n",
    "plt.show()"
   ]
  },
  {
   "cell_type": "markdown",
   "metadata": {},
   "source": [
    "## Question 3: Based on web/public data concerning local players, estimate the competitive intensity (number of competitors, estimated turnover & number of employees, etc.)ineachofthemaincity."
   ]
  },
  {
   "cell_type": "code",
   "execution_count": null,
   "metadata": {},
   "outputs": [],
   "source": [
    "AVG_PRICE = 300\n",
    "AVG_SALARY = 2000\n",
    "\n",
    "AVG_WORKFORCE_PER_CLIENT = 0.2\n",
    "\n",
    "NURSES_WEIGHT = 0.05\n",
    "RESIDENCE_WEIGHT = 0.5\n",
    "\n",
    "PROB_SERVICE_USAGE = 0.3"
   ]
  },
  {
   "cell_type": "code",
   "execution_count": null,
   "metadata": {},
   "outputs": [],
   "source": [
    "scaler = MinMaxScaler()\n",
    "df[\"solvency_norm\"] = scaler.fit_transform(df[[\"solvency\"]])\n",
    "df[\"density_norm\"] = scaler.fit_transform(df[[\"density\"]])\n",
    "\n",
    "df[\"competitors\"] = (\n",
    "    df[\"house_services\"]\n",
    "    + NURSES_WEIGHT * df[\"Infirmier (en nombre) 2021\"]\n",
    "    + RESIDENCE_WEIGHT * df[\"Hébergement des personnes âgées (en nombre) 2021\"]\n",
    ")\n",
    "df[\"clients\"] = (\n",
    "    df[\"target_population\"]\n",
    "    * PROB_SERVICE_USAGE\n",
    "    * df[\"at_home_rate\"]\n",
    "    / df[\"competitors\"]\n",
    ")\n",
    "solvency_rate = 1 + df[\"solvency_norm\"]\n",
    "df[\"expected_turnover\"] = df[\"clients\"] * solvency_rate * AVG_PRICE"
   ]
  },
  {
   "cell_type": "code",
   "execution_count": null,
   "metadata": {},
   "outputs": [],
   "source": [
    "productivity_increase_coef = 1 + 0.8 * df[\"personal_vehicle_rate\"]\n",
    "productivity_decrease_coef = 1 - df[\"density_norm\"] * 0.2\n",
    "\n",
    "df[\"expenses\"] = (\n",
    "    AVG_WORKFORCE_PER_CLIENT\n",
    "    * productivity_increase_coef\n",
    "    * productivity_decrease_coef\n",
    "    * AVG_SALARY\n",
    ")"
   ]
  },
  {
   "cell_type": "code",
   "execution_count": null,
   "metadata": {},
   "outputs": [],
   "source": [
    "df[\"expected_profit\"] = df[\"expected_turnover\"] - df[\"expenses\"]\n",
    "df.sort_values(by=\"expected_profit\", ascending=False).head(10)"
   ]
  },
  {
   "cell_type": "code",
   "execution_count": null,
   "metadata": {},
   "outputs": [],
   "source": [
    "# Cities by expected profit\n",
    "\n",
    "gdf = gpd.read_file(geojson_file)\n",
    "gdf = gdf.merge(df, left_on=\"code\", right_on=\"COM\")\n",
    "\n",
    "fig, ax = plt.subplots(1, 1, figsize=(15, 5))\n",
    "gdf.plot(\n",
    "    column=\"expected_profit\",\n",
    "    cmap=\"Greens\",\n",
    "    linewidth=0.8,\n",
    "    ax=ax,\n",
    "    edgecolor=\"0.8\",\n",
    "    legend=True,\n",
    ")\n",
    "\n",
    "ax.set_axis_off()\n",
    "plt.show()"
   ]
  }
 ],
 "metadata": {
  "kernelspec": {
   "display_name": ".venv",
   "language": "python",
   "name": "python3"
  },
  "language_info": {
   "codemirror_mode": {
    "name": "ipython",
    "version": 3
   },
   "file_extension": ".py",
   "mimetype": "text/x-python",
   "name": "python",
   "nbconvert_exporter": "python",
   "pygments_lexer": "ipython3",
   "version": "3.11.4"
  }
 },
 "nbformat": 4,
 "nbformat_minor": 2
}
