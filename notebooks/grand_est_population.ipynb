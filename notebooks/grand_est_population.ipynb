{
 "cells": [
  {
   "cell_type": "code",
   "execution_count": null,
   "metadata": {},
   "outputs": [],
   "source": [
    "import warnings\n",
    "\n",
    "warnings.simplefilter(\"ignore\")"
   ]
  },
  {
   "cell_type": "code",
   "execution_count": null,
   "metadata": {},
   "outputs": [],
   "source": [
    "from pathlib import Path\n",
    "\n",
    "import pandas as pd\n",
    "import matplotlib.pyplot as plt\n",
    "import numpy as np\n",
    "import geopandas as gpd"
   ]
  },
  {
   "cell_type": "code",
   "execution_count": null,
   "metadata": {},
   "outputs": [],
   "source": [
    "medical_file = Path(\"../data/medical_data.xlsx\")\n",
    "excel_file = Path(\"../data/base-ic-evol-struct-pop-2019.xlsx\")\n",
    "surface_file = Path(\"../data/insee_rp_hist_1968.xlsx\")\n",
    "geojson_file = Path(\"../data/communes.geojson\")"
   ]
  },
  {
   "cell_type": "code",
   "execution_count": null,
   "metadata": {},
   "outputs": [],
   "source": [
    "# Upload geojson data for each com\n",
    "\n",
    "gdf = gpd.read_file(geojson_file)\n",
    "gdf.head(5)"
   ]
  },
  {
   "cell_type": "code",
   "execution_count": null,
   "metadata": {},
   "outputs": [],
   "source": [
    "statistics = pd.read_excel(excel_file, sheet_name=0, skiprows=5)\n",
    "grand_est_stats = statistics[statistics[\"REG\"] == 44]\n",
    "\n",
    "grand_est_stats.head(5)"
   ]
  },
  {
   "cell_type": "code",
   "execution_count": null,
   "metadata": {},
   "outputs": [],
   "source": [
    "elder_population_columns = [\n",
    "    \"COM\",\n",
    "    \"LIBCOM\",\n",
    "    \"P19_POP\",\n",
    "    \"P19_POP5564\",\n",
    "    \"P19_POP6579\",\n",
    "    \"P19_POP80P\",\n",
    "]\n",
    "\n",
    "grand_est_stats = (\n",
    "    grand_est_stats[elder_population_columns]\n",
    "    .groupby(\"COM\")\n",
    "    .agg(\n",
    "        {\n",
    "            \"LIBCOM\": \"first\",\n",
    "            \"P19_POP\": \"sum\",\n",
    "            \"P19_POP5564\": \"sum\",\n",
    "            \"P19_POP6579\": \"sum\",\n",
    "            \"P19_POP80P\": \"sum\",\n",
    "        }\n",
    "    )\n",
    "    .reset_index()\n",
    ")\n",
    "\n",
    "grand_est_stats.head(5)"
   ]
  },
  {
   "cell_type": "code",
   "execution_count": null,
   "metadata": {},
   "outputs": [],
   "source": [
    "medical_data = pd.read_excel(medical_file, sheet_name=0, skiprows=3)\n",
    "numerical_columns = [\n",
    "    \"Médiane du niveau de vie 2021\",\n",
    "    \"Hébergement des personnes âgées (en nombre) 2021\",\n",
    "    \"Infirmier (en nombre) 2021\",\n",
    "]\n",
    "\n",
    "for column in numerical_columns:\n",
    "    medical_data[column] = pd.to_numeric(medical_data[column], errors=\"coerce\")\n",
    "    medical_data.dropna(subset=[column], inplace=True)\n",
    "\n",
    "medical_data.head(5)"
   ]
  },
  {
   "cell_type": "code",
   "execution_count": null,
   "metadata": {},
   "outputs": [],
   "source": [
    "surface = pd.read_excel(surface_file, sheet_name=0, skiprows=4)\n",
    "numerical_columns = [\"an\", \"superf_choro\"]\n",
    "\n",
    "for column in numerical_columns:\n",
    "    surface[column] = pd.to_numeric(surface[column], errors=\"coerce\")\n",
    "    surface.dropna(subset=[column], inplace=True)\n",
    "\n",
    "surface = surface.loc[surface.groupby(\"codgeo\")[\"an\"].idxmax()]\n",
    "surface.head(5)"
   ]
  },
  {
   "cell_type": "code",
   "execution_count": null,
   "metadata": {},
   "outputs": [],
   "source": [
    "df = pd.merge(\n",
    "    grand_est_stats, medical_data, left_on=\"COM\", right_on=\"Code\", how=\"inner\"\n",
    ")\n",
    "df = pd.merge(df, surface, left_on=\"COM\", right_on=\"codgeo\", how=\"inner\")\n",
    "df.head(5)"
   ]
  },
  {
   "cell_type": "markdown",
   "metadata": {},
   "source": [
    "### Question#1: Based on available public data, estimate the addressable market (in terms of number of potential clients) in each city, and the density of the number of potential clients"
   ]
  },
  {
   "cell_type": "code",
   "execution_count": null,
   "metadata": {},
   "outputs": [],
   "source": [
    "# Coefficient of importance of long-run target population effect\n",
    "\n",
    "LR_POPULATION_COEF = 0.2"
   ]
  },
  {
   "cell_type": "code",
   "execution_count": null,
   "metadata": {},
   "outputs": [],
   "source": [
    "df.drop([\"Code\", \"Libellé\", \"codgeo\", \"libgeo\", \"an\"], axis=1, inplace=True)\n",
    "\n",
    "# Create key features columns: target_population, density and solvency\n",
    "df[\"target_population\"] = df[\"P19_POP80P\"]\n",
    "+LR_POPULATION_COEF * (df[\"P19_POP6579\"] + df[\"P19_POP5564\"])\n",
    "df[\"density\"] = df[\"target_population\"] / df[\"superf_choro\"]\n",
    "df[\"solvency\"] = pd.to_numeric(\n",
    "    df[\"Médiane du niveau de vie 2021\"], errors=\"coerce\"\n",
    ")\n",
    "\n",
    "df.head(5)"
   ]
  },
  {
   "cell_type": "code",
   "execution_count": null,
   "metadata": {},
   "outputs": [],
   "source": [
    "df = gdf.merge(df, left_on=\"code\", right_on=\"COM\")\n",
    "df.sort_values(by=\"target_population\", ascending=False).head(5)"
   ]
  },
  {
   "cell_type": "code",
   "execution_count": null,
   "metadata": {},
   "outputs": [],
   "source": [
    "fig, ax = plt.subplots(1, 1, figsize=(15, 10))\n",
    "\n",
    "df.plot(\n",
    "    column=\"target_population\",\n",
    "    cmap=\"Greens\",\n",
    "    linewidth=0.8,\n",
    "    ax=ax,\n",
    "    edgecolor=\"0.8\",\n",
    "    legend=True,\n",
    ")\n",
    "plt.title(\"Targer Population\", fontsize=16)\n",
    "ax.set_axis_off()\n",
    "plt.show()\n",
    "\n",
    "df[\"target_population_log\"] = np.log1p(df[\"target_population\"])\n",
    "fig, ax = plt.subplots(1, 1, figsize=(15, 10))\n",
    "df.plot(\n",
    "    column=\"target_population_log\",\n",
    "    cmap=\"Greens\",\n",
    "    linewidth=0.8,\n",
    "    ax=ax,\n",
    "    edgecolor=\"0.8\",\n",
    "    legend=True,\n",
    ")\n",
    "plt.title(\"Log-transformed Target Population\", fontsize=16)\n",
    "ax.set_axis_off()\n",
    "plt.show()\n",
    "\n",
    "fig, ax = plt.subplots(1, 1, figsize=(15, 10))\n",
    "df.plot(\n",
    "    column=\"density\",\n",
    "    cmap=\"Reds\",\n",
    "    linewidth=0.8,\n",
    "    ax=ax,\n",
    "    edgecolor=\"0.8\",\n",
    "    legend=True,\n",
    ")\n",
    "plt.title(\"Density\", fontsize=16)\n",
    "ax.set_axis_off()\n",
    "plt.show()\n",
    "\n",
    "fig, ax = plt.subplots(1, 1, figsize=(15, 10))\n",
    "df.plot(\n",
    "    column=\"solvency\",\n",
    "    cmap=\"Blues\",\n",
    "    linewidth=0.8,\n",
    "    ax=ax,\n",
    "    edgecolor=\"0.8\",\n",
    "    legend=True,\n",
    ")\n",
    "plt.title(\"Solvency\", fontsize=16)\n",
    "ax.set_axis_off()\n",
    "plt.show()"
   ]
  },
  {
   "cell_type": "markdown",
   "metadata": {},
   "source": [
    "It's obvious that Strasbourg, Reims, Metz, Mulhouse and Nancy are outliers as the lasrgest cities in Grand Est. They make it difficult to do the further analysis. So we would remove it from the dataset and return to them later"
   ]
  },
  {
   "cell_type": "code",
   "execution_count": null,
   "metadata": {},
   "outputs": [],
   "source": [
    "df = df.sort_values(by=\"target_population\", ascending=False)\n",
    "df_without_top_15 = df.iloc[15:]\n",
    "\n",
    "fig, ax = plt.subplots(1, 1, figsize=(15, 10))\n",
    "df_without_top_15.plot(\n",
    "    column=\"target_population\",\n",
    "    cmap=\"Greens\",\n",
    "    linewidth=0.8,\n",
    "    ax=ax,\n",
    "    edgecolor=\"0.8\",\n",
    "    legend=True,\n",
    ")\n",
    "\n",
    "plt.title(\"Targer Population in Cities\", fontsize=16)\n",
    "ax.set_axis_off()\n",
    "plt.show()"
   ]
  },
  {
   "cell_type": "code",
   "execution_count": null,
   "metadata": {},
   "outputs": [],
   "source": [
    "import matplotlib.pyplot as plt\n",
    "import seaborn as sns\n",
    "\n",
    "# Boxplots for target_population, density and solvency\n",
    "fig, axes = plt.subplots(1, 3, figsize=(18, 6))\n",
    "\n",
    "sns.boxplot(data=df[\"target_population\"], ax=axes[0])\n",
    "axes[0].set_title(\"Boxplot - Target Population\")\n",
    "\n",
    "sns.boxplot(data=df[\"density\"], ax=axes[1])\n",
    "axes[1].set_title(\"Boxplot - Density\")\n",
    "\n",
    "sns.boxplot(data=df[\"solvency\"], ax=axes[2])\n",
    "axes[2].set_title(\"Boxplot - Solvency\")\n",
    "\n",
    "plt.tight_layout()\n",
    "plt.show()\n",
    "\n",
    "\n",
    "# Boxplots for target_population, density and solvency without top 15 cities\n",
    "fig, axes = plt.subplots(1, 3, figsize=(18, 6))\n",
    "\n",
    "sns.boxplot(\n",
    "    data=df_without_top_15[[\"target_population\", \"density\", \"solvency\"]][\n",
    "        \"target_population\"\n",
    "    ],\n",
    "    ax=axes[0],\n",
    ")\n",
    "axes[0].set_title(\"Boxplot - Target Population\")\n",
    "\n",
    "sns.boxplot(\n",
    "    data=df_without_top_15[[\"target_population\", \"density\", \"solvency\"]][\n",
    "        \"density\"\n",
    "    ],\n",
    "    ax=axes[1],\n",
    ")\n",
    "axes[1].set_title(\"Boxplot - Density\")\n",
    "\n",
    "sns.boxplot(\n",
    "    data=df_without_top_15[[\"target_population\", \"density\", \"solvency\"]][\n",
    "        \"solvency\"\n",
    "    ],\n",
    "    ax=axes[2],\n",
    ")\n",
    "axes[2].set_title(\"Boxplot - Solvency\")\n",
    "\n",
    "plt.tight_layout()\n",
    "plt.show()"
   ]
  },
  {
   "cell_type": "code",
   "execution_count": null,
   "metadata": {},
   "outputs": [],
   "source": [
    "from sklearn.preprocessing import MinMaxScaler\n",
    "\n",
    "scaler = MinMaxScaler()\n",
    "columns_to_scale = [\"target_population\", \"density\", \"solvency\"]\n",
    "\n",
    "for column in columns_to_scale:\n",
    "    new_column_name = column + \"_norm\"\n",
    "    df_without_top_15[new_column_name] = scaler.fit_transform(\n",
    "        df_without_top_15[[column]]\n",
    "    )\n",
    "\n",
    "df_without_top_15.head(5)"
   ]
  },
  {
   "cell_type": "code",
   "execution_count": null,
   "metadata": {},
   "outputs": [],
   "source": [
    "weights = {\"target_population\": 0.7, \"density\": 0.2, \"solvency\": 0.1}\n",
    "\n",
    "df_without_top_15[\"addressable_market_score\"] = (\n",
    "    df_without_top_15[\"target_population\"] * weights[\"target_population\"]\n",
    "    + df_without_top_15[\"density\"] * weights[\"density\"]\n",
    "    + df_without_top_15[\"solvency\"] * weights[\"solvency\"]\n",
    ")\n",
    "addressable_market_ranking = df_without_top_15.sort_values(\n",
    "    by=\"addressable_market_score\", ascending=False\n",
    ")\n",
    "\n",
    "scaler = MinMaxScaler()\n",
    "\n",
    "df_without_top_15[[\"addressable_market_score\"]] = scaler.fit_transform(\n",
    "    df_without_top_15[[\"addressable_market_score\"]]\n",
    ")\n",
    "\n",
    "fig, ax = plt.subplots(1, 1, figsize=(15, 10))\n",
    "df_without_top_15.plot(\n",
    "    column=\"addressable_market_score\",\n",
    "    cmap=\"Greens\",\n",
    "    linewidth=0.8,\n",
    "    ax=ax,\n",
    "    edgecolor=\"0.8\",\n",
    "    legend=True,\n",
    ")\n",
    "\n",
    "ax.set_axis_off()\n",
    "plt.show()"
   ]
  },
  {
   "cell_type": "code",
   "execution_count": null,
   "metadata": {},
   "outputs": [],
   "source": [
    "df.to_csv(\"../data/df_question_1.csv\", index=False)\n",
    "df_without_top_15.to_csv(\n",
    "    \"../data/df_without_top_15_question_1.csv\", index=False\n",
    ")"
   ]
  }
 ],
 "metadata": {
  "kernelspec": {
   "display_name": ".venv",
   "language": "python",
   "name": "python3"
  },
  "language_info": {
   "codemirror_mode": {
    "name": "ipython",
    "version": 3
   },
   "file_extension": ".py",
   "mimetype": "text/x-python",
   "name": "python",
   "nbconvert_exporter": "python",
   "pygments_lexer": "ipython3",
   "version": "3.11.4"
  }
 },
 "nbformat": 4,
 "nbformat_minor": 2
}
