{
 "cells": [
  {
   "cell_type": "code",
   "execution_count": null,
   "metadata": {},
   "outputs": [],
   "source": [
    "from pathlib import Path\n",
    "\n",
    "import pandas as pd\n",
    "import matplotlib.pyplot as plt\n",
    "import numpy as np"
   ]
  },
  {
   "cell_type": "code",
   "execution_count": null,
   "metadata": {},
   "outputs": [],
   "source": [
    "excel_file = Path(\"../data/base-ic-evol-struct-pop-2019.xlsx\")"
   ]
  },
  {
   "cell_type": "code",
   "execution_count": null,
   "metadata": {},
   "outputs": [],
   "source": [
    "statistics = pd.read_excel(excel_file, sheet_name=0, skiprows=5)\n",
    "grand_est_stats = statistics[statistics[\"REG\"] == 44]"
   ]
  },
  {
   "cell_type": "code",
   "execution_count": null,
   "metadata": {},
   "outputs": [],
   "source": [
    "grand_est_stats.head(5)"
   ]
  },
  {
   "cell_type": "code",
   "execution_count": null,
   "metadata": {},
   "outputs": [],
   "source": [
    "population_dist_cols = [\n",
    "    \"DEP\",\n",
    "    # \"LIBCOM\",\n",
    "    \"P19_POP0002\",\n",
    "    \"P19_POP0305\",\n",
    "    \"P19_POP0610\",\n",
    "    \"P19_POP1117\",\n",
    "    \"P19_POP1824\",\n",
    "    \"P19_POP2539\",\n",
    "    \"P19_POP4054\",\n",
    "    \"P19_POP5564\",\n",
    "    \"P19_POP6579\",\n",
    "    \"P19_POP80P\",\n",
    "]"
   ]
  },
  {
   "cell_type": "code",
   "execution_count": null,
   "metadata": {},
   "outputs": [],
   "source": [
    "grand_est_population = grand_est_stats[population_dist_cols]\n",
    "grand_est_population"
   ]
  },
  {
   "cell_type": "code",
   "execution_count": null,
   "metadata": {},
   "outputs": [],
   "source": [
    "total_distribution = grand_est_population.groupby(\"DEP\").sum()\n",
    "\n",
    "# Plotting the total distribution for each DEP\n",
    "plt.figure(figsize=(12, 6))\n",
    "total_distribution.plot(kind=\"bar\", stacked=True)\n",
    "plt.title(\"Total Distribution for Each DEP\")\n",
    "plt.xlabel(\"DEP (Department)\")\n",
    "plt.ylabel(\"Total Distribution\")\n",
    "plt.legend(title=\"Age Groups\", bbox_to_anchor=(1.05, 1), loc=\"upper left\")\n",
    "plt.show()"
   ]
  },
  {
   "cell_type": "code",
   "execution_count": null,
   "metadata": {},
   "outputs": [],
   "source": [
    "categories = [\n",
    "    \"P19_POP0002\",\n",
    "    \"P19_POP0305\",\n",
    "    \"P19_POP0610\",\n",
    "    \"P19_POP1117\",\n",
    "    \"P19_POP1824\",\n",
    "    \"P19_POP2539\",\n",
    "    \"P19_POP4054\",\n",
    "    \"P19_POP5564\",\n",
    "    \"P19_POP6579\",\n",
    "    \"P19_POP80P\",\n",
    "]\n",
    "cleaned_categories = [\n",
    "    category.replace(\"P19_POP\", \"\")[:2]\n",
    "    + \"-\"\n",
    "    + category.replace(\"P19_POP\", \"\")[2:]\n",
    "    for category in categories\n",
    "]\n",
    "cleaned_categories[-1] = \"80+\"\n",
    "\n",
    "sum_values_all_deps = (\n",
    "    grand_est_population.groupby(\"DEP\")[categories].sum().sum()\n",
    ")\n",
    "colors = [\"orange\"] * 3 + [\"lightgrey\"] * 5 + [\"#227250\", \"orange\"]\n",
    "# '#A4DD66'\n",
    "\n",
    "plt.figure(figsize=(10, 5))\n",
    "\n",
    "plt.bar(cleaned_categories, sum_values_all_deps, color=colors)\n",
    "plt.title(\n",
    "    \"Grand Est Popoulation by Age Distribution\", weight=\"bold\", fontsize=25\n",
    ")\n",
    "# plt.xlabel('Age Categories', weight='bold')\n",
    "plt.xticks(ha=\"center\", weight=\"bold\", fontsize=18)\n",
    "\n",
    "plt.tight_layout()\n",
    "plt.show()"
   ]
  },
  {
   "cell_type": "code",
   "execution_count": null,
   "metadata": {},
   "outputs": [],
   "source": [
    "unique_departments = grand_est_population[\"DEP\"].unique()\n",
    "\n",
    "num_rows = int(np.ceil(len(unique_departments) / 5))\n",
    "num_cols = 5\n",
    "\n",
    "fig, axs = plt.subplots(num_rows, num_cols, figsize=(15, 2 * num_rows))\n",
    "\n",
    "for i, dep in enumerate(unique_departments):\n",
    "    row_index = i // num_cols\n",
    "    col_index = i % num_cols\n",
    "\n",
    "    dep_data = grand_est_population[grand_est_population[\"DEP\"] == dep].drop(\n",
    "        columns=[\"DEP\"]\n",
    "    )\n",
    "    sum_values = dep_data.sum()\n",
    "\n",
    "    axs[row_index, col_index].bar(cleaned_categories, sum_values)\n",
    "    axs[row_index, col_index].set_title(f\"Département {dep}\")\n",
    "    axs[row_index, col_index].set_xlabel(\"Age Categories\")\n",
    "    axs[row_index, col_index].set_ylabel(\"Sum\")\n",
    "    axs[row_index, col_index].set_xticklabels(\n",
    "        cleaned_categories, rotation=90, ha=\"center\"\n",
    "    )\n",
    "\n",
    "plt.tight_layout()\n",
    "plt.show()"
   ]
  },
  {
   "cell_type": "code",
   "execution_count": null,
   "metadata": {},
   "outputs": [],
   "source": []
  }
 ],
 "metadata": {
  "kernelspec": {
   "display_name": ".venv",
   "language": "python",
   "name": "python3"
  },
  "language_info": {
   "codemirror_mode": {
    "name": "ipython",
    "version": 3
   },
   "file_extension": ".py",
   "mimetype": "text/x-python",
   "name": "python",
   "nbconvert_exporter": "python",
   "pygments_lexer": "ipython3",
   "version": "3.11.4"
  }
 },
 "nbformat": 4,
 "nbformat_minor": 2
}
