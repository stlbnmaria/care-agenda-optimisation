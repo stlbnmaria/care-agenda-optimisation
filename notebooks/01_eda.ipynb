{
 "cells": [
  {
   "cell_type": "markdown",
   "metadata": {},
   "source": [
    "# Exploratory Data Analysis"
   ]
  },
  {
   "cell_type": "code",
   "execution_count": null,
   "metadata": {},
   "outputs": [],
   "source": [
    "import pandas as pd\n",
    "import plotly.express as px\n",
    "import matplotlib.pyplot as plt\n",
    "import plotly.graph_objects as go\n",
    "import numpy as np\n",
    "import holidays\n",
    "import seaborn as sns\n",
    "from sklearn.cluster import KMeans\n",
    "from sklearn.preprocessing import StandardScaler\n",
    "import folium"
   ]
  },
  {
   "cell_type": "code",
   "execution_count": null,
   "metadata": {},
   "outputs": [],
   "source": [
    "# Load main data\n",
    "file_path = \"../data/ChallengeXHEC23022024.xlsx\"\n",
    "excel_data = pd.ExcelFile(file_path)\n",
    "\n",
    "jan24_df = pd.read_excel(excel_data, sheet_name=\"JAN24\")\n",
    "clients_df = pd.read_excel(excel_data, sheet_name=\"clients\")\n",
    "intervenants_df = pd.read_excel(excel_data, sheet_name=\"intervenants\")"
   ]
  },
  {
   "cell_type": "code",
   "execution_count": null,
   "metadata": {},
   "outputs": [],
   "source": [
    "# Loading and merging commute data\n",
    "commute_file_paths = [\n",
    "    \"../data/commute_bicycling_clients.csv\",\n",
    "    \"../data/commute_driving_clients.csv\",\n",
    "    \"../data/commute_bicycling_care_clients.csv\",\n",
    "    \"../data/commute_bicycling_clients_care.csv\",\n",
    "    \"../data/commute_driving_care_clients.csv\",\n",
    "    \"../data/commute_driving_clients_care.csv\",\n",
    "]\n",
    "\n",
    "commute_dataframes = [pd.read_csv(file) for file in commute_file_paths]\n",
    "\n",
    "for df in commute_dataframes:\n",
    "    if df.columns[0] not in [\"pair\"]:  # standardizing column names\n",
    "        df.rename(columns={df.columns[0]: \"pair\"}, inplace=True)\n",
    "\n",
    "commute_data_df = pd.concat(commute_dataframes, ignore_index=True)"
   ]
  },
  {
   "cell_type": "markdown",
   "metadata": {},
   "source": [
    "## Simple statistics"
   ]
  },
  {
   "cell_type": "markdown",
   "metadata": {},
   "source": [
    "### ...on the clients"
   ]
  },
  {
   "cell_type": "code",
   "execution_count": null,
   "metadata": {},
   "outputs": [],
   "source": [
    "clients_df.info(verbose=True)"
   ]
  },
  {
   "cell_type": "code",
   "execution_count": null,
   "metadata": {},
   "outputs": [],
   "source": [
    "clients_df.describe()"
   ]
  },
  {
   "cell_type": "code",
   "execution_count": null,
   "metadata": {},
   "outputs": [],
   "source": [
    "clients_df[\"ID Client\"].nunique()"
   ]
  },
  {
   "cell_type": "markdown",
   "metadata": {},
   "source": [
    "### ...on the caregivers"
   ]
  },
  {
   "cell_type": "code",
   "execution_count": null,
   "metadata": {},
   "outputs": [],
   "source": [
    "intervenants_df.info(verbose=True)"
   ]
  },
  {
   "cell_type": "code",
   "execution_count": null,
   "metadata": {},
   "outputs": [],
   "source": [
    "intervenants_df.describe()"
   ]
  },
  {
   "cell_type": "code",
   "execution_count": null,
   "metadata": {},
   "outputs": [],
   "source": [
    "intervenants_df[\"ID Intervenant\"].nunique()"
   ]
  },
  {
   "cell_type": "markdown",
   "metadata": {},
   "source": [
    "ATTENTION: there is one nan for \"Permis\" and \"Véhicule personnel\""
   ]
  },
  {
   "cell_type": "code",
   "execution_count": null,
   "metadata": {},
   "outputs": [],
   "source": [
    "intervenants_df[[\"Permis\", \"Véhicule personnel\"]].value_counts()"
   ]
  },
  {
   "cell_type": "markdown",
   "metadata": {},
   "source": [
    "### ...on the schedule"
   ]
  },
  {
   "cell_type": "code",
   "execution_count": null,
   "metadata": {},
   "outputs": [],
   "source": [
    "jan24_df.info(verbose=True)"
   ]
  },
  {
   "cell_type": "code",
   "execution_count": null,
   "metadata": {},
   "outputs": [],
   "source": [
    "jan24_df.describe()"
   ]
  },
  {
   "cell_type": "code",
   "execution_count": null,
   "metadata": {},
   "outputs": [],
   "source": [
    "jan24_df[\"Prestation\"].nunique()"
   ]
  },
  {
   "cell_type": "code",
   "execution_count": null,
   "metadata": {},
   "outputs": [],
   "source": [
    "jan24_df[\"Prestation\"].value_counts()"
   ]
  },
  {
   "cell_type": "markdown",
   "metadata": {},
   "source": [
    "## Map clients and caretakers"
   ]
  },
  {
   "cell_type": "code",
   "execution_count": null,
   "metadata": {},
   "outputs": [],
   "source": [
    "map = folium.Map(\n",
    "    location=[clients_df.Latitude.mean(), clients_df.Longitude.mean()],\n",
    "    zoom_start=10,\n",
    "    control_scale=True,\n",
    ")"
   ]
  },
  {
   "cell_type": "code",
   "execution_count": null,
   "metadata": {},
   "outputs": [],
   "source": [
    "for index, location_info in clients_df.iterrows():\n",
    "    folium.CircleMarker(\n",
    "        [location_info[\"Latitude\"], location_info[\"Longitude\"]],\n",
    "        color=\"blue\",\n",
    "        fill_color=\"blue\",\n",
    "    ).add_to(map)\n",
    "\n",
    "for index, location_info in intervenants_df.iterrows():\n",
    "    folium.CircleMarker(\n",
    "        [location_info[\"Latitude\"], location_info[\"Longitude\"]],\n",
    "        color=\"red\",\n",
    "        fill_color=\"red\",\n",
    "    ).add_to(map)"
   ]
  },
  {
   "cell_type": "code",
   "execution_count": null,
   "metadata": {},
   "outputs": [],
   "source": [
    "map"
   ]
  },
  {
   "cell_type": "markdown",
   "metadata": {},
   "source": [
    "## Preliminary Analysis"
   ]
  },
  {
   "cell_type": "code",
   "execution_count": null,
   "metadata": {},
   "outputs": [],
   "source": [
    "# Analyze start/end times for each type of service\n",
    "jan24_df[\"Heure de début\"] = pd.to_datetime(\n",
    "    jan24_df[\"Heure de début\"], format=\"%H:%M:%S\"\n",
    ").dt.time\n",
    "jan24_df[\"Heure de fin\"] = pd.to_datetime(\n",
    "    jan24_df[\"Heure de fin\"], format=\"%H:%M:%S\"\n",
    ").dt.time\n",
    "service_constraints = jan24_df.groupby(\"Prestation\").agg(\n",
    "    {\"Heure de début\": [\"min\", \"max\"], \"Heure de fin\": [\"min\", \"max\"]}\n",
    ")\n",
    "service_constraints.columns = [\n",
    "    \"Start Time Earliest\",\n",
    "    \"Start Time Latest\",\n",
    "    \"End Time Earliest\",\n",
    "    \"End Time Latest\",\n",
    "]\n",
    "service_constraints.reset_index(inplace=True)\n",
    "\n",
    "\n",
    "print(service_constraints)"
   ]
  },
  {
   "cell_type": "code",
   "execution_count": null,
   "metadata": {},
   "outputs": [],
   "source": [
    "prestation_segmented_data = {\n",
    "    prestation: group for prestation, group in jan24_df.groupby(\"Prestation\")\n",
    "}\n",
    "\n",
    "\n",
    "toilette_data = prestation_segmented_data[\"TOILETTE\"]"
   ]
  },
  {
   "cell_type": "code",
   "execution_count": null,
   "metadata": {},
   "outputs": [],
   "source": [
    "# Segment clients according to their needs\n",
    "client_needs = (\n",
    "    jan24_df.groupby([\"ID Client\", \"Prestation\"]).size().unstack(fill_value=0)\n",
    ")\n",
    "\n",
    "print(client_needs)"
   ]
  },
  {
   "cell_type": "code",
   "execution_count": null,
   "metadata": {},
   "outputs": [],
   "source": [
    "# Segment days according to the services offered\n",
    "jan24_df[\"Day of Week\"] = jan24_df[\"Date\"].dt.dayofweek\n",
    "jan24_df[\"Day Type\"] = jan24_df[\"Day of Week\"].apply(\n",
    "    lambda x: \"Weekend\" if x > 4 else \"Weekday\"\n",
    ")\n",
    "day_segmentation = (\n",
    "    jan24_df.groupby([\"Day Type\", \"Prestation\"]).size().unstack(fill_value=0)\n",
    ")\n",
    "\n",
    "day_segmentation.T"
   ]
  },
  {
   "cell_type": "code",
   "execution_count": null,
   "metadata": {},
   "outputs": [],
   "source": [
    "day_seg_inv = day_segmentation.T\n",
    "print(\n",
    "    \"Weekday services: \", day_seg_inv[day_seg_inv.Weekday > 0].index.to_list()\n",
    ")\n",
    "print(\n",
    "    \"Weekend services: \", day_seg_inv[day_seg_inv.Weekend > 0].index.to_list()\n",
    ")"
   ]
  },
  {
   "cell_type": "code",
   "execution_count": null,
   "metadata": {},
   "outputs": [],
   "source": [
    "services_per_day = jan24_df.groupby(\"Date\").size()\n",
    "\n",
    "fig = go.Figure()\n",
    "fig.add_trace(\n",
    "    go.Scatter(\n",
    "        x=services_per_day.index,\n",
    "        y=services_per_day.values,\n",
    "        mode=\"lines+markers\",\n",
    "        marker_color=\"blue\",\n",
    "    )\n",
    ")\n",
    "fig.update_layout(\n",
    "    title=\"Total Number of Services Provided Per Day\",\n",
    "    xaxis_title=\"Date\",\n",
    "    yaxis_title=\"Number of Services\",\n",
    "    xaxis_tickangle=-45,\n",
    ")\n",
    "fig.show()"
   ]
  },
  {
   "cell_type": "code",
   "execution_count": null,
   "metadata": {},
   "outputs": [],
   "source": [
    "# Extracting weekdays and weekends\n",
    "jan24_df[\"Day Type\"] = np.where(\n",
    "    jan24_df[\"Date\"].dt.dayofweek < 5, \"Weekday\", \"Weekend\"\n",
    ")\n",
    "\n",
    "fr_holidays = holidays.France(years=2024)  # extracting French holidays\n",
    "jan24_df[\"Holiday\"] = jan24_df[\"Date\"].apply(lambda x: fr_holidays.get(x))\n",
    "\n",
    "# Counting services per day and categorizing them\n",
    "daily_services = (\n",
    "    jan24_df.groupby([\"Date\", \"Day Type\"])\n",
    "    .size()\n",
    "    .reset_index(name=\"Service Count\")\n",
    ")\n",
    "daily_services[\"Holiday\"] = daily_services[\"Date\"].apply(\n",
    "    lambda x: fr_holidays.get(x) is not None\n",
    ")\n",
    "\n",
    "# Plotting\n",
    "plt.figure(figsize=(15, 8))\n",
    "weekday_services = daily_services[daily_services[\"Day Type\"] == \"Weekday\"]\n",
    "plt.scatter(\n",
    "    weekday_services[\"Date\"],\n",
    "    weekday_services[\"Service Count\"],\n",
    "    color=\"blue\",\n",
    "    label=\"Weekdays\",\n",
    ")\n",
    "weekend_services = daily_services[daily_services[\"Day Type\"] == \"Weekend\"]\n",
    "plt.scatter(\n",
    "    weekend_services[\"Date\"],\n",
    "    weekend_services[\"Service Count\"],\n",
    "    color=\"green\",\n",
    "    label=\"Weekends\",\n",
    ")\n",
    "holiday_services = daily_services[daily_services[\"Holiday\"]]\n",
    "plt.scatter(\n",
    "    holiday_services[\"Date\"],\n",
    "    holiday_services[\"Service Count\"],\n",
    "    color=\"red\",\n",
    "    label=\"Holidays\",\n",
    "    s=100,\n",
    ")\n",
    "plt.title(\"Service Counts by Date with Weekdays, Weekends, and Holidays\")\n",
    "plt.xlabel(\"Date\")\n",
    "plt.ylabel(\"Service Count\")\n",
    "plt.xticks(rotation=45)\n",
    "plt.legend()\n",
    "plt.grid(True)\n",
    "plt.tight_layout()\n",
    "plt.show()"
   ]
  },
  {
   "cell_type": "code",
   "execution_count": null,
   "metadata": {},
   "outputs": [],
   "source": [
    "# Frequency of each service type by day of week\n",
    "jan24_df[\"Day of Week\"] = jan24_df[\"Date\"].dt.day_name()\n",
    "service_by_day = (\n",
    "    jan24_df.groupby([\"Prestation\", \"Day of Week\"])\n",
    "    .size()\n",
    "    .unstack(fill_value=0)\n",
    ")\n",
    "\n",
    "fig = px.bar(\n",
    "    service_by_day,\n",
    "    barmode=\"group\",\n",
    "    labels={\"value\": \"Frequency\", \"variable\": \"Day of Week\"},\n",
    "    title=\"Service Frequency by Day of the Week\",\n",
    ")\n",
    "fig.show()\n",
    "\n",
    "# Analyzing service corelation\n",
    "service_combinations = jan24_df.pivot_table(\n",
    "    index=[\"Date\", \"ID Client\"],\n",
    "    columns=\"Prestation\",\n",
    "    aggfunc=\"size\",\n",
    "    fill_value=0,\n",
    ")\n",
    "service_correlation = service_combinations.corr()\n",
    "\n",
    "fig = px.imshow(\n",
    "    service_correlation,\n",
    "    x=service_correlation.index,\n",
    "    y=service_correlation.columns,\n",
    ")\n",
    "fig.update_layout(title=\"Service Correlation Heatmap\")\n",
    "fig.update_layout(height=600, width=800)\n",
    "fig.show()"
   ]
  },
  {
   "cell_type": "code",
   "execution_count": null,
   "metadata": {},
   "outputs": [],
   "source": [
    "# Average Duration of Each Service\n",
    "jan24_df[\"Service Duration\"] = (\n",
    "    pd.to_datetime(jan24_df[\"Heure de fin\"], format=\"%H:%M:%S\")\n",
    "    - pd.to_datetime(jan24_df[\"Heure de début\"], format=\"%H:%M:%S\")\n",
    ").dt.total_seconds() / 3600\n",
    "average_duration = jan24_df.groupby(\"Prestation\")[\"Service Duration\"].mean()\n",
    "\n",
    "fig = px.bar(\n",
    "    average_duration,\n",
    "    labels={\"value\": \"Average Duration (hours)\", \"variable\": \"Service\"},\n",
    "    title=\"Average Duration of Each Service\",\n",
    ")\n",
    "fig.show()"
   ]
  },
  {
   "cell_type": "code",
   "execution_count": null,
   "metadata": {},
   "outputs": [],
   "source": [
    "# Client-Caretaker Pairing Patterns\n",
    "client_caretaker_pairing = (\n",
    "    jan24_df.groupby([\"ID Client\", \"ID Intervenant\"])\n",
    "    .size()\n",
    "    .reset_index(name=\"Count\")\n",
    "    .sort_values(by=\"Count\", ascending=False)\n",
    ")\n",
    "\n",
    "print(client_caretaker_pairing.sort_values(by=\"Count\", ascending=False))"
   ]
  },
  {
   "cell_type": "code",
   "execution_count": null,
   "metadata": {},
   "outputs": [],
   "source": [
    "# Peak Service Hours Analysis\n",
    "jan24_df[\"Hour of Day\"] = pd.to_datetime(\n",
    "    jan24_df[\"Heure de début\"], format=\"%H:%M:%S\"\n",
    ").dt.hour\n",
    "peak_hours = jan24_df.groupby(\"Hour of Day\").size()\n",
    "fig = px.bar(\n",
    "    peak_hours,\n",
    "    labels={\"value\": \"Frequency\", \"variable\": \"Hour of Day\"},\n",
    "    title=\"Peak Service Hours Analysis\",\n",
    ")\n",
    "fig.show()"
   ]
  },
  {
   "cell_type": "code",
   "execution_count": null,
   "metadata": {},
   "outputs": [],
   "source": [
    "# Grouping data by caretaker and date to count the number of services provided each day\n",
    "caretaker_daily_workload = jan24_df.groupby(\n",
    "    [\"ID Intervenant\", jan24_df[\"Date\"].dt.date]\n",
    ").size()\n",
    "caretaker_daily_workload = caretaker_daily_workload.reset_index(\n",
    "    name=\"Daily Service Count\"\n",
    ")\n",
    "\n",
    "# Grouping data by caretaker and week to count the number of services provided each week\n",
    "jan24_df[\"Week\"] = jan24_df[\"Date\"].dt.isocalendar().week\n",
    "caretaker_weekly_workload = jan24_df.groupby([\"ID Intervenant\", \"Week\"]).size()\n",
    "caretaker_weekly_workload = caretaker_weekly_workload.reset_index(\n",
    "    name=\"Weekly Service Count\"\n",
    ")"
   ]
  },
  {
   "cell_type": "code",
   "execution_count": null,
   "metadata": {},
   "outputs": [],
   "source": [
    "def plot_daily_workload(caretaker_daily_workload, caretaker_id):\n",
    "    sample_caretaker = caretaker_daily_workload[\n",
    "        caretaker_daily_workload[\"ID Intervenant\"] == caretaker_id\n",
    "    ]\n",
    "    fig = px.bar(\n",
    "        sample_caretaker,\n",
    "        x=\"Date\",\n",
    "        y=\"Daily Service Count\",\n",
    "        title=f\"Daily Workload for Caretaker {caretaker_id}\",\n",
    "    )\n",
    "    fig.update_layout(xaxis_title=\"Date\", yaxis_title=\"Number of Services\")\n",
    "    fig.show()\n",
    "\n",
    "\n",
    "plot_daily_workload(caretaker_daily_workload, 78005437)"
   ]
  },
  {
   "cell_type": "code",
   "execution_count": null,
   "metadata": {},
   "outputs": [],
   "source": [
    "def plot_weekly_workload(caretaker_weekly_workload, caretaker_id):\n",
    "    sample_caretaker_weekly = caretaker_weekly_workload[\n",
    "        caretaker_weekly_workload[\"ID Intervenant\"] == caretaker_id\n",
    "    ]\n",
    "    fig = px.line(\n",
    "        sample_caretaker_weekly,\n",
    "        x=\"Week\",\n",
    "        y=\"Weekly Service Count\",\n",
    "        title=f\"Weekly Workload for Caretaker {caretaker_id}\",\n",
    "        markers=True,\n",
    "    )\n",
    "    fig.update_layout(xaxis_title=\"Week\", yaxis_title=\"Number of Services\")\n",
    "    fig.show()\n",
    "\n",
    "\n",
    "plot_weekly_workload(caretaker_weekly_workload, 78005437)"
   ]
  },
  {
   "cell_type": "markdown",
   "metadata": {},
   "source": [
    "# Plotting agenda and commute time calcualtion "
   ]
  },
  {
   "cell_type": "code",
   "execution_count": null,
   "metadata": {},
   "outputs": [],
   "source": [
    "intervenants_df[\"Commute Method\"] = intervenants_df[\"Véhicule personnel\"].map(\n",
    "    {\"Oui\": \"driving\", \"Non\": \"bicycling\", np.nan: \"bicycling\"}\n",
    ")  # map commute method\n",
    "jan24_df = jan24_df.merge(\n",
    "    intervenants_df[[\"ID Intervenant\", \"Commute Method\"]],\n",
    "    on=\"ID Intervenant\",\n",
    "    how=\"left\",\n",
    ")  # merge with agenda data\n",
    "\n",
    "jan24_df[\"Start DateTime\"] = pd.to_datetime(\n",
    "    jan24_df[\"Date\"].astype(str) + \" \" + jan24_df[\"Heure de début\"].astype(str)\n",
    ")\n",
    "jan24_df[\"End DateTime\"] = pd.to_datetime(\n",
    "    jan24_df[\"Date\"].astype(str) + \" \" + jan24_df[\"Heure de fin\"].astype(str)\n",
    ")\n",
    "\n",
    "commute_data_df[[\"source\", \"destination\"]] = commute_data_df[\n",
    "    \"pair\"\n",
    "].str.extract(r\"\\((\\d+), (\\d+)\\)\")\n",
    "commute_data_df.drop(columns=\"pair\", inplace=True)\n",
    "commute_data_df.set_index(\n",
    "    [\"source\", \"destination\", \"commute_method\"], inplace=True\n",
    ")"
   ]
  },
  {
   "cell_type": "code",
   "execution_count": null,
   "metadata": {},
   "outputs": [],
   "source": [
    "def compute_commute_and_wait_times(df, commute_data_df):\n",
    "    df[\"Wait Time\"] = 0\n",
    "    df[\"Commute Time\"] = 0\n",
    "\n",
    "    for intervenant_id in df[\"ID Intervenant\"].unique():\n",
    "        intervenant_data = df[df[\"ID Intervenant\"] == intervenant_id]\n",
    "\n",
    "        for date in intervenant_data[\"Date\"].unique():\n",
    "            daily_data = intervenant_data[\n",
    "                intervenant_data[\"Date\"] == date\n",
    "            ].sort_values(by=\"Start DateTime\")\n",
    "            prev_end_time = None\n",
    "            prev_client_id = None\n",
    "\n",
    "            for index, row in daily_data.iterrows():\n",
    "                if prev_client_id is None or prev_end_time is None:\n",
    "                    source_id = str(intervenant_id)\n",
    "                else:\n",
    "\n",
    "                    wait_time = (\n",
    "                        row[\"Start DateTime\"] - prev_end_time\n",
    "                    ).total_seconds() / 60\n",
    "                    df.loc[index, \"Wait Time\"] = wait_time\n",
    "\n",
    "                    # Check if wait time is greater than 1 hour\n",
    "                    if wait_time > 60:\n",
    "                        source_id = str(intervenant_id)\n",
    "                    else:\n",
    "                        source_id = str(prev_client_id)\n",
    "\n",
    "                destination_id = str(row[\"ID Client\"])\n",
    "                commute_method = (\n",
    "                    row[\"Commute Method\"]\n",
    "                    if \"Commute Method\" in row\n",
    "                    else \"driving\"\n",
    "                )\n",
    "\n",
    "                try:\n",
    "                    commute_time = (\n",
    "                        commute_data_df.loc[\n",
    "                            (source_id, destination_id, commute_method),\n",
    "                            \"commute_seconds\",\n",
    "                        ]\n",
    "                        / 60\n",
    "                    )\n",
    "                except KeyError:\n",
    "                    commute_time = 0  # Default to 0 if not found\n",
    "                    print(\n",
    "                        f\"Data not found for commute time: {source_id}, {destination_id}, {commute_method}\"\n",
    "                    )\n",
    "\n",
    "                df.loc[index, \"Commute Time\"] = commute_time\n",
    "\n",
    "                # Update previous end time and client ID for next iteration\n",
    "                prev_end_time = row[\"End DateTime\"]\n",
    "                prev_client_id = row[\"ID Client\"]\n",
    "\n",
    "    return df"
   ]
  },
  {
   "cell_type": "code",
   "execution_count": null,
   "metadata": {},
   "outputs": [],
   "source": [
    "def plot_agenda(intervenant_id, jan24_df, commute_data_df):\n",
    "    intervenant_agenda = jan24_df[jan24_df[\"ID Intervenant\"] == intervenant_id]\n",
    "    intervenant_agenda_sorted = intervenant_agenda.sort_values(\n",
    "        by=[\"Date\", \"Heure de début\"]\n",
    "    )\n",
    "\n",
    "    df_timeline = intervenant_agenda_sorted.copy()\n",
    "    df_timeline[\"Start\"] = pd.to_datetime(df_timeline[\"Start DateTime\"])\n",
    "    df_timeline[\"Finish\"] = pd.to_datetime(df_timeline[\"End DateTime\"])\n",
    "    df_timeline[\"Task\"] = df_timeline[\"Prestation\"]\n",
    "    df_timeline[\"Resource\"] = df_timeline[\"ID Intervenant\"].astype(str)\n",
    "    df_timeline[\"ID Client\"] = df_timeline[\"ID Client\"].astype(str)\n",
    "\n",
    "    df_timeline = compute_commute_and_wait_times(df_timeline, commute_data_df)\n",
    "\n",
    "    commute_entries = df_timeline.copy()\n",
    "    commute_entries[\"Start\"] = commute_entries[\"Start\"] - pd.to_timedelta(\n",
    "        commute_entries[\"Commute Time\"], unit=\"m\"\n",
    "    )\n",
    "    commute_entries[\"Finish\"] = commute_entries[\"Start\"] + pd.to_timedelta(\n",
    "        commute_entries[\"Commute Time\"], unit=\"m\"\n",
    "    )\n",
    "    commute_entries[\"Task\"] = \"Commute Time\"\n",
    "    commute_entries[\"Type\"] = \"Commute\"\n",
    "\n",
    "    wait_entries = []\n",
    "    prev_finish = None\n",
    "    for _, row in df_timeline.iterrows():\n",
    "        if prev_finish is not None and row[\"Wait Time\"] > 0:\n",
    "            wait_entry = row.copy()\n",
    "            wait_entry[\"Start\"] = prev_finish\n",
    "            wait_entry[\"Finish\"] = row[\"Start\"]\n",
    "            wait_entry[\"Task\"] = \"Wait Time\"\n",
    "            wait_entry[\"Type\"] = \"Wait\"\n",
    "            wait_entries.append(wait_entry)\n",
    "        prev_finish = row[\"Finish\"]\n",
    "    wait_entries_df = pd.DataFrame(wait_entries)\n",
    "\n",
    "    df_timeline[\"Type\"] = \"Task\"\n",
    "\n",
    "    end_of_day_commutes = []\n",
    "    for date in df_timeline[\"Date\"].unique():\n",
    "        daily_data = df_timeline[df_timeline[\"Date\"] == date]\n",
    "        if not daily_data.empty:\n",
    "            last_client_id = daily_data.iloc[-1][\"ID Client\"]\n",
    "            source_id = str(last_client_id)\n",
    "            destination_id = str(intervenant_id)\n",
    "            commute_method = daily_data.iloc[-1][\"Commute Method\"]\n",
    "\n",
    "            try:\n",
    "                commute_time = (\n",
    "                    commute_data_df.loc[\n",
    "                        (source_id, destination_id, commute_method),\n",
    "                        \"commute_seconds\",\n",
    "                    ]\n",
    "                    / 60\n",
    "                )\n",
    "            except KeyError:\n",
    "                print(\"Commute time not found\")\n",
    "\n",
    "            end_of_day_commute = {\n",
    "                \"Start\": daily_data.iloc[-1][\"End DateTime\"],\n",
    "                \"Finish\": daily_data.iloc[-1][\"End DateTime\"]\n",
    "                + pd.Timedelta(minutes=commute_time),\n",
    "                \"Task\": \"Commute Time\",\n",
    "                \"Type\": \"Commute\",\n",
    "                \"ID Client\": \"Home\",\n",
    "                \"Date\": date,\n",
    "                \"ID Intervenant\": intervenant_id,\n",
    "                \"Commute Time\": commute_time,\n",
    "                \"Commute Method\": commute_method,\n",
    "                \"Wait Time\": 0,\n",
    "            }\n",
    "            end_of_day_commutes.append(end_of_day_commute)\n",
    "\n",
    "    end_of_day_commutes_df = pd.DataFrame(end_of_day_commutes)\n",
    "\n",
    "    combined_df = pd.concat(\n",
    "        [df_timeline, commute_entries, wait_entries_df, end_of_day_commutes_df]\n",
    "    )\n",
    "    combined_df.sort_values(by=\"Start\", inplace=True)\n",
    "\n",
    "    fig = px.timeline(\n",
    "        combined_df,\n",
    "        x_start=\"Start\",\n",
    "        x_end=\"Finish\",\n",
    "        y=\"Task\",\n",
    "        color=\"Type\",\n",
    "        color_discrete_map={\n",
    "            \"Task\": \"blue\",\n",
    "            \"Commute\": \"orange\",\n",
    "            \"Wait\": \"green\",\n",
    "        },\n",
    "        hover_data=[\"ID Client\", \"Wait Time\", \"Commute Time\"],\n",
    "    )\n",
    "    fig.update_yaxes(autorange=\"reversed\")\n",
    "    fig.update_layout(title=f\"Agenda for Intervenant ID: {intervenant_id}\")\n",
    "    fig.update_layout(\n",
    "        xaxis=dict(\n",
    "            rangeselector=dict(\n",
    "                buttons=list(\n",
    "                    [\n",
    "                        dict(\n",
    "                            count=1,\n",
    "                            label=\"1D\",\n",
    "                            step=\"day\",\n",
    "                            stepmode=\"backward\",\n",
    "                        ),\n",
    "                        dict(\n",
    "                            count=7,\n",
    "                            label=\"1W\",\n",
    "                            step=\"day\",\n",
    "                            stepmode=\"backward\",\n",
    "                        ),\n",
    "                        dict(step=\"all\"),\n",
    "                    ]\n",
    "                )\n",
    "            ),\n",
    "            rangeslider=dict(visible=True),\n",
    "            type=\"date\",\n",
    "        )\n",
    "    )\n",
    "\n",
    "    fig.show()\n",
    "\n",
    "    return combined_df"
   ]
  },
  {
   "cell_type": "code",
   "execution_count": null,
   "metadata": {},
   "outputs": [],
   "source": [
    "all_intervenant_agendas = []\n",
    "\n",
    "for intervenant_id in jan24_df[\"ID Intervenant\"].unique():\n",
    "    intervenant_agenda_commute = plot_agenda(\n",
    "        intervenant_id, jan24_df, commute_data_df\n",
    "    )\n",
    "    all_intervenant_agendas.append(intervenant_agenda_commute)\n",
    "\n",
    "df_agendas = pd.concat(all_intervenant_agendas)"
   ]
  },
  {
   "cell_type": "markdown",
   "metadata": {},
   "source": [
    "# Commute time stats"
   ]
  },
  {
   "cell_type": "code",
   "execution_count": null,
   "metadata": {},
   "outputs": [],
   "source": [
    "df_agendas = pd.concat(all_intervenant_agendas)\n",
    "\n",
    "\n",
    "# Average commute time per day per intervenant broken down by commute method\n",
    "daily_commute_time = (\n",
    "    df_agendas.groupby([\"ID Intervenant\", \"Date\", \"Commute Method\"])[\n",
    "        \"Commute Time\"\n",
    "    ]\n",
    "    .mean()\n",
    "    .groupby([\"ID Intervenant\", \"Commute Method\"])\n",
    "    .mean()\n",
    "    .unstack()\n",
    "    .plot(kind=\"bar\")\n",
    ")\n",
    "plt.xlabel(\"ID Intervenant\")\n",
    "plt.ylabel(\"Average Commute Time\")\n",
    "plt.title(\n",
    "    \"Average Commute Time (minutes) per Intervenant per Day by Commute Method\"\n",
    ")\n",
    "plt.show()"
   ]
  },
  {
   "cell_type": "code",
   "execution_count": null,
   "metadata": {},
   "outputs": [],
   "source": [
    "if \"Commute Method\" in df_agendas.columns:\n",
    "    commute_time_by_method = (\n",
    "        df_agendas.groupby(\"Commute Method\")[\"Commute Time\"]\n",
    "        .mean()\n",
    "        .reset_index()\n",
    "    )\n",
    "\n",
    "    fig = px.bar(\n",
    "        commute_time_by_method,\n",
    "        x=\"Commute Method\",\n",
    "        y=\"Commute Time\",\n",
    "        labels={\n",
    "            \"Commute Method\": \"Commute Method\",\n",
    "            \"Commute Time\": \"Average Commute Time (minutes)\",\n",
    "        },\n",
    "        title=\"Average Commute Time by Commute Method\",\n",
    "    )\n",
    "    fig.show()\n",
    "else:\n",
    "    print(\"The 'Commute Method' column is not available in the dataframe.\")"
   ]
  },
  {
   "cell_type": "code",
   "execution_count": null,
   "metadata": {},
   "outputs": [],
   "source": [
    "def plot_daily_commute_time(intervenant_id, df_agendas):\n",
    "    intervenant_data = df_agendas[\n",
    "        df_agendas[\"ID Intervenant\"] == intervenant_id\n",
    "    ]\n",
    "    fig = px.box(\n",
    "        intervenant_data,\n",
    "        x=\"Date\",\n",
    "        y=\"Commute Time\",\n",
    "        title=f\"Daily Commute Time for Intervenant {intervenant_id}\",\n",
    "    )\n",
    "    fig.show()\n",
    "\n",
    "\n",
    "plot_daily_commute_time(78005437, df_agendas)"
   ]
  },
  {
   "cell_type": "code",
   "execution_count": null,
   "metadata": {},
   "outputs": [],
   "source": [
    "# Commute time per day per intervenat\n",
    "daily_commute_sum = df_agendas.groupby(\n",
    "    [\"ID Intervenant\", \"Date\"], as_index=False\n",
    ")[\"Commute Time\"].sum()\n",
    "\n",
    "daily_commute_sum = daily_commute_sum.merge(\n",
    "    intervenants_df[[\"ID Intervenant\", \"Commute Method\"]],\n",
    "    on=\"ID Intervenant\",\n",
    "    how=\"left\",\n",
    ")\n",
    "\n",
    "daily_commute_sum[\"ID Intervenant\"] = daily_commute_sum[\n",
    "    \"ID Intervenant\"\n",
    "].astype(str)\n",
    "\n",
    "fig = px.box(\n",
    "    daily_commute_sum,\n",
    "    x=\"ID Intervenant\",\n",
    "    y=\"Commute Time\",\n",
    "    color=\"Commute Method\",\n",
    "    title=\"Total Commute Time per Day per Intervenant\",\n",
    "    color_discrete_map={\"driving\": \"orange\", \"bicycling\": \"blue\"},\n",
    ")\n",
    "fig.show()"
   ]
  },
  {
   "cell_type": "markdown",
   "metadata": {},
   "source": [
    "# Client Personas (Question 3)"
   ]
  },
  {
   "cell_type": "code",
   "execution_count": null,
   "metadata": {},
   "outputs": [],
   "source": [
    "# Reload Data\n",
    "file_path = \"../data/ChallengeXHEC23022024.xlsx\"\n",
    "\n",
    "\n",
    "excel_data = pd.ExcelFile(file_path)\n",
    "\n",
    "\n",
    "jan24_df = pd.read_excel(excel_data, sheet_name=\"JAN24\")\n",
    "clients_df = pd.read_excel(excel_data, sheet_name=\"clients\")\n",
    "intervenants_df = pd.read_excel(excel_data, sheet_name=\"intervenants\")"
   ]
  },
  {
   "cell_type": "code",
   "execution_count": null,
   "metadata": {},
   "outputs": [],
   "source": [
    "# Analyzing client data to create personas\n",
    "paris_center_coords = {\"Latitude\": 48.864716, \"Longitude\": 2.349014}\n",
    "\n",
    "# Calculating the distance of each client from the Paris city center\n",
    "clients_df[\"Distance from Paris Center\"] = (\n",
    "    (clients_df[\"Latitude\"] - paris_center_coords[\"Latitude\"]) ** 2\n",
    "    + (clients_df[\"Longitude\"] - paris_center_coords[\"Longitude\"]) ** 2\n",
    ") ** 0.5\n",
    "client_service_summary = (\n",
    "    jan24_df.groupby(\"ID Client\")[\"Prestation\"]\n",
    "    .value_counts()\n",
    "    .unstack(fill_value=0)\n",
    ")\n",
    "combined_client_data = clients_df.join(client_service_summary, on=\"ID Client\")\n",
    "combined_client_data[\"Distance from Paris Center\"] = clients_df[\n",
    "    \"Distance from Paris Center\"\n",
    "]"
   ]
  },
  {
   "cell_type": "code",
   "execution_count": null,
   "metadata": {},
   "outputs": [],
   "source": [
    "combined_client_data"
   ]
  },
  {
   "cell_type": "code",
   "execution_count": null,
   "metadata": {},
   "outputs": [],
   "source": [
    "# Persona A: Central City Dweller Needing Regular Meals\n",
    "persona_a_clients = combined_client_data[\n",
    "    (\n",
    "        combined_client_data[\"Distance from Paris Center\"]\n",
    "        <= combined_client_data[\"Distance from Paris Center\"].quantile(0.25)\n",
    "    )\n",
    "    & (combined_client_data[\"REPAS\"] > 0)\n",
    "].head()\n",
    "\n",
    "\n",
    "persona_a_clients"
   ]
  },
  {
   "cell_type": "code",
   "execution_count": null,
   "metadata": {},
   "outputs": [],
   "source": [
    "# Persona B: Suburban Senior with Mobility Assistance Needs\n",
    "persona_b_clients = combined_client_data[\n",
    "    (\n",
    "        combined_client_data[\"Distance from Paris Center\"]\n",
    "        > combined_client_data[\"Distance from Paris Center\"].quantile(0.25)\n",
    "    )\n",
    "    & (\n",
    "        combined_client_data[\"Distance from Paris Center\"]\n",
    "        <= combined_client_data[\"Distance from Paris Center\"].quantile(0.75)\n",
    "    )\n",
    "    & (combined_client_data[\"TOILETTE\"] > 0)\n",
    "].head()\n",
    "\n",
    "persona_b_clients"
   ]
  },
  {
   "cell_type": "code",
   "execution_count": null,
   "metadata": {},
   "outputs": [],
   "source": [
    "# Persona C: Remote Client Needing Weekly Check-ins\n",
    "persona_c_clients = combined_client_data[\n",
    "    (\n",
    "        combined_client_data[\"Distance from Paris Center\"]\n",
    "        > combined_client_data[\"Distance from Paris Center\"].quantile(0.75)\n",
    "    )\n",
    "    & (combined_client_data[\"REPAS\"] <= 2)\n",
    "].head()\n",
    "\n",
    "persona_c_clients"
   ]
  },
  {
   "cell_type": "code",
   "execution_count": null,
   "metadata": {},
   "outputs": [],
   "source": [
    "jan24_df[\"Start Hour\"] = jan24_df[\"Heure de début\"].apply(lambda x: x.hour)\n",
    "jan24_df[\"End Hour\"] = jan24_df[\"Heure de fin\"].apply(lambda x: x.hour)\n",
    "\n",
    "# Persona E:  Adults Needing Evening Assistance (services post 5 PM)\n",
    "persona_e_clients = (\n",
    "    jan24_df[jan24_df[\"Start Hour\"] >= 17][\"ID Client\"]\n",
    "    .value_counts()\n",
    "    .head()\n",
    "    .index.tolist()\n",
    ")"
   ]
  },
  {
   "cell_type": "code",
   "execution_count": null,
   "metadata": {},
   "outputs": [],
   "source": [
    "jan24_df[\"Day of Week\"] = jan24_df[\"Date\"].dt.dayofweek\n",
    "# Persona F: Weekend Assistance Client (services on weekends)\n",
    "persona_f_clients = (\n",
    "    jan24_df[jan24_df[\"Day of Week\"] >= 5][\"ID Client\"]\n",
    "    .value_counts()\n",
    "    .head()\n",
    "    .index.tolist()\n",
    ")"
   ]
  },
  {
   "cell_type": "code",
   "execution_count": null,
   "metadata": {},
   "outputs": [],
   "source": [
    "# Persona H: Clients Needing Frequent Short Visits (Services less than or equal to 1 hour)\n",
    "jan24_df[\"Service Duration\"] = jan24_df[\"End Hour\"] - jan24_df[\"Start Hour\"]\n",
    "short_duration_clients = jan24_df[jan24_df[\"Service Duration\"] <= 1]\n",
    "persona_h_clients = (\n",
    "    short_duration_clients[\"ID Client\"].value_counts().head().index.tolist()\n",
    ")"
   ]
  },
  {
   "cell_type": "code",
   "execution_count": null,
   "metadata": {},
   "outputs": [],
   "source": [
    "# Persona I: Early Morning Service Client (services before 8 AM)\n",
    "early_morning_clients = jan24_df[jan24_df[\"Start Hour\"] < 8]\n",
    "persona_i_clients = (\n",
    "    early_morning_clients[\"ID Client\"].value_counts().head().index.tolist()\n",
    ")"
   ]
  },
  {
   "cell_type": "code",
   "execution_count": null,
   "metadata": {},
   "outputs": [],
   "source": [
    "# Persona J: High Frequency Care Recipient (multiple services throughout the day)\n",
    "high_frequency_clients = jan24_df[\"ID Client\"].value_counts()\n",
    "persona_j_clients = high_frequency_clients[\n",
    "    high_frequency_clients > high_frequency_clients.quantile(0.75)\n",
    "].index.tolist()[:5]"
   ]
  },
  {
   "cell_type": "code",
   "execution_count": null,
   "metadata": {},
   "outputs": [],
   "source": [
    "# Persona K: Infrequent, but Long Duration Visits (longer duration, fewer appointments)\n",
    "long_duration_clients = jan24_df[\n",
    "    jan24_df[\"Service Duration\"] > jan24_df[\"Service Duration\"].quantile(0.75)\n",
    "]\n",
    "infrequent_long_duration_clients = long_duration_clients[\n",
    "    \"ID Client\"\n",
    "].value_counts()\n",
    "persona_k_clients = infrequent_long_duration_clients[\n",
    "    infrequent_long_duration_clients\n",
    "    < infrequent_long_duration_clients.quantile(0.25)\n",
    "].index.tolist()[:5]"
   ]
  },
  {
   "cell_type": "code",
   "execution_count": null,
   "metadata": {},
   "outputs": [],
   "source": [
    "# Persona L: Clients with Varied Service Needs (diverse types of services)\n",
    "varied_service_clients = client_service_summary[\n",
    "    client_service_summary > 0\n",
    "].count(axis=1)\n",
    "persona_l_clients = varied_service_clients[\n",
    "    varied_service_clients > varied_service_clients.quantile(0.75)\n",
    "].index.tolist()[:5]"
   ]
  },
  {
   "cell_type": "markdown",
   "metadata": {},
   "source": [
    "# K-Means "
   ]
  },
  {
   "cell_type": "code",
   "execution_count": null,
   "metadata": {},
   "outputs": [],
   "source": [
    "# Load data\n",
    "file_path = \"../data/ChallengeXHEC23022024.xlsx\"\n",
    "excel_data = pd.ExcelFile(file_path)\n",
    "\n",
    "\n",
    "jan24_df = pd.read_excel(excel_data, sheet_name=\"JAN24\")\n",
    "clients_df = pd.read_excel(excel_data, sheet_name=\"clients\")\n",
    "intervenants_df = pd.read_excel(excel_data, sheet_name=\"intervenants\")\n",
    "\n",
    "\n",
    "paris_center_coords = {\"Latitude\": 48.864716, \"Longitude\": 2.349014}\n",
    "\n",
    "\n",
    "clients_df[\"Distance from Paris Center\"] = np.sqrt(\n",
    "    (clients_df[\"Latitude\"] - paris_center_coords[\"Latitude\"]) ** 2\n",
    "    + (clients_df[\"Longitude\"] - paris_center_coords[\"Longitude\"]) ** 2\n",
    ")\n",
    "\n",
    "# Convert service times to datetime\n",
    "fixed_date = pd.Timestamp(\"2024-01-01\")\n",
    "jan24_df[\"Heure de début\"] = pd.to_datetime(\n",
    "    fixed_date.strftime(\"%Y-%m-%d\")\n",
    "    + \" \"\n",
    "    + jan24_df[\"Heure de début\"].astype(str)\n",
    ")\n",
    "jan24_df[\"Heure de fin\"] = pd.to_datetime(\n",
    "    fixed_date.strftime(\"%Y-%m-%d\")\n",
    "    + \" \"\n",
    "    + jan24_df[\"Heure de fin\"].astype(str)\n",
    ")\n",
    "\n",
    "\n",
    "jan24_df[\"Service Duration\"] = (\n",
    "    jan24_df[\"Heure de fin\"] - jan24_df[\"Heure de début\"]\n",
    ").dt.total_seconds() / 60  # In Minutes"
   ]
  },
  {
   "cell_type": "code",
   "execution_count": null,
   "metadata": {},
   "outputs": [],
   "source": [
    "client_service_count = jan24_df.groupby(\"ID Client\")[\"Prestation\"].count()\n",
    "client_service_duration = jan24_df.groupby(\"ID Client\")[\n",
    "    \"Service Duration\"\n",
    "].sum()\n",
    "\n",
    "combined_client_data = clients_df.set_index(\"ID Client\").join(\n",
    "    [client_service_count, client_service_duration], how=\"left\"\n",
    ")\n",
    "combined_client_data.rename(\n",
    "    columns={\n",
    "        \"Prestation\": \"Total Services\",\n",
    "        \"Service Duration\": \"Total Service Duration\",\n",
    "    },\n",
    "    inplace=True,\n",
    ")"
   ]
  },
  {
   "cell_type": "code",
   "execution_count": null,
   "metadata": {},
   "outputs": [],
   "source": [
    "combined_client_data[\"Average Service Duration\"] = (\n",
    "    combined_client_data[\"Total Service Duration\"]\n",
    "    / combined_client_data[\"Total Services\"]\n",
    ")\n",
    "service_variety = jan24_df.groupby(\"ID Client\")[\"Prestation\"].nunique()\n",
    "\n",
    "combined_client_data = combined_client_data.join(service_variety, how=\"left\")\n",
    "combined_client_data.rename(\n",
    "    columns={\"Prestation\": \"Service Variety\"}, inplace=True\n",
    ")\n",
    "\n",
    "total_days_in_january = jan24_df[\"Date\"].nunique()\n",
    "combined_client_data[\"Service Frequency\"] = (\n",
    "    combined_client_data[\"Total Services\"] / total_days_in_january\n",
    ")"
   ]
  },
  {
   "cell_type": "code",
   "execution_count": null,
   "metadata": {},
   "outputs": [],
   "source": [
    "features_for_clustering = combined_client_data[\n",
    "    [\n",
    "        \"Distance from Paris Center\",\n",
    "        \"Total Services\",\n",
    "        \"Total Service Duration\",\n",
    "        \"Average Service Duration\",\n",
    "        \"Service Variety\",\n",
    "        \"Service Frequency\",\n",
    "    ]\n",
    "]\n",
    "scaler = StandardScaler()\n",
    "features_scaled = scaler.fit_transform(features_for_clustering)\n",
    "\n",
    "\n",
    "kmeans = KMeans(n_clusters=4, random_state=0)\n",
    "kmeans.fit(features_scaled)\n",
    "\n",
    "\n",
    "combined_client_data[\"Cluster\"] = kmeans.labels_\n",
    "\n",
    "combined_client_data.head()"
   ]
  },
  {
   "cell_type": "code",
   "execution_count": null,
   "metadata": {},
   "outputs": [],
   "source": [
    "cluster_counts = combined_client_data[\"Cluster\"].value_counts().sort_index()\n",
    "print(cluster_counts)"
   ]
  },
  {
   "cell_type": "code",
   "execution_count": null,
   "metadata": {},
   "outputs": [],
   "source": [
    "for i in range(kmeans.n_clusters):\n",
    "    cluster_data = combined_client_data[combined_client_data[\"Cluster\"] == i]\n",
    "    print(f\"Cluster {i} Statistics:\")\n",
    "    print(cluster_data.describe())\n",
    "    print(\"\\n\")"
   ]
  },
  {
   "cell_type": "code",
   "execution_count": null,
   "metadata": {},
   "outputs": [],
   "source": [
    "sns.pairplot(combined_client_data, hue=\"Cluster\", palette=\"bright\")\n",
    "plt.show()"
   ]
  }
 ],
 "metadata": {
  "kernelspec": {
   "display_name": "health",
   "language": "python",
   "name": "python3"
  },
  "language_info": {
   "codemirror_mode": {
    "name": "ipython",
    "version": 3
   },
   "file_extension": ".py",
   "mimetype": "text/x-python",
   "name": "python",
   "nbconvert_exporter": "python",
   "pygments_lexer": "ipython3",
   "version": "3.10.7"
  }
 },
 "nbformat": 4,
 "nbformat_minor": 2
}
