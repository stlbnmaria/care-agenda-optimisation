{
 "cells": [
  {
   "cell_type": "code",
   "execution_count": null,
   "metadata": {},
   "outputs": [],
   "source": [
    "!pip install pyomo==6.7.1"
   ]
  },
  {
   "cell_type": "code",
   "execution_count": null,
   "metadata": {},
   "outputs": [],
   "source": [
    "from pathlib import Path\n",
    "\n",
    "import pandas as pd"
   ]
  },
  {
   "cell_type": "code",
   "execution_count": null,
   "metadata": {},
   "outputs": [],
   "source": [
    "excel_file = Path(\"../data/ChallengeXHEC23022024.xlsx\")"
   ]
  },
  {
   "cell_type": "code",
   "execution_count": null,
   "metadata": {},
   "outputs": [],
   "source": [
    "schedule = pd.read_excel(excel_file, sheet_name=0)\n",
    "clients = pd.read_excel(excel_file, sheet_name=1)\n",
    "caregivers = pd.read_excel(excel_file, sheet_name=2)"
   ]
  },
  {
   "cell_type": "code",
   "execution_count": null,
   "metadata": {},
   "outputs": [],
   "source": [
    "schedule.Prestation.unique()"
   ]
  },
  {
   "cell_type": "code",
   "execution_count": null,
   "metadata": {},
   "outputs": [],
   "source": [
    "discard_list = [\n",
    "    \"ADMINISTRATION\",\n",
    "    \"VISITE MEDICALE\",\n",
    "    \"FORMATION\",\n",
    "    \"COORDINATION\",\n",
    "    \"HOMMES TOUTES MAINS\",\n",
    "]"
   ]
  },
  {
   "cell_type": "code",
   "execution_count": null,
   "metadata": {},
   "outputs": [],
   "source": [
    "sched_one_day = schedule.loc[schedule.Date == \"2024-01-03\", :]"
   ]
  },
  {
   "cell_type": "code",
   "execution_count": null,
   "metadata": {},
   "outputs": [],
   "source": [
    "sched_one_day.Prestation.value_counts()"
   ]
  },
  {
   "cell_type": "code",
   "execution_count": null,
   "metadata": {},
   "outputs": [],
   "source": [
    "sched_one_day[~sched_one_day.Prestation.isin(discard_list)]"
   ]
  },
  {
   "cell_type": "code",
   "execution_count": null,
   "metadata": {},
   "outputs": [],
   "source": [
    "sched_one_day[\"idx\"] = sched_one_day.index"
   ]
  },
  {
   "cell_type": "code",
   "execution_count": null,
   "metadata": {},
   "outputs": [],
   "source": [
    "from datetime import datetime\n",
    "\n",
    "common_date = sched_one_day[\"Date\"].iloc[0]\n",
    "sched_one_day[\"Heure de fin\"] = sched_one_day[\"Heure de fin\"].apply(\n",
    "    lambda x: datetime.combine(common_date, x)\n",
    ")\n",
    "sched_one_day[\"Heure de début\"] = sched_one_day[\"Heure de début\"].apply(\n",
    "    lambda x: datetime.combine(common_date, x)\n",
    ")\n",
    "sched_one_day[\"Duration\"] = (\n",
    "    sched_one_day[\"Heure de fin\"] - sched_one_day[\"Heure de début\"]\n",
    ")\n",
    "sched_one_day[\"Duration\"] = sched_one_day[\"Duration\"].apply(\n",
    "    lambda x: x.seconds // 60\n",
    ")"
   ]
  },
  {
   "cell_type": "code",
   "execution_count": null,
   "metadata": {},
   "outputs": [],
   "source": [
    "sched_one_day"
   ]
  },
  {
   "cell_type": "code",
   "execution_count": null,
   "metadata": {},
   "outputs": [],
   "source": [
    "caregivers"
   ]
  },
  {
   "cell_type": "code",
   "execution_count": null,
   "metadata": {},
   "outputs": [],
   "source": []
  },
  {
   "cell_type": "code",
   "execution_count": null,
   "metadata": {},
   "outputs": [],
   "source": [
    "schedule"
   ]
  },
  {
   "cell_type": "code",
   "execution_count": null,
   "metadata": {},
   "outputs": [],
   "source": []
  },
  {
   "cell_type": "code",
   "execution_count": null,
   "metadata": {},
   "outputs": [],
   "source": []
  },
  {
   "cell_type": "code",
   "execution_count": null,
   "metadata": {},
   "outputs": [],
   "source": [
    "# Import pyomo libraries\n",
    "import pyomo.environ as pe\n",
    "import pyomo.gdp as pyogdp\n",
    "\n",
    "from itertools import product"
   ]
  },
  {
   "cell_type": "code",
   "execution_count": null,
   "metadata": {},
   "outputs": [],
   "source": [
    "class CareScheduler:\n",
    "    def __init__(self, excel_file):\n",
    "        \"\"\"\n",
    "        Read cargiver and session data into Pandas DataFrames\n",
    "        Args:\n",
    "            excel_file (str): path to data in excel format\n",
    "        \"\"\"\n",
    "        try:\n",
    "            clients = pd.read_excel(excel_file, sheet_name=1)\n",
    "            sessions = pd.read_excel(excel_file, sheet_name=0)\n",
    "\n",
    "            # NOTE: remove later\n",
    "            sessions = sessions.loc[sessions.Date == \"2024-01-03\", :]\n",
    "            sessions[\"idx\"] = sessions.index\n",
    "\n",
    "            # create duration\n",
    "            common_date = sessions[\"Date\"].iloc[0]\n",
    "            sessions[\"Heure de fin\"] = sessions[\"Heure de fin\"].apply(\n",
    "                lambda x: datetime.combine(common_date, x)\n",
    "            )\n",
    "            sessions[\"Heure de début\"] = sessions[\"Heure de début\"].apply(\n",
    "                lambda x: datetime.combine(common_date, x)\n",
    "            )\n",
    "            sessions[\"Duration\"] = (\n",
    "                sessions[\"Heure de fin\"] - sessions[\"Heure de début\"]\n",
    "            )\n",
    "            sessions[\"Duration\"] = sessions[\"Duration\"].apply(\n",
    "                lambda x: x.seconds // 60\n",
    "            )\n",
    "\n",
    "            # discard\n",
    "            discard_list = [\n",
    "                \"ADMINISTRATION\",\n",
    "                \"VISITE MEDICALE\",\n",
    "                \"FORMATION\",\n",
    "                \"COORDINATION\",\n",
    "                \"HOMMES TOUTES MAINS\",\n",
    "            ]\n",
    "            sessions = sessions[~sessions.Prestation.isin(discard_list)]\n",
    "\n",
    "            sessions = sessions.merge(clients, how=\"left\", on=\"ID Client\")\n",
    "            sessions = sessions.drop(columns=\"ID Intervenant\")\n",
    "            self.df_sessions = sessions\n",
    "        except FileNotFoundError:\n",
    "            print(\"Session data not found.\")\n",
    "\n",
    "        try:\n",
    "            self.df_cargeivers = pd.read_excel(excel_file, sheet_name=2)\n",
    "        except FileNotFoundError:\n",
    "            print(\"Caregiver data not found\")\n",
    "\n",
    "        self.model = self.create_model()\n",
    "\n",
    "    def _generate_case_durations(self):\n",
    "        \"\"\"\n",
    "        Generate mapping of cases IDs to case time for the procedure\n",
    "        Returns:\n",
    "            (dict): dictionary with CaseID as key and median case time (mins) for procedure as value\n",
    "        \"\"\"\n",
    "        return pd.Series(\n",
    "            self.df_sessions[\"Duration\"].values, index=self.df_sessions[\"idx\"]\n",
    "        ).to_dict()\n",
    "\n",
    "    def _generate_disjunctions(self):\n",
    "        \"\"\"Returns:\n",
    "        disjunctions (list): list of tuples containing disjunctions\n",
    "        \"\"\"\n",
    "        cases = self.df_sessions[\"idx\"].to_list()\n",
    "        cargivers = self.df_cargeivers[\"ID Intervenant\"].to_list()\n",
    "        disjunctions = []\n",
    "        for (case1, case2, cargiver) in product(cases, cases, cargivers):\n",
    "            if (case1 != case2) and (\n",
    "                case2,\n",
    "                case1,\n",
    "                cargiver,\n",
    "            ) not in disjunctions:\n",
    "                disjunctions.append((case1, case2, cargiver))\n",
    "\n",
    "        return disjunctions\n",
    "\n",
    "    def create_model(self):\n",
    "        model = pe.ConcreteModel()\n",
    "\n",
    "        # List of case IDs in home care client needs list\n",
    "        model.CASES = pe.Set(initialize=self.df_sessions[\"idx\"].tolist())\n",
    "        # List of potential caregiver IDs\n",
    "        model.CAREGIVERS = pe.Set(\n",
    "            initialize=self.df_cargeivers[\"ID Intervenant\"].tolist()\n",
    "        )\n",
    "        # List of tasks - all possible (caseID, caregiverID) combination\n",
    "        model.TASKS = pe.Set(\n",
    "            initialize=model.CASES * model.CAREGIVERS, dimen=2\n",
    "        )\n",
    "        # The duration (expected case time) for each operation\n",
    "        model.CASE_DURATION = pe.Param(\n",
    "            model.CASES, initialize=self._generate_case_durations()\n",
    "        )\n",
    "\n",
    "        # Decision Variables\n",
    "        ub = 1440  # minutes in a day\n",
    "        model.M = pe.Param(initialize=1e3 * ub)  # big M\n",
    "\n",
    "        # Binary flag, 1 if case is assigned to session, 0 otherwise\n",
    "        model.SESSION_ASSIGNED = pe.Var(model.TASKS, domain=pe.Binary)\n",
    "        # Start time of a case\n",
    "        model.CASE_START_TIME = pe.Var(\n",
    "            model.TASKS, bounds=(0, ub), within=pe.PositiveReals\n",
    "        )\n",
    "        # Downtime of a caregiver caregiver\n",
    "        model.DOWN_TIME = pe.Var(\n",
    "            model.CAREGIVERS, bounds=(0, ub), within=pe.PositiveIntegers\n",
    "        )\n",
    "\n",
    "        # model.DISJUNCTIONS = pe.Set(initialize=self._generate_disjunctions(), dimen=3)\n",
    "\n",
    "        # Objective\n",
    "        def objective_function(model):\n",
    "            return pe.summation(model.DOWN_TIME)\n",
    "            # return sum([model.SESSION_ASSIGNED[case, session] for case in model.CASES for session in model.SESSIONS])\n",
    "\n",
    "        model.OBJECTIVE = pe.Objective(\n",
    "            rule=objective_function, sense=pe.minimize\n",
    "        )\n",
    "\n",
    "        # Constraints\n",
    "        # TODO: get minimum working hours\n",
    "        # Case start time must be after 8 AM\n",
    "        # def case_start_time(model, case, session):\n",
    "        #     return model.CASE_START_TIME[case, session] >= self.df_sessions[\"Heure de début\"].min()\n",
    "        # model.CASE_START = pe.Constraint(model.TASKS, rule=case_start_time)\n",
    "\n",
    "        # TODO: create maximum working hours\n",
    "        # # Case end time must be before general working hours 22 PM\n",
    "        # def case_end_time(model, case, session):\n",
    "        #     return model.CASE_START_TIME[case, session] + model.CASE_DURATION[case] <= self.df_sessions[\"Heure de fin\"].max()\n",
    "        # model.CASE_END_TIME = pe.Constraint(model.TASKS, rule=case_end_time)\n",
    "\n",
    "        # Cases can be assigned to a maximum of one caregiver\n",
    "        def session_assignment(model, case):\n",
    "            return (\n",
    "                sum(\n",
    "                    [\n",
    "                        model.SESSION_ASSIGNED[(case, session)]\n",
    "                        for session in model.CAREGIVERS\n",
    "                    ]\n",
    "                )\n",
    "                <= 1\n",
    "            )\n",
    "\n",
    "        model.SESSION_ASSIGNMENT = pe.Constraint(\n",
    "            model.CASES, rule=session_assignment\n",
    "        )\n",
    "\n",
    "        # TODO: create bounding box deadlines\n",
    "        # Constraint 4: Cases must be completed before their target deadline\n",
    "        # def set_deadline_condition(model, case, session):\n",
    "        #     return model.SESSION_DATES[session] <= model.CASE_DEADLINES[case] + ((1 - model.SESSION_ASSIGNED[case, session])*model.M)\n",
    "        # model.APPLY_DEADLINE = pe.Constraint(model.TASKS, rule=set_deadline_condition)\n",
    "\n",
    "        # Constraint 5: No two cases can overlap\n",
    "        # def no_case_overlap(model, case1, case2, caregiver):\n",
    "        #     return [model.CASE_START_TIME[case1, caregiver] + model.CASE_DURATION[case1] <= model.CASE_START_TIME[case2, caregiver] + \\\n",
    "        #             ((2 - model.SESSION_ASSIGNED[case1, caregiver] - model.SESSION_ASSIGNED[case2, caregiver])*model.M),\n",
    "        #             model.CASE_START_TIME[case2, caregiver] + model.CASE_DURATION[case2] <= model.CASE_START_TIME[case1, caregiver] + \\\n",
    "        #             ((2 - model.SESSION_ASSIGNED[case1, caregiver] - model.SESSION_ASSIGNED[case2, caregiver])*model.M)]\n",
    "        # model.DISJUNCTIONS_RULE = pyogdp.Disjunction(model.DISJUNCTIONS, rule=no_case_overlap)\n",
    "\n",
    "        # pe.TransformationFactory(\"gdp.bigm\").apply_to(model)\n",
    "\n",
    "        return model\n",
    "\n",
    "    def solve(self):\n",
    "        # Create solver (synchronous solve)\n",
    "        solver = pe.SolverFactory(\"cbc\", executable=\"/opt/homebrew/bin/cbc\")\n",
    "\n",
    "        # Add solver parameters (time limit)\n",
    "        options = {\"seconds\": 60}\n",
    "        for key, value in options.items():\n",
    "            solver.options[key] = value\n",
    "\n",
    "        # Solve model (verbose)\n",
    "        solver_results = solver.solve(self.model, tee=True)\n",
    "        return solver_results"
   ]
  },
  {
   "cell_type": "code",
   "execution_count": null,
   "metadata": {},
   "outputs": [],
   "source": [
    "scheduler.df_sessions"
   ]
  },
  {
   "cell_type": "code",
   "execution_count": null,
   "metadata": {},
   "outputs": [],
   "source": [
    "scheduler = CareScheduler(excel_file)"
   ]
  },
  {
   "cell_type": "code",
   "execution_count": null,
   "metadata": {},
   "outputs": [],
   "source": [
    "solver_results = scheduler.solve()"
   ]
  },
  {
   "cell_type": "code",
   "execution_count": null,
   "metadata": {},
   "outputs": [],
   "source": [
    "solver_results"
   ]
  },
  {
   "cell_type": "code",
   "execution_count": null,
   "metadata": {},
   "outputs": [],
   "source": []
  },
  {
   "cell_type": "code",
   "execution_count": null,
   "metadata": {},
   "outputs": [],
   "source": []
  },
  {
   "cell_type": "code",
   "execution_count": null,
   "metadata": {},
   "outputs": [],
   "source": [
    "model = scheduler.model"
   ]
  },
  {
   "cell_type": "code",
   "execution_count": null,
   "metadata": {},
   "outputs": [],
   "source": [
    "solver = pe.SolverFactory(\"cbc\", executable=\"/opt/homebrew/bin/cbc\")\n",
    "# Add solver parameters (time limit)\n",
    "options = {\"seconds\": 60}\n",
    "for key, value in options.items():\n",
    "    solver.options[key] = value"
   ]
  },
  {
   "cell_type": "code",
   "execution_count": null,
   "metadata": {},
   "outputs": [],
   "source": [
    "solver_results = solver.solve(model, tee=True)"
   ]
  },
  {
   "cell_type": "code",
   "execution_count": null,
   "metadata": {},
   "outputs": [],
   "source": []
  },
  {
   "cell_type": "code",
   "execution_count": null,
   "metadata": {},
   "outputs": [],
   "source": []
  },
  {
   "cell_type": "code",
   "execution_count": null,
   "metadata": {},
   "outputs": [],
   "source": []
  },
  {
   "cell_type": "code",
   "execution_count": null,
   "metadata": {},
   "outputs": [],
   "source": []
  },
  {
   "cell_type": "code",
   "execution_count": null,
   "metadata": {},
   "outputs": [],
   "source": []
  },
  {
   "cell_type": "code",
   "execution_count": null,
   "metadata": {},
   "outputs": [],
   "source": []
  },
  {
   "cell_type": "code",
   "execution_count": null,
   "metadata": {},
   "outputs": [],
   "source": [
    "# List of case IDs in surgical waiting list\n",
    "model.CASES = pe.Set(initialize=self.df_cases[\"CaseID\"].tolist())\n",
    "# List of sessions IDs\n",
    "model.SESSIONS = pe.Set(initialize=self.df_sessions[\"SessionID\"].tolist())"
   ]
  },
  {
   "cell_type": "code",
   "execution_count": null,
   "metadata": {},
   "outputs": [],
   "source": [
    "def objective_function(model):\n",
    "    return pe.summation(model.UTILISATION)\n",
    "\n",
    "\n",
    "model.OBJECTIVE = pe.Objective(rule=objective_function, sense=pe.maximize)"
   ]
  }
 ],
 "metadata": {
  "kernelspec": {
   "display_name": ".venv",
   "language": "python",
   "name": "python3"
  },
  "language_info": {
   "codemirror_mode": {
    "name": "ipython",
    "version": 3
   },
   "file_extension": ".py",
   "mimetype": "text/x-python",
   "name": "python",
   "nbconvert_exporter": "python",
   "pygments_lexer": "ipython3",
   "version": "3.10.7"
  }
 },
 "nbformat": 4,
 "nbformat_minor": 2
}
