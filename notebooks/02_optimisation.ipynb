{
 "cells": [
  {
   "cell_type": "code",
   "execution_count": null,
   "metadata": {},
   "outputs": [],
   "source": [
    "!pip install pyomo==6.7.1"
   ]
  },
  {
   "cell_type": "code",
   "execution_count": null,
   "metadata": {},
   "outputs": [],
   "source": [
    "from pathlib import Path\n",
    "\n",
    "import pandas as pd"
   ]
  },
  {
   "cell_type": "code",
   "execution_count": null,
   "metadata": {},
   "outputs": [],
   "source": [
    "excel_file = Path(\"../data/ChallengeXHEC23022024.xlsx\")"
   ]
  },
  {
   "cell_type": "code",
   "execution_count": null,
   "metadata": {},
   "outputs": [],
   "source": [
    "schedule = pd.read_excel(excel_file, sheet_name=0)\n",
    "clients = pd.read_excel(excel_file, sheet_name=1)\n",
    "caregivers = pd.read_excel(excel_file, sheet_name=2)"
   ]
  },
  {
   "cell_type": "code",
   "execution_count": null,
   "metadata": {},
   "outputs": [],
   "source": [
    "schedule.Prestation.unique()"
   ]
  },
  {
   "cell_type": "code",
   "execution_count": null,
   "metadata": {},
   "outputs": [],
   "source": [
    "discard_list = [\n",
    "    \"ADMINISTRATION\",\n",
    "    \"VISITE MEDICALE\",\n",
    "    \"FORMATION\",\n",
    "    \"COORDINATION\",\n",
    "    \"HOMMES TOUTES MAINS\",\n",
    "]"
   ]
  },
  {
   "cell_type": "code",
   "execution_count": null,
   "metadata": {},
   "outputs": [],
   "source": [
    "sched_one_day = schedule.loc[schedule.Date == \"2024-01-03\", :]"
   ]
  },
  {
   "cell_type": "code",
   "execution_count": null,
   "metadata": {},
   "outputs": [],
   "source": [
    "sched_one_day.Prestation.value_counts()"
   ]
  },
  {
   "cell_type": "code",
   "execution_count": null,
   "metadata": {},
   "outputs": [],
   "source": [
    "sched_one_day = sched_one_day[~sched_one_day.Prestation.isin(discard_list)]"
   ]
  },
  {
   "cell_type": "code",
   "execution_count": null,
   "metadata": {},
   "outputs": [],
   "source": [
    "sched_one_day[\"idx\"] = sched_one_day.index"
   ]
  },
  {
   "cell_type": "code",
   "execution_count": null,
   "metadata": {},
   "outputs": [],
   "source": [
    "from datetime import datetime\n",
    "\n",
    "common_date = sched_one_day[\"Date\"].iloc[0]\n",
    "sched_one_day[\"Heure de fin\"] = sched_one_day[\"Heure de fin\"].apply(\n",
    "    lambda x: datetime.combine(common_date, x)\n",
    ")\n",
    "sched_one_day[\"Heure de début\"] = sched_one_day[\"Heure de début\"].apply(\n",
    "    lambda x: datetime.combine(common_date, x)\n",
    ")\n",
    "sched_one_day[\"Duration\"] = (\n",
    "    sched_one_day[\"Heure de fin\"] - sched_one_day[\"Heure de début\"]\n",
    ")\n",
    "sched_one_day[\"Duration\"] = sched_one_day[\"Duration\"].apply(\n",
    "    lambda x: x.seconds // 60\n",
    ")"
   ]
  },
  {
   "cell_type": "code",
   "execution_count": null,
   "metadata": {},
   "outputs": [],
   "source": [
    "sched_one_day"
   ]
  },
  {
   "cell_type": "code",
   "execution_count": null,
   "metadata": {},
   "outputs": [],
   "source": [
    "caregivers"
   ]
  },
  {
   "cell_type": "code",
   "execution_count": null,
   "metadata": {},
   "outputs": [],
   "source": []
  },
  {
   "cell_type": "code",
   "execution_count": null,
   "metadata": {},
   "outputs": [],
   "source": [
    "schedule"
   ]
  },
  {
   "cell_type": "code",
   "execution_count": null,
   "metadata": {},
   "outputs": [],
   "source": []
  },
  {
   "cell_type": "code",
   "execution_count": null,
   "metadata": {},
   "outputs": [],
   "source": []
  },
  {
   "cell_type": "code",
   "execution_count": null,
   "metadata": {},
   "outputs": [],
   "source": []
  },
  {
   "cell_type": "code",
   "execution_count": null,
   "metadata": {},
   "outputs": [],
   "source": [
    "# Import pyomo libraries\n",
    "import pyomo.environ as pe\n",
    "import pyomo.gdp as pyogdp\n",
    "\n",
    "from itertools import product"
   ]
  },
  {
   "cell_type": "code",
   "execution_count": null,
   "metadata": {},
   "outputs": [],
   "source": [
    "test = sched_one_day[\"Heure de début\"].iloc[0] - pd.to_datetime(\n",
    "    \"2024-01-03 00:00:00\"\n",
    ")\n",
    "\n",
    "test.seconds // 60"
   ]
  },
  {
   "cell_type": "code",
   "execution_count": null,
   "metadata": {},
   "outputs": [],
   "source": [
    "class CareScheduler:\n",
    "    def __init__(self, excel_file):\n",
    "        \"\"\"\n",
    "        Read cargiver and session data into Pandas DataFrames\n",
    "        Args:\n",
    "            excel_file (str): path to data in excel format\n",
    "        \"\"\"\n",
    "        try:\n",
    "            clients = pd.read_excel(excel_file, sheet_name=1)\n",
    "            sessions = pd.read_excel(excel_file, sheet_name=0)\n",
    "\n",
    "            # NOTE: remove later\n",
    "            sessions = sessions.loc[sessions.Date == \"2024-01-03\", :]\n",
    "            sessions[\"idx\"] = sessions.index\n",
    "\n",
    "            # create duration\n",
    "            common_date = sessions[\"Date\"].iloc[0]\n",
    "            sessions[\"Heure de fin\"] = sessions[\"Heure de fin\"].apply(\n",
    "                lambda x: datetime.combine(common_date, x)\n",
    "            )\n",
    "            sessions[\"Heure de début\"] = sessions[\"Heure de début\"].apply(\n",
    "                lambda x: datetime.combine(common_date, x)\n",
    "            )\n",
    "            sessions[\"Duration\"] = (\n",
    "                sessions[\"Heure de fin\"] - sessions[\"Heure de début\"]\n",
    "            )\n",
    "            sessions[\"Duration\"] = sessions[\"Duration\"].apply(\n",
    "                lambda x: x.seconds // 60\n",
    "            )\n",
    "\n",
    "            sessions[\"Start_time\"] = sessions[\n",
    "                \"Heure de début\"\n",
    "            ] - pd.to_datetime(\"2024-01-03 00:00:00\")\n",
    "            sessions[\"Start_time\"] = sessions[\"Start_time\"].apply(\n",
    "                lambda x: x.seconds // 60\n",
    "            )\n",
    "\n",
    "            # discard\n",
    "            discard_list = [\n",
    "                \"ADMINISTRATION\",\n",
    "                \"VISITE MEDICALE\",\n",
    "                \"FORMATION\",\n",
    "                \"COORDINATION\",\n",
    "                \"HOMMES TOUTES MAINS\",\n",
    "            ]\n",
    "            sessions = sessions[~sessions.Prestation.isin(discard_list)]\n",
    "\n",
    "            sessions = sessions.merge(clients, how=\"left\", on=\"ID Client\")\n",
    "            sessions = sessions.drop(columns=\"ID Intervenant\")\n",
    "            self.df_sessions = sessions\n",
    "        except FileNotFoundError:\n",
    "            print(\"Session data not found.\")\n",
    "\n",
    "        try:\n",
    "            self.df_cargeivers = pd.read_excel(excel_file, sheet_name=2)\n",
    "            # TODO: take kaans matrix -> filter cargeivers if they are not available today\n",
    "        except FileNotFoundError:\n",
    "            print(\"Caregiver data not found\")\n",
    "\n",
    "        self.model = self.create_model()\n",
    "\n",
    "    def _generate_case_durations(self):\n",
    "        \"\"\"\n",
    "        Generate mapping of cases IDs to case time for the procedure\n",
    "        Returns:\n",
    "            (dict): dictionary with CaseID as key and median case time (mins) for procedure as value\n",
    "        \"\"\"\n",
    "        return pd.Series(\n",
    "            self.df_sessions[\"Duration\"].values, index=self.df_sessions[\"idx\"]\n",
    "        ).to_dict()\n",
    "\n",
    "    def _generate_start_time(self, tasks):\n",
    "        tasks_df = pd.DataFrame(tasks, columns=[\"idx\", \"Cargegiver_ID\"])\n",
    "\n",
    "        temp = pd.DataFrame(\n",
    "            self.df_sessions[\"Start_time\"].values,\n",
    "            index=self.df_sessions[\"idx\"],\n",
    "            columns=[\"Start_time\"],\n",
    "        )  # .to_dict()\n",
    "\n",
    "        temp = tasks_df.merge(\n",
    "            temp, how=\"left\", right_index=True, left_on=\"idx\"\n",
    "        )\n",
    "\n",
    "        arrays = [\n",
    "            temp[\"idx\"].to_list(),\n",
    "            temp[\"Cargegiver_ID\"].to_list(),\n",
    "        ]\n",
    "        tuples = list(zip(*arrays))\n",
    "\n",
    "        index = pd.MultiIndex.from_tuples(\n",
    "            tuples, names=[\"idx\", \"Cargegiver_ID\"]\n",
    "        )\n",
    "        temp = pd.Series(temp[\"Start_time\"].values, index=index)\n",
    "\n",
    "        return temp.to_dict()\n",
    "\n",
    "    def _generate_disjunctions(self):\n",
    "        \"\"\"Returns:\n",
    "        disjunctions (list): list of tuples containing disjunctions\n",
    "        \"\"\"\n",
    "        cases = self.df_sessions[\"idx\"].to_list()\n",
    "        cargivers = self.df_cargeivers[\"ID Intervenant\"].to_list()\n",
    "        disjunctions = []\n",
    "        for (case1, case2, cargiver) in product(cases, cases, cargivers):\n",
    "            if (case1 != case2) and (\n",
    "                case2,\n",
    "                case1,\n",
    "                cargiver,\n",
    "            ) not in disjunctions:\n",
    "                disjunctions.append((case1, case2, cargiver))\n",
    "\n",
    "        return disjunctions\n",
    "\n",
    "    def create_model(self):\n",
    "        model = pe.ConcreteModel()\n",
    "\n",
    "        # List of case IDs in home care client needs list\n",
    "        model.CASES = pe.Set(initialize=self.df_sessions[\"idx\"].tolist())\n",
    "        # List of potential caregiver IDs\n",
    "        model.CAREGIVERS = pe.Set(\n",
    "            initialize=self.df_cargeivers[\"ID Intervenant\"].tolist()\n",
    "        )\n",
    "        # List of tasks - all possible (caseID, caregiverID) combination\n",
    "        model.TASKS = pe.Set(\n",
    "            initialize=model.CASES * model.CAREGIVERS, dimen=2\n",
    "        )\n",
    "        # The duration (expected case time) for each operation\n",
    "        model.CASE_DURATION = pe.Param(\n",
    "            model.CASES, initialize=self._generate_case_durations()\n",
    "        )\n",
    "        # Start time of a case\n",
    "        model.CASE_START_TIME = pe.Param(\n",
    "            model.TASKS, initialize=self._generate_start_time(model.TASKS)\n",
    "        )\n",
    "\n",
    "        # Decision Variables\n",
    "        ub = 1440  # minutes in a day\n",
    "        model.M = pe.Param(initialize=1e3 * ub)  # big M\n",
    "        # max_util = 0.85\n",
    "\n",
    "        # Binary flag, 1 if case is assigned to session, 0 otherwise\n",
    "        model.SESSION_ASSIGNED = pe.Var(model.TASKS, domain=pe.Binary)\n",
    "        # Downtime of a caregiver caregiver\n",
    "        model.DOWN_TIME = pe.Var(\n",
    "            model.CAREGIVERS, bounds=(0, ub), within=pe.PositiveIntegers\n",
    "        )\n",
    "        # Session utilisation\n",
    "        # model.UTILISATION = pe.Var(model.CAREGIVERS, bounds=(0, max_util), within=pe.PositiveReals)\n",
    "\n",
    "        model.DISJUNCTIONS = pe.Set(\n",
    "            initialize=self._generate_disjunctions(), dimen=3\n",
    "        )\n",
    "\n",
    "        # Objective\n",
    "        def objective_function(model):\n",
    "            return pe.summation(model.DOWN_TIME)\n",
    "            # return sum([model.SESSION_ASSIGNED[case, session] for case in model.CASES for session in model.CAREGIVERS])\n",
    "            # return min(model.UTILISATION.extract_values().values())\n",
    "\n",
    "        model.OBJECTIVE = pe.Objective(\n",
    "            rule=objective_function, sense=pe.minimize\n",
    "        )\n",
    "\n",
    "        # Constraints\n",
    "        # TODO: get minimum working hours\n",
    "        # Case start time must be after 8 AM\n",
    "        # def case_start_time(model, case, session):\n",
    "        #     return model.CASE_START_TIME[case, session] >= self.df_sessions[\"Heure de début\"].min()\n",
    "        # model.CASE_START = pe.Constraint(model.TASKS, rule=case_start_time)\n",
    "\n",
    "        # TODO: create maximum working hours\n",
    "        # # Case end time must be before general working hours 22 PM\n",
    "        # def case_end_time(model, case, session):\n",
    "        #     return model.CASE_START_TIME[case, session] + model.CASE_DURATION[case] <= self.df_sessions[\"Heure de fin\"].max()\n",
    "        # model.CASE_END_TIME = pe.Constraint(model.TASKS, rule=case_end_time)\n",
    "\n",
    "        # Cases can be assigned to a maximum of one caregiver\n",
    "        def session_assignment(model, case):\n",
    "            return (\n",
    "                sum(\n",
    "                    [\n",
    "                        model.SESSION_ASSIGNED[(case, session)]\n",
    "                        for session in model.CAREGIVERS\n",
    "                    ]\n",
    "                )\n",
    "                <= 1\n",
    "            )\n",
    "\n",
    "        model.SESSION_ASSIGNMENT = pe.Constraint(\n",
    "            model.CASES, rule=session_assignment\n",
    "        )\n",
    "\n",
    "        # Constraint 6: Utilisation is defined as fraction of a theatre session taken up by cases\n",
    "        def theatre_util(model, session):\n",
    "            return model.DOWN_TIME[session] == 1440 - sum(\n",
    "                [\n",
    "                    model.SESSION_ASSIGNED[case, session]\n",
    "                    * model.CASE_DURATION[case]\n",
    "                    for case in model.CASES\n",
    "                ]\n",
    "            )\n",
    "\n",
    "        model.THEATRE_UTIL = pe.Constraint(model.CAREGIVERS, rule=theatre_util)\n",
    "\n",
    "        # Constraint 6: Make sure the caregivers have shifts of 9 hours\n",
    "        # somehow this does not work because of non constant pyomo expressions\n",
    "        # def working_hours(model, caregiver):\n",
    "        #     return 540 >= max([model.SESSION_ASSIGNED[case, caregiver]*model.CASE_START_TIME[case, caregiver] for case in model.CASES]) - min([model.SESSION_ASSIGNED[case, caregiver]*model.CASE_START_TIME[case, caregiver] for case in model.CASES])\n",
    "        # model.WORKING_HOURS = pe.Constraint(model.CAREGIVERS, rule=working_hours)\n",
    "\n",
    "        # TODO: -> question 3 if someone has no work\n",
    "        # def compare_utils(model, caregiver):\n",
    "        #     return model.UTILISATION[caregiver] >= 0.13\n",
    "        # model.ALL_MIN = pe.Constraint(model.CAREGIVERS, rule=compare_utils)\n",
    "\n",
    "        # TODO: create bounding box deadlines\n",
    "        # Constraint 4: Cases must be completed before their target deadline\n",
    "        # def set_deadline_condition(model, case, session):\n",
    "        #     return model.SESSION_DATES[session] <= model.CASE_DEADLINES[case] + ((1 - model.SESSION_ASSIGNED[case, session])*model.M)\n",
    "        # model.APPLY_DEADLINE = pe.Constraint(model.TASKS, rule=set_deadline_condition)\n",
    "\n",
    "        # Constraint 5: No two cases can overlap\n",
    "        def no_case_overlap(model, case1, case2, caregiver):\n",
    "            return [\n",
    "                model.CASE_START_TIME[case1, caregiver]\n",
    "                + model.CASE_DURATION[case1]\n",
    "                <= model.CASE_START_TIME[case2, caregiver]\n",
    "                + (\n",
    "                    (\n",
    "                        2\n",
    "                        - model.SESSION_ASSIGNED[case1, caregiver]\n",
    "                        - model.SESSION_ASSIGNED[case2, caregiver]\n",
    "                    )\n",
    "                    * model.M\n",
    "                ),\n",
    "                model.CASE_START_TIME[case2, caregiver]\n",
    "                + model.CASE_DURATION[case2]\n",
    "                <= model.CASE_START_TIME[case1, caregiver]\n",
    "                + (\n",
    "                    (\n",
    "                        2\n",
    "                        - model.SESSION_ASSIGNED[case1, caregiver]\n",
    "                        - model.SESSION_ASSIGNED[case2, caregiver]\n",
    "                    )\n",
    "                    * model.M\n",
    "                ),\n",
    "            ]\n",
    "\n",
    "        model.DISJUNCTIONS_RULE = pyogdp.Disjunction(\n",
    "            model.DISJUNCTIONS, rule=no_case_overlap\n",
    "        )\n",
    "\n",
    "        pe.TransformationFactory(\"gdp.bigm\").apply_to(model)\n",
    "\n",
    "        return model\n",
    "\n",
    "    def solve(self):\n",
    "        # Create solver (synchronous solve)\n",
    "        solver = pe.SolverFactory(\"cbc\", executable=\"/opt/homebrew/bin/cbc\")\n",
    "\n",
    "        # Add solver parameters (time limit)\n",
    "        options = {\"seconds\": 60}\n",
    "        for key, value in options.items():\n",
    "            solver.options[key] = value\n",
    "\n",
    "        # Solve model (verbose)\n",
    "        solver_results = solver.solve(self.model, tee=True)\n",
    "        return solver_results"
   ]
  },
  {
   "cell_type": "code",
   "execution_count": null,
   "metadata": {},
   "outputs": [],
   "source": [
    "# min(scheduler.model.UTILISATION.extract_values().values()) # .display()"
   ]
  },
  {
   "cell_type": "code",
   "execution_count": null,
   "metadata": {},
   "outputs": [],
   "source": [
    "scheduler = CareScheduler(excel_file)"
   ]
  },
  {
   "cell_type": "code",
   "execution_count": null,
   "metadata": {},
   "outputs": [],
   "source": [
    "solver_results = scheduler.solve()"
   ]
  },
  {
   "cell_type": "code",
   "execution_count": null,
   "metadata": {},
   "outputs": [],
   "source": [
    "model = scheduler.model"
   ]
  },
  {
   "cell_type": "code",
   "execution_count": null,
   "metadata": {},
   "outputs": [],
   "source": [
    "model.DOWN_TIME.display()  # .extract_values()"
   ]
  },
  {
   "cell_type": "code",
   "execution_count": null,
   "metadata": {},
   "outputs": [],
   "source": [
    "actions = [\n",
    "    k for k, v in model.SESSION_ASSIGNED.extract_values().items() if v == 1\n",
    "]"
   ]
  },
  {
   "cell_type": "code",
   "execution_count": null,
   "metadata": {},
   "outputs": [],
   "source": [
    "actions[0]"
   ]
  },
  {
   "cell_type": "code",
   "execution_count": null,
   "metadata": {},
   "outputs": [],
   "source": [
    "actions_df = pd.DataFrame(actions, columns=[\"idx\", \"Caregiver_ID\"])"
   ]
  },
  {
   "cell_type": "code",
   "execution_count": null,
   "metadata": {},
   "outputs": [],
   "source": [
    "temp = scheduler.df_sessions.copy()\n",
    "temp = temp.merge(actions_df, how=\"left\", on=\"idx\")\n",
    "temp"
   ]
  },
  {
   "cell_type": "code",
   "execution_count": null,
   "metadata": {},
   "outputs": [],
   "source": [
    "temp.Caregiver_ID.isna().mean()"
   ]
  },
  {
   "cell_type": "code",
   "execution_count": null,
   "metadata": {},
   "outputs": [],
   "source": [
    "temp.style"
   ]
  },
  {
   "cell_type": "code",
   "execution_count": null,
   "metadata": {},
   "outputs": [],
   "source": []
  },
  {
   "cell_type": "code",
   "execution_count": null,
   "metadata": {},
   "outputs": [],
   "source": []
  },
  {
   "cell_type": "code",
   "execution_count": null,
   "metadata": {},
   "outputs": [],
   "source": []
  },
  {
   "cell_type": "code",
   "execution_count": null,
   "metadata": {},
   "outputs": [],
   "source": []
  },
  {
   "cell_type": "code",
   "execution_count": null,
   "metadata": {},
   "outputs": [],
   "source": [
    "# model.pprint()\n",
    "# model.x.pprint()"
   ]
  },
  {
   "cell_type": "code",
   "execution_count": null,
   "metadata": {},
   "outputs": [],
   "source": []
  },
  {
   "cell_type": "code",
   "execution_count": null,
   "metadata": {},
   "outputs": [],
   "source": [
    "import plotly.express as px"
   ]
  },
  {
   "cell_type": "code",
   "execution_count": null,
   "metadata": {},
   "outputs": [],
   "source": [
    "def plot_agenda_for_intervenant(intervenant_id):\n",
    "    intervenant_agenda = temp[temp[\"Caregiver_ID\"] == intervenant_id]\n",
    "    intervenant_agenda_sorted = intervenant_agenda.sort_values(\n",
    "        by=[\"Date\", \"Heure de début\"]\n",
    "    )\n",
    "\n",
    "    df_timeline = intervenant_agenda_sorted.copy()\n",
    "    df_timeline[\"Start\"] = pd.to_datetime(df_timeline[\"Heure de début\"])\n",
    "    df_timeline[\"Finish\"] = pd.to_datetime(df_timeline[\"Heure de fin\"])\n",
    "    df_timeline[\"Task\"] = df_timeline[\"Prestation\"]\n",
    "    df_timeline[\"Resource\"] = df_timeline[\"Caregiver_ID\"].astype(str)\n",
    "\n",
    "    fig = px.timeline(\n",
    "        df_timeline,\n",
    "        x_start=\"Start\",\n",
    "        x_end=\"Finish\",\n",
    "        y=\"Task\",\n",
    "        color=\"Resource\",\n",
    "    )\n",
    "    fig.update_yaxes(autorange=\"reversed\")\n",
    "    fig.update_layout(title=f\"Agenda for Intervenant ID: {intervenant_id}\")\n",
    "\n",
    "    fig.update_layout(\n",
    "        xaxis=dict(\n",
    "            rangeselector=dict(\n",
    "                buttons=list(\n",
    "                    [\n",
    "                        dict(\n",
    "                            count=1,\n",
    "                            label=\"1D\",\n",
    "                            step=\"day\",\n",
    "                            stepmode=\"backward\",\n",
    "                        ),\n",
    "                        dict(\n",
    "                            count=7,\n",
    "                            label=\"1W\",\n",
    "                            step=\"day\",\n",
    "                            stepmode=\"backward\",\n",
    "                        ),\n",
    "                        dict(step=\"all\"),\n",
    "                    ]\n",
    "                )\n",
    "            ),\n",
    "            rangeslider=dict(visible=True),\n",
    "            type=\"date\",\n",
    "        )\n",
    "    )\n",
    "\n",
    "    fig.show()"
   ]
  },
  {
   "cell_type": "code",
   "execution_count": null,
   "metadata": {},
   "outputs": [],
   "source": [
    "for intervenant_id in temp[\"Cargegiver_ID\"].unique():\n",
    "    plot_agenda_for_intervenant(intervenant_id)"
   ]
  },
  {
   "cell_type": "code",
   "execution_count": null,
   "metadata": {},
   "outputs": [],
   "source": []
  },
  {
   "cell_type": "code",
   "execution_count": null,
   "metadata": {},
   "outputs": [],
   "source": []
  },
  {
   "cell_type": "code",
   "execution_count": null,
   "metadata": {},
   "outputs": [],
   "source": []
  },
  {
   "cell_type": "code",
   "execution_count": null,
   "metadata": {},
   "outputs": [],
   "source": []
  }
 ],
 "metadata": {
  "kernelspec": {
   "display_name": ".venv",
   "language": "python",
   "name": "python3"
  },
  "language_info": {
   "codemirror_mode": {
    "name": "ipython",
    "version": 3
   },
   "file_extension": ".py",
   "mimetype": "text/x-python",
   "name": "python",
   "nbconvert_exporter": "python",
   "pygments_lexer": "ipython3",
   "version": "3.10.7"
  }
 },
 "nbformat": 4,
 "nbformat_minor": 2
}
