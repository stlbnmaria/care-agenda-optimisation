{
 "cells": [
  {
   "cell_type": "code",
   "execution_count": null,
   "metadata": {},
   "outputs": [],
   "source": [
    "import pandas as pd\n",
    "import plotly.express as px"
   ]
  },
  {
   "cell_type": "code",
   "execution_count": null,
   "metadata": {},
   "outputs": [],
   "source": [
    "# Load data\n",
    "file_path = '../data/ChallengeXHEC23022024.xlsx'\n",
    "excel_data = pd.ExcelFile(file_path)\n",
    "\n",
    "\n",
    "jan24_df = pd.read_excel(excel_data, sheet_name='JAN24')\n",
    "clients_df = pd.read_excel(excel_data, sheet_name='clients')\n",
    "intervenants_df = pd.read_excel(excel_data, sheet_name='intervenants')"
   ]
  },
  {
   "cell_type": "code",
   "execution_count": null,
   "metadata": {},
   "outputs": [],
   "source": [
    "# Analyze start/end times for each type of service\n",
    "jan24_df['Heure de début'] = pd.to_datetime(jan24_df['Heure de début'], format='%H:%M:%S').dt.time\n",
    "jan24_df['Heure de fin'] = pd.to_datetime(jan24_df['Heure de fin'], format='%H:%M:%S').dt.time\n",
    "service_constraints = jan24_df.groupby('Prestation').agg({'Heure de début': ['min', 'max'], 'Heure de fin': ['min', 'max']})\n",
    "service_constraints.columns = ['Start Time Earliest', 'Start Time Latest', 'End Time Earliest', 'End Time Latest']\n",
    "service_constraints.reset_index(inplace=True)\n",
    "\n",
    "\n",
    "print(service_constraints)"
   ]
  },
  {
   "cell_type": "code",
   "execution_count": null,
   "metadata": {},
   "outputs": [],
   "source": [
    "# Segment clients according to their needs\n",
    "client_needs = jan24_df.groupby(['ID Client', 'Prestation']).size().unstack(fill_value=0)\n",
    "\n",
    "print(client_needs)"
   ]
  },
  {
   "cell_type": "code",
   "execution_count": null,
   "metadata": {},
   "outputs": [],
   "source": [
    "# Segment days according to the services offered\n",
    "jan24_df['Day of Week'] = jan24_df['Date'].dt.dayofweek\n",
    "jan24_df['Day Type'] = jan24_df['Day of Week'].apply(lambda x: 'Weekend' if x > 4 else 'Weekday')\n",
    "day_segmentation = jan24_df.groupby(['Day Type', 'Prestation']).size().unstack(fill_value=0)\n",
    "\n",
    "print(day_segmentation)\n"
   ]
  },
  {
   "cell_type": "markdown",
   "metadata": {},
   "source": [
    "# Plotting agenda of Caretakers"
   ]
  },
  {
   "cell_type": "code",
   "execution_count": null,
   "metadata": {},
   "outputs": [],
   "source": [
    "jan24_df['Start DateTime'] = pd.to_datetime(jan24_df['Date'].astype(str) + ' ' + jan24_df['Heure de début'].astype(str))\n",
    "jan24_df['End DateTime'] = pd.to_datetime(jan24_df['Date'].astype(str) + ' ' + jan24_df['Heure de fin'].astype(str))"
   ]
  },
  {
   "cell_type": "code",
   "execution_count": null,
   "metadata": {},
   "outputs": [],
   "source": [
    "def plot_agenda_for_intervenant(intervenant_id):\n",
    "    intervenant_agenda = jan24_df[jan24_df['ID Intervenant'] == intervenant_id]\n",
    "    intervenant_agenda_sorted = intervenant_agenda.sort_values(by=['Date', 'Heure de début'])\n",
    "\n",
    "    df_timeline = intervenant_agenda_sorted.copy()\n",
    "    df_timeline['Start'] = pd.to_datetime(df_timeline['Start DateTime'])\n",
    "    df_timeline['Finish'] = pd.to_datetime(df_timeline['End DateTime'])\n",
    "    df_timeline['Task'] = df_timeline['Prestation']\n",
    "    df_timeline['Resource'] = df_timeline['ID Intervenant'].astype(str)\n",
    "\n",
    "    fig = px.timeline(df_timeline, x_start=\"Start\", x_end=\"Finish\", y=\"Task\", color=\"Resource\")\n",
    "    fig.update_yaxes(autorange=\"reversed\")\n",
    "    fig.update_layout(title=f\"Agenda for Intervenant ID: {intervenant_id}\")\n",
    "\n",
    "    fig.update_layout(\n",
    "    xaxis=dict(\n",
    "        rangeselector=dict(\n",
    "            buttons=list([\n",
    "                dict(count=1, label='1D', step='day', stepmode='backward'),\n",
    "                dict(count=7, label='1W', step='day', stepmode='backward'),\n",
    "                dict(step='all')\n",
    "            ])\n",
    "        ),\n",
    "        rangeslider=dict(\n",
    "            visible=True\n",
    "        ),\n",
    "        type='date'\n",
    "    )\n",
    ")\n",
    "\n",
    "    fig.show()"
   ]
  },
  {
   "cell_type": "code",
   "execution_count": null,
   "metadata": {},
   "outputs": [],
   "source": [
    "for intervenant_id in jan24_df['ID Intervenant'].unique():\n",
    "    plot_agenda_for_intervenant(intervenant_id)"
   ]
  }
 ],
 "metadata": {
  "kernelspec": {
   "display_name": "health",
   "language": "python",
   "name": "python3"
  },
  "language_info": {
   "codemirror_mode": {
    "name": "ipython",
    "version": 3
   },
   "file_extension": ".py",
   "mimetype": "text/x-python",
   "name": "python",
   "nbconvert_exporter": "python",
   "pygments_lexer": "ipython3",
   "version": "3.11.7"
  }
 },
 "nbformat": 4,
 "nbformat_minor": 2
}
