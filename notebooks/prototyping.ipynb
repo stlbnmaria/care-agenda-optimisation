{
 "cells": [
  {
   "cell_type": "code",
   "execution_count": null,
   "metadata": {},
   "outputs": [],
   "source": [
    "import pandas as pd\n",
    "import plotly.express as px"
   ]
  },
  {
   "cell_type": "code",
   "execution_count": null,
   "metadata": {},
   "outputs": [],
   "source": [
    "# Load data\n",
    "file_path = \"../data/ChallengeXHEC23022024.xlsx\"\n",
    "excel_data = pd.ExcelFile(file_path)\n",
    "\n",
    "\n",
    "jan24_df = pd.read_excel(excel_data, sheet_name=\"JAN24\")\n",
    "clients_df = pd.read_excel(excel_data, sheet_name=\"clients\")\n",
    "intervenants_df = pd.read_excel(excel_data, sheet_name=\"intervenants\")"
   ]
  },
  {
   "cell_type": "code",
   "execution_count": null,
   "metadata": {},
   "outputs": [],
   "source": [
    "# Analyze start/end times for each type of service\n",
    "jan24_df[\"Heure de début\"] = pd.to_datetime(\n",
    "    jan24_df[\"Heure de début\"], format=\"%H:%M:%S\"\n",
    ").dt.time\n",
    "jan24_df[\"Heure de fin\"] = pd.to_datetime(\n",
    "    jan24_df[\"Heure de fin\"], format=\"%H:%M:%S\"\n",
    ").dt.time\n",
    "service_constraints = jan24_df.groupby(\"Prestation\").agg(\n",
    "    {\"Heure de début\": [\"min\", \"max\"], \"Heure de fin\": [\"min\", \"max\"]}\n",
    ")\n",
    "service_constraints.columns = [\n",
    "    \"Start Time Earliest\",\n",
    "    \"Start Time Latest\",\n",
    "    \"End Time Earliest\",\n",
    "    \"End Time Latest\",\n",
    "]\n",
    "service_constraints.reset_index(inplace=True)\n",
    "\n",
    "\n",
    "print(service_constraints)"
   ]
  },
  {
   "cell_type": "code",
   "execution_count": null,
   "metadata": {},
   "outputs": [],
   "source": [
    "prestation_segmented_data = {prestation: group for prestation, group in jan24_df.groupby('Prestation')}\n",
    "\n",
    "\n",
    "toilette_data = prestation_segmented_data['TOILETTE']  # Replace 'TOILETTE' with the desired service segmented data\n"
   ]
  },
  {
   "cell_type": "code",
   "execution_count": null,
   "metadata": {},
   "outputs": [],
   "source": [
    "# Segment clients according to their needs\n",
    "client_needs = (\n",
    "    jan24_df.groupby([\"ID Client\", \"Prestation\"]).size().unstack(fill_value=0)\n",
    ")\n",
    "\n",
    "print(client_needs)"
   ]
  },
  {
   "cell_type": "code",
   "execution_count": null,
   "metadata": {},
   "outputs": [],
   "source": [
    "# Segment days according to the services offered\n",
    "jan24_df[\"Day of Week\"] = jan24_df[\"Date\"].dt.dayofweek\n",
    "jan24_df[\"Day Type\"] = jan24_df[\"Day of Week\"].apply(\n",
    "    lambda x: \"Weekend\" if x > 4 else \"Weekday\"\n",
    ")\n",
    "day_segmentation = (\n",
    "    jan24_df.groupby([\"Day Type\", \"Prestation\"]).size().unstack(fill_value=0)\n",
    ")\n",
    "\n",
    "day_segmentation.T"
   ]
  },
  {
   "cell_type": "code",
   "execution_count": null,
   "metadata": {},
   "outputs": [],
   "source": [
    "day_seg_inv = day_segmentation.T\n",
    "print(\n",
    "    \"Weekday services: \", day_seg_inv[day_seg_inv.Weekday > 0].index.to_list()\n",
    ")\n",
    "print(\n",
    "    \"Weekend services: \", day_seg_inv[day_seg_inv.Weekend > 0].index.to_list()\n",
    ")"
   ]
  },
  {
   "cell_type": "markdown",
   "metadata": {},
   "source": [
    "# Plotting agenda of Caretakers"
   ]
  },
  {
   "cell_type": "code",
   "execution_count": null,
   "metadata": {},
   "outputs": [],
   "source": [
    "jan24_df[\"Start DateTime\"] = pd.to_datetime(\n",
    "    jan24_df[\"Date\"].astype(str) + \" \" + jan24_df[\"Heure de début\"].astype(str)\n",
    ")\n",
    "jan24_df[\"End DateTime\"] = pd.to_datetime(\n",
    "    jan24_df[\"Date\"].astype(str) + \" \" + jan24_df[\"Heure de fin\"].astype(str)\n",
    ")"
   ]
  },
  {
   "cell_type": "code",
   "execution_count": null,
   "metadata": {},
   "outputs": [],
   "source": [
    "# TODO: add commute time & waittime\n",
    "# TODO: add client id in hover description"
   ]
  },
  {
   "cell_type": "code",
   "execution_count": null,
   "metadata": {},
   "outputs": [],
   "source": [
    "def plot_agenda_for_intervenant(intervenant_id):\n",
    "    intervenant_agenda = jan24_df[jan24_df[\"ID Intervenant\"] == intervenant_id]\n",
    "    intervenant_agenda_sorted = intervenant_agenda.sort_values(\n",
    "        by=[\"Date\", \"Heure de début\"]\n",
    "    )\n",
    "\n",
    "    df_timeline = intervenant_agenda_sorted.copy()\n",
    "    df_timeline[\"Start\"] = pd.to_datetime(df_timeline[\"Start DateTime\"])\n",
    "    df_timeline[\"Finish\"] = pd.to_datetime(df_timeline[\"End DateTime\"])\n",
    "    df_timeline[\"Task\"] = df_timeline[\"Prestation\"]\n",
    "    df_timeline[\"Resource\"] = df_timeline[\"ID Intervenant\"].astype(str)\n",
    "\n",
    "    fig = px.timeline(\n",
    "        df_timeline,\n",
    "        x_start=\"Start\",\n",
    "        x_end=\"Finish\",\n",
    "        y=\"Task\",\n",
    "        color=\"Resource\",\n",
    "    )\n",
    "    fig.update_yaxes(autorange=\"reversed\")\n",
    "    fig.update_layout(title=f\"Agenda for Intervenant ID: {intervenant_id}\")\n",
    "\n",
    "    fig.update_layout(\n",
    "        xaxis=dict(\n",
    "            rangeselector=dict(\n",
    "                buttons=list(\n",
    "                    [\n",
    "                        dict(\n",
    "                            count=1,\n",
    "                            label=\"1D\",\n",
    "                            step=\"day\",\n",
    "                            stepmode=\"backward\",\n",
    "                        ),\n",
    "                        dict(\n",
    "                            count=7,\n",
    "                            label=\"1W\",\n",
    "                            step=\"day\",\n",
    "                            stepmode=\"backward\",\n",
    "                        ),\n",
    "                        dict(step=\"all\"),\n",
    "                    ]\n",
    "                )\n",
    "            ),\n",
    "            rangeslider=dict(visible=True),\n",
    "            type=\"date\",\n",
    "        )\n",
    "    )\n",
    "\n",
    "    fig.show()"
   ]
  },
  {
   "cell_type": "code",
   "execution_count": null,
   "metadata": {},
   "outputs": [],
   "source": [
    "for intervenant_id in jan24_df[\"ID Intervenant\"].unique():\n",
    "    plot_agenda_for_intervenant(intervenant_id)"
   ]
  }
 ],
 "metadata": {
  "kernelspec": {
   "display_name": "health",
   "language": "python",
   "name": "python3"
  },
  "language_info": {
   "codemirror_mode": {
    "name": "ipython",
    "version": 3
   },
   "file_extension": ".py",
   "mimetype": "text/x-python",
   "name": "python",
   "nbconvert_exporter": "python",
   "pygments_lexer": "ipython3",
   "version": "3.10.7"
  }
 },
 "nbformat": 4,
 "nbformat_minor": 2
}
