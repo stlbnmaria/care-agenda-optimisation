{
 "cells": [
  {
   "cell_type": "code",
   "execution_count": 1,
   "metadata": {},
   "outputs": [],
   "source": [
    "import pandas as pd\n",
    "import plotly.express as px\n",
    "import matplotlib.pyplot as plt\n",
    "import plotly.graph_objects as go\n",
    "import numpy as np\n",
    "import holidays\n",
    "import seaborn as sns\n",
    "from plotly.subplots import make_subplots"
   ]
  },
  {
   "cell_type": "code",
   "execution_count": 2,
   "metadata": {},
   "outputs": [],
   "source": [
    "# Load data\n",
    "file_path = \"../data/ChallengeXHEC23022024.xlsx\"\n",
    "excel_data = pd.ExcelFile(file_path)\n",
    "\n",
    "\n",
    "jan24_df = pd.read_excel(excel_data, sheet_name=\"JAN24\")\n",
    "clients_df = pd.read_excel(excel_data, sheet_name=\"clients\")\n",
    "intervenants_df = pd.read_excel(excel_data, sheet_name=\"intervenants\")"
   ]
  },
  {
   "cell_type": "code",
   "execution_count": 3,
   "metadata": {},
   "outputs": [
    {
     "data": {
      "text/html": [
       "<div>\n",
       "<style scoped>\n",
       "    .dataframe tbody tr th:only-of-type {\n",
       "        vertical-align: middle;\n",
       "    }\n",
       "\n",
       "    .dataframe tbody tr th {\n",
       "        vertical-align: top;\n",
       "    }\n",
       "\n",
       "    .dataframe thead th {\n",
       "        text-align: right;\n",
       "    }\n",
       "</style>\n",
       "<table border=\"1\" class=\"dataframe\">\n",
       "  <thead>\n",
       "    <tr style=\"text-align: right;\">\n",
       "      <th></th>\n",
       "      <th>ID Client</th>\n",
       "      <th>ID Intervenant</th>\n",
       "      <th>Date</th>\n",
       "      <th>Heure de début</th>\n",
       "      <th>Heure de fin</th>\n",
       "      <th>Prestation</th>\n",
       "    </tr>\n",
       "  </thead>\n",
       "  <tbody>\n",
       "    <tr>\n",
       "      <th>0</th>\n",
       "      <td>559475456</td>\n",
       "      <td>162858075</td>\n",
       "      <td>2024-01-01</td>\n",
       "      <td>07:15:00</td>\n",
       "      <td>07:45:00</td>\n",
       "      <td>REPAS</td>\n",
       "    </tr>\n",
       "    <tr>\n",
       "      <th>1</th>\n",
       "      <td>559277088</td>\n",
       "      <td>162858075</td>\n",
       "      <td>2024-01-01</td>\n",
       "      <td>07:45:00</td>\n",
       "      <td>08:30:00</td>\n",
       "      <td>TOILETTE</td>\n",
       "    </tr>\n",
       "    <tr>\n",
       "      <th>2</th>\n",
       "      <td>87852633</td>\n",
       "      <td>78007018</td>\n",
       "      <td>2024-01-01</td>\n",
       "      <td>07:45:00</td>\n",
       "      <td>08:30:00</td>\n",
       "      <td>TOILETTE</td>\n",
       "    </tr>\n",
       "    <tr>\n",
       "      <th>3</th>\n",
       "      <td>243033408</td>\n",
       "      <td>810259688</td>\n",
       "      <td>2024-01-01</td>\n",
       "      <td>07:45:00</td>\n",
       "      <td>08:15:00</td>\n",
       "      <td>TOILETTE</td>\n",
       "    </tr>\n",
       "    <tr>\n",
       "      <th>4</th>\n",
       "      <td>814940942</td>\n",
       "      <td>710283561</td>\n",
       "      <td>2024-01-01</td>\n",
       "      <td>07:45:00</td>\n",
       "      <td>09:20:00</td>\n",
       "      <td>TOILETTE</td>\n",
       "    </tr>\n",
       "    <tr>\n",
       "      <th>...</th>\n",
       "      <td>...</td>\n",
       "      <td>...</td>\n",
       "      <td>...</td>\n",
       "      <td>...</td>\n",
       "      <td>...</td>\n",
       "      <td>...</td>\n",
       "    </tr>\n",
       "    <tr>\n",
       "      <th>2865</th>\n",
       "      <td>559277088</td>\n",
       "      <td>710283561</td>\n",
       "      <td>2024-01-31</td>\n",
       "      <td>19:00:00</td>\n",
       "      <td>19:15:00</td>\n",
       "      <td>REPAS</td>\n",
       "    </tr>\n",
       "    <tr>\n",
       "      <th>2866</th>\n",
       "      <td>714782168</td>\n",
       "      <td>810259688</td>\n",
       "      <td>2024-01-31</td>\n",
       "      <td>19:00:00</td>\n",
       "      <td>20:00:00</td>\n",
       "      <td>REPAS</td>\n",
       "    </tr>\n",
       "    <tr>\n",
       "      <th>2867</th>\n",
       "      <td>559475456</td>\n",
       "      <td>710283561</td>\n",
       "      <td>2024-01-31</td>\n",
       "      <td>19:15:00</td>\n",
       "      <td>20:00:00</td>\n",
       "      <td>TOILETTE</td>\n",
       "    </tr>\n",
       "    <tr>\n",
       "      <th>2868</th>\n",
       "      <td>803656603</td>\n",
       "      <td>854577575</td>\n",
       "      <td>2024-01-31</td>\n",
       "      <td>19:20:00</td>\n",
       "      <td>19:50:00</td>\n",
       "      <td>TOILETTE</td>\n",
       "    </tr>\n",
       "    <tr>\n",
       "      <th>2869</th>\n",
       "      <td>315244686</td>\n",
       "      <td>854577575</td>\n",
       "      <td>2024-01-31</td>\n",
       "      <td>20:00:00</td>\n",
       "      <td>20:30:00</td>\n",
       "      <td>TOILETTE</td>\n",
       "    </tr>\n",
       "  </tbody>\n",
       "</table>\n",
       "<p>2870 rows × 6 columns</p>\n",
       "</div>"
      ],
      "text/plain": [
       "      ID Client  ID Intervenant       Date Heure de début Heure de fin  \\\n",
       "0     559475456       162858075 2024-01-01       07:15:00     07:45:00   \n",
       "1     559277088       162858075 2024-01-01       07:45:00     08:30:00   \n",
       "2      87852633        78007018 2024-01-01       07:45:00     08:30:00   \n",
       "3     243033408       810259688 2024-01-01       07:45:00     08:15:00   \n",
       "4     814940942       710283561 2024-01-01       07:45:00     09:20:00   \n",
       "...         ...             ...        ...            ...          ...   \n",
       "2865  559277088       710283561 2024-01-31       19:00:00     19:15:00   \n",
       "2866  714782168       810259688 2024-01-31       19:00:00     20:00:00   \n",
       "2867  559475456       710283561 2024-01-31       19:15:00     20:00:00   \n",
       "2868  803656603       854577575 2024-01-31       19:20:00     19:50:00   \n",
       "2869  315244686       854577575 2024-01-31       20:00:00     20:30:00   \n",
       "\n",
       "     Prestation  \n",
       "0         REPAS  \n",
       "1      TOILETTE  \n",
       "2      TOILETTE  \n",
       "3      TOILETTE  \n",
       "4      TOILETTE  \n",
       "...         ...  \n",
       "2865      REPAS  \n",
       "2866      REPAS  \n",
       "2867   TOILETTE  \n",
       "2868   TOILETTE  \n",
       "2869   TOILETTE  \n",
       "\n",
       "[2870 rows x 6 columns]"
      ]
     },
     "execution_count": 3,
     "metadata": {},
     "output_type": "execute_result"
    }
   ],
   "source": [
    "jan24_df"
   ]
  },
  {
   "cell_type": "code",
   "execution_count": 4,
   "metadata": {},
   "outputs": [
    {
     "data": {
      "text/html": [
       "<div>\n",
       "<style scoped>\n",
       "    .dataframe tbody tr th:only-of-type {\n",
       "        vertical-align: middle;\n",
       "    }\n",
       "\n",
       "    .dataframe tbody tr th {\n",
       "        vertical-align: top;\n",
       "    }\n",
       "\n",
       "    .dataframe thead th {\n",
       "        text-align: right;\n",
       "    }\n",
       "</style>\n",
       "<table border=\"1\" class=\"dataframe\">\n",
       "  <thead>\n",
       "    <tr style=\"text-align: right;\">\n",
       "      <th></th>\n",
       "      <th>ID Client</th>\n",
       "      <th>Latitude</th>\n",
       "      <th>Longitude</th>\n",
       "    </tr>\n",
       "  </thead>\n",
       "  <tbody>\n",
       "    <tr>\n",
       "      <th>0</th>\n",
       "      <td>559475456</td>\n",
       "      <td>48.721052</td>\n",
       "      <td>1.375689</td>\n",
       "    </tr>\n",
       "    <tr>\n",
       "      <th>1</th>\n",
       "      <td>559277088</td>\n",
       "      <td>48.721052</td>\n",
       "      <td>1.375689</td>\n",
       "    </tr>\n",
       "    <tr>\n",
       "      <th>2</th>\n",
       "      <td>87852633</td>\n",
       "      <td>48.691944</td>\n",
       "      <td>1.498773</td>\n",
       "    </tr>\n",
       "    <tr>\n",
       "      <th>3</th>\n",
       "      <td>243033408</td>\n",
       "      <td>48.726393</td>\n",
       "      <td>1.332848</td>\n",
       "    </tr>\n",
       "    <tr>\n",
       "      <th>4</th>\n",
       "      <td>814940942</td>\n",
       "      <td>48.733174</td>\n",
       "      <td>1.370689</td>\n",
       "    </tr>\n",
       "    <tr>\n",
       "      <th>...</th>\n",
       "      <td>...</td>\n",
       "      <td>...</td>\n",
       "      <td>...</td>\n",
       "    </tr>\n",
       "    <tr>\n",
       "      <th>113</th>\n",
       "      <td>334442311</td>\n",
       "      <td>48.771381</td>\n",
       "      <td>1.292168</td>\n",
       "    </tr>\n",
       "    <tr>\n",
       "      <th>114</th>\n",
       "      <td>621952854</td>\n",
       "      <td>48.742805</td>\n",
       "      <td>1.351704</td>\n",
       "    </tr>\n",
       "    <tr>\n",
       "      <th>115</th>\n",
       "      <td>1452858131</td>\n",
       "      <td>48.776801</td>\n",
       "      <td>1.370417</td>\n",
       "    </tr>\n",
       "    <tr>\n",
       "      <th>116</th>\n",
       "      <td>846949801</td>\n",
       "      <td>48.733484</td>\n",
       "      <td>1.371047</td>\n",
       "    </tr>\n",
       "    <tr>\n",
       "      <th>117</th>\n",
       "      <td>1453084257</td>\n",
       "      <td>48.758928</td>\n",
       "      <td>1.249739</td>\n",
       "    </tr>\n",
       "  </tbody>\n",
       "</table>\n",
       "<p>118 rows × 3 columns</p>\n",
       "</div>"
      ],
      "text/plain": [
       "      ID Client   Latitude  Longitude\n",
       "0     559475456  48.721052   1.375689\n",
       "1     559277088  48.721052   1.375689\n",
       "2      87852633  48.691944   1.498773\n",
       "3     243033408  48.726393   1.332848\n",
       "4     814940942  48.733174   1.370689\n",
       "..          ...        ...        ...\n",
       "113   334442311  48.771381   1.292168\n",
       "114   621952854  48.742805   1.351704\n",
       "115  1452858131  48.776801   1.370417\n",
       "116   846949801  48.733484   1.371047\n",
       "117  1453084257  48.758928   1.249739\n",
       "\n",
       "[118 rows x 3 columns]"
      ]
     },
     "execution_count": 4,
     "metadata": {},
     "output_type": "execute_result"
    }
   ],
   "source": [
    "clients_df"
   ]
  },
  {
   "cell_type": "code",
   "execution_count": 5,
   "metadata": {},
   "outputs": [
    {
     "name": "stdout",
     "output_type": "stream",
     "text": [
      "                    Prestation Start Time Earliest Start Time Latest  \\\n",
      "0   ACCOMPAGNEMENTS COURSES PA            08:45:00          17:30:00   \n",
      "1               ADMINISTRATION            07:30:00          14:30:00   \n",
      "2                AIDE MENAGERE            08:00:00          18:15:00   \n",
      "3                 COORDINATION            08:30:00          17:40:00   \n",
      "4              FEMME DE MENAGE            09:00:00          09:00:00   \n",
      "5                    FORMATION            08:30:00          19:30:00   \n",
      "6              GARDE D'ENFANTS            12:00:00          18:20:00   \n",
      "7          HOMMES TOUTES MAINS            10:00:00          13:00:00   \n",
      "8                        REPAS            07:00:00          19:45:00   \n",
      "9                     TOILETTE            07:00:00          20:55:00   \n",
      "10                 VIE SOCIALE            09:00:00          17:40:00   \n",
      "11             VISITE MEDICALE            10:20:00          10:20:00   \n",
      "\n",
      "   End Time Earliest End Time Latest  \n",
      "0           10:00:00        18:00:00  \n",
      "1           11:45:00        18:00:00  \n",
      "2           09:00:00        19:30:00  \n",
      "3           09:50:00        18:10:00  \n",
      "4           12:00:00        12:00:00  \n",
      "5           09:30:00        20:00:00  \n",
      "6           16:30:00        20:20:00  \n",
      "7           11:00:00        14:00:00  \n",
      "8           07:30:00        20:20:00  \n",
      "9           07:45:00        21:30:00  \n",
      "10          11:00:00        18:00:00  \n",
      "11          11:20:00        11:20:00  \n"
     ]
    }
   ],
   "source": [
    "# Analyze start/end times for each type of service\n",
    "jan24_df[\"Heure de début\"] = pd.to_datetime(\n",
    "    jan24_df[\"Heure de début\"], format=\"%H:%M:%S\"\n",
    ").dt.time\n",
    "jan24_df[\"Heure de fin\"] = pd.to_datetime(\n",
    "    jan24_df[\"Heure de fin\"], format=\"%H:%M:%S\"\n",
    ").dt.time\n",
    "service_constraints = jan24_df.groupby(\"Prestation\").agg(\n",
    "    {\"Heure de début\": [\"min\", \"max\"], \"Heure de fin\": [\"min\", \"max\"]}\n",
    ")\n",
    "service_constraints.columns = [\n",
    "    \"Start Time Earliest\",\n",
    "    \"Start Time Latest\",\n",
    "    \"End Time Earliest\",\n",
    "    \"End Time Latest\",\n",
    "]\n",
    "service_constraints.reset_index(inplace=True)\n",
    "\n",
    "\n",
    "print(service_constraints)"
   ]
  },
  {
   "cell_type": "code",
   "execution_count": 6,
   "metadata": {},
   "outputs": [],
   "source": [
    "prestation_segmented_data = {prestation: group for prestation, group in jan24_df.groupby('Prestation')}\n",
    "\n",
    "\n",
    "toilette_data = prestation_segmented_data['TOILETTE']  # Replace 'TOILETTE' with the desired service segmented data\n"
   ]
  },
  {
   "cell_type": "code",
   "execution_count": 7,
   "metadata": {},
   "outputs": [
    {
     "name": "stdout",
     "output_type": "stream",
     "text": [
      "Prestation  ACCOMPAGNEMENTS COURSES PA  ADMINISTRATION  AIDE MENAGERE  \\\n",
      "ID Client                                                               \n",
      "78690893                             0               0             28   \n",
      "78691334                             4               0             13   \n",
      "78691389                             0               0              5   \n",
      "78691461                             0               0              4   \n",
      "78692265                             2               0              5   \n",
      "...                                ...             ...            ...   \n",
      "1452740690                           1               0              0   \n",
      "1452763176                           0               0              3   \n",
      "1452775101                           0               0              0   \n",
      "1452858131                           0               0              0   \n",
      "1453084257                           0               0              2   \n",
      "\n",
      "Prestation  COORDINATION  FEMME DE MENAGE  FORMATION  GARDE D'ENFANTS  \\\n",
      "ID Client                                                               \n",
      "78690893               0                0          0                0   \n",
      "78691334               0                0          0                0   \n",
      "78691389               0                0          0                0   \n",
      "78691461               0                0          0                0   \n",
      "78692265               0                0          0                0   \n",
      "...                  ...              ...        ...              ...   \n",
      "1452740690             0                0          0                0   \n",
      "1452763176             0                0          0                0   \n",
      "1452775101             0                0          0                0   \n",
      "1452858131             0                0          0                0   \n",
      "1453084257             0                0          0                0   \n",
      "\n",
      "Prestation  HOMMES TOUTES MAINS  REPAS  TOILETTE  VIE SOCIALE  VISITE MEDICALE  \n",
      "ID Client                                                                       \n",
      "78690893                      0      0         0            0                0  \n",
      "78691334                      0      0         0            0                0  \n",
      "78691389                      0      0         0            0                0  \n",
      "78691461                      0     49         9            0                0  \n",
      "78692265                      0      0         0            0                0  \n",
      "...                         ...    ...       ...          ...              ...  \n",
      "1452740690                    0      0         0            0                0  \n",
      "1452763176                    0      0         0            0                0  \n",
      "1452775101                    0      0        17            0                0  \n",
      "1452858131                    0      0         3            0                0  \n",
      "1453084257                    0      0         0            0                0  \n",
      "\n",
      "[118 rows x 12 columns]\n"
     ]
    }
   ],
   "source": [
    "# Segment clients according to their needs\n",
    "client_needs = (\n",
    "    jan24_df.groupby([\"ID Client\", \"Prestation\"]).size().unstack(fill_value=0)\n",
    ")\n",
    "\n",
    "print(client_needs)"
   ]
  },
  {
   "cell_type": "code",
   "execution_count": 8,
   "metadata": {},
   "outputs": [
    {
     "data": {
      "text/html": [
       "<div>\n",
       "<style scoped>\n",
       "    .dataframe tbody tr th:only-of-type {\n",
       "        vertical-align: middle;\n",
       "    }\n",
       "\n",
       "    .dataframe tbody tr th {\n",
       "        vertical-align: top;\n",
       "    }\n",
       "\n",
       "    .dataframe thead th {\n",
       "        text-align: right;\n",
       "    }\n",
       "</style>\n",
       "<table border=\"1\" class=\"dataframe\">\n",
       "  <thead>\n",
       "    <tr style=\"text-align: right;\">\n",
       "      <th>Day Type</th>\n",
       "      <th>Weekday</th>\n",
       "      <th>Weekend</th>\n",
       "    </tr>\n",
       "    <tr>\n",
       "      <th>Prestation</th>\n",
       "      <th></th>\n",
       "      <th></th>\n",
       "    </tr>\n",
       "  </thead>\n",
       "  <tbody>\n",
       "    <tr>\n",
       "      <th>ACCOMPAGNEMENTS COURSES PA</th>\n",
       "      <td>83</td>\n",
       "      <td>0</td>\n",
       "    </tr>\n",
       "    <tr>\n",
       "      <th>ADMINISTRATION</th>\n",
       "      <td>79</td>\n",
       "      <td>0</td>\n",
       "    </tr>\n",
       "    <tr>\n",
       "      <th>AIDE MENAGERE</th>\n",
       "      <td>435</td>\n",
       "      <td>8</td>\n",
       "    </tr>\n",
       "    <tr>\n",
       "      <th>COORDINATION</th>\n",
       "      <td>10</td>\n",
       "      <td>0</td>\n",
       "    </tr>\n",
       "    <tr>\n",
       "      <th>FEMME DE MENAGE</th>\n",
       "      <td>4</td>\n",
       "      <td>0</td>\n",
       "    </tr>\n",
       "    <tr>\n",
       "      <th>FORMATION</th>\n",
       "      <td>15</td>\n",
       "      <td>0</td>\n",
       "    </tr>\n",
       "    <tr>\n",
       "      <th>GARDE D'ENFANTS</th>\n",
       "      <td>10</td>\n",
       "      <td>0</td>\n",
       "    </tr>\n",
       "    <tr>\n",
       "      <th>HOMMES TOUTES MAINS</th>\n",
       "      <td>2</td>\n",
       "      <td>0</td>\n",
       "    </tr>\n",
       "    <tr>\n",
       "      <th>REPAS</th>\n",
       "      <td>696</td>\n",
       "      <td>214</td>\n",
       "    </tr>\n",
       "    <tr>\n",
       "      <th>TOILETTE</th>\n",
       "      <td>938</td>\n",
       "      <td>279</td>\n",
       "    </tr>\n",
       "    <tr>\n",
       "      <th>VIE SOCIALE</th>\n",
       "      <td>72</td>\n",
       "      <td>24</td>\n",
       "    </tr>\n",
       "    <tr>\n",
       "      <th>VISITE MEDICALE</th>\n",
       "      <td>1</td>\n",
       "      <td>0</td>\n",
       "    </tr>\n",
       "  </tbody>\n",
       "</table>\n",
       "</div>"
      ],
      "text/plain": [
       "Day Type                    Weekday  Weekend\n",
       "Prestation                                  \n",
       "ACCOMPAGNEMENTS COURSES PA       83        0\n",
       "ADMINISTRATION                   79        0\n",
       "AIDE MENAGERE                   435        8\n",
       "COORDINATION                     10        0\n",
       "FEMME DE MENAGE                   4        0\n",
       "FORMATION                        15        0\n",
       "GARDE D'ENFANTS                  10        0\n",
       "HOMMES TOUTES MAINS               2        0\n",
       "REPAS                           696      214\n",
       "TOILETTE                        938      279\n",
       "VIE SOCIALE                      72       24\n",
       "VISITE MEDICALE                   1        0"
      ]
     },
     "execution_count": 8,
     "metadata": {},
     "output_type": "execute_result"
    }
   ],
   "source": [
    "# Segment days according to the services offered\n",
    "jan24_df[\"Day of Week\"] = jan24_df[\"Date\"].dt.dayofweek\n",
    "jan24_df[\"Day Type\"] = jan24_df[\"Day of Week\"].apply(\n",
    "    lambda x: \"Weekend\" if x > 4 else \"Weekday\"\n",
    ")\n",
    "day_segmentation = (\n",
    "    jan24_df.groupby([\"Day Type\", \"Prestation\"]).size().unstack(fill_value=0)\n",
    ")\n",
    "\n",
    "day_segmentation.T"
   ]
  },
  {
   "cell_type": "code",
   "execution_count": 9,
   "metadata": {},
   "outputs": [
    {
     "name": "stdout",
     "output_type": "stream",
     "text": [
      "Weekday services:  ['ACCOMPAGNEMENTS COURSES PA', 'ADMINISTRATION', 'AIDE MENAGERE', 'COORDINATION', 'FEMME DE MENAGE', 'FORMATION', \"GARDE D'ENFANTS\", 'HOMMES TOUTES MAINS', 'REPAS', 'TOILETTE', 'VIE SOCIALE', 'VISITE MEDICALE']\n",
      "Weekend services:  ['AIDE MENAGERE', 'REPAS', 'TOILETTE', 'VIE SOCIALE']\n"
     ]
    }
   ],
   "source": [
    "day_seg_inv = day_segmentation.T\n",
    "print(\n",
    "    \"Weekday services: \", day_seg_inv[day_seg_inv.Weekday > 0].index.to_list()\n",
    ")\n",
    "print(\n",
    "    \"Weekend services: \", day_seg_inv[day_seg_inv.Weekend > 0].index.to_list()\n",
    ")"
   ]
  },
  {
   "cell_type": "markdown",
   "metadata": {},
   "source": [
    "# Plotting agenda of Caretakers"
   ]
  },
  {
   "cell_type": "code",
   "execution_count": 10,
   "metadata": {},
   "outputs": [],
   "source": [
    "jan24_df[\"Start DateTime\"] = pd.to_datetime(\n",
    "    jan24_df[\"Date\"].astype(str) + \" \" + jan24_df[\"Heure de début\"].astype(str)\n",
    ")\n",
    "jan24_df[\"End DateTime\"] = pd.to_datetime(\n",
    "    jan24_df[\"Date\"].astype(str) + \" \" + jan24_df[\"Heure de fin\"].astype(str)\n",
    ")"
   ]
  },
  {
   "cell_type": "code",
   "execution_count": 11,
   "metadata": {},
   "outputs": [],
   "source": [
    "# TODO: add commute time & waittime\n",
    "# TODO: add client id in hover description"
   ]
  },
  {
   "cell_type": "code",
   "execution_count": 12,
   "metadata": {},
   "outputs": [],
   "source": [
    "def plot_agenda_for_intervenant(intervenant_id):\n",
    "    intervenant_agenda = jan24_df[jan24_df[\"ID Intervenant\"] == intervenant_id]\n",
    "    intervenant_agenda_sorted = intervenant_agenda.sort_values(\n",
    "        by=[\"Date\", \"Heure de début\"]\n",
    "    )\n",
    "\n",
    "    df_timeline = intervenant_agenda_sorted.copy()\n",
    "    df_timeline[\"Start\"] = pd.to_datetime(df_timeline[\"Start DateTime\"])\n",
    "    df_timeline[\"Finish\"] = pd.to_datetime(df_timeline[\"End DateTime\"])\n",
    "    df_timeline[\"Task\"] = df_timeline[\"Prestation\"]\n",
    "    df_timeline[\"Resource\"] = df_timeline[\"ID Intervenant\"].astype(str)\n",
    "\n",
    "    fig = px.timeline(\n",
    "        df_timeline,\n",
    "        x_start=\"Start\",\n",
    "        x_end=\"Finish\",\n",
    "        y=\"Task\",\n",
    "        color=\"Resource\",\n",
    "    )\n",
    "    fig.update_yaxes(autorange=\"reversed\")\n",
    "    fig.update_layout(title=f\"Agenda for Intervenant ID: {intervenant_id}\")\n",
    "\n",
    "    fig.update_layout(\n",
    "        xaxis=dict(\n",
    "            rangeselector=dict(\n",
    "                buttons=list(\n",
    "                    [\n",
    "                        dict(\n",
    "                            count=1,\n",
    "                            label=\"1D\",\n",
    "                            step=\"day\",\n",
    "                            stepmode=\"backward\",\n",
    "                        ),\n",
    "                        dict(\n",
    "                            count=7,\n",
    "                            label=\"1W\",\n",
    "                            step=\"day\",\n",
    "                            stepmode=\"backward\",\n",
    "                        ),\n",
    "                        dict(step=\"all\"),\n",
    "                    ]\n",
    "                )\n",
    "            ),\n",
    "            rangeslider=dict(visible=True),\n",
    "            type=\"date\",\n",
    "        )\n",
    "    )\n",
    "\n",
    "    fig.show()"
   ]
  },
  {
   "cell_type": "code",
   "execution_count": 13,
   "metadata": {},
   "outputs": [
    {
     "data": {
      "application/vnd.plotly.v1+json": {
       "config": {
        "plotlyServerURL": "https://plot.ly"
       },
       "data": [
        {
         "alignmentgroup": "True",
         "base": [
          "2024-01-01T07:15:00",
          "2024-01-01T07:45:00",
          "2024-01-01T08:40:00",
          "2024-01-01T10:00:00",
          "2024-01-01T11:00:00",
          "2024-01-01T12:15:00",
          "2024-01-01T17:30:00",
          "2024-01-01T18:40:00",
          "2024-01-02T07:20:00",
          "2024-01-02T07:50:00",
          "2024-01-02T08:30:00",
          "2024-01-02T09:40:00",
          "2024-01-02T10:25:00",
          "2024-01-02T11:00:00",
          "2024-01-02T11:45:00",
          "2024-01-02T15:00:00",
          "2024-01-02T17:00:00",
          "2024-01-02T17:30:00",
          "2024-01-02T18:20:00",
          "2024-01-03T07:30:00",
          "2024-01-03T08:40:00",
          "2024-01-03T10:15:00",
          "2024-01-03T11:25:00",
          "2024-01-03T12:30:00",
          "2024-01-04T07:20:00",
          "2024-01-04T07:50:00",
          "2024-01-04T08:45:00",
          "2024-01-04T09:50:00",
          "2024-01-04T10:55:00",
          "2024-01-04T11:45:00",
          "2024-01-04T13:45:00",
          "2024-01-04T15:30:00",
          "2024-01-04T17:30:00",
          "2024-01-04T18:05:00",
          "2024-01-08T07:45:00",
          "2024-01-08T08:55:00",
          "2024-01-08T09:40:00",
          "2024-01-08T10:35:00",
          "2024-01-08T11:35:00",
          "2024-01-08T12:15:00",
          "2024-01-08T12:30:00",
          "2024-01-08T14:00:00",
          "2024-01-08T16:25:00",
          "2024-01-08T17:10:00",
          "2024-01-08T17:45:00",
          "2024-01-08T18:35:00",
          "2024-01-09T07:20:00",
          "2024-01-09T07:50:00",
          "2024-01-09T08:35:00",
          "2024-01-09T09:55:00",
          "2024-01-09T11:10:00",
          "2024-01-09T11:55:00",
          "2024-01-09T12:30:00",
          "2024-01-09T12:45:00",
          "2024-01-09T15:00:00",
          "2024-01-09T17:00:00",
          "2024-01-09T18:20:00",
          "2024-01-10T07:20:00",
          "2024-01-10T07:50:00",
          "2024-01-10T08:30:00",
          "2024-01-10T09:40:00",
          "2024-01-10T10:30:00",
          "2024-01-10T11:45:00",
          "2024-01-10T12:20:00",
          "2024-01-10T12:35:00",
          "2024-01-10T17:50:00",
          "2024-01-10T18:35:00",
          "2024-01-11T07:20:00",
          "2024-01-11T07:50:00",
          "2024-01-11T08:40:00",
          "2024-01-11T09:55:00",
          "2024-01-11T11:15:00",
          "2024-01-11T12:00:00",
          "2024-01-11T15:30:00",
          "2024-01-11T17:30:00",
          "2024-01-11T18:15:00",
          "2024-01-11T18:50:00",
          "2024-01-13T07:50:00",
          "2024-01-13T09:00:00",
          "2024-01-13T12:10:00",
          "2024-01-13T12:25:00",
          "2024-01-13T14:30:00",
          "2024-01-13T17:00:00",
          "2024-01-13T17:45:00",
          "2024-01-14T07:15:00",
          "2024-01-14T07:45:00",
          "2024-01-14T08:25:00",
          "2024-01-14T09:00:00",
          "2024-01-14T09:55:00",
          "2024-01-14T10:35:00",
          "2024-01-14T11:30:00",
          "2024-01-14T12:10:00",
          "2024-01-14T12:25:00",
          "2024-01-14T18:00:00",
          "2024-01-14T18:35:00",
          "2024-01-14T19:15:00",
          "2024-01-15T07:20:00",
          "2024-01-15T08:30:00",
          "2024-01-15T10:15:00",
          "2024-01-15T11:00:00",
          "2024-01-15T16:25:00",
          "2024-01-15T17:30:00",
          "2024-01-15T18:15:00",
          "2024-01-16T07:20:00",
          "2024-01-16T07:50:00",
          "2024-01-16T08:30:00",
          "2024-01-16T09:40:00",
          "2024-01-16T10:40:00",
          "2024-01-16T11:25:00",
          "2024-01-16T15:00:00",
          "2024-01-16T17:00:00",
          "2024-01-16T17:40:00",
          "2024-01-16T18:00:00",
          "2024-01-16T18:35:00",
          "2024-01-17T07:20:00",
          "2024-01-17T07:50:00",
          "2024-01-17T08:30:00",
          "2024-01-17T09:45:00",
          "2024-01-17T10:30:00",
          "2024-01-17T11:30:00",
          "2024-01-17T12:30:00",
          "2024-01-17T14:30:00",
          "2024-01-18T08:15:00",
          "2024-01-18T09:30:00",
          "2024-01-18T10:15:00",
          "2024-01-18T11:30:00",
          "2024-01-18T12:30:00",
          "2024-01-18T15:00:00",
          "2024-01-18T17:00:00",
          "2024-01-18T17:40:00",
          "2024-01-18T18:40:00",
          "2024-01-18T19:15:00",
          "2024-01-22T07:45:00",
          "2024-01-22T09:00:00",
          "2024-01-22T10:00:00",
          "2024-01-22T11:00:00",
          "2024-01-22T12:15:00",
          "2024-01-22T15:00:00",
          "2024-01-22T16:25:00",
          "2024-01-22T17:25:00",
          "2024-01-22T18:15:00",
          "2024-01-23T07:20:00",
          "2024-01-23T07:50:00",
          "2024-01-23T08:30:00",
          "2024-01-23T09:45:00",
          "2024-01-23T10:30:00",
          "2024-01-23T11:45:00",
          "2024-01-23T15:00:00",
          "2024-01-23T17:05:00",
          "2024-01-24T08:30:00",
          "2024-01-24T10:00:00",
          "2024-01-24T10:45:00",
          "2024-01-24T12:00:00",
          "2024-01-24T17:30:00",
          "2024-01-24T18:45:00",
          "2024-01-24T19:20:00",
          "2024-01-25T07:00:00",
          "2024-01-25T07:30:00",
          "2024-01-25T08:30:00",
          "2024-01-25T09:45:00",
          "2024-01-25T10:45:00",
          "2024-01-25T11:30:00",
          "2024-01-25T12:25:00",
          "2024-01-25T15:00:00",
          "2024-01-25T17:00:00",
          "2024-01-26T08:00:00",
          "2024-01-26T08:45:00",
          "2024-01-26T09:30:00",
          "2024-01-27T07:15:00",
          "2024-01-27T07:45:00",
          "2024-01-27T08:30:00",
          "2024-01-27T09:30:00",
          "2024-01-27T10:15:00",
          "2024-01-27T11:00:00",
          "2024-01-27T12:00:00",
          "2024-01-27T17:55:00",
          "2024-01-27T18:45:00",
          "2024-01-27T19:15:00",
          "2024-01-28T07:20:00",
          "2024-01-28T07:50:00",
          "2024-01-28T08:30:00",
          "2024-01-28T09:30:00",
          "2024-01-28T10:15:00",
          "2024-01-28T11:00:00",
          "2024-01-28T11:45:00",
          "2024-01-28T12:00:00",
          "2024-01-28T17:50:00",
          "2024-01-28T18:45:00",
          "2024-01-28T19:15:00",
          "2024-01-29T07:15:00",
          "2024-01-29T08:15:00",
          "2024-01-29T09:15:00",
          "2024-01-29T10:15:00",
          "2024-01-29T11:00:00",
          "2024-01-29T12:15:00",
          "2024-01-29T13:15:00",
          "2024-01-29T16:25:00",
          "2024-01-29T17:30:00",
          "2024-01-29T18:45:00",
          "2024-01-30T07:30:00",
          "2024-01-30T08:05:00",
          "2024-01-30T08:50:00",
          "2024-01-30T10:10:00",
          "2024-01-30T10:40:00",
          "2024-01-30T14:40:00",
          "2024-01-30T16:45:00",
          "2024-01-30T17:30:00",
          "2024-01-30T18:40:00",
          "2024-01-30T18:55:00",
          "2024-01-31T07:45:00",
          "2024-01-31T09:00:00",
          "2024-01-31T10:00:00",
          "2024-01-31T10:45:00",
          "2024-01-31T12:00:00"
         ],
         "hovertemplate": "Resource=162858075<br>Start=%{base}<br>Finish=%{x}<br>Task=%{y}<extra></extra>",
         "legendgroup": "162858075",
         "marker": {
          "color": "#636efa",
          "pattern": {
           "shape": ""
          }
         },
         "name": "162858075",
         "offsetgroup": "162858075",
         "orientation": "h",
         "showlegend": true,
         "textposition": "auto",
         "type": "bar",
         "x": [
          1800000,
          2700000,
          3600000,
          2700000,
          3600000,
          1800000,
          3600000,
          1800000,
          1800000,
          1800000,
          3600000,
          1800000,
          1800000,
          2700000,
          1800000,
          7200000,
          1800000,
          1800000,
          1800000,
          3600000,
          1800000,
          3600000,
          3600000,
          1800000,
          1800000,
          2700000,
          3600000,
          3600000,
          2700000,
          1800000,
          5400000,
          7200000,
          1800000,
          1800000,
          3600000,
          1800000,
          2700000,
          2700000,
          1800000,
          900000,
          2700000,
          4500000,
          2700000,
          1800000,
          1800000,
          900000,
          1800000,
          1800000,
          3600000,
          3600000,
          2700000,
          1800000,
          900000,
          2700000,
          7200000,
          1800000,
          1800000,
          1800000,
          1800000,
          3600000,
          2700000,
          3600000,
          1800000,
          900000,
          2700000,
          1800000,
          2700000,
          1800000,
          2700000,
          3600000,
          3600000,
          2700000,
          1800000,
          7200000,
          1800000,
          1800000,
          1800000,
          3600000,
          9000000,
          900000,
          2700000,
          7200000,
          1800000,
          2700000,
          1800000,
          1800000,
          1800000,
          2700000,
          1800000,
          2700000,
          1800000,
          900000,
          2700000,
          1800000,
          1800000,
          1800000,
          3600000,
          5400000,
          1800000,
          9000000,
          2700000,
          1800000,
          900000,
          1800000,
          1800000,
          3600000,
          2700000,
          2700000,
          1800000,
          7200000,
          1800000,
          900000,
          1800000,
          900000,
          1800000,
          1800000,
          3600000,
          1800000,
          2700000,
          2700000,
          1800000,
          10800000,
          3600000,
          2700000,
          2700000,
          2700000,
          1800000,
          7200000,
          1800000,
          2700000,
          1800000,
          1800000,
          3600000,
          2700000,
          2700000,
          3600000,
          2700000,
          3600000,
          2700000,
          1800000,
          2700000,
          1800000,
          1800000,
          3600000,
          1800000,
          3600000,
          2700000,
          7200000,
          1800000,
          3600000,
          1800000,
          3600000,
          2700000,
          3600000,
          1800000,
          1800000,
          1800000,
          2700000,
          3600000,
          2700000,
          2700000,
          1800000,
          2700000,
          7200000,
          1800000,
          1800000,
          1800000,
          5400000,
          1800000,
          1800000,
          2700000,
          1800000,
          1800000,
          2700000,
          2700000,
          2700000,
          900000,
          1800000,
          1800000,
          1800000,
          2700000,
          1800000,
          1800000,
          2700000,
          900000,
          2700000,
          2700000,
          900000,
          1800000,
          2700000,
          2700000,
          2700000,
          1800000,
          3600000,
          2700000,
          1800000,
          2700000,
          3600000,
          2700000,
          1800000,
          1800000,
          3600000,
          1800000,
          3600000,
          7200000,
          1800000,
          3600000,
          900000,
          2700000,
          3600000,
          2700000,
          1800000,
          3600000,
          2700000
         ],
         "xaxis": "x",
         "y": [
          "REPAS",
          "TOILETTE",
          "TOILETTE",
          "TOILETTE",
          "TOILETTE",
          "REPAS",
          "REPAS",
          "TOILETTE",
          "REPAS",
          "TOILETTE",
          "TOILETTE",
          "TOILETTE",
          "TOILETTE",
          "AIDE MENAGERE",
          "REPAS",
          "AIDE MENAGERE",
          "TOILETTE",
          "TOILETTE",
          "TOILETTE",
          "TOILETTE",
          "TOILETTE",
          "TOILETTE",
          "AIDE MENAGERE",
          "REPAS",
          "REPAS",
          "TOILETTE",
          "TOILETTE",
          "AIDE MENAGERE",
          "AIDE MENAGERE",
          "REPAS",
          "AIDE MENAGERE",
          "AIDE MENAGERE",
          "TOILETTE",
          "TOILETTE",
          "TOILETTE",
          "TOILETTE",
          "TOILETTE",
          "TOILETTE",
          "REPAS",
          "REPAS",
          "REPAS",
          "ACCOMPAGNEMENTS COURSES PA",
          "TOILETTE",
          "TOILETTE",
          "TOILETTE",
          "TOILETTE",
          "REPAS",
          "TOILETTE",
          "TOILETTE",
          "TOILETTE",
          "AIDE MENAGERE",
          "REPAS",
          "REPAS",
          "REPAS",
          "AIDE MENAGERE",
          "TOILETTE",
          "TOILETTE",
          "REPAS",
          "TOILETTE",
          "TOILETTE",
          "TOILETTE",
          "TOILETTE",
          "REPAS",
          "REPAS",
          "REPAS",
          "REPAS",
          "TOILETTE",
          "REPAS",
          "TOILETTE",
          "TOILETTE",
          "AIDE MENAGERE",
          "AIDE MENAGERE",
          "REPAS",
          "AIDE MENAGERE",
          "TOILETTE",
          "REPAS",
          "REPAS",
          "TOILETTE",
          "VIE SOCIALE",
          "REPAS",
          "REPAS",
          "TOILETTE",
          "REPAS",
          "TOILETTE",
          "REPAS",
          "TOILETTE",
          "REPAS",
          "TOILETTE",
          "TOILETTE",
          "TOILETTE",
          "REPAS",
          "REPAS",
          "REPAS",
          "REPAS",
          "REPAS",
          "TOILETTE",
          "TOILETTE",
          "TOILETTE",
          "TOILETTE",
          "VIE SOCIALE",
          "TOILETTE",
          "REPAS",
          "TOILETTE",
          "REPAS",
          "TOILETTE",
          "TOILETTE",
          "TOILETTE",
          "AIDE MENAGERE",
          "REPAS",
          "AIDE MENAGERE",
          "TOILETTE",
          "VIE SOCIALE",
          "REPAS",
          "TOILETTE",
          "REPAS",
          "TOILETTE",
          "TOILETTE",
          "TOILETTE",
          "TOILETTE",
          "AIDE MENAGERE",
          "REPAS",
          "TOILETTE",
          "TOILETTE",
          "TOILETTE",
          "REPAS",
          "REPAS",
          "REPAS",
          "AIDE MENAGERE",
          "TOILETTE",
          "TOILETTE",
          "REPAS",
          "REPAS",
          "TOILETTE",
          "TOILETTE",
          "TOILETTE",
          "REPAS",
          "REPAS",
          "AIDE MENAGERE",
          "TOILETTE",
          "REPAS",
          "TOILETTE",
          "REPAS",
          "TOILETTE",
          "TOILETTE",
          "TOILETTE",
          "AIDE MENAGERE",
          "REPAS",
          "AIDE MENAGERE",
          "TOILETTE",
          "TOILETTE",
          "TOILETTE",
          "REPAS",
          "REPAS",
          "REPAS",
          "REPAS",
          "REPAS",
          "REPAS",
          "TOILETTE",
          "TOILETTE",
          "TOILETTE",
          "AIDE MENAGERE",
          "REPAS",
          "REPAS",
          "AIDE MENAGERE",
          "TOILETTE",
          "REPAS",
          "REPAS",
          "ACCOMPAGNEMENTS COURSES PA",
          "REPAS",
          "TOILETTE",
          "TOILETTE",
          "TOILETTE",
          "TOILETTE",
          "TOILETTE",
          "REPAS",
          "TOILETTE",
          "TOILETTE",
          "TOILETTE",
          "REPAS",
          "TOILETTE",
          "TOILETTE",
          "TOILETTE",
          "TOILETTE",
          "TOILETTE",
          "REPAS",
          "REPAS",
          "TOILETTE",
          "TOILETTE",
          "TOILETTE",
          "TOILETTE",
          "TOILETTE",
          "TOILETTE",
          "TOILETTE",
          "REPAS",
          "REPAS",
          "REPAS",
          "TOILETTE",
          "REPAS",
          "TOILETTE",
          "REPAS",
          "TOILETTE",
          "TOILETTE",
          "TOILETTE",
          "AIDE MENAGERE",
          "AIDE MENAGERE",
          "TOILETTE",
          "REPAS",
          "REPAS",
          "TOILETTE",
          "TOILETTE",
          "TOILETTE",
          "TOILETTE",
          "REPAS",
          "REPAS"
         ],
         "yaxis": "y"
        }
       ],
       "layout": {
        "barmode": "overlay",
        "legend": {
         "title": {
          "text": "Resource"
         },
         "tracegroupgap": 0
        },
        "margin": {
         "t": 60
        },
        "template": {
         "data": {
          "bar": [
           {
            "error_x": {
             "color": "#2a3f5f"
            },
            "error_y": {
             "color": "#2a3f5f"
            },
            "marker": {
             "line": {
              "color": "#E5ECF6",
              "width": 0.5
             },
             "pattern": {
              "fillmode": "overlay",
              "size": 10,
              "solidity": 0.2
             }
            },
            "type": "bar"
           }
          ],
          "barpolar": [
           {
            "marker": {
             "line": {
              "color": "#E5ECF6",
              "width": 0.5
             },
             "pattern": {
              "fillmode": "overlay",
              "size": 10,
              "solidity": 0.2
             }
            },
            "type": "barpolar"
           }
          ],
          "carpet": [
           {
            "aaxis": {
             "endlinecolor": "#2a3f5f",
             "gridcolor": "white",
             "linecolor": "white",
             "minorgridcolor": "white",
             "startlinecolor": "#2a3f5f"
            },
            "baxis": {
             "endlinecolor": "#2a3f5f",
             "gridcolor": "white",
             "linecolor": "white",
             "minorgridcolor": "white",
             "startlinecolor": "#2a3f5f"
            },
            "type": "carpet"
           }
          ],
          "choropleth": [
           {
            "colorbar": {
             "outlinewidth": 0,
             "ticks": ""
            },
            "type": "choropleth"
           }
          ],
          "contour": [
           {
            "colorbar": {
             "outlinewidth": 0,
             "ticks": ""
            },
            "colorscale": [
             [
              0,
              "#0d0887"
             ],
             [
              0.1111111111111111,
              "#46039f"
             ],
             [
              0.2222222222222222,
              "#7201a8"
             ],
             [
              0.3333333333333333,
              "#9c179e"
             ],
             [
              0.4444444444444444,
              "#bd3786"
             ],
             [
              0.5555555555555556,
              "#d8576b"
             ],
             [
              0.6666666666666666,
              "#ed7953"
             ],
             [
              0.7777777777777778,
              "#fb9f3a"
             ],
             [
              0.8888888888888888,
              "#fdca26"
             ],
             [
              1,
              "#f0f921"
             ]
            ],
            "type": "contour"
           }
          ],
          "contourcarpet": [
           {
            "colorbar": {
             "outlinewidth": 0,
             "ticks": ""
            },
            "type": "contourcarpet"
           }
          ],
          "heatmap": [
           {
            "colorbar": {
             "outlinewidth": 0,
             "ticks": ""
            },
            "colorscale": [
             [
              0,
              "#0d0887"
             ],
             [
              0.1111111111111111,
              "#46039f"
             ],
             [
              0.2222222222222222,
              "#7201a8"
             ],
             [
              0.3333333333333333,
              "#9c179e"
             ],
             [
              0.4444444444444444,
              "#bd3786"
             ],
             [
              0.5555555555555556,
              "#d8576b"
             ],
             [
              0.6666666666666666,
              "#ed7953"
             ],
             [
              0.7777777777777778,
              "#fb9f3a"
             ],
             [
              0.8888888888888888,
              "#fdca26"
             ],
             [
              1,
              "#f0f921"
             ]
            ],
            "type": "heatmap"
           }
          ],
          "heatmapgl": [
           {
            "colorbar": {
             "outlinewidth": 0,
             "ticks": ""
            },
            "colorscale": [
             [
              0,
              "#0d0887"
             ],
             [
              0.1111111111111111,
              "#46039f"
             ],
             [
              0.2222222222222222,
              "#7201a8"
             ],
             [
              0.3333333333333333,
              "#9c179e"
             ],
             [
              0.4444444444444444,
              "#bd3786"
             ],
             [
              0.5555555555555556,
              "#d8576b"
             ],
             [
              0.6666666666666666,
              "#ed7953"
             ],
             [
              0.7777777777777778,
              "#fb9f3a"
             ],
             [
              0.8888888888888888,
              "#fdca26"
             ],
             [
              1,
              "#f0f921"
             ]
            ],
            "type": "heatmapgl"
           }
          ],
          "histogram": [
           {
            "marker": {
             "pattern": {
              "fillmode": "overlay",
              "size": 10,
              "solidity": 0.2
             }
            },
            "type": "histogram"
           }
          ],
          "histogram2d": [
           {
            "colorbar": {
             "outlinewidth": 0,
             "ticks": ""
            },
            "colorscale": [
             [
              0,
              "#0d0887"
             ],
             [
              0.1111111111111111,
              "#46039f"
             ],
             [
              0.2222222222222222,
              "#7201a8"
             ],
             [
              0.3333333333333333,
              "#9c179e"
             ],
             [
              0.4444444444444444,
              "#bd3786"
             ],
             [
              0.5555555555555556,
              "#d8576b"
             ],
             [
              0.6666666666666666,
              "#ed7953"
             ],
             [
              0.7777777777777778,
              "#fb9f3a"
             ],
             [
              0.8888888888888888,
              "#fdca26"
             ],
             [
              1,
              "#f0f921"
             ]
            ],
            "type": "histogram2d"
           }
          ],
          "histogram2dcontour": [
           {
            "colorbar": {
             "outlinewidth": 0,
             "ticks": ""
            },
            "colorscale": [
             [
              0,
              "#0d0887"
             ],
             [
              0.1111111111111111,
              "#46039f"
             ],
             [
              0.2222222222222222,
              "#7201a8"
             ],
             [
              0.3333333333333333,
              "#9c179e"
             ],
             [
              0.4444444444444444,
              "#bd3786"
             ],
             [
              0.5555555555555556,
              "#d8576b"
             ],
             [
              0.6666666666666666,
              "#ed7953"
             ],
             [
              0.7777777777777778,
              "#fb9f3a"
             ],
             [
              0.8888888888888888,
              "#fdca26"
             ],
             [
              1,
              "#f0f921"
             ]
            ],
            "type": "histogram2dcontour"
           }
          ],
          "mesh3d": [
           {
            "colorbar": {
             "outlinewidth": 0,
             "ticks": ""
            },
            "type": "mesh3d"
           }
          ],
          "parcoords": [
           {
            "line": {
             "colorbar": {
              "outlinewidth": 0,
              "ticks": ""
             }
            },
            "type": "parcoords"
           }
          ],
          "pie": [
           {
            "automargin": true,
            "type": "pie"
           }
          ],
          "scatter": [
           {
            "fillpattern": {
             "fillmode": "overlay",
             "size": 10,
             "solidity": 0.2
            },
            "type": "scatter"
           }
          ],
          "scatter3d": [
           {
            "line": {
             "colorbar": {
              "outlinewidth": 0,
              "ticks": ""
             }
            },
            "marker": {
             "colorbar": {
              "outlinewidth": 0,
              "ticks": ""
             }
            },
            "type": "scatter3d"
           }
          ],
          "scattercarpet": [
           {
            "marker": {
             "colorbar": {
              "outlinewidth": 0,
              "ticks": ""
             }
            },
            "type": "scattercarpet"
           }
          ],
          "scattergeo": [
           {
            "marker": {
             "colorbar": {
              "outlinewidth": 0,
              "ticks": ""
             }
            },
            "type": "scattergeo"
           }
          ],
          "scattergl": [
           {
            "marker": {
             "colorbar": {
              "outlinewidth": 0,
              "ticks": ""
             }
            },
            "type": "scattergl"
           }
          ],
          "scattermapbox": [
           {
            "marker": {
             "colorbar": {
              "outlinewidth": 0,
              "ticks": ""
             }
            },
            "type": "scattermapbox"
           }
          ],
          "scatterpolar": [
           {
            "marker": {
             "colorbar": {
              "outlinewidth": 0,
              "ticks": ""
             }
            },
            "type": "scatterpolar"
           }
          ],
          "scatterpolargl": [
           {
            "marker": {
             "colorbar": {
              "outlinewidth": 0,
              "ticks": ""
             }
            },
            "type": "scatterpolargl"
           }
          ],
          "scatterternary": [
           {
            "marker": {
             "colorbar": {
              "outlinewidth": 0,
              "ticks": ""
             }
            },
            "type": "scatterternary"
           }
          ],
          "surface": [
           {
            "colorbar": {
             "outlinewidth": 0,
             "ticks": ""
            },
            "colorscale": [
             [
              0,
              "#0d0887"
             ],
             [
              0.1111111111111111,
              "#46039f"
             ],
             [
              0.2222222222222222,
              "#7201a8"
             ],
             [
              0.3333333333333333,
              "#9c179e"
             ],
             [
              0.4444444444444444,
              "#bd3786"
             ],
             [
              0.5555555555555556,
              "#d8576b"
             ],
             [
              0.6666666666666666,
              "#ed7953"
             ],
             [
              0.7777777777777778,
              "#fb9f3a"
             ],
             [
              0.8888888888888888,
              "#fdca26"
             ],
             [
              1,
              "#f0f921"
             ]
            ],
            "type": "surface"
           }
          ],
          "table": [
           {
            "cells": {
             "fill": {
              "color": "#EBF0F8"
             },
             "line": {
              "color": "white"
             }
            },
            "header": {
             "fill": {
              "color": "#C8D4E3"
             },
             "line": {
              "color": "white"
             }
            },
            "type": "table"
           }
          ]
         },
         "layout": {
          "annotationdefaults": {
           "arrowcolor": "#2a3f5f",
           "arrowhead": 0,
           "arrowwidth": 1
          },
          "autotypenumbers": "strict",
          "coloraxis": {
           "colorbar": {
            "outlinewidth": 0,
            "ticks": ""
           }
          },
          "colorscale": {
           "diverging": [
            [
             0,
             "#8e0152"
            ],
            [
             0.1,
             "#c51b7d"
            ],
            [
             0.2,
             "#de77ae"
            ],
            [
             0.3,
             "#f1b6da"
            ],
            [
             0.4,
             "#fde0ef"
            ],
            [
             0.5,
             "#f7f7f7"
            ],
            [
             0.6,
             "#e6f5d0"
            ],
            [
             0.7,
             "#b8e186"
            ],
            [
             0.8,
             "#7fbc41"
            ],
            [
             0.9,
             "#4d9221"
            ],
            [
             1,
             "#276419"
            ]
           ],
           "sequential": [
            [
             0,
             "#0d0887"
            ],
            [
             0.1111111111111111,
             "#46039f"
            ],
            [
             0.2222222222222222,
             "#7201a8"
            ],
            [
             0.3333333333333333,
             "#9c179e"
            ],
            [
             0.4444444444444444,
             "#bd3786"
            ],
            [
             0.5555555555555556,
             "#d8576b"
            ],
            [
             0.6666666666666666,
             "#ed7953"
            ],
            [
             0.7777777777777778,
             "#fb9f3a"
            ],
            [
             0.8888888888888888,
             "#fdca26"
            ],
            [
             1,
             "#f0f921"
            ]
           ],
           "sequentialminus": [
            [
             0,
             "#0d0887"
            ],
            [
             0.1111111111111111,
             "#46039f"
            ],
            [
             0.2222222222222222,
             "#7201a8"
            ],
            [
             0.3333333333333333,
             "#9c179e"
            ],
            [
             0.4444444444444444,
             "#bd3786"
            ],
            [
             0.5555555555555556,
             "#d8576b"
            ],
            [
             0.6666666666666666,
             "#ed7953"
            ],
            [
             0.7777777777777778,
             "#fb9f3a"
            ],
            [
             0.8888888888888888,
             "#fdca26"
            ],
            [
             1,
             "#f0f921"
            ]
           ]
          },
          "colorway": [
           "#636efa",
           "#EF553B",
           "#00cc96",
           "#ab63fa",
           "#FFA15A",
           "#19d3f3",
           "#FF6692",
           "#B6E880",
           "#FF97FF",
           "#FECB52"
          ],
          "font": {
           "color": "#2a3f5f"
          },
          "geo": {
           "bgcolor": "white",
           "lakecolor": "white",
           "landcolor": "#E5ECF6",
           "showlakes": true,
           "showland": true,
           "subunitcolor": "white"
          },
          "hoverlabel": {
           "align": "left"
          },
          "hovermode": "closest",
          "mapbox": {
           "style": "light"
          },
          "paper_bgcolor": "white",
          "plot_bgcolor": "#E5ECF6",
          "polar": {
           "angularaxis": {
            "gridcolor": "white",
            "linecolor": "white",
            "ticks": ""
           },
           "bgcolor": "#E5ECF6",
           "radialaxis": {
            "gridcolor": "white",
            "linecolor": "white",
            "ticks": ""
           }
          },
          "scene": {
           "xaxis": {
            "backgroundcolor": "#E5ECF6",
            "gridcolor": "white",
            "gridwidth": 2,
            "linecolor": "white",
            "showbackground": true,
            "ticks": "",
            "zerolinecolor": "white"
           },
           "yaxis": {
            "backgroundcolor": "#E5ECF6",
            "gridcolor": "white",
            "gridwidth": 2,
            "linecolor": "white",
            "showbackground": true,
            "ticks": "",
            "zerolinecolor": "white"
           },
           "zaxis": {
            "backgroundcolor": "#E5ECF6",
            "gridcolor": "white",
            "gridwidth": 2,
            "linecolor": "white",
            "showbackground": true,
            "ticks": "",
            "zerolinecolor": "white"
           }
          },
          "shapedefaults": {
           "line": {
            "color": "#2a3f5f"
           }
          },
          "ternary": {
           "aaxis": {
            "gridcolor": "white",
            "linecolor": "white",
            "ticks": ""
           },
           "baxis": {
            "gridcolor": "white",
            "linecolor": "white",
            "ticks": ""
           },
           "bgcolor": "#E5ECF6",
           "caxis": {
            "gridcolor": "white",
            "linecolor": "white",
            "ticks": ""
           }
          },
          "title": {
           "x": 0.05
          },
          "xaxis": {
           "automargin": true,
           "gridcolor": "white",
           "linecolor": "white",
           "ticks": "",
           "title": {
            "standoff": 15
           },
           "zerolinecolor": "white",
           "zerolinewidth": 2
          },
          "yaxis": {
           "automargin": true,
           "gridcolor": "white",
           "linecolor": "white",
           "ticks": "",
           "title": {
            "standoff": 15
           },
           "zerolinecolor": "white",
           "zerolinewidth": 2
          }
         }
        },
        "title": {
         "text": "Agenda for Intervenant ID: 162858075"
        },
        "xaxis": {
         "anchor": "y",
         "domain": [
          0,
          1
         ],
         "rangeselector": {
          "buttons": [
           {
            "count": 1,
            "label": "1D",
            "step": "day",
            "stepmode": "backward"
           },
           {
            "count": 7,
            "label": "1W",
            "step": "day",
            "stepmode": "backward"
           },
           {
            "step": "all"
           }
          ]
         },
         "rangeslider": {
          "visible": true
         },
         "type": "date"
        },
        "yaxis": {
         "anchor": "x",
         "autorange": "reversed",
         "domain": [
          0,
          1
         ],
         "title": {
          "text": "Task"
         }
        }
       }
      }
     },
     "metadata": {},
     "output_type": "display_data"
    },
    {
     "data": {
      "application/vnd.plotly.v1+json": {
       "config": {
        "plotlyServerURL": "https://plot.ly"
       },
       "data": [
        {
         "alignmentgroup": "True",
         "base": [
          "2024-01-01T07:45:00",
          "2024-01-01T08:45:00",
          "2024-01-01T09:45:00",
          "2024-01-01T10:30:00",
          "2024-01-01T11:45:00",
          "2024-01-01T12:00:00",
          "2024-01-01T16:45:00",
          "2024-01-01T17:30:00",
          "2024-01-01T18:15:00",
          "2024-01-01T19:00:00",
          "2024-01-02T08:45:00",
          "2024-01-02T10:00:00",
          "2024-01-02T11:00:00",
          "2024-01-02T12:00:00",
          "2024-01-02T14:00:00",
          "2024-01-02T17:45:00",
          "2024-01-02T18:30:00",
          "2024-01-03T09:00:00",
          "2024-01-03T09:45:00",
          "2024-01-03T10:30:00",
          "2024-01-03T14:00:00",
          "2024-01-04T09:00:00",
          "2024-01-04T10:15:00",
          "2024-01-04T11:15:00",
          "2024-01-04T14:00:00",
          "2024-01-04T17:45:00",
          "2024-01-04T18:30:00",
          "2024-01-05T08:45:00",
          "2024-01-05T09:30:00",
          "2024-01-05T10:30:00",
          "2024-01-05T11:15:00",
          "2024-01-05T13:15:00",
          "2024-01-05T16:20:00",
          "2024-01-07T07:40:00",
          "2024-01-07T08:55:00",
          "2024-01-07T09:50:00",
          "2024-01-07T10:30:00",
          "2024-01-07T11:15:00",
          "2024-01-07T17:00:00",
          "2024-01-08T09:00:00",
          "2024-01-08T10:15:00",
          "2024-01-08T12:00:00",
          "2024-01-08T13:45:00",
          "2024-01-08T17:30:00",
          "2024-01-08T18:30:00",
          "2024-01-08T19:15:00",
          "2024-01-09T08:45:00",
          "2024-01-09T09:30:00",
          "2024-01-09T10:45:00",
          "2024-01-09T11:45:00",
          "2024-01-09T13:45:00",
          "2024-01-09T17:45:00",
          "2024-01-10T08:45:00",
          "2024-01-10T09:45:00",
          "2024-01-10T11:00:00",
          "2024-01-10T14:00:00",
          "2024-01-10T17:45:00",
          "2024-01-11T09:00:00",
          "2024-01-11T14:00:00",
          "2024-01-11T17:50:00",
          "2024-01-11T18:35:00",
          "2024-01-12T09:00:00",
          "2024-01-12T14:00:00",
          "2024-01-15T09:00:00",
          "2024-01-15T14:00:00",
          "2024-01-15T17:50:00",
          "2024-01-15T18:35:00",
          "2024-01-16T09:00:00",
          "2024-01-16T14:00:00",
          "2024-01-16T19:30:00",
          "2024-01-17T09:00:00",
          "2024-01-17T14:00:00",
          "2024-01-18T09:00:00",
          "2024-01-18T14:00:00",
          "2024-01-18T17:50:00",
          "2024-01-18T18:35:00",
          "2024-01-19T09:00:00",
          "2024-01-19T09:45:00",
          "2024-01-19T10:30:00",
          "2024-01-19T14:00:00",
          "2024-01-22T08:45:00",
          "2024-01-22T10:00:00",
          "2024-01-22T14:00:00",
          "2024-01-22T17:30:00",
          "2024-01-22T18:30:00",
          "2024-01-23T09:00:00",
          "2024-01-23T14:00:00",
          "2024-01-23T17:45:00",
          "2024-01-23T18:20:00",
          "2024-01-24T08:30:00",
          "2024-01-24T10:15:00",
          "2024-01-24T14:00:00",
          "2024-01-25T09:00:00",
          "2024-01-25T14:00:00",
          "2024-01-26T09:00:00",
          "2024-01-26T09:50:00",
          "2024-01-26T10:35:00",
          "2024-01-26T12:50:00",
          "2024-01-26T14:00:00",
          "2024-01-26T17:45:00",
          "2024-01-26T18:45:00",
          "2024-01-27T08:30:00",
          "2024-01-27T09:45:00",
          "2024-01-27T10:45:00",
          "2024-01-27T11:40:00",
          "2024-01-27T12:20:00",
          "2024-01-27T13:00:00",
          "2024-01-27T18:30:00",
          "2024-01-28T07:45:00",
          "2024-01-28T08:30:00",
          "2024-01-28T09:45:00",
          "2024-01-28T10:45:00",
          "2024-01-28T11:40:00",
          "2024-01-28T17:45:00",
          "2024-01-28T18:30:00",
          "2024-01-28T19:30:00",
          "2024-01-29T08:45:00",
          "2024-01-29T10:00:00",
          "2024-01-29T14:00:00",
          "2024-01-29T17:45:00",
          "2024-01-30T09:00:00",
          "2024-01-30T09:45:00",
          "2024-01-30T14:00:00"
         ],
         "hovertemplate": "Resource=78007018<br>Start=%{base}<br>Finish=%{x}<br>Task=%{y}<extra></extra>",
         "legendgroup": "78007018",
         "marker": {
          "color": "#636efa",
          "pattern": {
           "shape": ""
          }
         },
         "name": "78007018",
         "offsetgroup": "78007018",
         "orientation": "h",
         "showlegend": true,
         "textposition": "auto",
         "type": "bar",
         "x": [
          2700000,
          2700000,
          1800000,
          2700000,
          900000,
          2700000,
          1800000,
          1800000,
          1800000,
          3600000,
          3600000,
          2700000,
          2700000,
          1800000,
          12600000,
          1800000,
          3600000,
          1800000,
          1800000,
          9000000,
          12600000,
          3600000,
          2700000,
          6300000,
          12600000,
          1800000,
          3600000,
          1800000,
          2700000,
          1800000,
          3600000,
          10500000,
          2700000,
          3600000,
          2700000,
          1800000,
          1800000,
          1800000,
          1800000,
          3600000,
          5400000,
          2700000,
          12600000,
          2700000,
          1800000,
          3600000,
          1800000,
          3600000,
          2700000,
          3600000,
          13500000,
          1800000,
          2700000,
          3600000,
          7200000,
          12600000,
          1800000,
          14400000,
          12600000,
          1800000,
          3600000,
          14400000,
          8100000,
          14400000,
          12600000,
          1800000,
          3600000,
          14400000,
          12600000,
          1800000,
          14400000,
          12600000,
          14400000,
          12600000,
          1800000,
          3600000,
          1800000,
          1800000,
          9000000,
          12600000,
          3600000,
          10800000,
          11700000,
          2700000,
          1800000,
          14400000,
          12600000,
          1800000,
          1800000,
          5400000,
          9900000,
          12600000,
          14400000,
          12600000,
          2700000,
          1800000,
          7200000,
          1800000,
          12600000,
          2700000,
          900000,
          3600000,
          2700000,
          2700000,
          1800000,
          1800000,
          900000,
          2700000,
          1800000,
          3600000,
          2700000,
          2700000,
          1800000,
          1800000,
          2700000,
          1800000,
          3600000,
          10800000,
          12600000,
          1800000,
          1800000,
          11700000,
          12600000
         ],
         "xaxis": "x",
         "y": [
          "TOILETTE",
          "TOILETTE",
          "TOILETTE",
          "TOILETTE",
          "REPAS",
          "REPAS",
          "TOILETTE",
          "TOILETTE",
          "TOILETTE",
          "REPAS",
          "TOILETTE",
          "TOILETTE",
          "TOILETTE",
          "REPAS",
          "ADMINISTRATION",
          "TOILETTE",
          "REPAS",
          "TOILETTE",
          "TOILETTE",
          "ADMINISTRATION",
          "ADMINISTRATION",
          "TOILETTE",
          "TOILETTE",
          "ADMINISTRATION",
          "ADMINISTRATION",
          "TOILETTE",
          "REPAS",
          "TOILETTE",
          "TOILETTE",
          "TOILETTE",
          "ACCOMPAGNEMENTS COURSES PA",
          "ADMINISTRATION",
          "TOILETTE",
          "TOILETTE",
          "TOILETTE",
          "TOILETTE",
          "TOILETTE",
          "REPAS",
          "TOILETTE",
          "TOILETTE",
          "ADMINISTRATION",
          "TOILETTE",
          "ADMINISTRATION",
          "TOILETTE",
          "TOILETTE",
          "REPAS",
          "REPAS",
          "TOILETTE",
          "TOILETTE",
          "REPAS",
          "ADMINISTRATION",
          "REPAS",
          "TOILETTE",
          "TOILETTE",
          "ADMINISTRATION",
          "ADMINISTRATION",
          "REPAS",
          "ADMINISTRATION",
          "ADMINISTRATION",
          "TOILETTE",
          "REPAS",
          "ADMINISTRATION",
          "ADMINISTRATION",
          "ADMINISTRATION",
          "ADMINISTRATION",
          "TOILETTE",
          "REPAS",
          "ADMINISTRATION",
          "ADMINISTRATION",
          "FORMATION",
          "ADMINISTRATION",
          "ADMINISTRATION",
          "ADMINISTRATION",
          "ADMINISTRATION",
          "TOILETTE",
          "REPAS",
          "TOILETTE",
          "TOILETTE",
          "ADMINISTRATION",
          "ADMINISTRATION",
          "TOILETTE",
          "ADMINISTRATION",
          "ADMINISTRATION",
          "TOILETTE",
          "REPAS",
          "ADMINISTRATION",
          "ADMINISTRATION",
          "REPAS",
          "REPAS",
          "TOILETTE",
          "ADMINISTRATION",
          "ADMINISTRATION",
          "ADMINISTRATION",
          "ADMINISTRATION",
          "TOILETTE",
          "TOILETTE",
          "ACCOMPAGNEMENTS COURSES PA",
          "REPAS",
          "ADMINISTRATION",
          "TOILETTE",
          "TOILETTE",
          "TOILETTE",
          "TOILETTE",
          "TOILETTE",
          "REPAS",
          "REPAS",
          "VIE SOCIALE",
          "TOILETTE",
          "REPAS",
          "TOILETTE",
          "TOILETTE",
          "TOILETTE",
          "REPAS",
          "REPAS",
          "TOILETTE",
          "REPAS",
          "TOILETTE",
          "ADMINISTRATION",
          "ADMINISTRATION",
          "REPAS",
          "TOILETTE",
          "ADMINISTRATION",
          "ADMINISTRATION"
         ],
         "yaxis": "y"
        }
       ],
       "layout": {
        "barmode": "overlay",
        "legend": {
         "title": {
          "text": "Resource"
         },
         "tracegroupgap": 0
        },
        "margin": {
         "t": 60
        },
        "template": {
         "data": {
          "bar": [
           {
            "error_x": {
             "color": "#2a3f5f"
            },
            "error_y": {
             "color": "#2a3f5f"
            },
            "marker": {
             "line": {
              "color": "#E5ECF6",
              "width": 0.5
             },
             "pattern": {
              "fillmode": "overlay",
              "size": 10,
              "solidity": 0.2
             }
            },
            "type": "bar"
           }
          ],
          "barpolar": [
           {
            "marker": {
             "line": {
              "color": "#E5ECF6",
              "width": 0.5
             },
             "pattern": {
              "fillmode": "overlay",
              "size": 10,
              "solidity": 0.2
             }
            },
            "type": "barpolar"
           }
          ],
          "carpet": [
           {
            "aaxis": {
             "endlinecolor": "#2a3f5f",
             "gridcolor": "white",
             "linecolor": "white",
             "minorgridcolor": "white",
             "startlinecolor": "#2a3f5f"
            },
            "baxis": {
             "endlinecolor": "#2a3f5f",
             "gridcolor": "white",
             "linecolor": "white",
             "minorgridcolor": "white",
             "startlinecolor": "#2a3f5f"
            },
            "type": "carpet"
           }
          ],
          "choropleth": [
           {
            "colorbar": {
             "outlinewidth": 0,
             "ticks": ""
            },
            "type": "choropleth"
           }
          ],
          "contour": [
           {
            "colorbar": {
             "outlinewidth": 0,
             "ticks": ""
            },
            "colorscale": [
             [
              0,
              "#0d0887"
             ],
             [
              0.1111111111111111,
              "#46039f"
             ],
             [
              0.2222222222222222,
              "#7201a8"
             ],
             [
              0.3333333333333333,
              "#9c179e"
             ],
             [
              0.4444444444444444,
              "#bd3786"
             ],
             [
              0.5555555555555556,
              "#d8576b"
             ],
             [
              0.6666666666666666,
              "#ed7953"
             ],
             [
              0.7777777777777778,
              "#fb9f3a"
             ],
             [
              0.8888888888888888,
              "#fdca26"
             ],
             [
              1,
              "#f0f921"
             ]
            ],
            "type": "contour"
           }
          ],
          "contourcarpet": [
           {
            "colorbar": {
             "outlinewidth": 0,
             "ticks": ""
            },
            "type": "contourcarpet"
           }
          ],
          "heatmap": [
           {
            "colorbar": {
             "outlinewidth": 0,
             "ticks": ""
            },
            "colorscale": [
             [
              0,
              "#0d0887"
             ],
             [
              0.1111111111111111,
              "#46039f"
             ],
             [
              0.2222222222222222,
              "#7201a8"
             ],
             [
              0.3333333333333333,
              "#9c179e"
             ],
             [
              0.4444444444444444,
              "#bd3786"
             ],
             [
              0.5555555555555556,
              "#d8576b"
             ],
             [
              0.6666666666666666,
              "#ed7953"
             ],
             [
              0.7777777777777778,
              "#fb9f3a"
             ],
             [
              0.8888888888888888,
              "#fdca26"
             ],
             [
              1,
              "#f0f921"
             ]
            ],
            "type": "heatmap"
           }
          ],
          "heatmapgl": [
           {
            "colorbar": {
             "outlinewidth": 0,
             "ticks": ""
            },
            "colorscale": [
             [
              0,
              "#0d0887"
             ],
             [
              0.1111111111111111,
              "#46039f"
             ],
             [
              0.2222222222222222,
              "#7201a8"
             ],
             [
              0.3333333333333333,
              "#9c179e"
             ],
             [
              0.4444444444444444,
              "#bd3786"
             ],
             [
              0.5555555555555556,
              "#d8576b"
             ],
             [
              0.6666666666666666,
              "#ed7953"
             ],
             [
              0.7777777777777778,
              "#fb9f3a"
             ],
             [
              0.8888888888888888,
              "#fdca26"
             ],
             [
              1,
              "#f0f921"
             ]
            ],
            "type": "heatmapgl"
           }
          ],
          "histogram": [
           {
            "marker": {
             "pattern": {
              "fillmode": "overlay",
              "size": 10,
              "solidity": 0.2
             }
            },
            "type": "histogram"
           }
          ],
          "histogram2d": [
           {
            "colorbar": {
             "outlinewidth": 0,
             "ticks": ""
            },
            "colorscale": [
             [
              0,
              "#0d0887"
             ],
             [
              0.1111111111111111,
              "#46039f"
             ],
             [
              0.2222222222222222,
              "#7201a8"
             ],
             [
              0.3333333333333333,
              "#9c179e"
             ],
             [
              0.4444444444444444,
              "#bd3786"
             ],
             [
              0.5555555555555556,
              "#d8576b"
             ],
             [
              0.6666666666666666,
              "#ed7953"
             ],
             [
              0.7777777777777778,
              "#fb9f3a"
             ],
             [
              0.8888888888888888,
              "#fdca26"
             ],
             [
              1,
              "#f0f921"
             ]
            ],
            "type": "histogram2d"
           }
          ],
          "histogram2dcontour": [
           {
            "colorbar": {
             "outlinewidth": 0,
             "ticks": ""
            },
            "colorscale": [
             [
              0,
              "#0d0887"
             ],
             [
              0.1111111111111111,
              "#46039f"
             ],
             [
              0.2222222222222222,
              "#7201a8"
             ],
             [
              0.3333333333333333,
              "#9c179e"
             ],
             [
              0.4444444444444444,
              "#bd3786"
             ],
             [
              0.5555555555555556,
              "#d8576b"
             ],
             [
              0.6666666666666666,
              "#ed7953"
             ],
             [
              0.7777777777777778,
              "#fb9f3a"
             ],
             [
              0.8888888888888888,
              "#fdca26"
             ],
             [
              1,
              "#f0f921"
             ]
            ],
            "type": "histogram2dcontour"
           }
          ],
          "mesh3d": [
           {
            "colorbar": {
             "outlinewidth": 0,
             "ticks": ""
            },
            "type": "mesh3d"
           }
          ],
          "parcoords": [
           {
            "line": {
             "colorbar": {
              "outlinewidth": 0,
              "ticks": ""
             }
            },
            "type": "parcoords"
           }
          ],
          "pie": [
           {
            "automargin": true,
            "type": "pie"
           }
          ],
          "scatter": [
           {
            "fillpattern": {
             "fillmode": "overlay",
             "size": 10,
             "solidity": 0.2
            },
            "type": "scatter"
           }
          ],
          "scatter3d": [
           {
            "line": {
             "colorbar": {
              "outlinewidth": 0,
              "ticks": ""
             }
            },
            "marker": {
             "colorbar": {
              "outlinewidth": 0,
              "ticks": ""
             }
            },
            "type": "scatter3d"
           }
          ],
          "scattercarpet": [
           {
            "marker": {
             "colorbar": {
              "outlinewidth": 0,
              "ticks": ""
             }
            },
            "type": "scattercarpet"
           }
          ],
          "scattergeo": [
           {
            "marker": {
             "colorbar": {
              "outlinewidth": 0,
              "ticks": ""
             }
            },
            "type": "scattergeo"
           }
          ],
          "scattergl": [
           {
            "marker": {
             "colorbar": {
              "outlinewidth": 0,
              "ticks": ""
             }
            },
            "type": "scattergl"
           }
          ],
          "scattermapbox": [
           {
            "marker": {
             "colorbar": {
              "outlinewidth": 0,
              "ticks": ""
             }
            },
            "type": "scattermapbox"
           }
          ],
          "scatterpolar": [
           {
            "marker": {
             "colorbar": {
              "outlinewidth": 0,
              "ticks": ""
             }
            },
            "type": "scatterpolar"
           }
          ],
          "scatterpolargl": [
           {
            "marker": {
             "colorbar": {
              "outlinewidth": 0,
              "ticks": ""
             }
            },
            "type": "scatterpolargl"
           }
          ],
          "scatterternary": [
           {
            "marker": {
             "colorbar": {
              "outlinewidth": 0,
              "ticks": ""
             }
            },
            "type": "scatterternary"
           }
          ],
          "surface": [
           {
            "colorbar": {
             "outlinewidth": 0,
             "ticks": ""
            },
            "colorscale": [
             [
              0,
              "#0d0887"
             ],
             [
              0.1111111111111111,
              "#46039f"
             ],
             [
              0.2222222222222222,
              "#7201a8"
             ],
             [
              0.3333333333333333,
              "#9c179e"
             ],
             [
              0.4444444444444444,
              "#bd3786"
             ],
             [
              0.5555555555555556,
              "#d8576b"
             ],
             [
              0.6666666666666666,
              "#ed7953"
             ],
             [
              0.7777777777777778,
              "#fb9f3a"
             ],
             [
              0.8888888888888888,
              "#fdca26"
             ],
             [
              1,
              "#f0f921"
             ]
            ],
            "type": "surface"
           }
          ],
          "table": [
           {
            "cells": {
             "fill": {
              "color": "#EBF0F8"
             },
             "line": {
              "color": "white"
             }
            },
            "header": {
             "fill": {
              "color": "#C8D4E3"
             },
             "line": {
              "color": "white"
             }
            },
            "type": "table"
           }
          ]
         },
         "layout": {
          "annotationdefaults": {
           "arrowcolor": "#2a3f5f",
           "arrowhead": 0,
           "arrowwidth": 1
          },
          "autotypenumbers": "strict",
          "coloraxis": {
           "colorbar": {
            "outlinewidth": 0,
            "ticks": ""
           }
          },
          "colorscale": {
           "diverging": [
            [
             0,
             "#8e0152"
            ],
            [
             0.1,
             "#c51b7d"
            ],
            [
             0.2,
             "#de77ae"
            ],
            [
             0.3,
             "#f1b6da"
            ],
            [
             0.4,
             "#fde0ef"
            ],
            [
             0.5,
             "#f7f7f7"
            ],
            [
             0.6,
             "#e6f5d0"
            ],
            [
             0.7,
             "#b8e186"
            ],
            [
             0.8,
             "#7fbc41"
            ],
            [
             0.9,
             "#4d9221"
            ],
            [
             1,
             "#276419"
            ]
           ],
           "sequential": [
            [
             0,
             "#0d0887"
            ],
            [
             0.1111111111111111,
             "#46039f"
            ],
            [
             0.2222222222222222,
             "#7201a8"
            ],
            [
             0.3333333333333333,
             "#9c179e"
            ],
            [
             0.4444444444444444,
             "#bd3786"
            ],
            [
             0.5555555555555556,
             "#d8576b"
            ],
            [
             0.6666666666666666,
             "#ed7953"
            ],
            [
             0.7777777777777778,
             "#fb9f3a"
            ],
            [
             0.8888888888888888,
             "#fdca26"
            ],
            [
             1,
             "#f0f921"
            ]
           ],
           "sequentialminus": [
            [
             0,
             "#0d0887"
            ],
            [
             0.1111111111111111,
             "#46039f"
            ],
            [
             0.2222222222222222,
             "#7201a8"
            ],
            [
             0.3333333333333333,
             "#9c179e"
            ],
            [
             0.4444444444444444,
             "#bd3786"
            ],
            [
             0.5555555555555556,
             "#d8576b"
            ],
            [
             0.6666666666666666,
             "#ed7953"
            ],
            [
             0.7777777777777778,
             "#fb9f3a"
            ],
            [
             0.8888888888888888,
             "#fdca26"
            ],
            [
             1,
             "#f0f921"
            ]
           ]
          },
          "colorway": [
           "#636efa",
           "#EF553B",
           "#00cc96",
           "#ab63fa",
           "#FFA15A",
           "#19d3f3",
           "#FF6692",
           "#B6E880",
           "#FF97FF",
           "#FECB52"
          ],
          "font": {
           "color": "#2a3f5f"
          },
          "geo": {
           "bgcolor": "white",
           "lakecolor": "white",
           "landcolor": "#E5ECF6",
           "showlakes": true,
           "showland": true,
           "subunitcolor": "white"
          },
          "hoverlabel": {
           "align": "left"
          },
          "hovermode": "closest",
          "mapbox": {
           "style": "light"
          },
          "paper_bgcolor": "white",
          "plot_bgcolor": "#E5ECF6",
          "polar": {
           "angularaxis": {
            "gridcolor": "white",
            "linecolor": "white",
            "ticks": ""
           },
           "bgcolor": "#E5ECF6",
           "radialaxis": {
            "gridcolor": "white",
            "linecolor": "white",
            "ticks": ""
           }
          },
          "scene": {
           "xaxis": {
            "backgroundcolor": "#E5ECF6",
            "gridcolor": "white",
            "gridwidth": 2,
            "linecolor": "white",
            "showbackground": true,
            "ticks": "",
            "zerolinecolor": "white"
           },
           "yaxis": {
            "backgroundcolor": "#E5ECF6",
            "gridcolor": "white",
            "gridwidth": 2,
            "linecolor": "white",
            "showbackground": true,
            "ticks": "",
            "zerolinecolor": "white"
           },
           "zaxis": {
            "backgroundcolor": "#E5ECF6",
            "gridcolor": "white",
            "gridwidth": 2,
            "linecolor": "white",
            "showbackground": true,
            "ticks": "",
            "zerolinecolor": "white"
           }
          },
          "shapedefaults": {
           "line": {
            "color": "#2a3f5f"
           }
          },
          "ternary": {
           "aaxis": {
            "gridcolor": "white",
            "linecolor": "white",
            "ticks": ""
           },
           "baxis": {
            "gridcolor": "white",
            "linecolor": "white",
            "ticks": ""
           },
           "bgcolor": "#E5ECF6",
           "caxis": {
            "gridcolor": "white",
            "linecolor": "white",
            "ticks": ""
           }
          },
          "title": {
           "x": 0.05
          },
          "xaxis": {
           "automargin": true,
           "gridcolor": "white",
           "linecolor": "white",
           "ticks": "",
           "title": {
            "standoff": 15
           },
           "zerolinecolor": "white",
           "zerolinewidth": 2
          },
          "yaxis": {
           "automargin": true,
           "gridcolor": "white",
           "linecolor": "white",
           "ticks": "",
           "title": {
            "standoff": 15
           },
           "zerolinecolor": "white",
           "zerolinewidth": 2
          }
         }
        },
        "title": {
         "text": "Agenda for Intervenant ID: 78007018"
        },
        "xaxis": {
         "anchor": "y",
         "domain": [
          0,
          1
         ],
         "rangeselector": {
          "buttons": [
           {
            "count": 1,
            "label": "1D",
            "step": "day",
            "stepmode": "backward"
           },
           {
            "count": 7,
            "label": "1W",
            "step": "day",
            "stepmode": "backward"
           },
           {
            "step": "all"
           }
          ]
         },
         "rangeslider": {
          "visible": true
         },
         "type": "date"
        },
        "yaxis": {
         "anchor": "x",
         "autorange": "reversed",
         "domain": [
          0,
          1
         ],
         "title": {
          "text": "Task"
         }
        }
       }
      }
     },
     "metadata": {},
     "output_type": "display_data"
    },
    {
     "data": {
      "application/vnd.plotly.v1+json": {
       "config": {
        "plotlyServerURL": "https://plot.ly"
       },
       "data": [
        {
         "alignmentgroup": "True",
         "base": [
          "2024-01-01T07:45:00",
          "2024-01-01T08:30:00",
          "2024-01-01T09:20:00",
          "2024-01-01T09:55:00",
          "2024-01-01T10:40:00",
          "2024-01-01T11:30:00",
          "2024-01-01T12:00:00",
          "2024-01-01T17:00:00",
          "2024-01-01T17:30:00",
          "2024-01-01T18:30:00",
          "2024-01-01T19:00:00",
          "2024-01-01T20:15:00",
          "2024-01-02T08:00:00",
          "2024-01-02T08:50:00",
          "2024-01-02T09:30:00",
          "2024-01-02T10:30:00",
          "2024-01-02T11:15:00",
          "2024-01-02T12:00:00",
          "2024-01-02T14:00:00",
          "2024-01-02T15:35:00",
          "2024-01-02T17:00:00",
          "2024-01-02T17:30:00",
          "2024-01-02T18:30:00",
          "2024-01-03T08:00:00",
          "2024-01-03T08:50:00",
          "2024-01-03T09:20:00",
          "2024-01-03T09:55:00",
          "2024-01-03T10:30:00",
          "2024-01-03T11:00:00",
          "2024-01-03T12:10:00",
          "2024-01-03T14:00:00",
          "2024-01-03T16:25:00",
          "2024-01-03T18:10:00",
          "2024-01-03T18:55:00",
          "2024-01-04T08:00:00",
          "2024-01-04T08:50:00",
          "2024-01-04T09:30:00",
          "2024-01-04T10:15:00",
          "2024-01-04T11:55:00",
          "2024-01-04T12:30:00",
          "2024-01-04T13:50:00",
          "2024-01-04T15:25:00",
          "2024-01-04T16:40:00",
          "2024-01-04T17:45:00",
          "2024-01-04T18:45:00",
          "2024-01-08T08:10:00",
          "2024-01-08T09:35:00",
          "2024-01-08T10:10:00",
          "2024-01-08T10:45:00",
          "2024-01-08T11:50:00",
          "2024-01-08T13:00:00",
          "2024-01-08T14:15:00",
          "2024-01-08T15:40:00",
          "2024-01-08T16:45:00",
          "2024-01-08T17:15:00",
          "2024-01-09T08:40:00",
          "2024-01-09T09:40:00",
          "2024-01-09T10:25:00",
          "2024-01-09T11:35:00",
          "2024-01-09T12:20:00",
          "2024-01-09T15:40:00",
          "2024-01-09T16:25:00",
          "2024-01-09T17:15:00",
          "2024-01-09T17:30:00",
          "2024-01-09T18:20:00",
          "2024-01-10T07:45:00",
          "2024-01-10T08:40:00",
          "2024-01-10T09:35:00",
          "2024-01-10T10:10:00",
          "2024-01-10T11:05:00",
          "2024-01-10T12:00:00",
          "2024-01-10T15:45:00",
          "2024-01-10T17:15:00",
          "2024-01-10T18:00:00",
          "2024-01-10T18:45:00",
          "2024-01-11T08:00:00",
          "2024-01-11T08:35:00",
          "2024-01-11T09:30:00",
          "2024-01-11T10:30:00",
          "2024-01-11T11:30:00",
          "2024-01-11T12:15:00",
          "2024-01-11T13:00:00",
          "2024-01-13T07:30:00",
          "2024-01-13T08:30:00",
          "2024-01-13T09:20:00",
          "2024-01-13T10:00:00",
          "2024-01-13T10:45:00",
          "2024-01-13T11:45:00",
          "2024-01-13T12:30:00",
          "2024-01-13T13:10:00",
          "2024-01-13T17:00:00",
          "2024-01-13T17:30:00",
          "2024-01-13T18:30:00",
          "2024-01-13T19:00:00",
          "2024-01-14T07:30:00",
          "2024-01-14T08:30:00",
          "2024-01-14T09:20:00",
          "2024-01-14T10:00:00",
          "2024-01-14T17:00:00",
          "2024-01-14T17:30:00",
          "2024-01-14T18:30:00",
          "2024-01-14T19:00:00",
          "2024-01-15T08:30:00",
          "2024-01-15T09:40:00",
          "2024-01-15T10:30:00",
          "2024-01-15T15:15:00",
          "2024-01-15T16:30:00",
          "2024-01-15T17:30:00",
          "2024-01-16T08:10:00",
          "2024-01-16T08:45:00",
          "2024-01-16T09:45:00",
          "2024-01-16T10:30:00",
          "2024-01-16T11:45:00",
          "2024-01-16T14:15:00",
          "2024-01-16T15:50:00",
          "2024-01-16T17:00:00",
          "2024-01-16T18:00:00",
          "2024-01-16T19:00:00",
          "2024-01-16T19:30:00",
          "2024-01-17T08:00:00",
          "2024-01-17T08:45:00",
          "2024-01-17T09:25:00",
          "2024-01-17T10:05:00",
          "2024-01-17T10:50:00",
          "2024-01-17T11:20:00",
          "2024-01-17T12:20:00",
          "2024-01-17T14:15:00",
          "2024-01-17T16:30:00",
          "2024-01-17T17:30:00",
          "2024-01-17T18:35:00",
          "2024-01-22T07:30:00",
          "2024-01-22T08:30:00",
          "2024-01-22T10:10:00",
          "2024-01-22T10:50:00",
          "2024-01-22T11:35:00",
          "2024-01-22T12:20:00",
          "2024-01-22T14:30:00",
          "2024-01-22T15:45:00",
          "2024-01-22T17:00:00",
          "2024-01-22T17:30:00",
          "2024-01-22T18:30:00",
          "2024-01-23T08:00:00",
          "2024-01-23T08:35:00",
          "2024-01-23T09:30:00",
          "2024-01-23T10:15:00",
          "2024-01-23T14:00:00",
          "2024-01-23T15:40:00",
          "2024-01-23T17:00:00",
          "2024-01-23T17:35:00",
          "2024-01-23T18:35:00",
          "2024-01-23T19:05:00",
          "2024-01-24T08:00:00",
          "2024-01-24T08:40:00",
          "2024-01-24T09:25:00",
          "2024-01-24T10:15:00",
          "2024-01-24T11:30:00",
          "2024-01-24T12:15:00",
          "2024-01-25T08:05:00",
          "2024-01-25T08:40:00",
          "2024-01-25T09:45:00",
          "2024-01-25T10:40:00",
          "2024-01-25T13:50:00",
          "2024-01-25T15:25:00",
          "2024-01-25T16:35:00",
          "2024-01-25T17:35:00",
          "2024-01-25T18:35:00",
          "2024-01-27T07:30:00",
          "2024-01-27T08:30:00",
          "2024-01-27T09:20:00",
          "2024-01-27T10:05:00",
          "2024-01-27T11:30:00",
          "2024-01-27T12:15:00",
          "2024-01-27T17:15:00",
          "2024-01-27T17:55:00",
          "2024-01-27T18:35:00",
          "2024-01-27T19:10:00",
          "2024-01-28T07:30:00",
          "2024-01-28T08:30:00",
          "2024-01-28T09:20:00",
          "2024-01-28T10:05:00",
          "2024-01-28T11:30:00",
          "2024-01-28T12:15:00",
          "2024-01-28T13:00:00",
          "2024-01-28T17:15:00",
          "2024-01-28T18:00:00",
          "2024-01-28T18:35:00",
          "2024-01-29T08:00:00",
          "2024-01-29T08:40:00",
          "2024-01-29T09:40:00",
          "2024-01-29T10:50:00",
          "2024-01-29T11:50:00",
          "2024-01-29T14:45:00",
          "2024-01-29T17:00:00",
          "2024-01-29T17:25:00",
          "2024-01-29T18:30:00",
          "2024-01-30T07:30:00",
          "2024-01-30T08:25:00",
          "2024-01-30T09:20:00",
          "2024-01-30T10:00:00",
          "2024-01-30T11:15:00",
          "2024-01-30T14:00:00",
          "2024-01-30T15:45:00",
          "2024-01-30T17:00:00",
          "2024-01-30T17:25:00",
          "2024-01-30T18:25:00",
          "2024-01-31T07:45:00",
          "2024-01-31T08:40:00",
          "2024-01-31T09:40:00",
          "2024-01-31T10:40:00",
          "2024-01-31T12:00:00",
          "2024-01-31T15:00:00",
          "2024-01-31T15:45:00",
          "2024-01-31T17:30:00",
          "2024-01-31T18:15:00",
          "2024-01-31T19:00:00"
         ],
         "hovertemplate": "Resource=810259688<br>Start=%{base}<br>Finish=%{x}<br>Task=%{y}<extra></extra>",
         "legendgroup": "810259688",
         "marker": {
          "color": "#636efa",
          "pattern": {
           "shape": ""
          }
         },
         "name": "810259688",
         "offsetgroup": "810259688",
         "orientation": "h",
         "showlegend": true,
         "textposition": "auto",
         "type": "bar",
         "x": [
          1800000,
          2700000,
          1800000,
          1800000,
          1800000,
          1800000,
          1800000,
          900000,
          2700000,
          900000,
          3600000,
          1800000,
          2700000,
          1800000,
          2700000,
          1800000,
          2700000,
          1800000,
          5400000,
          3600000,
          900000,
          2700000,
          900000,
          2700000,
          1800000,
          1800000,
          1800000,
          1800000,
          3600000,
          1800000,
          7200000,
          2700000,
          1800000,
          3600000,
          2700000,
          1800000,
          1800000,
          5400000,
          1800000,
          1800000,
          5400000,
          3600000,
          3600000,
          2700000,
          900000,
          4500000,
          1800000,
          1800000,
          3600000,
          3600000,
          1800000,
          3600000,
          2700000,
          900000,
          2700000,
          2700000,
          1800000,
          3600000,
          1800000,
          1800000,
          1800000,
          2700000,
          900000,
          2700000,
          900000,
          2700000,
          2700000,
          1800000,
          2700000,
          2700000,
          1800000,
          5400000,
          1800000,
          1800000,
          3600000,
          1800000,
          2700000,
          2700000,
          3600000,
          1800000,
          1800000,
          900000,
          2700000,
          2700000,
          1800000,
          1800000,
          2700000,
          1800000,
          1800000,
          900000,
          900000,
          2700000,
          900000,
          1800000,
          2700000,
          2700000,
          1800000,
          1800000,
          900000,
          2700000,
          900000,
          1800000,
          3600000,
          2700000,
          2700000,
          3600000,
          3600000,
          2700000,
          1800000,
          2700000,
          1800000,
          3600000,
          1800000,
          5400000,
          3600000,
          2700000,
          2700000,
          1800000,
          1800000,
          2700000,
          1800000,
          1800000,
          1800000,
          1800000,
          3600000,
          2700000,
          7200000,
          3600000,
          2700000,
          900000,
          2700000,
          5400000,
          1800000,
          1800000,
          1800000,
          2700000,
          3600000,
          3600000,
          900000,
          2700000,
          900000,
          1800000,
          2700000,
          1800000,
          3600000,
          5400000,
          3600000,
          900000,
          2700000,
          900000,
          1800000,
          1800000,
          1800000,
          1800000,
          1800000,
          1800000,
          1800000,
          1800000,
          2700000,
          2700000,
          3600000,
          5400000,
          3600000,
          3600000,
          2700000,
          900000,
          2700000,
          2700000,
          1800000,
          1800000,
          1800000,
          1800000,
          1800000,
          1800000,
          1800000,
          1800000,
          2700000,
          2700000,
          1800000,
          1800000,
          1800000,
          1800000,
          900000,
          1800000,
          1800000,
          1800000,
          1800000,
          2700000,
          2700000,
          3600000,
          1800000,
          7200000,
          900000,
          2700000,
          900000,
          2700000,
          2700000,
          1800000,
          3600000,
          2700000,
          5400000,
          3600000,
          900000,
          2700000,
          900000,
          2700000,
          2700000,
          2700000,
          3600000,
          1800000,
          1800000,
          5400000,
          1800000,
          1800000,
          3600000
         ],
         "xaxis": "x",
         "y": [
          "TOILETTE",
          "TOILETTE",
          "TOILETTE",
          "TOILETTE",
          "TOILETTE",
          "REPAS",
          "REPAS",
          "VIE SOCIALE",
          "REPAS",
          "TOILETTE",
          "TOILETTE",
          "TOILETTE",
          "TOILETTE",
          "TOILETTE",
          "TOILETTE",
          "TOILETTE",
          "REPAS",
          "REPAS",
          "AIDE MENAGERE",
          "ACCOMPAGNEMENTS COURSES PA",
          "VIE SOCIALE",
          "REPAS",
          "TOILETTE",
          "TOILETTE",
          "TOILETTE",
          "TOILETTE",
          "TOILETTE",
          "TOILETTE",
          "ACCOMPAGNEMENTS COURSES PA",
          "REPAS",
          "ACCOMPAGNEMENTS COURSES PA",
          "TOILETTE",
          "TOILETTE",
          "REPAS",
          "TOILETTE",
          "TOILETTE",
          "TOILETTE",
          "AIDE MENAGERE",
          "REPAS",
          "REPAS",
          "AIDE MENAGERE",
          "VIE SOCIALE",
          "ACCOMPAGNEMENTS COURSES PA",
          "REPAS",
          "TOILETTE",
          "TOILETTE",
          "TOILETTE",
          "TOILETTE",
          "ACCOMPAGNEMENTS COURSES PA",
          "REPAS",
          "REPAS",
          "ACCOMPAGNEMENTS COURSES PA",
          "AIDE MENAGERE",
          "VIE SOCIALE",
          "REPAS",
          "TOILETTE",
          "TOILETTE",
          "TOILETTE",
          "REPAS",
          "REPAS",
          "TOILETTE",
          "TOILETTE",
          "VIE SOCIALE",
          "REPAS",
          "TOILETTE",
          "TOILETTE",
          "TOILETTE",
          "TOILETTE",
          "TOILETTE",
          "TOILETTE",
          "REPAS",
          "VIE SOCIALE",
          "REPAS",
          "TOILETTE",
          "REPAS",
          "REPAS",
          "TOILETTE",
          "TOILETTE",
          "ACCOMPAGNEMENTS COURSES PA",
          "REPAS",
          "REPAS",
          "VIE SOCIALE",
          "TOILETTE",
          "TOILETTE",
          "TOILETTE",
          "TOILETTE",
          "TOILETTE",
          "REPAS",
          "REPAS",
          "VIE SOCIALE",
          "VIE SOCIALE",
          "REPAS",
          "TOILETTE",
          "REPAS",
          "TOILETTE",
          "TOILETTE",
          "TOILETTE",
          "TOILETTE",
          "VIE SOCIALE",
          "REPAS",
          "TOILETTE",
          "REPAS",
          "TOILETTE",
          "TOILETTE",
          "AIDE MENAGERE",
          "AIDE MENAGERE",
          "AIDE MENAGERE",
          "REPAS",
          "REPAS",
          "TOILETTE",
          "TOILETTE",
          "TOILETTE",
          "REPAS",
          "AIDE MENAGERE",
          "ACCOMPAGNEMENTS COURSES PA",
          "REPAS",
          "TOILETTE",
          "TOILETTE",
          "FORMATION",
          "TOILETTE",
          "TOILETTE",
          "TOILETTE",
          "TOILETTE",
          "TOILETTE",
          "ACCOMPAGNEMENTS COURSES PA",
          "REPAS",
          "ACCOMPAGNEMENTS COURSES PA",
          "ACCOMPAGNEMENTS COURSES PA",
          "REPAS",
          "TOILETTE",
          "TOILETTE",
          "TOILETTE",
          "TOILETTE",
          "TOILETTE",
          "REPAS",
          "REPAS",
          "AIDE MENAGERE",
          "AIDE MENAGERE",
          "VIE SOCIALE",
          "REPAS",
          "TOILETTE",
          "REPAS",
          "TOILETTE",
          "TOILETTE",
          "TOILETTE",
          "AIDE MENAGERE",
          "ACCOMPAGNEMENTS COURSES PA",
          "VIE SOCIALE",
          "REPAS",
          "TOILETTE",
          "REPAS",
          "REPAS",
          "REPAS",
          "TOILETTE",
          "TOILETTE",
          "REPAS",
          "REPAS",
          "REPAS",
          "TOILETTE",
          "TOILETTE",
          "TOILETTE",
          "AIDE MENAGERE",
          "VIE SOCIALE",
          "ACCOMPAGNEMENTS COURSES PA",
          "REPAS",
          "TOILETTE",
          "TOILETTE",
          "TOILETTE",
          "TOILETTE",
          "TOILETTE",
          "REPAS",
          "REPAS",
          "REPAS",
          "REPAS",
          "REPAS",
          "REPAS",
          "TOILETTE",
          "TOILETTE",
          "TOILETTE",
          "TOILETTE",
          "REPAS",
          "REPAS",
          "VIE SOCIALE",
          "REPAS",
          "REPAS",
          "REPAS",
          "REPAS",
          "TOILETTE",
          "TOILETTE",
          "AIDE MENAGERE",
          "REPAS",
          "ACCOMPAGNEMENTS COURSES PA",
          "VIE SOCIALE",
          "REPAS",
          "TOILETTE",
          "TOILETTE",
          "TOILETTE",
          "TOILETTE",
          "TOILETTE",
          "TOILETTE",
          "AIDE MENAGERE",
          "ACCOMPAGNEMENTS COURSES PA",
          "VIE SOCIALE",
          "REPAS",
          "TOILETTE",
          "TOILETTE",
          "TOILETTE",
          "TOILETTE",
          "TOILETTE",
          "REPAS",
          "AIDE MENAGERE",
          "VIE SOCIALE",
          "ACCOMPAGNEMENTS COURSES PA",
          "TOILETTE",
          "REPAS"
         ],
         "yaxis": "y"
        }
       ],
       "layout": {
        "barmode": "overlay",
        "legend": {
         "title": {
          "text": "Resource"
         },
         "tracegroupgap": 0
        },
        "margin": {
         "t": 60
        },
        "template": {
         "data": {
          "bar": [
           {
            "error_x": {
             "color": "#2a3f5f"
            },
            "error_y": {
             "color": "#2a3f5f"
            },
            "marker": {
             "line": {
              "color": "#E5ECF6",
              "width": 0.5
             },
             "pattern": {
              "fillmode": "overlay",
              "size": 10,
              "solidity": 0.2
             }
            },
            "type": "bar"
           }
          ],
          "barpolar": [
           {
            "marker": {
             "line": {
              "color": "#E5ECF6",
              "width": 0.5
             },
             "pattern": {
              "fillmode": "overlay",
              "size": 10,
              "solidity": 0.2
             }
            },
            "type": "barpolar"
           }
          ],
          "carpet": [
           {
            "aaxis": {
             "endlinecolor": "#2a3f5f",
             "gridcolor": "white",
             "linecolor": "white",
             "minorgridcolor": "white",
             "startlinecolor": "#2a3f5f"
            },
            "baxis": {
             "endlinecolor": "#2a3f5f",
             "gridcolor": "white",
             "linecolor": "white",
             "minorgridcolor": "white",
             "startlinecolor": "#2a3f5f"
            },
            "type": "carpet"
           }
          ],
          "choropleth": [
           {
            "colorbar": {
             "outlinewidth": 0,
             "ticks": ""
            },
            "type": "choropleth"
           }
          ],
          "contour": [
           {
            "colorbar": {
             "outlinewidth": 0,
             "ticks": ""
            },
            "colorscale": [
             [
              0,
              "#0d0887"
             ],
             [
              0.1111111111111111,
              "#46039f"
             ],
             [
              0.2222222222222222,
              "#7201a8"
             ],
             [
              0.3333333333333333,
              "#9c179e"
             ],
             [
              0.4444444444444444,
              "#bd3786"
             ],
             [
              0.5555555555555556,
              "#d8576b"
             ],
             [
              0.6666666666666666,
              "#ed7953"
             ],
             [
              0.7777777777777778,
              "#fb9f3a"
             ],
             [
              0.8888888888888888,
              "#fdca26"
             ],
             [
              1,
              "#f0f921"
             ]
            ],
            "type": "contour"
           }
          ],
          "contourcarpet": [
           {
            "colorbar": {
             "outlinewidth": 0,
             "ticks": ""
            },
            "type": "contourcarpet"
           }
          ],
          "heatmap": [
           {
            "colorbar": {
             "outlinewidth": 0,
             "ticks": ""
            },
            "colorscale": [
             [
              0,
              "#0d0887"
             ],
             [
              0.1111111111111111,
              "#46039f"
             ],
             [
              0.2222222222222222,
              "#7201a8"
             ],
             [
              0.3333333333333333,
              "#9c179e"
             ],
             [
              0.4444444444444444,
              "#bd3786"
             ],
             [
              0.5555555555555556,
              "#d8576b"
             ],
             [
              0.6666666666666666,
              "#ed7953"
             ],
             [
              0.7777777777777778,
              "#fb9f3a"
             ],
             [
              0.8888888888888888,
              "#fdca26"
             ],
             [
              1,
              "#f0f921"
             ]
            ],
            "type": "heatmap"
           }
          ],
          "heatmapgl": [
           {
            "colorbar": {
             "outlinewidth": 0,
             "ticks": ""
            },
            "colorscale": [
             [
              0,
              "#0d0887"
             ],
             [
              0.1111111111111111,
              "#46039f"
             ],
             [
              0.2222222222222222,
              "#7201a8"
             ],
             [
              0.3333333333333333,
              "#9c179e"
             ],
             [
              0.4444444444444444,
              "#bd3786"
             ],
             [
              0.5555555555555556,
              "#d8576b"
             ],
             [
              0.6666666666666666,
              "#ed7953"
             ],
             [
              0.7777777777777778,
              "#fb9f3a"
             ],
             [
              0.8888888888888888,
              "#fdca26"
             ],
             [
              1,
              "#f0f921"
             ]
            ],
            "type": "heatmapgl"
           }
          ],
          "histogram": [
           {
            "marker": {
             "pattern": {
              "fillmode": "overlay",
              "size": 10,
              "solidity": 0.2
             }
            },
            "type": "histogram"
           }
          ],
          "histogram2d": [
           {
            "colorbar": {
             "outlinewidth": 0,
             "ticks": ""
            },
            "colorscale": [
             [
              0,
              "#0d0887"
             ],
             [
              0.1111111111111111,
              "#46039f"
             ],
             [
              0.2222222222222222,
              "#7201a8"
             ],
             [
              0.3333333333333333,
              "#9c179e"
             ],
             [
              0.4444444444444444,
              "#bd3786"
             ],
             [
              0.5555555555555556,
              "#d8576b"
             ],
             [
              0.6666666666666666,
              "#ed7953"
             ],
             [
              0.7777777777777778,
              "#fb9f3a"
             ],
             [
              0.8888888888888888,
              "#fdca26"
             ],
             [
              1,
              "#f0f921"
             ]
            ],
            "type": "histogram2d"
           }
          ],
          "histogram2dcontour": [
           {
            "colorbar": {
             "outlinewidth": 0,
             "ticks": ""
            },
            "colorscale": [
             [
              0,
              "#0d0887"
             ],
             [
              0.1111111111111111,
              "#46039f"
             ],
             [
              0.2222222222222222,
              "#7201a8"
             ],
             [
              0.3333333333333333,
              "#9c179e"
             ],
             [
              0.4444444444444444,
              "#bd3786"
             ],
             [
              0.5555555555555556,
              "#d8576b"
             ],
             [
              0.6666666666666666,
              "#ed7953"
             ],
             [
              0.7777777777777778,
              "#fb9f3a"
             ],
             [
              0.8888888888888888,
              "#fdca26"
             ],
             [
              1,
              "#f0f921"
             ]
            ],
            "type": "histogram2dcontour"
           }
          ],
          "mesh3d": [
           {
            "colorbar": {
             "outlinewidth": 0,
             "ticks": ""
            },
            "type": "mesh3d"
           }
          ],
          "parcoords": [
           {
            "line": {
             "colorbar": {
              "outlinewidth": 0,
              "ticks": ""
             }
            },
            "type": "parcoords"
           }
          ],
          "pie": [
           {
            "automargin": true,
            "type": "pie"
           }
          ],
          "scatter": [
           {
            "fillpattern": {
             "fillmode": "overlay",
             "size": 10,
             "solidity": 0.2
            },
            "type": "scatter"
           }
          ],
          "scatter3d": [
           {
            "line": {
             "colorbar": {
              "outlinewidth": 0,
              "ticks": ""
             }
            },
            "marker": {
             "colorbar": {
              "outlinewidth": 0,
              "ticks": ""
             }
            },
            "type": "scatter3d"
           }
          ],
          "scattercarpet": [
           {
            "marker": {
             "colorbar": {
              "outlinewidth": 0,
              "ticks": ""
             }
            },
            "type": "scattercarpet"
           }
          ],
          "scattergeo": [
           {
            "marker": {
             "colorbar": {
              "outlinewidth": 0,
              "ticks": ""
             }
            },
            "type": "scattergeo"
           }
          ],
          "scattergl": [
           {
            "marker": {
             "colorbar": {
              "outlinewidth": 0,
              "ticks": ""
             }
            },
            "type": "scattergl"
           }
          ],
          "scattermapbox": [
           {
            "marker": {
             "colorbar": {
              "outlinewidth": 0,
              "ticks": ""
             }
            },
            "type": "scattermapbox"
           }
          ],
          "scatterpolar": [
           {
            "marker": {
             "colorbar": {
              "outlinewidth": 0,
              "ticks": ""
             }
            },
            "type": "scatterpolar"
           }
          ],
          "scatterpolargl": [
           {
            "marker": {
             "colorbar": {
              "outlinewidth": 0,
              "ticks": ""
             }
            },
            "type": "scatterpolargl"
           }
          ],
          "scatterternary": [
           {
            "marker": {
             "colorbar": {
              "outlinewidth": 0,
              "ticks": ""
             }
            },
            "type": "scatterternary"
           }
          ],
          "surface": [
           {
            "colorbar": {
             "outlinewidth": 0,
             "ticks": ""
            },
            "colorscale": [
             [
              0,
              "#0d0887"
             ],
             [
              0.1111111111111111,
              "#46039f"
             ],
             [
              0.2222222222222222,
              "#7201a8"
             ],
             [
              0.3333333333333333,
              "#9c179e"
             ],
             [
              0.4444444444444444,
              "#bd3786"
             ],
             [
              0.5555555555555556,
              "#d8576b"
             ],
             [
              0.6666666666666666,
              "#ed7953"
             ],
             [
              0.7777777777777778,
              "#fb9f3a"
             ],
             [
              0.8888888888888888,
              "#fdca26"
             ],
             [
              1,
              "#f0f921"
             ]
            ],
            "type": "surface"
           }
          ],
          "table": [
           {
            "cells": {
             "fill": {
              "color": "#EBF0F8"
             },
             "line": {
              "color": "white"
             }
            },
            "header": {
             "fill": {
              "color": "#C8D4E3"
             },
             "line": {
              "color": "white"
             }
            },
            "type": "table"
           }
          ]
         },
         "layout": {
          "annotationdefaults": {
           "arrowcolor": "#2a3f5f",
           "arrowhead": 0,
           "arrowwidth": 1
          },
          "autotypenumbers": "strict",
          "coloraxis": {
           "colorbar": {
            "outlinewidth": 0,
            "ticks": ""
           }
          },
          "colorscale": {
           "diverging": [
            [
             0,
             "#8e0152"
            ],
            [
             0.1,
             "#c51b7d"
            ],
            [
             0.2,
             "#de77ae"
            ],
            [
             0.3,
             "#f1b6da"
            ],
            [
             0.4,
             "#fde0ef"
            ],
            [
             0.5,
             "#f7f7f7"
            ],
            [
             0.6,
             "#e6f5d0"
            ],
            [
             0.7,
             "#b8e186"
            ],
            [
             0.8,
             "#7fbc41"
            ],
            [
             0.9,
             "#4d9221"
            ],
            [
             1,
             "#276419"
            ]
           ],
           "sequential": [
            [
             0,
             "#0d0887"
            ],
            [
             0.1111111111111111,
             "#46039f"
            ],
            [
             0.2222222222222222,
             "#7201a8"
            ],
            [
             0.3333333333333333,
             "#9c179e"
            ],
            [
             0.4444444444444444,
             "#bd3786"
            ],
            [
             0.5555555555555556,
             "#d8576b"
            ],
            [
             0.6666666666666666,
             "#ed7953"
            ],
            [
             0.7777777777777778,
             "#fb9f3a"
            ],
            [
             0.8888888888888888,
             "#fdca26"
            ],
            [
             1,
             "#f0f921"
            ]
           ],
           "sequentialminus": [
            [
             0,
             "#0d0887"
            ],
            [
             0.1111111111111111,
             "#46039f"
            ],
            [
             0.2222222222222222,
             "#7201a8"
            ],
            [
             0.3333333333333333,
             "#9c179e"
            ],
            [
             0.4444444444444444,
             "#bd3786"
            ],
            [
             0.5555555555555556,
             "#d8576b"
            ],
            [
             0.6666666666666666,
             "#ed7953"
            ],
            [
             0.7777777777777778,
             "#fb9f3a"
            ],
            [
             0.8888888888888888,
             "#fdca26"
            ],
            [
             1,
             "#f0f921"
            ]
           ]
          },
          "colorway": [
           "#636efa",
           "#EF553B",
           "#00cc96",
           "#ab63fa",
           "#FFA15A",
           "#19d3f3",
           "#FF6692",
           "#B6E880",
           "#FF97FF",
           "#FECB52"
          ],
          "font": {
           "color": "#2a3f5f"
          },
          "geo": {
           "bgcolor": "white",
           "lakecolor": "white",
           "landcolor": "#E5ECF6",
           "showlakes": true,
           "showland": true,
           "subunitcolor": "white"
          },
          "hoverlabel": {
           "align": "left"
          },
          "hovermode": "closest",
          "mapbox": {
           "style": "light"
          },
          "paper_bgcolor": "white",
          "plot_bgcolor": "#E5ECF6",
          "polar": {
           "angularaxis": {
            "gridcolor": "white",
            "linecolor": "white",
            "ticks": ""
           },
           "bgcolor": "#E5ECF6",
           "radialaxis": {
            "gridcolor": "white",
            "linecolor": "white",
            "ticks": ""
           }
          },
          "scene": {
           "xaxis": {
            "backgroundcolor": "#E5ECF6",
            "gridcolor": "white",
            "gridwidth": 2,
            "linecolor": "white",
            "showbackground": true,
            "ticks": "",
            "zerolinecolor": "white"
           },
           "yaxis": {
            "backgroundcolor": "#E5ECF6",
            "gridcolor": "white",
            "gridwidth": 2,
            "linecolor": "white",
            "showbackground": true,
            "ticks": "",
            "zerolinecolor": "white"
           },
           "zaxis": {
            "backgroundcolor": "#E5ECF6",
            "gridcolor": "white",
            "gridwidth": 2,
            "linecolor": "white",
            "showbackground": true,
            "ticks": "",
            "zerolinecolor": "white"
           }
          },
          "shapedefaults": {
           "line": {
            "color": "#2a3f5f"
           }
          },
          "ternary": {
           "aaxis": {
            "gridcolor": "white",
            "linecolor": "white",
            "ticks": ""
           },
           "baxis": {
            "gridcolor": "white",
            "linecolor": "white",
            "ticks": ""
           },
           "bgcolor": "#E5ECF6",
           "caxis": {
            "gridcolor": "white",
            "linecolor": "white",
            "ticks": ""
           }
          },
          "title": {
           "x": 0.05
          },
          "xaxis": {
           "automargin": true,
           "gridcolor": "white",
           "linecolor": "white",
           "ticks": "",
           "title": {
            "standoff": 15
           },
           "zerolinecolor": "white",
           "zerolinewidth": 2
          },
          "yaxis": {
           "automargin": true,
           "gridcolor": "white",
           "linecolor": "white",
           "ticks": "",
           "title": {
            "standoff": 15
           },
           "zerolinecolor": "white",
           "zerolinewidth": 2
          }
         }
        },
        "title": {
         "text": "Agenda for Intervenant ID: 810259688"
        },
        "xaxis": {
         "anchor": "y",
         "domain": [
          0,
          1
         ],
         "rangeselector": {
          "buttons": [
           {
            "count": 1,
            "label": "1D",
            "step": "day",
            "stepmode": "backward"
           },
           {
            "count": 7,
            "label": "1W",
            "step": "day",
            "stepmode": "backward"
           },
           {
            "step": "all"
           }
          ]
         },
         "rangeslider": {
          "visible": true
         },
         "type": "date"
        },
        "yaxis": {
         "anchor": "x",
         "autorange": "reversed",
         "domain": [
          0,
          1
         ],
         "title": {
          "text": "Task"
         }
        }
       }
      }
     },
     "metadata": {},
     "output_type": "display_data"
    },
    {
     "data": {
      "application/vnd.plotly.v1+json": {
       "config": {
        "plotlyServerURL": "https://plot.ly"
       },
       "data": [
        {
         "alignmentgroup": "True",
         "base": [
          "2024-01-01T07:45:00",
          "2024-01-01T09:15:00",
          "2024-01-01T10:30:00",
          "2024-01-01T11:45:00",
          "2024-01-02T08:00:00",
          "2024-01-02T09:30:00",
          "2024-01-02T10:15:00",
          "2024-01-02T11:00:00",
          "2024-01-02T11:45:00",
          "2024-01-02T13:00:00",
          "2024-01-02T15:15:00",
          "2024-01-02T17:10:00",
          "2024-01-02T18:25:00",
          "2024-01-03T08:00:00",
          "2024-01-03T09:15:00",
          "2024-01-03T10:00:00",
          "2024-01-03T11:00:00",
          "2024-01-03T12:00:00",
          "2024-01-03T13:15:00",
          "2024-01-03T17:30:00",
          "2024-01-03T18:10:00",
          "2024-01-03T18:50:00",
          "2024-01-04T08:00:00",
          "2024-01-04T09:30:00",
          "2024-01-04T10:45:00",
          "2024-01-04T12:00:00",
          "2024-01-04T13:15:00",
          "2024-01-04T15:20:00",
          "2024-01-04T17:15:00",
          "2024-01-04T18:00:00",
          "2024-01-04T18:40:00",
          "2024-01-05T07:40:00",
          "2024-01-05T08:45:00",
          "2024-01-05T10:10:00",
          "2024-01-05T10:55:00",
          "2024-01-05T11:40:00",
          "2024-01-05T13:00:00",
          "2024-01-05T14:00:00",
          "2024-01-05T15:35:00",
          "2024-01-05T17:00:00",
          "2024-01-05T17:25:00",
          "2024-01-05T18:35:00",
          "2024-01-06T07:30:00",
          "2024-01-06T08:55:00",
          "2024-01-06T10:15:00",
          "2024-01-06T10:55:00",
          "2024-01-06T11:55:00",
          "2024-01-06T13:10:00",
          "2024-01-06T17:15:00",
          "2024-01-06T18:00:00",
          "2024-01-06T19:10:00",
          "2024-01-09T09:15:00",
          "2024-01-09T11:00:00",
          "2024-01-09T12:40:00",
          "2024-01-09T17:40:00",
          "2024-01-09T18:15:00",
          "2024-01-09T19:20:00",
          "2024-01-10T08:00:00",
          "2024-01-10T09:00:00",
          "2024-01-10T09:45:00",
          "2024-01-10T11:15:00",
          "2024-01-10T12:00:00",
          "2024-01-10T17:30:00",
          "2024-01-10T18:50:00",
          "2024-01-11T15:45:00",
          "2024-01-11T17:00:00",
          "2024-01-11T17:30:00",
          "2024-01-11T18:45:00",
          "2024-01-11T19:15:00",
          "2024-01-12T08:10:00",
          "2024-01-12T09:25:00",
          "2024-01-12T10:05:00",
          "2024-01-12T11:05:00",
          "2024-01-12T12:00:00",
          "2024-01-12T13:10:00",
          "2024-01-12T16:50:00",
          "2024-01-12T17:20:00",
          "2024-01-12T18:15:00",
          "2024-01-12T18:45:00",
          "2024-01-15T08:00:00",
          "2024-01-15T08:55:00",
          "2024-01-15T09:40:00",
          "2024-01-15T11:30:00",
          "2024-01-15T13:40:00",
          "2024-01-15T17:05:00",
          "2024-01-17T08:30:00",
          "2024-01-17T09:15:00",
          "2024-01-17T10:20:00",
          "2024-01-17T11:00:00",
          "2024-01-17T11:45:00",
          "2024-01-17T17:00:00",
          "2024-01-17T17:30:00",
          "2024-01-17T18:15:00",
          "2024-01-17T19:00:00",
          "2024-01-18T08:30:00",
          "2024-01-18T10:00:00",
          "2024-01-18T11:15:00",
          "2024-01-18T12:00:00",
          "2024-01-18T14:15:00",
          "2024-01-18T16:00:00",
          "2024-01-18T17:00:00",
          "2024-01-18T17:30:00",
          "2024-01-18T18:30:00",
          "2024-01-18T19:05:00",
          "2024-01-19T08:30:00",
          "2024-01-19T09:45:00",
          "2024-01-19T10:30:00",
          "2024-01-19T11:30:00",
          "2024-01-19T16:45:00",
          "2024-01-19T17:45:00",
          "2024-01-19T18:30:00",
          "2024-01-20T07:35:00",
          "2024-01-20T08:50:00",
          "2024-01-20T10:00:00",
          "2024-01-20T11:00:00",
          "2024-01-20T11:55:00",
          "2024-01-20T17:00:00",
          "2024-01-20T17:30:00",
          "2024-01-20T18:30:00",
          "2024-01-21T07:35:00",
          "2024-01-21T08:50:00",
          "2024-01-21T10:00:00",
          "2024-01-21T11:00:00",
          "2024-01-21T11:55:00",
          "2024-01-21T17:00:00",
          "2024-01-21T17:30:00",
          "2024-01-21T18:30:00",
          "2024-01-21T19:00:00",
          "2024-01-22T07:55:00",
          "2024-01-22T08:35:00",
          "2024-01-22T09:35:00",
          "2024-01-22T10:35:00",
          "2024-01-22T11:35:00",
          "2024-01-22T12:10:00",
          "2024-01-22T12:55:00",
          "2024-01-22T13:35:00",
          "2024-01-22T15:45:00",
          "2024-01-22T17:15:00",
          "2024-01-22T18:00:00",
          "2024-01-22T18:45:00",
          "2024-01-24T08:00:00",
          "2024-01-24T09:15:00",
          "2024-01-24T10:00:00",
          "2024-01-24T10:40:00",
          "2024-01-24T12:05:00",
          "2024-01-24T15:30:00",
          "2024-01-24T17:25:00",
          "2024-01-24T18:20:00",
          "2024-01-24T19:00:00",
          "2024-01-25T08:00:00",
          "2024-01-25T09:15:00",
          "2024-01-25T10:05:00",
          "2024-01-25T11:50:00",
          "2024-01-25T12:05:00",
          "2024-01-25T13:00:00",
          "2024-01-25T15:30:00",
          "2024-01-25T17:15:00",
          "2024-01-25T17:45:00",
          "2024-01-25T18:30:00",
          "2024-01-26T07:00:00",
          "2024-01-26T07:55:00",
          "2024-01-26T08:50:00",
          "2024-01-26T09:45:00",
          "2024-01-26T10:25:00",
          "2024-01-26T11:35:00",
          "2024-01-26T12:30:00",
          "2024-01-26T14:30:00",
          "2024-01-26T17:00:00",
          "2024-01-26T17:30:00",
          "2024-01-26T18:30:00",
          "2024-01-26T19:15:00",
          "2024-01-27T07:45:00",
          "2024-01-27T08:50:00",
          "2024-01-27T10:05:00",
          "2024-01-27T10:50:00",
          "2024-01-27T11:50:00",
          "2024-01-27T17:00:00",
          "2024-01-27T17:30:00",
          "2024-01-27T18:10:00",
          "2024-01-27T19:10:00",
          "2024-01-28T07:45:00",
          "2024-01-28T08:50:00",
          "2024-01-28T10:15:00",
          "2024-01-28T12:10:00",
          "2024-01-28T17:00:00",
          "2024-01-28T17:30:00",
          "2024-01-28T18:20:00",
          "2024-01-29T08:00:00",
          "2024-01-29T08:45:00",
          "2024-01-29T09:30:00",
          "2024-01-29T10:15:00",
          "2024-01-29T11:10:00",
          "2024-01-29T14:00:00",
          "2024-01-29T16:10:00",
          "2024-01-29T17:55:00",
          "2024-01-29T18:45:00",
          "2024-01-31T07:50:00",
          "2024-01-31T09:00:00",
          "2024-01-31T09:45:00",
          "2024-01-31T10:30:00",
          "2024-01-31T11:10:00",
          "2024-01-31T11:50:00",
          "2024-01-31T12:05:00",
          "2024-01-31T13:05:00",
          "2024-01-31T14:30:00",
          "2024-01-31T17:00:00",
          "2024-01-31T17:30:00",
          "2024-01-31T18:30:00",
          "2024-01-31T19:00:00",
          "2024-01-31T19:15:00"
         ],
         "hovertemplate": "Resource=710283561<br>Start=%{base}<br>Finish=%{x}<br>Task=%{y}<extra></extra>",
         "legendgroup": "710283561",
         "marker": {
          "color": "#636efa",
          "pattern": {
           "shape": ""
          }
         },
         "name": "710283561",
         "offsetgroup": "710283561",
         "orientation": "h",
         "showlegend": true,
         "textposition": "auto",
         "type": "bar",
         "x": [
          5700000,
          4500000,
          1800000,
          3600000,
          5700000,
          1800000,
          1800000,
          1800000,
          3600000,
          900000,
          5400000,
          3600000,
          4500000,
          3600000,
          1800000,
          2700000,
          2700000,
          3600000,
          900000,
          1800000,
          1800000,
          3600000,
          4500000,
          3600000,
          3600000,
          3600000,
          900000,
          5400000,
          1800000,
          1800000,
          3600000,
          2700000,
          4500000,
          1800000,
          1800000,
          3600000,
          900000,
          4500000,
          3600000,
          900000,
          2700000,
          900000,
          4500000,
          3600000,
          1800000,
          2700000,
          3600000,
          900000,
          1800000,
          3600000,
          3600000,
          2700000,
          5400000,
          3600000,
          1800000,
          2700000,
          3600000,
          2700000,
          2700000,
          5400000,
          1800000,
          3600000,
          2700000,
          2700000,
          3600000,
          900000,
          3600000,
          900000,
          2700000,
          3600000,
          1800000,
          2700000,
          2700000,
          3600000,
          900000,
          900000,
          2700000,
          900000,
          2700000,
          2700000,
          2700000,
          5400000,
          3600000,
          10200000,
          900000,
          1800000,
          2700000,
          1800000,
          1800000,
          1800000,
          900000,
          1800000,
          1800000,
          3600000,
          3600000,
          3600000,
          1800000,
          1800000,
          5400000,
          2400000,
          900000,
          2700000,
          900000,
          2700000,
          2700000,
          2700000,
          3600000,
          2700000,
          2700000,
          1800000,
          3600000,
          3600000,
          4500000,
          3900000,
          2700000,
          2700000,
          900000,
          2700000,
          900000,
          3600000,
          4500000,
          2700000,
          2700000,
          2700000,
          900000,
          2700000,
          900000,
          1800000,
          1800000,
          2700000,
          2700000,
          2700000,
          1800000,
          1800000,
          1800000,
          900000,
          5400000,
          1800000,
          1800000,
          3600000,
          3600000,
          1800000,
          1800000,
          3600000,
          2700000,
          5400000,
          2700000,
          900000,
          2700000,
          3600000,
          1800000,
          5400000,
          900000,
          2700000,
          900000,
          5400000,
          900000,
          1800000,
          3600000,
          2700000,
          3600000,
          2700000,
          1800000,
          3600000,
          2700000,
          1800000,
          7200000,
          900000,
          2700000,
          1800000,
          3600000,
          4200000,
          4800000,
          1800000,
          2700000,
          2700000,
          900000,
          1800000,
          2700000,
          3600000,
          5700000,
          3600000,
          1800000,
          2700000,
          900000,
          1800000,
          2700000,
          1800000,
          1800000,
          1800000,
          2700000,
          2700000,
          6600000,
          5400000,
          1800000,
          3600000,
          3600000,
          1800000,
          1800000,
          1800000,
          1800000,
          900000,
          2700000,
          900000,
          5400000,
          900000,
          2700000,
          900000,
          900000,
          2700000
         ],
         "xaxis": "x",
         "y": [
          "TOILETTE",
          "TOILETTE",
          "TOILETTE",
          "REPAS",
          "TOILETTE",
          "TOILETTE",
          "TOILETTE",
          "TOILETTE",
          "REPAS",
          "VIE SOCIALE",
          "AIDE MENAGERE",
          "AIDE MENAGERE",
          "TOILETTE",
          "TOILETTE",
          "TOILETTE",
          "TOILETTE",
          "AIDE MENAGERE",
          "REPAS",
          "VIE SOCIALE",
          "REPAS",
          "REPAS",
          "TOILETTE",
          "TOILETTE",
          "TOILETTE",
          "AIDE MENAGERE",
          "REPAS",
          "VIE SOCIALE",
          "AIDE MENAGERE",
          "REPAS",
          "REPAS",
          "TOILETTE",
          "TOILETTE",
          "TOILETTE",
          "TOILETTE",
          "TOILETTE",
          "REPAS",
          "VIE SOCIALE",
          "ACCOMPAGNEMENTS COURSES PA",
          "AIDE MENAGERE",
          "VIE SOCIALE",
          "REPAS",
          "TOILETTE",
          "TOILETTE",
          "TOILETTE",
          "TOILETTE",
          "TOILETTE",
          "REPAS",
          "VIE SOCIALE",
          "TOILETTE",
          "TOILETTE",
          "REPAS",
          "TOILETTE",
          "AIDE MENAGERE",
          "REPAS",
          "TOILETTE",
          "TOILETTE",
          "REPAS",
          "TOILETTE",
          "TOILETTE",
          "AIDE MENAGERE",
          "REPAS",
          "REPAS",
          "REPAS",
          "TOILETTE",
          "VIE SOCIALE",
          "VIE SOCIALE",
          "REPAS",
          "TOILETTE",
          "TOILETTE",
          "TOILETTE",
          "TOILETTE",
          "TOILETTE",
          "AIDE MENAGERE",
          "REPAS",
          "VIE SOCIALE",
          "VIE SOCIALE",
          "REPAS",
          "TOILETTE",
          "TOILETTE",
          "TOILETTE",
          "TOILETTE",
          "AIDE MENAGERE",
          "REPAS",
          "ACCOMPAGNEMENTS COURSES PA",
          "VIE SOCIALE",
          "TOILETTE",
          "TOILETTE",
          "TOILETTE",
          "TOILETTE",
          "REPAS",
          "VIE SOCIALE",
          "REPAS",
          "TOILETTE",
          "REPAS",
          "TOILETTE",
          "TOILETTE",
          "REPAS",
          "REPAS",
          "AIDE MENAGERE",
          "ACCOMPAGNEMENTS COURSES PA",
          "VIE SOCIALE",
          "REPAS",
          "TOILETTE",
          "REPAS",
          "TOILETTE",
          "TOILETTE",
          "ACCOMPAGNEMENTS COURSES PA",
          "REPAS",
          "AIDE MENAGERE",
          "TOILETTE",
          "REPAS",
          "TOILETTE",
          "TOILETTE",
          "TOILETTE",
          "TOILETTE",
          "TOILETTE",
          "VIE SOCIALE",
          "REPAS",
          "TOILETTE",
          "TOILETTE",
          "TOILETTE",
          "TOILETTE",
          "TOILETTE",
          "TOILETTE",
          "VIE SOCIALE",
          "REPAS",
          "TOILETTE",
          "REPAS",
          "TOILETTE",
          "TOILETTE",
          "TOILETTE",
          "AIDE MENAGERE",
          "REPAS",
          "REPAS",
          "REPAS",
          "VIE SOCIALE",
          "AIDE MENAGERE",
          "REPAS",
          "TOILETTE",
          "REPAS",
          "TOILETTE",
          "TOILETTE",
          "TOILETTE",
          "TOILETTE",
          "REPAS",
          "AIDE MENAGERE",
          "REPAS",
          "TOILETTE",
          "REPAS",
          "TOILETTE",
          "TOILETTE",
          "AIDE MENAGERE",
          "REPAS",
          "REPAS",
          "VIE SOCIALE",
          "AIDE MENAGERE",
          "VIE SOCIALE",
          "TOILETTE",
          "REPAS",
          "TOILETTE",
          "TOILETTE",
          "TOILETTE",
          "TOILETTE",
          "TOILETTE",
          "TOILETTE",
          "REPAS",
          "ACCOMPAGNEMENTS COURSES PA",
          "VIE SOCIALE",
          "REPAS",
          "TOILETTE",
          "REPAS",
          "TOILETTE",
          "TOILETTE",
          "TOILETTE",
          "TOILETTE",
          "REPAS",
          "VIE SOCIALE",
          "REPAS",
          "REPAS",
          "REPAS",
          "TOILETTE",
          "TOILETTE",
          "TOILETTE",
          "REPAS",
          "VIE SOCIALE",
          "REPAS",
          "REPAS",
          "TOILETTE",
          "TOILETTE",
          "TOILETTE",
          "TOILETTE",
          "AIDE MENAGERE",
          "ACCOMPAGNEMENTS COURSES PA",
          "AIDE MENAGERE",
          "TOILETTE",
          "REPAS",
          "TOILETTE",
          "TOILETTE",
          "TOILETTE",
          "TOILETTE",
          "REPAS",
          "REPAS",
          "REPAS",
          "VIE SOCIALE",
          "AIDE MENAGERE",
          "VIE SOCIALE",
          "REPAS",
          "TOILETTE",
          "REPAS",
          "TOILETTE"
         ],
         "yaxis": "y"
        }
       ],
       "layout": {
        "barmode": "overlay",
        "legend": {
         "title": {
          "text": "Resource"
         },
         "tracegroupgap": 0
        },
        "margin": {
         "t": 60
        },
        "template": {
         "data": {
          "bar": [
           {
            "error_x": {
             "color": "#2a3f5f"
            },
            "error_y": {
             "color": "#2a3f5f"
            },
            "marker": {
             "line": {
              "color": "#E5ECF6",
              "width": 0.5
             },
             "pattern": {
              "fillmode": "overlay",
              "size": 10,
              "solidity": 0.2
             }
            },
            "type": "bar"
           }
          ],
          "barpolar": [
           {
            "marker": {
             "line": {
              "color": "#E5ECF6",
              "width": 0.5
             },
             "pattern": {
              "fillmode": "overlay",
              "size": 10,
              "solidity": 0.2
             }
            },
            "type": "barpolar"
           }
          ],
          "carpet": [
           {
            "aaxis": {
             "endlinecolor": "#2a3f5f",
             "gridcolor": "white",
             "linecolor": "white",
             "minorgridcolor": "white",
             "startlinecolor": "#2a3f5f"
            },
            "baxis": {
             "endlinecolor": "#2a3f5f",
             "gridcolor": "white",
             "linecolor": "white",
             "minorgridcolor": "white",
             "startlinecolor": "#2a3f5f"
            },
            "type": "carpet"
           }
          ],
          "choropleth": [
           {
            "colorbar": {
             "outlinewidth": 0,
             "ticks": ""
            },
            "type": "choropleth"
           }
          ],
          "contour": [
           {
            "colorbar": {
             "outlinewidth": 0,
             "ticks": ""
            },
            "colorscale": [
             [
              0,
              "#0d0887"
             ],
             [
              0.1111111111111111,
              "#46039f"
             ],
             [
              0.2222222222222222,
              "#7201a8"
             ],
             [
              0.3333333333333333,
              "#9c179e"
             ],
             [
              0.4444444444444444,
              "#bd3786"
             ],
             [
              0.5555555555555556,
              "#d8576b"
             ],
             [
              0.6666666666666666,
              "#ed7953"
             ],
             [
              0.7777777777777778,
              "#fb9f3a"
             ],
             [
              0.8888888888888888,
              "#fdca26"
             ],
             [
              1,
              "#f0f921"
             ]
            ],
            "type": "contour"
           }
          ],
          "contourcarpet": [
           {
            "colorbar": {
             "outlinewidth": 0,
             "ticks": ""
            },
            "type": "contourcarpet"
           }
          ],
          "heatmap": [
           {
            "colorbar": {
             "outlinewidth": 0,
             "ticks": ""
            },
            "colorscale": [
             [
              0,
              "#0d0887"
             ],
             [
              0.1111111111111111,
              "#46039f"
             ],
             [
              0.2222222222222222,
              "#7201a8"
             ],
             [
              0.3333333333333333,
              "#9c179e"
             ],
             [
              0.4444444444444444,
              "#bd3786"
             ],
             [
              0.5555555555555556,
              "#d8576b"
             ],
             [
              0.6666666666666666,
              "#ed7953"
             ],
             [
              0.7777777777777778,
              "#fb9f3a"
             ],
             [
              0.8888888888888888,
              "#fdca26"
             ],
             [
              1,
              "#f0f921"
             ]
            ],
            "type": "heatmap"
           }
          ],
          "heatmapgl": [
           {
            "colorbar": {
             "outlinewidth": 0,
             "ticks": ""
            },
            "colorscale": [
             [
              0,
              "#0d0887"
             ],
             [
              0.1111111111111111,
              "#46039f"
             ],
             [
              0.2222222222222222,
              "#7201a8"
             ],
             [
              0.3333333333333333,
              "#9c179e"
             ],
             [
              0.4444444444444444,
              "#bd3786"
             ],
             [
              0.5555555555555556,
              "#d8576b"
             ],
             [
              0.6666666666666666,
              "#ed7953"
             ],
             [
              0.7777777777777778,
              "#fb9f3a"
             ],
             [
              0.8888888888888888,
              "#fdca26"
             ],
             [
              1,
              "#f0f921"
             ]
            ],
            "type": "heatmapgl"
           }
          ],
          "histogram": [
           {
            "marker": {
             "pattern": {
              "fillmode": "overlay",
              "size": 10,
              "solidity": 0.2
             }
            },
            "type": "histogram"
           }
          ],
          "histogram2d": [
           {
            "colorbar": {
             "outlinewidth": 0,
             "ticks": ""
            },
            "colorscale": [
             [
              0,
              "#0d0887"
             ],
             [
              0.1111111111111111,
              "#46039f"
             ],
             [
              0.2222222222222222,
              "#7201a8"
             ],
             [
              0.3333333333333333,
              "#9c179e"
             ],
             [
              0.4444444444444444,
              "#bd3786"
             ],
             [
              0.5555555555555556,
              "#d8576b"
             ],
             [
              0.6666666666666666,
              "#ed7953"
             ],
             [
              0.7777777777777778,
              "#fb9f3a"
             ],
             [
              0.8888888888888888,
              "#fdca26"
             ],
             [
              1,
              "#f0f921"
             ]
            ],
            "type": "histogram2d"
           }
          ],
          "histogram2dcontour": [
           {
            "colorbar": {
             "outlinewidth": 0,
             "ticks": ""
            },
            "colorscale": [
             [
              0,
              "#0d0887"
             ],
             [
              0.1111111111111111,
              "#46039f"
             ],
             [
              0.2222222222222222,
              "#7201a8"
             ],
             [
              0.3333333333333333,
              "#9c179e"
             ],
             [
              0.4444444444444444,
              "#bd3786"
             ],
             [
              0.5555555555555556,
              "#d8576b"
             ],
             [
              0.6666666666666666,
              "#ed7953"
             ],
             [
              0.7777777777777778,
              "#fb9f3a"
             ],
             [
              0.8888888888888888,
              "#fdca26"
             ],
             [
              1,
              "#f0f921"
             ]
            ],
            "type": "histogram2dcontour"
           }
          ],
          "mesh3d": [
           {
            "colorbar": {
             "outlinewidth": 0,
             "ticks": ""
            },
            "type": "mesh3d"
           }
          ],
          "parcoords": [
           {
            "line": {
             "colorbar": {
              "outlinewidth": 0,
              "ticks": ""
             }
            },
            "type": "parcoords"
           }
          ],
          "pie": [
           {
            "automargin": true,
            "type": "pie"
           }
          ],
          "scatter": [
           {
            "fillpattern": {
             "fillmode": "overlay",
             "size": 10,
             "solidity": 0.2
            },
            "type": "scatter"
           }
          ],
          "scatter3d": [
           {
            "line": {
             "colorbar": {
              "outlinewidth": 0,
              "ticks": ""
             }
            },
            "marker": {
             "colorbar": {
              "outlinewidth": 0,
              "ticks": ""
             }
            },
            "type": "scatter3d"
           }
          ],
          "scattercarpet": [
           {
            "marker": {
             "colorbar": {
              "outlinewidth": 0,
              "ticks": ""
             }
            },
            "type": "scattercarpet"
           }
          ],
          "scattergeo": [
           {
            "marker": {
             "colorbar": {
              "outlinewidth": 0,
              "ticks": ""
             }
            },
            "type": "scattergeo"
           }
          ],
          "scattergl": [
           {
            "marker": {
             "colorbar": {
              "outlinewidth": 0,
              "ticks": ""
             }
            },
            "type": "scattergl"
           }
          ],
          "scattermapbox": [
           {
            "marker": {
             "colorbar": {
              "outlinewidth": 0,
              "ticks": ""
             }
            },
            "type": "scattermapbox"
           }
          ],
          "scatterpolar": [
           {
            "marker": {
             "colorbar": {
              "outlinewidth": 0,
              "ticks": ""
             }
            },
            "type": "scatterpolar"
           }
          ],
          "scatterpolargl": [
           {
            "marker": {
             "colorbar": {
              "outlinewidth": 0,
              "ticks": ""
             }
            },
            "type": "scatterpolargl"
           }
          ],
          "scatterternary": [
           {
            "marker": {
             "colorbar": {
              "outlinewidth": 0,
              "ticks": ""
             }
            },
            "type": "scatterternary"
           }
          ],
          "surface": [
           {
            "colorbar": {
             "outlinewidth": 0,
             "ticks": ""
            },
            "colorscale": [
             [
              0,
              "#0d0887"
             ],
             [
              0.1111111111111111,
              "#46039f"
             ],
             [
              0.2222222222222222,
              "#7201a8"
             ],
             [
              0.3333333333333333,
              "#9c179e"
             ],
             [
              0.4444444444444444,
              "#bd3786"
             ],
             [
              0.5555555555555556,
              "#d8576b"
             ],
             [
              0.6666666666666666,
              "#ed7953"
             ],
             [
              0.7777777777777778,
              "#fb9f3a"
             ],
             [
              0.8888888888888888,
              "#fdca26"
             ],
             [
              1,
              "#f0f921"
             ]
            ],
            "type": "surface"
           }
          ],
          "table": [
           {
            "cells": {
             "fill": {
              "color": "#EBF0F8"
             },
             "line": {
              "color": "white"
             }
            },
            "header": {
             "fill": {
              "color": "#C8D4E3"
             },
             "line": {
              "color": "white"
             }
            },
            "type": "table"
           }
          ]
         },
         "layout": {
          "annotationdefaults": {
           "arrowcolor": "#2a3f5f",
           "arrowhead": 0,
           "arrowwidth": 1
          },
          "autotypenumbers": "strict",
          "coloraxis": {
           "colorbar": {
            "outlinewidth": 0,
            "ticks": ""
           }
          },
          "colorscale": {
           "diverging": [
            [
             0,
             "#8e0152"
            ],
            [
             0.1,
             "#c51b7d"
            ],
            [
             0.2,
             "#de77ae"
            ],
            [
             0.3,
             "#f1b6da"
            ],
            [
             0.4,
             "#fde0ef"
            ],
            [
             0.5,
             "#f7f7f7"
            ],
            [
             0.6,
             "#e6f5d0"
            ],
            [
             0.7,
             "#b8e186"
            ],
            [
             0.8,
             "#7fbc41"
            ],
            [
             0.9,
             "#4d9221"
            ],
            [
             1,
             "#276419"
            ]
           ],
           "sequential": [
            [
             0,
             "#0d0887"
            ],
            [
             0.1111111111111111,
             "#46039f"
            ],
            [
             0.2222222222222222,
             "#7201a8"
            ],
            [
             0.3333333333333333,
             "#9c179e"
            ],
            [
             0.4444444444444444,
             "#bd3786"
            ],
            [
             0.5555555555555556,
             "#d8576b"
            ],
            [
             0.6666666666666666,
             "#ed7953"
            ],
            [
             0.7777777777777778,
             "#fb9f3a"
            ],
            [
             0.8888888888888888,
             "#fdca26"
            ],
            [
             1,
             "#f0f921"
            ]
           ],
           "sequentialminus": [
            [
             0,
             "#0d0887"
            ],
            [
             0.1111111111111111,
             "#46039f"
            ],
            [
             0.2222222222222222,
             "#7201a8"
            ],
            [
             0.3333333333333333,
             "#9c179e"
            ],
            [
             0.4444444444444444,
             "#bd3786"
            ],
            [
             0.5555555555555556,
             "#d8576b"
            ],
            [
             0.6666666666666666,
             "#ed7953"
            ],
            [
             0.7777777777777778,
             "#fb9f3a"
            ],
            [
             0.8888888888888888,
             "#fdca26"
            ],
            [
             1,
             "#f0f921"
            ]
           ]
          },
          "colorway": [
           "#636efa",
           "#EF553B",
           "#00cc96",
           "#ab63fa",
           "#FFA15A",
           "#19d3f3",
           "#FF6692",
           "#B6E880",
           "#FF97FF",
           "#FECB52"
          ],
          "font": {
           "color": "#2a3f5f"
          },
          "geo": {
           "bgcolor": "white",
           "lakecolor": "white",
           "landcolor": "#E5ECF6",
           "showlakes": true,
           "showland": true,
           "subunitcolor": "white"
          },
          "hoverlabel": {
           "align": "left"
          },
          "hovermode": "closest",
          "mapbox": {
           "style": "light"
          },
          "paper_bgcolor": "white",
          "plot_bgcolor": "#E5ECF6",
          "polar": {
           "angularaxis": {
            "gridcolor": "white",
            "linecolor": "white",
            "ticks": ""
           },
           "bgcolor": "#E5ECF6",
           "radialaxis": {
            "gridcolor": "white",
            "linecolor": "white",
            "ticks": ""
           }
          },
          "scene": {
           "xaxis": {
            "backgroundcolor": "#E5ECF6",
            "gridcolor": "white",
            "gridwidth": 2,
            "linecolor": "white",
            "showbackground": true,
            "ticks": "",
            "zerolinecolor": "white"
           },
           "yaxis": {
            "backgroundcolor": "#E5ECF6",
            "gridcolor": "white",
            "gridwidth": 2,
            "linecolor": "white",
            "showbackground": true,
            "ticks": "",
            "zerolinecolor": "white"
           },
           "zaxis": {
            "backgroundcolor": "#E5ECF6",
            "gridcolor": "white",
            "gridwidth": 2,
            "linecolor": "white",
            "showbackground": true,
            "ticks": "",
            "zerolinecolor": "white"
           }
          },
          "shapedefaults": {
           "line": {
            "color": "#2a3f5f"
           }
          },
          "ternary": {
           "aaxis": {
            "gridcolor": "white",
            "linecolor": "white",
            "ticks": ""
           },
           "baxis": {
            "gridcolor": "white",
            "linecolor": "white",
            "ticks": ""
           },
           "bgcolor": "#E5ECF6",
           "caxis": {
            "gridcolor": "white",
            "linecolor": "white",
            "ticks": ""
           }
          },
          "title": {
           "x": 0.05
          },
          "xaxis": {
           "automargin": true,
           "gridcolor": "white",
           "linecolor": "white",
           "ticks": "",
           "title": {
            "standoff": 15
           },
           "zerolinecolor": "white",
           "zerolinewidth": 2
          },
          "yaxis": {
           "automargin": true,
           "gridcolor": "white",
           "linecolor": "white",
           "ticks": "",
           "title": {
            "standoff": 15
           },
           "zerolinecolor": "white",
           "zerolinewidth": 2
          }
         }
        },
        "title": {
         "text": "Agenda for Intervenant ID: 710283561"
        },
        "xaxis": {
         "anchor": "y",
         "domain": [
          0,
          1
         ],
         "rangeselector": {
          "buttons": [
           {
            "count": 1,
            "label": "1D",
            "step": "day",
            "stepmode": "backward"
           },
           {
            "count": 7,
            "label": "1W",
            "step": "day",
            "stepmode": "backward"
           },
           {
            "step": "all"
           }
          ]
         },
         "rangeslider": {
          "visible": true
         },
         "type": "date"
        },
        "yaxis": {
         "anchor": "x",
         "autorange": "reversed",
         "domain": [
          0,
          1
         ],
         "title": {
          "text": "Task"
         }
        }
       }
      }
     },
     "metadata": {},
     "output_type": "display_data"
    },
    {
     "data": {
      "application/vnd.plotly.v1+json": {
       "config": {
        "plotlyServerURL": "https://plot.ly"
       },
       "data": [
        {
         "alignmentgroup": "True",
         "base": [
          "2024-01-01T07:50:00",
          "2024-01-01T08:25:00",
          "2024-01-01T09:05:00",
          "2024-01-01T09:45:00",
          "2024-01-01T10:30:00",
          "2024-01-01T11:25:00",
          "2024-01-01T12:35:00",
          "2024-01-01T17:20:00",
          "2024-01-01T18:10:00",
          "2024-01-01T18:55:00",
          "2024-01-02T07:55:00",
          "2024-01-02T08:30:00",
          "2024-01-02T09:15:00",
          "2024-01-02T09:55:00",
          "2024-01-02T10:35:00",
          "2024-01-02T11:10:00",
          "2024-01-02T12:50:00",
          "2024-01-02T14:15:00",
          "2024-01-02T16:55:00",
          "2024-01-02T17:35:00",
          "2024-01-02T18:15:00",
          "2024-01-02T18:55:00",
          "2024-01-03T08:00:00",
          "2024-01-03T08:35:00",
          "2024-01-03T09:20:00",
          "2024-01-03T10:00:00",
          "2024-01-03T11:00:00",
          "2024-01-03T12:25:00",
          "2024-01-03T14:15:00",
          "2024-01-03T17:00:00",
          "2024-01-03T17:35:00",
          "2024-01-03T18:15:00",
          "2024-01-03T18:55:00",
          "2024-01-04T08:00:00",
          "2024-01-04T08:40:00",
          "2024-01-04T09:35:00",
          "2024-01-04T14:30:00",
          "2024-01-05T07:30:00",
          "2024-01-05T08:45:00",
          "2024-01-05T10:00:00",
          "2024-01-05T10:45:00",
          "2024-01-05T11:50:00",
          "2024-01-05T14:00:00",
          "2024-01-08T08:30:00",
          "2024-01-08T10:00:00",
          "2024-01-08T14:30:00",
          "2024-01-09T09:00:00",
          "2024-01-09T09:40:00",
          "2024-01-09T11:20:00",
          "2024-01-09T14:00:00",
          "2024-01-10T08:00:00",
          "2024-01-10T08:45:00",
          "2024-01-10T09:35:00",
          "2024-01-10T13:50:00",
          "2024-01-10T17:45:00",
          "2024-01-10T18:35:00",
          "2024-01-10T19:10:00",
          "2024-01-11T08:45:00",
          "2024-01-11T14:00:00",
          "2024-01-12T08:00:00",
          "2024-01-12T09:00:00",
          "2024-01-12T09:35:00",
          "2024-01-12T14:00:00",
          "2024-01-15T07:30:00",
          "2024-01-15T08:30:00",
          "2024-01-15T09:15:00",
          "2024-01-15T14:00:00",
          "2024-01-15T17:45:00",
          "2024-01-15T18:20:00",
          "2024-01-15T18:55:00",
          "2024-01-16T08:45:00",
          "2024-01-16T13:30:00",
          "2024-01-16T17:00:00",
          "2024-01-17T08:00:00",
          "2024-01-17T14:00:00",
          "2024-01-18T07:30:00",
          "2024-01-18T14:00:00",
          "2024-01-19T08:45:00",
          "2024-01-19T10:15:00",
          "2024-01-19T11:10:00",
          "2024-01-19T14:00:00",
          "2024-01-22T08:00:00",
          "2024-01-22T08:35:00",
          "2024-01-22T09:25:00",
          "2024-01-22T10:25:00",
          "2024-01-22T14:20:00",
          "2024-01-22T16:30:00",
          "2024-01-22T17:25:00",
          "2024-01-22T18:00:00",
          "2024-01-23T09:00:00",
          "2024-01-23T14:00:00",
          "2024-01-24T08:00:00",
          "2024-01-24T08:40:00",
          "2024-01-24T09:40:00",
          "2024-01-24T10:00:00",
          "2024-01-24T14:00:00",
          "2024-01-25T08:30:00",
          "2024-01-25T10:00:00",
          "2024-01-25T11:15:00",
          "2024-01-25T14:00:00",
          "2024-01-26T08:30:00",
          "2024-01-26T14:00:00",
          "2024-01-26T17:45:00",
          "2024-01-26T18:20:00",
          "2024-01-29T08:30:00",
          "2024-01-29T10:45:00",
          "2024-01-29T11:55:00",
          "2024-01-29T14:05:00",
          "2024-01-29T17:40:00",
          "2024-01-29T18:10:00",
          "2024-01-30T08:00:00",
          "2024-01-30T08:35:00",
          "2024-01-30T09:30:00",
          "2024-01-30T10:15:00",
          "2024-01-30T14:00:00",
          "2024-01-31T08:30:00",
          "2024-01-31T10:15:00",
          "2024-01-31T14:00:00",
          "2024-01-31T17:45:00",
          "2024-01-31T18:30:00"
         ],
         "hovertemplate": "Resource=78005437<br>Start=%{base}<br>Finish=%{x}<br>Task=%{y}<extra></extra>",
         "legendgroup": "78005437",
         "marker": {
          "color": "#636efa",
          "pattern": {
           "shape": ""
          }
         },
         "name": "78005437",
         "offsetgroup": "78005437",
         "orientation": "h",
         "showlegend": true,
         "textposition": "auto",
         "type": "bar",
         "x": [
          1800000,
          1800000,
          1800000,
          1800000,
          2700000,
          3600000,
          3600000,
          1800000,
          1800000,
          3600000,
          1800000,
          1800000,
          1800000,
          1800000,
          1800000,
          5400000,
          3600000,
          8100000,
          1800000,
          1800000,
          1800000,
          3600000,
          1800000,
          1800000,
          1800000,
          2700000,
          3600000,
          3600000,
          8100000,
          1800000,
          1800000,
          1800000,
          3600000,
          1800000,
          3600000,
          14400000,
          10800000,
          3600000,
          3600000,
          1800000,
          2700000,
          4200000,
          12600000,
          5400000,
          14400000,
          12600000,
          1800000,
          4800000,
          7200000,
          12600000,
          1800000,
          1800000,
          11700000,
          12600000,
          2700000,
          1800000,
          900000,
          14400000,
          12600000,
          3600000,
          1800000,
          14400000,
          12600000,
          2700000,
          1800000,
          11700000,
          12600000,
          1800000,
          1800000,
          1800000,
          14400000,
          12600000,
          1800000,
          18000000,
          12600000,
          18000000,
          12600000,
          3600000,
          2700000,
          6600000,
          12600000,
          1800000,
          2700000,
          2700000,
          9900000,
          3600000,
          2700000,
          2100000,
          3600000,
          14400000,
          12600000,
          1800000,
          2700000,
          14400000,
          3600000,
          12600000,
          4800000,
          3600000,
          6300000,
          12600000,
          16200000,
          12600000,
          1800000,
          1800000,
          5400000,
          3600000,
          6300000,
          12600000,
          1800000,
          1800000,
          1800000,
          2700000,
          1800000,
          9900000,
          12600000,
          5400000,
          7200000,
          12600000,
          1800000,
          2700000
         ],
         "xaxis": "x",
         "y": [
          "TOILETTE",
          "TOILETTE",
          "REPAS",
          "TOILETTE",
          "TOILETTE",
          "REPAS",
          "REPAS",
          "TOILETTE",
          "TOILETTE",
          "REPAS",
          "TOILETTE",
          "TOILETTE",
          "REPAS",
          "TOILETTE",
          "TOILETTE",
          "REPAS",
          "REPAS",
          "ADMINISTRATION",
          "TOILETTE",
          "REPAS",
          "TOILETTE",
          "REPAS",
          "TOILETTE",
          "TOILETTE",
          "REPAS",
          "TOILETTE",
          "REPAS",
          "REPAS",
          "ADMINISTRATION",
          "TOILETTE",
          "REPAS",
          "TOILETTE",
          "REPAS",
          "REPAS",
          "TOILETTE",
          "ADMINISTRATION",
          "ADMINISTRATION",
          "TOILETTE",
          "TOILETTE",
          "TOILETTE",
          "TOILETTE",
          "ADMINISTRATION",
          "ADMINISTRATION",
          "TOILETTE",
          "ADMINISTRATION",
          "ADMINISTRATION",
          "REPAS",
          "TOILETTE",
          "ADMINISTRATION",
          "ADMINISTRATION",
          "REPAS",
          "TOILETTE",
          "ADMINISTRATION",
          "ADMINISTRATION",
          "REPAS",
          "REPAS",
          "REPAS",
          "ADMINISTRATION",
          "ADMINISTRATION",
          "TOILETTE",
          "REPAS",
          "ADMINISTRATION",
          "ADMINISTRATION",
          "TOILETTE",
          "REPAS",
          "ADMINISTRATION",
          "ADMINISTRATION",
          "REPAS",
          "REPAS",
          "REPAS",
          "ADMINISTRATION",
          "ADMINISTRATION",
          "COORDINATION",
          "ADMINISTRATION",
          "ADMINISTRATION",
          "ADMINISTRATION",
          "ADMINISTRATION",
          "TOILETTE",
          "TOILETTE",
          "ADMINISTRATION",
          "ADMINISTRATION",
          "REPAS",
          "TOILETTE",
          "TOILETTE",
          "ADMINISTRATION",
          "COORDINATION",
          "COORDINATION",
          "COORDINATION",
          "REPAS",
          "ADMINISTRATION",
          "ADMINISTRATION",
          "REPAS",
          "TOILETTE",
          "ADMINISTRATION",
          "COORDINATION",
          "ADMINISTRATION",
          "COORDINATION",
          "COORDINATION",
          "ADMINISTRATION",
          "ADMINISTRATION",
          "ADMINISTRATION",
          "ADMINISTRATION",
          "REPAS",
          "REPAS",
          "TOILETTE",
          "COORDINATION",
          "ADMINISTRATION",
          "ADMINISTRATION",
          "COORDINATION",
          "REPAS",
          "REPAS",
          "TOILETTE",
          "COORDINATION",
          "ADMINISTRATION",
          "ADMINISTRATION",
          "TOILETTE",
          "ADMINISTRATION",
          "ADMINISTRATION",
          "REPAS",
          "REPAS"
         ],
         "yaxis": "y"
        }
       ],
       "layout": {
        "barmode": "overlay",
        "legend": {
         "title": {
          "text": "Resource"
         },
         "tracegroupgap": 0
        },
        "margin": {
         "t": 60
        },
        "template": {
         "data": {
          "bar": [
           {
            "error_x": {
             "color": "#2a3f5f"
            },
            "error_y": {
             "color": "#2a3f5f"
            },
            "marker": {
             "line": {
              "color": "#E5ECF6",
              "width": 0.5
             },
             "pattern": {
              "fillmode": "overlay",
              "size": 10,
              "solidity": 0.2
             }
            },
            "type": "bar"
           }
          ],
          "barpolar": [
           {
            "marker": {
             "line": {
              "color": "#E5ECF6",
              "width": 0.5
             },
             "pattern": {
              "fillmode": "overlay",
              "size": 10,
              "solidity": 0.2
             }
            },
            "type": "barpolar"
           }
          ],
          "carpet": [
           {
            "aaxis": {
             "endlinecolor": "#2a3f5f",
             "gridcolor": "white",
             "linecolor": "white",
             "minorgridcolor": "white",
             "startlinecolor": "#2a3f5f"
            },
            "baxis": {
             "endlinecolor": "#2a3f5f",
             "gridcolor": "white",
             "linecolor": "white",
             "minorgridcolor": "white",
             "startlinecolor": "#2a3f5f"
            },
            "type": "carpet"
           }
          ],
          "choropleth": [
           {
            "colorbar": {
             "outlinewidth": 0,
             "ticks": ""
            },
            "type": "choropleth"
           }
          ],
          "contour": [
           {
            "colorbar": {
             "outlinewidth": 0,
             "ticks": ""
            },
            "colorscale": [
             [
              0,
              "#0d0887"
             ],
             [
              0.1111111111111111,
              "#46039f"
             ],
             [
              0.2222222222222222,
              "#7201a8"
             ],
             [
              0.3333333333333333,
              "#9c179e"
             ],
             [
              0.4444444444444444,
              "#bd3786"
             ],
             [
              0.5555555555555556,
              "#d8576b"
             ],
             [
              0.6666666666666666,
              "#ed7953"
             ],
             [
              0.7777777777777778,
              "#fb9f3a"
             ],
             [
              0.8888888888888888,
              "#fdca26"
             ],
             [
              1,
              "#f0f921"
             ]
            ],
            "type": "contour"
           }
          ],
          "contourcarpet": [
           {
            "colorbar": {
             "outlinewidth": 0,
             "ticks": ""
            },
            "type": "contourcarpet"
           }
          ],
          "heatmap": [
           {
            "colorbar": {
             "outlinewidth": 0,
             "ticks": ""
            },
            "colorscale": [
             [
              0,
              "#0d0887"
             ],
             [
              0.1111111111111111,
              "#46039f"
             ],
             [
              0.2222222222222222,
              "#7201a8"
             ],
             [
              0.3333333333333333,
              "#9c179e"
             ],
             [
              0.4444444444444444,
              "#bd3786"
             ],
             [
              0.5555555555555556,
              "#d8576b"
             ],
             [
              0.6666666666666666,
              "#ed7953"
             ],
             [
              0.7777777777777778,
              "#fb9f3a"
             ],
             [
              0.8888888888888888,
              "#fdca26"
             ],
             [
              1,
              "#f0f921"
             ]
            ],
            "type": "heatmap"
           }
          ],
          "heatmapgl": [
           {
            "colorbar": {
             "outlinewidth": 0,
             "ticks": ""
            },
            "colorscale": [
             [
              0,
              "#0d0887"
             ],
             [
              0.1111111111111111,
              "#46039f"
             ],
             [
              0.2222222222222222,
              "#7201a8"
             ],
             [
              0.3333333333333333,
              "#9c179e"
             ],
             [
              0.4444444444444444,
              "#bd3786"
             ],
             [
              0.5555555555555556,
              "#d8576b"
             ],
             [
              0.6666666666666666,
              "#ed7953"
             ],
             [
              0.7777777777777778,
              "#fb9f3a"
             ],
             [
              0.8888888888888888,
              "#fdca26"
             ],
             [
              1,
              "#f0f921"
             ]
            ],
            "type": "heatmapgl"
           }
          ],
          "histogram": [
           {
            "marker": {
             "pattern": {
              "fillmode": "overlay",
              "size": 10,
              "solidity": 0.2
             }
            },
            "type": "histogram"
           }
          ],
          "histogram2d": [
           {
            "colorbar": {
             "outlinewidth": 0,
             "ticks": ""
            },
            "colorscale": [
             [
              0,
              "#0d0887"
             ],
             [
              0.1111111111111111,
              "#46039f"
             ],
             [
              0.2222222222222222,
              "#7201a8"
             ],
             [
              0.3333333333333333,
              "#9c179e"
             ],
             [
              0.4444444444444444,
              "#bd3786"
             ],
             [
              0.5555555555555556,
              "#d8576b"
             ],
             [
              0.6666666666666666,
              "#ed7953"
             ],
             [
              0.7777777777777778,
              "#fb9f3a"
             ],
             [
              0.8888888888888888,
              "#fdca26"
             ],
             [
              1,
              "#f0f921"
             ]
            ],
            "type": "histogram2d"
           }
          ],
          "histogram2dcontour": [
           {
            "colorbar": {
             "outlinewidth": 0,
             "ticks": ""
            },
            "colorscale": [
             [
              0,
              "#0d0887"
             ],
             [
              0.1111111111111111,
              "#46039f"
             ],
             [
              0.2222222222222222,
              "#7201a8"
             ],
             [
              0.3333333333333333,
              "#9c179e"
             ],
             [
              0.4444444444444444,
              "#bd3786"
             ],
             [
              0.5555555555555556,
              "#d8576b"
             ],
             [
              0.6666666666666666,
              "#ed7953"
             ],
             [
              0.7777777777777778,
              "#fb9f3a"
             ],
             [
              0.8888888888888888,
              "#fdca26"
             ],
             [
              1,
              "#f0f921"
             ]
            ],
            "type": "histogram2dcontour"
           }
          ],
          "mesh3d": [
           {
            "colorbar": {
             "outlinewidth": 0,
             "ticks": ""
            },
            "type": "mesh3d"
           }
          ],
          "parcoords": [
           {
            "line": {
             "colorbar": {
              "outlinewidth": 0,
              "ticks": ""
             }
            },
            "type": "parcoords"
           }
          ],
          "pie": [
           {
            "automargin": true,
            "type": "pie"
           }
          ],
          "scatter": [
           {
            "fillpattern": {
             "fillmode": "overlay",
             "size": 10,
             "solidity": 0.2
            },
            "type": "scatter"
           }
          ],
          "scatter3d": [
           {
            "line": {
             "colorbar": {
              "outlinewidth": 0,
              "ticks": ""
             }
            },
            "marker": {
             "colorbar": {
              "outlinewidth": 0,
              "ticks": ""
             }
            },
            "type": "scatter3d"
           }
          ],
          "scattercarpet": [
           {
            "marker": {
             "colorbar": {
              "outlinewidth": 0,
              "ticks": ""
             }
            },
            "type": "scattercarpet"
           }
          ],
          "scattergeo": [
           {
            "marker": {
             "colorbar": {
              "outlinewidth": 0,
              "ticks": ""
             }
            },
            "type": "scattergeo"
           }
          ],
          "scattergl": [
           {
            "marker": {
             "colorbar": {
              "outlinewidth": 0,
              "ticks": ""
             }
            },
            "type": "scattergl"
           }
          ],
          "scattermapbox": [
           {
            "marker": {
             "colorbar": {
              "outlinewidth": 0,
              "ticks": ""
             }
            },
            "type": "scattermapbox"
           }
          ],
          "scatterpolar": [
           {
            "marker": {
             "colorbar": {
              "outlinewidth": 0,
              "ticks": ""
             }
            },
            "type": "scatterpolar"
           }
          ],
          "scatterpolargl": [
           {
            "marker": {
             "colorbar": {
              "outlinewidth": 0,
              "ticks": ""
             }
            },
            "type": "scatterpolargl"
           }
          ],
          "scatterternary": [
           {
            "marker": {
             "colorbar": {
              "outlinewidth": 0,
              "ticks": ""
             }
            },
            "type": "scatterternary"
           }
          ],
          "surface": [
           {
            "colorbar": {
             "outlinewidth": 0,
             "ticks": ""
            },
            "colorscale": [
             [
              0,
              "#0d0887"
             ],
             [
              0.1111111111111111,
              "#46039f"
             ],
             [
              0.2222222222222222,
              "#7201a8"
             ],
             [
              0.3333333333333333,
              "#9c179e"
             ],
             [
              0.4444444444444444,
              "#bd3786"
             ],
             [
              0.5555555555555556,
              "#d8576b"
             ],
             [
              0.6666666666666666,
              "#ed7953"
             ],
             [
              0.7777777777777778,
              "#fb9f3a"
             ],
             [
              0.8888888888888888,
              "#fdca26"
             ],
             [
              1,
              "#f0f921"
             ]
            ],
            "type": "surface"
           }
          ],
          "table": [
           {
            "cells": {
             "fill": {
              "color": "#EBF0F8"
             },
             "line": {
              "color": "white"
             }
            },
            "header": {
             "fill": {
              "color": "#C8D4E3"
             },
             "line": {
              "color": "white"
             }
            },
            "type": "table"
           }
          ]
         },
         "layout": {
          "annotationdefaults": {
           "arrowcolor": "#2a3f5f",
           "arrowhead": 0,
           "arrowwidth": 1
          },
          "autotypenumbers": "strict",
          "coloraxis": {
           "colorbar": {
            "outlinewidth": 0,
            "ticks": ""
           }
          },
          "colorscale": {
           "diverging": [
            [
             0,
             "#8e0152"
            ],
            [
             0.1,
             "#c51b7d"
            ],
            [
             0.2,
             "#de77ae"
            ],
            [
             0.3,
             "#f1b6da"
            ],
            [
             0.4,
             "#fde0ef"
            ],
            [
             0.5,
             "#f7f7f7"
            ],
            [
             0.6,
             "#e6f5d0"
            ],
            [
             0.7,
             "#b8e186"
            ],
            [
             0.8,
             "#7fbc41"
            ],
            [
             0.9,
             "#4d9221"
            ],
            [
             1,
             "#276419"
            ]
           ],
           "sequential": [
            [
             0,
             "#0d0887"
            ],
            [
             0.1111111111111111,
             "#46039f"
            ],
            [
             0.2222222222222222,
             "#7201a8"
            ],
            [
             0.3333333333333333,
             "#9c179e"
            ],
            [
             0.4444444444444444,
             "#bd3786"
            ],
            [
             0.5555555555555556,
             "#d8576b"
            ],
            [
             0.6666666666666666,
             "#ed7953"
            ],
            [
             0.7777777777777778,
             "#fb9f3a"
            ],
            [
             0.8888888888888888,
             "#fdca26"
            ],
            [
             1,
             "#f0f921"
            ]
           ],
           "sequentialminus": [
            [
             0,
             "#0d0887"
            ],
            [
             0.1111111111111111,
             "#46039f"
            ],
            [
             0.2222222222222222,
             "#7201a8"
            ],
            [
             0.3333333333333333,
             "#9c179e"
            ],
            [
             0.4444444444444444,
             "#bd3786"
            ],
            [
             0.5555555555555556,
             "#d8576b"
            ],
            [
             0.6666666666666666,
             "#ed7953"
            ],
            [
             0.7777777777777778,
             "#fb9f3a"
            ],
            [
             0.8888888888888888,
             "#fdca26"
            ],
            [
             1,
             "#f0f921"
            ]
           ]
          },
          "colorway": [
           "#636efa",
           "#EF553B",
           "#00cc96",
           "#ab63fa",
           "#FFA15A",
           "#19d3f3",
           "#FF6692",
           "#B6E880",
           "#FF97FF",
           "#FECB52"
          ],
          "font": {
           "color": "#2a3f5f"
          },
          "geo": {
           "bgcolor": "white",
           "lakecolor": "white",
           "landcolor": "#E5ECF6",
           "showlakes": true,
           "showland": true,
           "subunitcolor": "white"
          },
          "hoverlabel": {
           "align": "left"
          },
          "hovermode": "closest",
          "mapbox": {
           "style": "light"
          },
          "paper_bgcolor": "white",
          "plot_bgcolor": "#E5ECF6",
          "polar": {
           "angularaxis": {
            "gridcolor": "white",
            "linecolor": "white",
            "ticks": ""
           },
           "bgcolor": "#E5ECF6",
           "radialaxis": {
            "gridcolor": "white",
            "linecolor": "white",
            "ticks": ""
           }
          },
          "scene": {
           "xaxis": {
            "backgroundcolor": "#E5ECF6",
            "gridcolor": "white",
            "gridwidth": 2,
            "linecolor": "white",
            "showbackground": true,
            "ticks": "",
            "zerolinecolor": "white"
           },
           "yaxis": {
            "backgroundcolor": "#E5ECF6",
            "gridcolor": "white",
            "gridwidth": 2,
            "linecolor": "white",
            "showbackground": true,
            "ticks": "",
            "zerolinecolor": "white"
           },
           "zaxis": {
            "backgroundcolor": "#E5ECF6",
            "gridcolor": "white",
            "gridwidth": 2,
            "linecolor": "white",
            "showbackground": true,
            "ticks": "",
            "zerolinecolor": "white"
           }
          },
          "shapedefaults": {
           "line": {
            "color": "#2a3f5f"
           }
          },
          "ternary": {
           "aaxis": {
            "gridcolor": "white",
            "linecolor": "white",
            "ticks": ""
           },
           "baxis": {
            "gridcolor": "white",
            "linecolor": "white",
            "ticks": ""
           },
           "bgcolor": "#E5ECF6",
           "caxis": {
            "gridcolor": "white",
            "linecolor": "white",
            "ticks": ""
           }
          },
          "title": {
           "x": 0.05
          },
          "xaxis": {
           "automargin": true,
           "gridcolor": "white",
           "linecolor": "white",
           "ticks": "",
           "title": {
            "standoff": 15
           },
           "zerolinecolor": "white",
           "zerolinewidth": 2
          },
          "yaxis": {
           "automargin": true,
           "gridcolor": "white",
           "linecolor": "white",
           "ticks": "",
           "title": {
            "standoff": 15
           },
           "zerolinecolor": "white",
           "zerolinewidth": 2
          }
         }
        },
        "title": {
         "text": "Agenda for Intervenant ID: 78005437"
        },
        "xaxis": {
         "anchor": "y",
         "domain": [
          0,
          1
         ],
         "rangeselector": {
          "buttons": [
           {
            "count": 1,
            "label": "1D",
            "step": "day",
            "stepmode": "backward"
           },
           {
            "count": 7,
            "label": "1W",
            "step": "day",
            "stepmode": "backward"
           },
           {
            "step": "all"
           }
          ]
         },
         "rangeslider": {
          "visible": true
         },
         "type": "date"
        },
        "yaxis": {
         "anchor": "x",
         "autorange": "reversed",
         "domain": [
          0,
          1
         ],
         "title": {
          "text": "Task"
         }
        }
       }
      }
     },
     "metadata": {},
     "output_type": "display_data"
    },
    {
     "data": {
      "application/vnd.plotly.v1+json": {
       "config": {
        "plotlyServerURL": "https://plot.ly"
       },
       "data": [
        {
         "alignmentgroup": "True",
         "base": [
          "2024-01-01T08:00:00",
          "2024-01-01T08:35:00",
          "2024-01-01T09:30:00",
          "2024-01-01T10:10:00",
          "2024-01-01T11:05:00",
          "2024-01-01T12:05:00",
          "2024-01-01T12:50:00",
          "2024-01-01T17:15:00",
          "2024-01-01T18:00:00",
          "2024-01-01T18:35:00",
          "2024-01-01T19:15:00",
          "2024-01-02T08:00:00",
          "2024-01-02T08:35:00",
          "2024-01-02T09:35:00",
          "2024-01-02T10:20:00",
          "2024-01-02T11:35:00",
          "2024-01-02T14:30:00",
          "2024-01-02T15:45:00",
          "2024-01-03T08:15:00",
          "2024-01-03T09:00:00",
          "2024-01-03T12:30:00",
          "2024-01-03T14:30:00",
          "2024-01-03T18:00:00",
          "2024-01-04T08:30:00",
          "2024-01-04T09:20:00",
          "2024-01-04T09:50:00",
          "2024-01-04T10:50:00",
          "2024-01-04T14:40:00",
          "2024-01-05T08:00:00",
          "2024-01-05T08:30:00",
          "2024-01-05T09:30:00",
          "2024-01-05T10:20:00",
          "2024-01-05T11:30:00",
          "2024-01-05T14:15:00",
          "2024-01-05T14:50:00",
          "2024-01-05T16:00:00",
          "2024-01-08T09:00:00",
          "2024-01-09T09:45:00",
          "2024-01-09T10:45:00",
          "2024-01-09T12:15:00",
          "2024-01-09T13:00:00",
          "2024-01-09T14:05:00",
          "2024-01-09T15:45:00",
          "2024-01-10T09:45:00",
          "2024-01-10T10:45:00",
          "2024-01-10T11:45:00",
          "2024-01-10T12:50:00",
          "2024-01-10T14:45:00",
          "2024-01-11T08:30:00",
          "2024-01-11T09:45:00",
          "2024-01-11T10:45:00",
          "2024-01-11T12:00:00",
          "2024-01-11T14:00:00",
          "2024-01-11T15:40:00",
          "2024-01-12T08:30:00",
          "2024-01-12T09:30:00",
          "2024-01-12T10:15:00",
          "2024-01-12T11:15:00",
          "2024-01-12T15:15:00",
          "2024-01-13T08:15:00",
          "2024-01-13T09:30:00",
          "2024-01-13T10:30:00",
          "2024-01-13T11:35:00",
          "2024-01-13T12:20:00",
          "2024-01-13T17:30:00",
          "2024-01-13T18:15:00",
          "2024-01-13T19:00:00",
          "2024-01-14T07:30:00",
          "2024-01-14T08:45:00",
          "2024-01-14T09:30:00",
          "2024-01-14T10:30:00",
          "2024-01-14T11:35:00",
          "2024-01-14T12:25:00",
          "2024-01-14T13:10:00",
          "2024-01-14T17:00:00",
          "2024-01-14T18:00:00",
          "2024-01-14T18:45:00",
          "2024-01-16T08:30:00",
          "2024-01-16T09:45:00",
          "2024-01-16T10:45:00",
          "2024-01-16T15:00:00",
          "2024-01-16T17:30:00",
          "2024-01-16T19:00:00",
          "2024-01-17T08:30:00",
          "2024-01-17T09:45:00",
          "2024-01-17T10:45:00",
          "2024-01-17T11:45:00",
          "2024-01-17T12:00:00",
          "2024-01-17T13:00:00",
          "2024-01-18T08:50:00",
          "2024-01-18T10:10:00",
          "2024-01-18T11:05:00",
          "2024-01-18T14:00:00",
          "2024-01-18T15:35:00",
          "2024-01-19T08:00:00",
          "2024-01-19T09:15:00",
          "2024-01-19T10:00:00",
          "2024-01-19T11:00:00",
          "2024-01-19T11:45:00",
          "2024-01-19T12:00:00",
          "2024-01-19T13:00:00",
          "2024-01-23T08:30:00",
          "2024-01-23T10:30:00",
          "2024-01-23T11:15:00",
          "2024-01-23T14:10:00",
          "2024-01-23T16:30:00",
          "2024-01-23T17:45:00",
          "2024-01-23T18:30:00",
          "2024-01-24T08:30:00",
          "2024-01-24T09:45:00",
          "2024-01-24T10:45:00",
          "2024-01-24T12:00:00",
          "2024-01-24T12:15:00",
          "2024-01-24T14:45:00",
          "2024-01-24T15:45:00",
          "2024-01-24T17:15:00",
          "2024-01-25T08:30:00",
          "2024-01-25T09:45:00",
          "2024-01-25T16:15:00",
          "2024-01-25T18:00:00",
          "2024-01-25T18:50:00",
          "2024-01-26T08:00:00",
          "2024-01-26T09:15:00",
          "2024-01-26T10:00:00",
          "2024-01-26T10:55:00",
          "2024-01-26T12:00:00",
          "2024-01-26T12:15:00",
          "2024-01-26T14:00:00",
          "2024-01-26T16:25:00",
          "2024-01-26T17:30:00",
          "2024-01-26T18:45:00",
          "2024-01-27T08:15:00",
          "2024-01-27T08:50:00",
          "2024-01-27T09:45:00",
          "2024-01-27T10:30:00",
          "2024-01-27T11:20:00",
          "2024-01-27T11:30:00",
          "2024-01-27T12:05:00",
          "2024-01-27T17:45:00",
          "2024-01-27T18:30:00",
          "2024-01-28T08:15:00",
          "2024-01-28T08:50:00",
          "2024-01-28T09:45:00",
          "2024-01-28T10:30:00",
          "2024-01-28T11:15:00",
          "2024-01-28T11:30:00",
          "2024-01-28T12:05:00",
          "2024-01-28T17:45:00",
          "2024-01-28T18:30:00",
          "2024-01-30T09:00:00",
          "2024-01-30T10:00:00",
          "2024-01-30T10:45:00",
          "2024-01-30T14:40:00",
          "2024-01-30T17:15:00",
          "2024-01-30T18:00:00",
          "2024-01-30T18:45:00",
          "2024-01-31T08:15:00",
          "2024-01-31T09:30:00",
          "2024-01-31T10:30:00",
          "2024-01-31T11:30:00",
          "2024-01-31T12:15:00",
          "2024-01-31T14:00:00",
          "2024-01-31T16:15:00"
         ],
         "hovertemplate": "Resource=480302361<br>Start=%{base}<br>Finish=%{x}<br>Task=%{y}<extra></extra>",
         "legendgroup": "480302361",
         "marker": {
          "color": "#636efa",
          "pattern": {
           "shape": ""
          }
         },
         "name": "480302361",
         "offsetgroup": "480302361",
         "orientation": "h",
         "showlegend": true,
         "textposition": "auto",
         "type": "bar",
         "x": [
          1800000,
          2700000,
          1800000,
          2700000,
          2700000,
          1800000,
          1800000,
          1800000,
          1800000,
          1800000,
          1800000,
          1800000,
          2700000,
          1800000,
          3600000,
          3600000,
          3600000,
          3600000,
          1800000,
          9000000,
          1800000,
          10800000,
          3300000,
          1800000,
          1800000,
          3600000,
          1800000,
          6900000,
          1800000,
          3300000,
          1800000,
          3600000,
          1800000,
          1800000,
          3600000,
          2700000,
          3600000,
          2700000,
          3600000,
          1800000,
          900000,
          5400000,
          3600000,
          2700000,
          2700000,
          3600000,
          1800000,
          5400000,
          3600000,
          2700000,
          3600000,
          1800000,
          5400000,
          3600000,
          2700000,
          1800000,
          3600000,
          7200000,
          8100000,
          3600000,
          2700000,
          2700000,
          1800000,
          1800000,
          1800000,
          1800000,
          3600000,
          3600000,
          1800000,
          2700000,
          2700000,
          1800000,
          1800000,
          900000,
          2700000,
          1800000,
          3600000,
          3600000,
          2700000,
          1800000,
          7200000,
          3600000,
          3600000,
          3600000,
          2700000,
          2700000,
          900000,
          2700000,
          900000,
          3600000,
          2700000,
          5400000,
          5400000,
          3600000,
          3600000,
          1800000,
          2700000,
          1800000,
          900000,
          2700000,
          900000,
          6000000,
          1800000,
          2700000,
          7200000,
          3600000,
          1800000,
          3600000,
          3600000,
          2700000,
          2700000,
          900000,
          2700000,
          2700000,
          5400000,
          1800000,
          3600000,
          2700000,
          5400000,
          1800000,
          2700000,
          3600000,
          1800000,
          2700000,
          2700000,
          900000,
          2700000,
          7200000,
          2700000,
          3600000,
          1800000,
          1800000,
          2700000,
          1800000,
          1800000,
          1800000,
          1800000,
          1800000,
          1800000,
          3600000,
          1800000,
          2700000,
          1800000,
          1800000,
          2700000,
          1800000,
          1800000,
          1800000,
          3600000,
          2700000,
          1800000,
          3600000,
          7200000,
          1800000,
          1800000,
          3600000,
          3600000,
          2700000,
          1800000,
          1800000,
          1800000,
          7200000,
          2700000
         ],
         "xaxis": "x",
         "y": [
          "REPAS",
          "TOILETTE",
          "TOILETTE",
          "TOILETTE",
          "TOILETTE",
          "REPAS",
          "REPAS",
          "REPAS",
          "REPAS",
          "REPAS",
          "REPAS",
          "REPAS",
          "TOILETTE",
          "TOILETTE",
          "TOILETTE",
          "AIDE MENAGERE",
          "VIE SOCIALE",
          "VIE SOCIALE",
          "REPAS",
          "TOILETTE",
          "TOILETTE",
          "TOILETTE",
          "TOILETTE",
          "TOILETTE",
          "REPAS",
          "AIDE MENAGERE",
          "TOILETTE",
          "ACCOMPAGNEMENTS COURSES PA",
          "REPAS",
          "TOILETTE",
          "TOILETTE",
          "VISITE MEDICALE",
          "REPAS",
          "TOILETTE",
          "ACCOMPAGNEMENTS COURSES PA",
          "AIDE MENAGERE",
          "FORMATION",
          "TOILETTE",
          "AIDE MENAGERE",
          "REPAS",
          "VIE SOCIALE",
          "AIDE MENAGERE",
          "AIDE MENAGERE",
          "TOILETTE",
          "AIDE MENAGERE",
          "AIDE MENAGERE",
          "REPAS",
          "AIDE MENAGERE",
          "TOILETTE",
          "TOILETTE",
          "TOILETTE",
          "REPAS",
          "AIDE MENAGERE",
          "VIE SOCIALE",
          "TOILETTE",
          "TOILETTE",
          "REPAS",
          "ACCOMPAGNEMENTS COURSES PA",
          "ACCOMPAGNEMENTS COURSES PA",
          "TOILETTE",
          "TOILETTE",
          "TOILETTE",
          "REPAS",
          "REPAS",
          "TOILETTE",
          "TOILETTE",
          "REPAS",
          "TOILETTE",
          "REPAS",
          "TOILETTE",
          "TOILETTE",
          "REPAS",
          "REPAS",
          "VIE SOCIALE",
          "TOILETTE",
          "TOILETTE",
          "REPAS",
          "TOILETTE",
          "TOILETTE",
          "TOILETTE",
          "AIDE MENAGERE",
          "GARDE D'ENFANTS",
          "REPAS",
          "TOILETTE",
          "TOILETTE",
          "AIDE MENAGERE",
          "REPAS",
          "REPAS",
          "VIE SOCIALE",
          "TOILETTE",
          "TOILETTE",
          "AIDE MENAGERE",
          "AIDE MENAGERE",
          "VIE SOCIALE",
          "TOILETTE",
          "TOILETTE",
          "TOILETTE",
          "TOILETTE",
          "REPAS",
          "REPAS",
          "VIE SOCIALE",
          "TOILETTE",
          "TOILETTE",
          "TOILETTE",
          "AIDE MENAGERE",
          "VIE SOCIALE",
          "TOILETTE",
          "REPAS",
          "TOILETTE",
          "TOILETTE",
          "AIDE MENAGERE",
          "REPAS",
          "REPAS",
          "TOILETTE",
          "VIE SOCIALE",
          "REPAS",
          "TOILETTE",
          "TOILETTE",
          "AIDE MENAGERE",
          "REPAS",
          "REPAS",
          "TOILETTE",
          "TOILETTE",
          "TOILETTE",
          "AIDE MENAGERE",
          "REPAS",
          "REPAS",
          "AIDE MENAGERE",
          "TOILETTE",
          "REPAS",
          "REPAS",
          "REPAS",
          "TOILETTE",
          "TOILETTE",
          "TOILETTE",
          "REPAS",
          "REPAS",
          "REPAS",
          "TOILETTE",
          "REPAS",
          "REPAS",
          "TOILETTE",
          "TOILETTE",
          "TOILETTE",
          "TOILETTE",
          "REPAS",
          "REPAS",
          "TOILETTE",
          "REPAS",
          "TOILETTE",
          "TOILETTE",
          "AIDE MENAGERE",
          "AIDE MENAGERE",
          "REPAS",
          "REPAS",
          "REPAS",
          "TOILETTE",
          "TOILETTE",
          "TOILETTE",
          "REPAS",
          "REPAS",
          "ACCOMPAGNEMENTS COURSES PA",
          "AIDE MENAGERE"
         ],
         "yaxis": "y"
        }
       ],
       "layout": {
        "barmode": "overlay",
        "legend": {
         "title": {
          "text": "Resource"
         },
         "tracegroupgap": 0
        },
        "margin": {
         "t": 60
        },
        "template": {
         "data": {
          "bar": [
           {
            "error_x": {
             "color": "#2a3f5f"
            },
            "error_y": {
             "color": "#2a3f5f"
            },
            "marker": {
             "line": {
              "color": "#E5ECF6",
              "width": 0.5
             },
             "pattern": {
              "fillmode": "overlay",
              "size": 10,
              "solidity": 0.2
             }
            },
            "type": "bar"
           }
          ],
          "barpolar": [
           {
            "marker": {
             "line": {
              "color": "#E5ECF6",
              "width": 0.5
             },
             "pattern": {
              "fillmode": "overlay",
              "size": 10,
              "solidity": 0.2
             }
            },
            "type": "barpolar"
           }
          ],
          "carpet": [
           {
            "aaxis": {
             "endlinecolor": "#2a3f5f",
             "gridcolor": "white",
             "linecolor": "white",
             "minorgridcolor": "white",
             "startlinecolor": "#2a3f5f"
            },
            "baxis": {
             "endlinecolor": "#2a3f5f",
             "gridcolor": "white",
             "linecolor": "white",
             "minorgridcolor": "white",
             "startlinecolor": "#2a3f5f"
            },
            "type": "carpet"
           }
          ],
          "choropleth": [
           {
            "colorbar": {
             "outlinewidth": 0,
             "ticks": ""
            },
            "type": "choropleth"
           }
          ],
          "contour": [
           {
            "colorbar": {
             "outlinewidth": 0,
             "ticks": ""
            },
            "colorscale": [
             [
              0,
              "#0d0887"
             ],
             [
              0.1111111111111111,
              "#46039f"
             ],
             [
              0.2222222222222222,
              "#7201a8"
             ],
             [
              0.3333333333333333,
              "#9c179e"
             ],
             [
              0.4444444444444444,
              "#bd3786"
             ],
             [
              0.5555555555555556,
              "#d8576b"
             ],
             [
              0.6666666666666666,
              "#ed7953"
             ],
             [
              0.7777777777777778,
              "#fb9f3a"
             ],
             [
              0.8888888888888888,
              "#fdca26"
             ],
             [
              1,
              "#f0f921"
             ]
            ],
            "type": "contour"
           }
          ],
          "contourcarpet": [
           {
            "colorbar": {
             "outlinewidth": 0,
             "ticks": ""
            },
            "type": "contourcarpet"
           }
          ],
          "heatmap": [
           {
            "colorbar": {
             "outlinewidth": 0,
             "ticks": ""
            },
            "colorscale": [
             [
              0,
              "#0d0887"
             ],
             [
              0.1111111111111111,
              "#46039f"
             ],
             [
              0.2222222222222222,
              "#7201a8"
             ],
             [
              0.3333333333333333,
              "#9c179e"
             ],
             [
              0.4444444444444444,
              "#bd3786"
             ],
             [
              0.5555555555555556,
              "#d8576b"
             ],
             [
              0.6666666666666666,
              "#ed7953"
             ],
             [
              0.7777777777777778,
              "#fb9f3a"
             ],
             [
              0.8888888888888888,
              "#fdca26"
             ],
             [
              1,
              "#f0f921"
             ]
            ],
            "type": "heatmap"
           }
          ],
          "heatmapgl": [
           {
            "colorbar": {
             "outlinewidth": 0,
             "ticks": ""
            },
            "colorscale": [
             [
              0,
              "#0d0887"
             ],
             [
              0.1111111111111111,
              "#46039f"
             ],
             [
              0.2222222222222222,
              "#7201a8"
             ],
             [
              0.3333333333333333,
              "#9c179e"
             ],
             [
              0.4444444444444444,
              "#bd3786"
             ],
             [
              0.5555555555555556,
              "#d8576b"
             ],
             [
              0.6666666666666666,
              "#ed7953"
             ],
             [
              0.7777777777777778,
              "#fb9f3a"
             ],
             [
              0.8888888888888888,
              "#fdca26"
             ],
             [
              1,
              "#f0f921"
             ]
            ],
            "type": "heatmapgl"
           }
          ],
          "histogram": [
           {
            "marker": {
             "pattern": {
              "fillmode": "overlay",
              "size": 10,
              "solidity": 0.2
             }
            },
            "type": "histogram"
           }
          ],
          "histogram2d": [
           {
            "colorbar": {
             "outlinewidth": 0,
             "ticks": ""
            },
            "colorscale": [
             [
              0,
              "#0d0887"
             ],
             [
              0.1111111111111111,
              "#46039f"
             ],
             [
              0.2222222222222222,
              "#7201a8"
             ],
             [
              0.3333333333333333,
              "#9c179e"
             ],
             [
              0.4444444444444444,
              "#bd3786"
             ],
             [
              0.5555555555555556,
              "#d8576b"
             ],
             [
              0.6666666666666666,
              "#ed7953"
             ],
             [
              0.7777777777777778,
              "#fb9f3a"
             ],
             [
              0.8888888888888888,
              "#fdca26"
             ],
             [
              1,
              "#f0f921"
             ]
            ],
            "type": "histogram2d"
           }
          ],
          "histogram2dcontour": [
           {
            "colorbar": {
             "outlinewidth": 0,
             "ticks": ""
            },
            "colorscale": [
             [
              0,
              "#0d0887"
             ],
             [
              0.1111111111111111,
              "#46039f"
             ],
             [
              0.2222222222222222,
              "#7201a8"
             ],
             [
              0.3333333333333333,
              "#9c179e"
             ],
             [
              0.4444444444444444,
              "#bd3786"
             ],
             [
              0.5555555555555556,
              "#d8576b"
             ],
             [
              0.6666666666666666,
              "#ed7953"
             ],
             [
              0.7777777777777778,
              "#fb9f3a"
             ],
             [
              0.8888888888888888,
              "#fdca26"
             ],
             [
              1,
              "#f0f921"
             ]
            ],
            "type": "histogram2dcontour"
           }
          ],
          "mesh3d": [
           {
            "colorbar": {
             "outlinewidth": 0,
             "ticks": ""
            },
            "type": "mesh3d"
           }
          ],
          "parcoords": [
           {
            "line": {
             "colorbar": {
              "outlinewidth": 0,
              "ticks": ""
             }
            },
            "type": "parcoords"
           }
          ],
          "pie": [
           {
            "automargin": true,
            "type": "pie"
           }
          ],
          "scatter": [
           {
            "fillpattern": {
             "fillmode": "overlay",
             "size": 10,
             "solidity": 0.2
            },
            "type": "scatter"
           }
          ],
          "scatter3d": [
           {
            "line": {
             "colorbar": {
              "outlinewidth": 0,
              "ticks": ""
             }
            },
            "marker": {
             "colorbar": {
              "outlinewidth": 0,
              "ticks": ""
             }
            },
            "type": "scatter3d"
           }
          ],
          "scattercarpet": [
           {
            "marker": {
             "colorbar": {
              "outlinewidth": 0,
              "ticks": ""
             }
            },
            "type": "scattercarpet"
           }
          ],
          "scattergeo": [
           {
            "marker": {
             "colorbar": {
              "outlinewidth": 0,
              "ticks": ""
             }
            },
            "type": "scattergeo"
           }
          ],
          "scattergl": [
           {
            "marker": {
             "colorbar": {
              "outlinewidth": 0,
              "ticks": ""
             }
            },
            "type": "scattergl"
           }
          ],
          "scattermapbox": [
           {
            "marker": {
             "colorbar": {
              "outlinewidth": 0,
              "ticks": ""
             }
            },
            "type": "scattermapbox"
           }
          ],
          "scatterpolar": [
           {
            "marker": {
             "colorbar": {
              "outlinewidth": 0,
              "ticks": ""
             }
            },
            "type": "scatterpolar"
           }
          ],
          "scatterpolargl": [
           {
            "marker": {
             "colorbar": {
              "outlinewidth": 0,
              "ticks": ""
             }
            },
            "type": "scatterpolargl"
           }
          ],
          "scatterternary": [
           {
            "marker": {
             "colorbar": {
              "outlinewidth": 0,
              "ticks": ""
             }
            },
            "type": "scatterternary"
           }
          ],
          "surface": [
           {
            "colorbar": {
             "outlinewidth": 0,
             "ticks": ""
            },
            "colorscale": [
             [
              0,
              "#0d0887"
             ],
             [
              0.1111111111111111,
              "#46039f"
             ],
             [
              0.2222222222222222,
              "#7201a8"
             ],
             [
              0.3333333333333333,
              "#9c179e"
             ],
             [
              0.4444444444444444,
              "#bd3786"
             ],
             [
              0.5555555555555556,
              "#d8576b"
             ],
             [
              0.6666666666666666,
              "#ed7953"
             ],
             [
              0.7777777777777778,
              "#fb9f3a"
             ],
             [
              0.8888888888888888,
              "#fdca26"
             ],
             [
              1,
              "#f0f921"
             ]
            ],
            "type": "surface"
           }
          ],
          "table": [
           {
            "cells": {
             "fill": {
              "color": "#EBF0F8"
             },
             "line": {
              "color": "white"
             }
            },
            "header": {
             "fill": {
              "color": "#C8D4E3"
             },
             "line": {
              "color": "white"
             }
            },
            "type": "table"
           }
          ]
         },
         "layout": {
          "annotationdefaults": {
           "arrowcolor": "#2a3f5f",
           "arrowhead": 0,
           "arrowwidth": 1
          },
          "autotypenumbers": "strict",
          "coloraxis": {
           "colorbar": {
            "outlinewidth": 0,
            "ticks": ""
           }
          },
          "colorscale": {
           "diverging": [
            [
             0,
             "#8e0152"
            ],
            [
             0.1,
             "#c51b7d"
            ],
            [
             0.2,
             "#de77ae"
            ],
            [
             0.3,
             "#f1b6da"
            ],
            [
             0.4,
             "#fde0ef"
            ],
            [
             0.5,
             "#f7f7f7"
            ],
            [
             0.6,
             "#e6f5d0"
            ],
            [
             0.7,
             "#b8e186"
            ],
            [
             0.8,
             "#7fbc41"
            ],
            [
             0.9,
             "#4d9221"
            ],
            [
             1,
             "#276419"
            ]
           ],
           "sequential": [
            [
             0,
             "#0d0887"
            ],
            [
             0.1111111111111111,
             "#46039f"
            ],
            [
             0.2222222222222222,
             "#7201a8"
            ],
            [
             0.3333333333333333,
             "#9c179e"
            ],
            [
             0.4444444444444444,
             "#bd3786"
            ],
            [
             0.5555555555555556,
             "#d8576b"
            ],
            [
             0.6666666666666666,
             "#ed7953"
            ],
            [
             0.7777777777777778,
             "#fb9f3a"
            ],
            [
             0.8888888888888888,
             "#fdca26"
            ],
            [
             1,
             "#f0f921"
            ]
           ],
           "sequentialminus": [
            [
             0,
             "#0d0887"
            ],
            [
             0.1111111111111111,
             "#46039f"
            ],
            [
             0.2222222222222222,
             "#7201a8"
            ],
            [
             0.3333333333333333,
             "#9c179e"
            ],
            [
             0.4444444444444444,
             "#bd3786"
            ],
            [
             0.5555555555555556,
             "#d8576b"
            ],
            [
             0.6666666666666666,
             "#ed7953"
            ],
            [
             0.7777777777777778,
             "#fb9f3a"
            ],
            [
             0.8888888888888888,
             "#fdca26"
            ],
            [
             1,
             "#f0f921"
            ]
           ]
          },
          "colorway": [
           "#636efa",
           "#EF553B",
           "#00cc96",
           "#ab63fa",
           "#FFA15A",
           "#19d3f3",
           "#FF6692",
           "#B6E880",
           "#FF97FF",
           "#FECB52"
          ],
          "font": {
           "color": "#2a3f5f"
          },
          "geo": {
           "bgcolor": "white",
           "lakecolor": "white",
           "landcolor": "#E5ECF6",
           "showlakes": true,
           "showland": true,
           "subunitcolor": "white"
          },
          "hoverlabel": {
           "align": "left"
          },
          "hovermode": "closest",
          "mapbox": {
           "style": "light"
          },
          "paper_bgcolor": "white",
          "plot_bgcolor": "#E5ECF6",
          "polar": {
           "angularaxis": {
            "gridcolor": "white",
            "linecolor": "white",
            "ticks": ""
           },
           "bgcolor": "#E5ECF6",
           "radialaxis": {
            "gridcolor": "white",
            "linecolor": "white",
            "ticks": ""
           }
          },
          "scene": {
           "xaxis": {
            "backgroundcolor": "#E5ECF6",
            "gridcolor": "white",
            "gridwidth": 2,
            "linecolor": "white",
            "showbackground": true,
            "ticks": "",
            "zerolinecolor": "white"
           },
           "yaxis": {
            "backgroundcolor": "#E5ECF6",
            "gridcolor": "white",
            "gridwidth": 2,
            "linecolor": "white",
            "showbackground": true,
            "ticks": "",
            "zerolinecolor": "white"
           },
           "zaxis": {
            "backgroundcolor": "#E5ECF6",
            "gridcolor": "white",
            "gridwidth": 2,
            "linecolor": "white",
            "showbackground": true,
            "ticks": "",
            "zerolinecolor": "white"
           }
          },
          "shapedefaults": {
           "line": {
            "color": "#2a3f5f"
           }
          },
          "ternary": {
           "aaxis": {
            "gridcolor": "white",
            "linecolor": "white",
            "ticks": ""
           },
           "baxis": {
            "gridcolor": "white",
            "linecolor": "white",
            "ticks": ""
           },
           "bgcolor": "#E5ECF6",
           "caxis": {
            "gridcolor": "white",
            "linecolor": "white",
            "ticks": ""
           }
          },
          "title": {
           "x": 0.05
          },
          "xaxis": {
           "automargin": true,
           "gridcolor": "white",
           "linecolor": "white",
           "ticks": "",
           "title": {
            "standoff": 15
           },
           "zerolinecolor": "white",
           "zerolinewidth": 2
          },
          "yaxis": {
           "automargin": true,
           "gridcolor": "white",
           "linecolor": "white",
           "ticks": "",
           "title": {
            "standoff": 15
           },
           "zerolinecolor": "white",
           "zerolinewidth": 2
          }
         }
        },
        "title": {
         "text": "Agenda for Intervenant ID: 480302361"
        },
        "xaxis": {
         "anchor": "y",
         "domain": [
          0,
          1
         ],
         "rangeselector": {
          "buttons": [
           {
            "count": 1,
            "label": "1D",
            "step": "day",
            "stepmode": "backward"
           },
           {
            "count": 7,
            "label": "1W",
            "step": "day",
            "stepmode": "backward"
           },
           {
            "step": "all"
           }
          ]
         },
         "rangeslider": {
          "visible": true
         },
         "type": "date"
        },
        "yaxis": {
         "anchor": "x",
         "autorange": "reversed",
         "domain": [
          0,
          1
         ],
         "title": {
          "text": "Task"
         }
        }
       }
      }
     },
     "metadata": {},
     "output_type": "display_data"
    },
    {
     "data": {
      "application/vnd.plotly.v1+json": {
       "config": {
        "plotlyServerURL": "https://plot.ly"
       },
       "data": [
        {
         "alignmentgroup": "True",
         "base": [
          "2024-01-01T08:15:00",
          "2024-01-01T09:00:00",
          "2024-01-01T14:30:00",
          "2024-01-02T09:00:00",
          "2024-01-02T11:45:00",
          "2024-01-02T12:20:00",
          "2024-01-02T14:30:00",
          "2024-01-02T17:45:00",
          "2024-01-02T18:20:00",
          "2024-01-04T09:00:00",
          "2024-01-04T11:45:00",
          "2024-01-04T12:25:00",
          "2024-01-04T14:30:00",
          "2024-01-05T09:00:00",
          "2024-01-05T11:45:00",
          "2024-01-05T12:20:00",
          "2024-01-05T14:30:00",
          "2024-01-05T17:45:00",
          "2024-01-05T18:20:00",
          "2024-01-06T09:00:00",
          "2024-01-06T11:45:00",
          "2024-01-06T14:30:00",
          "2024-01-07T09:00:00",
          "2024-01-07T11:45:00",
          "2024-01-07T14:30:00",
          "2024-01-07T18:00:00",
          "2024-01-08T09:00:00",
          "2024-01-08T11:45:00",
          "2024-01-09T09:00:00",
          "2024-01-09T11:45:00",
          "2024-01-09T14:30:00",
          "2024-01-11T09:00:00",
          "2024-01-11T11:45:00",
          "2024-01-11T14:30:00",
          "2024-01-11T17:50:00",
          "2024-01-11T18:30:00",
          "2024-01-12T09:00:00",
          "2024-01-12T11:45:00",
          "2024-01-12T12:30:00",
          "2024-01-12T14:30:00",
          "2024-01-12T17:45:00",
          "2024-01-12T18:20:00",
          "2024-01-15T09:00:00",
          "2024-01-15T11:45:00",
          "2024-01-15T14:30:00",
          "2024-01-16T09:00:00",
          "2024-01-16T11:45:00",
          "2024-01-16T14:30:00",
          "2024-01-16T17:40:00",
          "2024-01-18T09:00:00",
          "2024-01-18T14:30:00",
          "2024-01-19T09:00:00",
          "2024-01-19T11:45:00",
          "2024-01-19T12:30:00",
          "2024-01-19T14:30:00",
          "2024-01-19T17:30:00",
          "2024-01-20T08:15:00",
          "2024-01-20T09:00:00",
          "2024-01-20T11:45:00",
          "2024-01-20T14:30:00",
          "2024-01-20T17:30:00",
          "2024-01-20T18:15:00",
          "2024-01-20T19:00:00",
          "2024-01-21T07:30:00",
          "2024-01-21T08:15:00",
          "2024-01-21T09:00:00",
          "2024-01-21T11:45:00",
          "2024-01-21T14:30:00",
          "2024-01-21T17:00:00",
          "2024-01-21T18:20:00",
          "2024-01-21T19:00:00",
          "2024-01-22T09:00:00",
          "2024-01-22T14:30:00",
          "2024-01-23T09:00:00",
          "2024-01-23T11:45:00",
          "2024-01-23T14:30:00",
          "2024-01-25T09:00:00",
          "2024-01-25T11:45:00",
          "2024-01-25T12:30:00",
          "2024-01-25T14:30:00",
          "2024-01-26T09:00:00",
          "2024-01-26T11:45:00",
          "2024-01-26T12:30:00",
          "2024-01-26T14:30:00",
          "2024-01-29T09:00:00",
          "2024-01-29T11:45:00",
          "2024-01-29T14:30:00",
          "2024-01-29T17:45:00",
          "2024-01-29T18:25:00",
          "2024-01-30T09:00:00",
          "2024-01-30T11:45:00",
          "2024-01-30T12:30:00",
          "2024-01-30T14:30:00",
          "2024-01-30T17:45:00",
          "2024-01-30T18:25:00"
         ],
         "hovertemplate": "Resource=609468992<br>Start=%{base}<br>Finish=%{x}<br>Task=%{y}<extra></extra>",
         "legendgroup": "609468992",
         "marker": {
          "color": "#636efa",
          "pattern": {
           "shape": ""
          }
         },
         "name": "609468992",
         "offsetgroup": "609468992",
         "orientation": "h",
         "showlegend": true,
         "textposition": "auto",
         "type": "bar",
         "x": [
          1800000,
          9000000,
          7200000,
          9000000,
          1800000,
          1800000,
          10800000,
          1800000,
          1800000,
          9000000,
          1800000,
          1800000,
          10800000,
          9000000,
          1800000,
          1800000,
          10800000,
          1800000,
          1800000,
          9000000,
          1800000,
          7200000,
          9000000,
          1800000,
          7200000,
          1800000,
          9000000,
          1800000,
          9000000,
          1800000,
          10800000,
          9000000,
          1800000,
          10800000,
          1800000,
          1800000,
          9000000,
          1800000,
          1800000,
          10800000,
          1800000,
          1800000,
          9000000,
          1800000,
          10800000,
          9000000,
          1800000,
          10800000,
          1800000,
          9000000,
          10800000,
          9000000,
          1800000,
          1800000,
          10800000,
          1800000,
          1800000,
          9000000,
          1800000,
          7200000,
          1800000,
          1800000,
          1800000,
          1800000,
          1800000,
          9000000,
          1800000,
          7200000,
          1800000,
          1800000,
          1800000,
          9000000,
          10800000,
          9000000,
          1800000,
          10800000,
          9000000,
          1800000,
          1800000,
          10800000,
          9000000,
          1800000,
          1800000,
          10800000,
          9000000,
          1800000,
          10800000,
          1800000,
          1800000,
          9000000,
          1800000,
          1800000,
          10800000,
          1800000,
          1800000
         ],
         "xaxis": "x",
         "y": [
          "REPAS",
          "TOILETTE",
          "TOILETTE",
          "TOILETTE",
          "REPAS",
          "REPAS",
          "TOILETTE",
          "REPAS",
          "REPAS",
          "TOILETTE",
          "REPAS",
          "REPAS",
          "TOILETTE",
          "TOILETTE",
          "REPAS",
          "REPAS",
          "TOILETTE",
          "REPAS",
          "REPAS",
          "VIE SOCIALE",
          "REPAS",
          "TOILETTE",
          "VIE SOCIALE",
          "REPAS",
          "TOILETTE",
          "REPAS",
          "TOILETTE",
          "REPAS",
          "TOILETTE",
          "REPAS",
          "TOILETTE",
          "TOILETTE",
          "REPAS",
          "TOILETTE",
          "REPAS",
          "REPAS",
          "TOILETTE",
          "REPAS",
          "REPAS",
          "TOILETTE",
          "REPAS",
          "REPAS",
          "TOILETTE",
          "REPAS",
          "TOILETTE",
          "TOILETTE",
          "REPAS",
          "TOILETTE",
          "REPAS",
          "TOILETTE",
          "TOILETTE",
          "TOILETTE",
          "REPAS",
          "REPAS",
          "TOILETTE",
          "REPAS",
          "REPAS",
          "VIE SOCIALE",
          "REPAS",
          "TOILETTE",
          "REPAS",
          "REPAS",
          "REPAS",
          "REPAS",
          "REPAS",
          "VIE SOCIALE",
          "REPAS",
          "TOILETTE",
          "REPAS",
          "REPAS",
          "REPAS",
          "TOILETTE",
          "TOILETTE",
          "TOILETTE",
          "REPAS",
          "TOILETTE",
          "TOILETTE",
          "REPAS",
          "REPAS",
          "TOILETTE",
          "TOILETTE",
          "REPAS",
          "REPAS",
          "TOILETTE",
          "TOILETTE",
          "REPAS",
          "TOILETTE",
          "REPAS",
          "REPAS",
          "TOILETTE",
          "REPAS",
          "REPAS",
          "TOILETTE",
          "REPAS",
          "REPAS"
         ],
         "yaxis": "y"
        }
       ],
       "layout": {
        "barmode": "overlay",
        "legend": {
         "title": {
          "text": "Resource"
         },
         "tracegroupgap": 0
        },
        "margin": {
         "t": 60
        },
        "template": {
         "data": {
          "bar": [
           {
            "error_x": {
             "color": "#2a3f5f"
            },
            "error_y": {
             "color": "#2a3f5f"
            },
            "marker": {
             "line": {
              "color": "#E5ECF6",
              "width": 0.5
             },
             "pattern": {
              "fillmode": "overlay",
              "size": 10,
              "solidity": 0.2
             }
            },
            "type": "bar"
           }
          ],
          "barpolar": [
           {
            "marker": {
             "line": {
              "color": "#E5ECF6",
              "width": 0.5
             },
             "pattern": {
              "fillmode": "overlay",
              "size": 10,
              "solidity": 0.2
             }
            },
            "type": "barpolar"
           }
          ],
          "carpet": [
           {
            "aaxis": {
             "endlinecolor": "#2a3f5f",
             "gridcolor": "white",
             "linecolor": "white",
             "minorgridcolor": "white",
             "startlinecolor": "#2a3f5f"
            },
            "baxis": {
             "endlinecolor": "#2a3f5f",
             "gridcolor": "white",
             "linecolor": "white",
             "minorgridcolor": "white",
             "startlinecolor": "#2a3f5f"
            },
            "type": "carpet"
           }
          ],
          "choropleth": [
           {
            "colorbar": {
             "outlinewidth": 0,
             "ticks": ""
            },
            "type": "choropleth"
           }
          ],
          "contour": [
           {
            "colorbar": {
             "outlinewidth": 0,
             "ticks": ""
            },
            "colorscale": [
             [
              0,
              "#0d0887"
             ],
             [
              0.1111111111111111,
              "#46039f"
             ],
             [
              0.2222222222222222,
              "#7201a8"
             ],
             [
              0.3333333333333333,
              "#9c179e"
             ],
             [
              0.4444444444444444,
              "#bd3786"
             ],
             [
              0.5555555555555556,
              "#d8576b"
             ],
             [
              0.6666666666666666,
              "#ed7953"
             ],
             [
              0.7777777777777778,
              "#fb9f3a"
             ],
             [
              0.8888888888888888,
              "#fdca26"
             ],
             [
              1,
              "#f0f921"
             ]
            ],
            "type": "contour"
           }
          ],
          "contourcarpet": [
           {
            "colorbar": {
             "outlinewidth": 0,
             "ticks": ""
            },
            "type": "contourcarpet"
           }
          ],
          "heatmap": [
           {
            "colorbar": {
             "outlinewidth": 0,
             "ticks": ""
            },
            "colorscale": [
             [
              0,
              "#0d0887"
             ],
             [
              0.1111111111111111,
              "#46039f"
             ],
             [
              0.2222222222222222,
              "#7201a8"
             ],
             [
              0.3333333333333333,
              "#9c179e"
             ],
             [
              0.4444444444444444,
              "#bd3786"
             ],
             [
              0.5555555555555556,
              "#d8576b"
             ],
             [
              0.6666666666666666,
              "#ed7953"
             ],
             [
              0.7777777777777778,
              "#fb9f3a"
             ],
             [
              0.8888888888888888,
              "#fdca26"
             ],
             [
              1,
              "#f0f921"
             ]
            ],
            "type": "heatmap"
           }
          ],
          "heatmapgl": [
           {
            "colorbar": {
             "outlinewidth": 0,
             "ticks": ""
            },
            "colorscale": [
             [
              0,
              "#0d0887"
             ],
             [
              0.1111111111111111,
              "#46039f"
             ],
             [
              0.2222222222222222,
              "#7201a8"
             ],
             [
              0.3333333333333333,
              "#9c179e"
             ],
             [
              0.4444444444444444,
              "#bd3786"
             ],
             [
              0.5555555555555556,
              "#d8576b"
             ],
             [
              0.6666666666666666,
              "#ed7953"
             ],
             [
              0.7777777777777778,
              "#fb9f3a"
             ],
             [
              0.8888888888888888,
              "#fdca26"
             ],
             [
              1,
              "#f0f921"
             ]
            ],
            "type": "heatmapgl"
           }
          ],
          "histogram": [
           {
            "marker": {
             "pattern": {
              "fillmode": "overlay",
              "size": 10,
              "solidity": 0.2
             }
            },
            "type": "histogram"
           }
          ],
          "histogram2d": [
           {
            "colorbar": {
             "outlinewidth": 0,
             "ticks": ""
            },
            "colorscale": [
             [
              0,
              "#0d0887"
             ],
             [
              0.1111111111111111,
              "#46039f"
             ],
             [
              0.2222222222222222,
              "#7201a8"
             ],
             [
              0.3333333333333333,
              "#9c179e"
             ],
             [
              0.4444444444444444,
              "#bd3786"
             ],
             [
              0.5555555555555556,
              "#d8576b"
             ],
             [
              0.6666666666666666,
              "#ed7953"
             ],
             [
              0.7777777777777778,
              "#fb9f3a"
             ],
             [
              0.8888888888888888,
              "#fdca26"
             ],
             [
              1,
              "#f0f921"
             ]
            ],
            "type": "histogram2d"
           }
          ],
          "histogram2dcontour": [
           {
            "colorbar": {
             "outlinewidth": 0,
             "ticks": ""
            },
            "colorscale": [
             [
              0,
              "#0d0887"
             ],
             [
              0.1111111111111111,
              "#46039f"
             ],
             [
              0.2222222222222222,
              "#7201a8"
             ],
             [
              0.3333333333333333,
              "#9c179e"
             ],
             [
              0.4444444444444444,
              "#bd3786"
             ],
             [
              0.5555555555555556,
              "#d8576b"
             ],
             [
              0.6666666666666666,
              "#ed7953"
             ],
             [
              0.7777777777777778,
              "#fb9f3a"
             ],
             [
              0.8888888888888888,
              "#fdca26"
             ],
             [
              1,
              "#f0f921"
             ]
            ],
            "type": "histogram2dcontour"
           }
          ],
          "mesh3d": [
           {
            "colorbar": {
             "outlinewidth": 0,
             "ticks": ""
            },
            "type": "mesh3d"
           }
          ],
          "parcoords": [
           {
            "line": {
             "colorbar": {
              "outlinewidth": 0,
              "ticks": ""
             }
            },
            "type": "parcoords"
           }
          ],
          "pie": [
           {
            "automargin": true,
            "type": "pie"
           }
          ],
          "scatter": [
           {
            "fillpattern": {
             "fillmode": "overlay",
             "size": 10,
             "solidity": 0.2
            },
            "type": "scatter"
           }
          ],
          "scatter3d": [
           {
            "line": {
             "colorbar": {
              "outlinewidth": 0,
              "ticks": ""
             }
            },
            "marker": {
             "colorbar": {
              "outlinewidth": 0,
              "ticks": ""
             }
            },
            "type": "scatter3d"
           }
          ],
          "scattercarpet": [
           {
            "marker": {
             "colorbar": {
              "outlinewidth": 0,
              "ticks": ""
             }
            },
            "type": "scattercarpet"
           }
          ],
          "scattergeo": [
           {
            "marker": {
             "colorbar": {
              "outlinewidth": 0,
              "ticks": ""
             }
            },
            "type": "scattergeo"
           }
          ],
          "scattergl": [
           {
            "marker": {
             "colorbar": {
              "outlinewidth": 0,
              "ticks": ""
             }
            },
            "type": "scattergl"
           }
          ],
          "scattermapbox": [
           {
            "marker": {
             "colorbar": {
              "outlinewidth": 0,
              "ticks": ""
             }
            },
            "type": "scattermapbox"
           }
          ],
          "scatterpolar": [
           {
            "marker": {
             "colorbar": {
              "outlinewidth": 0,
              "ticks": ""
             }
            },
            "type": "scatterpolar"
           }
          ],
          "scatterpolargl": [
           {
            "marker": {
             "colorbar": {
              "outlinewidth": 0,
              "ticks": ""
             }
            },
            "type": "scatterpolargl"
           }
          ],
          "scatterternary": [
           {
            "marker": {
             "colorbar": {
              "outlinewidth": 0,
              "ticks": ""
             }
            },
            "type": "scatterternary"
           }
          ],
          "surface": [
           {
            "colorbar": {
             "outlinewidth": 0,
             "ticks": ""
            },
            "colorscale": [
             [
              0,
              "#0d0887"
             ],
             [
              0.1111111111111111,
              "#46039f"
             ],
             [
              0.2222222222222222,
              "#7201a8"
             ],
             [
              0.3333333333333333,
              "#9c179e"
             ],
             [
              0.4444444444444444,
              "#bd3786"
             ],
             [
              0.5555555555555556,
              "#d8576b"
             ],
             [
              0.6666666666666666,
              "#ed7953"
             ],
             [
              0.7777777777777778,
              "#fb9f3a"
             ],
             [
              0.8888888888888888,
              "#fdca26"
             ],
             [
              1,
              "#f0f921"
             ]
            ],
            "type": "surface"
           }
          ],
          "table": [
           {
            "cells": {
             "fill": {
              "color": "#EBF0F8"
             },
             "line": {
              "color": "white"
             }
            },
            "header": {
             "fill": {
              "color": "#C8D4E3"
             },
             "line": {
              "color": "white"
             }
            },
            "type": "table"
           }
          ]
         },
         "layout": {
          "annotationdefaults": {
           "arrowcolor": "#2a3f5f",
           "arrowhead": 0,
           "arrowwidth": 1
          },
          "autotypenumbers": "strict",
          "coloraxis": {
           "colorbar": {
            "outlinewidth": 0,
            "ticks": ""
           }
          },
          "colorscale": {
           "diverging": [
            [
             0,
             "#8e0152"
            ],
            [
             0.1,
             "#c51b7d"
            ],
            [
             0.2,
             "#de77ae"
            ],
            [
             0.3,
             "#f1b6da"
            ],
            [
             0.4,
             "#fde0ef"
            ],
            [
             0.5,
             "#f7f7f7"
            ],
            [
             0.6,
             "#e6f5d0"
            ],
            [
             0.7,
             "#b8e186"
            ],
            [
             0.8,
             "#7fbc41"
            ],
            [
             0.9,
             "#4d9221"
            ],
            [
             1,
             "#276419"
            ]
           ],
           "sequential": [
            [
             0,
             "#0d0887"
            ],
            [
             0.1111111111111111,
             "#46039f"
            ],
            [
             0.2222222222222222,
             "#7201a8"
            ],
            [
             0.3333333333333333,
             "#9c179e"
            ],
            [
             0.4444444444444444,
             "#bd3786"
            ],
            [
             0.5555555555555556,
             "#d8576b"
            ],
            [
             0.6666666666666666,
             "#ed7953"
            ],
            [
             0.7777777777777778,
             "#fb9f3a"
            ],
            [
             0.8888888888888888,
             "#fdca26"
            ],
            [
             1,
             "#f0f921"
            ]
           ],
           "sequentialminus": [
            [
             0,
             "#0d0887"
            ],
            [
             0.1111111111111111,
             "#46039f"
            ],
            [
             0.2222222222222222,
             "#7201a8"
            ],
            [
             0.3333333333333333,
             "#9c179e"
            ],
            [
             0.4444444444444444,
             "#bd3786"
            ],
            [
             0.5555555555555556,
             "#d8576b"
            ],
            [
             0.6666666666666666,
             "#ed7953"
            ],
            [
             0.7777777777777778,
             "#fb9f3a"
            ],
            [
             0.8888888888888888,
             "#fdca26"
            ],
            [
             1,
             "#f0f921"
            ]
           ]
          },
          "colorway": [
           "#636efa",
           "#EF553B",
           "#00cc96",
           "#ab63fa",
           "#FFA15A",
           "#19d3f3",
           "#FF6692",
           "#B6E880",
           "#FF97FF",
           "#FECB52"
          ],
          "font": {
           "color": "#2a3f5f"
          },
          "geo": {
           "bgcolor": "white",
           "lakecolor": "white",
           "landcolor": "#E5ECF6",
           "showlakes": true,
           "showland": true,
           "subunitcolor": "white"
          },
          "hoverlabel": {
           "align": "left"
          },
          "hovermode": "closest",
          "mapbox": {
           "style": "light"
          },
          "paper_bgcolor": "white",
          "plot_bgcolor": "#E5ECF6",
          "polar": {
           "angularaxis": {
            "gridcolor": "white",
            "linecolor": "white",
            "ticks": ""
           },
           "bgcolor": "#E5ECF6",
           "radialaxis": {
            "gridcolor": "white",
            "linecolor": "white",
            "ticks": ""
           }
          },
          "scene": {
           "xaxis": {
            "backgroundcolor": "#E5ECF6",
            "gridcolor": "white",
            "gridwidth": 2,
            "linecolor": "white",
            "showbackground": true,
            "ticks": "",
            "zerolinecolor": "white"
           },
           "yaxis": {
            "backgroundcolor": "#E5ECF6",
            "gridcolor": "white",
            "gridwidth": 2,
            "linecolor": "white",
            "showbackground": true,
            "ticks": "",
            "zerolinecolor": "white"
           },
           "zaxis": {
            "backgroundcolor": "#E5ECF6",
            "gridcolor": "white",
            "gridwidth": 2,
            "linecolor": "white",
            "showbackground": true,
            "ticks": "",
            "zerolinecolor": "white"
           }
          },
          "shapedefaults": {
           "line": {
            "color": "#2a3f5f"
           }
          },
          "ternary": {
           "aaxis": {
            "gridcolor": "white",
            "linecolor": "white",
            "ticks": ""
           },
           "baxis": {
            "gridcolor": "white",
            "linecolor": "white",
            "ticks": ""
           },
           "bgcolor": "#E5ECF6",
           "caxis": {
            "gridcolor": "white",
            "linecolor": "white",
            "ticks": ""
           }
          },
          "title": {
           "x": 0.05
          },
          "xaxis": {
           "automargin": true,
           "gridcolor": "white",
           "linecolor": "white",
           "ticks": "",
           "title": {
            "standoff": 15
           },
           "zerolinecolor": "white",
           "zerolinewidth": 2
          },
          "yaxis": {
           "automargin": true,
           "gridcolor": "white",
           "linecolor": "white",
           "ticks": "",
           "title": {
            "standoff": 15
           },
           "zerolinecolor": "white",
           "zerolinewidth": 2
          }
         }
        },
        "title": {
         "text": "Agenda for Intervenant ID: 609468992"
        },
        "xaxis": {
         "anchor": "y",
         "domain": [
          0,
          1
         ],
         "rangeselector": {
          "buttons": [
           {
            "count": 1,
            "label": "1D",
            "step": "day",
            "stepmode": "backward"
           },
           {
            "count": 7,
            "label": "1W",
            "step": "day",
            "stepmode": "backward"
           },
           {
            "step": "all"
           }
          ]
         },
         "rangeslider": {
          "visible": true
         },
         "type": "date"
        },
        "yaxis": {
         "anchor": "x",
         "autorange": "reversed",
         "domain": [
          0,
          1
         ],
         "title": {
          "text": "Task"
         }
        }
       }
      }
     },
     "metadata": {},
     "output_type": "display_data"
    },
    {
     "data": {
      "application/vnd.plotly.v1+json": {
       "config": {
        "plotlyServerURL": "https://plot.ly"
       },
       "data": [
        {
         "alignmentgroup": "True",
         "base": [
          "2024-01-01T08:30:00",
          "2024-01-01T09:45:00",
          "2024-01-01T10:45:00",
          "2024-01-01T12:00:00",
          "2024-01-01T18:00:00",
          "2024-01-01T18:45:00",
          "2024-01-01T19:00:00",
          "2024-01-01T19:55:00",
          "2024-01-02T07:45:00",
          "2024-01-02T08:25:00",
          "2024-01-02T09:05:00",
          "2024-01-02T09:45:00",
          "2024-01-02T10:15:00",
          "2024-01-02T11:15:00",
          "2024-01-02T12:00:00",
          "2024-01-02T14:00:00",
          "2024-01-02T18:00:00",
          "2024-01-02T18:45:00",
          "2024-01-03T08:30:00",
          "2024-01-03T09:45:00",
          "2024-01-03T11:00:00",
          "2024-01-03T11:45:00",
          "2024-01-03T12:30:00",
          "2024-01-03T14:00:00",
          "2024-01-03T16:20:00",
          "2024-01-04T08:00:00",
          "2024-01-04T08:40:00",
          "2024-01-04T09:45:00",
          "2024-01-04T11:00:00",
          "2024-01-04T14:15:00",
          "2024-01-04T16:00:00",
          "2024-01-06T07:00:00",
          "2024-01-06T07:30:00",
          "2024-01-06T08:05:00",
          "2024-01-06T08:35:00",
          "2024-01-06T09:30:00",
          "2024-01-06T10:05:00",
          "2024-01-06T11:00:00",
          "2024-01-06T11:55:00",
          "2024-01-06T18:05:00",
          "2024-01-06T18:45:00",
          "2024-01-06T19:30:00",
          "2024-01-07T07:00:00",
          "2024-01-07T07:30:00",
          "2024-01-07T08:00:00",
          "2024-01-07T08:40:00",
          "2024-01-07T09:30:00",
          "2024-01-07T10:05:00",
          "2024-01-07T11:00:00",
          "2024-01-07T12:00:00",
          "2024-01-07T12:15:00",
          "2024-01-07T17:15:00",
          "2024-01-07T18:00:00",
          "2024-01-07T18:45:00",
          "2024-01-07T19:25:00",
          "2024-01-08T07:00:00",
          "2024-01-08T07:30:00",
          "2024-01-08T08:25:00",
          "2024-01-08T09:00:00",
          "2024-01-08T10:00:00",
          "2024-01-08T10:30:00",
          "2024-01-08T14:40:00",
          "2024-01-08T15:45:00",
          "2024-01-08T17:55:00",
          "2024-01-08T18:30:00",
          "2024-01-08T19:15:00",
          "2024-01-10T08:30:00",
          "2024-01-10T09:40:00",
          "2024-01-10T10:25:00",
          "2024-01-10T11:45:00",
          "2024-01-10T14:00:00",
          "2024-01-12T08:15:00",
          "2024-01-12T09:30:00",
          "2024-01-12T10:00:00",
          "2024-01-12T11:00:00",
          "2024-01-12T11:45:00",
          "2024-01-12T14:00:00",
          "2024-01-13T08:05:00",
          "2024-01-13T09:20:00",
          "2024-01-13T10:30:00",
          "2024-01-13T11:15:00",
          "2024-01-13T11:45:00",
          "2024-01-13T12:30:00",
          "2024-01-13T13:15:00",
          "2024-01-14T08:15:00",
          "2024-01-14T09:35:00",
          "2024-01-14T10:40:00",
          "2024-01-14T11:15:00",
          "2024-01-14T11:45:00",
          "2024-01-14T12:30:00",
          "2024-01-14T13:30:00",
          "2024-01-14T17:30:00",
          "2024-01-14T18:15:00",
          "2024-01-15T08:30:00",
          "2024-01-15T09:45:00",
          "2024-01-15T10:35:00",
          "2024-01-15T11:35:00",
          "2024-01-15T12:30:00",
          "2024-01-15T14:40:00",
          "2024-01-15T15:50:00",
          "2024-01-15T17:10:00",
          "2024-01-15T18:00:00",
          "2024-01-15T19:05:00",
          "2024-01-16T08:10:00",
          "2024-01-16T09:20:00",
          "2024-01-16T10:00:00",
          "2024-01-16T11:05:00",
          "2024-01-16T11:50:00",
          "2024-01-16T14:05:00",
          "2024-01-16T15:55:00",
          "2024-01-16T17:15:00",
          "2024-01-16T18:00:00",
          "2024-01-17T07:30:00",
          "2024-01-17T08:30:00",
          "2024-01-17T09:50:00",
          "2024-01-17T10:40:00",
          "2024-01-17T12:00:00",
          "2024-01-17T14:30:00",
          "2024-01-17T17:00:00",
          "2024-01-17T17:45:00",
          "2024-01-17T18:50:00"
         ],
         "hovertemplate": "Resource=856089133<br>Start=%{base}<br>Finish=%{x}<br>Task=%{y}<extra></extra>",
         "legendgroup": "856089133",
         "marker": {
          "color": "#636efa",
          "pattern": {
           "shape": ""
          }
         },
         "name": "856089133",
         "offsetgroup": "856089133",
         "orientation": "h",
         "showlegend": true,
         "textposition": "auto",
         "type": "bar",
         "x": [
          3600000,
          2700000,
          3600000,
          1800000,
          1800000,
          900000,
          2700000,
          1800000,
          1800000,
          1800000,
          1800000,
          1800000,
          3600000,
          1800000,
          3600000,
          3600000,
          1800000,
          1800000,
          3600000,
          3600000,
          1800000,
          1800000,
          1800000,
          7200000,
          5400000,
          1800000,
          2700000,
          3600000,
          7200000,
          5400000,
          7200000,
          1800000,
          1800000,
          1800000,
          2700000,
          1800000,
          2700000,
          2700000,
          1800000,
          1800000,
          1800000,
          1800000,
          1800000,
          1800000,
          1800000,
          2700000,
          1800000,
          2700000,
          2700000,
          900000,
          2700000,
          1800000,
          1800000,
          1800000,
          1800000,
          1800000,
          2700000,
          1800000,
          2700000,
          1800000,
          3600000,
          3900000,
          3600000,
          1800000,
          1800000,
          1800000,
          3600000,
          2700000,
          3600000,
          3600000,
          5400000,
          3600000,
          1800000,
          3600000,
          1800000,
          2700000,
          7200000,
          3600000,
          3600000,
          1800000,
          1800000,
          1800000,
          1800000,
          1800000,
          3600000,
          3600000,
          1800000,
          1800000,
          1800000,
          2700000,
          1800000,
          1800000,
          2700000,
          3600000,
          2700000,
          3600000,
          2700000,
          2700000,
          3900000,
          3600000,
          1800000,
          2700000,
          2700000,
          3600000,
          1800000,
          3600000,
          1800000,
          2700000,
          5400000,
          3600000,
          1800000,
          2700000,
          2700000,
          3600000,
          2700000,
          3600000,
          2700000,
          7200000,
          1800000,
          2700000,
          2700000
         ],
         "xaxis": "x",
         "y": [
          "TOILETTE",
          "TOILETTE",
          "REPAS",
          "REPAS",
          "REPAS",
          "REPAS",
          "TOILETTE",
          "TOILETTE",
          "TOILETTE",
          "TOILETTE",
          "TOILETTE",
          "TOILETTE",
          "AIDE MENAGERE",
          "REPAS",
          "AIDE MENAGERE",
          "AIDE MENAGERE",
          "REPAS",
          "REPAS",
          "TOILETTE",
          "TOILETTE",
          "TOILETTE",
          "REPAS",
          "REPAS",
          "AIDE MENAGERE",
          "AIDE MENAGERE",
          "TOILETTE",
          "TOILETTE",
          "AIDE MENAGERE",
          "AIDE MENAGERE",
          "AIDE MENAGERE",
          "AIDE MENAGERE",
          "REPAS",
          "TOILETTE",
          "REPAS",
          "TOILETTE",
          "TOILETTE",
          "TOILETTE",
          "TOILETTE",
          "REPAS",
          "REPAS",
          "REPAS",
          "REPAS",
          "REPAS",
          "TOILETTE",
          "REPAS",
          "TOILETTE",
          "TOILETTE",
          "TOILETTE",
          "TOILETTE",
          "REPAS",
          "REPAS",
          "REPAS",
          "REPAS",
          "REPAS",
          "REPAS",
          "REPAS",
          "TOILETTE",
          "REPAS",
          "TOILETTE",
          "TOILETTE",
          "AIDE MENAGERE",
          "ACCOMPAGNEMENTS COURSES PA",
          "AIDE MENAGERE",
          "REPAS",
          "REPAS",
          "REPAS",
          "TOILETTE",
          "TOILETTE",
          "REPAS",
          "AIDE MENAGERE",
          "AIDE MENAGERE",
          "TOILETTE",
          "TOILETTE",
          "AIDE MENAGERE",
          "REPAS",
          "REPAS",
          "AIDE MENAGERE",
          "TOILETTE",
          "TOILETTE",
          "TOILETTE",
          "REPAS",
          "REPAS",
          "REPAS",
          "REPAS",
          "TOILETTE",
          "TOILETTE",
          "TOILETTE",
          "REPAS",
          "REPAS",
          "REPAS",
          "REPAS",
          "REPAS",
          "TOILETTE",
          "TOILETTE",
          "TOILETTE",
          "AIDE MENAGERE",
          "REPAS",
          "REPAS",
          "ACCOMPAGNEMENTS COURSES PA",
          "AIDE MENAGERE",
          "REPAS",
          "TOILETTE",
          "REPAS",
          "TOILETTE",
          "TOILETTE",
          "AIDE MENAGERE",
          "REPAS",
          "REPAS",
          "AIDE MENAGERE",
          "AIDE MENAGERE",
          "REPAS",
          "TOILETTE",
          "TOILETTE",
          "TOILETTE",
          "TOILETTE",
          "REPAS",
          "REPAS",
          "AIDE MENAGERE",
          "REPAS",
          "TOILETTE",
          "REPAS"
         ],
         "yaxis": "y"
        }
       ],
       "layout": {
        "barmode": "overlay",
        "legend": {
         "title": {
          "text": "Resource"
         },
         "tracegroupgap": 0
        },
        "margin": {
         "t": 60
        },
        "template": {
         "data": {
          "bar": [
           {
            "error_x": {
             "color": "#2a3f5f"
            },
            "error_y": {
             "color": "#2a3f5f"
            },
            "marker": {
             "line": {
              "color": "#E5ECF6",
              "width": 0.5
             },
             "pattern": {
              "fillmode": "overlay",
              "size": 10,
              "solidity": 0.2
             }
            },
            "type": "bar"
           }
          ],
          "barpolar": [
           {
            "marker": {
             "line": {
              "color": "#E5ECF6",
              "width": 0.5
             },
             "pattern": {
              "fillmode": "overlay",
              "size": 10,
              "solidity": 0.2
             }
            },
            "type": "barpolar"
           }
          ],
          "carpet": [
           {
            "aaxis": {
             "endlinecolor": "#2a3f5f",
             "gridcolor": "white",
             "linecolor": "white",
             "minorgridcolor": "white",
             "startlinecolor": "#2a3f5f"
            },
            "baxis": {
             "endlinecolor": "#2a3f5f",
             "gridcolor": "white",
             "linecolor": "white",
             "minorgridcolor": "white",
             "startlinecolor": "#2a3f5f"
            },
            "type": "carpet"
           }
          ],
          "choropleth": [
           {
            "colorbar": {
             "outlinewidth": 0,
             "ticks": ""
            },
            "type": "choropleth"
           }
          ],
          "contour": [
           {
            "colorbar": {
             "outlinewidth": 0,
             "ticks": ""
            },
            "colorscale": [
             [
              0,
              "#0d0887"
             ],
             [
              0.1111111111111111,
              "#46039f"
             ],
             [
              0.2222222222222222,
              "#7201a8"
             ],
             [
              0.3333333333333333,
              "#9c179e"
             ],
             [
              0.4444444444444444,
              "#bd3786"
             ],
             [
              0.5555555555555556,
              "#d8576b"
             ],
             [
              0.6666666666666666,
              "#ed7953"
             ],
             [
              0.7777777777777778,
              "#fb9f3a"
             ],
             [
              0.8888888888888888,
              "#fdca26"
             ],
             [
              1,
              "#f0f921"
             ]
            ],
            "type": "contour"
           }
          ],
          "contourcarpet": [
           {
            "colorbar": {
             "outlinewidth": 0,
             "ticks": ""
            },
            "type": "contourcarpet"
           }
          ],
          "heatmap": [
           {
            "colorbar": {
             "outlinewidth": 0,
             "ticks": ""
            },
            "colorscale": [
             [
              0,
              "#0d0887"
             ],
             [
              0.1111111111111111,
              "#46039f"
             ],
             [
              0.2222222222222222,
              "#7201a8"
             ],
             [
              0.3333333333333333,
              "#9c179e"
             ],
             [
              0.4444444444444444,
              "#bd3786"
             ],
             [
              0.5555555555555556,
              "#d8576b"
             ],
             [
              0.6666666666666666,
              "#ed7953"
             ],
             [
              0.7777777777777778,
              "#fb9f3a"
             ],
             [
              0.8888888888888888,
              "#fdca26"
             ],
             [
              1,
              "#f0f921"
             ]
            ],
            "type": "heatmap"
           }
          ],
          "heatmapgl": [
           {
            "colorbar": {
             "outlinewidth": 0,
             "ticks": ""
            },
            "colorscale": [
             [
              0,
              "#0d0887"
             ],
             [
              0.1111111111111111,
              "#46039f"
             ],
             [
              0.2222222222222222,
              "#7201a8"
             ],
             [
              0.3333333333333333,
              "#9c179e"
             ],
             [
              0.4444444444444444,
              "#bd3786"
             ],
             [
              0.5555555555555556,
              "#d8576b"
             ],
             [
              0.6666666666666666,
              "#ed7953"
             ],
             [
              0.7777777777777778,
              "#fb9f3a"
             ],
             [
              0.8888888888888888,
              "#fdca26"
             ],
             [
              1,
              "#f0f921"
             ]
            ],
            "type": "heatmapgl"
           }
          ],
          "histogram": [
           {
            "marker": {
             "pattern": {
              "fillmode": "overlay",
              "size": 10,
              "solidity": 0.2
             }
            },
            "type": "histogram"
           }
          ],
          "histogram2d": [
           {
            "colorbar": {
             "outlinewidth": 0,
             "ticks": ""
            },
            "colorscale": [
             [
              0,
              "#0d0887"
             ],
             [
              0.1111111111111111,
              "#46039f"
             ],
             [
              0.2222222222222222,
              "#7201a8"
             ],
             [
              0.3333333333333333,
              "#9c179e"
             ],
             [
              0.4444444444444444,
              "#bd3786"
             ],
             [
              0.5555555555555556,
              "#d8576b"
             ],
             [
              0.6666666666666666,
              "#ed7953"
             ],
             [
              0.7777777777777778,
              "#fb9f3a"
             ],
             [
              0.8888888888888888,
              "#fdca26"
             ],
             [
              1,
              "#f0f921"
             ]
            ],
            "type": "histogram2d"
           }
          ],
          "histogram2dcontour": [
           {
            "colorbar": {
             "outlinewidth": 0,
             "ticks": ""
            },
            "colorscale": [
             [
              0,
              "#0d0887"
             ],
             [
              0.1111111111111111,
              "#46039f"
             ],
             [
              0.2222222222222222,
              "#7201a8"
             ],
             [
              0.3333333333333333,
              "#9c179e"
             ],
             [
              0.4444444444444444,
              "#bd3786"
             ],
             [
              0.5555555555555556,
              "#d8576b"
             ],
             [
              0.6666666666666666,
              "#ed7953"
             ],
             [
              0.7777777777777778,
              "#fb9f3a"
             ],
             [
              0.8888888888888888,
              "#fdca26"
             ],
             [
              1,
              "#f0f921"
             ]
            ],
            "type": "histogram2dcontour"
           }
          ],
          "mesh3d": [
           {
            "colorbar": {
             "outlinewidth": 0,
             "ticks": ""
            },
            "type": "mesh3d"
           }
          ],
          "parcoords": [
           {
            "line": {
             "colorbar": {
              "outlinewidth": 0,
              "ticks": ""
             }
            },
            "type": "parcoords"
           }
          ],
          "pie": [
           {
            "automargin": true,
            "type": "pie"
           }
          ],
          "scatter": [
           {
            "fillpattern": {
             "fillmode": "overlay",
             "size": 10,
             "solidity": 0.2
            },
            "type": "scatter"
           }
          ],
          "scatter3d": [
           {
            "line": {
             "colorbar": {
              "outlinewidth": 0,
              "ticks": ""
             }
            },
            "marker": {
             "colorbar": {
              "outlinewidth": 0,
              "ticks": ""
             }
            },
            "type": "scatter3d"
           }
          ],
          "scattercarpet": [
           {
            "marker": {
             "colorbar": {
              "outlinewidth": 0,
              "ticks": ""
             }
            },
            "type": "scattercarpet"
           }
          ],
          "scattergeo": [
           {
            "marker": {
             "colorbar": {
              "outlinewidth": 0,
              "ticks": ""
             }
            },
            "type": "scattergeo"
           }
          ],
          "scattergl": [
           {
            "marker": {
             "colorbar": {
              "outlinewidth": 0,
              "ticks": ""
             }
            },
            "type": "scattergl"
           }
          ],
          "scattermapbox": [
           {
            "marker": {
             "colorbar": {
              "outlinewidth": 0,
              "ticks": ""
             }
            },
            "type": "scattermapbox"
           }
          ],
          "scatterpolar": [
           {
            "marker": {
             "colorbar": {
              "outlinewidth": 0,
              "ticks": ""
             }
            },
            "type": "scatterpolar"
           }
          ],
          "scatterpolargl": [
           {
            "marker": {
             "colorbar": {
              "outlinewidth": 0,
              "ticks": ""
             }
            },
            "type": "scatterpolargl"
           }
          ],
          "scatterternary": [
           {
            "marker": {
             "colorbar": {
              "outlinewidth": 0,
              "ticks": ""
             }
            },
            "type": "scatterternary"
           }
          ],
          "surface": [
           {
            "colorbar": {
             "outlinewidth": 0,
             "ticks": ""
            },
            "colorscale": [
             [
              0,
              "#0d0887"
             ],
             [
              0.1111111111111111,
              "#46039f"
             ],
             [
              0.2222222222222222,
              "#7201a8"
             ],
             [
              0.3333333333333333,
              "#9c179e"
             ],
             [
              0.4444444444444444,
              "#bd3786"
             ],
             [
              0.5555555555555556,
              "#d8576b"
             ],
             [
              0.6666666666666666,
              "#ed7953"
             ],
             [
              0.7777777777777778,
              "#fb9f3a"
             ],
             [
              0.8888888888888888,
              "#fdca26"
             ],
             [
              1,
              "#f0f921"
             ]
            ],
            "type": "surface"
           }
          ],
          "table": [
           {
            "cells": {
             "fill": {
              "color": "#EBF0F8"
             },
             "line": {
              "color": "white"
             }
            },
            "header": {
             "fill": {
              "color": "#C8D4E3"
             },
             "line": {
              "color": "white"
             }
            },
            "type": "table"
           }
          ]
         },
         "layout": {
          "annotationdefaults": {
           "arrowcolor": "#2a3f5f",
           "arrowhead": 0,
           "arrowwidth": 1
          },
          "autotypenumbers": "strict",
          "coloraxis": {
           "colorbar": {
            "outlinewidth": 0,
            "ticks": ""
           }
          },
          "colorscale": {
           "diverging": [
            [
             0,
             "#8e0152"
            ],
            [
             0.1,
             "#c51b7d"
            ],
            [
             0.2,
             "#de77ae"
            ],
            [
             0.3,
             "#f1b6da"
            ],
            [
             0.4,
             "#fde0ef"
            ],
            [
             0.5,
             "#f7f7f7"
            ],
            [
             0.6,
             "#e6f5d0"
            ],
            [
             0.7,
             "#b8e186"
            ],
            [
             0.8,
             "#7fbc41"
            ],
            [
             0.9,
             "#4d9221"
            ],
            [
             1,
             "#276419"
            ]
           ],
           "sequential": [
            [
             0,
             "#0d0887"
            ],
            [
             0.1111111111111111,
             "#46039f"
            ],
            [
             0.2222222222222222,
             "#7201a8"
            ],
            [
             0.3333333333333333,
             "#9c179e"
            ],
            [
             0.4444444444444444,
             "#bd3786"
            ],
            [
             0.5555555555555556,
             "#d8576b"
            ],
            [
             0.6666666666666666,
             "#ed7953"
            ],
            [
             0.7777777777777778,
             "#fb9f3a"
            ],
            [
             0.8888888888888888,
             "#fdca26"
            ],
            [
             1,
             "#f0f921"
            ]
           ],
           "sequentialminus": [
            [
             0,
             "#0d0887"
            ],
            [
             0.1111111111111111,
             "#46039f"
            ],
            [
             0.2222222222222222,
             "#7201a8"
            ],
            [
             0.3333333333333333,
             "#9c179e"
            ],
            [
             0.4444444444444444,
             "#bd3786"
            ],
            [
             0.5555555555555556,
             "#d8576b"
            ],
            [
             0.6666666666666666,
             "#ed7953"
            ],
            [
             0.7777777777777778,
             "#fb9f3a"
            ],
            [
             0.8888888888888888,
             "#fdca26"
            ],
            [
             1,
             "#f0f921"
            ]
           ]
          },
          "colorway": [
           "#636efa",
           "#EF553B",
           "#00cc96",
           "#ab63fa",
           "#FFA15A",
           "#19d3f3",
           "#FF6692",
           "#B6E880",
           "#FF97FF",
           "#FECB52"
          ],
          "font": {
           "color": "#2a3f5f"
          },
          "geo": {
           "bgcolor": "white",
           "lakecolor": "white",
           "landcolor": "#E5ECF6",
           "showlakes": true,
           "showland": true,
           "subunitcolor": "white"
          },
          "hoverlabel": {
           "align": "left"
          },
          "hovermode": "closest",
          "mapbox": {
           "style": "light"
          },
          "paper_bgcolor": "white",
          "plot_bgcolor": "#E5ECF6",
          "polar": {
           "angularaxis": {
            "gridcolor": "white",
            "linecolor": "white",
            "ticks": ""
           },
           "bgcolor": "#E5ECF6",
           "radialaxis": {
            "gridcolor": "white",
            "linecolor": "white",
            "ticks": ""
           }
          },
          "scene": {
           "xaxis": {
            "backgroundcolor": "#E5ECF6",
            "gridcolor": "white",
            "gridwidth": 2,
            "linecolor": "white",
            "showbackground": true,
            "ticks": "",
            "zerolinecolor": "white"
           },
           "yaxis": {
            "backgroundcolor": "#E5ECF6",
            "gridcolor": "white",
            "gridwidth": 2,
            "linecolor": "white",
            "showbackground": true,
            "ticks": "",
            "zerolinecolor": "white"
           },
           "zaxis": {
            "backgroundcolor": "#E5ECF6",
            "gridcolor": "white",
            "gridwidth": 2,
            "linecolor": "white",
            "showbackground": true,
            "ticks": "",
            "zerolinecolor": "white"
           }
          },
          "shapedefaults": {
           "line": {
            "color": "#2a3f5f"
           }
          },
          "ternary": {
           "aaxis": {
            "gridcolor": "white",
            "linecolor": "white",
            "ticks": ""
           },
           "baxis": {
            "gridcolor": "white",
            "linecolor": "white",
            "ticks": ""
           },
           "bgcolor": "#E5ECF6",
           "caxis": {
            "gridcolor": "white",
            "linecolor": "white",
            "ticks": ""
           }
          },
          "title": {
           "x": 0.05
          },
          "xaxis": {
           "automargin": true,
           "gridcolor": "white",
           "linecolor": "white",
           "ticks": "",
           "title": {
            "standoff": 15
           },
           "zerolinecolor": "white",
           "zerolinewidth": 2
          },
          "yaxis": {
           "automargin": true,
           "gridcolor": "white",
           "linecolor": "white",
           "ticks": "",
           "title": {
            "standoff": 15
           },
           "zerolinecolor": "white",
           "zerolinewidth": 2
          }
         }
        },
        "title": {
         "text": "Agenda for Intervenant ID: 856089133"
        },
        "xaxis": {
         "anchor": "y",
         "domain": [
          0,
          1
         ],
         "rangeselector": {
          "buttons": [
           {
            "count": 1,
            "label": "1D",
            "step": "day",
            "stepmode": "backward"
           },
           {
            "count": 7,
            "label": "1W",
            "step": "day",
            "stepmode": "backward"
           },
           {
            "step": "all"
           }
          ]
         },
         "rangeslider": {
          "visible": true
         },
         "type": "date"
        },
        "yaxis": {
         "anchor": "x",
         "autorange": "reversed",
         "domain": [
          0,
          1
         ],
         "title": {
          "text": "Task"
         }
        }
       }
      }
     },
     "metadata": {},
     "output_type": "display_data"
    },
    {
     "data": {
      "application/vnd.plotly.v1+json": {
       "config": {
        "plotlyServerURL": "https://plot.ly"
       },
       "data": [
        {
         "alignmentgroup": "True",
         "base": [
          "2024-01-02T07:30:00",
          "2024-01-02T08:30:00",
          "2024-01-02T09:20:00",
          "2024-01-02T10:05:00",
          "2024-01-02T11:05:00",
          "2024-01-02T12:00:00",
          "2024-01-02T12:15:00",
          "2024-01-02T14:45:00",
          "2024-01-03T07:45:00",
          "2024-01-03T08:30:00",
          "2024-01-03T10:15:00",
          "2024-01-03T12:30:00",
          "2024-01-03T15:00:00",
          "2024-01-03T17:30:00",
          "2024-01-04T07:45:00",
          "2024-01-04T08:30:00",
          "2024-01-04T10:30:00",
          "2024-01-04T14:35:00",
          "2024-01-04T16:25:00",
          "2024-01-04T17:30:00",
          "2024-01-05T07:20:00",
          "2024-01-05T07:50:00",
          "2024-01-05T08:30:00",
          "2024-01-05T10:15:00",
          "2024-01-05T11:00:00",
          "2024-01-05T12:15:00",
          "2024-01-05T14:00:00",
          "2024-01-05T16:25:00",
          "2024-01-05T17:25:00",
          "2024-01-05T18:05:00",
          "2024-01-05T18:45:00",
          "2024-01-10T07:50:00",
          "2024-01-10T08:30:00",
          "2024-01-10T10:30:00",
          "2024-01-10T11:25:00",
          "2024-01-10T11:55:00",
          "2024-01-10T12:50:00",
          "2024-01-10T15:10:00",
          "2024-01-10T16:25:00",
          "2024-01-11T08:30:00",
          "2024-01-11T10:15:00",
          "2024-01-11T11:20:00",
          "2024-01-11T12:00:00",
          "2024-01-11T14:30:00",
          "2024-01-11T16:25:00",
          "2024-01-11T17:20:00",
          "2024-01-11T18:05:00",
          "2024-01-11T18:50:00",
          "2024-01-12T07:20:00",
          "2024-01-12T07:50:00",
          "2024-01-12T08:30:00",
          "2024-01-12T10:15:00",
          "2024-01-12T10:50:00",
          "2024-01-12T12:05:00",
          "2024-01-12T16:20:00",
          "2024-01-12T17:20:00",
          "2024-01-12T18:05:00",
          "2024-01-12T18:50:00",
          "2024-01-12T19:45:00",
          "2024-01-13T07:15:00",
          "2024-01-13T07:45:00",
          "2024-01-13T08:25:00",
          "2024-01-13T09:00:00",
          "2024-01-13T09:55:00",
          "2024-01-13T10:35:00",
          "2024-01-13T11:40:00",
          "2024-01-13T18:00:00",
          "2024-01-13T18:45:00",
          "2024-01-13T19:15:00",
          "2024-01-13T20:00:00",
          "2024-01-16T08:30:00",
          "2024-01-16T10:15:00",
          "2024-01-16T11:00:00",
          "2024-01-16T11:45:00",
          "2024-01-16T14:30:00",
          "2024-01-16T16:25:00",
          "2024-01-16T17:30:00",
          "2024-01-16T18:10:00",
          "2024-01-16T18:45:00",
          "2024-01-17T07:50:00",
          "2024-01-17T08:30:00",
          "2024-01-17T10:15:00",
          "2024-01-17T11:00:00",
          "2024-01-17T12:00:00",
          "2024-01-17T14:00:00",
          "2024-01-17T15:40:00",
          "2024-01-17T16:25:00",
          "2024-01-17T17:30:00",
          "2024-01-18T07:10:00",
          "2024-01-18T07:40:00",
          "2024-01-18T08:30:00",
          "2024-01-18T10:15:00",
          "2024-01-18T11:00:00",
          "2024-01-18T11:45:00",
          "2024-01-18T14:30:00",
          "2024-01-18T16:25:00",
          "2024-01-18T17:20:00",
          "2024-01-18T17:55:00",
          "2024-01-18T18:40:00",
          "2024-01-19T07:20:00",
          "2024-01-19T07:50:00",
          "2024-01-19T08:30:00",
          "2024-01-19T10:00:00",
          "2024-01-19T10:55:00",
          "2024-01-19T11:25:00",
          "2024-01-19T12:30:00",
          "2024-01-19T16:25:00",
          "2024-01-19T17:30:00",
          "2024-01-19T18:15:00",
          "2024-01-19T19:15:00",
          "2024-01-20T07:20:00",
          "2024-01-20T07:50:00",
          "2024-01-20T08:30:00",
          "2024-01-20T09:05:00",
          "2024-01-20T10:05:00",
          "2024-01-20T10:50:00",
          "2024-01-20T11:35:00",
          "2024-01-20T12:20:00",
          "2024-01-20T17:00:00",
          "2024-01-20T18:00:00",
          "2024-01-20T18:45:00",
          "2024-01-20T19:20:00",
          "2024-01-21T07:20:00",
          "2024-01-21T07:50:00",
          "2024-01-21T08:30:00",
          "2024-01-21T09:05:00",
          "2024-01-21T10:05:00",
          "2024-01-21T10:50:00",
          "2024-01-21T11:45:00",
          "2024-01-21T17:30:00",
          "2024-01-21T18:15:00",
          "2024-01-21T19:15:00",
          "2024-01-23T08:30:00",
          "2024-01-23T10:20:00",
          "2024-01-23T11:00:00",
          "2024-01-23T12:15:00",
          "2024-01-23T16:25:00",
          "2024-01-23T17:30:00",
          "2024-01-23T18:45:00",
          "2024-01-24T08:00:00",
          "2024-01-24T09:00:00",
          "2024-01-24T10:00:00",
          "2024-01-24T10:45:00",
          "2024-01-24T12:00:00",
          "2024-01-24T15:10:00",
          "2024-01-24T16:25:00",
          "2024-01-24T17:35:00",
          "2024-01-24T18:15:00",
          "2024-01-25T08:30:00",
          "2024-01-25T10:20:00",
          "2024-01-25T11:00:00",
          "2024-01-25T12:15:00",
          "2024-01-25T15:10:00",
          "2024-01-25T16:25:00",
          "2024-01-25T17:30:00",
          "2024-01-25T18:45:00",
          "2024-01-26T07:20:00",
          "2024-01-26T07:50:00",
          "2024-01-26T08:30:00",
          "2024-01-26T10:15:00",
          "2024-01-26T11:00:00",
          "2024-01-26T12:15:00",
          "2024-01-26T16:25:00",
          "2024-01-26T17:30:00",
          "2024-01-26T18:10:00",
          "2024-01-26T19:10:00",
          "2024-01-30T07:50:00",
          "2024-01-30T08:30:00",
          "2024-01-30T10:20:00",
          "2024-01-30T11:00:00",
          "2024-01-30T12:15:00",
          "2024-01-30T16:25:00",
          "2024-01-30T17:30:00",
          "2024-01-30T18:45:00",
          "2024-01-31T08:25:00",
          "2024-01-31T09:20:00",
          "2024-01-31T10:15:00",
          "2024-01-31T11:00:00",
          "2024-01-31T12:10:00",
          "2024-01-31T14:40:00",
          "2024-01-31T16:25:00",
          "2024-01-31T17:30:00",
          "2024-01-31T18:45:00"
         ],
         "hovertemplate": "Resource=842621873<br>Start=%{base}<br>Finish=%{x}<br>Task=%{y}<extra></extra>",
         "legendgroup": "842621873",
         "marker": {
          "color": "#636efa",
          "pattern": {
           "shape": ""
          }
         },
         "name": "842621873",
         "offsetgroup": "842621873",
         "orientation": "h",
         "showlegend": true,
         "textposition": "auto",
         "type": "bar",
         "x": [
          2700000,
          2700000,
          1800000,
          2700000,
          2700000,
          900000,
          2700000,
          7200000,
          1800000,
          5400000,
          7200000,
          1800000,
          7200000,
          1800000,
          1800000,
          5400000,
          5400000,
          5400000,
          2700000,
          900000,
          1800000,
          1800000,
          5400000,
          1800000,
          3600000,
          1800000,
          7200000,
          2700000,
          1800000,
          1800000,
          3600000,
          1800000,
          5400000,
          1800000,
          1800000,
          1800000,
          1800000,
          3600000,
          2700000,
          5400000,
          2700000,
          1800000,
          2700000,
          3600000,
          2700000,
          1800000,
          1800000,
          2700000,
          1800000,
          1800000,
          5400000,
          900000,
          3600000,
          1800000,
          2700000,
          1800000,
          1800000,
          2700000,
          1800000,
          1800000,
          1800000,
          1800000,
          2700000,
          1800000,
          2700000,
          2700000,
          1800000,
          1800000,
          1800000,
          1800000,
          5400000,
          1800000,
          2700000,
          3600000,
          5400000,
          2700000,
          1800000,
          1800000,
          1800000,
          1800000,
          5400000,
          1800000,
          2700000,
          2700000,
          5400000,
          1800000,
          2700000,
          1800000,
          1800000,
          2700000,
          5400000,
          1800000,
          1800000,
          1800000,
          5400000,
          2700000,
          1800000,
          1800000,
          2700000,
          1800000,
          1800000,
          5400000,
          2700000,
          1800000,
          3600000,
          2700000,
          2700000,
          1800000,
          2700000,
          1800000,
          1800000,
          1800000,
          1800000,
          2700000,
          1800000,
          1800000,
          1800000,
          3600000,
          2700000,
          1800000,
          1800000,
          1800000,
          1800000,
          1800000,
          1800000,
          2700000,
          1800000,
          1800000,
          3600000,
          1800000,
          2700000,
          1800000,
          5400000,
          1800000,
          3600000,
          2700000,
          2700000,
          3600000,
          2700000,
          2700000,
          2700000,
          1800000,
          3600000,
          1800000,
          3600000,
          2700000,
          1800000,
          2700000,
          5400000,
          1800000,
          3600000,
          2700000,
          3600000,
          2700000,
          3600000,
          2700000,
          1800000,
          1800000,
          5400000,
          1800000,
          3600000,
          2700000,
          2700000,
          1800000,
          2700000,
          1800000,
          1800000,
          5400000,
          1800000,
          3600000,
          3600000,
          2700000,
          3600000,
          3600000,
          2700000,
          2700000,
          1800000,
          3600000,
          2700000,
          5400000,
          2700000,
          3600000,
          4500000
         ],
         "xaxis": "x",
         "y": [
          "TOILETTE",
          "TOILETTE",
          "TOILETTE",
          "TOILETTE",
          "TOILETTE",
          "REPAS",
          "REPAS",
          "AIDE MENAGERE",
          "TOILETTE",
          "TOILETTE",
          "ACCOMPAGNEMENTS COURSES PA",
          "REPAS",
          "ACCOMPAGNEMENTS COURSES PA",
          "REPAS",
          "TOILETTE",
          "TOILETTE",
          "AIDE MENAGERE",
          "AIDE MENAGERE",
          "TOILETTE",
          "VIE SOCIALE",
          "REPAS",
          "TOILETTE",
          "TOILETTE",
          "TOILETTE",
          "TOILETTE",
          "REPAS",
          "AIDE MENAGERE",
          "TOILETTE",
          "TOILETTE",
          "TOILETTE",
          "TOILETTE",
          "TOILETTE",
          "TOILETTE",
          "TOILETTE",
          "TOILETTE",
          "TOILETTE",
          "REPAS",
          "VIE SOCIALE",
          "TOILETTE",
          "TOILETTE",
          "TOILETTE",
          "REPAS",
          "REPAS",
          "AIDE MENAGERE",
          "TOILETTE",
          "REPAS",
          "REPAS",
          "TOILETTE",
          "REPAS",
          "TOILETTE",
          "TOILETTE",
          "ACCOMPAGNEMENTS COURSES PA",
          "ACCOMPAGNEMENTS COURSES PA",
          "REPAS",
          "TOILETTE",
          "REPAS",
          "REPAS",
          "TOILETTE",
          "REPAS",
          "REPAS",
          "TOILETTE",
          "REPAS",
          "TOILETTE",
          "TOILETTE",
          "TOILETTE",
          "REPAS",
          "TOILETTE",
          "REPAS",
          "REPAS",
          "TOILETTE",
          "TOILETTE",
          "TOILETTE",
          "TOILETTE",
          "AIDE MENAGERE",
          "VIE SOCIALE",
          "TOILETTE",
          "REPAS",
          "REPAS",
          "REPAS",
          "REPAS",
          "TOILETTE",
          "TOILETTE",
          "TOILETTE",
          "REPAS",
          "AIDE MENAGERE",
          "ACCOMPAGNEMENTS COURSES PA",
          "TOILETTE",
          "REPAS",
          "REPAS",
          "TOILETTE",
          "TOILETTE",
          "TOILETTE",
          "REPAS",
          "REPAS",
          "AIDE MENAGERE",
          "TOILETTE",
          "REPAS",
          "REPAS",
          "TOILETTE",
          "REPAS",
          "TOILETTE",
          "TOILETTE",
          "TOILETTE",
          "TOILETTE",
          "REPAS",
          "REPAS",
          "TOILETTE",
          "REPAS",
          "TOILETTE",
          "REPAS",
          "REPAS",
          "TOILETTE",
          "REPAS",
          "TOILETTE",
          "TOILETTE",
          "TOILETTE",
          "REPAS",
          "REPAS",
          "TOILETTE",
          "TOILETTE",
          "REPAS",
          "REPAS",
          "REPAS",
          "TOILETTE",
          "REPAS",
          "TOILETTE",
          "TOILETTE",
          "TOILETTE",
          "REPAS",
          "REPAS",
          "TOILETTE",
          "TOILETTE",
          "TOILETTE",
          "TOILETTE",
          "REPAS",
          "REPAS",
          "TOILETTE",
          "REPAS",
          "TOILETTE",
          "TOILETTE",
          "TOILETTE",
          "TOILETTE",
          "REPAS",
          "REPAS",
          "VIE SOCIALE",
          "TOILETTE",
          "REPAS",
          "TOILETTE",
          "TOILETTE",
          "TOILETTE",
          "REPAS",
          "REPAS",
          "VIE SOCIALE",
          "TOILETTE",
          "REPAS",
          "TOILETTE",
          "REPAS",
          "TOILETTE",
          "TOILETTE",
          "TOILETTE",
          "REPAS",
          "REPAS",
          "TOILETTE",
          "REPAS",
          "TOILETTE",
          "REPAS",
          "TOILETTE",
          "TOILETTE",
          "TOILETTE",
          "REPAS",
          "REPAS",
          "TOILETTE",
          "REPAS",
          "TOILETTE",
          "TOILETTE",
          "TOILETTE",
          "TOILETTE",
          "REPAS",
          "REPAS",
          "AIDE MENAGERE",
          "TOILETTE",
          "REPAS",
          "TOILETTE"
         ],
         "yaxis": "y"
        }
       ],
       "layout": {
        "barmode": "overlay",
        "legend": {
         "title": {
          "text": "Resource"
         },
         "tracegroupgap": 0
        },
        "margin": {
         "t": 60
        },
        "template": {
         "data": {
          "bar": [
           {
            "error_x": {
             "color": "#2a3f5f"
            },
            "error_y": {
             "color": "#2a3f5f"
            },
            "marker": {
             "line": {
              "color": "#E5ECF6",
              "width": 0.5
             },
             "pattern": {
              "fillmode": "overlay",
              "size": 10,
              "solidity": 0.2
             }
            },
            "type": "bar"
           }
          ],
          "barpolar": [
           {
            "marker": {
             "line": {
              "color": "#E5ECF6",
              "width": 0.5
             },
             "pattern": {
              "fillmode": "overlay",
              "size": 10,
              "solidity": 0.2
             }
            },
            "type": "barpolar"
           }
          ],
          "carpet": [
           {
            "aaxis": {
             "endlinecolor": "#2a3f5f",
             "gridcolor": "white",
             "linecolor": "white",
             "minorgridcolor": "white",
             "startlinecolor": "#2a3f5f"
            },
            "baxis": {
             "endlinecolor": "#2a3f5f",
             "gridcolor": "white",
             "linecolor": "white",
             "minorgridcolor": "white",
             "startlinecolor": "#2a3f5f"
            },
            "type": "carpet"
           }
          ],
          "choropleth": [
           {
            "colorbar": {
             "outlinewidth": 0,
             "ticks": ""
            },
            "type": "choropleth"
           }
          ],
          "contour": [
           {
            "colorbar": {
             "outlinewidth": 0,
             "ticks": ""
            },
            "colorscale": [
             [
              0,
              "#0d0887"
             ],
             [
              0.1111111111111111,
              "#46039f"
             ],
             [
              0.2222222222222222,
              "#7201a8"
             ],
             [
              0.3333333333333333,
              "#9c179e"
             ],
             [
              0.4444444444444444,
              "#bd3786"
             ],
             [
              0.5555555555555556,
              "#d8576b"
             ],
             [
              0.6666666666666666,
              "#ed7953"
             ],
             [
              0.7777777777777778,
              "#fb9f3a"
             ],
             [
              0.8888888888888888,
              "#fdca26"
             ],
             [
              1,
              "#f0f921"
             ]
            ],
            "type": "contour"
           }
          ],
          "contourcarpet": [
           {
            "colorbar": {
             "outlinewidth": 0,
             "ticks": ""
            },
            "type": "contourcarpet"
           }
          ],
          "heatmap": [
           {
            "colorbar": {
             "outlinewidth": 0,
             "ticks": ""
            },
            "colorscale": [
             [
              0,
              "#0d0887"
             ],
             [
              0.1111111111111111,
              "#46039f"
             ],
             [
              0.2222222222222222,
              "#7201a8"
             ],
             [
              0.3333333333333333,
              "#9c179e"
             ],
             [
              0.4444444444444444,
              "#bd3786"
             ],
             [
              0.5555555555555556,
              "#d8576b"
             ],
             [
              0.6666666666666666,
              "#ed7953"
             ],
             [
              0.7777777777777778,
              "#fb9f3a"
             ],
             [
              0.8888888888888888,
              "#fdca26"
             ],
             [
              1,
              "#f0f921"
             ]
            ],
            "type": "heatmap"
           }
          ],
          "heatmapgl": [
           {
            "colorbar": {
             "outlinewidth": 0,
             "ticks": ""
            },
            "colorscale": [
             [
              0,
              "#0d0887"
             ],
             [
              0.1111111111111111,
              "#46039f"
             ],
             [
              0.2222222222222222,
              "#7201a8"
             ],
             [
              0.3333333333333333,
              "#9c179e"
             ],
             [
              0.4444444444444444,
              "#bd3786"
             ],
             [
              0.5555555555555556,
              "#d8576b"
             ],
             [
              0.6666666666666666,
              "#ed7953"
             ],
             [
              0.7777777777777778,
              "#fb9f3a"
             ],
             [
              0.8888888888888888,
              "#fdca26"
             ],
             [
              1,
              "#f0f921"
             ]
            ],
            "type": "heatmapgl"
           }
          ],
          "histogram": [
           {
            "marker": {
             "pattern": {
              "fillmode": "overlay",
              "size": 10,
              "solidity": 0.2
             }
            },
            "type": "histogram"
           }
          ],
          "histogram2d": [
           {
            "colorbar": {
             "outlinewidth": 0,
             "ticks": ""
            },
            "colorscale": [
             [
              0,
              "#0d0887"
             ],
             [
              0.1111111111111111,
              "#46039f"
             ],
             [
              0.2222222222222222,
              "#7201a8"
             ],
             [
              0.3333333333333333,
              "#9c179e"
             ],
             [
              0.4444444444444444,
              "#bd3786"
             ],
             [
              0.5555555555555556,
              "#d8576b"
             ],
             [
              0.6666666666666666,
              "#ed7953"
             ],
             [
              0.7777777777777778,
              "#fb9f3a"
             ],
             [
              0.8888888888888888,
              "#fdca26"
             ],
             [
              1,
              "#f0f921"
             ]
            ],
            "type": "histogram2d"
           }
          ],
          "histogram2dcontour": [
           {
            "colorbar": {
             "outlinewidth": 0,
             "ticks": ""
            },
            "colorscale": [
             [
              0,
              "#0d0887"
             ],
             [
              0.1111111111111111,
              "#46039f"
             ],
             [
              0.2222222222222222,
              "#7201a8"
             ],
             [
              0.3333333333333333,
              "#9c179e"
             ],
             [
              0.4444444444444444,
              "#bd3786"
             ],
             [
              0.5555555555555556,
              "#d8576b"
             ],
             [
              0.6666666666666666,
              "#ed7953"
             ],
             [
              0.7777777777777778,
              "#fb9f3a"
             ],
             [
              0.8888888888888888,
              "#fdca26"
             ],
             [
              1,
              "#f0f921"
             ]
            ],
            "type": "histogram2dcontour"
           }
          ],
          "mesh3d": [
           {
            "colorbar": {
             "outlinewidth": 0,
             "ticks": ""
            },
            "type": "mesh3d"
           }
          ],
          "parcoords": [
           {
            "line": {
             "colorbar": {
              "outlinewidth": 0,
              "ticks": ""
             }
            },
            "type": "parcoords"
           }
          ],
          "pie": [
           {
            "automargin": true,
            "type": "pie"
           }
          ],
          "scatter": [
           {
            "fillpattern": {
             "fillmode": "overlay",
             "size": 10,
             "solidity": 0.2
            },
            "type": "scatter"
           }
          ],
          "scatter3d": [
           {
            "line": {
             "colorbar": {
              "outlinewidth": 0,
              "ticks": ""
             }
            },
            "marker": {
             "colorbar": {
              "outlinewidth": 0,
              "ticks": ""
             }
            },
            "type": "scatter3d"
           }
          ],
          "scattercarpet": [
           {
            "marker": {
             "colorbar": {
              "outlinewidth": 0,
              "ticks": ""
             }
            },
            "type": "scattercarpet"
           }
          ],
          "scattergeo": [
           {
            "marker": {
             "colorbar": {
              "outlinewidth": 0,
              "ticks": ""
             }
            },
            "type": "scattergeo"
           }
          ],
          "scattergl": [
           {
            "marker": {
             "colorbar": {
              "outlinewidth": 0,
              "ticks": ""
             }
            },
            "type": "scattergl"
           }
          ],
          "scattermapbox": [
           {
            "marker": {
             "colorbar": {
              "outlinewidth": 0,
              "ticks": ""
             }
            },
            "type": "scattermapbox"
           }
          ],
          "scatterpolar": [
           {
            "marker": {
             "colorbar": {
              "outlinewidth": 0,
              "ticks": ""
             }
            },
            "type": "scatterpolar"
           }
          ],
          "scatterpolargl": [
           {
            "marker": {
             "colorbar": {
              "outlinewidth": 0,
              "ticks": ""
             }
            },
            "type": "scatterpolargl"
           }
          ],
          "scatterternary": [
           {
            "marker": {
             "colorbar": {
              "outlinewidth": 0,
              "ticks": ""
             }
            },
            "type": "scatterternary"
           }
          ],
          "surface": [
           {
            "colorbar": {
             "outlinewidth": 0,
             "ticks": ""
            },
            "colorscale": [
             [
              0,
              "#0d0887"
             ],
             [
              0.1111111111111111,
              "#46039f"
             ],
             [
              0.2222222222222222,
              "#7201a8"
             ],
             [
              0.3333333333333333,
              "#9c179e"
             ],
             [
              0.4444444444444444,
              "#bd3786"
             ],
             [
              0.5555555555555556,
              "#d8576b"
             ],
             [
              0.6666666666666666,
              "#ed7953"
             ],
             [
              0.7777777777777778,
              "#fb9f3a"
             ],
             [
              0.8888888888888888,
              "#fdca26"
             ],
             [
              1,
              "#f0f921"
             ]
            ],
            "type": "surface"
           }
          ],
          "table": [
           {
            "cells": {
             "fill": {
              "color": "#EBF0F8"
             },
             "line": {
              "color": "white"
             }
            },
            "header": {
             "fill": {
              "color": "#C8D4E3"
             },
             "line": {
              "color": "white"
             }
            },
            "type": "table"
           }
          ]
         },
         "layout": {
          "annotationdefaults": {
           "arrowcolor": "#2a3f5f",
           "arrowhead": 0,
           "arrowwidth": 1
          },
          "autotypenumbers": "strict",
          "coloraxis": {
           "colorbar": {
            "outlinewidth": 0,
            "ticks": ""
           }
          },
          "colorscale": {
           "diverging": [
            [
             0,
             "#8e0152"
            ],
            [
             0.1,
             "#c51b7d"
            ],
            [
             0.2,
             "#de77ae"
            ],
            [
             0.3,
             "#f1b6da"
            ],
            [
             0.4,
             "#fde0ef"
            ],
            [
             0.5,
             "#f7f7f7"
            ],
            [
             0.6,
             "#e6f5d0"
            ],
            [
             0.7,
             "#b8e186"
            ],
            [
             0.8,
             "#7fbc41"
            ],
            [
             0.9,
             "#4d9221"
            ],
            [
             1,
             "#276419"
            ]
           ],
           "sequential": [
            [
             0,
             "#0d0887"
            ],
            [
             0.1111111111111111,
             "#46039f"
            ],
            [
             0.2222222222222222,
             "#7201a8"
            ],
            [
             0.3333333333333333,
             "#9c179e"
            ],
            [
             0.4444444444444444,
             "#bd3786"
            ],
            [
             0.5555555555555556,
             "#d8576b"
            ],
            [
             0.6666666666666666,
             "#ed7953"
            ],
            [
             0.7777777777777778,
             "#fb9f3a"
            ],
            [
             0.8888888888888888,
             "#fdca26"
            ],
            [
             1,
             "#f0f921"
            ]
           ],
           "sequentialminus": [
            [
             0,
             "#0d0887"
            ],
            [
             0.1111111111111111,
             "#46039f"
            ],
            [
             0.2222222222222222,
             "#7201a8"
            ],
            [
             0.3333333333333333,
             "#9c179e"
            ],
            [
             0.4444444444444444,
             "#bd3786"
            ],
            [
             0.5555555555555556,
             "#d8576b"
            ],
            [
             0.6666666666666666,
             "#ed7953"
            ],
            [
             0.7777777777777778,
             "#fb9f3a"
            ],
            [
             0.8888888888888888,
             "#fdca26"
            ],
            [
             1,
             "#f0f921"
            ]
           ]
          },
          "colorway": [
           "#636efa",
           "#EF553B",
           "#00cc96",
           "#ab63fa",
           "#FFA15A",
           "#19d3f3",
           "#FF6692",
           "#B6E880",
           "#FF97FF",
           "#FECB52"
          ],
          "font": {
           "color": "#2a3f5f"
          },
          "geo": {
           "bgcolor": "white",
           "lakecolor": "white",
           "landcolor": "#E5ECF6",
           "showlakes": true,
           "showland": true,
           "subunitcolor": "white"
          },
          "hoverlabel": {
           "align": "left"
          },
          "hovermode": "closest",
          "mapbox": {
           "style": "light"
          },
          "paper_bgcolor": "white",
          "plot_bgcolor": "#E5ECF6",
          "polar": {
           "angularaxis": {
            "gridcolor": "white",
            "linecolor": "white",
            "ticks": ""
           },
           "bgcolor": "#E5ECF6",
           "radialaxis": {
            "gridcolor": "white",
            "linecolor": "white",
            "ticks": ""
           }
          },
          "scene": {
           "xaxis": {
            "backgroundcolor": "#E5ECF6",
            "gridcolor": "white",
            "gridwidth": 2,
            "linecolor": "white",
            "showbackground": true,
            "ticks": "",
            "zerolinecolor": "white"
           },
           "yaxis": {
            "backgroundcolor": "#E5ECF6",
            "gridcolor": "white",
            "gridwidth": 2,
            "linecolor": "white",
            "showbackground": true,
            "ticks": "",
            "zerolinecolor": "white"
           },
           "zaxis": {
            "backgroundcolor": "#E5ECF6",
            "gridcolor": "white",
            "gridwidth": 2,
            "linecolor": "white",
            "showbackground": true,
            "ticks": "",
            "zerolinecolor": "white"
           }
          },
          "shapedefaults": {
           "line": {
            "color": "#2a3f5f"
           }
          },
          "ternary": {
           "aaxis": {
            "gridcolor": "white",
            "linecolor": "white",
            "ticks": ""
           },
           "baxis": {
            "gridcolor": "white",
            "linecolor": "white",
            "ticks": ""
           },
           "bgcolor": "#E5ECF6",
           "caxis": {
            "gridcolor": "white",
            "linecolor": "white",
            "ticks": ""
           }
          },
          "title": {
           "x": 0.05
          },
          "xaxis": {
           "automargin": true,
           "gridcolor": "white",
           "linecolor": "white",
           "ticks": "",
           "title": {
            "standoff": 15
           },
           "zerolinecolor": "white",
           "zerolinewidth": 2
          },
          "yaxis": {
           "automargin": true,
           "gridcolor": "white",
           "linecolor": "white",
           "ticks": "",
           "title": {
            "standoff": 15
           },
           "zerolinecolor": "white",
           "zerolinewidth": 2
          }
         }
        },
        "title": {
         "text": "Agenda for Intervenant ID: 842621873"
        },
        "xaxis": {
         "anchor": "y",
         "domain": [
          0,
          1
         ],
         "rangeselector": {
          "buttons": [
           {
            "count": 1,
            "label": "1D",
            "step": "day",
            "stepmode": "backward"
           },
           {
            "count": 7,
            "label": "1W",
            "step": "day",
            "stepmode": "backward"
           },
           {
            "step": "all"
           }
          ]
         },
         "rangeslider": {
          "visible": true
         },
         "type": "date"
        },
        "yaxis": {
         "anchor": "x",
         "autorange": "reversed",
         "domain": [
          0,
          1
         ],
         "title": {
          "text": "Task"
         }
        }
       }
      }
     },
     "metadata": {},
     "output_type": "display_data"
    },
    {
     "data": {
      "application/vnd.plotly.v1+json": {
       "config": {
        "plotlyServerURL": "https://plot.ly"
       },
       "data": [
        {
         "alignmentgroup": "True",
         "base": [
          "2024-01-02T08:30:00",
          "2024-01-02T09:40:00",
          "2024-01-02T10:30:00",
          "2024-01-02T12:00:00",
          "2024-01-02T13:00:00",
          "2024-01-02T13:15:00",
          "2024-01-02T14:15:00",
          "2024-01-02T16:00:00",
          "2024-01-02T18:00:00",
          "2024-01-02T18:30:00",
          "2024-01-03T08:30:00",
          "2024-01-03T09:55:00",
          "2024-01-03T10:40:00",
          "2024-01-03T11:45:00",
          "2024-01-03T12:55:00",
          "2024-01-03T15:10:00",
          "2024-01-03T16:55:00",
          "2024-01-03T17:20:00",
          "2024-01-03T18:10:00",
          "2024-01-03T18:50:00",
          "2024-01-04T09:15:00",
          "2024-01-04T10:30:00",
          "2024-01-04T13:50:00",
          "2024-01-04T16:00:00",
          "2024-01-04T18:00:00",
          "2024-01-04T18:45:00",
          "2024-01-05T08:30:00",
          "2024-01-05T09:40:00",
          "2024-01-05T10:40:00",
          "2024-01-05T11:35:00",
          "2024-01-05T12:45:00",
          "2024-01-05T14:35:00",
          "2024-01-05T17:00:00",
          "2024-01-05T18:00:00",
          "2024-01-05T18:45:00",
          "2024-01-06T08:30:00",
          "2024-01-06T09:45:00",
          "2024-01-06T10:45:00",
          "2024-01-06T11:15:00",
          "2024-01-06T12:00:00",
          "2024-01-06T13:00:00",
          "2024-01-06T17:25:00",
          "2024-01-06T18:00:00",
          "2024-01-06T18:35:00",
          "2024-01-06T19:10:00",
          "2024-01-07T08:30:00",
          "2024-01-07T09:45:00",
          "2024-01-07T10:30:00",
          "2024-01-07T11:00:00",
          "2024-01-07T11:45:00",
          "2024-01-07T12:45:00",
          "2024-01-07T13:30:00",
          "2024-01-08T08:30:00",
          "2024-01-08T09:45:00",
          "2024-01-08T10:45:00",
          "2024-01-08T11:30:00",
          "2024-01-08T12:45:00",
          "2024-01-08T13:30:00",
          "2024-01-08T15:10:00",
          "2024-01-08T17:10:00",
          "2024-01-09T10:00:00",
          "2024-01-09T10:30:00",
          "2024-01-09T11:30:00",
          "2024-01-09T14:00:00",
          "2024-01-09T15:00:00",
          "2024-01-11T08:30:00",
          "2024-01-11T09:45:00",
          "2024-01-11T11:15:00",
          "2024-01-11T12:30:00",
          "2024-01-11T13:45:00",
          "2024-01-11T15:55:00",
          "2024-01-12T08:30:00",
          "2024-01-12T10:00:00",
          "2024-01-12T11:00:00",
          "2024-01-12T12:05:00",
          "2024-01-12T14:00:00",
          "2024-01-12T17:00:00",
          "2024-01-15T08:30:00",
          "2024-01-15T09:50:00",
          "2024-01-15T10:35:00",
          "2024-01-15T11:50:00",
          "2024-01-15T14:00:00",
          "2024-01-15T15:30:00",
          "2024-01-16T07:45:00",
          "2024-01-16T08:45:00",
          "2024-01-16T10:00:00",
          "2024-01-16T11:00:00",
          "2024-01-16T12:15:00",
          "2024-01-16T14:30:00",
          "2024-01-16T15:40:00",
          "2024-01-18T07:45:00",
          "2024-01-18T08:45:00",
          "2024-01-18T10:00:00",
          "2024-01-18T10:45:00",
          "2024-01-18T12:05:00",
          "2024-01-18T13:40:00",
          "2024-01-18T16:00:00",
          "2024-01-19T08:30:00",
          "2024-01-19T09:40:00",
          "2024-01-19T10:40:00",
          "2024-01-19T11:40:00",
          "2024-01-19T13:30:00",
          "2024-01-19T15:50:00",
          "2024-01-19T17:20:00",
          "2024-01-19T18:30:00",
          "2024-01-20T07:30:00",
          "2024-01-20T08:30:00",
          "2024-01-20T09:45:00",
          "2024-01-20T11:00:00",
          "2024-01-20T11:45:00",
          "2024-01-20T12:45:00",
          "2024-01-20T13:30:00",
          "2024-01-20T17:00:00",
          "2024-01-20T17:45:00",
          "2024-01-20T18:35:00",
          "2024-01-21T08:00:00",
          "2024-01-21T09:00:00",
          "2024-01-21T10:25:00",
          "2024-01-21T11:05:00",
          "2024-01-21T12:20:00",
          "2024-01-21T13:00:00",
          "2024-01-21T18:35:00",
          "2024-01-22T08:15:00",
          "2024-01-22T09:15:00",
          "2024-01-22T10:00:00",
          "2024-01-22T11:15:00",
          "2024-01-22T12:00:00",
          "2024-01-22T14:20:00",
          "2024-01-22T16:00:00",
          "2024-01-22T18:30:00",
          "2024-01-23T08:15:00",
          "2024-01-23T09:10:00",
          "2024-01-23T09:50:00",
          "2024-01-23T10:45:00",
          "2024-01-23T11:50:00",
          "2024-01-23T12:50:00",
          "2024-01-23T14:15:00",
          "2024-01-23T16:25:00",
          "2024-01-23T17:25:00",
          "2024-01-25T08:30:00",
          "2024-01-25T09:30:00",
          "2024-01-25T10:30:00",
          "2024-01-25T11:45:00",
          "2024-01-25T13:50:00",
          "2024-01-25T16:00:00",
          "2024-01-26T08:00:00",
          "2024-01-26T09:00:00",
          "2024-01-26T10:15:00",
          "2024-01-26T11:15:00",
          "2024-01-26T12:30:00",
          "2024-01-26T14:30:00",
          "2024-01-26T15:50:00",
          "2024-01-26T18:30:00",
          "2024-01-29T09:40:00",
          "2024-01-29T10:25:00",
          "2024-01-29T11:55:00",
          "2024-01-29T14:00:00",
          "2024-01-29T15:45:00",
          "2024-01-29T17:15:00",
          "2024-01-30T08:45:00",
          "2024-01-30T09:55:00",
          "2024-01-30T10:50:00",
          "2024-01-30T12:00:00",
          "2024-01-30T12:35:00",
          "2024-01-30T14:05:00",
          "2024-01-30T15:40:00"
         ],
         "hovertemplate": "Resource=764144581<br>Start=%{base}<br>Finish=%{x}<br>Task=%{y}<extra></extra>",
         "legendgroup": "764144581",
         "marker": {
          "color": "#636efa",
          "pattern": {
           "shape": ""
          }
         },
         "name": "764144581",
         "offsetgroup": "764144581",
         "orientation": "h",
         "showlegend": true,
         "textposition": "auto",
         "type": "bar",
         "x": [
          3600000,
          2700000,
          5100000,
          3600000,
          1800000,
          1800000,
          5400000,
          7200000,
          1800000,
          1800000,
          4500000,
          1800000,
          3600000,
          3600000,
          1800000,
          5400000,
          900000,
          2700000,
          1800000,
          900000,
          3600000,
          3600000,
          7200000,
          7200000,
          1800000,
          1800000,
          3600000,
          2700000,
          2700000,
          3600000,
          1800000,
          7200000,
          3600000,
          1800000,
          1800000,
          3600000,
          2700000,
          1800000,
          1800000,
          2700000,
          1800000,
          1800000,
          1800000,
          1800000,
          1800000,
          3600000,
          1800000,
          1800000,
          1800000,
          2700000,
          1800000,
          1800000,
          3600000,
          2700000,
          2700000,
          3600000,
          1800000,
          5400000,
          7200000,
          1800000,
          1800000,
          3600000,
          1800000,
          3600000,
          3600000,
          3600000,
          4500000,
          3600000,
          1800000,
          7200000,
          7200000,
          3600000,
          2700000,
          3600000,
          1800000,
          10800000,
          1800000,
          3600000,
          2700000,
          3600000,
          1800000,
          4500000,
          5400000,
          2700000,
          3600000,
          2700000,
          3600000,
          1800000,
          3600000,
          7200000,
          2700000,
          3600000,
          2700000,
          3600000,
          2700000,
          7200000,
          7200000,
          3600000,
          2700000,
          3600000,
          1800000,
          7200000,
          5400000,
          1800000,
          2700000,
          2700000,
          3600000,
          3600000,
          1800000,
          2700000,
          1800000,
          2700000,
          1800000,
          2700000,
          2700000,
          2700000,
          3600000,
          1800000,
          2700000,
          1800000,
          2700000,
          2700000,
          2700000,
          2700000,
          3600000,
          1800000,
          2700000,
          5400000,
          5400000,
          2700000,
          2700000,
          1800000,
          2700000,
          3600000,
          3600000,
          1800000,
          7200000,
          3600000,
          1800000,
          2700000,
          3600000,
          3600000,
          1800000,
          7200000,
          7200000,
          2700000,
          3600000,
          2700000,
          3600000,
          3600000,
          3600000,
          5400000,
          2700000,
          2700000,
          3600000,
          2700000,
          5400000,
          5400000,
          1800000,
          3600000,
          2700000,
          3600000,
          1800000,
          1800000,
          5400000,
          7200000
         ],
         "xaxis": "x",
         "y": [
          "TOILETTE",
          "TOILETTE",
          "TOILETTE",
          "REPAS",
          "VIE SOCIALE",
          "REPAS",
          "AIDE MENAGERE",
          "ACCOMPAGNEMENTS COURSES PA",
          "REPAS",
          "REPAS",
          "TOILETTE",
          "TOILETTE",
          "REPAS",
          "AIDE MENAGERE",
          "REPAS",
          "VIE SOCIALE",
          "VIE SOCIALE",
          "REPAS",
          "REPAS",
          "TOILETTE",
          "TOILETTE",
          "REPAS",
          "AIDE MENAGERE",
          "VIE SOCIALE",
          "REPAS",
          "REPAS",
          "TOILETTE",
          "TOILETTE",
          "TOILETTE",
          "REPAS",
          "REPAS",
          "ACCOMPAGNEMENTS COURSES PA",
          "ACCOMPAGNEMENTS COURSES PA",
          "REPAS",
          "REPAS",
          "TOILETTE",
          "TOILETTE",
          "REPAS",
          "REPAS",
          "TOILETTE",
          "REPAS",
          "REPAS",
          "REPAS",
          "REPAS",
          "TOILETTE",
          "TOILETTE",
          "TOILETTE",
          "REPAS",
          "REPAS",
          "TOILETTE",
          "REPAS",
          "REPAS",
          "TOILETTE",
          "TOILETTE",
          "TOILETTE",
          "REPAS",
          "REPAS",
          "AIDE MENAGERE",
          "ACCOMPAGNEMENTS COURSES PA",
          "REPAS",
          "TOILETTE",
          "REPAS",
          "VIE SOCIALE",
          "AIDE MENAGERE",
          "TOILETTE",
          "TOILETTE",
          "TOILETTE",
          "REPAS",
          "REPAS",
          "AIDE MENAGERE",
          "AIDE MENAGERE",
          "TOILETTE",
          "TOILETTE",
          "ACCOMPAGNEMENTS COURSES PA",
          "REPAS",
          "VIE SOCIALE",
          "REPAS",
          "TOILETTE",
          "TOILETTE",
          "REPAS",
          "REPAS",
          "ACCOMPAGNEMENTS COURSES PA",
          "AIDE MENAGERE",
          "TOILETTE",
          "TOILETTE",
          "TOILETTE",
          "REPAS",
          "REPAS",
          "AIDE MENAGERE",
          "AIDE MENAGERE",
          "TOILETTE",
          "TOILETTE",
          "TOILETTE",
          "VIE SOCIALE",
          "REPAS",
          "AIDE MENAGERE",
          "ACCOMPAGNEMENTS COURSES PA",
          "TOILETTE",
          "TOILETTE",
          "ACCOMPAGNEMENTS COURSES PA",
          "REPAS",
          "AIDE MENAGERE",
          "VIE SOCIALE",
          "REPAS",
          "REPAS",
          "TOILETTE",
          "TOILETTE",
          "TOILETTE",
          "TOILETTE",
          "REPAS",
          "REPAS",
          "REPAS",
          "REPAS",
          "TOILETTE",
          "REPAS",
          "TOILETTE",
          "TOILETTE",
          "TOILETTE",
          "REPAS",
          "REPAS",
          "REPAS",
          "REPAS",
          "TOILETTE",
          "TOILETTE",
          "REPAS",
          "REPAS",
          "REPAS",
          "AIDE MENAGERE",
          "ACCOMPAGNEMENTS COURSES PA",
          "REPAS",
          "TOILETTE",
          "TOILETTE",
          "TOILETTE",
          "REPAS",
          "VIE SOCIALE",
          "REPAS",
          "AIDE MENAGERE",
          "AIDE MENAGERE",
          "REPAS",
          "TOILETTE",
          "TOILETTE",
          "REPAS",
          "REPAS",
          "AIDE MENAGERE",
          "ACCOMPAGNEMENTS COURSES PA",
          "TOILETTE",
          "TOILETTE",
          "TOILETTE",
          "REPAS",
          "REPAS",
          "ACCOMPAGNEMENTS COURSES PA",
          "VIE SOCIALE",
          "REPAS",
          "TOILETTE",
          "REPAS",
          "REPAS",
          "AIDE MENAGERE",
          "ACCOMPAGNEMENTS COURSES PA",
          "REPAS",
          "TOILETTE",
          "TOILETTE",
          "REPAS",
          "VIE SOCIALE",
          "REPAS",
          "AIDE MENAGERE",
          "AIDE MENAGERE"
         ],
         "yaxis": "y"
        }
       ],
       "layout": {
        "barmode": "overlay",
        "legend": {
         "title": {
          "text": "Resource"
         },
         "tracegroupgap": 0
        },
        "margin": {
         "t": 60
        },
        "template": {
         "data": {
          "bar": [
           {
            "error_x": {
             "color": "#2a3f5f"
            },
            "error_y": {
             "color": "#2a3f5f"
            },
            "marker": {
             "line": {
              "color": "#E5ECF6",
              "width": 0.5
             },
             "pattern": {
              "fillmode": "overlay",
              "size": 10,
              "solidity": 0.2
             }
            },
            "type": "bar"
           }
          ],
          "barpolar": [
           {
            "marker": {
             "line": {
              "color": "#E5ECF6",
              "width": 0.5
             },
             "pattern": {
              "fillmode": "overlay",
              "size": 10,
              "solidity": 0.2
             }
            },
            "type": "barpolar"
           }
          ],
          "carpet": [
           {
            "aaxis": {
             "endlinecolor": "#2a3f5f",
             "gridcolor": "white",
             "linecolor": "white",
             "minorgridcolor": "white",
             "startlinecolor": "#2a3f5f"
            },
            "baxis": {
             "endlinecolor": "#2a3f5f",
             "gridcolor": "white",
             "linecolor": "white",
             "minorgridcolor": "white",
             "startlinecolor": "#2a3f5f"
            },
            "type": "carpet"
           }
          ],
          "choropleth": [
           {
            "colorbar": {
             "outlinewidth": 0,
             "ticks": ""
            },
            "type": "choropleth"
           }
          ],
          "contour": [
           {
            "colorbar": {
             "outlinewidth": 0,
             "ticks": ""
            },
            "colorscale": [
             [
              0,
              "#0d0887"
             ],
             [
              0.1111111111111111,
              "#46039f"
             ],
             [
              0.2222222222222222,
              "#7201a8"
             ],
             [
              0.3333333333333333,
              "#9c179e"
             ],
             [
              0.4444444444444444,
              "#bd3786"
             ],
             [
              0.5555555555555556,
              "#d8576b"
             ],
             [
              0.6666666666666666,
              "#ed7953"
             ],
             [
              0.7777777777777778,
              "#fb9f3a"
             ],
             [
              0.8888888888888888,
              "#fdca26"
             ],
             [
              1,
              "#f0f921"
             ]
            ],
            "type": "contour"
           }
          ],
          "contourcarpet": [
           {
            "colorbar": {
             "outlinewidth": 0,
             "ticks": ""
            },
            "type": "contourcarpet"
           }
          ],
          "heatmap": [
           {
            "colorbar": {
             "outlinewidth": 0,
             "ticks": ""
            },
            "colorscale": [
             [
              0,
              "#0d0887"
             ],
             [
              0.1111111111111111,
              "#46039f"
             ],
             [
              0.2222222222222222,
              "#7201a8"
             ],
             [
              0.3333333333333333,
              "#9c179e"
             ],
             [
              0.4444444444444444,
              "#bd3786"
             ],
             [
              0.5555555555555556,
              "#d8576b"
             ],
             [
              0.6666666666666666,
              "#ed7953"
             ],
             [
              0.7777777777777778,
              "#fb9f3a"
             ],
             [
              0.8888888888888888,
              "#fdca26"
             ],
             [
              1,
              "#f0f921"
             ]
            ],
            "type": "heatmap"
           }
          ],
          "heatmapgl": [
           {
            "colorbar": {
             "outlinewidth": 0,
             "ticks": ""
            },
            "colorscale": [
             [
              0,
              "#0d0887"
             ],
             [
              0.1111111111111111,
              "#46039f"
             ],
             [
              0.2222222222222222,
              "#7201a8"
             ],
             [
              0.3333333333333333,
              "#9c179e"
             ],
             [
              0.4444444444444444,
              "#bd3786"
             ],
             [
              0.5555555555555556,
              "#d8576b"
             ],
             [
              0.6666666666666666,
              "#ed7953"
             ],
             [
              0.7777777777777778,
              "#fb9f3a"
             ],
             [
              0.8888888888888888,
              "#fdca26"
             ],
             [
              1,
              "#f0f921"
             ]
            ],
            "type": "heatmapgl"
           }
          ],
          "histogram": [
           {
            "marker": {
             "pattern": {
              "fillmode": "overlay",
              "size": 10,
              "solidity": 0.2
             }
            },
            "type": "histogram"
           }
          ],
          "histogram2d": [
           {
            "colorbar": {
             "outlinewidth": 0,
             "ticks": ""
            },
            "colorscale": [
             [
              0,
              "#0d0887"
             ],
             [
              0.1111111111111111,
              "#46039f"
             ],
             [
              0.2222222222222222,
              "#7201a8"
             ],
             [
              0.3333333333333333,
              "#9c179e"
             ],
             [
              0.4444444444444444,
              "#bd3786"
             ],
             [
              0.5555555555555556,
              "#d8576b"
             ],
             [
              0.6666666666666666,
              "#ed7953"
             ],
             [
              0.7777777777777778,
              "#fb9f3a"
             ],
             [
              0.8888888888888888,
              "#fdca26"
             ],
             [
              1,
              "#f0f921"
             ]
            ],
            "type": "histogram2d"
           }
          ],
          "histogram2dcontour": [
           {
            "colorbar": {
             "outlinewidth": 0,
             "ticks": ""
            },
            "colorscale": [
             [
              0,
              "#0d0887"
             ],
             [
              0.1111111111111111,
              "#46039f"
             ],
             [
              0.2222222222222222,
              "#7201a8"
             ],
             [
              0.3333333333333333,
              "#9c179e"
             ],
             [
              0.4444444444444444,
              "#bd3786"
             ],
             [
              0.5555555555555556,
              "#d8576b"
             ],
             [
              0.6666666666666666,
              "#ed7953"
             ],
             [
              0.7777777777777778,
              "#fb9f3a"
             ],
             [
              0.8888888888888888,
              "#fdca26"
             ],
             [
              1,
              "#f0f921"
             ]
            ],
            "type": "histogram2dcontour"
           }
          ],
          "mesh3d": [
           {
            "colorbar": {
             "outlinewidth": 0,
             "ticks": ""
            },
            "type": "mesh3d"
           }
          ],
          "parcoords": [
           {
            "line": {
             "colorbar": {
              "outlinewidth": 0,
              "ticks": ""
             }
            },
            "type": "parcoords"
           }
          ],
          "pie": [
           {
            "automargin": true,
            "type": "pie"
           }
          ],
          "scatter": [
           {
            "fillpattern": {
             "fillmode": "overlay",
             "size": 10,
             "solidity": 0.2
            },
            "type": "scatter"
           }
          ],
          "scatter3d": [
           {
            "line": {
             "colorbar": {
              "outlinewidth": 0,
              "ticks": ""
             }
            },
            "marker": {
             "colorbar": {
              "outlinewidth": 0,
              "ticks": ""
             }
            },
            "type": "scatter3d"
           }
          ],
          "scattercarpet": [
           {
            "marker": {
             "colorbar": {
              "outlinewidth": 0,
              "ticks": ""
             }
            },
            "type": "scattercarpet"
           }
          ],
          "scattergeo": [
           {
            "marker": {
             "colorbar": {
              "outlinewidth": 0,
              "ticks": ""
             }
            },
            "type": "scattergeo"
           }
          ],
          "scattergl": [
           {
            "marker": {
             "colorbar": {
              "outlinewidth": 0,
              "ticks": ""
             }
            },
            "type": "scattergl"
           }
          ],
          "scattermapbox": [
           {
            "marker": {
             "colorbar": {
              "outlinewidth": 0,
              "ticks": ""
             }
            },
            "type": "scattermapbox"
           }
          ],
          "scatterpolar": [
           {
            "marker": {
             "colorbar": {
              "outlinewidth": 0,
              "ticks": ""
             }
            },
            "type": "scatterpolar"
           }
          ],
          "scatterpolargl": [
           {
            "marker": {
             "colorbar": {
              "outlinewidth": 0,
              "ticks": ""
             }
            },
            "type": "scatterpolargl"
           }
          ],
          "scatterternary": [
           {
            "marker": {
             "colorbar": {
              "outlinewidth": 0,
              "ticks": ""
             }
            },
            "type": "scatterternary"
           }
          ],
          "surface": [
           {
            "colorbar": {
             "outlinewidth": 0,
             "ticks": ""
            },
            "colorscale": [
             [
              0,
              "#0d0887"
             ],
             [
              0.1111111111111111,
              "#46039f"
             ],
             [
              0.2222222222222222,
              "#7201a8"
             ],
             [
              0.3333333333333333,
              "#9c179e"
             ],
             [
              0.4444444444444444,
              "#bd3786"
             ],
             [
              0.5555555555555556,
              "#d8576b"
             ],
             [
              0.6666666666666666,
              "#ed7953"
             ],
             [
              0.7777777777777778,
              "#fb9f3a"
             ],
             [
              0.8888888888888888,
              "#fdca26"
             ],
             [
              1,
              "#f0f921"
             ]
            ],
            "type": "surface"
           }
          ],
          "table": [
           {
            "cells": {
             "fill": {
              "color": "#EBF0F8"
             },
             "line": {
              "color": "white"
             }
            },
            "header": {
             "fill": {
              "color": "#C8D4E3"
             },
             "line": {
              "color": "white"
             }
            },
            "type": "table"
           }
          ]
         },
         "layout": {
          "annotationdefaults": {
           "arrowcolor": "#2a3f5f",
           "arrowhead": 0,
           "arrowwidth": 1
          },
          "autotypenumbers": "strict",
          "coloraxis": {
           "colorbar": {
            "outlinewidth": 0,
            "ticks": ""
           }
          },
          "colorscale": {
           "diverging": [
            [
             0,
             "#8e0152"
            ],
            [
             0.1,
             "#c51b7d"
            ],
            [
             0.2,
             "#de77ae"
            ],
            [
             0.3,
             "#f1b6da"
            ],
            [
             0.4,
             "#fde0ef"
            ],
            [
             0.5,
             "#f7f7f7"
            ],
            [
             0.6,
             "#e6f5d0"
            ],
            [
             0.7,
             "#b8e186"
            ],
            [
             0.8,
             "#7fbc41"
            ],
            [
             0.9,
             "#4d9221"
            ],
            [
             1,
             "#276419"
            ]
           ],
           "sequential": [
            [
             0,
             "#0d0887"
            ],
            [
             0.1111111111111111,
             "#46039f"
            ],
            [
             0.2222222222222222,
             "#7201a8"
            ],
            [
             0.3333333333333333,
             "#9c179e"
            ],
            [
             0.4444444444444444,
             "#bd3786"
            ],
            [
             0.5555555555555556,
             "#d8576b"
            ],
            [
             0.6666666666666666,
             "#ed7953"
            ],
            [
             0.7777777777777778,
             "#fb9f3a"
            ],
            [
             0.8888888888888888,
             "#fdca26"
            ],
            [
             1,
             "#f0f921"
            ]
           ],
           "sequentialminus": [
            [
             0,
             "#0d0887"
            ],
            [
             0.1111111111111111,
             "#46039f"
            ],
            [
             0.2222222222222222,
             "#7201a8"
            ],
            [
             0.3333333333333333,
             "#9c179e"
            ],
            [
             0.4444444444444444,
             "#bd3786"
            ],
            [
             0.5555555555555556,
             "#d8576b"
            ],
            [
             0.6666666666666666,
             "#ed7953"
            ],
            [
             0.7777777777777778,
             "#fb9f3a"
            ],
            [
             0.8888888888888888,
             "#fdca26"
            ],
            [
             1,
             "#f0f921"
            ]
           ]
          },
          "colorway": [
           "#636efa",
           "#EF553B",
           "#00cc96",
           "#ab63fa",
           "#FFA15A",
           "#19d3f3",
           "#FF6692",
           "#B6E880",
           "#FF97FF",
           "#FECB52"
          ],
          "font": {
           "color": "#2a3f5f"
          },
          "geo": {
           "bgcolor": "white",
           "lakecolor": "white",
           "landcolor": "#E5ECF6",
           "showlakes": true,
           "showland": true,
           "subunitcolor": "white"
          },
          "hoverlabel": {
           "align": "left"
          },
          "hovermode": "closest",
          "mapbox": {
           "style": "light"
          },
          "paper_bgcolor": "white",
          "plot_bgcolor": "#E5ECF6",
          "polar": {
           "angularaxis": {
            "gridcolor": "white",
            "linecolor": "white",
            "ticks": ""
           },
           "bgcolor": "#E5ECF6",
           "radialaxis": {
            "gridcolor": "white",
            "linecolor": "white",
            "ticks": ""
           }
          },
          "scene": {
           "xaxis": {
            "backgroundcolor": "#E5ECF6",
            "gridcolor": "white",
            "gridwidth": 2,
            "linecolor": "white",
            "showbackground": true,
            "ticks": "",
            "zerolinecolor": "white"
           },
           "yaxis": {
            "backgroundcolor": "#E5ECF6",
            "gridcolor": "white",
            "gridwidth": 2,
            "linecolor": "white",
            "showbackground": true,
            "ticks": "",
            "zerolinecolor": "white"
           },
           "zaxis": {
            "backgroundcolor": "#E5ECF6",
            "gridcolor": "white",
            "gridwidth": 2,
            "linecolor": "white",
            "showbackground": true,
            "ticks": "",
            "zerolinecolor": "white"
           }
          },
          "shapedefaults": {
           "line": {
            "color": "#2a3f5f"
           }
          },
          "ternary": {
           "aaxis": {
            "gridcolor": "white",
            "linecolor": "white",
            "ticks": ""
           },
           "baxis": {
            "gridcolor": "white",
            "linecolor": "white",
            "ticks": ""
           },
           "bgcolor": "#E5ECF6",
           "caxis": {
            "gridcolor": "white",
            "linecolor": "white",
            "ticks": ""
           }
          },
          "title": {
           "x": 0.05
          },
          "xaxis": {
           "automargin": true,
           "gridcolor": "white",
           "linecolor": "white",
           "ticks": "",
           "title": {
            "standoff": 15
           },
           "zerolinecolor": "white",
           "zerolinewidth": 2
          },
          "yaxis": {
           "automargin": true,
           "gridcolor": "white",
           "linecolor": "white",
           "ticks": "",
           "title": {
            "standoff": 15
           },
           "zerolinecolor": "white",
           "zerolinewidth": 2
          }
         }
        },
        "title": {
         "text": "Agenda for Intervenant ID: 764144581"
        },
        "xaxis": {
         "anchor": "y",
         "domain": [
          0,
          1
         ],
         "rangeselector": {
          "buttons": [
           {
            "count": 1,
            "label": "1D",
            "step": "day",
            "stepmode": "backward"
           },
           {
            "count": 7,
            "label": "1W",
            "step": "day",
            "stepmode": "backward"
           },
           {
            "step": "all"
           }
          ]
         },
         "rangeslider": {
          "visible": true
         },
         "type": "date"
        },
        "yaxis": {
         "anchor": "x",
         "autorange": "reversed",
         "domain": [
          0,
          1
         ],
         "title": {
          "text": "Task"
         }
        }
       }
      }
     },
     "metadata": {},
     "output_type": "display_data"
    },
    {
     "data": {
      "application/vnd.plotly.v1+json": {
       "config": {
        "plotlyServerURL": "https://plot.ly"
       },
       "data": [
        {
         "alignmentgroup": "True",
         "base": [
          "2024-01-02T08:40:00",
          "2024-01-02T09:20:00",
          "2024-01-02T10:30:00",
          "2024-01-02T13:50:00",
          "2024-01-02T15:30:00",
          "2024-01-02T17:15:00",
          "2024-01-03T08:40:00",
          "2024-01-03T09:20:00",
          "2024-01-03T11:00:00",
          "2024-01-03T13:50:00",
          "2024-01-03T15:35:00",
          "2024-01-04T08:40:00",
          "2024-01-04T09:20:00",
          "2024-01-04T11:00:00",
          "2024-01-04T14:00:00",
          "2024-01-04T15:45:00",
          "2024-01-05T08:00:00",
          "2024-01-05T08:40:00",
          "2024-01-05T09:30:00",
          "2024-01-05T11:05:00",
          "2024-01-05T13:45:00",
          "2024-01-05T15:30:00",
          "2024-01-05T17:50:00",
          "2024-01-05T18:30:00",
          "2024-01-08T08:45:00",
          "2024-01-08T10:30:00",
          "2024-01-08T12:15:00",
          "2024-01-08T13:45:00",
          "2024-01-08T15:00:00",
          "2024-01-08T17:15:00",
          "2024-01-08T18:00:00",
          "2024-01-09T09:30:00",
          "2024-01-09T15:30:00",
          "2024-01-09T17:00:00",
          "2024-01-09T17:45:00",
          "2024-01-09T18:25:00",
          "2024-01-10T08:45:00",
          "2024-01-10T09:30:00",
          "2024-01-10T12:00:00",
          "2024-01-11T08:45:00",
          "2024-01-11T09:30:00",
          "2024-01-11T13:15:00",
          "2024-01-11T15:00:00",
          "2024-01-11T17:30:00",
          "2024-01-12T08:30:00",
          "2024-01-12T09:15:00",
          "2024-01-12T09:15:00",
          "2024-01-12T11:00:00",
          "2024-01-15T08:15:00",
          "2024-01-15T09:00:00",
          "2024-01-15T10:45:00",
          "2024-01-15T15:00:00",
          "2024-01-15T17:15:00",
          "2024-01-16T08:45:00",
          "2024-01-16T15:00:00",
          "2024-01-16T17:20:00",
          "2024-01-17T08:00:00",
          "2024-01-17T08:45:00",
          "2024-01-18T08:00:00",
          "2024-01-18T08:45:00",
          "2024-01-18T13:15:00",
          "2024-01-18T15:00:00",
          "2024-01-18T17:15:00",
          "2024-01-18T18:00:00",
          "2024-01-19T08:00:00",
          "2024-01-19T08:40:00",
          "2024-01-19T09:15:00",
          "2024-01-19T10:15:00",
          "2024-01-19T16:35:00",
          "2024-01-19T18:20:00",
          "2024-01-22T07:30:00",
          "2024-01-22T09:40:00",
          "2024-01-22T10:20:00",
          "2024-01-22T11:05:00",
          "2024-01-22T13:45:00",
          "2024-01-22T15:35:00",
          "2024-01-22T17:50:00",
          "2024-01-22T18:30:00",
          "2024-01-23T07:30:00",
          "2024-01-23T08:15:00",
          "2024-01-23T09:00:00",
          "2024-01-23T10:45:00",
          "2024-01-23T13:30:00",
          "2024-01-23T17:30:00",
          "2024-01-23T18:20:00",
          "2024-01-24T09:00:00",
          "2024-01-24T10:45:00",
          "2024-01-24T14:00:00",
          "2024-01-25T07:30:00",
          "2024-01-25T08:15:00",
          "2024-01-25T09:00:00",
          "2024-01-25T10:30:00",
          "2024-01-25T14:00:00",
          "2024-01-25T15:50:00",
          "2024-01-25T18:00:00",
          "2024-01-25T18:45:00",
          "2024-01-29T08:45:00",
          "2024-01-29T10:30:00",
          "2024-01-29T13:15:00",
          "2024-01-29T16:00:00",
          "2024-01-29T18:20:00",
          "2024-01-30T08:30:00",
          "2024-01-30T09:30:00",
          "2024-01-30T11:15:00",
          "2024-01-30T17:30:00",
          "2024-01-30T18:30:00",
          "2024-01-31T07:55:00",
          "2024-01-31T08:30:00",
          "2024-01-31T09:30:00",
          "2024-01-31T11:45:00",
          "2024-01-31T15:00:00",
          "2024-01-31T16:15:00",
          "2024-01-31T17:15:00",
          "2024-01-31T18:00:00",
          "2024-01-31T18:45:00"
         ],
         "hovertemplate": "Resource=818696864<br>Start=%{base}<br>Finish=%{x}<br>Task=%{y}<extra></extra>",
         "legendgroup": "818696864",
         "marker": {
          "color": "#636efa",
          "pattern": {
           "shape": ""
          }
         },
         "name": "818696864",
         "offsetgroup": "818696864",
         "orientation": "h",
         "showlegend": true,
         "textposition": "auto",
         "type": "bar",
         "x": [
          1800000,
          3600000,
          4500000,
          5400000,
          5400000,
          1800000,
          1800000,
          5400000,
          5400000,
          5400000,
          4500000,
          1800000,
          5400000,
          5400000,
          5400000,
          7200000,
          1800000,
          1800000,
          5400000,
          7200000,
          5400000,
          7200000,
          1800000,
          1800000,
          5400000,
          5400000,
          1800000,
          3600000,
          7200000,
          1800000,
          7200000,
          5400000,
          4500000,
          1800000,
          1800000,
          1800000,
          1800000,
          5400000,
          16200000,
          1800000,
          5400000,
          5400000,
          7200000,
          3600000,
          1800000,
          5400000,
          10800000,
          7200000,
          1800000,
          5400000,
          5400000,
          7200000,
          1800000,
          13500000,
          7200000,
          7200000,
          1800000,
          1800000,
          1800000,
          7200000,
          5400000,
          7200000,
          1800000,
          1800000,
          1800000,
          1800000,
          2700000,
          7200000,
          5400000,
          7200000,
          7200000,
          1800000,
          1800000,
          5400000,
          5400000,
          7200000,
          1800000,
          1800000,
          1800000,
          1800000,
          5400000,
          3600000,
          9000000,
          1800000,
          7200000,
          5400000,
          5400000,
          5400000,
          1800000,
          1800000,
          4500000,
          5400000,
          5400000,
          7200000,
          1800000,
          1800000,
          5400000,
          3600000,
          6300000,
          7200000,
          3600000,
          1800000,
          5400000,
          5400000,
          3600000,
          1800000,
          1800000,
          1800000,
          5400000,
          1800000,
          3600000,
          3600000,
          1800000,
          1800000,
          1800000
         ],
         "xaxis": "x",
         "y": [
          "REPAS",
          "AIDE MENAGERE",
          "AIDE MENAGERE",
          "AIDE MENAGERE",
          "AIDE MENAGERE",
          "REPAS",
          "REPAS",
          "AIDE MENAGERE",
          "AIDE MENAGERE",
          "AIDE MENAGERE",
          "AIDE MENAGERE",
          "REPAS",
          "AIDE MENAGERE",
          "AIDE MENAGERE",
          "AIDE MENAGERE",
          "AIDE MENAGERE",
          "REPAS",
          "REPAS",
          "ACCOMPAGNEMENTS COURSES PA",
          "ACCOMPAGNEMENTS COURSES PA",
          "AIDE MENAGERE",
          "ACCOMPAGNEMENTS COURSES PA",
          "REPAS",
          "REPAS",
          "AIDE MENAGERE",
          "AIDE MENAGERE",
          "TOILETTE",
          "AIDE MENAGERE",
          "AIDE MENAGERE",
          "REPAS",
          "GARDE D'ENFANTS",
          "AIDE MENAGERE",
          "AIDE MENAGERE",
          "REPAS",
          "REPAS",
          "REPAS",
          "REPAS",
          "AIDE MENAGERE",
          "GARDE D'ENFANTS",
          "REPAS",
          "AIDE MENAGERE",
          "AIDE MENAGERE",
          "AIDE MENAGERE",
          "GARDE D'ENFANTS",
          "REPAS",
          "ACCOMPAGNEMENTS COURSES PA",
          "ACCOMPAGNEMENTS COURSES PA",
          "ACCOMPAGNEMENTS COURSES PA",
          "REPAS",
          "AIDE MENAGERE",
          "AIDE MENAGERE",
          "AIDE MENAGERE",
          "REPAS",
          "ACCOMPAGNEMENTS COURSES PA",
          "ACCOMPAGNEMENTS COURSES PA",
          "GARDE D'ENFANTS",
          "REPAS",
          "REPAS",
          "REPAS",
          "ACCOMPAGNEMENTS COURSES PA",
          "AIDE MENAGERE",
          "AIDE MENAGERE",
          "REPAS",
          "REPAS",
          "REPAS",
          "REPAS",
          "ACCOMPAGNEMENTS COURSES PA",
          "ACCOMPAGNEMENTS COURSES PA",
          "AIDE MENAGERE",
          "GARDE D'ENFANTS",
          "REPAS",
          "REPAS",
          "AIDE MENAGERE",
          "AIDE MENAGERE",
          "AIDE MENAGERE",
          "AIDE MENAGERE",
          "REPAS",
          "REPAS",
          "REPAS",
          "REPAS",
          "AIDE MENAGERE",
          "AIDE MENAGERE",
          "ACCOMPAGNEMENTS COURSES PA",
          "REPAS",
          "GARDE D'ENFANTS",
          "AIDE MENAGERE",
          "AIDE MENAGERE",
          "ACCOMPAGNEMENTS COURSES PA",
          "REPAS",
          "REPAS",
          "AIDE MENAGERE",
          "AIDE MENAGERE",
          "AIDE MENAGERE",
          "AIDE MENAGERE",
          "REPAS",
          "REPAS",
          "AIDE MENAGERE",
          "AIDE MENAGERE",
          "ACCOMPAGNEMENTS COURSES PA",
          "AIDE MENAGERE",
          "GARDE D'ENFANTS",
          "REPAS",
          "AIDE MENAGERE",
          "AIDE MENAGERE",
          "GARDE D'ENFANTS",
          "REPAS",
          "REPAS",
          "REPAS",
          "AIDE MENAGERE",
          "REPAS",
          "ACCOMPAGNEMENTS COURSES PA",
          "AIDE MENAGERE",
          "REPAS",
          "REPAS",
          "REPAS"
         ],
         "yaxis": "y"
        }
       ],
       "layout": {
        "barmode": "overlay",
        "legend": {
         "title": {
          "text": "Resource"
         },
         "tracegroupgap": 0
        },
        "margin": {
         "t": 60
        },
        "template": {
         "data": {
          "bar": [
           {
            "error_x": {
             "color": "#2a3f5f"
            },
            "error_y": {
             "color": "#2a3f5f"
            },
            "marker": {
             "line": {
              "color": "#E5ECF6",
              "width": 0.5
             },
             "pattern": {
              "fillmode": "overlay",
              "size": 10,
              "solidity": 0.2
             }
            },
            "type": "bar"
           }
          ],
          "barpolar": [
           {
            "marker": {
             "line": {
              "color": "#E5ECF6",
              "width": 0.5
             },
             "pattern": {
              "fillmode": "overlay",
              "size": 10,
              "solidity": 0.2
             }
            },
            "type": "barpolar"
           }
          ],
          "carpet": [
           {
            "aaxis": {
             "endlinecolor": "#2a3f5f",
             "gridcolor": "white",
             "linecolor": "white",
             "minorgridcolor": "white",
             "startlinecolor": "#2a3f5f"
            },
            "baxis": {
             "endlinecolor": "#2a3f5f",
             "gridcolor": "white",
             "linecolor": "white",
             "minorgridcolor": "white",
             "startlinecolor": "#2a3f5f"
            },
            "type": "carpet"
           }
          ],
          "choropleth": [
           {
            "colorbar": {
             "outlinewidth": 0,
             "ticks": ""
            },
            "type": "choropleth"
           }
          ],
          "contour": [
           {
            "colorbar": {
             "outlinewidth": 0,
             "ticks": ""
            },
            "colorscale": [
             [
              0,
              "#0d0887"
             ],
             [
              0.1111111111111111,
              "#46039f"
             ],
             [
              0.2222222222222222,
              "#7201a8"
             ],
             [
              0.3333333333333333,
              "#9c179e"
             ],
             [
              0.4444444444444444,
              "#bd3786"
             ],
             [
              0.5555555555555556,
              "#d8576b"
             ],
             [
              0.6666666666666666,
              "#ed7953"
             ],
             [
              0.7777777777777778,
              "#fb9f3a"
             ],
             [
              0.8888888888888888,
              "#fdca26"
             ],
             [
              1,
              "#f0f921"
             ]
            ],
            "type": "contour"
           }
          ],
          "contourcarpet": [
           {
            "colorbar": {
             "outlinewidth": 0,
             "ticks": ""
            },
            "type": "contourcarpet"
           }
          ],
          "heatmap": [
           {
            "colorbar": {
             "outlinewidth": 0,
             "ticks": ""
            },
            "colorscale": [
             [
              0,
              "#0d0887"
             ],
             [
              0.1111111111111111,
              "#46039f"
             ],
             [
              0.2222222222222222,
              "#7201a8"
             ],
             [
              0.3333333333333333,
              "#9c179e"
             ],
             [
              0.4444444444444444,
              "#bd3786"
             ],
             [
              0.5555555555555556,
              "#d8576b"
             ],
             [
              0.6666666666666666,
              "#ed7953"
             ],
             [
              0.7777777777777778,
              "#fb9f3a"
             ],
             [
              0.8888888888888888,
              "#fdca26"
             ],
             [
              1,
              "#f0f921"
             ]
            ],
            "type": "heatmap"
           }
          ],
          "heatmapgl": [
           {
            "colorbar": {
             "outlinewidth": 0,
             "ticks": ""
            },
            "colorscale": [
             [
              0,
              "#0d0887"
             ],
             [
              0.1111111111111111,
              "#46039f"
             ],
             [
              0.2222222222222222,
              "#7201a8"
             ],
             [
              0.3333333333333333,
              "#9c179e"
             ],
             [
              0.4444444444444444,
              "#bd3786"
             ],
             [
              0.5555555555555556,
              "#d8576b"
             ],
             [
              0.6666666666666666,
              "#ed7953"
             ],
             [
              0.7777777777777778,
              "#fb9f3a"
             ],
             [
              0.8888888888888888,
              "#fdca26"
             ],
             [
              1,
              "#f0f921"
             ]
            ],
            "type": "heatmapgl"
           }
          ],
          "histogram": [
           {
            "marker": {
             "pattern": {
              "fillmode": "overlay",
              "size": 10,
              "solidity": 0.2
             }
            },
            "type": "histogram"
           }
          ],
          "histogram2d": [
           {
            "colorbar": {
             "outlinewidth": 0,
             "ticks": ""
            },
            "colorscale": [
             [
              0,
              "#0d0887"
             ],
             [
              0.1111111111111111,
              "#46039f"
             ],
             [
              0.2222222222222222,
              "#7201a8"
             ],
             [
              0.3333333333333333,
              "#9c179e"
             ],
             [
              0.4444444444444444,
              "#bd3786"
             ],
             [
              0.5555555555555556,
              "#d8576b"
             ],
             [
              0.6666666666666666,
              "#ed7953"
             ],
             [
              0.7777777777777778,
              "#fb9f3a"
             ],
             [
              0.8888888888888888,
              "#fdca26"
             ],
             [
              1,
              "#f0f921"
             ]
            ],
            "type": "histogram2d"
           }
          ],
          "histogram2dcontour": [
           {
            "colorbar": {
             "outlinewidth": 0,
             "ticks": ""
            },
            "colorscale": [
             [
              0,
              "#0d0887"
             ],
             [
              0.1111111111111111,
              "#46039f"
             ],
             [
              0.2222222222222222,
              "#7201a8"
             ],
             [
              0.3333333333333333,
              "#9c179e"
             ],
             [
              0.4444444444444444,
              "#bd3786"
             ],
             [
              0.5555555555555556,
              "#d8576b"
             ],
             [
              0.6666666666666666,
              "#ed7953"
             ],
             [
              0.7777777777777778,
              "#fb9f3a"
             ],
             [
              0.8888888888888888,
              "#fdca26"
             ],
             [
              1,
              "#f0f921"
             ]
            ],
            "type": "histogram2dcontour"
           }
          ],
          "mesh3d": [
           {
            "colorbar": {
             "outlinewidth": 0,
             "ticks": ""
            },
            "type": "mesh3d"
           }
          ],
          "parcoords": [
           {
            "line": {
             "colorbar": {
              "outlinewidth": 0,
              "ticks": ""
             }
            },
            "type": "parcoords"
           }
          ],
          "pie": [
           {
            "automargin": true,
            "type": "pie"
           }
          ],
          "scatter": [
           {
            "fillpattern": {
             "fillmode": "overlay",
             "size": 10,
             "solidity": 0.2
            },
            "type": "scatter"
           }
          ],
          "scatter3d": [
           {
            "line": {
             "colorbar": {
              "outlinewidth": 0,
              "ticks": ""
             }
            },
            "marker": {
             "colorbar": {
              "outlinewidth": 0,
              "ticks": ""
             }
            },
            "type": "scatter3d"
           }
          ],
          "scattercarpet": [
           {
            "marker": {
             "colorbar": {
              "outlinewidth": 0,
              "ticks": ""
             }
            },
            "type": "scattercarpet"
           }
          ],
          "scattergeo": [
           {
            "marker": {
             "colorbar": {
              "outlinewidth": 0,
              "ticks": ""
             }
            },
            "type": "scattergeo"
           }
          ],
          "scattergl": [
           {
            "marker": {
             "colorbar": {
              "outlinewidth": 0,
              "ticks": ""
             }
            },
            "type": "scattergl"
           }
          ],
          "scattermapbox": [
           {
            "marker": {
             "colorbar": {
              "outlinewidth": 0,
              "ticks": ""
             }
            },
            "type": "scattermapbox"
           }
          ],
          "scatterpolar": [
           {
            "marker": {
             "colorbar": {
              "outlinewidth": 0,
              "ticks": ""
             }
            },
            "type": "scatterpolar"
           }
          ],
          "scatterpolargl": [
           {
            "marker": {
             "colorbar": {
              "outlinewidth": 0,
              "ticks": ""
             }
            },
            "type": "scatterpolargl"
           }
          ],
          "scatterternary": [
           {
            "marker": {
             "colorbar": {
              "outlinewidth": 0,
              "ticks": ""
             }
            },
            "type": "scatterternary"
           }
          ],
          "surface": [
           {
            "colorbar": {
             "outlinewidth": 0,
             "ticks": ""
            },
            "colorscale": [
             [
              0,
              "#0d0887"
             ],
             [
              0.1111111111111111,
              "#46039f"
             ],
             [
              0.2222222222222222,
              "#7201a8"
             ],
             [
              0.3333333333333333,
              "#9c179e"
             ],
             [
              0.4444444444444444,
              "#bd3786"
             ],
             [
              0.5555555555555556,
              "#d8576b"
             ],
             [
              0.6666666666666666,
              "#ed7953"
             ],
             [
              0.7777777777777778,
              "#fb9f3a"
             ],
             [
              0.8888888888888888,
              "#fdca26"
             ],
             [
              1,
              "#f0f921"
             ]
            ],
            "type": "surface"
           }
          ],
          "table": [
           {
            "cells": {
             "fill": {
              "color": "#EBF0F8"
             },
             "line": {
              "color": "white"
             }
            },
            "header": {
             "fill": {
              "color": "#C8D4E3"
             },
             "line": {
              "color": "white"
             }
            },
            "type": "table"
           }
          ]
         },
         "layout": {
          "annotationdefaults": {
           "arrowcolor": "#2a3f5f",
           "arrowhead": 0,
           "arrowwidth": 1
          },
          "autotypenumbers": "strict",
          "coloraxis": {
           "colorbar": {
            "outlinewidth": 0,
            "ticks": ""
           }
          },
          "colorscale": {
           "diverging": [
            [
             0,
             "#8e0152"
            ],
            [
             0.1,
             "#c51b7d"
            ],
            [
             0.2,
             "#de77ae"
            ],
            [
             0.3,
             "#f1b6da"
            ],
            [
             0.4,
             "#fde0ef"
            ],
            [
             0.5,
             "#f7f7f7"
            ],
            [
             0.6,
             "#e6f5d0"
            ],
            [
             0.7,
             "#b8e186"
            ],
            [
             0.8,
             "#7fbc41"
            ],
            [
             0.9,
             "#4d9221"
            ],
            [
             1,
             "#276419"
            ]
           ],
           "sequential": [
            [
             0,
             "#0d0887"
            ],
            [
             0.1111111111111111,
             "#46039f"
            ],
            [
             0.2222222222222222,
             "#7201a8"
            ],
            [
             0.3333333333333333,
             "#9c179e"
            ],
            [
             0.4444444444444444,
             "#bd3786"
            ],
            [
             0.5555555555555556,
             "#d8576b"
            ],
            [
             0.6666666666666666,
             "#ed7953"
            ],
            [
             0.7777777777777778,
             "#fb9f3a"
            ],
            [
             0.8888888888888888,
             "#fdca26"
            ],
            [
             1,
             "#f0f921"
            ]
           ],
           "sequentialminus": [
            [
             0,
             "#0d0887"
            ],
            [
             0.1111111111111111,
             "#46039f"
            ],
            [
             0.2222222222222222,
             "#7201a8"
            ],
            [
             0.3333333333333333,
             "#9c179e"
            ],
            [
             0.4444444444444444,
             "#bd3786"
            ],
            [
             0.5555555555555556,
             "#d8576b"
            ],
            [
             0.6666666666666666,
             "#ed7953"
            ],
            [
             0.7777777777777778,
             "#fb9f3a"
            ],
            [
             0.8888888888888888,
             "#fdca26"
            ],
            [
             1,
             "#f0f921"
            ]
           ]
          },
          "colorway": [
           "#636efa",
           "#EF553B",
           "#00cc96",
           "#ab63fa",
           "#FFA15A",
           "#19d3f3",
           "#FF6692",
           "#B6E880",
           "#FF97FF",
           "#FECB52"
          ],
          "font": {
           "color": "#2a3f5f"
          },
          "geo": {
           "bgcolor": "white",
           "lakecolor": "white",
           "landcolor": "#E5ECF6",
           "showlakes": true,
           "showland": true,
           "subunitcolor": "white"
          },
          "hoverlabel": {
           "align": "left"
          },
          "hovermode": "closest",
          "mapbox": {
           "style": "light"
          },
          "paper_bgcolor": "white",
          "plot_bgcolor": "#E5ECF6",
          "polar": {
           "angularaxis": {
            "gridcolor": "white",
            "linecolor": "white",
            "ticks": ""
           },
           "bgcolor": "#E5ECF6",
           "radialaxis": {
            "gridcolor": "white",
            "linecolor": "white",
            "ticks": ""
           }
          },
          "scene": {
           "xaxis": {
            "backgroundcolor": "#E5ECF6",
            "gridcolor": "white",
            "gridwidth": 2,
            "linecolor": "white",
            "showbackground": true,
            "ticks": "",
            "zerolinecolor": "white"
           },
           "yaxis": {
            "backgroundcolor": "#E5ECF6",
            "gridcolor": "white",
            "gridwidth": 2,
            "linecolor": "white",
            "showbackground": true,
            "ticks": "",
            "zerolinecolor": "white"
           },
           "zaxis": {
            "backgroundcolor": "#E5ECF6",
            "gridcolor": "white",
            "gridwidth": 2,
            "linecolor": "white",
            "showbackground": true,
            "ticks": "",
            "zerolinecolor": "white"
           }
          },
          "shapedefaults": {
           "line": {
            "color": "#2a3f5f"
           }
          },
          "ternary": {
           "aaxis": {
            "gridcolor": "white",
            "linecolor": "white",
            "ticks": ""
           },
           "baxis": {
            "gridcolor": "white",
            "linecolor": "white",
            "ticks": ""
           },
           "bgcolor": "#E5ECF6",
           "caxis": {
            "gridcolor": "white",
            "linecolor": "white",
            "ticks": ""
           }
          },
          "title": {
           "x": 0.05
          },
          "xaxis": {
           "automargin": true,
           "gridcolor": "white",
           "linecolor": "white",
           "ticks": "",
           "title": {
            "standoff": 15
           },
           "zerolinecolor": "white",
           "zerolinewidth": 2
          },
          "yaxis": {
           "automargin": true,
           "gridcolor": "white",
           "linecolor": "white",
           "ticks": "",
           "title": {
            "standoff": 15
           },
           "zerolinecolor": "white",
           "zerolinewidth": 2
          }
         }
        },
        "title": {
         "text": "Agenda for Intervenant ID: 818696864"
        },
        "xaxis": {
         "anchor": "y",
         "domain": [
          0,
          1
         ],
         "rangeselector": {
          "buttons": [
           {
            "count": 1,
            "label": "1D",
            "step": "day",
            "stepmode": "backward"
           },
           {
            "count": 7,
            "label": "1W",
            "step": "day",
            "stepmode": "backward"
           },
           {
            "step": "all"
           }
          ]
         },
         "rangeslider": {
          "visible": true
         },
         "type": "date"
        },
        "yaxis": {
         "anchor": "x",
         "autorange": "reversed",
         "domain": [
          0,
          1
         ],
         "title": {
          "text": "Task"
         }
        }
       }
      }
     },
     "metadata": {},
     "output_type": "display_data"
    },
    {
     "data": {
      "application/vnd.plotly.v1+json": {
       "config": {
        "plotlyServerURL": "https://plot.ly"
       },
       "data": [
        {
         "alignmentgroup": "True",
         "base": [
          "2024-01-02T09:00:00",
          "2024-01-02T10:20:00",
          "2024-01-02T13:15:00",
          "2024-01-02T14:55:00",
          "2024-01-02T16:35:00",
          "2024-01-04T08:30:00",
          "2024-01-04T10:35:00",
          "2024-01-09T08:45:00",
          "2024-01-09T09:50:00",
          "2024-01-09T11:30:00",
          "2024-01-09T14:30:00",
          "2024-01-09T16:15:00",
          "2024-01-09T18:15:00",
          "2024-01-11T08:30:00",
          "2024-01-11T10:35:00",
          "2024-01-16T08:30:00",
          "2024-01-16T09:40:00",
          "2024-01-16T11:20:00",
          "2024-01-16T12:20:00",
          "2024-01-16T14:25:00",
          "2024-01-16T16:05:00",
          "2024-01-16T17:45:00",
          "2024-01-17T08:30:00",
          "2024-01-17T10:45:00",
          "2024-01-18T08:30:00",
          "2024-01-18T10:10:00",
          "2024-01-23T08:00:00",
          "2024-01-23T09:20:00",
          "2024-01-23T11:00:00",
          "2024-01-23T14:00:00",
          "2024-01-23T15:30:00",
          "2024-01-23T17:20:00",
          "2024-01-25T08:30:00",
          "2024-01-25T10:35:00",
          "2024-01-30T08:15:00",
          "2024-01-30T09:30:00",
          "2024-01-30T13:30:00",
          "2024-01-30T15:15:00",
          "2024-01-30T17:00:00"
         ],
         "hovertemplate": "Resource=739888851<br>Start=%{base}<br>Finish=%{x}<br>Task=%{y}<extra></extra>",
         "legendgroup": "739888851",
         "marker": {
          "color": "#636efa",
          "pattern": {
           "shape": ""
          }
         },
         "name": "739888851",
         "offsetgroup": "739888851",
         "orientation": "h",
         "showlegend": true,
         "textposition": "auto",
         "type": "bar",
         "x": [
          3600000,
          5400000,
          5400000,
          5400000,
          5400000,
          7200000,
          7200000,
          3600000,
          5400000,
          7200000,
          5400000,
          5400000,
          3600000,
          7200000,
          7200000,
          3600000,
          5400000,
          3600000,
          3600000,
          5400000,
          5400000,
          3600000,
          7200000,
          5400000,
          5400000,
          7200000,
          3600000,
          5400000,
          7200000,
          5400000,
          5400000,
          3600000,
          7200000,
          7200000,
          3600000,
          5400000,
          5400000,
          5400000,
          5400000
         ],
         "xaxis": "x",
         "y": [
          "AIDE MENAGERE",
          "AIDE MENAGERE",
          "AIDE MENAGERE",
          "AIDE MENAGERE",
          "AIDE MENAGERE",
          "AIDE MENAGERE",
          "AIDE MENAGERE",
          "AIDE MENAGERE",
          "AIDE MENAGERE",
          "AIDE MENAGERE",
          "AIDE MENAGERE",
          "AIDE MENAGERE",
          "AIDE MENAGERE",
          "AIDE MENAGERE",
          "AIDE MENAGERE",
          "AIDE MENAGERE",
          "AIDE MENAGERE",
          "AIDE MENAGERE",
          "VIE SOCIALE",
          "AIDE MENAGERE",
          "AIDE MENAGERE",
          "AIDE MENAGERE",
          "AIDE MENAGERE",
          "AIDE MENAGERE",
          "AIDE MENAGERE",
          "AIDE MENAGERE",
          "AIDE MENAGERE",
          "AIDE MENAGERE",
          "AIDE MENAGERE",
          "AIDE MENAGERE",
          "AIDE MENAGERE",
          "AIDE MENAGERE",
          "AIDE MENAGERE",
          "AIDE MENAGERE",
          "AIDE MENAGERE",
          "AIDE MENAGERE",
          "AIDE MENAGERE",
          "AIDE MENAGERE",
          "AIDE MENAGERE"
         ],
         "yaxis": "y"
        }
       ],
       "layout": {
        "barmode": "overlay",
        "legend": {
         "title": {
          "text": "Resource"
         },
         "tracegroupgap": 0
        },
        "margin": {
         "t": 60
        },
        "template": {
         "data": {
          "bar": [
           {
            "error_x": {
             "color": "#2a3f5f"
            },
            "error_y": {
             "color": "#2a3f5f"
            },
            "marker": {
             "line": {
              "color": "#E5ECF6",
              "width": 0.5
             },
             "pattern": {
              "fillmode": "overlay",
              "size": 10,
              "solidity": 0.2
             }
            },
            "type": "bar"
           }
          ],
          "barpolar": [
           {
            "marker": {
             "line": {
              "color": "#E5ECF6",
              "width": 0.5
             },
             "pattern": {
              "fillmode": "overlay",
              "size": 10,
              "solidity": 0.2
             }
            },
            "type": "barpolar"
           }
          ],
          "carpet": [
           {
            "aaxis": {
             "endlinecolor": "#2a3f5f",
             "gridcolor": "white",
             "linecolor": "white",
             "minorgridcolor": "white",
             "startlinecolor": "#2a3f5f"
            },
            "baxis": {
             "endlinecolor": "#2a3f5f",
             "gridcolor": "white",
             "linecolor": "white",
             "minorgridcolor": "white",
             "startlinecolor": "#2a3f5f"
            },
            "type": "carpet"
           }
          ],
          "choropleth": [
           {
            "colorbar": {
             "outlinewidth": 0,
             "ticks": ""
            },
            "type": "choropleth"
           }
          ],
          "contour": [
           {
            "colorbar": {
             "outlinewidth": 0,
             "ticks": ""
            },
            "colorscale": [
             [
              0,
              "#0d0887"
             ],
             [
              0.1111111111111111,
              "#46039f"
             ],
             [
              0.2222222222222222,
              "#7201a8"
             ],
             [
              0.3333333333333333,
              "#9c179e"
             ],
             [
              0.4444444444444444,
              "#bd3786"
             ],
             [
              0.5555555555555556,
              "#d8576b"
             ],
             [
              0.6666666666666666,
              "#ed7953"
             ],
             [
              0.7777777777777778,
              "#fb9f3a"
             ],
             [
              0.8888888888888888,
              "#fdca26"
             ],
             [
              1,
              "#f0f921"
             ]
            ],
            "type": "contour"
           }
          ],
          "contourcarpet": [
           {
            "colorbar": {
             "outlinewidth": 0,
             "ticks": ""
            },
            "type": "contourcarpet"
           }
          ],
          "heatmap": [
           {
            "colorbar": {
             "outlinewidth": 0,
             "ticks": ""
            },
            "colorscale": [
             [
              0,
              "#0d0887"
             ],
             [
              0.1111111111111111,
              "#46039f"
             ],
             [
              0.2222222222222222,
              "#7201a8"
             ],
             [
              0.3333333333333333,
              "#9c179e"
             ],
             [
              0.4444444444444444,
              "#bd3786"
             ],
             [
              0.5555555555555556,
              "#d8576b"
             ],
             [
              0.6666666666666666,
              "#ed7953"
             ],
             [
              0.7777777777777778,
              "#fb9f3a"
             ],
             [
              0.8888888888888888,
              "#fdca26"
             ],
             [
              1,
              "#f0f921"
             ]
            ],
            "type": "heatmap"
           }
          ],
          "heatmapgl": [
           {
            "colorbar": {
             "outlinewidth": 0,
             "ticks": ""
            },
            "colorscale": [
             [
              0,
              "#0d0887"
             ],
             [
              0.1111111111111111,
              "#46039f"
             ],
             [
              0.2222222222222222,
              "#7201a8"
             ],
             [
              0.3333333333333333,
              "#9c179e"
             ],
             [
              0.4444444444444444,
              "#bd3786"
             ],
             [
              0.5555555555555556,
              "#d8576b"
             ],
             [
              0.6666666666666666,
              "#ed7953"
             ],
             [
              0.7777777777777778,
              "#fb9f3a"
             ],
             [
              0.8888888888888888,
              "#fdca26"
             ],
             [
              1,
              "#f0f921"
             ]
            ],
            "type": "heatmapgl"
           }
          ],
          "histogram": [
           {
            "marker": {
             "pattern": {
              "fillmode": "overlay",
              "size": 10,
              "solidity": 0.2
             }
            },
            "type": "histogram"
           }
          ],
          "histogram2d": [
           {
            "colorbar": {
             "outlinewidth": 0,
             "ticks": ""
            },
            "colorscale": [
             [
              0,
              "#0d0887"
             ],
             [
              0.1111111111111111,
              "#46039f"
             ],
             [
              0.2222222222222222,
              "#7201a8"
             ],
             [
              0.3333333333333333,
              "#9c179e"
             ],
             [
              0.4444444444444444,
              "#bd3786"
             ],
             [
              0.5555555555555556,
              "#d8576b"
             ],
             [
              0.6666666666666666,
              "#ed7953"
             ],
             [
              0.7777777777777778,
              "#fb9f3a"
             ],
             [
              0.8888888888888888,
              "#fdca26"
             ],
             [
              1,
              "#f0f921"
             ]
            ],
            "type": "histogram2d"
           }
          ],
          "histogram2dcontour": [
           {
            "colorbar": {
             "outlinewidth": 0,
             "ticks": ""
            },
            "colorscale": [
             [
              0,
              "#0d0887"
             ],
             [
              0.1111111111111111,
              "#46039f"
             ],
             [
              0.2222222222222222,
              "#7201a8"
             ],
             [
              0.3333333333333333,
              "#9c179e"
             ],
             [
              0.4444444444444444,
              "#bd3786"
             ],
             [
              0.5555555555555556,
              "#d8576b"
             ],
             [
              0.6666666666666666,
              "#ed7953"
             ],
             [
              0.7777777777777778,
              "#fb9f3a"
             ],
             [
              0.8888888888888888,
              "#fdca26"
             ],
             [
              1,
              "#f0f921"
             ]
            ],
            "type": "histogram2dcontour"
           }
          ],
          "mesh3d": [
           {
            "colorbar": {
             "outlinewidth": 0,
             "ticks": ""
            },
            "type": "mesh3d"
           }
          ],
          "parcoords": [
           {
            "line": {
             "colorbar": {
              "outlinewidth": 0,
              "ticks": ""
             }
            },
            "type": "parcoords"
           }
          ],
          "pie": [
           {
            "automargin": true,
            "type": "pie"
           }
          ],
          "scatter": [
           {
            "fillpattern": {
             "fillmode": "overlay",
             "size": 10,
             "solidity": 0.2
            },
            "type": "scatter"
           }
          ],
          "scatter3d": [
           {
            "line": {
             "colorbar": {
              "outlinewidth": 0,
              "ticks": ""
             }
            },
            "marker": {
             "colorbar": {
              "outlinewidth": 0,
              "ticks": ""
             }
            },
            "type": "scatter3d"
           }
          ],
          "scattercarpet": [
           {
            "marker": {
             "colorbar": {
              "outlinewidth": 0,
              "ticks": ""
             }
            },
            "type": "scattercarpet"
           }
          ],
          "scattergeo": [
           {
            "marker": {
             "colorbar": {
              "outlinewidth": 0,
              "ticks": ""
             }
            },
            "type": "scattergeo"
           }
          ],
          "scattergl": [
           {
            "marker": {
             "colorbar": {
              "outlinewidth": 0,
              "ticks": ""
             }
            },
            "type": "scattergl"
           }
          ],
          "scattermapbox": [
           {
            "marker": {
             "colorbar": {
              "outlinewidth": 0,
              "ticks": ""
             }
            },
            "type": "scattermapbox"
           }
          ],
          "scatterpolar": [
           {
            "marker": {
             "colorbar": {
              "outlinewidth": 0,
              "ticks": ""
             }
            },
            "type": "scatterpolar"
           }
          ],
          "scatterpolargl": [
           {
            "marker": {
             "colorbar": {
              "outlinewidth": 0,
              "ticks": ""
             }
            },
            "type": "scatterpolargl"
           }
          ],
          "scatterternary": [
           {
            "marker": {
             "colorbar": {
              "outlinewidth": 0,
              "ticks": ""
             }
            },
            "type": "scatterternary"
           }
          ],
          "surface": [
           {
            "colorbar": {
             "outlinewidth": 0,
             "ticks": ""
            },
            "colorscale": [
             [
              0,
              "#0d0887"
             ],
             [
              0.1111111111111111,
              "#46039f"
             ],
             [
              0.2222222222222222,
              "#7201a8"
             ],
             [
              0.3333333333333333,
              "#9c179e"
             ],
             [
              0.4444444444444444,
              "#bd3786"
             ],
             [
              0.5555555555555556,
              "#d8576b"
             ],
             [
              0.6666666666666666,
              "#ed7953"
             ],
             [
              0.7777777777777778,
              "#fb9f3a"
             ],
             [
              0.8888888888888888,
              "#fdca26"
             ],
             [
              1,
              "#f0f921"
             ]
            ],
            "type": "surface"
           }
          ],
          "table": [
           {
            "cells": {
             "fill": {
              "color": "#EBF0F8"
             },
             "line": {
              "color": "white"
             }
            },
            "header": {
             "fill": {
              "color": "#C8D4E3"
             },
             "line": {
              "color": "white"
             }
            },
            "type": "table"
           }
          ]
         },
         "layout": {
          "annotationdefaults": {
           "arrowcolor": "#2a3f5f",
           "arrowhead": 0,
           "arrowwidth": 1
          },
          "autotypenumbers": "strict",
          "coloraxis": {
           "colorbar": {
            "outlinewidth": 0,
            "ticks": ""
           }
          },
          "colorscale": {
           "diverging": [
            [
             0,
             "#8e0152"
            ],
            [
             0.1,
             "#c51b7d"
            ],
            [
             0.2,
             "#de77ae"
            ],
            [
             0.3,
             "#f1b6da"
            ],
            [
             0.4,
             "#fde0ef"
            ],
            [
             0.5,
             "#f7f7f7"
            ],
            [
             0.6,
             "#e6f5d0"
            ],
            [
             0.7,
             "#b8e186"
            ],
            [
             0.8,
             "#7fbc41"
            ],
            [
             0.9,
             "#4d9221"
            ],
            [
             1,
             "#276419"
            ]
           ],
           "sequential": [
            [
             0,
             "#0d0887"
            ],
            [
             0.1111111111111111,
             "#46039f"
            ],
            [
             0.2222222222222222,
             "#7201a8"
            ],
            [
             0.3333333333333333,
             "#9c179e"
            ],
            [
             0.4444444444444444,
             "#bd3786"
            ],
            [
             0.5555555555555556,
             "#d8576b"
            ],
            [
             0.6666666666666666,
             "#ed7953"
            ],
            [
             0.7777777777777778,
             "#fb9f3a"
            ],
            [
             0.8888888888888888,
             "#fdca26"
            ],
            [
             1,
             "#f0f921"
            ]
           ],
           "sequentialminus": [
            [
             0,
             "#0d0887"
            ],
            [
             0.1111111111111111,
             "#46039f"
            ],
            [
             0.2222222222222222,
             "#7201a8"
            ],
            [
             0.3333333333333333,
             "#9c179e"
            ],
            [
             0.4444444444444444,
             "#bd3786"
            ],
            [
             0.5555555555555556,
             "#d8576b"
            ],
            [
             0.6666666666666666,
             "#ed7953"
            ],
            [
             0.7777777777777778,
             "#fb9f3a"
            ],
            [
             0.8888888888888888,
             "#fdca26"
            ],
            [
             1,
             "#f0f921"
            ]
           ]
          },
          "colorway": [
           "#636efa",
           "#EF553B",
           "#00cc96",
           "#ab63fa",
           "#FFA15A",
           "#19d3f3",
           "#FF6692",
           "#B6E880",
           "#FF97FF",
           "#FECB52"
          ],
          "font": {
           "color": "#2a3f5f"
          },
          "geo": {
           "bgcolor": "white",
           "lakecolor": "white",
           "landcolor": "#E5ECF6",
           "showlakes": true,
           "showland": true,
           "subunitcolor": "white"
          },
          "hoverlabel": {
           "align": "left"
          },
          "hovermode": "closest",
          "mapbox": {
           "style": "light"
          },
          "paper_bgcolor": "white",
          "plot_bgcolor": "#E5ECF6",
          "polar": {
           "angularaxis": {
            "gridcolor": "white",
            "linecolor": "white",
            "ticks": ""
           },
           "bgcolor": "#E5ECF6",
           "radialaxis": {
            "gridcolor": "white",
            "linecolor": "white",
            "ticks": ""
           }
          },
          "scene": {
           "xaxis": {
            "backgroundcolor": "#E5ECF6",
            "gridcolor": "white",
            "gridwidth": 2,
            "linecolor": "white",
            "showbackground": true,
            "ticks": "",
            "zerolinecolor": "white"
           },
           "yaxis": {
            "backgroundcolor": "#E5ECF6",
            "gridcolor": "white",
            "gridwidth": 2,
            "linecolor": "white",
            "showbackground": true,
            "ticks": "",
            "zerolinecolor": "white"
           },
           "zaxis": {
            "backgroundcolor": "#E5ECF6",
            "gridcolor": "white",
            "gridwidth": 2,
            "linecolor": "white",
            "showbackground": true,
            "ticks": "",
            "zerolinecolor": "white"
           }
          },
          "shapedefaults": {
           "line": {
            "color": "#2a3f5f"
           }
          },
          "ternary": {
           "aaxis": {
            "gridcolor": "white",
            "linecolor": "white",
            "ticks": ""
           },
           "baxis": {
            "gridcolor": "white",
            "linecolor": "white",
            "ticks": ""
           },
           "bgcolor": "#E5ECF6",
           "caxis": {
            "gridcolor": "white",
            "linecolor": "white",
            "ticks": ""
           }
          },
          "title": {
           "x": 0.05
          },
          "xaxis": {
           "automargin": true,
           "gridcolor": "white",
           "linecolor": "white",
           "ticks": "",
           "title": {
            "standoff": 15
           },
           "zerolinecolor": "white",
           "zerolinewidth": 2
          },
          "yaxis": {
           "automargin": true,
           "gridcolor": "white",
           "linecolor": "white",
           "ticks": "",
           "title": {
            "standoff": 15
           },
           "zerolinecolor": "white",
           "zerolinewidth": 2
          }
         }
        },
        "title": {
         "text": "Agenda for Intervenant ID: 739888851"
        },
        "xaxis": {
         "anchor": "y",
         "domain": [
          0,
          1
         ],
         "rangeselector": {
          "buttons": [
           {
            "count": 1,
            "label": "1D",
            "step": "day",
            "stepmode": "backward"
           },
           {
            "count": 7,
            "label": "1W",
            "step": "day",
            "stepmode": "backward"
           },
           {
            "step": "all"
           }
          ]
         },
         "rangeslider": {
          "visible": true
         },
         "type": "date"
        },
        "yaxis": {
         "anchor": "x",
         "autorange": "reversed",
         "domain": [
          0,
          1
         ],
         "title": {
          "text": "Task"
         }
        }
       }
      }
     },
     "metadata": {},
     "output_type": "display_data"
    },
    {
     "data": {
      "application/vnd.plotly.v1+json": {
       "config": {
        "plotlyServerURL": "https://plot.ly"
       },
       "data": [
        {
         "alignmentgroup": "True",
         "base": [
          "2024-01-02T14:00:00",
          "2024-01-02T16:00:00",
          "2024-01-03T08:30:00",
          "2024-01-03T10:45:00",
          "2024-01-03T13:45:00",
          "2024-01-03T16:10:00",
          "2024-01-04T16:50:00",
          "2024-01-05T09:00:00",
          "2024-01-05T14:00:00",
          "2024-01-05T16:15:00",
          "2024-01-08T08:00:00",
          "2024-01-08T10:15:00",
          "2024-01-08T14:00:00",
          "2024-01-08T15:45:00",
          "2024-01-08T17:55:00",
          "2024-01-09T14:00:00",
          "2024-01-09T16:00:00",
          "2024-01-10T10:00:00",
          "2024-01-10T11:40:00",
          "2024-01-10T14:00:00",
          "2024-01-10T16:15:00",
          "2024-01-12T09:00:00",
          "2024-01-12T14:00:00",
          "2024-01-12T16:00:00",
          "2024-01-15T08:00:00",
          "2024-01-15T10:20:00",
          "2024-01-15T14:00:00",
          "2024-01-15T15:45:00",
          "2024-01-15T17:55:00",
          "2024-01-16T14:00:00",
          "2024-01-16T16:00:00",
          "2024-01-17T08:35:00",
          "2024-01-17T11:00:00",
          "2024-01-17T14:00:00",
          "2024-01-17T16:15:00",
          "2024-01-19T09:00:00",
          "2024-01-19T14:00:00",
          "2024-01-19T16:10:00",
          "2024-01-22T08:00:00",
          "2024-01-22T10:15:00",
          "2024-01-22T14:00:00",
          "2024-01-22T15:45:00",
          "2024-01-22T18:00:00",
          "2024-01-23T13:50:00",
          "2024-01-23T16:00:00",
          "2024-01-24T09:30:00",
          "2024-01-24T11:15:00",
          "2024-01-24T14:00:00",
          "2024-01-26T09:00:00",
          "2024-01-26T14:00:00",
          "2024-01-26T16:15:00",
          "2024-01-29T08:00:00",
          "2024-01-29T10:15:00",
          "2024-01-29T13:40:00",
          "2024-01-29T15:25:00",
          "2024-01-29T17:35:00",
          "2024-01-30T13:30:00",
          "2024-01-30T14:15:00",
          "2024-01-30T16:00:00",
          "2024-01-31T08:30:00",
          "2024-01-31T11:00:00",
          "2024-01-31T14:00:00",
          "2024-01-31T16:15:00"
         ],
         "hovertemplate": "Resource=78007874<br>Start=%{base}<br>Finish=%{x}<br>Task=%{y}<extra></extra>",
         "legendgroup": "78007874",
         "marker": {
          "color": "#636efa",
          "pattern": {
           "shape": ""
          }
         },
         "name": "78007874",
         "offsetgroup": "78007874",
         "orientation": "h",
         "showlegend": true,
         "textposition": "auto",
         "type": "bar",
         "x": [
          5400000,
          10800000,
          7200000,
          5400000,
          7200000,
          7200000,
          5400000,
          10800000,
          7200000,
          7200000,
          7200000,
          7200000,
          5400000,
          7200000,
          5400000,
          6300000,
          10800000,
          5400000,
          3600000,
          7200000,
          7200000,
          10800000,
          7200000,
          7200000,
          7200000,
          7200000,
          5400000,
          7200000,
          5400000,
          5400000,
          10800000,
          7200000,
          5400000,
          7200000,
          7200000,
          10800000,
          7200000,
          7200000,
          7200000,
          7200000,
          5400000,
          7200000,
          5400000,
          7200000,
          10800000,
          5400000,
          5400000,
          7200000,
          10800000,
          7200000,
          7200000,
          7200000,
          7200000,
          5400000,
          7200000,
          5400000,
          1800000,
          5400000,
          10800000,
          7200000,
          5400000,
          7200000,
          5400000
         ],
         "xaxis": "x",
         "y": [
          "AIDE MENAGERE",
          "AIDE MENAGERE",
          "AIDE MENAGERE",
          "AIDE MENAGERE",
          "AIDE MENAGERE",
          "AIDE MENAGERE",
          "AIDE MENAGERE",
          "FEMME DE MENAGE",
          "AIDE MENAGERE",
          "AIDE MENAGERE",
          "AIDE MENAGERE",
          "AIDE MENAGERE",
          "AIDE MENAGERE",
          "AIDE MENAGERE",
          "AIDE MENAGERE",
          "AIDE MENAGERE",
          "AIDE MENAGERE",
          "AIDE MENAGERE",
          "AIDE MENAGERE",
          "AIDE MENAGERE",
          "AIDE MENAGERE",
          "FEMME DE MENAGE",
          "AIDE MENAGERE",
          "AIDE MENAGERE",
          "AIDE MENAGERE",
          "AIDE MENAGERE",
          "AIDE MENAGERE",
          "AIDE MENAGERE",
          "AIDE MENAGERE",
          "AIDE MENAGERE",
          "AIDE MENAGERE",
          "AIDE MENAGERE",
          "AIDE MENAGERE",
          "AIDE MENAGERE",
          "AIDE MENAGERE",
          "FEMME DE MENAGE",
          "AIDE MENAGERE",
          "AIDE MENAGERE",
          "AIDE MENAGERE",
          "AIDE MENAGERE",
          "AIDE MENAGERE",
          "AIDE MENAGERE",
          "AIDE MENAGERE",
          "AIDE MENAGERE",
          "AIDE MENAGERE",
          "AIDE MENAGERE",
          "AIDE MENAGERE",
          "AIDE MENAGERE",
          "FEMME DE MENAGE",
          "AIDE MENAGERE",
          "AIDE MENAGERE",
          "AIDE MENAGERE",
          "AIDE MENAGERE",
          "AIDE MENAGERE",
          "AIDE MENAGERE",
          "AIDE MENAGERE",
          "AIDE MENAGERE",
          "AIDE MENAGERE",
          "AIDE MENAGERE",
          "AIDE MENAGERE",
          "AIDE MENAGERE",
          "AIDE MENAGERE",
          "AIDE MENAGERE"
         ],
         "yaxis": "y"
        }
       ],
       "layout": {
        "barmode": "overlay",
        "legend": {
         "title": {
          "text": "Resource"
         },
         "tracegroupgap": 0
        },
        "margin": {
         "t": 60
        },
        "template": {
         "data": {
          "bar": [
           {
            "error_x": {
             "color": "#2a3f5f"
            },
            "error_y": {
             "color": "#2a3f5f"
            },
            "marker": {
             "line": {
              "color": "#E5ECF6",
              "width": 0.5
             },
             "pattern": {
              "fillmode": "overlay",
              "size": 10,
              "solidity": 0.2
             }
            },
            "type": "bar"
           }
          ],
          "barpolar": [
           {
            "marker": {
             "line": {
              "color": "#E5ECF6",
              "width": 0.5
             },
             "pattern": {
              "fillmode": "overlay",
              "size": 10,
              "solidity": 0.2
             }
            },
            "type": "barpolar"
           }
          ],
          "carpet": [
           {
            "aaxis": {
             "endlinecolor": "#2a3f5f",
             "gridcolor": "white",
             "linecolor": "white",
             "minorgridcolor": "white",
             "startlinecolor": "#2a3f5f"
            },
            "baxis": {
             "endlinecolor": "#2a3f5f",
             "gridcolor": "white",
             "linecolor": "white",
             "minorgridcolor": "white",
             "startlinecolor": "#2a3f5f"
            },
            "type": "carpet"
           }
          ],
          "choropleth": [
           {
            "colorbar": {
             "outlinewidth": 0,
             "ticks": ""
            },
            "type": "choropleth"
           }
          ],
          "contour": [
           {
            "colorbar": {
             "outlinewidth": 0,
             "ticks": ""
            },
            "colorscale": [
             [
              0,
              "#0d0887"
             ],
             [
              0.1111111111111111,
              "#46039f"
             ],
             [
              0.2222222222222222,
              "#7201a8"
             ],
             [
              0.3333333333333333,
              "#9c179e"
             ],
             [
              0.4444444444444444,
              "#bd3786"
             ],
             [
              0.5555555555555556,
              "#d8576b"
             ],
             [
              0.6666666666666666,
              "#ed7953"
             ],
             [
              0.7777777777777778,
              "#fb9f3a"
             ],
             [
              0.8888888888888888,
              "#fdca26"
             ],
             [
              1,
              "#f0f921"
             ]
            ],
            "type": "contour"
           }
          ],
          "contourcarpet": [
           {
            "colorbar": {
             "outlinewidth": 0,
             "ticks": ""
            },
            "type": "contourcarpet"
           }
          ],
          "heatmap": [
           {
            "colorbar": {
             "outlinewidth": 0,
             "ticks": ""
            },
            "colorscale": [
             [
              0,
              "#0d0887"
             ],
             [
              0.1111111111111111,
              "#46039f"
             ],
             [
              0.2222222222222222,
              "#7201a8"
             ],
             [
              0.3333333333333333,
              "#9c179e"
             ],
             [
              0.4444444444444444,
              "#bd3786"
             ],
             [
              0.5555555555555556,
              "#d8576b"
             ],
             [
              0.6666666666666666,
              "#ed7953"
             ],
             [
              0.7777777777777778,
              "#fb9f3a"
             ],
             [
              0.8888888888888888,
              "#fdca26"
             ],
             [
              1,
              "#f0f921"
             ]
            ],
            "type": "heatmap"
           }
          ],
          "heatmapgl": [
           {
            "colorbar": {
             "outlinewidth": 0,
             "ticks": ""
            },
            "colorscale": [
             [
              0,
              "#0d0887"
             ],
             [
              0.1111111111111111,
              "#46039f"
             ],
             [
              0.2222222222222222,
              "#7201a8"
             ],
             [
              0.3333333333333333,
              "#9c179e"
             ],
             [
              0.4444444444444444,
              "#bd3786"
             ],
             [
              0.5555555555555556,
              "#d8576b"
             ],
             [
              0.6666666666666666,
              "#ed7953"
             ],
             [
              0.7777777777777778,
              "#fb9f3a"
             ],
             [
              0.8888888888888888,
              "#fdca26"
             ],
             [
              1,
              "#f0f921"
             ]
            ],
            "type": "heatmapgl"
           }
          ],
          "histogram": [
           {
            "marker": {
             "pattern": {
              "fillmode": "overlay",
              "size": 10,
              "solidity": 0.2
             }
            },
            "type": "histogram"
           }
          ],
          "histogram2d": [
           {
            "colorbar": {
             "outlinewidth": 0,
             "ticks": ""
            },
            "colorscale": [
             [
              0,
              "#0d0887"
             ],
             [
              0.1111111111111111,
              "#46039f"
             ],
             [
              0.2222222222222222,
              "#7201a8"
             ],
             [
              0.3333333333333333,
              "#9c179e"
             ],
             [
              0.4444444444444444,
              "#bd3786"
             ],
             [
              0.5555555555555556,
              "#d8576b"
             ],
             [
              0.6666666666666666,
              "#ed7953"
             ],
             [
              0.7777777777777778,
              "#fb9f3a"
             ],
             [
              0.8888888888888888,
              "#fdca26"
             ],
             [
              1,
              "#f0f921"
             ]
            ],
            "type": "histogram2d"
           }
          ],
          "histogram2dcontour": [
           {
            "colorbar": {
             "outlinewidth": 0,
             "ticks": ""
            },
            "colorscale": [
             [
              0,
              "#0d0887"
             ],
             [
              0.1111111111111111,
              "#46039f"
             ],
             [
              0.2222222222222222,
              "#7201a8"
             ],
             [
              0.3333333333333333,
              "#9c179e"
             ],
             [
              0.4444444444444444,
              "#bd3786"
             ],
             [
              0.5555555555555556,
              "#d8576b"
             ],
             [
              0.6666666666666666,
              "#ed7953"
             ],
             [
              0.7777777777777778,
              "#fb9f3a"
             ],
             [
              0.8888888888888888,
              "#fdca26"
             ],
             [
              1,
              "#f0f921"
             ]
            ],
            "type": "histogram2dcontour"
           }
          ],
          "mesh3d": [
           {
            "colorbar": {
             "outlinewidth": 0,
             "ticks": ""
            },
            "type": "mesh3d"
           }
          ],
          "parcoords": [
           {
            "line": {
             "colorbar": {
              "outlinewidth": 0,
              "ticks": ""
             }
            },
            "type": "parcoords"
           }
          ],
          "pie": [
           {
            "automargin": true,
            "type": "pie"
           }
          ],
          "scatter": [
           {
            "fillpattern": {
             "fillmode": "overlay",
             "size": 10,
             "solidity": 0.2
            },
            "type": "scatter"
           }
          ],
          "scatter3d": [
           {
            "line": {
             "colorbar": {
              "outlinewidth": 0,
              "ticks": ""
             }
            },
            "marker": {
             "colorbar": {
              "outlinewidth": 0,
              "ticks": ""
             }
            },
            "type": "scatter3d"
           }
          ],
          "scattercarpet": [
           {
            "marker": {
             "colorbar": {
              "outlinewidth": 0,
              "ticks": ""
             }
            },
            "type": "scattercarpet"
           }
          ],
          "scattergeo": [
           {
            "marker": {
             "colorbar": {
              "outlinewidth": 0,
              "ticks": ""
             }
            },
            "type": "scattergeo"
           }
          ],
          "scattergl": [
           {
            "marker": {
             "colorbar": {
              "outlinewidth": 0,
              "ticks": ""
             }
            },
            "type": "scattergl"
           }
          ],
          "scattermapbox": [
           {
            "marker": {
             "colorbar": {
              "outlinewidth": 0,
              "ticks": ""
             }
            },
            "type": "scattermapbox"
           }
          ],
          "scatterpolar": [
           {
            "marker": {
             "colorbar": {
              "outlinewidth": 0,
              "ticks": ""
             }
            },
            "type": "scatterpolar"
           }
          ],
          "scatterpolargl": [
           {
            "marker": {
             "colorbar": {
              "outlinewidth": 0,
              "ticks": ""
             }
            },
            "type": "scatterpolargl"
           }
          ],
          "scatterternary": [
           {
            "marker": {
             "colorbar": {
              "outlinewidth": 0,
              "ticks": ""
             }
            },
            "type": "scatterternary"
           }
          ],
          "surface": [
           {
            "colorbar": {
             "outlinewidth": 0,
             "ticks": ""
            },
            "colorscale": [
             [
              0,
              "#0d0887"
             ],
             [
              0.1111111111111111,
              "#46039f"
             ],
             [
              0.2222222222222222,
              "#7201a8"
             ],
             [
              0.3333333333333333,
              "#9c179e"
             ],
             [
              0.4444444444444444,
              "#bd3786"
             ],
             [
              0.5555555555555556,
              "#d8576b"
             ],
             [
              0.6666666666666666,
              "#ed7953"
             ],
             [
              0.7777777777777778,
              "#fb9f3a"
             ],
             [
              0.8888888888888888,
              "#fdca26"
             ],
             [
              1,
              "#f0f921"
             ]
            ],
            "type": "surface"
           }
          ],
          "table": [
           {
            "cells": {
             "fill": {
              "color": "#EBF0F8"
             },
             "line": {
              "color": "white"
             }
            },
            "header": {
             "fill": {
              "color": "#C8D4E3"
             },
             "line": {
              "color": "white"
             }
            },
            "type": "table"
           }
          ]
         },
         "layout": {
          "annotationdefaults": {
           "arrowcolor": "#2a3f5f",
           "arrowhead": 0,
           "arrowwidth": 1
          },
          "autotypenumbers": "strict",
          "coloraxis": {
           "colorbar": {
            "outlinewidth": 0,
            "ticks": ""
           }
          },
          "colorscale": {
           "diverging": [
            [
             0,
             "#8e0152"
            ],
            [
             0.1,
             "#c51b7d"
            ],
            [
             0.2,
             "#de77ae"
            ],
            [
             0.3,
             "#f1b6da"
            ],
            [
             0.4,
             "#fde0ef"
            ],
            [
             0.5,
             "#f7f7f7"
            ],
            [
             0.6,
             "#e6f5d0"
            ],
            [
             0.7,
             "#b8e186"
            ],
            [
             0.8,
             "#7fbc41"
            ],
            [
             0.9,
             "#4d9221"
            ],
            [
             1,
             "#276419"
            ]
           ],
           "sequential": [
            [
             0,
             "#0d0887"
            ],
            [
             0.1111111111111111,
             "#46039f"
            ],
            [
             0.2222222222222222,
             "#7201a8"
            ],
            [
             0.3333333333333333,
             "#9c179e"
            ],
            [
             0.4444444444444444,
             "#bd3786"
            ],
            [
             0.5555555555555556,
             "#d8576b"
            ],
            [
             0.6666666666666666,
             "#ed7953"
            ],
            [
             0.7777777777777778,
             "#fb9f3a"
            ],
            [
             0.8888888888888888,
             "#fdca26"
            ],
            [
             1,
             "#f0f921"
            ]
           ],
           "sequentialminus": [
            [
             0,
             "#0d0887"
            ],
            [
             0.1111111111111111,
             "#46039f"
            ],
            [
             0.2222222222222222,
             "#7201a8"
            ],
            [
             0.3333333333333333,
             "#9c179e"
            ],
            [
             0.4444444444444444,
             "#bd3786"
            ],
            [
             0.5555555555555556,
             "#d8576b"
            ],
            [
             0.6666666666666666,
             "#ed7953"
            ],
            [
             0.7777777777777778,
             "#fb9f3a"
            ],
            [
             0.8888888888888888,
             "#fdca26"
            ],
            [
             1,
             "#f0f921"
            ]
           ]
          },
          "colorway": [
           "#636efa",
           "#EF553B",
           "#00cc96",
           "#ab63fa",
           "#FFA15A",
           "#19d3f3",
           "#FF6692",
           "#B6E880",
           "#FF97FF",
           "#FECB52"
          ],
          "font": {
           "color": "#2a3f5f"
          },
          "geo": {
           "bgcolor": "white",
           "lakecolor": "white",
           "landcolor": "#E5ECF6",
           "showlakes": true,
           "showland": true,
           "subunitcolor": "white"
          },
          "hoverlabel": {
           "align": "left"
          },
          "hovermode": "closest",
          "mapbox": {
           "style": "light"
          },
          "paper_bgcolor": "white",
          "plot_bgcolor": "#E5ECF6",
          "polar": {
           "angularaxis": {
            "gridcolor": "white",
            "linecolor": "white",
            "ticks": ""
           },
           "bgcolor": "#E5ECF6",
           "radialaxis": {
            "gridcolor": "white",
            "linecolor": "white",
            "ticks": ""
           }
          },
          "scene": {
           "xaxis": {
            "backgroundcolor": "#E5ECF6",
            "gridcolor": "white",
            "gridwidth": 2,
            "linecolor": "white",
            "showbackground": true,
            "ticks": "",
            "zerolinecolor": "white"
           },
           "yaxis": {
            "backgroundcolor": "#E5ECF6",
            "gridcolor": "white",
            "gridwidth": 2,
            "linecolor": "white",
            "showbackground": true,
            "ticks": "",
            "zerolinecolor": "white"
           },
           "zaxis": {
            "backgroundcolor": "#E5ECF6",
            "gridcolor": "white",
            "gridwidth": 2,
            "linecolor": "white",
            "showbackground": true,
            "ticks": "",
            "zerolinecolor": "white"
           }
          },
          "shapedefaults": {
           "line": {
            "color": "#2a3f5f"
           }
          },
          "ternary": {
           "aaxis": {
            "gridcolor": "white",
            "linecolor": "white",
            "ticks": ""
           },
           "baxis": {
            "gridcolor": "white",
            "linecolor": "white",
            "ticks": ""
           },
           "bgcolor": "#E5ECF6",
           "caxis": {
            "gridcolor": "white",
            "linecolor": "white",
            "ticks": ""
           }
          },
          "title": {
           "x": 0.05
          },
          "xaxis": {
           "automargin": true,
           "gridcolor": "white",
           "linecolor": "white",
           "ticks": "",
           "title": {
            "standoff": 15
           },
           "zerolinecolor": "white",
           "zerolinewidth": 2
          },
          "yaxis": {
           "automargin": true,
           "gridcolor": "white",
           "linecolor": "white",
           "ticks": "",
           "title": {
            "standoff": 15
           },
           "zerolinecolor": "white",
           "zerolinewidth": 2
          }
         }
        },
        "title": {
         "text": "Agenda for Intervenant ID: 78007874"
        },
        "xaxis": {
         "anchor": "y",
         "domain": [
          0,
          1
         ],
         "rangeselector": {
          "buttons": [
           {
            "count": 1,
            "label": "1D",
            "step": "day",
            "stepmode": "backward"
           },
           {
            "count": 7,
            "label": "1W",
            "step": "day",
            "stepmode": "backward"
           },
           {
            "step": "all"
           }
          ]
         },
         "rangeslider": {
          "visible": true
         },
         "type": "date"
        },
        "yaxis": {
         "anchor": "x",
         "autorange": "reversed",
         "domain": [
          0,
          1
         ],
         "title": {
          "text": "Task"
         }
        }
       }
      }
     },
     "metadata": {},
     "output_type": "display_data"
    },
    {
     "data": {
      "application/vnd.plotly.v1+json": {
       "config": {
        "plotlyServerURL": "https://plot.ly"
       },
       "data": [
        {
         "alignmentgroup": "True",
         "base": [
          "2024-01-02T14:00:00",
          "2024-01-02T15:15:00",
          "2024-01-02T17:30:00",
          "2024-01-02T18:40:00",
          "2024-01-02T18:55:00",
          "2024-01-02T19:50:00",
          "2024-01-02T20:35:00",
          "2024-01-03T15:10:00",
          "2024-01-03T17:25:00",
          "2024-01-03T18:40:00",
          "2024-01-03T18:55:00",
          "2024-01-03T19:50:00",
          "2024-01-03T20:35:00",
          "2024-01-04T14:45:00",
          "2024-01-04T15:30:00",
          "2024-01-04T17:25:00",
          "2024-01-04T18:40:00",
          "2024-01-04T18:55:00",
          "2024-01-04T19:50:00",
          "2024-01-04T20:35:00",
          "2024-01-05T13:30:00",
          "2024-01-05T14:45:00",
          "2024-01-05T15:30:00",
          "2024-01-05T17:30:00",
          "2024-01-05T18:40:00",
          "2024-01-05T18:55:00",
          "2024-01-05T19:50:00",
          "2024-01-05T20:35:00",
          "2024-01-06T16:40:00",
          "2024-01-06T17:30:00",
          "2024-01-06T18:45:00",
          "2024-01-06T19:00:00",
          "2024-01-06T19:50:00",
          "2024-01-06T20:35:00",
          "2024-01-07T16:40:00",
          "2024-01-07T17:30:00",
          "2024-01-07T18:45:00",
          "2024-01-07T19:00:00",
          "2024-01-07T19:55:00",
          "2024-01-07T20:35:00",
          "2024-01-08T14:35:00",
          "2024-01-08T15:15:00",
          "2024-01-08T17:30:00",
          "2024-01-08T18:40:00",
          "2024-01-08T18:55:00",
          "2024-01-08T19:50:00",
          "2024-01-08T20:35:00",
          "2024-01-09T13:30:00",
          "2024-01-09T14:15:00",
          "2024-01-09T15:30:00",
          "2024-01-09T17:45:00",
          "2024-01-09T19:00:00",
          "2024-01-09T19:15:00",
          "2024-01-09T20:10:00",
          "2024-01-09T20:55:00",
          "2024-01-10T14:30:00",
          "2024-01-10T15:15:00",
          "2024-01-10T17:30:00",
          "2024-01-10T18:40:00",
          "2024-01-10T18:55:00",
          "2024-01-10T19:50:00",
          "2024-01-10T20:35:00",
          "2024-01-11T13:30:00",
          "2024-01-11T14:15:00",
          "2024-01-11T16:00:00",
          "2024-01-11T17:40:00",
          "2024-01-11T18:50:00",
          "2024-01-11T19:05:00",
          "2024-01-11T20:00:00",
          "2024-01-11T20:45:00",
          "2024-01-12T14:00:00",
          "2024-01-12T16:05:00",
          "2024-01-12T17:45:00",
          "2024-01-12T18:55:00",
          "2024-01-12T19:10:00",
          "2024-01-12T20:05:00",
          "2024-01-12T20:50:00",
          "2024-01-13T16:45:00",
          "2024-01-13T17:30:00",
          "2024-01-13T18:40:00",
          "2024-01-13T18:55:00",
          "2024-01-13T19:50:00",
          "2024-01-13T20:35:00",
          "2024-01-14T16:45:00",
          "2024-01-14T17:30:00",
          "2024-01-14T18:40:00",
          "2024-01-14T18:55:00",
          "2024-01-14T19:50:00",
          "2024-01-14T20:35:00",
          "2024-01-15T14:30:00",
          "2024-01-15T15:15:00",
          "2024-01-15T17:30:00",
          "2024-01-15T18:40:00",
          "2024-01-15T18:55:00",
          "2024-01-15T19:50:00",
          "2024-01-15T20:35:00",
          "2024-01-16T13:30:00",
          "2024-01-16T14:00:00",
          "2024-01-16T15:00:00",
          "2024-01-16T17:30:00",
          "2024-01-16T18:40:00",
          "2024-01-16T18:55:00",
          "2024-01-16T19:50:00",
          "2024-01-16T20:35:00",
          "2024-01-17T14:00:00",
          "2024-01-17T14:45:00",
          "2024-01-17T17:30:00",
          "2024-01-17T18:40:00",
          "2024-01-17T18:55:00",
          "2024-01-17T19:50:00",
          "2024-01-17T20:35:00",
          "2024-01-18T14:00:00",
          "2024-01-18T16:15:00",
          "2024-01-18T16:55:00",
          "2024-01-18T17:40:00",
          "2024-01-18T18:50:00",
          "2024-01-18T19:05:00",
          "2024-01-18T20:00:00",
          "2024-01-18T20:45:00",
          "2024-01-19T13:30:00",
          "2024-01-19T14:15:00",
          "2024-01-19T16:00:00",
          "2024-01-19T17:40:00",
          "2024-01-19T18:40:00",
          "2024-01-19T18:55:00",
          "2024-01-19T19:50:00",
          "2024-01-19T20:35:00",
          "2024-01-20T16:35:00",
          "2024-01-20T17:30:00",
          "2024-01-20T18:40:00",
          "2024-01-20T18:55:00",
          "2024-01-20T19:50:00",
          "2024-01-20T20:35:00",
          "2024-01-21T16:45:00",
          "2024-01-21T17:30:00",
          "2024-01-21T18:40:00",
          "2024-01-21T18:55:00",
          "2024-01-21T19:50:00",
          "2024-01-21T20:35:00",
          "2024-01-22T14:30:00",
          "2024-01-22T15:15:00",
          "2024-01-22T17:30:00",
          "2024-01-22T18:40:00",
          "2024-01-22T18:55:00",
          "2024-01-22T19:50:00",
          "2024-01-22T20:35:00",
          "2024-01-23T16:15:00",
          "2024-01-23T17:30:00",
          "2024-01-23T18:40:00",
          "2024-01-23T18:55:00",
          "2024-01-23T19:50:00",
          "2024-01-23T20:35:00",
          "2024-01-24T14:30:00",
          "2024-01-24T15:15:00",
          "2024-01-24T17:30:00",
          "2024-01-24T18:40:00",
          "2024-01-24T18:55:00",
          "2024-01-24T19:50:00",
          "2024-01-24T20:35:00",
          "2024-01-25T14:30:00",
          "2024-01-25T15:15:00",
          "2024-01-25T17:30:00",
          "2024-01-25T18:40:00",
          "2024-01-25T18:55:00",
          "2024-01-25T19:50:00",
          "2024-01-25T20:35:00",
          "2024-01-26T14:30:00",
          "2024-01-26T15:15:00",
          "2024-01-26T17:30:00",
          "2024-01-26T18:40:00",
          "2024-01-26T18:55:00",
          "2024-01-26T19:50:00",
          "2024-01-26T20:35:00",
          "2024-01-27T16:45:00",
          "2024-01-27T17:30:00",
          "2024-01-27T18:40:00",
          "2024-01-27T18:55:00",
          "2024-01-27T19:50:00",
          "2024-01-27T20:35:00",
          "2024-01-28T16:45:00",
          "2024-01-28T17:30:00",
          "2024-01-28T18:40:00",
          "2024-01-28T18:55:00",
          "2024-01-28T19:50:00",
          "2024-01-28T20:35:00",
          "2024-01-29T14:25:00",
          "2024-01-29T15:10:00",
          "2024-01-29T17:40:00",
          "2024-01-29T18:50:00",
          "2024-01-29T19:15:00",
          "2024-01-29T20:10:00",
          "2024-01-29T20:45:00"
         ],
         "hovertemplate": "Resource=838320706<br>Start=%{base}<br>Finish=%{x}<br>Task=%{y}<extra></extra>",
         "legendgroup": "838320706",
         "marker": {
          "color": "#636efa",
          "pattern": {
           "shape": ""
          }
         },
         "name": "838320706",
         "offsetgroup": "838320706",
         "orientation": "h",
         "showlegend": true,
         "textposition": "auto",
         "type": "bar",
         "x": [
          3600000,
          7200000,
          3600000,
          900000,
          2700000,
          1800000,
          1800000,
          7200000,
          3600000,
          900000,
          2700000,
          1800000,
          1800000,
          1800000,
          5400000,
          3600000,
          900000,
          2700000,
          1800000,
          1800000,
          3600000,
          1800000,
          6300000,
          3600000,
          900000,
          2700000,
          1800000,
          1800000,
          1800000,
          3600000,
          900000,
          2700000,
          1800000,
          1800000,
          1800000,
          3600000,
          900000,
          2700000,
          1800000,
          1800000,
          1800000,
          7200000,
          3600000,
          900000,
          2700000,
          1800000,
          1800000,
          1800000,
          3600000,
          7200000,
          3600000,
          900000,
          2700000,
          1800000,
          1800000,
          1800000,
          7200000,
          3600000,
          900000,
          2700000,
          1800000,
          1800000,
          1800000,
          5400000,
          5400000,
          3600000,
          900000,
          2700000,
          1800000,
          1800000,
          7200000,
          5400000,
          3600000,
          900000,
          2700000,
          1800000,
          1800000,
          1800000,
          3600000,
          900000,
          2700000,
          1800000,
          1800000,
          1800000,
          3600000,
          900000,
          2700000,
          1800000,
          1800000,
          1800000,
          7200000,
          3600000,
          900000,
          2700000,
          1800000,
          1800000,
          900000,
          1800000,
          7200000,
          3600000,
          900000,
          2700000,
          1800000,
          1800000,
          1800000,
          9000000,
          3600000,
          900000,
          2700000,
          1800000,
          1800000,
          7200000,
          1800000,
          2700000,
          3600000,
          900000,
          2700000,
          1800000,
          2700000,
          1800000,
          5400000,
          5400000,
          3600000,
          900000,
          2700000,
          1800000,
          1800000,
          1800000,
          3600000,
          900000,
          2700000,
          1800000,
          2700000,
          1800000,
          3600000,
          900000,
          2700000,
          1800000,
          2400000,
          1800000,
          7200000,
          3600000,
          900000,
          2700000,
          1800000,
          1800000,
          3600000,
          3600000,
          900000,
          2700000,
          1800000,
          1800000,
          1800000,
          7200000,
          3600000,
          900000,
          2700000,
          1800000,
          1800000,
          1800000,
          7200000,
          3600000,
          900000,
          2700000,
          1800000,
          1800000,
          1800000,
          9000000,
          3600000,
          900000,
          2700000,
          1800000,
          1800000,
          1800000,
          3600000,
          900000,
          2700000,
          1800000,
          1800000,
          1800000,
          3600000,
          900000,
          2700000,
          1800000,
          1800000,
          1800000,
          7200000,
          3600000,
          900000,
          2700000,
          1800000,
          1800000
         ],
         "xaxis": "x",
         "y": [
          "AIDE MENAGERE",
          "AIDE MENAGERE",
          "REPAS",
          "REPAS",
          "TOILETTE",
          "TOILETTE",
          "TOILETTE",
          "AIDE MENAGERE",
          "REPAS",
          "REPAS",
          "TOILETTE",
          "TOILETTE",
          "TOILETTE",
          "AIDE MENAGERE",
          "AIDE MENAGERE",
          "REPAS",
          "REPAS",
          "TOILETTE",
          "TOILETTE",
          "TOILETTE",
          "AIDE MENAGERE",
          "AIDE MENAGERE",
          "AIDE MENAGERE",
          "REPAS",
          "REPAS",
          "TOILETTE",
          "TOILETTE",
          "TOILETTE",
          "AIDE MENAGERE",
          "REPAS",
          "REPAS",
          "TOILETTE",
          "TOILETTE",
          "TOILETTE",
          "AIDE MENAGERE",
          "REPAS",
          "REPAS",
          "TOILETTE",
          "TOILETTE",
          "TOILETTE",
          "AIDE MENAGERE",
          "AIDE MENAGERE",
          "REPAS",
          "REPAS",
          "TOILETTE",
          "TOILETTE",
          "TOILETTE",
          "AIDE MENAGERE",
          "AIDE MENAGERE",
          "AIDE MENAGERE",
          "REPAS",
          "REPAS",
          "TOILETTE",
          "TOILETTE",
          "TOILETTE",
          "AIDE MENAGERE",
          "AIDE MENAGERE",
          "REPAS",
          "REPAS",
          "TOILETTE",
          "TOILETTE",
          "TOILETTE",
          "AIDE MENAGERE",
          "AIDE MENAGERE",
          "AIDE MENAGERE",
          "REPAS",
          "REPAS",
          "TOILETTE",
          "TOILETTE",
          "TOILETTE",
          "AIDE MENAGERE",
          "AIDE MENAGERE",
          "REPAS",
          "REPAS",
          "TOILETTE",
          "TOILETTE",
          "TOILETTE",
          "AIDE MENAGERE",
          "REPAS",
          "REPAS",
          "TOILETTE",
          "TOILETTE",
          "TOILETTE",
          "AIDE MENAGERE",
          "REPAS",
          "REPAS",
          "TOILETTE",
          "TOILETTE",
          "TOILETTE",
          "AIDE MENAGERE",
          "AIDE MENAGERE",
          "REPAS",
          "REPAS",
          "TOILETTE",
          "TOILETTE",
          "TOILETTE",
          "VIE SOCIALE",
          "AIDE MENAGERE",
          "AIDE MENAGERE",
          "REPAS",
          "REPAS",
          "TOILETTE",
          "TOILETTE",
          "TOILETTE",
          "AIDE MENAGERE",
          "AIDE MENAGERE",
          "REPAS",
          "REPAS",
          "TOILETTE",
          "TOILETTE",
          "TOILETTE",
          "AIDE MENAGERE",
          "AIDE MENAGERE",
          "AIDE MENAGERE",
          "REPAS",
          "REPAS",
          "TOILETTE",
          "TOILETTE",
          "TOILETTE",
          "AIDE MENAGERE",
          "AIDE MENAGERE",
          "AIDE MENAGERE",
          "REPAS",
          "REPAS",
          "TOILETTE",
          "TOILETTE",
          "TOILETTE",
          "AIDE MENAGERE",
          "REPAS",
          "REPAS",
          "TOILETTE",
          "TOILETTE",
          "TOILETTE",
          "AIDE MENAGERE",
          "REPAS",
          "REPAS",
          "TOILETTE",
          "TOILETTE",
          "TOILETTE",
          "AIDE MENAGERE",
          "AIDE MENAGERE",
          "REPAS",
          "REPAS",
          "TOILETTE",
          "TOILETTE",
          "TOILETTE",
          "AIDE MENAGERE",
          "REPAS",
          "REPAS",
          "TOILETTE",
          "TOILETTE",
          "TOILETTE",
          "AIDE MENAGERE",
          "AIDE MENAGERE",
          "REPAS",
          "REPAS",
          "TOILETTE",
          "TOILETTE",
          "TOILETTE",
          "AIDE MENAGERE",
          "AIDE MENAGERE",
          "REPAS",
          "REPAS",
          "TOILETTE",
          "TOILETTE",
          "TOILETTE",
          "AIDE MENAGERE",
          "AIDE MENAGERE",
          "REPAS",
          "REPAS",
          "TOILETTE",
          "TOILETTE",
          "TOILETTE",
          "AIDE MENAGERE",
          "REPAS",
          "REPAS",
          "TOILETTE",
          "TOILETTE",
          "TOILETTE",
          "AIDE MENAGERE",
          "REPAS",
          "REPAS",
          "TOILETTE",
          "TOILETTE",
          "TOILETTE",
          "AIDE MENAGERE",
          "AIDE MENAGERE",
          "REPAS",
          "REPAS",
          "TOILETTE",
          "TOILETTE",
          "TOILETTE"
         ],
         "yaxis": "y"
        }
       ],
       "layout": {
        "barmode": "overlay",
        "legend": {
         "title": {
          "text": "Resource"
         },
         "tracegroupgap": 0
        },
        "margin": {
         "t": 60
        },
        "template": {
         "data": {
          "bar": [
           {
            "error_x": {
             "color": "#2a3f5f"
            },
            "error_y": {
             "color": "#2a3f5f"
            },
            "marker": {
             "line": {
              "color": "#E5ECF6",
              "width": 0.5
             },
             "pattern": {
              "fillmode": "overlay",
              "size": 10,
              "solidity": 0.2
             }
            },
            "type": "bar"
           }
          ],
          "barpolar": [
           {
            "marker": {
             "line": {
              "color": "#E5ECF6",
              "width": 0.5
             },
             "pattern": {
              "fillmode": "overlay",
              "size": 10,
              "solidity": 0.2
             }
            },
            "type": "barpolar"
           }
          ],
          "carpet": [
           {
            "aaxis": {
             "endlinecolor": "#2a3f5f",
             "gridcolor": "white",
             "linecolor": "white",
             "minorgridcolor": "white",
             "startlinecolor": "#2a3f5f"
            },
            "baxis": {
             "endlinecolor": "#2a3f5f",
             "gridcolor": "white",
             "linecolor": "white",
             "minorgridcolor": "white",
             "startlinecolor": "#2a3f5f"
            },
            "type": "carpet"
           }
          ],
          "choropleth": [
           {
            "colorbar": {
             "outlinewidth": 0,
             "ticks": ""
            },
            "type": "choropleth"
           }
          ],
          "contour": [
           {
            "colorbar": {
             "outlinewidth": 0,
             "ticks": ""
            },
            "colorscale": [
             [
              0,
              "#0d0887"
             ],
             [
              0.1111111111111111,
              "#46039f"
             ],
             [
              0.2222222222222222,
              "#7201a8"
             ],
             [
              0.3333333333333333,
              "#9c179e"
             ],
             [
              0.4444444444444444,
              "#bd3786"
             ],
             [
              0.5555555555555556,
              "#d8576b"
             ],
             [
              0.6666666666666666,
              "#ed7953"
             ],
             [
              0.7777777777777778,
              "#fb9f3a"
             ],
             [
              0.8888888888888888,
              "#fdca26"
             ],
             [
              1,
              "#f0f921"
             ]
            ],
            "type": "contour"
           }
          ],
          "contourcarpet": [
           {
            "colorbar": {
             "outlinewidth": 0,
             "ticks": ""
            },
            "type": "contourcarpet"
           }
          ],
          "heatmap": [
           {
            "colorbar": {
             "outlinewidth": 0,
             "ticks": ""
            },
            "colorscale": [
             [
              0,
              "#0d0887"
             ],
             [
              0.1111111111111111,
              "#46039f"
             ],
             [
              0.2222222222222222,
              "#7201a8"
             ],
             [
              0.3333333333333333,
              "#9c179e"
             ],
             [
              0.4444444444444444,
              "#bd3786"
             ],
             [
              0.5555555555555556,
              "#d8576b"
             ],
             [
              0.6666666666666666,
              "#ed7953"
             ],
             [
              0.7777777777777778,
              "#fb9f3a"
             ],
             [
              0.8888888888888888,
              "#fdca26"
             ],
             [
              1,
              "#f0f921"
             ]
            ],
            "type": "heatmap"
           }
          ],
          "heatmapgl": [
           {
            "colorbar": {
             "outlinewidth": 0,
             "ticks": ""
            },
            "colorscale": [
             [
              0,
              "#0d0887"
             ],
             [
              0.1111111111111111,
              "#46039f"
             ],
             [
              0.2222222222222222,
              "#7201a8"
             ],
             [
              0.3333333333333333,
              "#9c179e"
             ],
             [
              0.4444444444444444,
              "#bd3786"
             ],
             [
              0.5555555555555556,
              "#d8576b"
             ],
             [
              0.6666666666666666,
              "#ed7953"
             ],
             [
              0.7777777777777778,
              "#fb9f3a"
             ],
             [
              0.8888888888888888,
              "#fdca26"
             ],
             [
              1,
              "#f0f921"
             ]
            ],
            "type": "heatmapgl"
           }
          ],
          "histogram": [
           {
            "marker": {
             "pattern": {
              "fillmode": "overlay",
              "size": 10,
              "solidity": 0.2
             }
            },
            "type": "histogram"
           }
          ],
          "histogram2d": [
           {
            "colorbar": {
             "outlinewidth": 0,
             "ticks": ""
            },
            "colorscale": [
             [
              0,
              "#0d0887"
             ],
             [
              0.1111111111111111,
              "#46039f"
             ],
             [
              0.2222222222222222,
              "#7201a8"
             ],
             [
              0.3333333333333333,
              "#9c179e"
             ],
             [
              0.4444444444444444,
              "#bd3786"
             ],
             [
              0.5555555555555556,
              "#d8576b"
             ],
             [
              0.6666666666666666,
              "#ed7953"
             ],
             [
              0.7777777777777778,
              "#fb9f3a"
             ],
             [
              0.8888888888888888,
              "#fdca26"
             ],
             [
              1,
              "#f0f921"
             ]
            ],
            "type": "histogram2d"
           }
          ],
          "histogram2dcontour": [
           {
            "colorbar": {
             "outlinewidth": 0,
             "ticks": ""
            },
            "colorscale": [
             [
              0,
              "#0d0887"
             ],
             [
              0.1111111111111111,
              "#46039f"
             ],
             [
              0.2222222222222222,
              "#7201a8"
             ],
             [
              0.3333333333333333,
              "#9c179e"
             ],
             [
              0.4444444444444444,
              "#bd3786"
             ],
             [
              0.5555555555555556,
              "#d8576b"
             ],
             [
              0.6666666666666666,
              "#ed7953"
             ],
             [
              0.7777777777777778,
              "#fb9f3a"
             ],
             [
              0.8888888888888888,
              "#fdca26"
             ],
             [
              1,
              "#f0f921"
             ]
            ],
            "type": "histogram2dcontour"
           }
          ],
          "mesh3d": [
           {
            "colorbar": {
             "outlinewidth": 0,
             "ticks": ""
            },
            "type": "mesh3d"
           }
          ],
          "parcoords": [
           {
            "line": {
             "colorbar": {
              "outlinewidth": 0,
              "ticks": ""
             }
            },
            "type": "parcoords"
           }
          ],
          "pie": [
           {
            "automargin": true,
            "type": "pie"
           }
          ],
          "scatter": [
           {
            "fillpattern": {
             "fillmode": "overlay",
             "size": 10,
             "solidity": 0.2
            },
            "type": "scatter"
           }
          ],
          "scatter3d": [
           {
            "line": {
             "colorbar": {
              "outlinewidth": 0,
              "ticks": ""
             }
            },
            "marker": {
             "colorbar": {
              "outlinewidth": 0,
              "ticks": ""
             }
            },
            "type": "scatter3d"
           }
          ],
          "scattercarpet": [
           {
            "marker": {
             "colorbar": {
              "outlinewidth": 0,
              "ticks": ""
             }
            },
            "type": "scattercarpet"
           }
          ],
          "scattergeo": [
           {
            "marker": {
             "colorbar": {
              "outlinewidth": 0,
              "ticks": ""
             }
            },
            "type": "scattergeo"
           }
          ],
          "scattergl": [
           {
            "marker": {
             "colorbar": {
              "outlinewidth": 0,
              "ticks": ""
             }
            },
            "type": "scattergl"
           }
          ],
          "scattermapbox": [
           {
            "marker": {
             "colorbar": {
              "outlinewidth": 0,
              "ticks": ""
             }
            },
            "type": "scattermapbox"
           }
          ],
          "scatterpolar": [
           {
            "marker": {
             "colorbar": {
              "outlinewidth": 0,
              "ticks": ""
             }
            },
            "type": "scatterpolar"
           }
          ],
          "scatterpolargl": [
           {
            "marker": {
             "colorbar": {
              "outlinewidth": 0,
              "ticks": ""
             }
            },
            "type": "scatterpolargl"
           }
          ],
          "scatterternary": [
           {
            "marker": {
             "colorbar": {
              "outlinewidth": 0,
              "ticks": ""
             }
            },
            "type": "scatterternary"
           }
          ],
          "surface": [
           {
            "colorbar": {
             "outlinewidth": 0,
             "ticks": ""
            },
            "colorscale": [
             [
              0,
              "#0d0887"
             ],
             [
              0.1111111111111111,
              "#46039f"
             ],
             [
              0.2222222222222222,
              "#7201a8"
             ],
             [
              0.3333333333333333,
              "#9c179e"
             ],
             [
              0.4444444444444444,
              "#bd3786"
             ],
             [
              0.5555555555555556,
              "#d8576b"
             ],
             [
              0.6666666666666666,
              "#ed7953"
             ],
             [
              0.7777777777777778,
              "#fb9f3a"
             ],
             [
              0.8888888888888888,
              "#fdca26"
             ],
             [
              1,
              "#f0f921"
             ]
            ],
            "type": "surface"
           }
          ],
          "table": [
           {
            "cells": {
             "fill": {
              "color": "#EBF0F8"
             },
             "line": {
              "color": "white"
             }
            },
            "header": {
             "fill": {
              "color": "#C8D4E3"
             },
             "line": {
              "color": "white"
             }
            },
            "type": "table"
           }
          ]
         },
         "layout": {
          "annotationdefaults": {
           "arrowcolor": "#2a3f5f",
           "arrowhead": 0,
           "arrowwidth": 1
          },
          "autotypenumbers": "strict",
          "coloraxis": {
           "colorbar": {
            "outlinewidth": 0,
            "ticks": ""
           }
          },
          "colorscale": {
           "diverging": [
            [
             0,
             "#8e0152"
            ],
            [
             0.1,
             "#c51b7d"
            ],
            [
             0.2,
             "#de77ae"
            ],
            [
             0.3,
             "#f1b6da"
            ],
            [
             0.4,
             "#fde0ef"
            ],
            [
             0.5,
             "#f7f7f7"
            ],
            [
             0.6,
             "#e6f5d0"
            ],
            [
             0.7,
             "#b8e186"
            ],
            [
             0.8,
             "#7fbc41"
            ],
            [
             0.9,
             "#4d9221"
            ],
            [
             1,
             "#276419"
            ]
           ],
           "sequential": [
            [
             0,
             "#0d0887"
            ],
            [
             0.1111111111111111,
             "#46039f"
            ],
            [
             0.2222222222222222,
             "#7201a8"
            ],
            [
             0.3333333333333333,
             "#9c179e"
            ],
            [
             0.4444444444444444,
             "#bd3786"
            ],
            [
             0.5555555555555556,
             "#d8576b"
            ],
            [
             0.6666666666666666,
             "#ed7953"
            ],
            [
             0.7777777777777778,
             "#fb9f3a"
            ],
            [
             0.8888888888888888,
             "#fdca26"
            ],
            [
             1,
             "#f0f921"
            ]
           ],
           "sequentialminus": [
            [
             0,
             "#0d0887"
            ],
            [
             0.1111111111111111,
             "#46039f"
            ],
            [
             0.2222222222222222,
             "#7201a8"
            ],
            [
             0.3333333333333333,
             "#9c179e"
            ],
            [
             0.4444444444444444,
             "#bd3786"
            ],
            [
             0.5555555555555556,
             "#d8576b"
            ],
            [
             0.6666666666666666,
             "#ed7953"
            ],
            [
             0.7777777777777778,
             "#fb9f3a"
            ],
            [
             0.8888888888888888,
             "#fdca26"
            ],
            [
             1,
             "#f0f921"
            ]
           ]
          },
          "colorway": [
           "#636efa",
           "#EF553B",
           "#00cc96",
           "#ab63fa",
           "#FFA15A",
           "#19d3f3",
           "#FF6692",
           "#B6E880",
           "#FF97FF",
           "#FECB52"
          ],
          "font": {
           "color": "#2a3f5f"
          },
          "geo": {
           "bgcolor": "white",
           "lakecolor": "white",
           "landcolor": "#E5ECF6",
           "showlakes": true,
           "showland": true,
           "subunitcolor": "white"
          },
          "hoverlabel": {
           "align": "left"
          },
          "hovermode": "closest",
          "mapbox": {
           "style": "light"
          },
          "paper_bgcolor": "white",
          "plot_bgcolor": "#E5ECF6",
          "polar": {
           "angularaxis": {
            "gridcolor": "white",
            "linecolor": "white",
            "ticks": ""
           },
           "bgcolor": "#E5ECF6",
           "radialaxis": {
            "gridcolor": "white",
            "linecolor": "white",
            "ticks": ""
           }
          },
          "scene": {
           "xaxis": {
            "backgroundcolor": "#E5ECF6",
            "gridcolor": "white",
            "gridwidth": 2,
            "linecolor": "white",
            "showbackground": true,
            "ticks": "",
            "zerolinecolor": "white"
           },
           "yaxis": {
            "backgroundcolor": "#E5ECF6",
            "gridcolor": "white",
            "gridwidth": 2,
            "linecolor": "white",
            "showbackground": true,
            "ticks": "",
            "zerolinecolor": "white"
           },
           "zaxis": {
            "backgroundcolor": "#E5ECF6",
            "gridcolor": "white",
            "gridwidth": 2,
            "linecolor": "white",
            "showbackground": true,
            "ticks": "",
            "zerolinecolor": "white"
           }
          },
          "shapedefaults": {
           "line": {
            "color": "#2a3f5f"
           }
          },
          "ternary": {
           "aaxis": {
            "gridcolor": "white",
            "linecolor": "white",
            "ticks": ""
           },
           "baxis": {
            "gridcolor": "white",
            "linecolor": "white",
            "ticks": ""
           },
           "bgcolor": "#E5ECF6",
           "caxis": {
            "gridcolor": "white",
            "linecolor": "white",
            "ticks": ""
           }
          },
          "title": {
           "x": 0.05
          },
          "xaxis": {
           "automargin": true,
           "gridcolor": "white",
           "linecolor": "white",
           "ticks": "",
           "title": {
            "standoff": 15
           },
           "zerolinecolor": "white",
           "zerolinewidth": 2
          },
          "yaxis": {
           "automargin": true,
           "gridcolor": "white",
           "linecolor": "white",
           "ticks": "",
           "title": {
            "standoff": 15
           },
           "zerolinecolor": "white",
           "zerolinewidth": 2
          }
         }
        },
        "title": {
         "text": "Agenda for Intervenant ID: 838320706"
        },
        "xaxis": {
         "anchor": "y",
         "domain": [
          0,
          1
         ],
         "rangeselector": {
          "buttons": [
           {
            "count": 1,
            "label": "1D",
            "step": "day",
            "stepmode": "backward"
           },
           {
            "count": 7,
            "label": "1W",
            "step": "day",
            "stepmode": "backward"
           },
           {
            "step": "all"
           }
          ]
         },
         "rangeslider": {
          "visible": true
         },
         "type": "date"
        },
        "yaxis": {
         "anchor": "x",
         "autorange": "reversed",
         "domain": [
          0,
          1
         ],
         "title": {
          "text": "Task"
         }
        }
       }
      }
     },
     "metadata": {},
     "output_type": "display_data"
    },
    {
     "data": {
      "application/vnd.plotly.v1+json": {
       "config": {
        "plotlyServerURL": "https://plot.ly"
       },
       "data": [
        {
         "alignmentgroup": "True",
         "base": [
          "2024-01-03T07:30:00",
          "2024-01-03T08:25:00",
          "2024-01-03T09:20:00",
          "2024-01-03T10:20:00",
          "2024-01-03T11:15:00",
          "2024-01-03T12:15:00",
          "2024-01-03T12:30:00",
          "2024-01-04T07:30:00",
          "2024-01-04T08:25:00",
          "2024-01-04T09:20:00",
          "2024-01-04T10:05:00",
          "2024-01-04T11:00:00",
          "2024-01-04T12:00:00",
          "2024-01-04T12:15:00",
          "2024-01-05T07:30:00",
          "2024-01-05T08:25:00",
          "2024-01-05T09:20:00",
          "2024-01-05T10:20:00",
          "2024-01-05T11:15:00",
          "2024-01-05T12:15:00",
          "2024-01-05T13:00:00",
          "2024-01-08T07:30:00",
          "2024-01-08T08:30:00",
          "2024-01-08T09:25:00",
          "2024-01-08T10:25:00",
          "2024-01-08T11:00:00",
          "2024-01-08T12:30:00",
          "2024-01-08T13:20:00",
          "2024-01-11T07:45:00",
          "2024-01-11T08:45:00",
          "2024-01-11T09:45:00",
          "2024-01-11T10:40:00",
          "2024-01-11T11:40:00",
          "2024-01-11T11:55:00",
          "2024-01-12T07:30:00",
          "2024-01-12T08:25:00",
          "2024-01-12T09:20:00",
          "2024-01-12T10:15:00",
          "2024-01-12T11:05:00",
          "2024-01-12T12:00:00",
          "2024-01-12T12:15:00",
          "2024-01-15T07:30:00",
          "2024-01-15T08:30:00",
          "2024-01-15T09:25:00",
          "2024-01-15T10:25:00",
          "2024-01-15T11:45:00",
          "2024-01-15T12:35:00",
          "2024-01-18T07:30:00",
          "2024-01-18T08:20:00",
          "2024-01-18T09:20:00",
          "2024-01-18T10:05:00",
          "2024-01-18T11:05:00",
          "2024-01-18T12:00:00",
          "2024-01-18T12:15:00",
          "2024-01-18T13:10:00",
          "2024-01-19T07:30:00",
          "2024-01-19T08:25:00",
          "2024-01-19T09:20:00",
          "2024-01-19T10:15:00",
          "2024-01-19T10:55:00",
          "2024-01-23T07:30:00",
          "2024-01-23T08:30:00",
          "2024-01-23T09:30:00",
          "2024-01-23T10:30:00",
          "2024-01-23T12:35:00",
          "2024-01-23T13:10:00",
          "2024-01-24T07:30:00",
          "2024-01-24T08:30:00",
          "2024-01-24T09:30:00",
          "2024-01-24T10:30:00",
          "2024-01-24T11:30:00",
          "2024-01-24T12:30:00",
          "2024-01-24T13:15:00",
          "2024-01-29T07:30:00",
          "2024-01-29T08:30:00",
          "2024-01-29T09:30:00",
          "2024-01-29T10:25:00",
          "2024-01-29T11:20:00",
          "2024-01-29T12:30:00",
          "2024-01-29T13:30:00"
         ],
         "hovertemplate": "Resource=776399834<br>Start=%{base}<br>Finish=%{x}<br>Task=%{y}<extra></extra>",
         "legendgroup": "776399834",
         "marker": {
          "color": "#636efa",
          "pattern": {
           "shape": ""
          }
         },
         "name": "776399834",
         "offsetgroup": "776399834",
         "orientation": "h",
         "showlegend": true,
         "textposition": "auto",
         "type": "bar",
         "x": [
          2700000,
          2700000,
          2700000,
          2700000,
          2700000,
          900000,
          2700000,
          2700000,
          2700000,
          1800000,
          2700000,
          2700000,
          900000,
          2700000,
          2700000,
          2700000,
          2700000,
          2700000,
          2700000,
          2700000,
          900000,
          2700000,
          2700000,
          2700000,
          1800000,
          3600000,
          1800000,
          900000,
          2700000,
          2700000,
          2700000,
          2700000,
          900000,
          2700000,
          2700000,
          2700000,
          2700000,
          2700000,
          2700000,
          900000,
          2700000,
          2700000,
          2700000,
          2700000,
          3600000,
          1800000,
          900000,
          2700000,
          2700000,
          1800000,
          2700000,
          2700000,
          900000,
          2700000,
          900000,
          2700000,
          2700000,
          2700000,
          1800000,
          3600000,
          2700000,
          2700000,
          2700000,
          2700000,
          1800000,
          900000,
          2700000,
          2700000,
          2700000,
          2700000,
          2700000,
          1800000,
          900000,
          2700000,
          2700000,
          2700000,
          2700000,
          3600000,
          1800000,
          900000
         ],
         "xaxis": "x",
         "y": [
          "TOILETTE",
          "TOILETTE",
          "TOILETTE",
          "TOILETTE",
          "TOILETTE",
          "REPAS",
          "REPAS",
          "TOILETTE",
          "TOILETTE",
          "TOILETTE",
          "TOILETTE",
          "TOILETTE",
          "REPAS",
          "REPAS",
          "TOILETTE",
          "TOILETTE",
          "TOILETTE",
          "TOILETTE",
          "TOILETTE",
          "REPAS",
          "REPAS",
          "TOILETTE",
          "TOILETTE",
          "TOILETTE",
          "TOILETTE",
          "TOILETTE",
          "REPAS",
          "VIE SOCIALE",
          "TOILETTE",
          "TOILETTE",
          "TOILETTE",
          "TOILETTE",
          "REPAS",
          "REPAS",
          "TOILETTE",
          "TOILETTE",
          "TOILETTE",
          "TOILETTE",
          "TOILETTE",
          "REPAS",
          "REPAS",
          "TOILETTE",
          "TOILETTE",
          "TOILETTE",
          "TOILETTE",
          "REPAS",
          "VIE SOCIALE",
          "TOILETTE",
          "TOILETTE",
          "TOILETTE",
          "TOILETTE",
          "TOILETTE",
          "REPAS",
          "REPAS",
          "VIE SOCIALE",
          "TOILETTE",
          "TOILETTE",
          "TOILETTE",
          "TOILETTE",
          "TOILETTE",
          "TOILETTE",
          "TOILETTE",
          "TOILETTE",
          "TOILETTE",
          "REPAS",
          "VIE SOCIALE",
          "TOILETTE",
          "TOILETTE",
          "TOILETTE",
          "TOILETTE",
          "TOILETTE",
          "REPAS",
          "VIE SOCIALE",
          "TOILETTE",
          "TOILETTE",
          "TOILETTE",
          "TOILETTE",
          "TOILETTE",
          "REPAS",
          "VIE SOCIALE"
         ],
         "yaxis": "y"
        }
       ],
       "layout": {
        "barmode": "overlay",
        "legend": {
         "title": {
          "text": "Resource"
         },
         "tracegroupgap": 0
        },
        "margin": {
         "t": 60
        },
        "template": {
         "data": {
          "bar": [
           {
            "error_x": {
             "color": "#2a3f5f"
            },
            "error_y": {
             "color": "#2a3f5f"
            },
            "marker": {
             "line": {
              "color": "#E5ECF6",
              "width": 0.5
             },
             "pattern": {
              "fillmode": "overlay",
              "size": 10,
              "solidity": 0.2
             }
            },
            "type": "bar"
           }
          ],
          "barpolar": [
           {
            "marker": {
             "line": {
              "color": "#E5ECF6",
              "width": 0.5
             },
             "pattern": {
              "fillmode": "overlay",
              "size": 10,
              "solidity": 0.2
             }
            },
            "type": "barpolar"
           }
          ],
          "carpet": [
           {
            "aaxis": {
             "endlinecolor": "#2a3f5f",
             "gridcolor": "white",
             "linecolor": "white",
             "minorgridcolor": "white",
             "startlinecolor": "#2a3f5f"
            },
            "baxis": {
             "endlinecolor": "#2a3f5f",
             "gridcolor": "white",
             "linecolor": "white",
             "minorgridcolor": "white",
             "startlinecolor": "#2a3f5f"
            },
            "type": "carpet"
           }
          ],
          "choropleth": [
           {
            "colorbar": {
             "outlinewidth": 0,
             "ticks": ""
            },
            "type": "choropleth"
           }
          ],
          "contour": [
           {
            "colorbar": {
             "outlinewidth": 0,
             "ticks": ""
            },
            "colorscale": [
             [
              0,
              "#0d0887"
             ],
             [
              0.1111111111111111,
              "#46039f"
             ],
             [
              0.2222222222222222,
              "#7201a8"
             ],
             [
              0.3333333333333333,
              "#9c179e"
             ],
             [
              0.4444444444444444,
              "#bd3786"
             ],
             [
              0.5555555555555556,
              "#d8576b"
             ],
             [
              0.6666666666666666,
              "#ed7953"
             ],
             [
              0.7777777777777778,
              "#fb9f3a"
             ],
             [
              0.8888888888888888,
              "#fdca26"
             ],
             [
              1,
              "#f0f921"
             ]
            ],
            "type": "contour"
           }
          ],
          "contourcarpet": [
           {
            "colorbar": {
             "outlinewidth": 0,
             "ticks": ""
            },
            "type": "contourcarpet"
           }
          ],
          "heatmap": [
           {
            "colorbar": {
             "outlinewidth": 0,
             "ticks": ""
            },
            "colorscale": [
             [
              0,
              "#0d0887"
             ],
             [
              0.1111111111111111,
              "#46039f"
             ],
             [
              0.2222222222222222,
              "#7201a8"
             ],
             [
              0.3333333333333333,
              "#9c179e"
             ],
             [
              0.4444444444444444,
              "#bd3786"
             ],
             [
              0.5555555555555556,
              "#d8576b"
             ],
             [
              0.6666666666666666,
              "#ed7953"
             ],
             [
              0.7777777777777778,
              "#fb9f3a"
             ],
             [
              0.8888888888888888,
              "#fdca26"
             ],
             [
              1,
              "#f0f921"
             ]
            ],
            "type": "heatmap"
           }
          ],
          "heatmapgl": [
           {
            "colorbar": {
             "outlinewidth": 0,
             "ticks": ""
            },
            "colorscale": [
             [
              0,
              "#0d0887"
             ],
             [
              0.1111111111111111,
              "#46039f"
             ],
             [
              0.2222222222222222,
              "#7201a8"
             ],
             [
              0.3333333333333333,
              "#9c179e"
             ],
             [
              0.4444444444444444,
              "#bd3786"
             ],
             [
              0.5555555555555556,
              "#d8576b"
             ],
             [
              0.6666666666666666,
              "#ed7953"
             ],
             [
              0.7777777777777778,
              "#fb9f3a"
             ],
             [
              0.8888888888888888,
              "#fdca26"
             ],
             [
              1,
              "#f0f921"
             ]
            ],
            "type": "heatmapgl"
           }
          ],
          "histogram": [
           {
            "marker": {
             "pattern": {
              "fillmode": "overlay",
              "size": 10,
              "solidity": 0.2
             }
            },
            "type": "histogram"
           }
          ],
          "histogram2d": [
           {
            "colorbar": {
             "outlinewidth": 0,
             "ticks": ""
            },
            "colorscale": [
             [
              0,
              "#0d0887"
             ],
             [
              0.1111111111111111,
              "#46039f"
             ],
             [
              0.2222222222222222,
              "#7201a8"
             ],
             [
              0.3333333333333333,
              "#9c179e"
             ],
             [
              0.4444444444444444,
              "#bd3786"
             ],
             [
              0.5555555555555556,
              "#d8576b"
             ],
             [
              0.6666666666666666,
              "#ed7953"
             ],
             [
              0.7777777777777778,
              "#fb9f3a"
             ],
             [
              0.8888888888888888,
              "#fdca26"
             ],
             [
              1,
              "#f0f921"
             ]
            ],
            "type": "histogram2d"
           }
          ],
          "histogram2dcontour": [
           {
            "colorbar": {
             "outlinewidth": 0,
             "ticks": ""
            },
            "colorscale": [
             [
              0,
              "#0d0887"
             ],
             [
              0.1111111111111111,
              "#46039f"
             ],
             [
              0.2222222222222222,
              "#7201a8"
             ],
             [
              0.3333333333333333,
              "#9c179e"
             ],
             [
              0.4444444444444444,
              "#bd3786"
             ],
             [
              0.5555555555555556,
              "#d8576b"
             ],
             [
              0.6666666666666666,
              "#ed7953"
             ],
             [
              0.7777777777777778,
              "#fb9f3a"
             ],
             [
              0.8888888888888888,
              "#fdca26"
             ],
             [
              1,
              "#f0f921"
             ]
            ],
            "type": "histogram2dcontour"
           }
          ],
          "mesh3d": [
           {
            "colorbar": {
             "outlinewidth": 0,
             "ticks": ""
            },
            "type": "mesh3d"
           }
          ],
          "parcoords": [
           {
            "line": {
             "colorbar": {
              "outlinewidth": 0,
              "ticks": ""
             }
            },
            "type": "parcoords"
           }
          ],
          "pie": [
           {
            "automargin": true,
            "type": "pie"
           }
          ],
          "scatter": [
           {
            "fillpattern": {
             "fillmode": "overlay",
             "size": 10,
             "solidity": 0.2
            },
            "type": "scatter"
           }
          ],
          "scatter3d": [
           {
            "line": {
             "colorbar": {
              "outlinewidth": 0,
              "ticks": ""
             }
            },
            "marker": {
             "colorbar": {
              "outlinewidth": 0,
              "ticks": ""
             }
            },
            "type": "scatter3d"
           }
          ],
          "scattercarpet": [
           {
            "marker": {
             "colorbar": {
              "outlinewidth": 0,
              "ticks": ""
             }
            },
            "type": "scattercarpet"
           }
          ],
          "scattergeo": [
           {
            "marker": {
             "colorbar": {
              "outlinewidth": 0,
              "ticks": ""
             }
            },
            "type": "scattergeo"
           }
          ],
          "scattergl": [
           {
            "marker": {
             "colorbar": {
              "outlinewidth": 0,
              "ticks": ""
             }
            },
            "type": "scattergl"
           }
          ],
          "scattermapbox": [
           {
            "marker": {
             "colorbar": {
              "outlinewidth": 0,
              "ticks": ""
             }
            },
            "type": "scattermapbox"
           }
          ],
          "scatterpolar": [
           {
            "marker": {
             "colorbar": {
              "outlinewidth": 0,
              "ticks": ""
             }
            },
            "type": "scatterpolar"
           }
          ],
          "scatterpolargl": [
           {
            "marker": {
             "colorbar": {
              "outlinewidth": 0,
              "ticks": ""
             }
            },
            "type": "scatterpolargl"
           }
          ],
          "scatterternary": [
           {
            "marker": {
             "colorbar": {
              "outlinewidth": 0,
              "ticks": ""
             }
            },
            "type": "scatterternary"
           }
          ],
          "surface": [
           {
            "colorbar": {
             "outlinewidth": 0,
             "ticks": ""
            },
            "colorscale": [
             [
              0,
              "#0d0887"
             ],
             [
              0.1111111111111111,
              "#46039f"
             ],
             [
              0.2222222222222222,
              "#7201a8"
             ],
             [
              0.3333333333333333,
              "#9c179e"
             ],
             [
              0.4444444444444444,
              "#bd3786"
             ],
             [
              0.5555555555555556,
              "#d8576b"
             ],
             [
              0.6666666666666666,
              "#ed7953"
             ],
             [
              0.7777777777777778,
              "#fb9f3a"
             ],
             [
              0.8888888888888888,
              "#fdca26"
             ],
             [
              1,
              "#f0f921"
             ]
            ],
            "type": "surface"
           }
          ],
          "table": [
           {
            "cells": {
             "fill": {
              "color": "#EBF0F8"
             },
             "line": {
              "color": "white"
             }
            },
            "header": {
             "fill": {
              "color": "#C8D4E3"
             },
             "line": {
              "color": "white"
             }
            },
            "type": "table"
           }
          ]
         },
         "layout": {
          "annotationdefaults": {
           "arrowcolor": "#2a3f5f",
           "arrowhead": 0,
           "arrowwidth": 1
          },
          "autotypenumbers": "strict",
          "coloraxis": {
           "colorbar": {
            "outlinewidth": 0,
            "ticks": ""
           }
          },
          "colorscale": {
           "diverging": [
            [
             0,
             "#8e0152"
            ],
            [
             0.1,
             "#c51b7d"
            ],
            [
             0.2,
             "#de77ae"
            ],
            [
             0.3,
             "#f1b6da"
            ],
            [
             0.4,
             "#fde0ef"
            ],
            [
             0.5,
             "#f7f7f7"
            ],
            [
             0.6,
             "#e6f5d0"
            ],
            [
             0.7,
             "#b8e186"
            ],
            [
             0.8,
             "#7fbc41"
            ],
            [
             0.9,
             "#4d9221"
            ],
            [
             1,
             "#276419"
            ]
           ],
           "sequential": [
            [
             0,
             "#0d0887"
            ],
            [
             0.1111111111111111,
             "#46039f"
            ],
            [
             0.2222222222222222,
             "#7201a8"
            ],
            [
             0.3333333333333333,
             "#9c179e"
            ],
            [
             0.4444444444444444,
             "#bd3786"
            ],
            [
             0.5555555555555556,
             "#d8576b"
            ],
            [
             0.6666666666666666,
             "#ed7953"
            ],
            [
             0.7777777777777778,
             "#fb9f3a"
            ],
            [
             0.8888888888888888,
             "#fdca26"
            ],
            [
             1,
             "#f0f921"
            ]
           ],
           "sequentialminus": [
            [
             0,
             "#0d0887"
            ],
            [
             0.1111111111111111,
             "#46039f"
            ],
            [
             0.2222222222222222,
             "#7201a8"
            ],
            [
             0.3333333333333333,
             "#9c179e"
            ],
            [
             0.4444444444444444,
             "#bd3786"
            ],
            [
             0.5555555555555556,
             "#d8576b"
            ],
            [
             0.6666666666666666,
             "#ed7953"
            ],
            [
             0.7777777777777778,
             "#fb9f3a"
            ],
            [
             0.8888888888888888,
             "#fdca26"
            ],
            [
             1,
             "#f0f921"
            ]
           ]
          },
          "colorway": [
           "#636efa",
           "#EF553B",
           "#00cc96",
           "#ab63fa",
           "#FFA15A",
           "#19d3f3",
           "#FF6692",
           "#B6E880",
           "#FF97FF",
           "#FECB52"
          ],
          "font": {
           "color": "#2a3f5f"
          },
          "geo": {
           "bgcolor": "white",
           "lakecolor": "white",
           "landcolor": "#E5ECF6",
           "showlakes": true,
           "showland": true,
           "subunitcolor": "white"
          },
          "hoverlabel": {
           "align": "left"
          },
          "hovermode": "closest",
          "mapbox": {
           "style": "light"
          },
          "paper_bgcolor": "white",
          "plot_bgcolor": "#E5ECF6",
          "polar": {
           "angularaxis": {
            "gridcolor": "white",
            "linecolor": "white",
            "ticks": ""
           },
           "bgcolor": "#E5ECF6",
           "radialaxis": {
            "gridcolor": "white",
            "linecolor": "white",
            "ticks": ""
           }
          },
          "scene": {
           "xaxis": {
            "backgroundcolor": "#E5ECF6",
            "gridcolor": "white",
            "gridwidth": 2,
            "linecolor": "white",
            "showbackground": true,
            "ticks": "",
            "zerolinecolor": "white"
           },
           "yaxis": {
            "backgroundcolor": "#E5ECF6",
            "gridcolor": "white",
            "gridwidth": 2,
            "linecolor": "white",
            "showbackground": true,
            "ticks": "",
            "zerolinecolor": "white"
           },
           "zaxis": {
            "backgroundcolor": "#E5ECF6",
            "gridcolor": "white",
            "gridwidth": 2,
            "linecolor": "white",
            "showbackground": true,
            "ticks": "",
            "zerolinecolor": "white"
           }
          },
          "shapedefaults": {
           "line": {
            "color": "#2a3f5f"
           }
          },
          "ternary": {
           "aaxis": {
            "gridcolor": "white",
            "linecolor": "white",
            "ticks": ""
           },
           "baxis": {
            "gridcolor": "white",
            "linecolor": "white",
            "ticks": ""
           },
           "bgcolor": "#E5ECF6",
           "caxis": {
            "gridcolor": "white",
            "linecolor": "white",
            "ticks": ""
           }
          },
          "title": {
           "x": 0.05
          },
          "xaxis": {
           "automargin": true,
           "gridcolor": "white",
           "linecolor": "white",
           "ticks": "",
           "title": {
            "standoff": 15
           },
           "zerolinecolor": "white",
           "zerolinewidth": 2
          },
          "yaxis": {
           "automargin": true,
           "gridcolor": "white",
           "linecolor": "white",
           "ticks": "",
           "title": {
            "standoff": 15
           },
           "zerolinecolor": "white",
           "zerolinewidth": 2
          }
         }
        },
        "title": {
         "text": "Agenda for Intervenant ID: 776399834"
        },
        "xaxis": {
         "anchor": "y",
         "domain": [
          0,
          1
         ],
         "rangeselector": {
          "buttons": [
           {
            "count": 1,
            "label": "1D",
            "step": "day",
            "stepmode": "backward"
           },
           {
            "count": 7,
            "label": "1W",
            "step": "day",
            "stepmode": "backward"
           },
           {
            "step": "all"
           }
          ]
         },
         "rangeslider": {
          "visible": true
         },
         "type": "date"
        },
        "yaxis": {
         "anchor": "x",
         "autorange": "reversed",
         "domain": [
          0,
          1
         ],
         "title": {
          "text": "Task"
         }
        }
       }
      }
     },
     "metadata": {},
     "output_type": "display_data"
    },
    {
     "data": {
      "application/vnd.plotly.v1+json": {
       "config": {
        "plotlyServerURL": "https://plot.ly"
       },
       "data": [
        {
         "alignmentgroup": "True",
         "base": [
          "2024-01-04T07:55:00",
          "2024-01-04T08:30:00",
          "2024-01-04T09:05:00",
          "2024-01-04T09:40:00",
          "2024-01-04T10:20:00",
          "2024-01-04T11:20:00",
          "2024-01-04T13:00:00",
          "2024-01-04T15:00:00",
          "2024-01-04T17:10:00",
          "2024-01-04T17:50:00",
          "2024-01-04T18:30:00",
          "2024-01-04T19:10:00",
          "2024-01-05T07:55:00",
          "2024-01-05T08:30:00",
          "2024-01-05T09:05:00",
          "2024-01-05T09:45:00",
          "2024-01-05T10:30:00",
          "2024-01-05T11:15:00",
          "2024-01-05T12:55:00",
          "2024-01-05T15:00:00",
          "2024-01-05T17:10:00",
          "2024-01-05T17:50:00",
          "2024-01-05T18:30:00",
          "2024-01-05T19:10:00",
          "2024-01-06T07:55:00",
          "2024-01-06T08:30:00",
          "2024-01-06T09:05:00",
          "2024-01-06T09:45:00",
          "2024-01-06T10:25:00",
          "2024-01-06T11:30:00",
          "2024-01-06T12:45:00",
          "2024-01-06T17:25:00",
          "2024-01-06T18:05:00",
          "2024-01-06T18:45:00",
          "2024-01-07T07:55:00",
          "2024-01-07T08:30:00",
          "2024-01-07T09:05:00",
          "2024-01-07T09:45:00",
          "2024-01-07T10:30:00",
          "2024-01-07T11:35:00",
          "2024-01-07T17:25:00",
          "2024-01-07T18:05:00",
          "2024-01-07T18:45:00",
          "2024-01-08T07:50:00",
          "2024-01-08T08:25:00",
          "2024-01-08T09:10:00",
          "2024-01-08T09:50:00",
          "2024-01-08T10:30:00",
          "2024-01-08T11:15:00",
          "2024-01-08T13:00:00",
          "2024-01-08T15:30:00",
          "2024-01-08T17:15:00",
          "2024-01-09T09:45:00",
          "2024-01-09T10:15:00",
          "2024-01-09T10:45:00",
          "2024-01-09T12:25:00",
          "2024-01-10T07:55:00",
          "2024-01-10T08:25:00",
          "2024-01-10T09:05:00",
          "2024-01-10T09:45:00",
          "2024-01-10T10:35:00",
          "2024-01-10T12:00:00",
          "2024-01-10T12:40:00",
          "2024-01-11T07:55:00",
          "2024-01-11T08:25:00",
          "2024-01-11T09:05:00",
          "2024-01-11T09:45:00",
          "2024-01-11T10:30:00",
          "2024-01-11T11:30:00",
          "2024-01-11T13:10:00",
          "2024-01-11T16:00:00",
          "2024-01-11T17:45:00",
          "2024-01-11T18:30:00",
          "2024-01-11T19:10:00",
          "2024-01-12T07:55:00",
          "2024-01-12T08:30:00",
          "2024-01-12T09:05:00",
          "2024-01-12T10:00:00",
          "2024-01-12T10:30:00",
          "2024-01-12T11:00:00",
          "2024-01-12T13:00:00",
          "2024-01-12T15:30:00",
          "2024-01-15T07:55:00",
          "2024-01-15T08:30:00",
          "2024-01-15T09:05:00",
          "2024-01-15T09:40:00",
          "2024-01-15T10:20:00",
          "2024-01-15T11:30:00",
          "2024-01-15T13:00:00",
          "2024-01-15T15:25:00",
          "2024-01-15T17:15:00",
          "2024-01-15T18:00:00",
          "2024-01-15T18:45:00",
          "2024-01-17T07:55:00",
          "2024-01-17T08:30:00",
          "2024-01-17T09:10:00",
          "2024-01-17T09:45:00",
          "2024-01-17T10:30:00",
          "2024-01-17T11:30:00",
          "2024-01-18T08:30:00",
          "2024-01-18T09:05:00",
          "2024-01-18T09:40:00",
          "2024-01-18T10:20:00",
          "2024-01-18T11:20:00",
          "2024-01-18T13:00:00",
          "2024-01-18T15:05:00",
          "2024-01-18T17:30:00",
          "2024-01-18T18:10:00",
          "2024-01-18T18:45:00",
          "2024-01-19T08:30:00",
          "2024-01-19T09:05:00",
          "2024-01-19T09:40:00",
          "2024-01-19T10:15:00",
          "2024-01-19T10:45:00",
          "2024-01-19T11:30:00",
          "2024-01-19T13:15:00",
          "2024-01-19T15:30:00",
          "2024-01-20T08:30:00",
          "2024-01-20T09:05:00",
          "2024-01-20T09:40:00",
          "2024-01-20T10:30:00",
          "2024-01-20T11:30:00",
          "2024-01-20T12:45:00",
          "2024-01-20T18:00:00",
          "2024-01-20T18:45:00",
          "2024-01-21T08:30:00",
          "2024-01-21T09:10:00",
          "2024-01-21T09:50:00",
          "2024-01-21T10:35:00",
          "2024-01-21T12:30:00",
          "2024-01-21T18:00:00",
          "2024-01-21T18:45:00",
          "2024-01-22T08:30:00",
          "2024-01-22T09:10:00",
          "2024-01-22T09:55:00",
          "2024-01-22T10:55:00",
          "2024-01-22T12:35:00",
          "2024-01-22T15:40:00",
          "2024-01-22T18:00:00",
          "2024-01-22T18:45:00",
          "2024-01-24T08:30:00",
          "2024-01-24T09:05:00",
          "2024-01-24T09:45:00",
          "2024-01-24T10:30:00",
          "2024-01-24T12:30:00",
          "2024-01-25T08:30:00",
          "2024-01-25T09:05:00",
          "2024-01-25T09:40:00",
          "2024-01-25T10:20:00",
          "2024-01-25T11:15:00",
          "2024-01-25T15:35:00",
          "2024-01-25T17:25:00",
          "2024-01-25T18:05:00",
          "2024-01-26T08:30:00",
          "2024-01-26T09:40:00",
          "2024-01-26T10:30:00",
          "2024-01-26T11:15:00",
          "2024-01-26T15:30:00",
          "2024-01-26T18:00:00",
          "2024-01-26T18:45:00",
          "2024-01-29T08:30:00",
          "2024-01-29T09:05:00",
          "2024-01-29T10:00:00",
          "2024-01-29T11:10:00",
          "2024-01-29T13:00:00",
          "2024-01-29T16:15:00",
          "2024-01-29T18:00:00",
          "2024-01-29T18:45:00",
          "2024-01-31T08:30:00",
          "2024-01-31T09:15:00",
          "2024-01-31T10:00:00",
          "2024-01-31T11:40:00",
          "2024-01-31T13:00:00",
          "2024-01-31T18:20:00"
         ],
         "hovertemplate": "Resource=213237245<br>Start=%{base}<br>Finish=%{x}<br>Task=%{y}<extra></extra>",
         "legendgroup": "213237245",
         "marker": {
          "color": "#636efa",
          "pattern": {
           "shape": ""
          }
         },
         "name": "213237245",
         "offsetgroup": "213237245",
         "orientation": "h",
         "showlegend": true,
         "textposition": "auto",
         "type": "bar",
         "x": [
          1800000,
          1800000,
          1800000,
          1800000,
          2700000,
          5400000,
          3600000,
          7200000,
          1800000,
          1800000,
          1800000,
          3600000,
          1800000,
          1800000,
          1800000,
          1800000,
          1800000,
          5400000,
          3600000,
          7200000,
          1800000,
          1800000,
          1800000,
          3600000,
          1800000,
          1800000,
          1800000,
          1800000,
          2700000,
          3600000,
          3600000,
          1800000,
          1800000,
          3600000,
          1800000,
          1800000,
          1800000,
          1800000,
          2700000,
          3600000,
          1800000,
          1800000,
          3600000,
          1800000,
          1800000,
          1800000,
          1800000,
          2700000,
          5400000,
          3600000,
          5400000,
          1800000,
          1800000,
          1800000,
          1800000,
          3600000,
          1800000,
          1800000,
          1800000,
          1800000,
          3600000,
          1800000,
          3600000,
          1800000,
          1800000,
          1800000,
          1800000,
          2700000,
          5400000,
          3600000,
          5400000,
          1800000,
          1800000,
          3600000,
          1800000,
          1800000,
          1800000,
          1800000,
          1800000,
          5400000,
          3600000,
          7200000,
          1800000,
          1800000,
          1800000,
          1800000,
          3600000,
          5400000,
          3600000,
          5400000,
          2700000,
          1800000,
          3600000,
          1800000,
          1800000,
          1800000,
          1800000,
          2700000,
          3600000,
          1800000,
          1800000,
          1800000,
          2700000,
          5400000,
          3600000,
          7200000,
          1800000,
          1800000,
          3600000,
          1800000,
          1800000,
          1800000,
          1800000,
          2700000,
          5400000,
          3600000,
          7200000,
          1800000,
          1800000,
          1800000,
          2700000,
          3600000,
          3600000,
          1800000,
          3600000,
          1800000,
          1800000,
          1800000,
          2700000,
          3600000,
          1800000,
          3600000,
          1800000,
          1800000,
          1800000,
          5400000,
          3600000,
          5400000,
          1800000,
          3600000,
          1800000,
          1800000,
          1800000,
          1800000,
          3600000,
          1800000,
          1800000,
          1800000,
          2700000,
          5400000,
          5400000,
          1800000,
          1800000,
          1800000,
          1800000,
          1800000,
          5400000,
          7200000,
          1800000,
          3600000,
          1800000,
          1800000,
          1800000,
          5400000,
          3600000,
          5400000,
          1800000,
          3600000,
          1800000,
          1800000,
          1800000,
          3600000,
          3600000,
          1800000
         ],
         "xaxis": "x",
         "y": [
          "TOILETTE",
          "TOILETTE",
          "REPAS",
          "TOILETTE",
          "TOILETTE",
          "REPAS",
          "REPAS",
          "AIDE MENAGERE",
          "TOILETTE",
          "REPAS",
          "TOILETTE",
          "REPAS",
          "TOILETTE",
          "TOILETTE",
          "REPAS",
          "TOILETTE",
          "TOILETTE",
          "REPAS",
          "REPAS",
          "AIDE MENAGERE",
          "TOILETTE",
          "REPAS",
          "TOILETTE",
          "REPAS",
          "TOILETTE",
          "TOILETTE",
          "REPAS",
          "TOILETTE",
          "TOILETTE",
          "REPAS",
          "REPAS",
          "TOILETTE",
          "TOILETTE",
          "REPAS",
          "TOILETTE",
          "TOILETTE",
          "REPAS",
          "TOILETTE",
          "TOILETTE",
          "REPAS",
          "TOILETTE",
          "TOILETTE",
          "REPAS",
          "TOILETTE",
          "TOILETTE",
          "REPAS",
          "TOILETTE",
          "AIDE MENAGERE",
          "REPAS",
          "REPAS",
          "AIDE MENAGERE",
          "TOILETTE",
          "TOILETTE",
          "TOILETTE",
          "TOILETTE",
          "REPAS",
          "TOILETTE",
          "TOILETTE",
          "REPAS",
          "TOILETTE",
          "AIDE MENAGERE",
          "TOILETTE",
          "REPAS",
          "TOILETTE",
          "TOILETTE",
          "REPAS",
          "TOILETTE",
          "TOILETTE",
          "REPAS",
          "REPAS",
          "AIDE MENAGERE",
          "REPAS",
          "TOILETTE",
          "REPAS",
          "TOILETTE",
          "TOILETTE",
          "REPAS",
          "TOILETTE",
          "TOILETTE",
          "REPAS",
          "REPAS",
          "AIDE MENAGERE",
          "TOILETTE",
          "TOILETTE",
          "REPAS",
          "TOILETTE",
          "AIDE MENAGERE",
          "REPAS",
          "REPAS",
          "AIDE MENAGERE",
          "AIDE MENAGERE",
          "REPAS",
          "REPAS",
          "TOILETTE",
          "TOILETTE",
          "REPAS",
          "TOILETTE",
          "AIDE MENAGERE",
          "REPAS",
          "TOILETTE",
          "REPAS",
          "TOILETTE",
          "TOILETTE",
          "REPAS",
          "REPAS",
          "AIDE MENAGERE",
          "REPAS",
          "TOILETTE",
          "REPAS",
          "TOILETTE",
          "REPAS",
          "TOILETTE",
          "TOILETTE",
          "AIDE MENAGERE",
          "REPAS",
          "REPAS",
          "AIDE MENAGERE",
          "TOILETTE",
          "REPAS",
          "TOILETTE",
          "TOILETTE",
          "REPAS",
          "REPAS",
          "TOILETTE",
          "REPAS",
          "TOILETTE",
          "REPAS",
          "TOILETTE",
          "TOILETTE",
          "REPAS",
          "TOILETTE",
          "REPAS",
          "TOILETTE",
          "REPAS",
          "TOILETTE",
          "REPAS",
          "REPAS",
          "AIDE MENAGERE",
          "TOILETTE",
          "REPAS",
          "TOILETTE",
          "REPAS",
          "TOILETTE",
          "TOILETTE",
          "REPAS",
          "TOILETTE",
          "REPAS",
          "TOILETTE",
          "TOILETTE",
          "REPAS",
          "AIDE MENAGERE",
          "TOILETTE",
          "REPAS",
          "TOILETTE",
          "TOILETTE",
          "TOILETTE",
          "REPAS",
          "AIDE MENAGERE",
          "REPAS",
          "REPAS",
          "TOILETTE",
          "REPAS",
          "TOILETTE",
          "REPAS",
          "REPAS",
          "AIDE MENAGERE",
          "REPAS",
          "REPAS",
          "TOILETTE",
          "REPAS",
          "TOILETTE",
          "REPAS",
          "REPAS",
          "REPAS"
         ],
         "yaxis": "y"
        }
       ],
       "layout": {
        "barmode": "overlay",
        "legend": {
         "title": {
          "text": "Resource"
         },
         "tracegroupgap": 0
        },
        "margin": {
         "t": 60
        },
        "template": {
         "data": {
          "bar": [
           {
            "error_x": {
             "color": "#2a3f5f"
            },
            "error_y": {
             "color": "#2a3f5f"
            },
            "marker": {
             "line": {
              "color": "#E5ECF6",
              "width": 0.5
             },
             "pattern": {
              "fillmode": "overlay",
              "size": 10,
              "solidity": 0.2
             }
            },
            "type": "bar"
           }
          ],
          "barpolar": [
           {
            "marker": {
             "line": {
              "color": "#E5ECF6",
              "width": 0.5
             },
             "pattern": {
              "fillmode": "overlay",
              "size": 10,
              "solidity": 0.2
             }
            },
            "type": "barpolar"
           }
          ],
          "carpet": [
           {
            "aaxis": {
             "endlinecolor": "#2a3f5f",
             "gridcolor": "white",
             "linecolor": "white",
             "minorgridcolor": "white",
             "startlinecolor": "#2a3f5f"
            },
            "baxis": {
             "endlinecolor": "#2a3f5f",
             "gridcolor": "white",
             "linecolor": "white",
             "minorgridcolor": "white",
             "startlinecolor": "#2a3f5f"
            },
            "type": "carpet"
           }
          ],
          "choropleth": [
           {
            "colorbar": {
             "outlinewidth": 0,
             "ticks": ""
            },
            "type": "choropleth"
           }
          ],
          "contour": [
           {
            "colorbar": {
             "outlinewidth": 0,
             "ticks": ""
            },
            "colorscale": [
             [
              0,
              "#0d0887"
             ],
             [
              0.1111111111111111,
              "#46039f"
             ],
             [
              0.2222222222222222,
              "#7201a8"
             ],
             [
              0.3333333333333333,
              "#9c179e"
             ],
             [
              0.4444444444444444,
              "#bd3786"
             ],
             [
              0.5555555555555556,
              "#d8576b"
             ],
             [
              0.6666666666666666,
              "#ed7953"
             ],
             [
              0.7777777777777778,
              "#fb9f3a"
             ],
             [
              0.8888888888888888,
              "#fdca26"
             ],
             [
              1,
              "#f0f921"
             ]
            ],
            "type": "contour"
           }
          ],
          "contourcarpet": [
           {
            "colorbar": {
             "outlinewidth": 0,
             "ticks": ""
            },
            "type": "contourcarpet"
           }
          ],
          "heatmap": [
           {
            "colorbar": {
             "outlinewidth": 0,
             "ticks": ""
            },
            "colorscale": [
             [
              0,
              "#0d0887"
             ],
             [
              0.1111111111111111,
              "#46039f"
             ],
             [
              0.2222222222222222,
              "#7201a8"
             ],
             [
              0.3333333333333333,
              "#9c179e"
             ],
             [
              0.4444444444444444,
              "#bd3786"
             ],
             [
              0.5555555555555556,
              "#d8576b"
             ],
             [
              0.6666666666666666,
              "#ed7953"
             ],
             [
              0.7777777777777778,
              "#fb9f3a"
             ],
             [
              0.8888888888888888,
              "#fdca26"
             ],
             [
              1,
              "#f0f921"
             ]
            ],
            "type": "heatmap"
           }
          ],
          "heatmapgl": [
           {
            "colorbar": {
             "outlinewidth": 0,
             "ticks": ""
            },
            "colorscale": [
             [
              0,
              "#0d0887"
             ],
             [
              0.1111111111111111,
              "#46039f"
             ],
             [
              0.2222222222222222,
              "#7201a8"
             ],
             [
              0.3333333333333333,
              "#9c179e"
             ],
             [
              0.4444444444444444,
              "#bd3786"
             ],
             [
              0.5555555555555556,
              "#d8576b"
             ],
             [
              0.6666666666666666,
              "#ed7953"
             ],
             [
              0.7777777777777778,
              "#fb9f3a"
             ],
             [
              0.8888888888888888,
              "#fdca26"
             ],
             [
              1,
              "#f0f921"
             ]
            ],
            "type": "heatmapgl"
           }
          ],
          "histogram": [
           {
            "marker": {
             "pattern": {
              "fillmode": "overlay",
              "size": 10,
              "solidity": 0.2
             }
            },
            "type": "histogram"
           }
          ],
          "histogram2d": [
           {
            "colorbar": {
             "outlinewidth": 0,
             "ticks": ""
            },
            "colorscale": [
             [
              0,
              "#0d0887"
             ],
             [
              0.1111111111111111,
              "#46039f"
             ],
             [
              0.2222222222222222,
              "#7201a8"
             ],
             [
              0.3333333333333333,
              "#9c179e"
             ],
             [
              0.4444444444444444,
              "#bd3786"
             ],
             [
              0.5555555555555556,
              "#d8576b"
             ],
             [
              0.6666666666666666,
              "#ed7953"
             ],
             [
              0.7777777777777778,
              "#fb9f3a"
             ],
             [
              0.8888888888888888,
              "#fdca26"
             ],
             [
              1,
              "#f0f921"
             ]
            ],
            "type": "histogram2d"
           }
          ],
          "histogram2dcontour": [
           {
            "colorbar": {
             "outlinewidth": 0,
             "ticks": ""
            },
            "colorscale": [
             [
              0,
              "#0d0887"
             ],
             [
              0.1111111111111111,
              "#46039f"
             ],
             [
              0.2222222222222222,
              "#7201a8"
             ],
             [
              0.3333333333333333,
              "#9c179e"
             ],
             [
              0.4444444444444444,
              "#bd3786"
             ],
             [
              0.5555555555555556,
              "#d8576b"
             ],
             [
              0.6666666666666666,
              "#ed7953"
             ],
             [
              0.7777777777777778,
              "#fb9f3a"
             ],
             [
              0.8888888888888888,
              "#fdca26"
             ],
             [
              1,
              "#f0f921"
             ]
            ],
            "type": "histogram2dcontour"
           }
          ],
          "mesh3d": [
           {
            "colorbar": {
             "outlinewidth": 0,
             "ticks": ""
            },
            "type": "mesh3d"
           }
          ],
          "parcoords": [
           {
            "line": {
             "colorbar": {
              "outlinewidth": 0,
              "ticks": ""
             }
            },
            "type": "parcoords"
           }
          ],
          "pie": [
           {
            "automargin": true,
            "type": "pie"
           }
          ],
          "scatter": [
           {
            "fillpattern": {
             "fillmode": "overlay",
             "size": 10,
             "solidity": 0.2
            },
            "type": "scatter"
           }
          ],
          "scatter3d": [
           {
            "line": {
             "colorbar": {
              "outlinewidth": 0,
              "ticks": ""
             }
            },
            "marker": {
             "colorbar": {
              "outlinewidth": 0,
              "ticks": ""
             }
            },
            "type": "scatter3d"
           }
          ],
          "scattercarpet": [
           {
            "marker": {
             "colorbar": {
              "outlinewidth": 0,
              "ticks": ""
             }
            },
            "type": "scattercarpet"
           }
          ],
          "scattergeo": [
           {
            "marker": {
             "colorbar": {
              "outlinewidth": 0,
              "ticks": ""
             }
            },
            "type": "scattergeo"
           }
          ],
          "scattergl": [
           {
            "marker": {
             "colorbar": {
              "outlinewidth": 0,
              "ticks": ""
             }
            },
            "type": "scattergl"
           }
          ],
          "scattermapbox": [
           {
            "marker": {
             "colorbar": {
              "outlinewidth": 0,
              "ticks": ""
             }
            },
            "type": "scattermapbox"
           }
          ],
          "scatterpolar": [
           {
            "marker": {
             "colorbar": {
              "outlinewidth": 0,
              "ticks": ""
             }
            },
            "type": "scatterpolar"
           }
          ],
          "scatterpolargl": [
           {
            "marker": {
             "colorbar": {
              "outlinewidth": 0,
              "ticks": ""
             }
            },
            "type": "scatterpolargl"
           }
          ],
          "scatterternary": [
           {
            "marker": {
             "colorbar": {
              "outlinewidth": 0,
              "ticks": ""
             }
            },
            "type": "scatterternary"
           }
          ],
          "surface": [
           {
            "colorbar": {
             "outlinewidth": 0,
             "ticks": ""
            },
            "colorscale": [
             [
              0,
              "#0d0887"
             ],
             [
              0.1111111111111111,
              "#46039f"
             ],
             [
              0.2222222222222222,
              "#7201a8"
             ],
             [
              0.3333333333333333,
              "#9c179e"
             ],
             [
              0.4444444444444444,
              "#bd3786"
             ],
             [
              0.5555555555555556,
              "#d8576b"
             ],
             [
              0.6666666666666666,
              "#ed7953"
             ],
             [
              0.7777777777777778,
              "#fb9f3a"
             ],
             [
              0.8888888888888888,
              "#fdca26"
             ],
             [
              1,
              "#f0f921"
             ]
            ],
            "type": "surface"
           }
          ],
          "table": [
           {
            "cells": {
             "fill": {
              "color": "#EBF0F8"
             },
             "line": {
              "color": "white"
             }
            },
            "header": {
             "fill": {
              "color": "#C8D4E3"
             },
             "line": {
              "color": "white"
             }
            },
            "type": "table"
           }
          ]
         },
         "layout": {
          "annotationdefaults": {
           "arrowcolor": "#2a3f5f",
           "arrowhead": 0,
           "arrowwidth": 1
          },
          "autotypenumbers": "strict",
          "coloraxis": {
           "colorbar": {
            "outlinewidth": 0,
            "ticks": ""
           }
          },
          "colorscale": {
           "diverging": [
            [
             0,
             "#8e0152"
            ],
            [
             0.1,
             "#c51b7d"
            ],
            [
             0.2,
             "#de77ae"
            ],
            [
             0.3,
             "#f1b6da"
            ],
            [
             0.4,
             "#fde0ef"
            ],
            [
             0.5,
             "#f7f7f7"
            ],
            [
             0.6,
             "#e6f5d0"
            ],
            [
             0.7,
             "#b8e186"
            ],
            [
             0.8,
             "#7fbc41"
            ],
            [
             0.9,
             "#4d9221"
            ],
            [
             1,
             "#276419"
            ]
           ],
           "sequential": [
            [
             0,
             "#0d0887"
            ],
            [
             0.1111111111111111,
             "#46039f"
            ],
            [
             0.2222222222222222,
             "#7201a8"
            ],
            [
             0.3333333333333333,
             "#9c179e"
            ],
            [
             0.4444444444444444,
             "#bd3786"
            ],
            [
             0.5555555555555556,
             "#d8576b"
            ],
            [
             0.6666666666666666,
             "#ed7953"
            ],
            [
             0.7777777777777778,
             "#fb9f3a"
            ],
            [
             0.8888888888888888,
             "#fdca26"
            ],
            [
             1,
             "#f0f921"
            ]
           ],
           "sequentialminus": [
            [
             0,
             "#0d0887"
            ],
            [
             0.1111111111111111,
             "#46039f"
            ],
            [
             0.2222222222222222,
             "#7201a8"
            ],
            [
             0.3333333333333333,
             "#9c179e"
            ],
            [
             0.4444444444444444,
             "#bd3786"
            ],
            [
             0.5555555555555556,
             "#d8576b"
            ],
            [
             0.6666666666666666,
             "#ed7953"
            ],
            [
             0.7777777777777778,
             "#fb9f3a"
            ],
            [
             0.8888888888888888,
             "#fdca26"
            ],
            [
             1,
             "#f0f921"
            ]
           ]
          },
          "colorway": [
           "#636efa",
           "#EF553B",
           "#00cc96",
           "#ab63fa",
           "#FFA15A",
           "#19d3f3",
           "#FF6692",
           "#B6E880",
           "#FF97FF",
           "#FECB52"
          ],
          "font": {
           "color": "#2a3f5f"
          },
          "geo": {
           "bgcolor": "white",
           "lakecolor": "white",
           "landcolor": "#E5ECF6",
           "showlakes": true,
           "showland": true,
           "subunitcolor": "white"
          },
          "hoverlabel": {
           "align": "left"
          },
          "hovermode": "closest",
          "mapbox": {
           "style": "light"
          },
          "paper_bgcolor": "white",
          "plot_bgcolor": "#E5ECF6",
          "polar": {
           "angularaxis": {
            "gridcolor": "white",
            "linecolor": "white",
            "ticks": ""
           },
           "bgcolor": "#E5ECF6",
           "radialaxis": {
            "gridcolor": "white",
            "linecolor": "white",
            "ticks": ""
           }
          },
          "scene": {
           "xaxis": {
            "backgroundcolor": "#E5ECF6",
            "gridcolor": "white",
            "gridwidth": 2,
            "linecolor": "white",
            "showbackground": true,
            "ticks": "",
            "zerolinecolor": "white"
           },
           "yaxis": {
            "backgroundcolor": "#E5ECF6",
            "gridcolor": "white",
            "gridwidth": 2,
            "linecolor": "white",
            "showbackground": true,
            "ticks": "",
            "zerolinecolor": "white"
           },
           "zaxis": {
            "backgroundcolor": "#E5ECF6",
            "gridcolor": "white",
            "gridwidth": 2,
            "linecolor": "white",
            "showbackground": true,
            "ticks": "",
            "zerolinecolor": "white"
           }
          },
          "shapedefaults": {
           "line": {
            "color": "#2a3f5f"
           }
          },
          "ternary": {
           "aaxis": {
            "gridcolor": "white",
            "linecolor": "white",
            "ticks": ""
           },
           "baxis": {
            "gridcolor": "white",
            "linecolor": "white",
            "ticks": ""
           },
           "bgcolor": "#E5ECF6",
           "caxis": {
            "gridcolor": "white",
            "linecolor": "white",
            "ticks": ""
           }
          },
          "title": {
           "x": 0.05
          },
          "xaxis": {
           "automargin": true,
           "gridcolor": "white",
           "linecolor": "white",
           "ticks": "",
           "title": {
            "standoff": 15
           },
           "zerolinecolor": "white",
           "zerolinewidth": 2
          },
          "yaxis": {
           "automargin": true,
           "gridcolor": "white",
           "linecolor": "white",
           "ticks": "",
           "title": {
            "standoff": 15
           },
           "zerolinecolor": "white",
           "zerolinewidth": 2
          }
         }
        },
        "title": {
         "text": "Agenda for Intervenant ID: 213237245"
        },
        "xaxis": {
         "anchor": "y",
         "domain": [
          0,
          1
         ],
         "rangeselector": {
          "buttons": [
           {
            "count": 1,
            "label": "1D",
            "step": "day",
            "stepmode": "backward"
           },
           {
            "count": 7,
            "label": "1W",
            "step": "day",
            "stepmode": "backward"
           },
           {
            "step": "all"
           }
          ]
         },
         "rangeslider": {
          "visible": true
         },
         "type": "date"
        },
        "yaxis": {
         "anchor": "x",
         "autorange": "reversed",
         "domain": [
          0,
          1
         ],
         "title": {
          "text": "Task"
         }
        }
       }
      }
     },
     "metadata": {},
     "output_type": "display_data"
    },
    {
     "data": {
      "application/vnd.plotly.v1+json": {
       "config": {
        "plotlyServerURL": "https://plot.ly"
       },
       "data": [
        {
         "alignmentgroup": "True",
         "base": [
          "2024-01-04T08:45:00",
          "2024-01-04T09:30:00",
          "2024-01-04T10:00:00",
          "2024-01-04T11:45:00",
          "2024-01-04T14:30:00",
          "2024-01-04T16:45:00",
          "2024-01-04T17:45:00",
          "2024-01-04T18:30:00",
          "2024-01-05T08:00:00",
          "2024-01-05T08:50:00",
          "2024-01-05T09:30:00",
          "2024-01-05T10:10:00",
          "2024-01-05T10:40:00",
          "2024-01-05T11:50:00",
          "2024-01-05T12:30:00",
          "2024-01-05T15:05:00",
          "2024-01-05T17:30:00",
          "2024-01-05T18:15:00",
          "2024-01-06T07:40:00",
          "2024-01-06T08:55:00",
          "2024-01-06T09:50:00",
          "2024-01-06T10:35:00",
          "2024-01-06T11:15:00",
          "2024-01-06T12:00:00",
          "2024-01-06T12:15:00",
          "2024-01-07T07:35:00",
          "2024-01-07T09:00:00",
          "2024-01-07T10:05:00",
          "2024-01-07T11:15:00",
          "2024-01-07T12:30:00",
          "2024-01-07T17:20:00",
          "2024-01-07T18:00:00",
          "2024-01-07T19:20:00",
          "2024-01-09T07:30:00",
          "2024-01-09T08:25:00",
          "2024-01-09T09:20:00",
          "2024-01-09T10:30:00",
          "2024-01-09T11:05:00",
          "2024-01-09T17:00:00",
          "2024-01-09T18:10:00",
          "2024-01-09T18:45:00",
          "2024-01-10T08:00:00",
          "2024-01-10T08:50:00",
          "2024-01-10T09:30:00",
          "2024-01-10T10:10:00",
          "2024-01-10T10:40:00",
          "2024-01-10T11:50:00",
          "2024-01-10T12:30:00",
          "2024-01-10T17:15:00",
          "2024-01-10T18:15:00",
          "2024-01-10T18:35:00",
          "2024-01-11T08:00:00",
          "2024-01-11T09:00:00",
          "2024-01-11T09:45:00",
          "2024-01-11T12:00:00",
          "2024-01-11T14:40:00",
          "2024-01-12T08:20:00",
          "2024-01-12T09:15:00",
          "2024-01-12T09:45:00",
          "2024-01-12T11:00:00",
          "2024-01-12T14:00:00",
          "2024-01-12T16:25:00",
          "2024-01-12T17:30:00",
          "2024-01-12T18:30:00",
          "2024-01-12T19:15:00",
          "2024-01-16T07:45:00",
          "2024-01-16T08:45:00",
          "2024-01-16T09:45:00",
          "2024-01-16T10:30:00",
          "2024-01-16T11:15:00",
          "2024-01-16T14:30:00",
          "2024-01-16T15:45:00",
          "2024-01-16T18:15:00",
          "2024-01-17T07:30:00",
          "2024-01-17T08:25:00",
          "2024-01-17T09:20:00",
          "2024-01-17T10:10:00",
          "2024-01-17T11:20:00",
          "2024-01-17T12:15:00",
          "2024-01-17T13:00:00",
          "2024-01-17T15:40:00",
          "2024-01-17T16:50:00",
          "2024-01-17T17:55:00",
          "2024-01-17T18:35:00",
          "2024-01-18T08:15:00",
          "2024-01-18T08:50:00",
          "2024-01-18T10:00:00",
          "2024-01-18T11:20:00",
          "2024-01-19T08:00:00",
          "2024-01-19T08:35:00",
          "2024-01-19T09:30:00",
          "2024-01-19T10:10:00",
          "2024-01-19T10:55:00",
          "2024-01-19T12:00:00",
          "2024-01-19T16:20:00",
          "2024-01-19T17:20:00",
          "2024-01-19T17:50:00",
          "2024-01-19T18:40:00",
          "2024-01-19T19:10:00",
          "2024-01-19T19:45:00",
          "2024-01-20T08:30:00",
          "2024-01-20T09:25:00",
          "2024-01-20T10:05:00",
          "2024-01-20T10:50:00",
          "2024-01-20T11:45:00",
          "2024-01-20T12:15:00",
          "2024-01-20T12:35:00",
          "2024-01-20T17:45:00",
          "2024-01-20T18:30:00",
          "2024-01-20T19:45:00",
          "2024-01-21T08:30:00",
          "2024-01-21T09:25:00",
          "2024-01-21T10:05:00",
          "2024-01-21T10:50:00",
          "2024-01-21T11:35:00",
          "2024-01-21T12:10:00",
          "2024-01-21T12:25:00",
          "2024-01-21T17:45:00",
          "2024-01-21T18:30:00",
          "2024-01-21T19:45:00",
          "2024-01-23T08:20:00",
          "2024-01-23T09:40:00",
          "2024-01-23T10:45:00",
          "2024-01-23T11:30:00",
          "2024-01-23T15:15:00",
          "2024-01-23T17:30:00",
          "2024-01-23T18:30:00",
          "2024-01-24T08:00:00",
          "2024-01-24T08:50:00",
          "2024-01-24T09:35:00",
          "2024-01-24T10:15:00",
          "2024-01-24T11:25:00",
          "2024-01-24T12:20:00",
          "2024-01-24T14:45:00",
          "2024-01-24T17:00:00",
          "2024-01-24T17:45:00",
          "2024-01-24T18:30:00",
          "2024-01-24T19:10:00",
          "2024-01-25T07:30:00",
          "2024-01-25T08:25:00",
          "2024-01-25T09:25:00",
          "2024-01-25T10:30:00",
          "2024-01-25T14:30:00",
          "2024-01-25T17:20:00",
          "2024-01-25T17:55:00",
          "2024-01-25T18:55:00",
          "2024-01-26T08:30:00",
          "2024-01-26T09:15:00",
          "2024-01-26T10:15:00",
          "2024-01-26T11:15:00",
          "2024-01-26T12:30:00",
          "2024-01-26T13:15:00",
          "2024-01-26T15:00:00",
          "2024-01-26T17:30:00",
          "2024-01-26T18:20:00",
          "2024-01-30T08:30:00",
          "2024-01-30T09:40:00",
          "2024-01-30T10:30:00",
          "2024-01-30T11:30:00",
          "2024-01-30T12:15:00",
          "2024-01-30T12:30:00",
          "2024-01-30T15:30:00",
          "2024-01-30T17:45:00",
          "2024-01-30T18:25:00",
          "2024-01-30T19:20:00",
          "2024-01-30T20:00:00",
          "2024-01-31T07:30:00",
          "2024-01-31T08:30:00",
          "2024-01-31T09:20:00",
          "2024-01-31T10:05:00",
          "2024-01-31T10:45:00",
          "2024-01-31T11:55:00",
          "2024-01-31T16:00:00",
          "2024-01-31T16:45:00",
          "2024-01-31T18:00:00",
          "2024-01-31T19:20:00",
          "2024-01-31T20:00:00"
         ],
         "hovertemplate": "Resource=854577575<br>Start=%{base}<br>Finish=%{x}<br>Task=%{y}<extra></extra>",
         "legendgroup": "854577575",
         "marker": {
          "color": "#636efa",
          "pattern": {
           "shape": ""
          }
         },
         "name": "854577575",
         "offsetgroup": "854577575",
         "orientation": "h",
         "showlegend": true,
         "textposition": "auto",
         "type": "bar",
         "x": [
          1800000,
          1800000,
          5400000,
          1800000,
          7200000,
          3600000,
          1800000,
          1800000,
          2700000,
          1800000,
          1800000,
          1800000,
          3600000,
          1800000,
          1800000,
          7200000,
          1800000,
          3600000,
          3600000,
          2700000,
          1800000,
          1800000,
          1800000,
          900000,
          2700000,
          4500000,
          3600000,
          2700000,
          3600000,
          900000,
          1800000,
          3600000,
          3600000,
          2700000,
          2700000,
          4200000,
          1800000,
          2700000,
          3600000,
          1800000,
          1800000,
          2700000,
          1800000,
          1800000,
          1800000,
          3600000,
          1800000,
          1800000,
          2700000,
          900000,
          1800000,
          2700000,
          1800000,
          7200000,
          3600000,
          5700000,
          2700000,
          1800000,
          3600000,
          5400000,
          7200000,
          2700000,
          2700000,
          1800000,
          3600000,
          2700000,
          2700000,
          1800000,
          1800000,
          2700000,
          3600000,
          7200000,
          2700000,
          2700000,
          2700000,
          2700000,
          3600000,
          2400000,
          1800000,
          1800000,
          3600000,
          3600000,
          1800000,
          1800000,
          1800000,
          2700000,
          3600000,
          1800000,
          1800000,
          2700000,
          1800000,
          1800000,
          3600000,
          1800000,
          2700000,
          900000,
          2700000,
          900000,
          1800000,
          1800000,
          2700000,
          1800000,
          1800000,
          2700000,
          1800000,
          900000,
          2700000,
          1800000,
          3600000,
          1800000,
          2700000,
          1800000,
          1800000,
          2700000,
          1800000,
          900000,
          2700000,
          1800000,
          3600000,
          1800000,
          3600000,
          1800000,
          2700000,
          1800000,
          7200000,
          1800000,
          2700000,
          2700000,
          1800000,
          1800000,
          3600000,
          2700000,
          1800000,
          7200000,
          900000,
          1800000,
          1800000,
          3600000,
          2700000,
          2700000,
          2700000,
          7200000,
          9000000,
          1800000,
          3600000,
          1800000,
          1800000,
          2700000,
          2700000,
          3600000,
          1800000,
          900000,
          7200000,
          1800000,
          7200000,
          3600000,
          1800000,
          2700000,
          1800000,
          900000,
          2700000,
          7200000,
          1800000,
          1800000,
          1800000,
          1800000,
          2700000,
          2700000,
          1800000,
          1800000,
          3600000,
          2700000,
          1800000,
          3600000,
          3600000,
          1800000,
          1800000
         ],
         "xaxis": "x",
         "y": [
          "TOILETTE",
          "TOILETTE",
          "AIDE MENAGERE",
          "REPAS",
          "AIDE MENAGERE",
          "AIDE MENAGERE",
          "REPAS",
          "REPAS",
          "TOILETTE",
          "TOILETTE",
          "TOILETTE",
          "TOILETTE",
          "ACCOMPAGNEMENTS COURSES PA",
          "REPAS",
          "REPAS",
          "AIDE MENAGERE",
          "TOILETTE",
          "REPAS",
          "TOILETTE",
          "TOILETTE",
          "TOILETTE",
          "TOILETTE",
          "REPAS",
          "REPAS",
          "REPAS",
          "TOILETTE",
          "TOILETTE",
          "TOILETTE",
          "REPAS",
          "VIE SOCIALE",
          "TOILETTE",
          "TOILETTE",
          "REPAS",
          "TOILETTE",
          "TOILETTE",
          "TOILETTE",
          "TOILETTE",
          "TOILETTE",
          "AIDE MENAGERE",
          "REPAS",
          "REPAS",
          "TOILETTE",
          "TOILETTE",
          "TOILETTE",
          "TOILETTE",
          "ACCOMPAGNEMENTS COURSES PA",
          "REPAS",
          "REPAS",
          "TOILETTE",
          "TOILETTE",
          "TOILETTE",
          "TOILETTE",
          "TOILETTE",
          "AIDE MENAGERE",
          "AIDE MENAGERE",
          "TOILETTE",
          "TOILETTE",
          "TOILETTE",
          "ACCOMPAGNEMENTS COURSES PA",
          "AIDE MENAGERE",
          "ACCOMPAGNEMENTS COURSES PA",
          "TOILETTE",
          "TOILETTE",
          "TOILETTE",
          "REPAS",
          "TOILETTE",
          "TOILETTE",
          "TOILETTE",
          "TOILETTE",
          "REPAS",
          "AIDE MENAGERE",
          "AIDE MENAGERE",
          "REPAS",
          "TOILETTE",
          "TOILETTE",
          "TOILETTE",
          "TOILETTE",
          "REPAS",
          "REPAS",
          "TOILETTE",
          "AIDE MENAGERE",
          "AIDE MENAGERE",
          "REPAS",
          "REPAS",
          "REPAS",
          "TOILETTE",
          "VIE SOCIALE",
          "REPAS",
          "REPAS",
          "TOILETTE",
          "TOILETTE",
          "TOILETTE",
          "ACCOMPAGNEMENTS COURSES PA",
          "TOILETTE",
          "TOILETTE",
          "VIE SOCIALE",
          "REPAS",
          "TOILETTE",
          "REPAS",
          "REPAS",
          "TOILETTE",
          "TOILETTE",
          "TOILETTE",
          "TOILETTE",
          "REPAS",
          "REPAS",
          "REPAS",
          "TOILETTE",
          "REPAS",
          "TOILETTE",
          "TOILETTE",
          "TOILETTE",
          "TOILETTE",
          "TOILETTE",
          "REPAS",
          "REPAS",
          "REPAS",
          "TOILETTE",
          "REPAS",
          "TOILETTE",
          "TOILETTE",
          "TOILETTE",
          "AIDE MENAGERE",
          "REPAS",
          "AIDE MENAGERE",
          "REPAS",
          "REPAS",
          "TOILETTE",
          "TOILETTE",
          "TOILETTE",
          "ACCOMPAGNEMENTS COURSES PA",
          "REPAS",
          "REPAS",
          "ACCOMPAGNEMENTS COURSES PA",
          "VIE SOCIALE",
          "REPAS",
          "TOILETTE",
          "REPAS",
          "TOILETTE",
          "TOILETTE",
          "TOILETTE",
          "AIDE MENAGERE",
          "ACCOMPAGNEMENTS COURSES PA",
          "REPAS",
          "AIDE MENAGERE",
          "REPAS",
          "REPAS",
          "TOILETTE",
          "TOILETTE",
          "ACCOMPAGNEMENTS COURSES PA",
          "REPAS",
          "VIE SOCIALE",
          "AIDE MENAGERE",
          "REPAS",
          "GARDE D'ENFANTS",
          "TOILETTE",
          "TOILETTE",
          "TOILETTE",
          "REPAS",
          "REPAS",
          "REPAS",
          "AIDE MENAGERE",
          "REPAS",
          "TOILETTE",
          "TOILETTE",
          "TOILETTE",
          "TOILETTE",
          "TOILETTE",
          "TOILETTE",
          "TOILETTE",
          "ACCOMPAGNEMENTS COURSES PA",
          "REPAS",
          "ACCOMPAGNEMENTS COURSES PA",
          "AIDE MENAGERE",
          "REPAS",
          "TOILETTE",
          "TOILETTE"
         ],
         "yaxis": "y"
        }
       ],
       "layout": {
        "barmode": "overlay",
        "legend": {
         "title": {
          "text": "Resource"
         },
         "tracegroupgap": 0
        },
        "margin": {
         "t": 60
        },
        "template": {
         "data": {
          "bar": [
           {
            "error_x": {
             "color": "#2a3f5f"
            },
            "error_y": {
             "color": "#2a3f5f"
            },
            "marker": {
             "line": {
              "color": "#E5ECF6",
              "width": 0.5
             },
             "pattern": {
              "fillmode": "overlay",
              "size": 10,
              "solidity": 0.2
             }
            },
            "type": "bar"
           }
          ],
          "barpolar": [
           {
            "marker": {
             "line": {
              "color": "#E5ECF6",
              "width": 0.5
             },
             "pattern": {
              "fillmode": "overlay",
              "size": 10,
              "solidity": 0.2
             }
            },
            "type": "barpolar"
           }
          ],
          "carpet": [
           {
            "aaxis": {
             "endlinecolor": "#2a3f5f",
             "gridcolor": "white",
             "linecolor": "white",
             "minorgridcolor": "white",
             "startlinecolor": "#2a3f5f"
            },
            "baxis": {
             "endlinecolor": "#2a3f5f",
             "gridcolor": "white",
             "linecolor": "white",
             "minorgridcolor": "white",
             "startlinecolor": "#2a3f5f"
            },
            "type": "carpet"
           }
          ],
          "choropleth": [
           {
            "colorbar": {
             "outlinewidth": 0,
             "ticks": ""
            },
            "type": "choropleth"
           }
          ],
          "contour": [
           {
            "colorbar": {
             "outlinewidth": 0,
             "ticks": ""
            },
            "colorscale": [
             [
              0,
              "#0d0887"
             ],
             [
              0.1111111111111111,
              "#46039f"
             ],
             [
              0.2222222222222222,
              "#7201a8"
             ],
             [
              0.3333333333333333,
              "#9c179e"
             ],
             [
              0.4444444444444444,
              "#bd3786"
             ],
             [
              0.5555555555555556,
              "#d8576b"
             ],
             [
              0.6666666666666666,
              "#ed7953"
             ],
             [
              0.7777777777777778,
              "#fb9f3a"
             ],
             [
              0.8888888888888888,
              "#fdca26"
             ],
             [
              1,
              "#f0f921"
             ]
            ],
            "type": "contour"
           }
          ],
          "contourcarpet": [
           {
            "colorbar": {
             "outlinewidth": 0,
             "ticks": ""
            },
            "type": "contourcarpet"
           }
          ],
          "heatmap": [
           {
            "colorbar": {
             "outlinewidth": 0,
             "ticks": ""
            },
            "colorscale": [
             [
              0,
              "#0d0887"
             ],
             [
              0.1111111111111111,
              "#46039f"
             ],
             [
              0.2222222222222222,
              "#7201a8"
             ],
             [
              0.3333333333333333,
              "#9c179e"
             ],
             [
              0.4444444444444444,
              "#bd3786"
             ],
             [
              0.5555555555555556,
              "#d8576b"
             ],
             [
              0.6666666666666666,
              "#ed7953"
             ],
             [
              0.7777777777777778,
              "#fb9f3a"
             ],
             [
              0.8888888888888888,
              "#fdca26"
             ],
             [
              1,
              "#f0f921"
             ]
            ],
            "type": "heatmap"
           }
          ],
          "heatmapgl": [
           {
            "colorbar": {
             "outlinewidth": 0,
             "ticks": ""
            },
            "colorscale": [
             [
              0,
              "#0d0887"
             ],
             [
              0.1111111111111111,
              "#46039f"
             ],
             [
              0.2222222222222222,
              "#7201a8"
             ],
             [
              0.3333333333333333,
              "#9c179e"
             ],
             [
              0.4444444444444444,
              "#bd3786"
             ],
             [
              0.5555555555555556,
              "#d8576b"
             ],
             [
              0.6666666666666666,
              "#ed7953"
             ],
             [
              0.7777777777777778,
              "#fb9f3a"
             ],
             [
              0.8888888888888888,
              "#fdca26"
             ],
             [
              1,
              "#f0f921"
             ]
            ],
            "type": "heatmapgl"
           }
          ],
          "histogram": [
           {
            "marker": {
             "pattern": {
              "fillmode": "overlay",
              "size": 10,
              "solidity": 0.2
             }
            },
            "type": "histogram"
           }
          ],
          "histogram2d": [
           {
            "colorbar": {
             "outlinewidth": 0,
             "ticks": ""
            },
            "colorscale": [
             [
              0,
              "#0d0887"
             ],
             [
              0.1111111111111111,
              "#46039f"
             ],
             [
              0.2222222222222222,
              "#7201a8"
             ],
             [
              0.3333333333333333,
              "#9c179e"
             ],
             [
              0.4444444444444444,
              "#bd3786"
             ],
             [
              0.5555555555555556,
              "#d8576b"
             ],
             [
              0.6666666666666666,
              "#ed7953"
             ],
             [
              0.7777777777777778,
              "#fb9f3a"
             ],
             [
              0.8888888888888888,
              "#fdca26"
             ],
             [
              1,
              "#f0f921"
             ]
            ],
            "type": "histogram2d"
           }
          ],
          "histogram2dcontour": [
           {
            "colorbar": {
             "outlinewidth": 0,
             "ticks": ""
            },
            "colorscale": [
             [
              0,
              "#0d0887"
             ],
             [
              0.1111111111111111,
              "#46039f"
             ],
             [
              0.2222222222222222,
              "#7201a8"
             ],
             [
              0.3333333333333333,
              "#9c179e"
             ],
             [
              0.4444444444444444,
              "#bd3786"
             ],
             [
              0.5555555555555556,
              "#d8576b"
             ],
             [
              0.6666666666666666,
              "#ed7953"
             ],
             [
              0.7777777777777778,
              "#fb9f3a"
             ],
             [
              0.8888888888888888,
              "#fdca26"
             ],
             [
              1,
              "#f0f921"
             ]
            ],
            "type": "histogram2dcontour"
           }
          ],
          "mesh3d": [
           {
            "colorbar": {
             "outlinewidth": 0,
             "ticks": ""
            },
            "type": "mesh3d"
           }
          ],
          "parcoords": [
           {
            "line": {
             "colorbar": {
              "outlinewidth": 0,
              "ticks": ""
             }
            },
            "type": "parcoords"
           }
          ],
          "pie": [
           {
            "automargin": true,
            "type": "pie"
           }
          ],
          "scatter": [
           {
            "fillpattern": {
             "fillmode": "overlay",
             "size": 10,
             "solidity": 0.2
            },
            "type": "scatter"
           }
          ],
          "scatter3d": [
           {
            "line": {
             "colorbar": {
              "outlinewidth": 0,
              "ticks": ""
             }
            },
            "marker": {
             "colorbar": {
              "outlinewidth": 0,
              "ticks": ""
             }
            },
            "type": "scatter3d"
           }
          ],
          "scattercarpet": [
           {
            "marker": {
             "colorbar": {
              "outlinewidth": 0,
              "ticks": ""
             }
            },
            "type": "scattercarpet"
           }
          ],
          "scattergeo": [
           {
            "marker": {
             "colorbar": {
              "outlinewidth": 0,
              "ticks": ""
             }
            },
            "type": "scattergeo"
           }
          ],
          "scattergl": [
           {
            "marker": {
             "colorbar": {
              "outlinewidth": 0,
              "ticks": ""
             }
            },
            "type": "scattergl"
           }
          ],
          "scattermapbox": [
           {
            "marker": {
             "colorbar": {
              "outlinewidth": 0,
              "ticks": ""
             }
            },
            "type": "scattermapbox"
           }
          ],
          "scatterpolar": [
           {
            "marker": {
             "colorbar": {
              "outlinewidth": 0,
              "ticks": ""
             }
            },
            "type": "scatterpolar"
           }
          ],
          "scatterpolargl": [
           {
            "marker": {
             "colorbar": {
              "outlinewidth": 0,
              "ticks": ""
             }
            },
            "type": "scatterpolargl"
           }
          ],
          "scatterternary": [
           {
            "marker": {
             "colorbar": {
              "outlinewidth": 0,
              "ticks": ""
             }
            },
            "type": "scatterternary"
           }
          ],
          "surface": [
           {
            "colorbar": {
             "outlinewidth": 0,
             "ticks": ""
            },
            "colorscale": [
             [
              0,
              "#0d0887"
             ],
             [
              0.1111111111111111,
              "#46039f"
             ],
             [
              0.2222222222222222,
              "#7201a8"
             ],
             [
              0.3333333333333333,
              "#9c179e"
             ],
             [
              0.4444444444444444,
              "#bd3786"
             ],
             [
              0.5555555555555556,
              "#d8576b"
             ],
             [
              0.6666666666666666,
              "#ed7953"
             ],
             [
              0.7777777777777778,
              "#fb9f3a"
             ],
             [
              0.8888888888888888,
              "#fdca26"
             ],
             [
              1,
              "#f0f921"
             ]
            ],
            "type": "surface"
           }
          ],
          "table": [
           {
            "cells": {
             "fill": {
              "color": "#EBF0F8"
             },
             "line": {
              "color": "white"
             }
            },
            "header": {
             "fill": {
              "color": "#C8D4E3"
             },
             "line": {
              "color": "white"
             }
            },
            "type": "table"
           }
          ]
         },
         "layout": {
          "annotationdefaults": {
           "arrowcolor": "#2a3f5f",
           "arrowhead": 0,
           "arrowwidth": 1
          },
          "autotypenumbers": "strict",
          "coloraxis": {
           "colorbar": {
            "outlinewidth": 0,
            "ticks": ""
           }
          },
          "colorscale": {
           "diverging": [
            [
             0,
             "#8e0152"
            ],
            [
             0.1,
             "#c51b7d"
            ],
            [
             0.2,
             "#de77ae"
            ],
            [
             0.3,
             "#f1b6da"
            ],
            [
             0.4,
             "#fde0ef"
            ],
            [
             0.5,
             "#f7f7f7"
            ],
            [
             0.6,
             "#e6f5d0"
            ],
            [
             0.7,
             "#b8e186"
            ],
            [
             0.8,
             "#7fbc41"
            ],
            [
             0.9,
             "#4d9221"
            ],
            [
             1,
             "#276419"
            ]
           ],
           "sequential": [
            [
             0,
             "#0d0887"
            ],
            [
             0.1111111111111111,
             "#46039f"
            ],
            [
             0.2222222222222222,
             "#7201a8"
            ],
            [
             0.3333333333333333,
             "#9c179e"
            ],
            [
             0.4444444444444444,
             "#bd3786"
            ],
            [
             0.5555555555555556,
             "#d8576b"
            ],
            [
             0.6666666666666666,
             "#ed7953"
            ],
            [
             0.7777777777777778,
             "#fb9f3a"
            ],
            [
             0.8888888888888888,
             "#fdca26"
            ],
            [
             1,
             "#f0f921"
            ]
           ],
           "sequentialminus": [
            [
             0,
             "#0d0887"
            ],
            [
             0.1111111111111111,
             "#46039f"
            ],
            [
             0.2222222222222222,
             "#7201a8"
            ],
            [
             0.3333333333333333,
             "#9c179e"
            ],
            [
             0.4444444444444444,
             "#bd3786"
            ],
            [
             0.5555555555555556,
             "#d8576b"
            ],
            [
             0.6666666666666666,
             "#ed7953"
            ],
            [
             0.7777777777777778,
             "#fb9f3a"
            ],
            [
             0.8888888888888888,
             "#fdca26"
            ],
            [
             1,
             "#f0f921"
            ]
           ]
          },
          "colorway": [
           "#636efa",
           "#EF553B",
           "#00cc96",
           "#ab63fa",
           "#FFA15A",
           "#19d3f3",
           "#FF6692",
           "#B6E880",
           "#FF97FF",
           "#FECB52"
          ],
          "font": {
           "color": "#2a3f5f"
          },
          "geo": {
           "bgcolor": "white",
           "lakecolor": "white",
           "landcolor": "#E5ECF6",
           "showlakes": true,
           "showland": true,
           "subunitcolor": "white"
          },
          "hoverlabel": {
           "align": "left"
          },
          "hovermode": "closest",
          "mapbox": {
           "style": "light"
          },
          "paper_bgcolor": "white",
          "plot_bgcolor": "#E5ECF6",
          "polar": {
           "angularaxis": {
            "gridcolor": "white",
            "linecolor": "white",
            "ticks": ""
           },
           "bgcolor": "#E5ECF6",
           "radialaxis": {
            "gridcolor": "white",
            "linecolor": "white",
            "ticks": ""
           }
          },
          "scene": {
           "xaxis": {
            "backgroundcolor": "#E5ECF6",
            "gridcolor": "white",
            "gridwidth": 2,
            "linecolor": "white",
            "showbackground": true,
            "ticks": "",
            "zerolinecolor": "white"
           },
           "yaxis": {
            "backgroundcolor": "#E5ECF6",
            "gridcolor": "white",
            "gridwidth": 2,
            "linecolor": "white",
            "showbackground": true,
            "ticks": "",
            "zerolinecolor": "white"
           },
           "zaxis": {
            "backgroundcolor": "#E5ECF6",
            "gridcolor": "white",
            "gridwidth": 2,
            "linecolor": "white",
            "showbackground": true,
            "ticks": "",
            "zerolinecolor": "white"
           }
          },
          "shapedefaults": {
           "line": {
            "color": "#2a3f5f"
           }
          },
          "ternary": {
           "aaxis": {
            "gridcolor": "white",
            "linecolor": "white",
            "ticks": ""
           },
           "baxis": {
            "gridcolor": "white",
            "linecolor": "white",
            "ticks": ""
           },
           "bgcolor": "#E5ECF6",
           "caxis": {
            "gridcolor": "white",
            "linecolor": "white",
            "ticks": ""
           }
          },
          "title": {
           "x": 0.05
          },
          "xaxis": {
           "automargin": true,
           "gridcolor": "white",
           "linecolor": "white",
           "ticks": "",
           "title": {
            "standoff": 15
           },
           "zerolinecolor": "white",
           "zerolinewidth": 2
          },
          "yaxis": {
           "automargin": true,
           "gridcolor": "white",
           "linecolor": "white",
           "ticks": "",
           "title": {
            "standoff": 15
           },
           "zerolinecolor": "white",
           "zerolinewidth": 2
          }
         }
        },
        "title": {
         "text": "Agenda for Intervenant ID: 854577575"
        },
        "xaxis": {
         "anchor": "y",
         "domain": [
          0,
          1
         ],
         "rangeselector": {
          "buttons": [
           {
            "count": 1,
            "label": "1D",
            "step": "day",
            "stepmode": "backward"
           },
           {
            "count": 7,
            "label": "1W",
            "step": "day",
            "stepmode": "backward"
           },
           {
            "step": "all"
           }
          ]
         },
         "rangeslider": {
          "visible": true
         },
         "type": "date"
        },
        "yaxis": {
         "anchor": "x",
         "autorange": "reversed",
         "domain": [
          0,
          1
         ],
         "title": {
          "text": "Task"
         }
        }
       }
      }
     },
     "metadata": {},
     "output_type": "display_data"
    },
    {
     "data": {
      "application/vnd.plotly.v1+json": {
       "config": {
        "plotlyServerURL": "https://plot.ly"
       },
       "data": [
        {
         "alignmentgroup": "True",
         "base": [
          "2024-01-06T07:00:00",
          "2024-01-06T08:00:00",
          "2024-01-06T08:50:00",
          "2024-01-06T09:30:00",
          "2024-01-06T10:15:00",
          "2024-01-06T11:15:00",
          "2024-01-06T12:00:00",
          "2024-01-06T17:00:00",
          "2024-01-06T17:30:00",
          "2024-01-06T18:30:00",
          "2024-01-06T18:55:00",
          "2024-01-07T07:00:00",
          "2024-01-07T08:00:00",
          "2024-01-07T08:50:00",
          "2024-01-07T09:30:00",
          "2024-01-07T10:15:00",
          "2024-01-07T11:15:00",
          "2024-01-07T12:00:00",
          "2024-01-07T17:00:00",
          "2024-01-07T17:30:00",
          "2024-01-07T18:35:00",
          "2024-01-07T19:00:00",
          "2024-01-08T08:00:00",
          "2024-01-08T08:50:00",
          "2024-01-08T09:30:00",
          "2024-01-08T10:15:00",
          "2024-01-08T11:30:00",
          "2024-01-08T12:30:00",
          "2024-01-08T14:10:00",
          "2024-01-08T16:00:00",
          "2024-01-08T18:45:00",
          "2024-01-09T08:50:00",
          "2024-01-09T09:30:00",
          "2024-01-09T10:15:00",
          "2024-01-09T11:35:00",
          "2024-01-09T13:45:00",
          "2024-01-09T15:55:00",
          "2024-01-09T18:45:00",
          "2024-01-11T08:00:00",
          "2024-01-11T08:50:00",
          "2024-01-11T09:30:00",
          "2024-01-11T10:15:00",
          "2024-01-11T11:00:00",
          "2024-01-11T12:30:00",
          "2024-01-11T13:45:00",
          "2024-01-11T16:00:00",
          "2024-01-11T18:45:00",
          "2024-01-12T08:00:00",
          "2024-01-12T08:50:00",
          "2024-01-12T09:30:00",
          "2024-01-12T10:15:00",
          "2024-01-12T11:35:00",
          "2024-01-12T13:45:00",
          "2024-01-13T07:45:00",
          "2024-01-13T08:20:00",
          "2024-01-13T09:00:00",
          "2024-01-13T09:45:00",
          "2024-01-13T10:30:00",
          "2024-01-13T11:30:00",
          "2024-01-13T12:45:00",
          "2024-01-13T18:00:00",
          "2024-01-13T18:45:00",
          "2024-01-14T07:45:00",
          "2024-01-14T08:20:00",
          "2024-01-14T09:00:00",
          "2024-01-14T09:45:00",
          "2024-01-14T10:30:00",
          "2024-01-14T11:30:00",
          "2024-01-14T12:30:00",
          "2024-01-14T18:00:00",
          "2024-01-14T18:45:00",
          "2024-01-15T08:00:00",
          "2024-01-15T08:50:00",
          "2024-01-15T09:35:00",
          "2024-01-15T10:15:00",
          "2024-01-15T10:45:00",
          "2024-01-15T11:50:00",
          "2024-01-15T12:40:00",
          "2024-01-15T14:20:00",
          "2024-01-15T18:00:00",
          "2024-01-15T18:45:00",
          "2024-01-16T08:00:00",
          "2024-01-16T08:50:00",
          "2024-01-16T09:30:00",
          "2024-01-16T10:20:00",
          "2024-01-16T11:30:00",
          "2024-01-16T12:15:00",
          "2024-01-16T13:45:00",
          "2024-01-18T08:00:00",
          "2024-01-18T08:50:00",
          "2024-01-18T09:30:00",
          "2024-01-18T10:00:00",
          "2024-01-18T11:10:00",
          "2024-01-18T12:40:00",
          "2024-01-18T14:05:00",
          "2024-01-18T16:15:00",
          "2024-01-18T18:45:00",
          "2024-01-19T08:00:00",
          "2024-01-19T08:50:00",
          "2024-01-19T09:30:00",
          "2024-01-19T10:15:00",
          "2024-01-19T11:25:00",
          "2024-01-19T12:15:00",
          "2024-01-19T13:40:00",
          "2024-01-20T07:30:00",
          "2024-01-20T08:30:00",
          "2024-01-20T09:20:00",
          "2024-01-20T10:05:00",
          "2024-01-20T10:50:00",
          "2024-01-20T12:00:00",
          "2024-01-20T12:40:00",
          "2024-01-20T13:20:00",
          "2024-01-21T07:30:00",
          "2024-01-21T08:30:00",
          "2024-01-21T09:20:00",
          "2024-01-21T10:05:00",
          "2024-01-21T10:50:00",
          "2024-01-21T12:00:00",
          "2024-01-21T12:40:00",
          "2024-01-21T13:20:00",
          "2024-01-22T08:00:00",
          "2024-01-22T08:55:00",
          "2024-01-22T09:30:00",
          "2024-01-22T10:00:00",
          "2024-01-22T10:30:00",
          "2024-01-22T11:30:00",
          "2024-01-22T14:25:00",
          "2024-01-22T16:05:00",
          "2024-01-23T08:00:00",
          "2024-01-23T08:50:00",
          "2024-01-23T09:30:00",
          "2024-01-23T10:10:00",
          "2024-01-23T10:55:00",
          "2024-01-23T12:00:00",
          "2024-01-23T14:00:00",
          "2024-01-25T07:45:00",
          "2024-01-25T08:35:00",
          "2024-01-25T09:15:00",
          "2024-01-25T10:00:00",
          "2024-01-25T10:45:00",
          "2024-01-25T14:00:00",
          "2024-01-25T16:35:00",
          "2024-01-26T07:50:00",
          "2024-01-26T08:40:00",
          "2024-01-26T09:15:00",
          "2024-01-26T09:50:00",
          "2024-01-26T10:35:00",
          "2024-01-26T13:30:00",
          "2024-01-26T16:00:00",
          "2024-01-26T18:45:00",
          "2024-01-27T08:30:00",
          "2024-01-27T09:05:00",
          "2024-01-27T09:45:00",
          "2024-01-27T10:30:00",
          "2024-01-27T11:30:00",
          "2024-01-27T12:45:00",
          "2024-01-28T08:30:00",
          "2024-01-28T09:05:00",
          "2024-01-28T09:45:00",
          "2024-01-28T10:30:00",
          "2024-01-28T12:30:00",
          "2024-01-29T08:00:00",
          "2024-01-29T08:50:00",
          "2024-01-29T09:30:00",
          "2024-01-29T10:00:00",
          "2024-01-29T11:05:00",
          "2024-01-29T12:15:00",
          "2024-01-29T14:15:00",
          "2024-01-29T16:00:00",
          "2024-01-30T08:00:00",
          "2024-01-30T08:50:00",
          "2024-01-30T09:30:00",
          "2024-01-30T10:15:00",
          "2024-01-30T11:15:00",
          "2024-01-30T12:15:00",
          "2024-01-30T13:00:00",
          "2024-01-30T15:00:00",
          "2024-01-30T17:15:00",
          "2024-01-30T18:45:00"
         ],
         "hovertemplate": "Resource=746414886<br>Start=%{base}<br>Finish=%{x}<br>Task=%{y}<extra></extra>",
         "legendgroup": "746414886",
         "marker": {
          "color": "#636efa",
          "pattern": {
           "shape": ""
          }
         },
         "name": "746414886",
         "offsetgroup": "746414886",
         "orientation": "h",
         "showlegend": true,
         "textposition": "auto",
         "type": "bar",
         "x": [
          2700000,
          2700000,
          1800000,
          1800000,
          2700000,
          1800000,
          1800000,
          900000,
          2700000,
          900000,
          2700000,
          2700000,
          2700000,
          1800000,
          1800000,
          2700000,
          1800000,
          1800000,
          900000,
          2700000,
          900000,
          3600000,
          2700000,
          1800000,
          1800000,
          3600000,
          2700000,
          1800000,
          5400000,
          5400000,
          3600000,
          1800000,
          1800000,
          3600000,
          2700000,
          7200000,
          5400000,
          1800000,
          2700000,
          1800000,
          1800000,
          1800000,
          5400000,
          1800000,
          7200000,
          5400000,
          2700000,
          2700000,
          1800000,
          1800000,
          3600000,
          2700000,
          7200000,
          1800000,
          1800000,
          1800000,
          1800000,
          2700000,
          3600000,
          3600000,
          1800000,
          3600000,
          1800000,
          1800000,
          1800000,
          1800000,
          2700000,
          2700000,
          3600000,
          1800000,
          3600000,
          2700000,
          1800000,
          1800000,
          1800000,
          3600000,
          2700000,
          1800000,
          5400000,
          1800000,
          2700000,
          2700000,
          1800000,
          1800000,
          3600000,
          2700000,
          1800000,
          7200000,
          2700000,
          1800000,
          1800000,
          3600000,
          5400000,
          2700000,
          7200000,
          5400000,
          2700000,
          2700000,
          1800000,
          1800000,
          3600000,
          2700000,
          1800000,
          7200000,
          2700000,
          2700000,
          1800000,
          1800000,
          3600000,
          1800000,
          1800000,
          900000,
          2700000,
          2700000,
          1800000,
          1800000,
          3600000,
          1800000,
          1800000,
          900000,
          2700000,
          1800000,
          1800000,
          1800000,
          3600000,
          5400000,
          5400000,
          5400000,
          2700000,
          1800000,
          1800000,
          2700000,
          2700000,
          1800000,
          7200000,
          2700000,
          1800000,
          1800000,
          2700000,
          2700000,
          7200000,
          5400000,
          2700000,
          1800000,
          1800000,
          1800000,
          2700000,
          7200000,
          7200000,
          1800000,
          1800000,
          1800000,
          1800000,
          2700000,
          3600000,
          3600000,
          1800000,
          1800000,
          1800000,
          2700000,
          3600000,
          2700000,
          1800000,
          1800000,
          1800000,
          3600000,
          2700000,
          5400000,
          5400000,
          2700000,
          1800000,
          1800000,
          2700000,
          2700000,
          1800000,
          900000,
          5400000,
          2700000,
          1800000
         ],
         "xaxis": "x",
         "y": [
          "TOILETTE",
          "TOILETTE",
          "TOILETTE",
          "TOILETTE",
          "TOILETTE",
          "REPAS",
          "REPAS",
          "VIE SOCIALE",
          "REPAS",
          "TOILETTE",
          "TOILETTE",
          "TOILETTE",
          "TOILETTE",
          "TOILETTE",
          "TOILETTE",
          "TOILETTE",
          "REPAS",
          "REPAS",
          "VIE SOCIALE",
          "REPAS",
          "TOILETTE",
          "TOILETTE",
          "TOILETTE",
          "TOILETTE",
          "TOILETTE",
          "AIDE MENAGERE",
          "REPAS",
          "REPAS",
          "AIDE MENAGERE",
          "AIDE MENAGERE",
          "REPAS",
          "TOILETTE",
          "TOILETTE",
          "AIDE MENAGERE",
          "REPAS",
          "AIDE MENAGERE",
          "AIDE MENAGERE",
          "TOILETTE",
          "TOILETTE",
          "TOILETTE",
          "TOILETTE",
          "TOILETTE",
          "AIDE MENAGERE",
          "REPAS",
          "AIDE MENAGERE",
          "AIDE MENAGERE",
          "REPAS",
          "TOILETTE",
          "TOILETTE",
          "TOILETTE",
          "AIDE MENAGERE",
          "REPAS",
          "AIDE MENAGERE",
          "TOILETTE",
          "TOILETTE",
          "REPAS",
          "TOILETTE",
          "TOILETTE",
          "REPAS",
          "REPAS",
          "TOILETTE",
          "REPAS",
          "TOILETTE",
          "TOILETTE",
          "REPAS",
          "TOILETTE",
          "TOILETTE",
          "TOILETTE",
          "REPAS",
          "TOILETTE",
          "REPAS",
          "TOILETTE",
          "TOILETTE",
          "TOILETTE",
          "TOILETTE",
          "ACCOMPAGNEMENTS COURSES PA",
          "REPAS",
          "REPAS",
          "AIDE MENAGERE",
          "TOILETTE",
          "REPAS",
          "TOILETTE",
          "TOILETTE",
          "TOILETTE",
          "AIDE MENAGERE",
          "REPAS",
          "REPAS",
          "AIDE MENAGERE",
          "TOILETTE",
          "TOILETTE",
          "TOILETTE",
          "AIDE MENAGERE",
          "AIDE MENAGERE",
          "REPAS",
          "AIDE MENAGERE",
          "AIDE MENAGERE",
          "REPAS",
          "TOILETTE",
          "TOILETTE",
          "TOILETTE",
          "AIDE MENAGERE",
          "REPAS",
          "REPAS",
          "AIDE MENAGERE",
          "TOILETTE",
          "TOILETTE",
          "TOILETTE",
          "TOILETTE",
          "TOILETTE",
          "REPAS",
          "REPAS",
          "VIE SOCIALE",
          "TOILETTE",
          "TOILETTE",
          "TOILETTE",
          "TOILETTE",
          "TOILETTE",
          "REPAS",
          "REPAS",
          "VIE SOCIALE",
          "TOILETTE",
          "TOILETTE",
          "TOILETTE",
          "TOILETTE",
          "ACCOMPAGNEMENTS COURSES PA",
          "ACCOMPAGNEMENTS COURSES PA",
          "AIDE MENAGERE",
          "AIDE MENAGERE",
          "TOILETTE",
          "TOILETTE",
          "TOILETTE",
          "AIDE MENAGERE",
          "REPAS",
          "REPAS",
          "AIDE MENAGERE",
          "TOILETTE",
          "TOILETTE",
          "TOILETTE",
          "AIDE MENAGERE",
          "REPAS",
          "AIDE MENAGERE",
          "AIDE MENAGERE",
          "TOILETTE",
          "TOILETTE",
          "TOILETTE",
          "TOILETTE",
          "REPAS",
          "AIDE MENAGERE",
          "AIDE MENAGERE",
          "TOILETTE",
          "TOILETTE",
          "REPAS",
          "TOILETTE",
          "TOILETTE",
          "REPAS",
          "REPAS",
          "TOILETTE",
          "REPAS",
          "TOILETTE",
          "TOILETTE",
          "REPAS",
          "TOILETTE",
          "TOILETTE",
          "TOILETTE",
          "TOILETTE",
          "ACCOMPAGNEMENTS COURSES PA",
          "REPAS",
          "AIDE MENAGERE",
          "AIDE MENAGERE",
          "TOILETTE",
          "TOILETTE",
          "TOILETTE",
          "TOILETTE",
          "REPAS",
          "REPAS",
          "VIE SOCIALE",
          "AIDE MENAGERE",
          "TOILETTE",
          "TOILETTE"
         ],
         "yaxis": "y"
        }
       ],
       "layout": {
        "barmode": "overlay",
        "legend": {
         "title": {
          "text": "Resource"
         },
         "tracegroupgap": 0
        },
        "margin": {
         "t": 60
        },
        "template": {
         "data": {
          "bar": [
           {
            "error_x": {
             "color": "#2a3f5f"
            },
            "error_y": {
             "color": "#2a3f5f"
            },
            "marker": {
             "line": {
              "color": "#E5ECF6",
              "width": 0.5
             },
             "pattern": {
              "fillmode": "overlay",
              "size": 10,
              "solidity": 0.2
             }
            },
            "type": "bar"
           }
          ],
          "barpolar": [
           {
            "marker": {
             "line": {
              "color": "#E5ECF6",
              "width": 0.5
             },
             "pattern": {
              "fillmode": "overlay",
              "size": 10,
              "solidity": 0.2
             }
            },
            "type": "barpolar"
           }
          ],
          "carpet": [
           {
            "aaxis": {
             "endlinecolor": "#2a3f5f",
             "gridcolor": "white",
             "linecolor": "white",
             "minorgridcolor": "white",
             "startlinecolor": "#2a3f5f"
            },
            "baxis": {
             "endlinecolor": "#2a3f5f",
             "gridcolor": "white",
             "linecolor": "white",
             "minorgridcolor": "white",
             "startlinecolor": "#2a3f5f"
            },
            "type": "carpet"
           }
          ],
          "choropleth": [
           {
            "colorbar": {
             "outlinewidth": 0,
             "ticks": ""
            },
            "type": "choropleth"
           }
          ],
          "contour": [
           {
            "colorbar": {
             "outlinewidth": 0,
             "ticks": ""
            },
            "colorscale": [
             [
              0,
              "#0d0887"
             ],
             [
              0.1111111111111111,
              "#46039f"
             ],
             [
              0.2222222222222222,
              "#7201a8"
             ],
             [
              0.3333333333333333,
              "#9c179e"
             ],
             [
              0.4444444444444444,
              "#bd3786"
             ],
             [
              0.5555555555555556,
              "#d8576b"
             ],
             [
              0.6666666666666666,
              "#ed7953"
             ],
             [
              0.7777777777777778,
              "#fb9f3a"
             ],
             [
              0.8888888888888888,
              "#fdca26"
             ],
             [
              1,
              "#f0f921"
             ]
            ],
            "type": "contour"
           }
          ],
          "contourcarpet": [
           {
            "colorbar": {
             "outlinewidth": 0,
             "ticks": ""
            },
            "type": "contourcarpet"
           }
          ],
          "heatmap": [
           {
            "colorbar": {
             "outlinewidth": 0,
             "ticks": ""
            },
            "colorscale": [
             [
              0,
              "#0d0887"
             ],
             [
              0.1111111111111111,
              "#46039f"
             ],
             [
              0.2222222222222222,
              "#7201a8"
             ],
             [
              0.3333333333333333,
              "#9c179e"
             ],
             [
              0.4444444444444444,
              "#bd3786"
             ],
             [
              0.5555555555555556,
              "#d8576b"
             ],
             [
              0.6666666666666666,
              "#ed7953"
             ],
             [
              0.7777777777777778,
              "#fb9f3a"
             ],
             [
              0.8888888888888888,
              "#fdca26"
             ],
             [
              1,
              "#f0f921"
             ]
            ],
            "type": "heatmap"
           }
          ],
          "heatmapgl": [
           {
            "colorbar": {
             "outlinewidth": 0,
             "ticks": ""
            },
            "colorscale": [
             [
              0,
              "#0d0887"
             ],
             [
              0.1111111111111111,
              "#46039f"
             ],
             [
              0.2222222222222222,
              "#7201a8"
             ],
             [
              0.3333333333333333,
              "#9c179e"
             ],
             [
              0.4444444444444444,
              "#bd3786"
             ],
             [
              0.5555555555555556,
              "#d8576b"
             ],
             [
              0.6666666666666666,
              "#ed7953"
             ],
             [
              0.7777777777777778,
              "#fb9f3a"
             ],
             [
              0.8888888888888888,
              "#fdca26"
             ],
             [
              1,
              "#f0f921"
             ]
            ],
            "type": "heatmapgl"
           }
          ],
          "histogram": [
           {
            "marker": {
             "pattern": {
              "fillmode": "overlay",
              "size": 10,
              "solidity": 0.2
             }
            },
            "type": "histogram"
           }
          ],
          "histogram2d": [
           {
            "colorbar": {
             "outlinewidth": 0,
             "ticks": ""
            },
            "colorscale": [
             [
              0,
              "#0d0887"
             ],
             [
              0.1111111111111111,
              "#46039f"
             ],
             [
              0.2222222222222222,
              "#7201a8"
             ],
             [
              0.3333333333333333,
              "#9c179e"
             ],
             [
              0.4444444444444444,
              "#bd3786"
             ],
             [
              0.5555555555555556,
              "#d8576b"
             ],
             [
              0.6666666666666666,
              "#ed7953"
             ],
             [
              0.7777777777777778,
              "#fb9f3a"
             ],
             [
              0.8888888888888888,
              "#fdca26"
             ],
             [
              1,
              "#f0f921"
             ]
            ],
            "type": "histogram2d"
           }
          ],
          "histogram2dcontour": [
           {
            "colorbar": {
             "outlinewidth": 0,
             "ticks": ""
            },
            "colorscale": [
             [
              0,
              "#0d0887"
             ],
             [
              0.1111111111111111,
              "#46039f"
             ],
             [
              0.2222222222222222,
              "#7201a8"
             ],
             [
              0.3333333333333333,
              "#9c179e"
             ],
             [
              0.4444444444444444,
              "#bd3786"
             ],
             [
              0.5555555555555556,
              "#d8576b"
             ],
             [
              0.6666666666666666,
              "#ed7953"
             ],
             [
              0.7777777777777778,
              "#fb9f3a"
             ],
             [
              0.8888888888888888,
              "#fdca26"
             ],
             [
              1,
              "#f0f921"
             ]
            ],
            "type": "histogram2dcontour"
           }
          ],
          "mesh3d": [
           {
            "colorbar": {
             "outlinewidth": 0,
             "ticks": ""
            },
            "type": "mesh3d"
           }
          ],
          "parcoords": [
           {
            "line": {
             "colorbar": {
              "outlinewidth": 0,
              "ticks": ""
             }
            },
            "type": "parcoords"
           }
          ],
          "pie": [
           {
            "automargin": true,
            "type": "pie"
           }
          ],
          "scatter": [
           {
            "fillpattern": {
             "fillmode": "overlay",
             "size": 10,
             "solidity": 0.2
            },
            "type": "scatter"
           }
          ],
          "scatter3d": [
           {
            "line": {
             "colorbar": {
              "outlinewidth": 0,
              "ticks": ""
             }
            },
            "marker": {
             "colorbar": {
              "outlinewidth": 0,
              "ticks": ""
             }
            },
            "type": "scatter3d"
           }
          ],
          "scattercarpet": [
           {
            "marker": {
             "colorbar": {
              "outlinewidth": 0,
              "ticks": ""
             }
            },
            "type": "scattercarpet"
           }
          ],
          "scattergeo": [
           {
            "marker": {
             "colorbar": {
              "outlinewidth": 0,
              "ticks": ""
             }
            },
            "type": "scattergeo"
           }
          ],
          "scattergl": [
           {
            "marker": {
             "colorbar": {
              "outlinewidth": 0,
              "ticks": ""
             }
            },
            "type": "scattergl"
           }
          ],
          "scattermapbox": [
           {
            "marker": {
             "colorbar": {
              "outlinewidth": 0,
              "ticks": ""
             }
            },
            "type": "scattermapbox"
           }
          ],
          "scatterpolar": [
           {
            "marker": {
             "colorbar": {
              "outlinewidth": 0,
              "ticks": ""
             }
            },
            "type": "scatterpolar"
           }
          ],
          "scatterpolargl": [
           {
            "marker": {
             "colorbar": {
              "outlinewidth": 0,
              "ticks": ""
             }
            },
            "type": "scatterpolargl"
           }
          ],
          "scatterternary": [
           {
            "marker": {
             "colorbar": {
              "outlinewidth": 0,
              "ticks": ""
             }
            },
            "type": "scatterternary"
           }
          ],
          "surface": [
           {
            "colorbar": {
             "outlinewidth": 0,
             "ticks": ""
            },
            "colorscale": [
             [
              0,
              "#0d0887"
             ],
             [
              0.1111111111111111,
              "#46039f"
             ],
             [
              0.2222222222222222,
              "#7201a8"
             ],
             [
              0.3333333333333333,
              "#9c179e"
             ],
             [
              0.4444444444444444,
              "#bd3786"
             ],
             [
              0.5555555555555556,
              "#d8576b"
             ],
             [
              0.6666666666666666,
              "#ed7953"
             ],
             [
              0.7777777777777778,
              "#fb9f3a"
             ],
             [
              0.8888888888888888,
              "#fdca26"
             ],
             [
              1,
              "#f0f921"
             ]
            ],
            "type": "surface"
           }
          ],
          "table": [
           {
            "cells": {
             "fill": {
              "color": "#EBF0F8"
             },
             "line": {
              "color": "white"
             }
            },
            "header": {
             "fill": {
              "color": "#C8D4E3"
             },
             "line": {
              "color": "white"
             }
            },
            "type": "table"
           }
          ]
         },
         "layout": {
          "annotationdefaults": {
           "arrowcolor": "#2a3f5f",
           "arrowhead": 0,
           "arrowwidth": 1
          },
          "autotypenumbers": "strict",
          "coloraxis": {
           "colorbar": {
            "outlinewidth": 0,
            "ticks": ""
           }
          },
          "colorscale": {
           "diverging": [
            [
             0,
             "#8e0152"
            ],
            [
             0.1,
             "#c51b7d"
            ],
            [
             0.2,
             "#de77ae"
            ],
            [
             0.3,
             "#f1b6da"
            ],
            [
             0.4,
             "#fde0ef"
            ],
            [
             0.5,
             "#f7f7f7"
            ],
            [
             0.6,
             "#e6f5d0"
            ],
            [
             0.7,
             "#b8e186"
            ],
            [
             0.8,
             "#7fbc41"
            ],
            [
             0.9,
             "#4d9221"
            ],
            [
             1,
             "#276419"
            ]
           ],
           "sequential": [
            [
             0,
             "#0d0887"
            ],
            [
             0.1111111111111111,
             "#46039f"
            ],
            [
             0.2222222222222222,
             "#7201a8"
            ],
            [
             0.3333333333333333,
             "#9c179e"
            ],
            [
             0.4444444444444444,
             "#bd3786"
            ],
            [
             0.5555555555555556,
             "#d8576b"
            ],
            [
             0.6666666666666666,
             "#ed7953"
            ],
            [
             0.7777777777777778,
             "#fb9f3a"
            ],
            [
             0.8888888888888888,
             "#fdca26"
            ],
            [
             1,
             "#f0f921"
            ]
           ],
           "sequentialminus": [
            [
             0,
             "#0d0887"
            ],
            [
             0.1111111111111111,
             "#46039f"
            ],
            [
             0.2222222222222222,
             "#7201a8"
            ],
            [
             0.3333333333333333,
             "#9c179e"
            ],
            [
             0.4444444444444444,
             "#bd3786"
            ],
            [
             0.5555555555555556,
             "#d8576b"
            ],
            [
             0.6666666666666666,
             "#ed7953"
            ],
            [
             0.7777777777777778,
             "#fb9f3a"
            ],
            [
             0.8888888888888888,
             "#fdca26"
            ],
            [
             1,
             "#f0f921"
            ]
           ]
          },
          "colorway": [
           "#636efa",
           "#EF553B",
           "#00cc96",
           "#ab63fa",
           "#FFA15A",
           "#19d3f3",
           "#FF6692",
           "#B6E880",
           "#FF97FF",
           "#FECB52"
          ],
          "font": {
           "color": "#2a3f5f"
          },
          "geo": {
           "bgcolor": "white",
           "lakecolor": "white",
           "landcolor": "#E5ECF6",
           "showlakes": true,
           "showland": true,
           "subunitcolor": "white"
          },
          "hoverlabel": {
           "align": "left"
          },
          "hovermode": "closest",
          "mapbox": {
           "style": "light"
          },
          "paper_bgcolor": "white",
          "plot_bgcolor": "#E5ECF6",
          "polar": {
           "angularaxis": {
            "gridcolor": "white",
            "linecolor": "white",
            "ticks": ""
           },
           "bgcolor": "#E5ECF6",
           "radialaxis": {
            "gridcolor": "white",
            "linecolor": "white",
            "ticks": ""
           }
          },
          "scene": {
           "xaxis": {
            "backgroundcolor": "#E5ECF6",
            "gridcolor": "white",
            "gridwidth": 2,
            "linecolor": "white",
            "showbackground": true,
            "ticks": "",
            "zerolinecolor": "white"
           },
           "yaxis": {
            "backgroundcolor": "#E5ECF6",
            "gridcolor": "white",
            "gridwidth": 2,
            "linecolor": "white",
            "showbackground": true,
            "ticks": "",
            "zerolinecolor": "white"
           },
           "zaxis": {
            "backgroundcolor": "#E5ECF6",
            "gridcolor": "white",
            "gridwidth": 2,
            "linecolor": "white",
            "showbackground": true,
            "ticks": "",
            "zerolinecolor": "white"
           }
          },
          "shapedefaults": {
           "line": {
            "color": "#2a3f5f"
           }
          },
          "ternary": {
           "aaxis": {
            "gridcolor": "white",
            "linecolor": "white",
            "ticks": ""
           },
           "baxis": {
            "gridcolor": "white",
            "linecolor": "white",
            "ticks": ""
           },
           "bgcolor": "#E5ECF6",
           "caxis": {
            "gridcolor": "white",
            "linecolor": "white",
            "ticks": ""
           }
          },
          "title": {
           "x": 0.05
          },
          "xaxis": {
           "automargin": true,
           "gridcolor": "white",
           "linecolor": "white",
           "ticks": "",
           "title": {
            "standoff": 15
           },
           "zerolinecolor": "white",
           "zerolinewidth": 2
          },
          "yaxis": {
           "automargin": true,
           "gridcolor": "white",
           "linecolor": "white",
           "ticks": "",
           "title": {
            "standoff": 15
           },
           "zerolinecolor": "white",
           "zerolinewidth": 2
          }
         }
        },
        "title": {
         "text": "Agenda for Intervenant ID: 746414886"
        },
        "xaxis": {
         "anchor": "y",
         "domain": [
          0,
          1
         ],
         "rangeselector": {
          "buttons": [
           {
            "count": 1,
            "label": "1D",
            "step": "day",
            "stepmode": "backward"
           },
           {
            "count": 7,
            "label": "1W",
            "step": "day",
            "stepmode": "backward"
           },
           {
            "step": "all"
           }
          ]
         },
         "rangeslider": {
          "visible": true
         },
         "type": "date"
        },
        "yaxis": {
         "anchor": "x",
         "autorange": "reversed",
         "domain": [
          0,
          1
         ],
         "title": {
          "text": "Task"
         }
        }
       }
      }
     },
     "metadata": {},
     "output_type": "display_data"
    },
    {
     "data": {
      "application/vnd.plotly.v1+json": {
       "config": {
        "plotlyServerURL": "https://plot.ly"
       },
       "data": [
        {
         "alignmentgroup": "True",
         "base": [
          "2024-01-08T10:00:00",
          "2024-01-08T13:05:00",
          "2024-01-08T15:05:00",
          "2024-01-11T13:30:00",
          "2024-01-11T15:40:00",
          "2024-01-15T10:20:00",
          "2024-01-15T12:00:00",
          "2024-01-15T12:30:00",
          "2024-01-16T08:30:00",
          "2024-01-16T09:15:00",
          "2024-01-16T10:00:00",
          "2024-01-16T13:35:00",
          "2024-01-16T15:20:00",
          "2024-01-18T08:30:00",
          "2024-01-18T09:15:00",
          "2024-01-18T09:45:00",
          "2024-01-18T13:30:00",
          "2024-01-18T15:40:00",
          "2024-01-22T08:45:00",
          "2024-01-22T09:30:00",
          "2024-01-22T11:15:00",
          "2024-01-22T12:30:00",
          "2024-01-22T13:00:00",
          "2024-01-23T10:20:00",
          "2024-01-23T13:15:00",
          "2024-01-23T14:55:00",
          "2024-01-25T09:00:00",
          "2024-01-25T09:30:00",
          "2024-01-25T11:15:00",
          "2024-01-25T13:30:00",
          "2024-01-25T15:40:00",
          "2024-01-29T08:30:00",
          "2024-01-29T09:15:00",
          "2024-01-29T11:00:00",
          "2024-01-29T12:20:00",
          "2024-01-29T12:50:00",
          "2024-01-30T08:30:00",
          "2024-01-30T09:10:00",
          "2024-01-30T09:55:00",
          "2024-01-30T13:10:00",
          "2024-01-30T15:30:00"
         ],
         "hovertemplate": "Resource=813991780<br>Start=%{base}<br>Finish=%{x}<br>Task=%{y}<extra></extra>",
         "legendgroup": "813991780",
         "marker": {
          "color": "#636efa",
          "pattern": {
           "shape": ""
          }
         },
         "name": "813991780",
         "offsetgroup": "813991780",
         "orientation": "h",
         "showlegend": true,
         "textposition": "auto",
         "type": "bar",
         "x": [
          5400000,
          7200000,
          7200000,
          7200000,
          5400000,
          5400000,
          1800000,
          7200000,
          1800000,
          1800000,
          5400000,
          5400000,
          5400000,
          1800000,
          1800000,
          5400000,
          7200000,
          5400000,
          1800000,
          5400000,
          3600000,
          1800000,
          7200000,
          3600000,
          5400000,
          3600000,
          1800000,
          5400000,
          3600000,
          7200000,
          5400000,
          1800000,
          5400000,
          3600000,
          1800000,
          7200000,
          1800000,
          1800000,
          3600000,
          5400000,
          5400000
         ],
         "xaxis": "x",
         "y": [
          "AIDE MENAGERE",
          "AIDE MENAGERE",
          "ACCOMPAGNEMENTS COURSES PA",
          "AIDE MENAGERE",
          "AIDE MENAGERE",
          "AIDE MENAGERE",
          "TOILETTE",
          "AIDE MENAGERE",
          "REPAS",
          "TOILETTE",
          "AIDE MENAGERE",
          "AIDE MENAGERE",
          "AIDE MENAGERE",
          "REPAS",
          "TOILETTE",
          "AIDE MENAGERE",
          "AIDE MENAGERE",
          "AIDE MENAGERE",
          "TOILETTE",
          "AIDE MENAGERE",
          "AIDE MENAGERE",
          "TOILETTE",
          "AIDE MENAGERE",
          "AIDE MENAGERE",
          "AIDE MENAGERE",
          "VIE SOCIALE",
          "TOILETTE",
          "AIDE MENAGERE",
          "AIDE MENAGERE",
          "AIDE MENAGERE",
          "AIDE MENAGERE",
          "REPAS",
          "AIDE MENAGERE",
          "AIDE MENAGERE",
          "TOILETTE",
          "AIDE MENAGERE",
          "TOILETTE",
          "TOILETTE",
          "AIDE MENAGERE",
          "AIDE MENAGERE",
          "AIDE MENAGERE"
         ],
         "yaxis": "y"
        }
       ],
       "layout": {
        "barmode": "overlay",
        "legend": {
         "title": {
          "text": "Resource"
         },
         "tracegroupgap": 0
        },
        "margin": {
         "t": 60
        },
        "template": {
         "data": {
          "bar": [
           {
            "error_x": {
             "color": "#2a3f5f"
            },
            "error_y": {
             "color": "#2a3f5f"
            },
            "marker": {
             "line": {
              "color": "#E5ECF6",
              "width": 0.5
             },
             "pattern": {
              "fillmode": "overlay",
              "size": 10,
              "solidity": 0.2
             }
            },
            "type": "bar"
           }
          ],
          "barpolar": [
           {
            "marker": {
             "line": {
              "color": "#E5ECF6",
              "width": 0.5
             },
             "pattern": {
              "fillmode": "overlay",
              "size": 10,
              "solidity": 0.2
             }
            },
            "type": "barpolar"
           }
          ],
          "carpet": [
           {
            "aaxis": {
             "endlinecolor": "#2a3f5f",
             "gridcolor": "white",
             "linecolor": "white",
             "minorgridcolor": "white",
             "startlinecolor": "#2a3f5f"
            },
            "baxis": {
             "endlinecolor": "#2a3f5f",
             "gridcolor": "white",
             "linecolor": "white",
             "minorgridcolor": "white",
             "startlinecolor": "#2a3f5f"
            },
            "type": "carpet"
           }
          ],
          "choropleth": [
           {
            "colorbar": {
             "outlinewidth": 0,
             "ticks": ""
            },
            "type": "choropleth"
           }
          ],
          "contour": [
           {
            "colorbar": {
             "outlinewidth": 0,
             "ticks": ""
            },
            "colorscale": [
             [
              0,
              "#0d0887"
             ],
             [
              0.1111111111111111,
              "#46039f"
             ],
             [
              0.2222222222222222,
              "#7201a8"
             ],
             [
              0.3333333333333333,
              "#9c179e"
             ],
             [
              0.4444444444444444,
              "#bd3786"
             ],
             [
              0.5555555555555556,
              "#d8576b"
             ],
             [
              0.6666666666666666,
              "#ed7953"
             ],
             [
              0.7777777777777778,
              "#fb9f3a"
             ],
             [
              0.8888888888888888,
              "#fdca26"
             ],
             [
              1,
              "#f0f921"
             ]
            ],
            "type": "contour"
           }
          ],
          "contourcarpet": [
           {
            "colorbar": {
             "outlinewidth": 0,
             "ticks": ""
            },
            "type": "contourcarpet"
           }
          ],
          "heatmap": [
           {
            "colorbar": {
             "outlinewidth": 0,
             "ticks": ""
            },
            "colorscale": [
             [
              0,
              "#0d0887"
             ],
             [
              0.1111111111111111,
              "#46039f"
             ],
             [
              0.2222222222222222,
              "#7201a8"
             ],
             [
              0.3333333333333333,
              "#9c179e"
             ],
             [
              0.4444444444444444,
              "#bd3786"
             ],
             [
              0.5555555555555556,
              "#d8576b"
             ],
             [
              0.6666666666666666,
              "#ed7953"
             ],
             [
              0.7777777777777778,
              "#fb9f3a"
             ],
             [
              0.8888888888888888,
              "#fdca26"
             ],
             [
              1,
              "#f0f921"
             ]
            ],
            "type": "heatmap"
           }
          ],
          "heatmapgl": [
           {
            "colorbar": {
             "outlinewidth": 0,
             "ticks": ""
            },
            "colorscale": [
             [
              0,
              "#0d0887"
             ],
             [
              0.1111111111111111,
              "#46039f"
             ],
             [
              0.2222222222222222,
              "#7201a8"
             ],
             [
              0.3333333333333333,
              "#9c179e"
             ],
             [
              0.4444444444444444,
              "#bd3786"
             ],
             [
              0.5555555555555556,
              "#d8576b"
             ],
             [
              0.6666666666666666,
              "#ed7953"
             ],
             [
              0.7777777777777778,
              "#fb9f3a"
             ],
             [
              0.8888888888888888,
              "#fdca26"
             ],
             [
              1,
              "#f0f921"
             ]
            ],
            "type": "heatmapgl"
           }
          ],
          "histogram": [
           {
            "marker": {
             "pattern": {
              "fillmode": "overlay",
              "size": 10,
              "solidity": 0.2
             }
            },
            "type": "histogram"
           }
          ],
          "histogram2d": [
           {
            "colorbar": {
             "outlinewidth": 0,
             "ticks": ""
            },
            "colorscale": [
             [
              0,
              "#0d0887"
             ],
             [
              0.1111111111111111,
              "#46039f"
             ],
             [
              0.2222222222222222,
              "#7201a8"
             ],
             [
              0.3333333333333333,
              "#9c179e"
             ],
             [
              0.4444444444444444,
              "#bd3786"
             ],
             [
              0.5555555555555556,
              "#d8576b"
             ],
             [
              0.6666666666666666,
              "#ed7953"
             ],
             [
              0.7777777777777778,
              "#fb9f3a"
             ],
             [
              0.8888888888888888,
              "#fdca26"
             ],
             [
              1,
              "#f0f921"
             ]
            ],
            "type": "histogram2d"
           }
          ],
          "histogram2dcontour": [
           {
            "colorbar": {
             "outlinewidth": 0,
             "ticks": ""
            },
            "colorscale": [
             [
              0,
              "#0d0887"
             ],
             [
              0.1111111111111111,
              "#46039f"
             ],
             [
              0.2222222222222222,
              "#7201a8"
             ],
             [
              0.3333333333333333,
              "#9c179e"
             ],
             [
              0.4444444444444444,
              "#bd3786"
             ],
             [
              0.5555555555555556,
              "#d8576b"
             ],
             [
              0.6666666666666666,
              "#ed7953"
             ],
             [
              0.7777777777777778,
              "#fb9f3a"
             ],
             [
              0.8888888888888888,
              "#fdca26"
             ],
             [
              1,
              "#f0f921"
             ]
            ],
            "type": "histogram2dcontour"
           }
          ],
          "mesh3d": [
           {
            "colorbar": {
             "outlinewidth": 0,
             "ticks": ""
            },
            "type": "mesh3d"
           }
          ],
          "parcoords": [
           {
            "line": {
             "colorbar": {
              "outlinewidth": 0,
              "ticks": ""
             }
            },
            "type": "parcoords"
           }
          ],
          "pie": [
           {
            "automargin": true,
            "type": "pie"
           }
          ],
          "scatter": [
           {
            "fillpattern": {
             "fillmode": "overlay",
             "size": 10,
             "solidity": 0.2
            },
            "type": "scatter"
           }
          ],
          "scatter3d": [
           {
            "line": {
             "colorbar": {
              "outlinewidth": 0,
              "ticks": ""
             }
            },
            "marker": {
             "colorbar": {
              "outlinewidth": 0,
              "ticks": ""
             }
            },
            "type": "scatter3d"
           }
          ],
          "scattercarpet": [
           {
            "marker": {
             "colorbar": {
              "outlinewidth": 0,
              "ticks": ""
             }
            },
            "type": "scattercarpet"
           }
          ],
          "scattergeo": [
           {
            "marker": {
             "colorbar": {
              "outlinewidth": 0,
              "ticks": ""
             }
            },
            "type": "scattergeo"
           }
          ],
          "scattergl": [
           {
            "marker": {
             "colorbar": {
              "outlinewidth": 0,
              "ticks": ""
             }
            },
            "type": "scattergl"
           }
          ],
          "scattermapbox": [
           {
            "marker": {
             "colorbar": {
              "outlinewidth": 0,
              "ticks": ""
             }
            },
            "type": "scattermapbox"
           }
          ],
          "scatterpolar": [
           {
            "marker": {
             "colorbar": {
              "outlinewidth": 0,
              "ticks": ""
             }
            },
            "type": "scatterpolar"
           }
          ],
          "scatterpolargl": [
           {
            "marker": {
             "colorbar": {
              "outlinewidth": 0,
              "ticks": ""
             }
            },
            "type": "scatterpolargl"
           }
          ],
          "scatterternary": [
           {
            "marker": {
             "colorbar": {
              "outlinewidth": 0,
              "ticks": ""
             }
            },
            "type": "scatterternary"
           }
          ],
          "surface": [
           {
            "colorbar": {
             "outlinewidth": 0,
             "ticks": ""
            },
            "colorscale": [
             [
              0,
              "#0d0887"
             ],
             [
              0.1111111111111111,
              "#46039f"
             ],
             [
              0.2222222222222222,
              "#7201a8"
             ],
             [
              0.3333333333333333,
              "#9c179e"
             ],
             [
              0.4444444444444444,
              "#bd3786"
             ],
             [
              0.5555555555555556,
              "#d8576b"
             ],
             [
              0.6666666666666666,
              "#ed7953"
             ],
             [
              0.7777777777777778,
              "#fb9f3a"
             ],
             [
              0.8888888888888888,
              "#fdca26"
             ],
             [
              1,
              "#f0f921"
             ]
            ],
            "type": "surface"
           }
          ],
          "table": [
           {
            "cells": {
             "fill": {
              "color": "#EBF0F8"
             },
             "line": {
              "color": "white"
             }
            },
            "header": {
             "fill": {
              "color": "#C8D4E3"
             },
             "line": {
              "color": "white"
             }
            },
            "type": "table"
           }
          ]
         },
         "layout": {
          "annotationdefaults": {
           "arrowcolor": "#2a3f5f",
           "arrowhead": 0,
           "arrowwidth": 1
          },
          "autotypenumbers": "strict",
          "coloraxis": {
           "colorbar": {
            "outlinewidth": 0,
            "ticks": ""
           }
          },
          "colorscale": {
           "diverging": [
            [
             0,
             "#8e0152"
            ],
            [
             0.1,
             "#c51b7d"
            ],
            [
             0.2,
             "#de77ae"
            ],
            [
             0.3,
             "#f1b6da"
            ],
            [
             0.4,
             "#fde0ef"
            ],
            [
             0.5,
             "#f7f7f7"
            ],
            [
             0.6,
             "#e6f5d0"
            ],
            [
             0.7,
             "#b8e186"
            ],
            [
             0.8,
             "#7fbc41"
            ],
            [
             0.9,
             "#4d9221"
            ],
            [
             1,
             "#276419"
            ]
           ],
           "sequential": [
            [
             0,
             "#0d0887"
            ],
            [
             0.1111111111111111,
             "#46039f"
            ],
            [
             0.2222222222222222,
             "#7201a8"
            ],
            [
             0.3333333333333333,
             "#9c179e"
            ],
            [
             0.4444444444444444,
             "#bd3786"
            ],
            [
             0.5555555555555556,
             "#d8576b"
            ],
            [
             0.6666666666666666,
             "#ed7953"
            ],
            [
             0.7777777777777778,
             "#fb9f3a"
            ],
            [
             0.8888888888888888,
             "#fdca26"
            ],
            [
             1,
             "#f0f921"
            ]
           ],
           "sequentialminus": [
            [
             0,
             "#0d0887"
            ],
            [
             0.1111111111111111,
             "#46039f"
            ],
            [
             0.2222222222222222,
             "#7201a8"
            ],
            [
             0.3333333333333333,
             "#9c179e"
            ],
            [
             0.4444444444444444,
             "#bd3786"
            ],
            [
             0.5555555555555556,
             "#d8576b"
            ],
            [
             0.6666666666666666,
             "#ed7953"
            ],
            [
             0.7777777777777778,
             "#fb9f3a"
            ],
            [
             0.8888888888888888,
             "#fdca26"
            ],
            [
             1,
             "#f0f921"
            ]
           ]
          },
          "colorway": [
           "#636efa",
           "#EF553B",
           "#00cc96",
           "#ab63fa",
           "#FFA15A",
           "#19d3f3",
           "#FF6692",
           "#B6E880",
           "#FF97FF",
           "#FECB52"
          ],
          "font": {
           "color": "#2a3f5f"
          },
          "geo": {
           "bgcolor": "white",
           "lakecolor": "white",
           "landcolor": "#E5ECF6",
           "showlakes": true,
           "showland": true,
           "subunitcolor": "white"
          },
          "hoverlabel": {
           "align": "left"
          },
          "hovermode": "closest",
          "mapbox": {
           "style": "light"
          },
          "paper_bgcolor": "white",
          "plot_bgcolor": "#E5ECF6",
          "polar": {
           "angularaxis": {
            "gridcolor": "white",
            "linecolor": "white",
            "ticks": ""
           },
           "bgcolor": "#E5ECF6",
           "radialaxis": {
            "gridcolor": "white",
            "linecolor": "white",
            "ticks": ""
           }
          },
          "scene": {
           "xaxis": {
            "backgroundcolor": "#E5ECF6",
            "gridcolor": "white",
            "gridwidth": 2,
            "linecolor": "white",
            "showbackground": true,
            "ticks": "",
            "zerolinecolor": "white"
           },
           "yaxis": {
            "backgroundcolor": "#E5ECF6",
            "gridcolor": "white",
            "gridwidth": 2,
            "linecolor": "white",
            "showbackground": true,
            "ticks": "",
            "zerolinecolor": "white"
           },
           "zaxis": {
            "backgroundcolor": "#E5ECF6",
            "gridcolor": "white",
            "gridwidth": 2,
            "linecolor": "white",
            "showbackground": true,
            "ticks": "",
            "zerolinecolor": "white"
           }
          },
          "shapedefaults": {
           "line": {
            "color": "#2a3f5f"
           }
          },
          "ternary": {
           "aaxis": {
            "gridcolor": "white",
            "linecolor": "white",
            "ticks": ""
           },
           "baxis": {
            "gridcolor": "white",
            "linecolor": "white",
            "ticks": ""
           },
           "bgcolor": "#E5ECF6",
           "caxis": {
            "gridcolor": "white",
            "linecolor": "white",
            "ticks": ""
           }
          },
          "title": {
           "x": 0.05
          },
          "xaxis": {
           "automargin": true,
           "gridcolor": "white",
           "linecolor": "white",
           "ticks": "",
           "title": {
            "standoff": 15
           },
           "zerolinecolor": "white",
           "zerolinewidth": 2
          },
          "yaxis": {
           "automargin": true,
           "gridcolor": "white",
           "linecolor": "white",
           "ticks": "",
           "title": {
            "standoff": 15
           },
           "zerolinecolor": "white",
           "zerolinewidth": 2
          }
         }
        },
        "title": {
         "text": "Agenda for Intervenant ID: 813991780"
        },
        "xaxis": {
         "anchor": "y",
         "domain": [
          0,
          1
         ],
         "rangeselector": {
          "buttons": [
           {
            "count": 1,
            "label": "1D",
            "step": "day",
            "stepmode": "backward"
           },
           {
            "count": 7,
            "label": "1W",
            "step": "day",
            "stepmode": "backward"
           },
           {
            "step": "all"
           }
          ]
         },
         "rangeslider": {
          "visible": true
         },
         "type": "date"
        },
        "yaxis": {
         "anchor": "x",
         "autorange": "reversed",
         "domain": [
          0,
          1
         ],
         "title": {
          "text": "Task"
         }
        }
       }
      }
     },
     "metadata": {},
     "output_type": "display_data"
    },
    {
     "data": {
      "application/vnd.plotly.v1+json": {
       "config": {
        "plotlyServerURL": "https://plot.ly"
       },
       "data": [
        {
         "alignmentgroup": "True",
         "base": [
          "2024-01-08T14:30:00",
          "2024-01-08T18:00:00",
          "2024-01-08T18:45:00",
          "2024-01-09T10:30:00",
          "2024-01-09T11:10:00",
          "2024-01-09T18:00:00",
          "2024-01-09T18:45:00",
          "2024-01-10T09:00:00",
          "2024-01-10T11:55:00",
          "2024-01-10T14:30:00",
          "2024-01-10T17:40:00",
          "2024-01-10T18:25:00",
          "2024-01-10T19:05:00",
          "2024-01-12T08:20:00",
          "2024-01-12T09:30:00",
          "2024-01-12T11:15:00",
          "2024-01-12T12:00:00",
          "2024-01-12T15:00:00",
          "2024-01-12T17:30:00",
          "2024-01-12T18:10:00",
          "2024-01-12T18:45:00",
          "2024-01-14T07:50:00",
          "2024-01-14T09:00:00",
          "2024-01-14T11:45:00",
          "2024-01-14T14:30:00",
          "2024-01-15T08:00:00",
          "2024-01-15T08:30:00",
          "2024-01-15T09:35:00",
          "2024-01-15T10:30:00",
          "2024-01-15T11:30:00",
          "2024-01-15T12:10:00",
          "2024-01-15T12:25:00",
          "2024-01-16T08:00:00",
          "2024-01-16T08:35:00",
          "2024-01-16T09:15:00",
          "2024-01-16T09:50:00",
          "2024-01-16T10:30:00",
          "2024-01-16T11:05:00",
          "2024-01-16T12:45:00",
          "2024-01-16T17:45:00",
          "2024-01-16T18:25:00",
          "2024-01-16T19:05:00",
          "2024-01-17T07:50:00",
          "2024-01-17T09:00:00",
          "2024-01-17T11:45:00",
          "2024-01-17T12:45:00",
          "2024-01-17T18:00:00",
          "2024-01-17T18:35:00",
          "2024-01-17T19:10:00",
          "2024-01-19T08:00:00",
          "2024-01-19T09:15:00",
          "2024-01-19T10:10:00",
          "2024-01-19T11:30:00",
          "2024-01-19T12:20:00",
          "2024-01-19T17:20:00",
          "2024-01-19T18:05:00",
          "2024-01-19T18:45:00",
          "2024-01-22T07:10:00",
          "2024-01-22T07:40:00",
          "2024-01-22T08:30:00",
          "2024-01-22T09:40:00",
          "2024-01-22T10:30:00",
          "2024-01-22T11:25:00",
          "2024-01-22T12:35:00",
          "2024-01-22T12:50:00",
          "2024-01-22T18:00:00",
          "2024-01-22T18:45:00",
          "2024-01-23T08:30:00",
          "2024-01-23T09:05:00",
          "2024-01-23T09:40:00",
          "2024-01-23T10:25:00",
          "2024-01-23T10:55:00",
          "2024-01-23T12:40:00",
          "2024-01-23T17:45:00",
          "2024-01-23T18:25:00",
          "2024-01-23T19:05:00",
          "2024-01-24T07:40:00",
          "2024-01-24T08:15:00",
          "2024-01-24T09:00:00",
          "2024-01-24T11:50:00",
          "2024-01-24T14:30:00",
          "2024-01-24T17:50:00",
          "2024-01-24T18:30:00",
          "2024-01-24T19:10:00",
          "2024-01-26T08:00:00",
          "2024-01-26T09:15:00",
          "2024-01-26T10:00:00",
          "2024-01-26T12:20:00",
          "2024-01-27T07:50:00",
          "2024-01-27T09:00:00",
          "2024-01-27T11:45:00",
          "2024-01-27T12:00:00",
          "2024-01-27T14:30:00",
          "2024-01-27T18:00:00",
          "2024-01-27T18:45:00",
          "2024-01-28T07:50:00",
          "2024-01-28T09:00:00",
          "2024-01-28T12:20:00",
          "2024-01-28T14:30:00",
          "2024-01-28T18:00:00",
          "2024-01-28T18:45:00",
          "2024-01-29T07:20:00",
          "2024-01-29T07:50:00",
          "2024-01-29T08:50:00",
          "2024-01-29T10:00:00",
          "2024-01-29T11:30:00",
          "2024-01-29T12:15:00",
          "2024-01-29T12:30:00",
          "2024-01-29T14:45:00",
          "2024-01-29T18:00:00",
          "2024-01-29T18:45:00",
          "2024-01-30T08:30:00",
          "2024-01-30T09:05:00",
          "2024-01-30T09:45:00",
          "2024-01-30T10:30:00",
          "2024-01-30T11:15:00",
          "2024-01-30T13:00:00",
          "2024-01-30T18:00:00",
          "2024-01-30T18:45:00",
          "2024-01-31T07:40:00",
          "2024-01-31T08:10:00",
          "2024-01-31T09:00:00",
          "2024-01-31T14:30:00",
          "2024-01-31T18:00:00",
          "2024-01-31T18:45:00"
         ],
         "hovertemplate": "Resource=648993440<br>Start=%{base}<br>Finish=%{x}<br>Task=%{y}<extra></extra>",
         "legendgroup": "648993440",
         "marker": {
          "color": "#636efa",
          "pattern": {
           "shape": ""
          }
         },
         "name": "648993440",
         "offsetgroup": "648993440",
         "orientation": "h",
         "showlegend": true,
         "textposition": "auto",
         "type": "bar",
         "x": [
          10800000,
          1800000,
          2700000,
          1800000,
          5400000,
          1800000,
          3600000,
          9000000,
          3600000,
          10800000,
          1800000,
          1800000,
          3600000,
          3600000,
          1800000,
          1800000,
          1800000,
          5400000,
          1800000,
          1800000,
          3600000,
          3600000,
          9000000,
          1800000,
          7200000,
          1800000,
          2700000,
          2700000,
          2700000,
          1800000,
          900000,
          2700000,
          1800000,
          1800000,
          1800000,
          1800000,
          1800000,
          5400000,
          3600000,
          1800000,
          1800000,
          3600000,
          3600000,
          9000000,
          1800000,
          3600000,
          1800000,
          1800000,
          3600000,
          3600000,
          2700000,
          2700000,
          1800000,
          4500000,
          1800000,
          1800000,
          3600000,
          1800000,
          2700000,
          3600000,
          2700000,
          2700000,
          3600000,
          900000,
          2700000,
          1800000,
          2700000,
          1800000,
          1800000,
          1800000,
          1800000,
          5400000,
          3600000,
          1800000,
          1800000,
          3600000,
          1800000,
          1800000,
          9000000,
          3600000,
          10800000,
          1800000,
          1800000,
          3600000,
          3600000,
          1800000,
          7200000,
          1800000,
          3600000,
          9000000,
          900000,
          2700000,
          7200000,
          1800000,
          3600000,
          3600000,
          9000000,
          1800000,
          7200000,
          1800000,
          3600000,
          1800000,
          2700000,
          3600000,
          3600000,
          1800000,
          900000,
          2700000,
          5400000,
          1800000,
          2700000,
          1800000,
          1800000,
          1800000,
          1800000,
          5400000,
          3600000,
          1800000,
          3600000,
          1800000,
          1800000,
          9000000,
          10800000,
          1800000,
          3600000
         ],
         "xaxis": "x",
         "y": [
          "TOILETTE",
          "REPAS",
          "REPAS",
          "TOILETTE",
          "REPAS",
          "REPAS",
          "REPAS",
          "TOILETTE",
          "REPAS",
          "TOILETTE",
          "REPAS",
          "TOILETTE",
          "REPAS",
          "TOILETTE",
          "TOILETTE",
          "REPAS",
          "TOILETTE",
          "AIDE MENAGERE",
          "REPAS",
          "TOILETTE",
          "REPAS",
          "TOILETTE",
          "VIE SOCIALE",
          "REPAS",
          "TOILETTE",
          "REPAS",
          "TOILETTE",
          "TOILETTE",
          "TOILETTE",
          "REPAS",
          "REPAS",
          "REPAS",
          "TOILETTE",
          "TOILETTE",
          "REPAS",
          "TOILETTE",
          "TOILETTE",
          "REPAS",
          "REPAS",
          "REPAS",
          "TOILETTE",
          "REPAS",
          "TOILETTE",
          "TOILETTE",
          "REPAS",
          "REPAS",
          "REPAS",
          "TOILETTE",
          "REPAS",
          "TOILETTE",
          "TOILETTE",
          "TOILETTE",
          "REPAS",
          "AIDE MENAGERE",
          "TOILETTE",
          "REPAS",
          "REPAS",
          "REPAS",
          "TOILETTE",
          "TOILETTE",
          "TOILETTE",
          "TOILETTE",
          "TOILETTE",
          "REPAS",
          "REPAS",
          "REPAS",
          "REPAS",
          "TOILETTE",
          "REPAS",
          "TOILETTE",
          "TOILETTE",
          "REPAS",
          "REPAS",
          "REPAS",
          "TOILETTE",
          "REPAS",
          "REPAS",
          "TOILETTE",
          "TOILETTE",
          "REPAS",
          "TOILETTE",
          "REPAS",
          "TOILETTE",
          "REPAS",
          "TOILETTE",
          "TOILETTE",
          "ACCOMPAGNEMENTS COURSES PA",
          "TOILETTE",
          "TOILETTE",
          "VIE SOCIALE",
          "REPAS",
          "REPAS",
          "TOILETTE",
          "TOILETTE",
          "REPAS",
          "TOILETTE",
          "VIE SOCIALE",
          "REPAS",
          "TOILETTE",
          "TOILETTE",
          "REPAS",
          "REPAS",
          "TOILETTE",
          "TOILETTE",
          "AIDE MENAGERE",
          "REPAS",
          "REPAS",
          "REPAS",
          "AIDE MENAGERE",
          "TOILETTE",
          "REPAS",
          "TOILETTE",
          "REPAS",
          "TOILETTE",
          "TOILETTE",
          "REPAS",
          "REPAS",
          "REPAS",
          "REPAS",
          "REPAS",
          "TOILETTE",
          "TOILETTE",
          "TOILETTE",
          "TOILETTE",
          "REPAS"
         ],
         "yaxis": "y"
        }
       ],
       "layout": {
        "barmode": "overlay",
        "legend": {
         "title": {
          "text": "Resource"
         },
         "tracegroupgap": 0
        },
        "margin": {
         "t": 60
        },
        "template": {
         "data": {
          "bar": [
           {
            "error_x": {
             "color": "#2a3f5f"
            },
            "error_y": {
             "color": "#2a3f5f"
            },
            "marker": {
             "line": {
              "color": "#E5ECF6",
              "width": 0.5
             },
             "pattern": {
              "fillmode": "overlay",
              "size": 10,
              "solidity": 0.2
             }
            },
            "type": "bar"
           }
          ],
          "barpolar": [
           {
            "marker": {
             "line": {
              "color": "#E5ECF6",
              "width": 0.5
             },
             "pattern": {
              "fillmode": "overlay",
              "size": 10,
              "solidity": 0.2
             }
            },
            "type": "barpolar"
           }
          ],
          "carpet": [
           {
            "aaxis": {
             "endlinecolor": "#2a3f5f",
             "gridcolor": "white",
             "linecolor": "white",
             "minorgridcolor": "white",
             "startlinecolor": "#2a3f5f"
            },
            "baxis": {
             "endlinecolor": "#2a3f5f",
             "gridcolor": "white",
             "linecolor": "white",
             "minorgridcolor": "white",
             "startlinecolor": "#2a3f5f"
            },
            "type": "carpet"
           }
          ],
          "choropleth": [
           {
            "colorbar": {
             "outlinewidth": 0,
             "ticks": ""
            },
            "type": "choropleth"
           }
          ],
          "contour": [
           {
            "colorbar": {
             "outlinewidth": 0,
             "ticks": ""
            },
            "colorscale": [
             [
              0,
              "#0d0887"
             ],
             [
              0.1111111111111111,
              "#46039f"
             ],
             [
              0.2222222222222222,
              "#7201a8"
             ],
             [
              0.3333333333333333,
              "#9c179e"
             ],
             [
              0.4444444444444444,
              "#bd3786"
             ],
             [
              0.5555555555555556,
              "#d8576b"
             ],
             [
              0.6666666666666666,
              "#ed7953"
             ],
             [
              0.7777777777777778,
              "#fb9f3a"
             ],
             [
              0.8888888888888888,
              "#fdca26"
             ],
             [
              1,
              "#f0f921"
             ]
            ],
            "type": "contour"
           }
          ],
          "contourcarpet": [
           {
            "colorbar": {
             "outlinewidth": 0,
             "ticks": ""
            },
            "type": "contourcarpet"
           }
          ],
          "heatmap": [
           {
            "colorbar": {
             "outlinewidth": 0,
             "ticks": ""
            },
            "colorscale": [
             [
              0,
              "#0d0887"
             ],
             [
              0.1111111111111111,
              "#46039f"
             ],
             [
              0.2222222222222222,
              "#7201a8"
             ],
             [
              0.3333333333333333,
              "#9c179e"
             ],
             [
              0.4444444444444444,
              "#bd3786"
             ],
             [
              0.5555555555555556,
              "#d8576b"
             ],
             [
              0.6666666666666666,
              "#ed7953"
             ],
             [
              0.7777777777777778,
              "#fb9f3a"
             ],
             [
              0.8888888888888888,
              "#fdca26"
             ],
             [
              1,
              "#f0f921"
             ]
            ],
            "type": "heatmap"
           }
          ],
          "heatmapgl": [
           {
            "colorbar": {
             "outlinewidth": 0,
             "ticks": ""
            },
            "colorscale": [
             [
              0,
              "#0d0887"
             ],
             [
              0.1111111111111111,
              "#46039f"
             ],
             [
              0.2222222222222222,
              "#7201a8"
             ],
             [
              0.3333333333333333,
              "#9c179e"
             ],
             [
              0.4444444444444444,
              "#bd3786"
             ],
             [
              0.5555555555555556,
              "#d8576b"
             ],
             [
              0.6666666666666666,
              "#ed7953"
             ],
             [
              0.7777777777777778,
              "#fb9f3a"
             ],
             [
              0.8888888888888888,
              "#fdca26"
             ],
             [
              1,
              "#f0f921"
             ]
            ],
            "type": "heatmapgl"
           }
          ],
          "histogram": [
           {
            "marker": {
             "pattern": {
              "fillmode": "overlay",
              "size": 10,
              "solidity": 0.2
             }
            },
            "type": "histogram"
           }
          ],
          "histogram2d": [
           {
            "colorbar": {
             "outlinewidth": 0,
             "ticks": ""
            },
            "colorscale": [
             [
              0,
              "#0d0887"
             ],
             [
              0.1111111111111111,
              "#46039f"
             ],
             [
              0.2222222222222222,
              "#7201a8"
             ],
             [
              0.3333333333333333,
              "#9c179e"
             ],
             [
              0.4444444444444444,
              "#bd3786"
             ],
             [
              0.5555555555555556,
              "#d8576b"
             ],
             [
              0.6666666666666666,
              "#ed7953"
             ],
             [
              0.7777777777777778,
              "#fb9f3a"
             ],
             [
              0.8888888888888888,
              "#fdca26"
             ],
             [
              1,
              "#f0f921"
             ]
            ],
            "type": "histogram2d"
           }
          ],
          "histogram2dcontour": [
           {
            "colorbar": {
             "outlinewidth": 0,
             "ticks": ""
            },
            "colorscale": [
             [
              0,
              "#0d0887"
             ],
             [
              0.1111111111111111,
              "#46039f"
             ],
             [
              0.2222222222222222,
              "#7201a8"
             ],
             [
              0.3333333333333333,
              "#9c179e"
             ],
             [
              0.4444444444444444,
              "#bd3786"
             ],
             [
              0.5555555555555556,
              "#d8576b"
             ],
             [
              0.6666666666666666,
              "#ed7953"
             ],
             [
              0.7777777777777778,
              "#fb9f3a"
             ],
             [
              0.8888888888888888,
              "#fdca26"
             ],
             [
              1,
              "#f0f921"
             ]
            ],
            "type": "histogram2dcontour"
           }
          ],
          "mesh3d": [
           {
            "colorbar": {
             "outlinewidth": 0,
             "ticks": ""
            },
            "type": "mesh3d"
           }
          ],
          "parcoords": [
           {
            "line": {
             "colorbar": {
              "outlinewidth": 0,
              "ticks": ""
             }
            },
            "type": "parcoords"
           }
          ],
          "pie": [
           {
            "automargin": true,
            "type": "pie"
           }
          ],
          "scatter": [
           {
            "fillpattern": {
             "fillmode": "overlay",
             "size": 10,
             "solidity": 0.2
            },
            "type": "scatter"
           }
          ],
          "scatter3d": [
           {
            "line": {
             "colorbar": {
              "outlinewidth": 0,
              "ticks": ""
             }
            },
            "marker": {
             "colorbar": {
              "outlinewidth": 0,
              "ticks": ""
             }
            },
            "type": "scatter3d"
           }
          ],
          "scattercarpet": [
           {
            "marker": {
             "colorbar": {
              "outlinewidth": 0,
              "ticks": ""
             }
            },
            "type": "scattercarpet"
           }
          ],
          "scattergeo": [
           {
            "marker": {
             "colorbar": {
              "outlinewidth": 0,
              "ticks": ""
             }
            },
            "type": "scattergeo"
           }
          ],
          "scattergl": [
           {
            "marker": {
             "colorbar": {
              "outlinewidth": 0,
              "ticks": ""
             }
            },
            "type": "scattergl"
           }
          ],
          "scattermapbox": [
           {
            "marker": {
             "colorbar": {
              "outlinewidth": 0,
              "ticks": ""
             }
            },
            "type": "scattermapbox"
           }
          ],
          "scatterpolar": [
           {
            "marker": {
             "colorbar": {
              "outlinewidth": 0,
              "ticks": ""
             }
            },
            "type": "scatterpolar"
           }
          ],
          "scatterpolargl": [
           {
            "marker": {
             "colorbar": {
              "outlinewidth": 0,
              "ticks": ""
             }
            },
            "type": "scatterpolargl"
           }
          ],
          "scatterternary": [
           {
            "marker": {
             "colorbar": {
              "outlinewidth": 0,
              "ticks": ""
             }
            },
            "type": "scatterternary"
           }
          ],
          "surface": [
           {
            "colorbar": {
             "outlinewidth": 0,
             "ticks": ""
            },
            "colorscale": [
             [
              0,
              "#0d0887"
             ],
             [
              0.1111111111111111,
              "#46039f"
             ],
             [
              0.2222222222222222,
              "#7201a8"
             ],
             [
              0.3333333333333333,
              "#9c179e"
             ],
             [
              0.4444444444444444,
              "#bd3786"
             ],
             [
              0.5555555555555556,
              "#d8576b"
             ],
             [
              0.6666666666666666,
              "#ed7953"
             ],
             [
              0.7777777777777778,
              "#fb9f3a"
             ],
             [
              0.8888888888888888,
              "#fdca26"
             ],
             [
              1,
              "#f0f921"
             ]
            ],
            "type": "surface"
           }
          ],
          "table": [
           {
            "cells": {
             "fill": {
              "color": "#EBF0F8"
             },
             "line": {
              "color": "white"
             }
            },
            "header": {
             "fill": {
              "color": "#C8D4E3"
             },
             "line": {
              "color": "white"
             }
            },
            "type": "table"
           }
          ]
         },
         "layout": {
          "annotationdefaults": {
           "arrowcolor": "#2a3f5f",
           "arrowhead": 0,
           "arrowwidth": 1
          },
          "autotypenumbers": "strict",
          "coloraxis": {
           "colorbar": {
            "outlinewidth": 0,
            "ticks": ""
           }
          },
          "colorscale": {
           "diverging": [
            [
             0,
             "#8e0152"
            ],
            [
             0.1,
             "#c51b7d"
            ],
            [
             0.2,
             "#de77ae"
            ],
            [
             0.3,
             "#f1b6da"
            ],
            [
             0.4,
             "#fde0ef"
            ],
            [
             0.5,
             "#f7f7f7"
            ],
            [
             0.6,
             "#e6f5d0"
            ],
            [
             0.7,
             "#b8e186"
            ],
            [
             0.8,
             "#7fbc41"
            ],
            [
             0.9,
             "#4d9221"
            ],
            [
             1,
             "#276419"
            ]
           ],
           "sequential": [
            [
             0,
             "#0d0887"
            ],
            [
             0.1111111111111111,
             "#46039f"
            ],
            [
             0.2222222222222222,
             "#7201a8"
            ],
            [
             0.3333333333333333,
             "#9c179e"
            ],
            [
             0.4444444444444444,
             "#bd3786"
            ],
            [
             0.5555555555555556,
             "#d8576b"
            ],
            [
             0.6666666666666666,
             "#ed7953"
            ],
            [
             0.7777777777777778,
             "#fb9f3a"
            ],
            [
             0.8888888888888888,
             "#fdca26"
            ],
            [
             1,
             "#f0f921"
            ]
           ],
           "sequentialminus": [
            [
             0,
             "#0d0887"
            ],
            [
             0.1111111111111111,
             "#46039f"
            ],
            [
             0.2222222222222222,
             "#7201a8"
            ],
            [
             0.3333333333333333,
             "#9c179e"
            ],
            [
             0.4444444444444444,
             "#bd3786"
            ],
            [
             0.5555555555555556,
             "#d8576b"
            ],
            [
             0.6666666666666666,
             "#ed7953"
            ],
            [
             0.7777777777777778,
             "#fb9f3a"
            ],
            [
             0.8888888888888888,
             "#fdca26"
            ],
            [
             1,
             "#f0f921"
            ]
           ]
          },
          "colorway": [
           "#636efa",
           "#EF553B",
           "#00cc96",
           "#ab63fa",
           "#FFA15A",
           "#19d3f3",
           "#FF6692",
           "#B6E880",
           "#FF97FF",
           "#FECB52"
          ],
          "font": {
           "color": "#2a3f5f"
          },
          "geo": {
           "bgcolor": "white",
           "lakecolor": "white",
           "landcolor": "#E5ECF6",
           "showlakes": true,
           "showland": true,
           "subunitcolor": "white"
          },
          "hoverlabel": {
           "align": "left"
          },
          "hovermode": "closest",
          "mapbox": {
           "style": "light"
          },
          "paper_bgcolor": "white",
          "plot_bgcolor": "#E5ECF6",
          "polar": {
           "angularaxis": {
            "gridcolor": "white",
            "linecolor": "white",
            "ticks": ""
           },
           "bgcolor": "#E5ECF6",
           "radialaxis": {
            "gridcolor": "white",
            "linecolor": "white",
            "ticks": ""
           }
          },
          "scene": {
           "xaxis": {
            "backgroundcolor": "#E5ECF6",
            "gridcolor": "white",
            "gridwidth": 2,
            "linecolor": "white",
            "showbackground": true,
            "ticks": "",
            "zerolinecolor": "white"
           },
           "yaxis": {
            "backgroundcolor": "#E5ECF6",
            "gridcolor": "white",
            "gridwidth": 2,
            "linecolor": "white",
            "showbackground": true,
            "ticks": "",
            "zerolinecolor": "white"
           },
           "zaxis": {
            "backgroundcolor": "#E5ECF6",
            "gridcolor": "white",
            "gridwidth": 2,
            "linecolor": "white",
            "showbackground": true,
            "ticks": "",
            "zerolinecolor": "white"
           }
          },
          "shapedefaults": {
           "line": {
            "color": "#2a3f5f"
           }
          },
          "ternary": {
           "aaxis": {
            "gridcolor": "white",
            "linecolor": "white",
            "ticks": ""
           },
           "baxis": {
            "gridcolor": "white",
            "linecolor": "white",
            "ticks": ""
           },
           "bgcolor": "#E5ECF6",
           "caxis": {
            "gridcolor": "white",
            "linecolor": "white",
            "ticks": ""
           }
          },
          "title": {
           "x": 0.05
          },
          "xaxis": {
           "automargin": true,
           "gridcolor": "white",
           "linecolor": "white",
           "ticks": "",
           "title": {
            "standoff": 15
           },
           "zerolinecolor": "white",
           "zerolinewidth": 2
          },
          "yaxis": {
           "automargin": true,
           "gridcolor": "white",
           "linecolor": "white",
           "ticks": "",
           "title": {
            "standoff": 15
           },
           "zerolinecolor": "white",
           "zerolinewidth": 2
          }
         }
        },
        "title": {
         "text": "Agenda for Intervenant ID: 648993440"
        },
        "xaxis": {
         "anchor": "y",
         "domain": [
          0,
          1
         ],
         "rangeselector": {
          "buttons": [
           {
            "count": 1,
            "label": "1D",
            "step": "day",
            "stepmode": "backward"
           },
           {
            "count": 7,
            "label": "1W",
            "step": "day",
            "stepmode": "backward"
           },
           {
            "step": "all"
           }
          ]
         },
         "rangeslider": {
          "visible": true
         },
         "type": "date"
        },
        "yaxis": {
         "anchor": "x",
         "autorange": "reversed",
         "domain": [
          0,
          1
         ],
         "title": {
          "text": "Task"
         }
        }
       }
      }
     },
     "metadata": {},
     "output_type": "display_data"
    },
    {
     "data": {
      "application/vnd.plotly.v1+json": {
       "config": {
        "plotlyServerURL": "https://plot.ly"
       },
       "data": [
        {
         "alignmentgroup": "True",
         "base": [
          "2024-01-09T09:15:00",
          "2024-01-09T09:55:00",
          "2024-01-09T14:00:00",
          "2024-01-11T08:10:00",
          "2024-01-11T08:40:00",
          "2024-01-11T10:20:00",
          "2024-01-11T11:00:00",
          "2024-01-11T13:20:00",
          "2024-01-11T15:00:00",
          "2024-01-12T08:20:00",
          "2024-01-12T09:25:00",
          "2024-01-12T10:10:00",
          "2024-01-13T08:15:00",
          "2024-01-13T09:15:00",
          "2024-01-13T10:00:00",
          "2024-01-13T10:55:00",
          "2024-01-13T11:55:00",
          "2024-01-13T17:30:00",
          "2024-01-13T18:10:00",
          "2024-01-13T18:50:00",
          "2024-01-14T08:15:00",
          "2024-01-14T09:15:00",
          "2024-01-14T10:00:00",
          "2024-01-14T10:55:00",
          "2024-01-14T11:55:00",
          "2024-01-14T17:45:00",
          "2024-01-14T18:30:00",
          "2024-01-14T19:25:00",
          "2024-01-15T08:30:00",
          "2024-01-15T09:30:00",
          "2024-01-15T10:25:00",
          "2024-01-15T14:45:00",
          "2024-01-16T09:20:00",
          "2024-01-16T10:05:00",
          "2024-01-16T11:55:00",
          "2024-01-16T12:10:00",
          "2024-01-16T13:50:00",
          "2024-01-18T09:20:00",
          "2024-01-18T09:50:00",
          "2024-01-18T11:30:00",
          "2024-01-18T14:00:00",
          "2024-01-23T08:15:00",
          "2024-01-23T08:55:00",
          "2024-01-23T09:40:00",
          "2024-01-23T10:10:00",
          "2024-01-23T11:10:00",
          "2024-01-23T11:55:00",
          "2024-01-23T12:10:00",
          "2024-01-23T13:45:00",
          "2024-01-25T09:00:00",
          "2024-01-25T09:30:00",
          "2024-01-25T11:30:00",
          "2024-01-25T15:00:00",
          "2024-01-26T08:00:00",
          "2024-01-26T08:55:00",
          "2024-01-26T09:40:00",
          "2024-01-26T10:25:00",
          "2024-01-26T10:55:00",
          "2024-01-26T11:55:00"
         ],
         "hovertemplate": "Resource=888888888<br>Start=%{base}<br>Finish=%{x}<br>Task=%{y}<extra></extra>",
         "legendgroup": "888888888",
         "marker": {
          "color": "#636efa",
          "pattern": {
           "shape": ""
          }
         },
         "name": "888888888",
         "offsetgroup": "888888888",
         "orientation": "h",
         "showlegend": true,
         "textposition": "auto",
         "type": "bar",
         "x": [
          1800000,
          1800000,
          7200000,
          1800000,
          5400000,
          1800000,
          5400000,
          5400000,
          3600000,
          2700000,
          1800000,
          3600000,
          2700000,
          2700000,
          2700000,
          2700000,
          3600000,
          1800000,
          1800000,
          2700000,
          2700000,
          2700000,
          2700000,
          2700000,
          3600000,
          1800000,
          2700000,
          1800000,
          1800000,
          1800000,
          3600000,
          3600000,
          1800000,
          5400000,
          900000,
          2700000,
          7200000,
          1800000,
          5400000,
          3600000,
          5400000,
          1800000,
          1800000,
          1800000,
          3600000,
          1800000,
          900000,
          2700000,
          7200000,
          1800000,
          5400000,
          1800000,
          3600000,
          2700000,
          1800000,
          1800000,
          1800000,
          3600000,
          1800000
         ],
         "xaxis": "x",
         "y": [
          "TOILETTE",
          "TOILETTE",
          "AIDE MENAGERE",
          "TOILETTE",
          "AIDE MENAGERE",
          "TOILETTE",
          "AIDE MENAGERE",
          "AIDE MENAGERE",
          "AIDE MENAGERE",
          "TOILETTE",
          "TOILETTE",
          "TOILETTE",
          "TOILETTE",
          "TOILETTE",
          "TOILETTE",
          "TOILETTE",
          "REPAS",
          "REPAS",
          "REPAS",
          "TOILETTE",
          "TOILETTE",
          "TOILETTE",
          "TOILETTE",
          "TOILETTE",
          "REPAS",
          "TOILETTE",
          "TOILETTE",
          "REPAS",
          "TOILETTE",
          "TOILETTE",
          "AIDE MENAGERE",
          "AIDE MENAGERE",
          "TOILETTE",
          "AIDE MENAGERE",
          "REPAS",
          "REPAS",
          "AIDE MENAGERE",
          "TOILETTE",
          "AIDE MENAGERE",
          "AIDE MENAGERE",
          "AIDE MENAGERE",
          "TOILETTE",
          "TOILETTE",
          "TOILETTE",
          "AIDE MENAGERE",
          "REPAS",
          "REPAS",
          "REPAS",
          "ACCOMPAGNEMENTS COURSES PA",
          "TOILETTE",
          "AIDE MENAGERE",
          "REPAS",
          "AIDE MENAGERE",
          "TOILETTE",
          "TOILETTE",
          "TOILETTE",
          "TOILETTE",
          "AIDE MENAGERE",
          "REPAS"
         ],
         "yaxis": "y"
        }
       ],
       "layout": {
        "barmode": "overlay",
        "legend": {
         "title": {
          "text": "Resource"
         },
         "tracegroupgap": 0
        },
        "margin": {
         "t": 60
        },
        "template": {
         "data": {
          "bar": [
           {
            "error_x": {
             "color": "#2a3f5f"
            },
            "error_y": {
             "color": "#2a3f5f"
            },
            "marker": {
             "line": {
              "color": "#E5ECF6",
              "width": 0.5
             },
             "pattern": {
              "fillmode": "overlay",
              "size": 10,
              "solidity": 0.2
             }
            },
            "type": "bar"
           }
          ],
          "barpolar": [
           {
            "marker": {
             "line": {
              "color": "#E5ECF6",
              "width": 0.5
             },
             "pattern": {
              "fillmode": "overlay",
              "size": 10,
              "solidity": 0.2
             }
            },
            "type": "barpolar"
           }
          ],
          "carpet": [
           {
            "aaxis": {
             "endlinecolor": "#2a3f5f",
             "gridcolor": "white",
             "linecolor": "white",
             "minorgridcolor": "white",
             "startlinecolor": "#2a3f5f"
            },
            "baxis": {
             "endlinecolor": "#2a3f5f",
             "gridcolor": "white",
             "linecolor": "white",
             "minorgridcolor": "white",
             "startlinecolor": "#2a3f5f"
            },
            "type": "carpet"
           }
          ],
          "choropleth": [
           {
            "colorbar": {
             "outlinewidth": 0,
             "ticks": ""
            },
            "type": "choropleth"
           }
          ],
          "contour": [
           {
            "colorbar": {
             "outlinewidth": 0,
             "ticks": ""
            },
            "colorscale": [
             [
              0,
              "#0d0887"
             ],
             [
              0.1111111111111111,
              "#46039f"
             ],
             [
              0.2222222222222222,
              "#7201a8"
             ],
             [
              0.3333333333333333,
              "#9c179e"
             ],
             [
              0.4444444444444444,
              "#bd3786"
             ],
             [
              0.5555555555555556,
              "#d8576b"
             ],
             [
              0.6666666666666666,
              "#ed7953"
             ],
             [
              0.7777777777777778,
              "#fb9f3a"
             ],
             [
              0.8888888888888888,
              "#fdca26"
             ],
             [
              1,
              "#f0f921"
             ]
            ],
            "type": "contour"
           }
          ],
          "contourcarpet": [
           {
            "colorbar": {
             "outlinewidth": 0,
             "ticks": ""
            },
            "type": "contourcarpet"
           }
          ],
          "heatmap": [
           {
            "colorbar": {
             "outlinewidth": 0,
             "ticks": ""
            },
            "colorscale": [
             [
              0,
              "#0d0887"
             ],
             [
              0.1111111111111111,
              "#46039f"
             ],
             [
              0.2222222222222222,
              "#7201a8"
             ],
             [
              0.3333333333333333,
              "#9c179e"
             ],
             [
              0.4444444444444444,
              "#bd3786"
             ],
             [
              0.5555555555555556,
              "#d8576b"
             ],
             [
              0.6666666666666666,
              "#ed7953"
             ],
             [
              0.7777777777777778,
              "#fb9f3a"
             ],
             [
              0.8888888888888888,
              "#fdca26"
             ],
             [
              1,
              "#f0f921"
             ]
            ],
            "type": "heatmap"
           }
          ],
          "heatmapgl": [
           {
            "colorbar": {
             "outlinewidth": 0,
             "ticks": ""
            },
            "colorscale": [
             [
              0,
              "#0d0887"
             ],
             [
              0.1111111111111111,
              "#46039f"
             ],
             [
              0.2222222222222222,
              "#7201a8"
             ],
             [
              0.3333333333333333,
              "#9c179e"
             ],
             [
              0.4444444444444444,
              "#bd3786"
             ],
             [
              0.5555555555555556,
              "#d8576b"
             ],
             [
              0.6666666666666666,
              "#ed7953"
             ],
             [
              0.7777777777777778,
              "#fb9f3a"
             ],
             [
              0.8888888888888888,
              "#fdca26"
             ],
             [
              1,
              "#f0f921"
             ]
            ],
            "type": "heatmapgl"
           }
          ],
          "histogram": [
           {
            "marker": {
             "pattern": {
              "fillmode": "overlay",
              "size": 10,
              "solidity": 0.2
             }
            },
            "type": "histogram"
           }
          ],
          "histogram2d": [
           {
            "colorbar": {
             "outlinewidth": 0,
             "ticks": ""
            },
            "colorscale": [
             [
              0,
              "#0d0887"
             ],
             [
              0.1111111111111111,
              "#46039f"
             ],
             [
              0.2222222222222222,
              "#7201a8"
             ],
             [
              0.3333333333333333,
              "#9c179e"
             ],
             [
              0.4444444444444444,
              "#bd3786"
             ],
             [
              0.5555555555555556,
              "#d8576b"
             ],
             [
              0.6666666666666666,
              "#ed7953"
             ],
             [
              0.7777777777777778,
              "#fb9f3a"
             ],
             [
              0.8888888888888888,
              "#fdca26"
             ],
             [
              1,
              "#f0f921"
             ]
            ],
            "type": "histogram2d"
           }
          ],
          "histogram2dcontour": [
           {
            "colorbar": {
             "outlinewidth": 0,
             "ticks": ""
            },
            "colorscale": [
             [
              0,
              "#0d0887"
             ],
             [
              0.1111111111111111,
              "#46039f"
             ],
             [
              0.2222222222222222,
              "#7201a8"
             ],
             [
              0.3333333333333333,
              "#9c179e"
             ],
             [
              0.4444444444444444,
              "#bd3786"
             ],
             [
              0.5555555555555556,
              "#d8576b"
             ],
             [
              0.6666666666666666,
              "#ed7953"
             ],
             [
              0.7777777777777778,
              "#fb9f3a"
             ],
             [
              0.8888888888888888,
              "#fdca26"
             ],
             [
              1,
              "#f0f921"
             ]
            ],
            "type": "histogram2dcontour"
           }
          ],
          "mesh3d": [
           {
            "colorbar": {
             "outlinewidth": 0,
             "ticks": ""
            },
            "type": "mesh3d"
           }
          ],
          "parcoords": [
           {
            "line": {
             "colorbar": {
              "outlinewidth": 0,
              "ticks": ""
             }
            },
            "type": "parcoords"
           }
          ],
          "pie": [
           {
            "automargin": true,
            "type": "pie"
           }
          ],
          "scatter": [
           {
            "fillpattern": {
             "fillmode": "overlay",
             "size": 10,
             "solidity": 0.2
            },
            "type": "scatter"
           }
          ],
          "scatter3d": [
           {
            "line": {
             "colorbar": {
              "outlinewidth": 0,
              "ticks": ""
             }
            },
            "marker": {
             "colorbar": {
              "outlinewidth": 0,
              "ticks": ""
             }
            },
            "type": "scatter3d"
           }
          ],
          "scattercarpet": [
           {
            "marker": {
             "colorbar": {
              "outlinewidth": 0,
              "ticks": ""
             }
            },
            "type": "scattercarpet"
           }
          ],
          "scattergeo": [
           {
            "marker": {
             "colorbar": {
              "outlinewidth": 0,
              "ticks": ""
             }
            },
            "type": "scattergeo"
           }
          ],
          "scattergl": [
           {
            "marker": {
             "colorbar": {
              "outlinewidth": 0,
              "ticks": ""
             }
            },
            "type": "scattergl"
           }
          ],
          "scattermapbox": [
           {
            "marker": {
             "colorbar": {
              "outlinewidth": 0,
              "ticks": ""
             }
            },
            "type": "scattermapbox"
           }
          ],
          "scatterpolar": [
           {
            "marker": {
             "colorbar": {
              "outlinewidth": 0,
              "ticks": ""
             }
            },
            "type": "scatterpolar"
           }
          ],
          "scatterpolargl": [
           {
            "marker": {
             "colorbar": {
              "outlinewidth": 0,
              "ticks": ""
             }
            },
            "type": "scatterpolargl"
           }
          ],
          "scatterternary": [
           {
            "marker": {
             "colorbar": {
              "outlinewidth": 0,
              "ticks": ""
             }
            },
            "type": "scatterternary"
           }
          ],
          "surface": [
           {
            "colorbar": {
             "outlinewidth": 0,
             "ticks": ""
            },
            "colorscale": [
             [
              0,
              "#0d0887"
             ],
             [
              0.1111111111111111,
              "#46039f"
             ],
             [
              0.2222222222222222,
              "#7201a8"
             ],
             [
              0.3333333333333333,
              "#9c179e"
             ],
             [
              0.4444444444444444,
              "#bd3786"
             ],
             [
              0.5555555555555556,
              "#d8576b"
             ],
             [
              0.6666666666666666,
              "#ed7953"
             ],
             [
              0.7777777777777778,
              "#fb9f3a"
             ],
             [
              0.8888888888888888,
              "#fdca26"
             ],
             [
              1,
              "#f0f921"
             ]
            ],
            "type": "surface"
           }
          ],
          "table": [
           {
            "cells": {
             "fill": {
              "color": "#EBF0F8"
             },
             "line": {
              "color": "white"
             }
            },
            "header": {
             "fill": {
              "color": "#C8D4E3"
             },
             "line": {
              "color": "white"
             }
            },
            "type": "table"
           }
          ]
         },
         "layout": {
          "annotationdefaults": {
           "arrowcolor": "#2a3f5f",
           "arrowhead": 0,
           "arrowwidth": 1
          },
          "autotypenumbers": "strict",
          "coloraxis": {
           "colorbar": {
            "outlinewidth": 0,
            "ticks": ""
           }
          },
          "colorscale": {
           "diverging": [
            [
             0,
             "#8e0152"
            ],
            [
             0.1,
             "#c51b7d"
            ],
            [
             0.2,
             "#de77ae"
            ],
            [
             0.3,
             "#f1b6da"
            ],
            [
             0.4,
             "#fde0ef"
            ],
            [
             0.5,
             "#f7f7f7"
            ],
            [
             0.6,
             "#e6f5d0"
            ],
            [
             0.7,
             "#b8e186"
            ],
            [
             0.8,
             "#7fbc41"
            ],
            [
             0.9,
             "#4d9221"
            ],
            [
             1,
             "#276419"
            ]
           ],
           "sequential": [
            [
             0,
             "#0d0887"
            ],
            [
             0.1111111111111111,
             "#46039f"
            ],
            [
             0.2222222222222222,
             "#7201a8"
            ],
            [
             0.3333333333333333,
             "#9c179e"
            ],
            [
             0.4444444444444444,
             "#bd3786"
            ],
            [
             0.5555555555555556,
             "#d8576b"
            ],
            [
             0.6666666666666666,
             "#ed7953"
            ],
            [
             0.7777777777777778,
             "#fb9f3a"
            ],
            [
             0.8888888888888888,
             "#fdca26"
            ],
            [
             1,
             "#f0f921"
            ]
           ],
           "sequentialminus": [
            [
             0,
             "#0d0887"
            ],
            [
             0.1111111111111111,
             "#46039f"
            ],
            [
             0.2222222222222222,
             "#7201a8"
            ],
            [
             0.3333333333333333,
             "#9c179e"
            ],
            [
             0.4444444444444444,
             "#bd3786"
            ],
            [
             0.5555555555555556,
             "#d8576b"
            ],
            [
             0.6666666666666666,
             "#ed7953"
            ],
            [
             0.7777777777777778,
             "#fb9f3a"
            ],
            [
             0.8888888888888888,
             "#fdca26"
            ],
            [
             1,
             "#f0f921"
            ]
           ]
          },
          "colorway": [
           "#636efa",
           "#EF553B",
           "#00cc96",
           "#ab63fa",
           "#FFA15A",
           "#19d3f3",
           "#FF6692",
           "#B6E880",
           "#FF97FF",
           "#FECB52"
          ],
          "font": {
           "color": "#2a3f5f"
          },
          "geo": {
           "bgcolor": "white",
           "lakecolor": "white",
           "landcolor": "#E5ECF6",
           "showlakes": true,
           "showland": true,
           "subunitcolor": "white"
          },
          "hoverlabel": {
           "align": "left"
          },
          "hovermode": "closest",
          "mapbox": {
           "style": "light"
          },
          "paper_bgcolor": "white",
          "plot_bgcolor": "#E5ECF6",
          "polar": {
           "angularaxis": {
            "gridcolor": "white",
            "linecolor": "white",
            "ticks": ""
           },
           "bgcolor": "#E5ECF6",
           "radialaxis": {
            "gridcolor": "white",
            "linecolor": "white",
            "ticks": ""
           }
          },
          "scene": {
           "xaxis": {
            "backgroundcolor": "#E5ECF6",
            "gridcolor": "white",
            "gridwidth": 2,
            "linecolor": "white",
            "showbackground": true,
            "ticks": "",
            "zerolinecolor": "white"
           },
           "yaxis": {
            "backgroundcolor": "#E5ECF6",
            "gridcolor": "white",
            "gridwidth": 2,
            "linecolor": "white",
            "showbackground": true,
            "ticks": "",
            "zerolinecolor": "white"
           },
           "zaxis": {
            "backgroundcolor": "#E5ECF6",
            "gridcolor": "white",
            "gridwidth": 2,
            "linecolor": "white",
            "showbackground": true,
            "ticks": "",
            "zerolinecolor": "white"
           }
          },
          "shapedefaults": {
           "line": {
            "color": "#2a3f5f"
           }
          },
          "ternary": {
           "aaxis": {
            "gridcolor": "white",
            "linecolor": "white",
            "ticks": ""
           },
           "baxis": {
            "gridcolor": "white",
            "linecolor": "white",
            "ticks": ""
           },
           "bgcolor": "#E5ECF6",
           "caxis": {
            "gridcolor": "white",
            "linecolor": "white",
            "ticks": ""
           }
          },
          "title": {
           "x": 0.05
          },
          "xaxis": {
           "automargin": true,
           "gridcolor": "white",
           "linecolor": "white",
           "ticks": "",
           "title": {
            "standoff": 15
           },
           "zerolinecolor": "white",
           "zerolinewidth": 2
          },
          "yaxis": {
           "automargin": true,
           "gridcolor": "white",
           "linecolor": "white",
           "ticks": "",
           "title": {
            "standoff": 15
           },
           "zerolinecolor": "white",
           "zerolinewidth": 2
          }
         }
        },
        "title": {
         "text": "Agenda for Intervenant ID: 888888888"
        },
        "xaxis": {
         "anchor": "y",
         "domain": [
          0,
          1
         ],
         "rangeselector": {
          "buttons": [
           {
            "count": 1,
            "label": "1D",
            "step": "day",
            "stepmode": "backward"
           },
           {
            "count": 7,
            "label": "1W",
            "step": "day",
            "stepmode": "backward"
           },
           {
            "step": "all"
           }
          ]
         },
         "rangeslider": {
          "visible": true
         },
         "type": "date"
        },
        "yaxis": {
         "anchor": "x",
         "autorange": "reversed",
         "domain": [
          0,
          1
         ],
         "title": {
          "text": "Task"
         }
        }
       }
      }
     },
     "metadata": {},
     "output_type": "display_data"
    },
    {
     "data": {
      "application/vnd.plotly.v1+json": {
       "config": {
        "plotlyServerURL": "https://plot.ly"
       },
       "data": [
        {
         "alignmentgroup": "True",
         "base": [
          "2024-01-09T09:45:00",
          "2024-01-09T10:45:00",
          "2024-01-09T12:15:00",
          "2024-01-09T13:00:00",
          "2024-01-09T14:05:00",
          "2024-01-09T15:45:00",
          "2024-01-11T08:30:00",
          "2024-01-11T09:45:00",
          "2024-01-11T10:45:00",
          "2024-01-11T12:00:00",
          "2024-01-11T14:00:00",
          "2024-01-11T15:40:00"
         ],
         "hovertemplate": "Resource=1452747150<br>Start=%{base}<br>Finish=%{x}<br>Task=%{y}<extra></extra>",
         "legendgroup": "1452747150",
         "marker": {
          "color": "#636efa",
          "pattern": {
           "shape": ""
          }
         },
         "name": "1452747150",
         "offsetgroup": "1452747150",
         "orientation": "h",
         "showlegend": true,
         "textposition": "auto",
         "type": "bar",
         "x": [
          2700000,
          3600000,
          1800000,
          900000,
          5400000,
          3600000,
          3600000,
          2700000,
          3600000,
          1800000,
          5400000,
          3600000
         ],
         "xaxis": "x",
         "y": [
          "FORMATION",
          "FORMATION",
          "FORMATION",
          "FORMATION",
          "FORMATION",
          "FORMATION",
          "FORMATION",
          "FORMATION",
          "FORMATION",
          "FORMATION",
          "FORMATION",
          "FORMATION"
         ],
         "yaxis": "y"
        }
       ],
       "layout": {
        "barmode": "overlay",
        "legend": {
         "title": {
          "text": "Resource"
         },
         "tracegroupgap": 0
        },
        "margin": {
         "t": 60
        },
        "template": {
         "data": {
          "bar": [
           {
            "error_x": {
             "color": "#2a3f5f"
            },
            "error_y": {
             "color": "#2a3f5f"
            },
            "marker": {
             "line": {
              "color": "#E5ECF6",
              "width": 0.5
             },
             "pattern": {
              "fillmode": "overlay",
              "size": 10,
              "solidity": 0.2
             }
            },
            "type": "bar"
           }
          ],
          "barpolar": [
           {
            "marker": {
             "line": {
              "color": "#E5ECF6",
              "width": 0.5
             },
             "pattern": {
              "fillmode": "overlay",
              "size": 10,
              "solidity": 0.2
             }
            },
            "type": "barpolar"
           }
          ],
          "carpet": [
           {
            "aaxis": {
             "endlinecolor": "#2a3f5f",
             "gridcolor": "white",
             "linecolor": "white",
             "minorgridcolor": "white",
             "startlinecolor": "#2a3f5f"
            },
            "baxis": {
             "endlinecolor": "#2a3f5f",
             "gridcolor": "white",
             "linecolor": "white",
             "minorgridcolor": "white",
             "startlinecolor": "#2a3f5f"
            },
            "type": "carpet"
           }
          ],
          "choropleth": [
           {
            "colorbar": {
             "outlinewidth": 0,
             "ticks": ""
            },
            "type": "choropleth"
           }
          ],
          "contour": [
           {
            "colorbar": {
             "outlinewidth": 0,
             "ticks": ""
            },
            "colorscale": [
             [
              0,
              "#0d0887"
             ],
             [
              0.1111111111111111,
              "#46039f"
             ],
             [
              0.2222222222222222,
              "#7201a8"
             ],
             [
              0.3333333333333333,
              "#9c179e"
             ],
             [
              0.4444444444444444,
              "#bd3786"
             ],
             [
              0.5555555555555556,
              "#d8576b"
             ],
             [
              0.6666666666666666,
              "#ed7953"
             ],
             [
              0.7777777777777778,
              "#fb9f3a"
             ],
             [
              0.8888888888888888,
              "#fdca26"
             ],
             [
              1,
              "#f0f921"
             ]
            ],
            "type": "contour"
           }
          ],
          "contourcarpet": [
           {
            "colorbar": {
             "outlinewidth": 0,
             "ticks": ""
            },
            "type": "contourcarpet"
           }
          ],
          "heatmap": [
           {
            "colorbar": {
             "outlinewidth": 0,
             "ticks": ""
            },
            "colorscale": [
             [
              0,
              "#0d0887"
             ],
             [
              0.1111111111111111,
              "#46039f"
             ],
             [
              0.2222222222222222,
              "#7201a8"
             ],
             [
              0.3333333333333333,
              "#9c179e"
             ],
             [
              0.4444444444444444,
              "#bd3786"
             ],
             [
              0.5555555555555556,
              "#d8576b"
             ],
             [
              0.6666666666666666,
              "#ed7953"
             ],
             [
              0.7777777777777778,
              "#fb9f3a"
             ],
             [
              0.8888888888888888,
              "#fdca26"
             ],
             [
              1,
              "#f0f921"
             ]
            ],
            "type": "heatmap"
           }
          ],
          "heatmapgl": [
           {
            "colorbar": {
             "outlinewidth": 0,
             "ticks": ""
            },
            "colorscale": [
             [
              0,
              "#0d0887"
             ],
             [
              0.1111111111111111,
              "#46039f"
             ],
             [
              0.2222222222222222,
              "#7201a8"
             ],
             [
              0.3333333333333333,
              "#9c179e"
             ],
             [
              0.4444444444444444,
              "#bd3786"
             ],
             [
              0.5555555555555556,
              "#d8576b"
             ],
             [
              0.6666666666666666,
              "#ed7953"
             ],
             [
              0.7777777777777778,
              "#fb9f3a"
             ],
             [
              0.8888888888888888,
              "#fdca26"
             ],
             [
              1,
              "#f0f921"
             ]
            ],
            "type": "heatmapgl"
           }
          ],
          "histogram": [
           {
            "marker": {
             "pattern": {
              "fillmode": "overlay",
              "size": 10,
              "solidity": 0.2
             }
            },
            "type": "histogram"
           }
          ],
          "histogram2d": [
           {
            "colorbar": {
             "outlinewidth": 0,
             "ticks": ""
            },
            "colorscale": [
             [
              0,
              "#0d0887"
             ],
             [
              0.1111111111111111,
              "#46039f"
             ],
             [
              0.2222222222222222,
              "#7201a8"
             ],
             [
              0.3333333333333333,
              "#9c179e"
             ],
             [
              0.4444444444444444,
              "#bd3786"
             ],
             [
              0.5555555555555556,
              "#d8576b"
             ],
             [
              0.6666666666666666,
              "#ed7953"
             ],
             [
              0.7777777777777778,
              "#fb9f3a"
             ],
             [
              0.8888888888888888,
              "#fdca26"
             ],
             [
              1,
              "#f0f921"
             ]
            ],
            "type": "histogram2d"
           }
          ],
          "histogram2dcontour": [
           {
            "colorbar": {
             "outlinewidth": 0,
             "ticks": ""
            },
            "colorscale": [
             [
              0,
              "#0d0887"
             ],
             [
              0.1111111111111111,
              "#46039f"
             ],
             [
              0.2222222222222222,
              "#7201a8"
             ],
             [
              0.3333333333333333,
              "#9c179e"
             ],
             [
              0.4444444444444444,
              "#bd3786"
             ],
             [
              0.5555555555555556,
              "#d8576b"
             ],
             [
              0.6666666666666666,
              "#ed7953"
             ],
             [
              0.7777777777777778,
              "#fb9f3a"
             ],
             [
              0.8888888888888888,
              "#fdca26"
             ],
             [
              1,
              "#f0f921"
             ]
            ],
            "type": "histogram2dcontour"
           }
          ],
          "mesh3d": [
           {
            "colorbar": {
             "outlinewidth": 0,
             "ticks": ""
            },
            "type": "mesh3d"
           }
          ],
          "parcoords": [
           {
            "line": {
             "colorbar": {
              "outlinewidth": 0,
              "ticks": ""
             }
            },
            "type": "parcoords"
           }
          ],
          "pie": [
           {
            "automargin": true,
            "type": "pie"
           }
          ],
          "scatter": [
           {
            "fillpattern": {
             "fillmode": "overlay",
             "size": 10,
             "solidity": 0.2
            },
            "type": "scatter"
           }
          ],
          "scatter3d": [
           {
            "line": {
             "colorbar": {
              "outlinewidth": 0,
              "ticks": ""
             }
            },
            "marker": {
             "colorbar": {
              "outlinewidth": 0,
              "ticks": ""
             }
            },
            "type": "scatter3d"
           }
          ],
          "scattercarpet": [
           {
            "marker": {
             "colorbar": {
              "outlinewidth": 0,
              "ticks": ""
             }
            },
            "type": "scattercarpet"
           }
          ],
          "scattergeo": [
           {
            "marker": {
             "colorbar": {
              "outlinewidth": 0,
              "ticks": ""
             }
            },
            "type": "scattergeo"
           }
          ],
          "scattergl": [
           {
            "marker": {
             "colorbar": {
              "outlinewidth": 0,
              "ticks": ""
             }
            },
            "type": "scattergl"
           }
          ],
          "scattermapbox": [
           {
            "marker": {
             "colorbar": {
              "outlinewidth": 0,
              "ticks": ""
             }
            },
            "type": "scattermapbox"
           }
          ],
          "scatterpolar": [
           {
            "marker": {
             "colorbar": {
              "outlinewidth": 0,
              "ticks": ""
             }
            },
            "type": "scatterpolar"
           }
          ],
          "scatterpolargl": [
           {
            "marker": {
             "colorbar": {
              "outlinewidth": 0,
              "ticks": ""
             }
            },
            "type": "scatterpolargl"
           }
          ],
          "scatterternary": [
           {
            "marker": {
             "colorbar": {
              "outlinewidth": 0,
              "ticks": ""
             }
            },
            "type": "scatterternary"
           }
          ],
          "surface": [
           {
            "colorbar": {
             "outlinewidth": 0,
             "ticks": ""
            },
            "colorscale": [
             [
              0,
              "#0d0887"
             ],
             [
              0.1111111111111111,
              "#46039f"
             ],
             [
              0.2222222222222222,
              "#7201a8"
             ],
             [
              0.3333333333333333,
              "#9c179e"
             ],
             [
              0.4444444444444444,
              "#bd3786"
             ],
             [
              0.5555555555555556,
              "#d8576b"
             ],
             [
              0.6666666666666666,
              "#ed7953"
             ],
             [
              0.7777777777777778,
              "#fb9f3a"
             ],
             [
              0.8888888888888888,
              "#fdca26"
             ],
             [
              1,
              "#f0f921"
             ]
            ],
            "type": "surface"
           }
          ],
          "table": [
           {
            "cells": {
             "fill": {
              "color": "#EBF0F8"
             },
             "line": {
              "color": "white"
             }
            },
            "header": {
             "fill": {
              "color": "#C8D4E3"
             },
             "line": {
              "color": "white"
             }
            },
            "type": "table"
           }
          ]
         },
         "layout": {
          "annotationdefaults": {
           "arrowcolor": "#2a3f5f",
           "arrowhead": 0,
           "arrowwidth": 1
          },
          "autotypenumbers": "strict",
          "coloraxis": {
           "colorbar": {
            "outlinewidth": 0,
            "ticks": ""
           }
          },
          "colorscale": {
           "diverging": [
            [
             0,
             "#8e0152"
            ],
            [
             0.1,
             "#c51b7d"
            ],
            [
             0.2,
             "#de77ae"
            ],
            [
             0.3,
             "#f1b6da"
            ],
            [
             0.4,
             "#fde0ef"
            ],
            [
             0.5,
             "#f7f7f7"
            ],
            [
             0.6,
             "#e6f5d0"
            ],
            [
             0.7,
             "#b8e186"
            ],
            [
             0.8,
             "#7fbc41"
            ],
            [
             0.9,
             "#4d9221"
            ],
            [
             1,
             "#276419"
            ]
           ],
           "sequential": [
            [
             0,
             "#0d0887"
            ],
            [
             0.1111111111111111,
             "#46039f"
            ],
            [
             0.2222222222222222,
             "#7201a8"
            ],
            [
             0.3333333333333333,
             "#9c179e"
            ],
            [
             0.4444444444444444,
             "#bd3786"
            ],
            [
             0.5555555555555556,
             "#d8576b"
            ],
            [
             0.6666666666666666,
             "#ed7953"
            ],
            [
             0.7777777777777778,
             "#fb9f3a"
            ],
            [
             0.8888888888888888,
             "#fdca26"
            ],
            [
             1,
             "#f0f921"
            ]
           ],
           "sequentialminus": [
            [
             0,
             "#0d0887"
            ],
            [
             0.1111111111111111,
             "#46039f"
            ],
            [
             0.2222222222222222,
             "#7201a8"
            ],
            [
             0.3333333333333333,
             "#9c179e"
            ],
            [
             0.4444444444444444,
             "#bd3786"
            ],
            [
             0.5555555555555556,
             "#d8576b"
            ],
            [
             0.6666666666666666,
             "#ed7953"
            ],
            [
             0.7777777777777778,
             "#fb9f3a"
            ],
            [
             0.8888888888888888,
             "#fdca26"
            ],
            [
             1,
             "#f0f921"
            ]
           ]
          },
          "colorway": [
           "#636efa",
           "#EF553B",
           "#00cc96",
           "#ab63fa",
           "#FFA15A",
           "#19d3f3",
           "#FF6692",
           "#B6E880",
           "#FF97FF",
           "#FECB52"
          ],
          "font": {
           "color": "#2a3f5f"
          },
          "geo": {
           "bgcolor": "white",
           "lakecolor": "white",
           "landcolor": "#E5ECF6",
           "showlakes": true,
           "showland": true,
           "subunitcolor": "white"
          },
          "hoverlabel": {
           "align": "left"
          },
          "hovermode": "closest",
          "mapbox": {
           "style": "light"
          },
          "paper_bgcolor": "white",
          "plot_bgcolor": "#E5ECF6",
          "polar": {
           "angularaxis": {
            "gridcolor": "white",
            "linecolor": "white",
            "ticks": ""
           },
           "bgcolor": "#E5ECF6",
           "radialaxis": {
            "gridcolor": "white",
            "linecolor": "white",
            "ticks": ""
           }
          },
          "scene": {
           "xaxis": {
            "backgroundcolor": "#E5ECF6",
            "gridcolor": "white",
            "gridwidth": 2,
            "linecolor": "white",
            "showbackground": true,
            "ticks": "",
            "zerolinecolor": "white"
           },
           "yaxis": {
            "backgroundcolor": "#E5ECF6",
            "gridcolor": "white",
            "gridwidth": 2,
            "linecolor": "white",
            "showbackground": true,
            "ticks": "",
            "zerolinecolor": "white"
           },
           "zaxis": {
            "backgroundcolor": "#E5ECF6",
            "gridcolor": "white",
            "gridwidth": 2,
            "linecolor": "white",
            "showbackground": true,
            "ticks": "",
            "zerolinecolor": "white"
           }
          },
          "shapedefaults": {
           "line": {
            "color": "#2a3f5f"
           }
          },
          "ternary": {
           "aaxis": {
            "gridcolor": "white",
            "linecolor": "white",
            "ticks": ""
           },
           "baxis": {
            "gridcolor": "white",
            "linecolor": "white",
            "ticks": ""
           },
           "bgcolor": "#E5ECF6",
           "caxis": {
            "gridcolor": "white",
            "linecolor": "white",
            "ticks": ""
           }
          },
          "title": {
           "x": 0.05
          },
          "xaxis": {
           "automargin": true,
           "gridcolor": "white",
           "linecolor": "white",
           "ticks": "",
           "title": {
            "standoff": 15
           },
           "zerolinecolor": "white",
           "zerolinewidth": 2
          },
          "yaxis": {
           "automargin": true,
           "gridcolor": "white",
           "linecolor": "white",
           "ticks": "",
           "title": {
            "standoff": 15
           },
           "zerolinecolor": "white",
           "zerolinewidth": 2
          }
         }
        },
        "title": {
         "text": "Agenda for Intervenant ID: 1452747150"
        },
        "xaxis": {
         "anchor": "y",
         "domain": [
          0,
          1
         ],
         "rangeselector": {
          "buttons": [
           {
            "count": 1,
            "label": "1D",
            "step": "day",
            "stepmode": "backward"
           },
           {
            "count": 7,
            "label": "1W",
            "step": "day",
            "stepmode": "backward"
           },
           {
            "step": "all"
           }
          ]
         },
         "rangeslider": {
          "visible": true
         },
         "type": "date"
        },
        "yaxis": {
         "anchor": "x",
         "autorange": "reversed",
         "domain": [
          0,
          1
         ],
         "title": {
          "text": "Task"
         }
        }
       }
      }
     },
     "metadata": {},
     "output_type": "display_data"
    },
    {
     "data": {
      "application/vnd.plotly.v1+json": {
       "config": {
        "plotlyServerURL": "https://plot.ly"
       },
       "data": [
        {
         "alignmentgroup": "True",
         "base": [
          "2024-01-25T10:00:00",
          "2024-01-25T13:00:00"
         ],
         "hovertemplate": "Resource=78012267<br>Start=%{base}<br>Finish=%{x}<br>Task=%{y}<extra></extra>",
         "legendgroup": "78012267",
         "marker": {
          "color": "#636efa",
          "pattern": {
           "shape": ""
          }
         },
         "name": "78012267",
         "offsetgroup": "78012267",
         "orientation": "h",
         "showlegend": true,
         "textposition": "auto",
         "type": "bar",
         "x": [
          3600000,
          3600000
         ],
         "xaxis": "x",
         "y": [
          "HOMMES TOUTES MAINS",
          "HOMMES TOUTES MAINS"
         ],
         "yaxis": "y"
        }
       ],
       "layout": {
        "barmode": "overlay",
        "legend": {
         "title": {
          "text": "Resource"
         },
         "tracegroupgap": 0
        },
        "margin": {
         "t": 60
        },
        "template": {
         "data": {
          "bar": [
           {
            "error_x": {
             "color": "#2a3f5f"
            },
            "error_y": {
             "color": "#2a3f5f"
            },
            "marker": {
             "line": {
              "color": "#E5ECF6",
              "width": 0.5
             },
             "pattern": {
              "fillmode": "overlay",
              "size": 10,
              "solidity": 0.2
             }
            },
            "type": "bar"
           }
          ],
          "barpolar": [
           {
            "marker": {
             "line": {
              "color": "#E5ECF6",
              "width": 0.5
             },
             "pattern": {
              "fillmode": "overlay",
              "size": 10,
              "solidity": 0.2
             }
            },
            "type": "barpolar"
           }
          ],
          "carpet": [
           {
            "aaxis": {
             "endlinecolor": "#2a3f5f",
             "gridcolor": "white",
             "linecolor": "white",
             "minorgridcolor": "white",
             "startlinecolor": "#2a3f5f"
            },
            "baxis": {
             "endlinecolor": "#2a3f5f",
             "gridcolor": "white",
             "linecolor": "white",
             "minorgridcolor": "white",
             "startlinecolor": "#2a3f5f"
            },
            "type": "carpet"
           }
          ],
          "choropleth": [
           {
            "colorbar": {
             "outlinewidth": 0,
             "ticks": ""
            },
            "type": "choropleth"
           }
          ],
          "contour": [
           {
            "colorbar": {
             "outlinewidth": 0,
             "ticks": ""
            },
            "colorscale": [
             [
              0,
              "#0d0887"
             ],
             [
              0.1111111111111111,
              "#46039f"
             ],
             [
              0.2222222222222222,
              "#7201a8"
             ],
             [
              0.3333333333333333,
              "#9c179e"
             ],
             [
              0.4444444444444444,
              "#bd3786"
             ],
             [
              0.5555555555555556,
              "#d8576b"
             ],
             [
              0.6666666666666666,
              "#ed7953"
             ],
             [
              0.7777777777777778,
              "#fb9f3a"
             ],
             [
              0.8888888888888888,
              "#fdca26"
             ],
             [
              1,
              "#f0f921"
             ]
            ],
            "type": "contour"
           }
          ],
          "contourcarpet": [
           {
            "colorbar": {
             "outlinewidth": 0,
             "ticks": ""
            },
            "type": "contourcarpet"
           }
          ],
          "heatmap": [
           {
            "colorbar": {
             "outlinewidth": 0,
             "ticks": ""
            },
            "colorscale": [
             [
              0,
              "#0d0887"
             ],
             [
              0.1111111111111111,
              "#46039f"
             ],
             [
              0.2222222222222222,
              "#7201a8"
             ],
             [
              0.3333333333333333,
              "#9c179e"
             ],
             [
              0.4444444444444444,
              "#bd3786"
             ],
             [
              0.5555555555555556,
              "#d8576b"
             ],
             [
              0.6666666666666666,
              "#ed7953"
             ],
             [
              0.7777777777777778,
              "#fb9f3a"
             ],
             [
              0.8888888888888888,
              "#fdca26"
             ],
             [
              1,
              "#f0f921"
             ]
            ],
            "type": "heatmap"
           }
          ],
          "heatmapgl": [
           {
            "colorbar": {
             "outlinewidth": 0,
             "ticks": ""
            },
            "colorscale": [
             [
              0,
              "#0d0887"
             ],
             [
              0.1111111111111111,
              "#46039f"
             ],
             [
              0.2222222222222222,
              "#7201a8"
             ],
             [
              0.3333333333333333,
              "#9c179e"
             ],
             [
              0.4444444444444444,
              "#bd3786"
             ],
             [
              0.5555555555555556,
              "#d8576b"
             ],
             [
              0.6666666666666666,
              "#ed7953"
             ],
             [
              0.7777777777777778,
              "#fb9f3a"
             ],
             [
              0.8888888888888888,
              "#fdca26"
             ],
             [
              1,
              "#f0f921"
             ]
            ],
            "type": "heatmapgl"
           }
          ],
          "histogram": [
           {
            "marker": {
             "pattern": {
              "fillmode": "overlay",
              "size": 10,
              "solidity": 0.2
             }
            },
            "type": "histogram"
           }
          ],
          "histogram2d": [
           {
            "colorbar": {
             "outlinewidth": 0,
             "ticks": ""
            },
            "colorscale": [
             [
              0,
              "#0d0887"
             ],
             [
              0.1111111111111111,
              "#46039f"
             ],
             [
              0.2222222222222222,
              "#7201a8"
             ],
             [
              0.3333333333333333,
              "#9c179e"
             ],
             [
              0.4444444444444444,
              "#bd3786"
             ],
             [
              0.5555555555555556,
              "#d8576b"
             ],
             [
              0.6666666666666666,
              "#ed7953"
             ],
             [
              0.7777777777777778,
              "#fb9f3a"
             ],
             [
              0.8888888888888888,
              "#fdca26"
             ],
             [
              1,
              "#f0f921"
             ]
            ],
            "type": "histogram2d"
           }
          ],
          "histogram2dcontour": [
           {
            "colorbar": {
             "outlinewidth": 0,
             "ticks": ""
            },
            "colorscale": [
             [
              0,
              "#0d0887"
             ],
             [
              0.1111111111111111,
              "#46039f"
             ],
             [
              0.2222222222222222,
              "#7201a8"
             ],
             [
              0.3333333333333333,
              "#9c179e"
             ],
             [
              0.4444444444444444,
              "#bd3786"
             ],
             [
              0.5555555555555556,
              "#d8576b"
             ],
             [
              0.6666666666666666,
              "#ed7953"
             ],
             [
              0.7777777777777778,
              "#fb9f3a"
             ],
             [
              0.8888888888888888,
              "#fdca26"
             ],
             [
              1,
              "#f0f921"
             ]
            ],
            "type": "histogram2dcontour"
           }
          ],
          "mesh3d": [
           {
            "colorbar": {
             "outlinewidth": 0,
             "ticks": ""
            },
            "type": "mesh3d"
           }
          ],
          "parcoords": [
           {
            "line": {
             "colorbar": {
              "outlinewidth": 0,
              "ticks": ""
             }
            },
            "type": "parcoords"
           }
          ],
          "pie": [
           {
            "automargin": true,
            "type": "pie"
           }
          ],
          "scatter": [
           {
            "fillpattern": {
             "fillmode": "overlay",
             "size": 10,
             "solidity": 0.2
            },
            "type": "scatter"
           }
          ],
          "scatter3d": [
           {
            "line": {
             "colorbar": {
              "outlinewidth": 0,
              "ticks": ""
             }
            },
            "marker": {
             "colorbar": {
              "outlinewidth": 0,
              "ticks": ""
             }
            },
            "type": "scatter3d"
           }
          ],
          "scattercarpet": [
           {
            "marker": {
             "colorbar": {
              "outlinewidth": 0,
              "ticks": ""
             }
            },
            "type": "scattercarpet"
           }
          ],
          "scattergeo": [
           {
            "marker": {
             "colorbar": {
              "outlinewidth": 0,
              "ticks": ""
             }
            },
            "type": "scattergeo"
           }
          ],
          "scattergl": [
           {
            "marker": {
             "colorbar": {
              "outlinewidth": 0,
              "ticks": ""
             }
            },
            "type": "scattergl"
           }
          ],
          "scattermapbox": [
           {
            "marker": {
             "colorbar": {
              "outlinewidth": 0,
              "ticks": ""
             }
            },
            "type": "scattermapbox"
           }
          ],
          "scatterpolar": [
           {
            "marker": {
             "colorbar": {
              "outlinewidth": 0,
              "ticks": ""
             }
            },
            "type": "scatterpolar"
           }
          ],
          "scatterpolargl": [
           {
            "marker": {
             "colorbar": {
              "outlinewidth": 0,
              "ticks": ""
             }
            },
            "type": "scatterpolargl"
           }
          ],
          "scatterternary": [
           {
            "marker": {
             "colorbar": {
              "outlinewidth": 0,
              "ticks": ""
             }
            },
            "type": "scatterternary"
           }
          ],
          "surface": [
           {
            "colorbar": {
             "outlinewidth": 0,
             "ticks": ""
            },
            "colorscale": [
             [
              0,
              "#0d0887"
             ],
             [
              0.1111111111111111,
              "#46039f"
             ],
             [
              0.2222222222222222,
              "#7201a8"
             ],
             [
              0.3333333333333333,
              "#9c179e"
             ],
             [
              0.4444444444444444,
              "#bd3786"
             ],
             [
              0.5555555555555556,
              "#d8576b"
             ],
             [
              0.6666666666666666,
              "#ed7953"
             ],
             [
              0.7777777777777778,
              "#fb9f3a"
             ],
             [
              0.8888888888888888,
              "#fdca26"
             ],
             [
              1,
              "#f0f921"
             ]
            ],
            "type": "surface"
           }
          ],
          "table": [
           {
            "cells": {
             "fill": {
              "color": "#EBF0F8"
             },
             "line": {
              "color": "white"
             }
            },
            "header": {
             "fill": {
              "color": "#C8D4E3"
             },
             "line": {
              "color": "white"
             }
            },
            "type": "table"
           }
          ]
         },
         "layout": {
          "annotationdefaults": {
           "arrowcolor": "#2a3f5f",
           "arrowhead": 0,
           "arrowwidth": 1
          },
          "autotypenumbers": "strict",
          "coloraxis": {
           "colorbar": {
            "outlinewidth": 0,
            "ticks": ""
           }
          },
          "colorscale": {
           "diverging": [
            [
             0,
             "#8e0152"
            ],
            [
             0.1,
             "#c51b7d"
            ],
            [
             0.2,
             "#de77ae"
            ],
            [
             0.3,
             "#f1b6da"
            ],
            [
             0.4,
             "#fde0ef"
            ],
            [
             0.5,
             "#f7f7f7"
            ],
            [
             0.6,
             "#e6f5d0"
            ],
            [
             0.7,
             "#b8e186"
            ],
            [
             0.8,
             "#7fbc41"
            ],
            [
             0.9,
             "#4d9221"
            ],
            [
             1,
             "#276419"
            ]
           ],
           "sequential": [
            [
             0,
             "#0d0887"
            ],
            [
             0.1111111111111111,
             "#46039f"
            ],
            [
             0.2222222222222222,
             "#7201a8"
            ],
            [
             0.3333333333333333,
             "#9c179e"
            ],
            [
             0.4444444444444444,
             "#bd3786"
            ],
            [
             0.5555555555555556,
             "#d8576b"
            ],
            [
             0.6666666666666666,
             "#ed7953"
            ],
            [
             0.7777777777777778,
             "#fb9f3a"
            ],
            [
             0.8888888888888888,
             "#fdca26"
            ],
            [
             1,
             "#f0f921"
            ]
           ],
           "sequentialminus": [
            [
             0,
             "#0d0887"
            ],
            [
             0.1111111111111111,
             "#46039f"
            ],
            [
             0.2222222222222222,
             "#7201a8"
            ],
            [
             0.3333333333333333,
             "#9c179e"
            ],
            [
             0.4444444444444444,
             "#bd3786"
            ],
            [
             0.5555555555555556,
             "#d8576b"
            ],
            [
             0.6666666666666666,
             "#ed7953"
            ],
            [
             0.7777777777777778,
             "#fb9f3a"
            ],
            [
             0.8888888888888888,
             "#fdca26"
            ],
            [
             1,
             "#f0f921"
            ]
           ]
          },
          "colorway": [
           "#636efa",
           "#EF553B",
           "#00cc96",
           "#ab63fa",
           "#FFA15A",
           "#19d3f3",
           "#FF6692",
           "#B6E880",
           "#FF97FF",
           "#FECB52"
          ],
          "font": {
           "color": "#2a3f5f"
          },
          "geo": {
           "bgcolor": "white",
           "lakecolor": "white",
           "landcolor": "#E5ECF6",
           "showlakes": true,
           "showland": true,
           "subunitcolor": "white"
          },
          "hoverlabel": {
           "align": "left"
          },
          "hovermode": "closest",
          "mapbox": {
           "style": "light"
          },
          "paper_bgcolor": "white",
          "plot_bgcolor": "#E5ECF6",
          "polar": {
           "angularaxis": {
            "gridcolor": "white",
            "linecolor": "white",
            "ticks": ""
           },
           "bgcolor": "#E5ECF6",
           "radialaxis": {
            "gridcolor": "white",
            "linecolor": "white",
            "ticks": ""
           }
          },
          "scene": {
           "xaxis": {
            "backgroundcolor": "#E5ECF6",
            "gridcolor": "white",
            "gridwidth": 2,
            "linecolor": "white",
            "showbackground": true,
            "ticks": "",
            "zerolinecolor": "white"
           },
           "yaxis": {
            "backgroundcolor": "#E5ECF6",
            "gridcolor": "white",
            "gridwidth": 2,
            "linecolor": "white",
            "showbackground": true,
            "ticks": "",
            "zerolinecolor": "white"
           },
           "zaxis": {
            "backgroundcolor": "#E5ECF6",
            "gridcolor": "white",
            "gridwidth": 2,
            "linecolor": "white",
            "showbackground": true,
            "ticks": "",
            "zerolinecolor": "white"
           }
          },
          "shapedefaults": {
           "line": {
            "color": "#2a3f5f"
           }
          },
          "ternary": {
           "aaxis": {
            "gridcolor": "white",
            "linecolor": "white",
            "ticks": ""
           },
           "baxis": {
            "gridcolor": "white",
            "linecolor": "white",
            "ticks": ""
           },
           "bgcolor": "#E5ECF6",
           "caxis": {
            "gridcolor": "white",
            "linecolor": "white",
            "ticks": ""
           }
          },
          "title": {
           "x": 0.05
          },
          "xaxis": {
           "automargin": true,
           "gridcolor": "white",
           "linecolor": "white",
           "ticks": "",
           "title": {
            "standoff": 15
           },
           "zerolinecolor": "white",
           "zerolinewidth": 2
          },
          "yaxis": {
           "automargin": true,
           "gridcolor": "white",
           "linecolor": "white",
           "ticks": "",
           "title": {
            "standoff": 15
           },
           "zerolinecolor": "white",
           "zerolinewidth": 2
          }
         }
        },
        "title": {
         "text": "Agenda for Intervenant ID: 78012267"
        },
        "xaxis": {
         "anchor": "y",
         "domain": [
          0,
          1
         ],
         "rangeselector": {
          "buttons": [
           {
            "count": 1,
            "label": "1D",
            "step": "day",
            "stepmode": "backward"
           },
           {
            "count": 7,
            "label": "1W",
            "step": "day",
            "stepmode": "backward"
           },
           {
            "step": "all"
           }
          ]
         },
         "rangeslider": {
          "visible": true
         },
         "type": "date"
        },
        "yaxis": {
         "anchor": "x",
         "autorange": "reversed",
         "domain": [
          0,
          1
         ],
         "title": {
          "text": "Task"
         }
        }
       }
      }
     },
     "metadata": {},
     "output_type": "display_data"
    },
    {
     "data": {
      "application/vnd.plotly.v1+json": {
       "config": {
        "plotlyServerURL": "https://plot.ly"
       },
       "data": [
        {
         "alignmentgroup": "True",
         "base": [
          "2024-01-30T10:00:00",
          "2024-01-31T10:30:00"
         ],
         "hovertemplate": "Resource=700168298<br>Start=%{base}<br>Finish=%{x}<br>Task=%{y}<extra></extra>",
         "legendgroup": "700168298",
         "marker": {
          "color": "#636efa",
          "pattern": {
           "shape": ""
          }
         },
         "name": "700168298",
         "offsetgroup": "700168298",
         "orientation": "h",
         "showlegend": true,
         "textposition": "auto",
         "type": "bar",
         "x": [
          5400000,
          5400000
         ],
         "xaxis": "x",
         "y": [
          "AIDE MENAGERE",
          "AIDE MENAGERE"
         ],
         "yaxis": "y"
        }
       ],
       "layout": {
        "barmode": "overlay",
        "legend": {
         "title": {
          "text": "Resource"
         },
         "tracegroupgap": 0
        },
        "margin": {
         "t": 60
        },
        "template": {
         "data": {
          "bar": [
           {
            "error_x": {
             "color": "#2a3f5f"
            },
            "error_y": {
             "color": "#2a3f5f"
            },
            "marker": {
             "line": {
              "color": "#E5ECF6",
              "width": 0.5
             },
             "pattern": {
              "fillmode": "overlay",
              "size": 10,
              "solidity": 0.2
             }
            },
            "type": "bar"
           }
          ],
          "barpolar": [
           {
            "marker": {
             "line": {
              "color": "#E5ECF6",
              "width": 0.5
             },
             "pattern": {
              "fillmode": "overlay",
              "size": 10,
              "solidity": 0.2
             }
            },
            "type": "barpolar"
           }
          ],
          "carpet": [
           {
            "aaxis": {
             "endlinecolor": "#2a3f5f",
             "gridcolor": "white",
             "linecolor": "white",
             "minorgridcolor": "white",
             "startlinecolor": "#2a3f5f"
            },
            "baxis": {
             "endlinecolor": "#2a3f5f",
             "gridcolor": "white",
             "linecolor": "white",
             "minorgridcolor": "white",
             "startlinecolor": "#2a3f5f"
            },
            "type": "carpet"
           }
          ],
          "choropleth": [
           {
            "colorbar": {
             "outlinewidth": 0,
             "ticks": ""
            },
            "type": "choropleth"
           }
          ],
          "contour": [
           {
            "colorbar": {
             "outlinewidth": 0,
             "ticks": ""
            },
            "colorscale": [
             [
              0,
              "#0d0887"
             ],
             [
              0.1111111111111111,
              "#46039f"
             ],
             [
              0.2222222222222222,
              "#7201a8"
             ],
             [
              0.3333333333333333,
              "#9c179e"
             ],
             [
              0.4444444444444444,
              "#bd3786"
             ],
             [
              0.5555555555555556,
              "#d8576b"
             ],
             [
              0.6666666666666666,
              "#ed7953"
             ],
             [
              0.7777777777777778,
              "#fb9f3a"
             ],
             [
              0.8888888888888888,
              "#fdca26"
             ],
             [
              1,
              "#f0f921"
             ]
            ],
            "type": "contour"
           }
          ],
          "contourcarpet": [
           {
            "colorbar": {
             "outlinewidth": 0,
             "ticks": ""
            },
            "type": "contourcarpet"
           }
          ],
          "heatmap": [
           {
            "colorbar": {
             "outlinewidth": 0,
             "ticks": ""
            },
            "colorscale": [
             [
              0,
              "#0d0887"
             ],
             [
              0.1111111111111111,
              "#46039f"
             ],
             [
              0.2222222222222222,
              "#7201a8"
             ],
             [
              0.3333333333333333,
              "#9c179e"
             ],
             [
              0.4444444444444444,
              "#bd3786"
             ],
             [
              0.5555555555555556,
              "#d8576b"
             ],
             [
              0.6666666666666666,
              "#ed7953"
             ],
             [
              0.7777777777777778,
              "#fb9f3a"
             ],
             [
              0.8888888888888888,
              "#fdca26"
             ],
             [
              1,
              "#f0f921"
             ]
            ],
            "type": "heatmap"
           }
          ],
          "heatmapgl": [
           {
            "colorbar": {
             "outlinewidth": 0,
             "ticks": ""
            },
            "colorscale": [
             [
              0,
              "#0d0887"
             ],
             [
              0.1111111111111111,
              "#46039f"
             ],
             [
              0.2222222222222222,
              "#7201a8"
             ],
             [
              0.3333333333333333,
              "#9c179e"
             ],
             [
              0.4444444444444444,
              "#bd3786"
             ],
             [
              0.5555555555555556,
              "#d8576b"
             ],
             [
              0.6666666666666666,
              "#ed7953"
             ],
             [
              0.7777777777777778,
              "#fb9f3a"
             ],
             [
              0.8888888888888888,
              "#fdca26"
             ],
             [
              1,
              "#f0f921"
             ]
            ],
            "type": "heatmapgl"
           }
          ],
          "histogram": [
           {
            "marker": {
             "pattern": {
              "fillmode": "overlay",
              "size": 10,
              "solidity": 0.2
             }
            },
            "type": "histogram"
           }
          ],
          "histogram2d": [
           {
            "colorbar": {
             "outlinewidth": 0,
             "ticks": ""
            },
            "colorscale": [
             [
              0,
              "#0d0887"
             ],
             [
              0.1111111111111111,
              "#46039f"
             ],
             [
              0.2222222222222222,
              "#7201a8"
             ],
             [
              0.3333333333333333,
              "#9c179e"
             ],
             [
              0.4444444444444444,
              "#bd3786"
             ],
             [
              0.5555555555555556,
              "#d8576b"
             ],
             [
              0.6666666666666666,
              "#ed7953"
             ],
             [
              0.7777777777777778,
              "#fb9f3a"
             ],
             [
              0.8888888888888888,
              "#fdca26"
             ],
             [
              1,
              "#f0f921"
             ]
            ],
            "type": "histogram2d"
           }
          ],
          "histogram2dcontour": [
           {
            "colorbar": {
             "outlinewidth": 0,
             "ticks": ""
            },
            "colorscale": [
             [
              0,
              "#0d0887"
             ],
             [
              0.1111111111111111,
              "#46039f"
             ],
             [
              0.2222222222222222,
              "#7201a8"
             ],
             [
              0.3333333333333333,
              "#9c179e"
             ],
             [
              0.4444444444444444,
              "#bd3786"
             ],
             [
              0.5555555555555556,
              "#d8576b"
             ],
             [
              0.6666666666666666,
              "#ed7953"
             ],
             [
              0.7777777777777778,
              "#fb9f3a"
             ],
             [
              0.8888888888888888,
              "#fdca26"
             ],
             [
              1,
              "#f0f921"
             ]
            ],
            "type": "histogram2dcontour"
           }
          ],
          "mesh3d": [
           {
            "colorbar": {
             "outlinewidth": 0,
             "ticks": ""
            },
            "type": "mesh3d"
           }
          ],
          "parcoords": [
           {
            "line": {
             "colorbar": {
              "outlinewidth": 0,
              "ticks": ""
             }
            },
            "type": "parcoords"
           }
          ],
          "pie": [
           {
            "automargin": true,
            "type": "pie"
           }
          ],
          "scatter": [
           {
            "fillpattern": {
             "fillmode": "overlay",
             "size": 10,
             "solidity": 0.2
            },
            "type": "scatter"
           }
          ],
          "scatter3d": [
           {
            "line": {
             "colorbar": {
              "outlinewidth": 0,
              "ticks": ""
             }
            },
            "marker": {
             "colorbar": {
              "outlinewidth": 0,
              "ticks": ""
             }
            },
            "type": "scatter3d"
           }
          ],
          "scattercarpet": [
           {
            "marker": {
             "colorbar": {
              "outlinewidth": 0,
              "ticks": ""
             }
            },
            "type": "scattercarpet"
           }
          ],
          "scattergeo": [
           {
            "marker": {
             "colorbar": {
              "outlinewidth": 0,
              "ticks": ""
             }
            },
            "type": "scattergeo"
           }
          ],
          "scattergl": [
           {
            "marker": {
             "colorbar": {
              "outlinewidth": 0,
              "ticks": ""
             }
            },
            "type": "scattergl"
           }
          ],
          "scattermapbox": [
           {
            "marker": {
             "colorbar": {
              "outlinewidth": 0,
              "ticks": ""
             }
            },
            "type": "scattermapbox"
           }
          ],
          "scatterpolar": [
           {
            "marker": {
             "colorbar": {
              "outlinewidth": 0,
              "ticks": ""
             }
            },
            "type": "scatterpolar"
           }
          ],
          "scatterpolargl": [
           {
            "marker": {
             "colorbar": {
              "outlinewidth": 0,
              "ticks": ""
             }
            },
            "type": "scatterpolargl"
           }
          ],
          "scatterternary": [
           {
            "marker": {
             "colorbar": {
              "outlinewidth": 0,
              "ticks": ""
             }
            },
            "type": "scatterternary"
           }
          ],
          "surface": [
           {
            "colorbar": {
             "outlinewidth": 0,
             "ticks": ""
            },
            "colorscale": [
             [
              0,
              "#0d0887"
             ],
             [
              0.1111111111111111,
              "#46039f"
             ],
             [
              0.2222222222222222,
              "#7201a8"
             ],
             [
              0.3333333333333333,
              "#9c179e"
             ],
             [
              0.4444444444444444,
              "#bd3786"
             ],
             [
              0.5555555555555556,
              "#d8576b"
             ],
             [
              0.6666666666666666,
              "#ed7953"
             ],
             [
              0.7777777777777778,
              "#fb9f3a"
             ],
             [
              0.8888888888888888,
              "#fdca26"
             ],
             [
              1,
              "#f0f921"
             ]
            ],
            "type": "surface"
           }
          ],
          "table": [
           {
            "cells": {
             "fill": {
              "color": "#EBF0F8"
             },
             "line": {
              "color": "white"
             }
            },
            "header": {
             "fill": {
              "color": "#C8D4E3"
             },
             "line": {
              "color": "white"
             }
            },
            "type": "table"
           }
          ]
         },
         "layout": {
          "annotationdefaults": {
           "arrowcolor": "#2a3f5f",
           "arrowhead": 0,
           "arrowwidth": 1
          },
          "autotypenumbers": "strict",
          "coloraxis": {
           "colorbar": {
            "outlinewidth": 0,
            "ticks": ""
           }
          },
          "colorscale": {
           "diverging": [
            [
             0,
             "#8e0152"
            ],
            [
             0.1,
             "#c51b7d"
            ],
            [
             0.2,
             "#de77ae"
            ],
            [
             0.3,
             "#f1b6da"
            ],
            [
             0.4,
             "#fde0ef"
            ],
            [
             0.5,
             "#f7f7f7"
            ],
            [
             0.6,
             "#e6f5d0"
            ],
            [
             0.7,
             "#b8e186"
            ],
            [
             0.8,
             "#7fbc41"
            ],
            [
             0.9,
             "#4d9221"
            ],
            [
             1,
             "#276419"
            ]
           ],
           "sequential": [
            [
             0,
             "#0d0887"
            ],
            [
             0.1111111111111111,
             "#46039f"
            ],
            [
             0.2222222222222222,
             "#7201a8"
            ],
            [
             0.3333333333333333,
             "#9c179e"
            ],
            [
             0.4444444444444444,
             "#bd3786"
            ],
            [
             0.5555555555555556,
             "#d8576b"
            ],
            [
             0.6666666666666666,
             "#ed7953"
            ],
            [
             0.7777777777777778,
             "#fb9f3a"
            ],
            [
             0.8888888888888888,
             "#fdca26"
            ],
            [
             1,
             "#f0f921"
            ]
           ],
           "sequentialminus": [
            [
             0,
             "#0d0887"
            ],
            [
             0.1111111111111111,
             "#46039f"
            ],
            [
             0.2222222222222222,
             "#7201a8"
            ],
            [
             0.3333333333333333,
             "#9c179e"
            ],
            [
             0.4444444444444444,
             "#bd3786"
            ],
            [
             0.5555555555555556,
             "#d8576b"
            ],
            [
             0.6666666666666666,
             "#ed7953"
            ],
            [
             0.7777777777777778,
             "#fb9f3a"
            ],
            [
             0.8888888888888888,
             "#fdca26"
            ],
            [
             1,
             "#f0f921"
            ]
           ]
          },
          "colorway": [
           "#636efa",
           "#EF553B",
           "#00cc96",
           "#ab63fa",
           "#FFA15A",
           "#19d3f3",
           "#FF6692",
           "#B6E880",
           "#FF97FF",
           "#FECB52"
          ],
          "font": {
           "color": "#2a3f5f"
          },
          "geo": {
           "bgcolor": "white",
           "lakecolor": "white",
           "landcolor": "#E5ECF6",
           "showlakes": true,
           "showland": true,
           "subunitcolor": "white"
          },
          "hoverlabel": {
           "align": "left"
          },
          "hovermode": "closest",
          "mapbox": {
           "style": "light"
          },
          "paper_bgcolor": "white",
          "plot_bgcolor": "#E5ECF6",
          "polar": {
           "angularaxis": {
            "gridcolor": "white",
            "linecolor": "white",
            "ticks": ""
           },
           "bgcolor": "#E5ECF6",
           "radialaxis": {
            "gridcolor": "white",
            "linecolor": "white",
            "ticks": ""
           }
          },
          "scene": {
           "xaxis": {
            "backgroundcolor": "#E5ECF6",
            "gridcolor": "white",
            "gridwidth": 2,
            "linecolor": "white",
            "showbackground": true,
            "ticks": "",
            "zerolinecolor": "white"
           },
           "yaxis": {
            "backgroundcolor": "#E5ECF6",
            "gridcolor": "white",
            "gridwidth": 2,
            "linecolor": "white",
            "showbackground": true,
            "ticks": "",
            "zerolinecolor": "white"
           },
           "zaxis": {
            "backgroundcolor": "#E5ECF6",
            "gridcolor": "white",
            "gridwidth": 2,
            "linecolor": "white",
            "showbackground": true,
            "ticks": "",
            "zerolinecolor": "white"
           }
          },
          "shapedefaults": {
           "line": {
            "color": "#2a3f5f"
           }
          },
          "ternary": {
           "aaxis": {
            "gridcolor": "white",
            "linecolor": "white",
            "ticks": ""
           },
           "baxis": {
            "gridcolor": "white",
            "linecolor": "white",
            "ticks": ""
           },
           "bgcolor": "#E5ECF6",
           "caxis": {
            "gridcolor": "white",
            "linecolor": "white",
            "ticks": ""
           }
          },
          "title": {
           "x": 0.05
          },
          "xaxis": {
           "automargin": true,
           "gridcolor": "white",
           "linecolor": "white",
           "ticks": "",
           "title": {
            "standoff": 15
           },
           "zerolinecolor": "white",
           "zerolinewidth": 2
          },
          "yaxis": {
           "automargin": true,
           "gridcolor": "white",
           "linecolor": "white",
           "ticks": "",
           "title": {
            "standoff": 15
           },
           "zerolinecolor": "white",
           "zerolinewidth": 2
          }
         }
        },
        "title": {
         "text": "Agenda for Intervenant ID: 700168298"
        },
        "xaxis": {
         "anchor": "y",
         "domain": [
          0,
          1
         ],
         "rangeselector": {
          "buttons": [
           {
            "count": 1,
            "label": "1D",
            "step": "day",
            "stepmode": "backward"
           },
           {
            "count": 7,
            "label": "1W",
            "step": "day",
            "stepmode": "backward"
           },
           {
            "step": "all"
           }
          ]
         },
         "rangeslider": {
          "visible": true
         },
         "type": "date"
        },
        "yaxis": {
         "anchor": "x",
         "autorange": "reversed",
         "domain": [
          0,
          1
         ],
         "title": {
          "text": "Task"
         }
        }
       }
      }
     },
     "metadata": {},
     "output_type": "display_data"
    }
   ],
   "source": [
    "for intervenant_id in jan24_df[\"ID Intervenant\"].unique():\n",
    "    plot_agenda_for_intervenant(intervenant_id)"
   ]
  },
  {
   "cell_type": "markdown",
   "metadata": {},
   "source": [
    "# Additional EDA for segmentation\n"
   ]
  },
  {
   "cell_type": "code",
   "execution_count": 14,
   "metadata": {},
   "outputs": [
    {
     "data": {
      "application/vnd.plotly.v1+json": {
       "config": {
        "plotlyServerURL": "https://plot.ly"
       },
       "data": [
        {
         "marker": {
          "color": "blue"
         },
         "mode": "lines+markers",
         "type": "scatter",
         "x": [
          "2024-01-01T00:00:00",
          "2024-01-02T00:00:00",
          "2024-01-03T00:00:00",
          "2024-01-04T00:00:00",
          "2024-01-05T00:00:00",
          "2024-01-06T00:00:00",
          "2024-01-07T00:00:00",
          "2024-01-08T00:00:00",
          "2024-01-09T00:00:00",
          "2024-01-10T00:00:00",
          "2024-01-11T00:00:00",
          "2024-01-12T00:00:00",
          "2024-01-13T00:00:00",
          "2024-01-14T00:00:00",
          "2024-01-15T00:00:00",
          "2024-01-16T00:00:00",
          "2024-01-17T00:00:00",
          "2024-01-18T00:00:00",
          "2024-01-19T00:00:00",
          "2024-01-20T00:00:00",
          "2024-01-21T00:00:00",
          "2024-01-22T00:00:00",
          "2024-01-23T00:00:00",
          "2024-01-24T00:00:00",
          "2024-01-25T00:00:00",
          "2024-01-26T00:00:00",
          "2024-01-27T00:00:00",
          "2024-01-28T00:00:00",
          "2024-01-29T00:00:00",
          "2024-01-30T00:00:00",
          "2024-01-31T00:00:00"
         ],
         "y": [
          66,
          111,
          90,
          109,
          105,
          67,
          64,
          104,
          104,
          94,
          114,
          105,
          68,
          66,
          107,
          118,
          95,
          107,
          103,
          69,
          65,
          106,
          111,
          91,
          108,
          102,
          64,
          62,
          104,
          104,
          87
         ]
        }
       ],
       "layout": {
        "template": {
         "data": {
          "bar": [
           {
            "error_x": {
             "color": "#2a3f5f"
            },
            "error_y": {
             "color": "#2a3f5f"
            },
            "marker": {
             "line": {
              "color": "#E5ECF6",
              "width": 0.5
             },
             "pattern": {
              "fillmode": "overlay",
              "size": 10,
              "solidity": 0.2
             }
            },
            "type": "bar"
           }
          ],
          "barpolar": [
           {
            "marker": {
             "line": {
              "color": "#E5ECF6",
              "width": 0.5
             },
             "pattern": {
              "fillmode": "overlay",
              "size": 10,
              "solidity": 0.2
             }
            },
            "type": "barpolar"
           }
          ],
          "carpet": [
           {
            "aaxis": {
             "endlinecolor": "#2a3f5f",
             "gridcolor": "white",
             "linecolor": "white",
             "minorgridcolor": "white",
             "startlinecolor": "#2a3f5f"
            },
            "baxis": {
             "endlinecolor": "#2a3f5f",
             "gridcolor": "white",
             "linecolor": "white",
             "minorgridcolor": "white",
             "startlinecolor": "#2a3f5f"
            },
            "type": "carpet"
           }
          ],
          "choropleth": [
           {
            "colorbar": {
             "outlinewidth": 0,
             "ticks": ""
            },
            "type": "choropleth"
           }
          ],
          "contour": [
           {
            "colorbar": {
             "outlinewidth": 0,
             "ticks": ""
            },
            "colorscale": [
             [
              0,
              "#0d0887"
             ],
             [
              0.1111111111111111,
              "#46039f"
             ],
             [
              0.2222222222222222,
              "#7201a8"
             ],
             [
              0.3333333333333333,
              "#9c179e"
             ],
             [
              0.4444444444444444,
              "#bd3786"
             ],
             [
              0.5555555555555556,
              "#d8576b"
             ],
             [
              0.6666666666666666,
              "#ed7953"
             ],
             [
              0.7777777777777778,
              "#fb9f3a"
             ],
             [
              0.8888888888888888,
              "#fdca26"
             ],
             [
              1,
              "#f0f921"
             ]
            ],
            "type": "contour"
           }
          ],
          "contourcarpet": [
           {
            "colorbar": {
             "outlinewidth": 0,
             "ticks": ""
            },
            "type": "contourcarpet"
           }
          ],
          "heatmap": [
           {
            "colorbar": {
             "outlinewidth": 0,
             "ticks": ""
            },
            "colorscale": [
             [
              0,
              "#0d0887"
             ],
             [
              0.1111111111111111,
              "#46039f"
             ],
             [
              0.2222222222222222,
              "#7201a8"
             ],
             [
              0.3333333333333333,
              "#9c179e"
             ],
             [
              0.4444444444444444,
              "#bd3786"
             ],
             [
              0.5555555555555556,
              "#d8576b"
             ],
             [
              0.6666666666666666,
              "#ed7953"
             ],
             [
              0.7777777777777778,
              "#fb9f3a"
             ],
             [
              0.8888888888888888,
              "#fdca26"
             ],
             [
              1,
              "#f0f921"
             ]
            ],
            "type": "heatmap"
           }
          ],
          "heatmapgl": [
           {
            "colorbar": {
             "outlinewidth": 0,
             "ticks": ""
            },
            "colorscale": [
             [
              0,
              "#0d0887"
             ],
             [
              0.1111111111111111,
              "#46039f"
             ],
             [
              0.2222222222222222,
              "#7201a8"
             ],
             [
              0.3333333333333333,
              "#9c179e"
             ],
             [
              0.4444444444444444,
              "#bd3786"
             ],
             [
              0.5555555555555556,
              "#d8576b"
             ],
             [
              0.6666666666666666,
              "#ed7953"
             ],
             [
              0.7777777777777778,
              "#fb9f3a"
             ],
             [
              0.8888888888888888,
              "#fdca26"
             ],
             [
              1,
              "#f0f921"
             ]
            ],
            "type": "heatmapgl"
           }
          ],
          "histogram": [
           {
            "marker": {
             "pattern": {
              "fillmode": "overlay",
              "size": 10,
              "solidity": 0.2
             }
            },
            "type": "histogram"
           }
          ],
          "histogram2d": [
           {
            "colorbar": {
             "outlinewidth": 0,
             "ticks": ""
            },
            "colorscale": [
             [
              0,
              "#0d0887"
             ],
             [
              0.1111111111111111,
              "#46039f"
             ],
             [
              0.2222222222222222,
              "#7201a8"
             ],
             [
              0.3333333333333333,
              "#9c179e"
             ],
             [
              0.4444444444444444,
              "#bd3786"
             ],
             [
              0.5555555555555556,
              "#d8576b"
             ],
             [
              0.6666666666666666,
              "#ed7953"
             ],
             [
              0.7777777777777778,
              "#fb9f3a"
             ],
             [
              0.8888888888888888,
              "#fdca26"
             ],
             [
              1,
              "#f0f921"
             ]
            ],
            "type": "histogram2d"
           }
          ],
          "histogram2dcontour": [
           {
            "colorbar": {
             "outlinewidth": 0,
             "ticks": ""
            },
            "colorscale": [
             [
              0,
              "#0d0887"
             ],
             [
              0.1111111111111111,
              "#46039f"
             ],
             [
              0.2222222222222222,
              "#7201a8"
             ],
             [
              0.3333333333333333,
              "#9c179e"
             ],
             [
              0.4444444444444444,
              "#bd3786"
             ],
             [
              0.5555555555555556,
              "#d8576b"
             ],
             [
              0.6666666666666666,
              "#ed7953"
             ],
             [
              0.7777777777777778,
              "#fb9f3a"
             ],
             [
              0.8888888888888888,
              "#fdca26"
             ],
             [
              1,
              "#f0f921"
             ]
            ],
            "type": "histogram2dcontour"
           }
          ],
          "mesh3d": [
           {
            "colorbar": {
             "outlinewidth": 0,
             "ticks": ""
            },
            "type": "mesh3d"
           }
          ],
          "parcoords": [
           {
            "line": {
             "colorbar": {
              "outlinewidth": 0,
              "ticks": ""
             }
            },
            "type": "parcoords"
           }
          ],
          "pie": [
           {
            "automargin": true,
            "type": "pie"
           }
          ],
          "scatter": [
           {
            "fillpattern": {
             "fillmode": "overlay",
             "size": 10,
             "solidity": 0.2
            },
            "type": "scatter"
           }
          ],
          "scatter3d": [
           {
            "line": {
             "colorbar": {
              "outlinewidth": 0,
              "ticks": ""
             }
            },
            "marker": {
             "colorbar": {
              "outlinewidth": 0,
              "ticks": ""
             }
            },
            "type": "scatter3d"
           }
          ],
          "scattercarpet": [
           {
            "marker": {
             "colorbar": {
              "outlinewidth": 0,
              "ticks": ""
             }
            },
            "type": "scattercarpet"
           }
          ],
          "scattergeo": [
           {
            "marker": {
             "colorbar": {
              "outlinewidth": 0,
              "ticks": ""
             }
            },
            "type": "scattergeo"
           }
          ],
          "scattergl": [
           {
            "marker": {
             "colorbar": {
              "outlinewidth": 0,
              "ticks": ""
             }
            },
            "type": "scattergl"
           }
          ],
          "scattermapbox": [
           {
            "marker": {
             "colorbar": {
              "outlinewidth": 0,
              "ticks": ""
             }
            },
            "type": "scattermapbox"
           }
          ],
          "scatterpolar": [
           {
            "marker": {
             "colorbar": {
              "outlinewidth": 0,
              "ticks": ""
             }
            },
            "type": "scatterpolar"
           }
          ],
          "scatterpolargl": [
           {
            "marker": {
             "colorbar": {
              "outlinewidth": 0,
              "ticks": ""
             }
            },
            "type": "scatterpolargl"
           }
          ],
          "scatterternary": [
           {
            "marker": {
             "colorbar": {
              "outlinewidth": 0,
              "ticks": ""
             }
            },
            "type": "scatterternary"
           }
          ],
          "surface": [
           {
            "colorbar": {
             "outlinewidth": 0,
             "ticks": ""
            },
            "colorscale": [
             [
              0,
              "#0d0887"
             ],
             [
              0.1111111111111111,
              "#46039f"
             ],
             [
              0.2222222222222222,
              "#7201a8"
             ],
             [
              0.3333333333333333,
              "#9c179e"
             ],
             [
              0.4444444444444444,
              "#bd3786"
             ],
             [
              0.5555555555555556,
              "#d8576b"
             ],
             [
              0.6666666666666666,
              "#ed7953"
             ],
             [
              0.7777777777777778,
              "#fb9f3a"
             ],
             [
              0.8888888888888888,
              "#fdca26"
             ],
             [
              1,
              "#f0f921"
             ]
            ],
            "type": "surface"
           }
          ],
          "table": [
           {
            "cells": {
             "fill": {
              "color": "#EBF0F8"
             },
             "line": {
              "color": "white"
             }
            },
            "header": {
             "fill": {
              "color": "#C8D4E3"
             },
             "line": {
              "color": "white"
             }
            },
            "type": "table"
           }
          ]
         },
         "layout": {
          "annotationdefaults": {
           "arrowcolor": "#2a3f5f",
           "arrowhead": 0,
           "arrowwidth": 1
          },
          "autotypenumbers": "strict",
          "coloraxis": {
           "colorbar": {
            "outlinewidth": 0,
            "ticks": ""
           }
          },
          "colorscale": {
           "diverging": [
            [
             0,
             "#8e0152"
            ],
            [
             0.1,
             "#c51b7d"
            ],
            [
             0.2,
             "#de77ae"
            ],
            [
             0.3,
             "#f1b6da"
            ],
            [
             0.4,
             "#fde0ef"
            ],
            [
             0.5,
             "#f7f7f7"
            ],
            [
             0.6,
             "#e6f5d0"
            ],
            [
             0.7,
             "#b8e186"
            ],
            [
             0.8,
             "#7fbc41"
            ],
            [
             0.9,
             "#4d9221"
            ],
            [
             1,
             "#276419"
            ]
           ],
           "sequential": [
            [
             0,
             "#0d0887"
            ],
            [
             0.1111111111111111,
             "#46039f"
            ],
            [
             0.2222222222222222,
             "#7201a8"
            ],
            [
             0.3333333333333333,
             "#9c179e"
            ],
            [
             0.4444444444444444,
             "#bd3786"
            ],
            [
             0.5555555555555556,
             "#d8576b"
            ],
            [
             0.6666666666666666,
             "#ed7953"
            ],
            [
             0.7777777777777778,
             "#fb9f3a"
            ],
            [
             0.8888888888888888,
             "#fdca26"
            ],
            [
             1,
             "#f0f921"
            ]
           ],
           "sequentialminus": [
            [
             0,
             "#0d0887"
            ],
            [
             0.1111111111111111,
             "#46039f"
            ],
            [
             0.2222222222222222,
             "#7201a8"
            ],
            [
             0.3333333333333333,
             "#9c179e"
            ],
            [
             0.4444444444444444,
             "#bd3786"
            ],
            [
             0.5555555555555556,
             "#d8576b"
            ],
            [
             0.6666666666666666,
             "#ed7953"
            ],
            [
             0.7777777777777778,
             "#fb9f3a"
            ],
            [
             0.8888888888888888,
             "#fdca26"
            ],
            [
             1,
             "#f0f921"
            ]
           ]
          },
          "colorway": [
           "#636efa",
           "#EF553B",
           "#00cc96",
           "#ab63fa",
           "#FFA15A",
           "#19d3f3",
           "#FF6692",
           "#B6E880",
           "#FF97FF",
           "#FECB52"
          ],
          "font": {
           "color": "#2a3f5f"
          },
          "geo": {
           "bgcolor": "white",
           "lakecolor": "white",
           "landcolor": "#E5ECF6",
           "showlakes": true,
           "showland": true,
           "subunitcolor": "white"
          },
          "hoverlabel": {
           "align": "left"
          },
          "hovermode": "closest",
          "mapbox": {
           "style": "light"
          },
          "paper_bgcolor": "white",
          "plot_bgcolor": "#E5ECF6",
          "polar": {
           "angularaxis": {
            "gridcolor": "white",
            "linecolor": "white",
            "ticks": ""
           },
           "bgcolor": "#E5ECF6",
           "radialaxis": {
            "gridcolor": "white",
            "linecolor": "white",
            "ticks": ""
           }
          },
          "scene": {
           "xaxis": {
            "backgroundcolor": "#E5ECF6",
            "gridcolor": "white",
            "gridwidth": 2,
            "linecolor": "white",
            "showbackground": true,
            "ticks": "",
            "zerolinecolor": "white"
           },
           "yaxis": {
            "backgroundcolor": "#E5ECF6",
            "gridcolor": "white",
            "gridwidth": 2,
            "linecolor": "white",
            "showbackground": true,
            "ticks": "",
            "zerolinecolor": "white"
           },
           "zaxis": {
            "backgroundcolor": "#E5ECF6",
            "gridcolor": "white",
            "gridwidth": 2,
            "linecolor": "white",
            "showbackground": true,
            "ticks": "",
            "zerolinecolor": "white"
           }
          },
          "shapedefaults": {
           "line": {
            "color": "#2a3f5f"
           }
          },
          "ternary": {
           "aaxis": {
            "gridcolor": "white",
            "linecolor": "white",
            "ticks": ""
           },
           "baxis": {
            "gridcolor": "white",
            "linecolor": "white",
            "ticks": ""
           },
           "bgcolor": "#E5ECF6",
           "caxis": {
            "gridcolor": "white",
            "linecolor": "white",
            "ticks": ""
           }
          },
          "title": {
           "x": 0.05
          },
          "xaxis": {
           "automargin": true,
           "gridcolor": "white",
           "linecolor": "white",
           "ticks": "",
           "title": {
            "standoff": 15
           },
           "zerolinecolor": "white",
           "zerolinewidth": 2
          },
          "yaxis": {
           "automargin": true,
           "gridcolor": "white",
           "linecolor": "white",
           "ticks": "",
           "title": {
            "standoff": 15
           },
           "zerolinecolor": "white",
           "zerolinewidth": 2
          }
         }
        },
        "title": {
         "text": "Total Number of Services Provided Per Day"
        },
        "xaxis": {
         "tickangle": -45,
         "title": {
          "text": "Date"
         }
        },
        "yaxis": {
         "title": {
          "text": "Number of Services"
         }
        }
       }
      }
     },
     "metadata": {},
     "output_type": "display_data"
    }
   ],
   "source": [
    "services_per_day = jan24_df.groupby('Date').size()\n",
    "\n",
    "fig = go.Figure()\n",
    "fig.add_trace(go.Scatter(x=services_per_day.index, y=services_per_day.values, mode='lines+markers', marker_color='blue'))\n",
    "fig.update_layout(title='Total Number of Services Provided Per Day', xaxis_title='Date', yaxis_title='Number of Services', xaxis_tickangle=-45)\n",
    "fig.show()\n"
   ]
  },
  {
   "cell_type": "code",
   "execution_count": 15,
   "metadata": {},
   "outputs": [
    {
     "data": {
      "image/png": "[encoded data removed]",
      "text/plain": [
       "<Figure size 1500x800 with 1 Axes>"
      ]
     },
     "metadata": {},
     "output_type": "display_data"
    }
   ],
   "source": [
    "# Extracting weekdays and weekends\n",
    "jan24_df['Day Type'] = np.where(jan24_df['Date'].dt.dayofweek < 5, 'Weekday', 'Weekend')\n",
    "\n",
    "fr_holidays = holidays.France(years=2024) # extracting French holidays\n",
    "jan24_df['Holiday'] = jan24_df['Date'].apply(lambda x: fr_holidays.get(x))\n",
    "\n",
    "# Counting services per day and categorizing them\n",
    "daily_services = jan24_df.groupby(['Date', 'Day Type']).size().reset_index(name='Service Count')\n",
    "daily_services['Holiday'] = daily_services['Date'].apply(lambda x: fr_holidays.get(x) is not None)\n",
    "\n",
    "# Plotting\n",
    "plt.figure(figsize=(15, 8))\n",
    "weekday_services = daily_services[daily_services['Day Type'] == 'Weekday']\n",
    "plt.scatter(weekday_services['Date'], weekday_services['Service Count'], color='blue', label='Weekdays')\n",
    "weekend_services = daily_services[daily_services['Day Type'] == 'Weekend']\n",
    "plt.scatter(weekend_services['Date'], weekend_services['Service Count'], color='green', label='Weekends')\n",
    "holiday_services = daily_services[daily_services['Holiday']]\n",
    "plt.scatter(holiday_services['Date'], holiday_services['Service Count'], color='red', label='Holidays', s=100)\n",
    "plt.title('Service Counts by Date with Weekdays, Weekends, and Holidays')\n",
    "plt.xlabel('Date')\n",
    "plt.ylabel('Service Count')\n",
    "plt.xticks(rotation=45)\n",
    "plt.legend()\n",
    "plt.grid(True)\n",
    "plt.tight_layout()\n",
    "plt.show()"
   ]
  },
  {
   "cell_type": "code",
   "execution_count": 16,
   "metadata": {},
   "outputs": [
    {
     "data": {
      "application/vnd.plotly.v1+json": {
       "config": {
        "plotlyServerURL": "https://plot.ly"
       },
       "data": [
        {
         "alignmentgroup": "True",
         "hovertemplate": "Day of Week=Friday<br>Prestation=%{x}<br>Frequency=%{y}<extra></extra>",
         "legendgroup": "Friday",
         "marker": {
          "color": "#636efa",
          "pattern": {
           "shape": ""
          }
         },
         "name": "Friday",
         "offsetgroup": "Friday",
         "orientation": "v",
         "showlegend": true,
         "textposition": "auto",
         "type": "bar",
         "x": [
          "ACCOMPAGNEMENTS COURSES PA",
          "ADMINISTRATION",
          "AIDE MENAGERE",
          "COORDINATION",
          "FEMME DE MENAGE",
          "FORMATION",
          "GARDE D'ENFANTS",
          "HOMMES TOUTES MAINS",
          "REPAS",
          "TOILETTE",
          "VIE SOCIALE",
          "VISITE MEDICALE"
         ],
         "xaxis": "x",
         "y": [
          30,
          14,
          47,
          0,
          4,
          0,
          2,
          0,
          123,
          183,
          11,
          1
         ],
         "yaxis": "y"
        },
        {
         "alignmentgroup": "True",
         "hovertemplate": "Day of Week=Monday<br>Prestation=%{x}<br>Frequency=%{y}<extra></extra>",
         "legendgroup": "Monday",
         "marker": {
          "color": "#EF553B",
          "pattern": {
           "shape": ""
          }
         },
         "name": "Monday",
         "offsetgroup": "Monday",
         "orientation": "v",
         "showlegend": true,
         "textposition": "auto",
         "type": "bar",
         "x": [
          "ACCOMPAGNEMENTS COURSES PA",
          "ADMINISTRATION",
          "AIDE MENAGERE",
          "COORDINATION",
          "FEMME DE MENAGE",
          "FORMATION",
          "GARDE D'ENFANTS",
          "HOMMES TOUTES MAINS",
          "REPAS",
          "TOILETTE",
          "VIE SOCIALE",
          "VISITE MEDICALE"
         ],
         "xaxis": "x",
         "y": [
          18,
          15,
          92,
          5,
          0,
          1,
          2,
          0,
          150,
          194,
          10,
          0
         ],
         "yaxis": "y"
        },
        {
         "alignmentgroup": "True",
         "hovertemplate": "Day of Week=Saturday<br>Prestation=%{x}<br>Frequency=%{y}<extra></extra>",
         "legendgroup": "Saturday",
         "marker": {
          "color": "#00cc96",
          "pattern": {
           "shape": ""
          }
         },
         "name": "Saturday",
         "offsetgroup": "Saturday",
         "orientation": "v",
         "showlegend": true,
         "textposition": "auto",
         "type": "bar",
         "x": [
          "ACCOMPAGNEMENTS COURSES PA",
          "ADMINISTRATION",
          "AIDE MENAGERE",
          "COORDINATION",
          "FEMME DE MENAGE",
          "FORMATION",
          "GARDE D'ENFANTS",
          "HOMMES TOUTES MAINS",
          "REPAS",
          "TOILETTE",
          "VIE SOCIALE",
          "VISITE MEDICALE"
         ],
         "xaxis": "x",
         "y": [
          0,
          0,
          4,
          0,
          0,
          0,
          0,
          0,
          111,
          141,
          12,
          0
         ],
         "yaxis": "y"
        },
        {
         "alignmentgroup": "True",
         "hovertemplate": "Day of Week=Sunday<br>Prestation=%{x}<br>Frequency=%{y}<extra></extra>",
         "legendgroup": "Sunday",
         "marker": {
          "color": "#ab63fa",
          "pattern": {
           "shape": ""
          }
         },
         "name": "Sunday",
         "offsetgroup": "Sunday",
         "orientation": "v",
         "showlegend": true,
         "textposition": "auto",
         "type": "bar",
         "x": [
          "ACCOMPAGNEMENTS COURSES PA",
          "ADMINISTRATION",
          "AIDE MENAGERE",
          "COORDINATION",
          "FEMME DE MENAGE",
          "FORMATION",
          "GARDE D'ENFANTS",
          "HOMMES TOUTES MAINS",
          "REPAS",
          "TOILETTE",
          "VIE SOCIALE",
          "VISITE MEDICALE"
         ],
         "xaxis": "x",
         "y": [
          0,
          0,
          4,
          0,
          0,
          0,
          0,
          0,
          103,
          138,
          12,
          0
         ],
         "yaxis": "y"
        },
        {
         "alignmentgroup": "True",
         "hovertemplate": "Day of Week=Thursday<br>Prestation=%{x}<br>Frequency=%{y}<extra></extra>",
         "legendgroup": "Thursday",
         "marker": {
          "color": "#FFA15A",
          "pattern": {
           "shape": ""
          }
         },
         "name": "Thursday",
         "offsetgroup": "Thursday",
         "orientation": "v",
         "showlegend": true,
         "textposition": "auto",
         "type": "bar",
         "x": [
          "ACCOMPAGNEMENTS COURSES PA",
          "ADMINISTRATION",
          "AIDE MENAGERE",
          "COORDINATION",
          "FEMME DE MENAGE",
          "FORMATION",
          "GARDE D'ENFANTS",
          "HOMMES TOUTES MAINS",
          "REPAS",
          "TOILETTE",
          "VIE SOCIALE",
          "VISITE MEDICALE"
         ],
         "xaxis": "x",
         "y": [
          9,
          16,
          107,
          2,
          0,
          6,
          1,
          2,
          123,
          155,
          17,
          0
         ],
         "yaxis": "y"
        },
        {
         "alignmentgroup": "True",
         "hovertemplate": "Day of Week=Tuesday<br>Prestation=%{x}<br>Frequency=%{y}<extra></extra>",
         "legendgroup": "Tuesday",
         "marker": {
          "color": "#19d3f3",
          "pattern": {
           "shape": ""
          }
         },
         "name": "Tuesday",
         "offsetgroup": "Tuesday",
         "orientation": "v",
         "showlegend": true,
         "textposition": "auto",
         "type": "bar",
         "x": [
          "ACCOMPAGNEMENTS COURSES PA",
          "ADMINISTRATION",
          "AIDE MENAGERE",
          "COORDINATION",
          "FEMME DE MENAGE",
          "FORMATION",
          "GARDE D'ENFANTS",
          "HOMMES TOUTES MAINS",
          "REPAS",
          "TOILETTE",
          "VIE SOCIALE",
          "VISITE MEDICALE"
         ],
         "xaxis": "x",
         "y": [
          9,
          17,
          125,
          2,
          0,
          8,
          4,
          0,
          154,
          209,
          20,
          0
         ],
         "yaxis": "y"
        },
        {
         "alignmentgroup": "True",
         "hovertemplate": "Day of Week=Wednesday<br>Prestation=%{x}<br>Frequency=%{y}<extra></extra>",
         "legendgroup": "Wednesday",
         "marker": {
          "color": "#FF6692",
          "pattern": {
           "shape": ""
          }
         },
         "name": "Wednesday",
         "offsetgroup": "Wednesday",
         "orientation": "v",
         "showlegend": true,
         "textposition": "auto",
         "type": "bar",
         "x": [
          "ACCOMPAGNEMENTS COURSES PA",
          "ADMINISTRATION",
          "AIDE MENAGERE",
          "COORDINATION",
          "FEMME DE MENAGE",
          "FORMATION",
          "GARDE D'ENFANTS",
          "HOMMES TOUTES MAINS",
          "REPAS",
          "TOILETTE",
          "VIE SOCIALE",
          "VISITE MEDICALE"
         ],
         "xaxis": "x",
         "y": [
          17,
          17,
          64,
          1,
          0,
          0,
          1,
          0,
          146,
          197,
          14,
          0
         ],
         "yaxis": "y"
        }
       ],
       "layout": {
        "barmode": "group",
        "legend": {
         "title": {
          "text": "Day of Week"
         },
         "tracegroupgap": 0
        },
        "template": {
         "data": {
          "bar": [
           {
            "error_x": {
             "color": "#2a3f5f"
            },
            "error_y": {
             "color": "#2a3f5f"
            },
            "marker": {
             "line": {
              "color": "#E5ECF6",
              "width": 0.5
             },
             "pattern": {
              "fillmode": "overlay",
              "size": 10,
              "solidity": 0.2
             }
            },
            "type": "bar"
           }
          ],
          "barpolar": [
           {
            "marker": {
             "line": {
              "color": "#E5ECF6",
              "width": 0.5
             },
             "pattern": {
              "fillmode": "overlay",
              "size": 10,
              "solidity": 0.2
             }
            },
            "type": "barpolar"
           }
          ],
          "carpet": [
           {
            "aaxis": {
             "endlinecolor": "#2a3f5f",
             "gridcolor": "white",
             "linecolor": "white",
             "minorgridcolor": "white",
             "startlinecolor": "#2a3f5f"
            },
            "baxis": {
             "endlinecolor": "#2a3f5f",
             "gridcolor": "white",
             "linecolor": "white",
             "minorgridcolor": "white",
             "startlinecolor": "#2a3f5f"
            },
            "type": "carpet"
           }
          ],
          "choropleth": [
           {
            "colorbar": {
             "outlinewidth": 0,
             "ticks": ""
            },
            "type": "choropleth"
           }
          ],
          "contour": [
           {
            "colorbar": {
             "outlinewidth": 0,
             "ticks": ""
            },
            "colorscale": [
             [
              0,
              "#0d0887"
             ],
             [
              0.1111111111111111,
              "#46039f"
             ],
             [
              0.2222222222222222,
              "#7201a8"
             ],
             [
              0.3333333333333333,
              "#9c179e"
             ],
             [
              0.4444444444444444,
              "#bd3786"
             ],
             [
              0.5555555555555556,
              "#d8576b"
             ],
             [
              0.6666666666666666,
              "#ed7953"
             ],
             [
              0.7777777777777778,
              "#fb9f3a"
             ],
             [
              0.8888888888888888,
              "#fdca26"
             ],
             [
              1,
              "#f0f921"
             ]
            ],
            "type": "contour"
           }
          ],
          "contourcarpet": [
           {
            "colorbar": {
             "outlinewidth": 0,
             "ticks": ""
            },
            "type": "contourcarpet"
           }
          ],
          "heatmap": [
           {
            "colorbar": {
             "outlinewidth": 0,
             "ticks": ""
            },
            "colorscale": [
             [
              0,
              "#0d0887"
             ],
             [
              0.1111111111111111,
              "#46039f"
             ],
             [
              0.2222222222222222,
              "#7201a8"
             ],
             [
              0.3333333333333333,
              "#9c179e"
             ],
             [
              0.4444444444444444,
              "#bd3786"
             ],
             [
              0.5555555555555556,
              "#d8576b"
             ],
             [
              0.6666666666666666,
              "#ed7953"
             ],
             [
              0.7777777777777778,
              "#fb9f3a"
             ],
             [
              0.8888888888888888,
              "#fdca26"
             ],
             [
              1,
              "#f0f921"
             ]
            ],
            "type": "heatmap"
           }
          ],
          "heatmapgl": [
           {
            "colorbar": {
             "outlinewidth": 0,
             "ticks": ""
            },
            "colorscale": [
             [
              0,
              "#0d0887"
             ],
             [
              0.1111111111111111,
              "#46039f"
             ],
             [
              0.2222222222222222,
              "#7201a8"
             ],
             [
              0.3333333333333333,
              "#9c179e"
             ],
             [
              0.4444444444444444,
              "#bd3786"
             ],
             [
              0.5555555555555556,
              "#d8576b"
             ],
             [
              0.6666666666666666,
              "#ed7953"
             ],
             [
              0.7777777777777778,
              "#fb9f3a"
             ],
             [
              0.8888888888888888,
              "#fdca26"
             ],
             [
              1,
              "#f0f921"
             ]
            ],
            "type": "heatmapgl"
           }
          ],
          "histogram": [
           {
            "marker": {
             "pattern": {
              "fillmode": "overlay",
              "size": 10,
              "solidity": 0.2
             }
            },
            "type": "histogram"
           }
          ],
          "histogram2d": [
           {
            "colorbar": {
             "outlinewidth": 0,
             "ticks": ""
            },
            "colorscale": [
             [
              0,
              "#0d0887"
             ],
             [
              0.1111111111111111,
              "#46039f"
             ],
             [
              0.2222222222222222,
              "#7201a8"
             ],
             [
              0.3333333333333333,
              "#9c179e"
             ],
             [
              0.4444444444444444,
              "#bd3786"
             ],
             [
              0.5555555555555556,
              "#d8576b"
             ],
             [
              0.6666666666666666,
              "#ed7953"
             ],
             [
              0.7777777777777778,
              "#fb9f3a"
             ],
             [
              0.8888888888888888,
              "#fdca26"
             ],
             [
              1,
              "#f0f921"
             ]
            ],
            "type": "histogram2d"
           }
          ],
          "histogram2dcontour": [
           {
            "colorbar": {
             "outlinewidth": 0,
             "ticks": ""
            },
            "colorscale": [
             [
              0,
              "#0d0887"
             ],
             [
              0.1111111111111111,
              "#46039f"
             ],
             [
              0.2222222222222222,
              "#7201a8"
             ],
             [
              0.3333333333333333,
              "#9c179e"
             ],
             [
              0.4444444444444444,
              "#bd3786"
             ],
             [
              0.5555555555555556,
              "#d8576b"
             ],
             [
              0.6666666666666666,
              "#ed7953"
             ],
             [
              0.7777777777777778,
              "#fb9f3a"
             ],
             [
              0.8888888888888888,
              "#fdca26"
             ],
             [
              1,
              "#f0f921"
             ]
            ],
            "type": "histogram2dcontour"
           }
          ],
          "mesh3d": [
           {
            "colorbar": {
             "outlinewidth": 0,
             "ticks": ""
            },
            "type": "mesh3d"
           }
          ],
          "parcoords": [
           {
            "line": {
             "colorbar": {
              "outlinewidth": 0,
              "ticks": ""
             }
            },
            "type": "parcoords"
           }
          ],
          "pie": [
           {
            "automargin": true,
            "type": "pie"
           }
          ],
          "scatter": [
           {
            "fillpattern": {
             "fillmode": "overlay",
             "size": 10,
             "solidity": 0.2
            },
            "type": "scatter"
           }
          ],
          "scatter3d": [
           {
            "line": {
             "colorbar": {
              "outlinewidth": 0,
              "ticks": ""
             }
            },
            "marker": {
             "colorbar": {
              "outlinewidth": 0,
              "ticks": ""
             }
            },
            "type": "scatter3d"
           }
          ],
          "scattercarpet": [
           {
            "marker": {
             "colorbar": {
              "outlinewidth": 0,
              "ticks": ""
             }
            },
            "type": "scattercarpet"
           }
          ],
          "scattergeo": [
           {
            "marker": {
             "colorbar": {
              "outlinewidth": 0,
              "ticks": ""
             }
            },
            "type": "scattergeo"
           }
          ],
          "scattergl": [
           {
            "marker": {
             "colorbar": {
              "outlinewidth": 0,
              "ticks": ""
             }
            },
            "type": "scattergl"
           }
          ],
          "scattermapbox": [
           {
            "marker": {
             "colorbar": {
              "outlinewidth": 0,
              "ticks": ""
             }
            },
            "type": "scattermapbox"
           }
          ],
          "scatterpolar": [
           {
            "marker": {
             "colorbar": {
              "outlinewidth": 0,
              "ticks": ""
             }
            },
            "type": "scatterpolar"
           }
          ],
          "scatterpolargl": [
           {
            "marker": {
             "colorbar": {
              "outlinewidth": 0,
              "ticks": ""
             }
            },
            "type": "scatterpolargl"
           }
          ],
          "scatterternary": [
           {
            "marker": {
             "colorbar": {
              "outlinewidth": 0,
              "ticks": ""
             }
            },
            "type": "scatterternary"
           }
          ],
          "surface": [
           {
            "colorbar": {
             "outlinewidth": 0,
             "ticks": ""
            },
            "colorscale": [
             [
              0,
              "#0d0887"
             ],
             [
              0.1111111111111111,
              "#46039f"
             ],
             [
              0.2222222222222222,
              "#7201a8"
             ],
             [
              0.3333333333333333,
              "#9c179e"
             ],
             [
              0.4444444444444444,
              "#bd3786"
             ],
             [
              0.5555555555555556,
              "#d8576b"
             ],
             [
              0.6666666666666666,
              "#ed7953"
             ],
             [
              0.7777777777777778,
              "#fb9f3a"
             ],
             [
              0.8888888888888888,
              "#fdca26"
             ],
             [
              1,
              "#f0f921"
             ]
            ],
            "type": "surface"
           }
          ],
          "table": [
           {
            "cells": {
             "fill": {
              "color": "#EBF0F8"
             },
             "line": {
              "color": "white"
             }
            },
            "header": {
             "fill": {
              "color": "#C8D4E3"
             },
             "line": {
              "color": "white"
             }
            },
            "type": "table"
           }
          ]
         },
         "layout": {
          "annotationdefaults": {
           "arrowcolor": "#2a3f5f",
           "arrowhead": 0,
           "arrowwidth": 1
          },
          "autotypenumbers": "strict",
          "coloraxis": {
           "colorbar": {
            "outlinewidth": 0,
            "ticks": ""
           }
          },
          "colorscale": {
           "diverging": [
            [
             0,
             "#8e0152"
            ],
            [
             0.1,
             "#c51b7d"
            ],
            [
             0.2,
             "#de77ae"
            ],
            [
             0.3,
             "#f1b6da"
            ],
            [
             0.4,
             "#fde0ef"
            ],
            [
             0.5,
             "#f7f7f7"
            ],
            [
             0.6,
             "#e6f5d0"
            ],
            [
             0.7,
             "#b8e186"
            ],
            [
             0.8,
             "#7fbc41"
            ],
            [
             0.9,
             "#4d9221"
            ],
            [
             1,
             "#276419"
            ]
           ],
           "sequential": [
            [
             0,
             "#0d0887"
            ],
            [
             0.1111111111111111,
             "#46039f"
            ],
            [
             0.2222222222222222,
             "#7201a8"
            ],
            [
             0.3333333333333333,
             "#9c179e"
            ],
            [
             0.4444444444444444,
             "#bd3786"
            ],
            [
             0.5555555555555556,
             "#d8576b"
            ],
            [
             0.6666666666666666,
             "#ed7953"
            ],
            [
             0.7777777777777778,
             "#fb9f3a"
            ],
            [
             0.8888888888888888,
             "#fdca26"
            ],
            [
             1,
             "#f0f921"
            ]
           ],
           "sequentialminus": [
            [
             0,
             "#0d0887"
            ],
            [
             0.1111111111111111,
             "#46039f"
            ],
            [
             0.2222222222222222,
             "#7201a8"
            ],
            [
             0.3333333333333333,
             "#9c179e"
            ],
            [
             0.4444444444444444,
             "#bd3786"
            ],
            [
             0.5555555555555556,
             "#d8576b"
            ],
            [
             0.6666666666666666,
             "#ed7953"
            ],
            [
             0.7777777777777778,
             "#fb9f3a"
            ],
            [
             0.8888888888888888,
             "#fdca26"
            ],
            [
             1,
             "#f0f921"
            ]
           ]
          },
          "colorway": [
           "#636efa",
           "#EF553B",
           "#00cc96",
           "#ab63fa",
           "#FFA15A",
           "#19d3f3",
           "#FF6692",
           "#B6E880",
           "#FF97FF",
           "#FECB52"
          ],
          "font": {
           "color": "#2a3f5f"
          },
          "geo": {
           "bgcolor": "white",
           "lakecolor": "white",
           "landcolor": "#E5ECF6",
           "showlakes": true,
           "showland": true,
           "subunitcolor": "white"
          },
          "hoverlabel": {
           "align": "left"
          },
          "hovermode": "closest",
          "mapbox": {
           "style": "light"
          },
          "paper_bgcolor": "white",
          "plot_bgcolor": "#E5ECF6",
          "polar": {
           "angularaxis": {
            "gridcolor": "white",
            "linecolor": "white",
            "ticks": ""
           },
           "bgcolor": "#E5ECF6",
           "radialaxis": {
            "gridcolor": "white",
            "linecolor": "white",
            "ticks": ""
           }
          },
          "scene": {
           "xaxis": {
            "backgroundcolor": "#E5ECF6",
            "gridcolor": "white",
            "gridwidth": 2,
            "linecolor": "white",
            "showbackground": true,
            "ticks": "",
            "zerolinecolor": "white"
           },
           "yaxis": {
            "backgroundcolor": "#E5ECF6",
            "gridcolor": "white",
            "gridwidth": 2,
            "linecolor": "white",
            "showbackground": true,
            "ticks": "",
            "zerolinecolor": "white"
           },
           "zaxis": {
            "backgroundcolor": "#E5ECF6",
            "gridcolor": "white",
            "gridwidth": 2,
            "linecolor": "white",
            "showbackground": true,
            "ticks": "",
            "zerolinecolor": "white"
           }
          },
          "shapedefaults": {
           "line": {
            "color": "#2a3f5f"
           }
          },
          "ternary": {
           "aaxis": {
            "gridcolor": "white",
            "linecolor": "white",
            "ticks": ""
           },
           "baxis": {
            "gridcolor": "white",
            "linecolor": "white",
            "ticks": ""
           },
           "bgcolor": "#E5ECF6",
           "caxis": {
            "gridcolor": "white",
            "linecolor": "white",
            "ticks": ""
           }
          },
          "title": {
           "x": 0.05
          },
          "xaxis": {
           "automargin": true,
           "gridcolor": "white",
           "linecolor": "white",
           "ticks": "",
           "title": {
            "standoff": 15
           },
           "zerolinecolor": "white",
           "zerolinewidth": 2
          },
          "yaxis": {
           "automargin": true,
           "gridcolor": "white",
           "linecolor": "white",
           "ticks": "",
           "title": {
            "standoff": 15
           },
           "zerolinecolor": "white",
           "zerolinewidth": 2
          }
         }
        },
        "title": {
         "text": "Service Frequency by Day of the Week"
        },
        "xaxis": {
         "anchor": "y",
         "domain": [
          0,
          1
         ],
         "title": {
          "text": "Prestation"
         }
        },
        "yaxis": {
         "anchor": "x",
         "domain": [
          0,
          1
         ],
         "title": {
          "text": "Frequency"
         }
        }
       }
      }
     },
     "metadata": {},
     "output_type": "display_data"
    },
    {
     "data": {
      "application/vnd.plotly.v1+json": {
       "config": {
        "plotlyServerURL": "https://plot.ly"
       },
       "data": [
        {
         "coloraxis": "coloraxis",
         "hovertemplate": "Prestation: %{x}<br>Prestation: %{y}<br>color: %{z}<extra></extra>",
         "name": "0",
         "type": "heatmap",
         "x": [
          "ACCOMPAGNEMENTS COURSES PA",
          "ADMINISTRATION",
          "AIDE MENAGERE",
          "COORDINATION",
          "FEMME DE MENAGE",
          "FORMATION",
          "GARDE D'ENFANTS",
          "HOMMES TOUTES MAINS",
          "REPAS",
          "TOILETTE",
          "VIE SOCIALE",
          "VISITE MEDICALE"
         ],
         "xaxis": "x",
         "y": [
          "ACCOMPAGNEMENTS COURSES PA",
          "ADMINISTRATION",
          "AIDE MENAGERE",
          "COORDINATION",
          "FEMME DE MENAGE",
          "FORMATION",
          "GARDE D'ENFANTS",
          "HOMMES TOUTES MAINS",
          "REPAS",
          "TOILETTE",
          "VIE SOCIALE",
          "VISITE MEDICALE"
         ],
         "yaxis": "y",
         "z": [
          [
           1,
           -0.028015299053642733,
           -0.104701768534338,
           -0.01912263428218186,
           -0.01206992210989572,
           -0.022023525815204423,
           -0.019122634282181878,
           -0.008529020648528332,
           -0.014022660083844424,
           -0.1256598157032136,
           -0.04758302280387962,
           -0.006028915007958378
          ],
          [
           -0.028015299053642733,
           1,
           -0.07538443936409514,
           -0.00983904270863076,
           -0.0062102572991089375,
           -0.011331619268185099,
           -0.009839042708630761,
           -0.004388380658508782,
           -0.08286921277886274,
           -0.13452926329147444,
           -0.024482578428504313,
           0.17347740145831253
          ],
          [
           -0.104701768534338,
           -0.07538443936409514,
           1,
           0.0007782251150099378,
           -0.03247812238879086,
           -0.0057879264785980645,
           -0.05145577999244893,
           -0.02295015443822286,
           -0.2528973495930911,
           -0.46490295837723744,
           -0.09644689344833418,
           -0.016222792302823086
          ],
          [
           -0.01912263428218186,
           -0.00983904270863076,
           0.0007782251150099378,
           1,
           -0.004238986665882806,
           -0.007734717044266326,
           -0.006715916722632637,
           -0.002995413265551144,
           -0.019294165081400447,
           -0.03527445052519067,
           -0.016711275959492112,
           -0.0021173699462006825
          ],
          [
           -0.01206992210989572,
           -0.0062102572991089375,
           -0.03247812238879086,
           -0.004238986665882806,
           1,
           -0.004882038263596676,
           -0.0042389866658827996,
           -0.0018906602651413338,
           -0.035702811582844385,
           0.08482020346087485,
           0.3188544879842519,
           -0.001336452392037294
          ],
          [
           -0.022023525815204423,
           -0.011331619268185099,
           -0.0057879264785980645,
           -0.007734717044266326,
           -0.004882038263596676,
           1,
           -0.007734717044266316,
           -0.0034498155645083265,
           -0.01506699793557735,
           -0.0015468128561108223,
           0.04085843106755885,
           -0.0024385736286312576
          ],
          [
           -0.019122634282181878,
           -0.009839042708630761,
           -0.05145577999244893,
           -0.006715916722632637,
           -0.0042389866658827996,
           -0.007734717044266316,
           1,
           -0.00299541326555114,
           -0.05656472366003344,
           -0.0918267514206566,
           -0.01671127595949213,
           -0.0021173699462006786
          ],
          [
           -0.008529020648528332,
           -0.004388380658508782,
           -0.02295015443822286,
           -0.002995413265551144,
           -0.0018906602651413338,
           -0.0034498155645083265,
           -0.00299541326555114,
           1,
           0.016329429751454287,
           -0.0409562954244136,
           -0.007453513758539595,
           -0.0009443830659119017
          ],
          [
           -0.014022660083844424,
           -0.08286921277886274,
           -0.2528973495930911,
           -0.019294165081400447,
           -0.035702811582844385,
           -0.01506699793557735,
           -0.05656472366003344,
           0.016329429751454287,
           1,
           -0.05946651261899575,
           -0.07312710813858421,
           -0.017833521593452986
          ],
          [
           -0.1256598157032136,
           -0.13452926329147444,
           -0.46490295837723744,
           -0.03527445052519067,
           0.08482020346087485,
           -0.0015468128561108223,
           -0.0918267514206566,
           -0.0409562954244136,
           -0.05946651261899575,
           1,
           0.19073380680910412,
           -0.02895080623321394
          ],
          [
           -0.04758302280387962,
           -0.024482578428504313,
           -0.09644689344833418,
           -0.016711275959492112,
           0.3188544879842519,
           0.04085843106755885,
           -0.01671127595949213,
           -0.007453513758539595,
           -0.07312710813858421,
           0.19073380680910412,
           1,
           -0.005268670673066949
          ],
          [
           -0.006028915007958378,
           0.17347740145831253,
           -0.016222792302823086,
           -0.0021173699462006825,
           -0.001336452392037294,
           -0.0024385736286312576,
           -0.0021173699462006786,
           -0.0009443830659119017,
           -0.017833521593452986,
           -0.02895080623321394,
           -0.005268670673066949,
           1
          ]
         ]
        }
       ],
       "layout": {
        "coloraxis": {
         "colorscale": [
          [
           0,
           "#0d0887"
          ],
          [
           0.1111111111111111,
           "#46039f"
          ],
          [
           0.2222222222222222,
           "#7201a8"
          ],
          [
           0.3333333333333333,
           "#9c179e"
          ],
          [
           0.4444444444444444,
           "#bd3786"
          ],
          [
           0.5555555555555556,
           "#d8576b"
          ],
          [
           0.6666666666666666,
           "#ed7953"
          ],
          [
           0.7777777777777778,
           "#fb9f3a"
          ],
          [
           0.8888888888888888,
           "#fdca26"
          ],
          [
           1,
           "#f0f921"
          ]
         ]
        },
        "height": 600,
        "margin": {
         "t": 60
        },
        "template": {
         "data": {
          "bar": [
           {
            "error_x": {
             "color": "#2a3f5f"
            },
            "error_y": {
             "color": "#2a3f5f"
            },
            "marker": {
             "line": {
              "color": "#E5ECF6",
              "width": 0.5
             },
             "pattern": {
              "fillmode": "overlay",
              "size": 10,
              "solidity": 0.2
             }
            },
            "type": "bar"
           }
          ],
          "barpolar": [
           {
            "marker": {
             "line": {
              "color": "#E5ECF6",
              "width": 0.5
             },
             "pattern": {
              "fillmode": "overlay",
              "size": 10,
              "solidity": 0.2
             }
            },
            "type": "barpolar"
           }
          ],
          "carpet": [
           {
            "aaxis": {
             "endlinecolor": "#2a3f5f",
             "gridcolor": "white",
             "linecolor": "white",
             "minorgridcolor": "white",
             "startlinecolor": "#2a3f5f"
            },
            "baxis": {
             "endlinecolor": "#2a3f5f",
             "gridcolor": "white",
             "linecolor": "white",
             "minorgridcolor": "white",
             "startlinecolor": "#2a3f5f"
            },
            "type": "carpet"
           }
          ],
          "choropleth": [
           {
            "colorbar": {
             "outlinewidth": 0,
             "ticks": ""
            },
            "type": "choropleth"
           }
          ],
          "contour": [
           {
            "colorbar": {
             "outlinewidth": 0,
             "ticks": ""
            },
            "colorscale": [
             [
              0,
              "#0d0887"
             ],
             [
              0.1111111111111111,
              "#46039f"
             ],
             [
              0.2222222222222222,
              "#7201a8"
             ],
             [
              0.3333333333333333,
              "#9c179e"
             ],
             [
              0.4444444444444444,
              "#bd3786"
             ],
             [
              0.5555555555555556,
              "#d8576b"
             ],
             [
              0.6666666666666666,
              "#ed7953"
             ],
             [
              0.7777777777777778,
              "#fb9f3a"
             ],
             [
              0.8888888888888888,
              "#fdca26"
             ],
             [
              1,
              "#f0f921"
             ]
            ],
            "type": "contour"
           }
          ],
          "contourcarpet": [
           {
            "colorbar": {
             "outlinewidth": 0,
             "ticks": ""
            },
            "type": "contourcarpet"
           }
          ],
          "heatmap": [
           {
            "colorbar": {
             "outlinewidth": 0,
             "ticks": ""
            },
            "colorscale": [
             [
              0,
              "#0d0887"
             ],
             [
              0.1111111111111111,
              "#46039f"
             ],
             [
              0.2222222222222222,
              "#7201a8"
             ],
             [
              0.3333333333333333,
              "#9c179e"
             ],
             [
              0.4444444444444444,
              "#bd3786"
             ],
             [
              0.5555555555555556,
              "#d8576b"
             ],
             [
              0.6666666666666666,
              "#ed7953"
             ],
             [
              0.7777777777777778,
              "#fb9f3a"
             ],
             [
              0.8888888888888888,
              "#fdca26"
             ],
             [
              1,
              "#f0f921"
             ]
            ],
            "type": "heatmap"
           }
          ],
          "heatmapgl": [
           {
            "colorbar": {
             "outlinewidth": 0,
             "ticks": ""
            },
            "colorscale": [
             [
              0,
              "#0d0887"
             ],
             [
              0.1111111111111111,
              "#46039f"
             ],
             [
              0.2222222222222222,
              "#7201a8"
             ],
             [
              0.3333333333333333,
              "#9c179e"
             ],
             [
              0.4444444444444444,
              "#bd3786"
             ],
             [
              0.5555555555555556,
              "#d8576b"
             ],
             [
              0.6666666666666666,
              "#ed7953"
             ],
             [
              0.7777777777777778,
              "#fb9f3a"
             ],
             [
              0.8888888888888888,
              "#fdca26"
             ],
             [
              1,
              "#f0f921"
             ]
            ],
            "type": "heatmapgl"
           }
          ],
          "histogram": [
           {
            "marker": {
             "pattern": {
              "fillmode": "overlay",
              "size": 10,
              "solidity": 0.2
             }
            },
            "type": "histogram"
           }
          ],
          "histogram2d": [
           {
            "colorbar": {
             "outlinewidth": 0,
             "ticks": ""
            },
            "colorscale": [
             [
              0,
              "#0d0887"
             ],
             [
              0.1111111111111111,
              "#46039f"
             ],
             [
              0.2222222222222222,
              "#7201a8"
             ],
             [
              0.3333333333333333,
              "#9c179e"
             ],
             [
              0.4444444444444444,
              "#bd3786"
             ],
             [
              0.5555555555555556,
              "#d8576b"
             ],
             [
              0.6666666666666666,
              "#ed7953"
             ],
             [
              0.7777777777777778,
              "#fb9f3a"
             ],
             [
              0.8888888888888888,
              "#fdca26"
             ],
             [
              1,
              "#f0f921"
             ]
            ],
            "type": "histogram2d"
           }
          ],
          "histogram2dcontour": [
           {
            "colorbar": {
             "outlinewidth": 0,
             "ticks": ""
            },
            "colorscale": [
             [
              0,
              "#0d0887"
             ],
             [
              0.1111111111111111,
              "#46039f"
             ],
             [
              0.2222222222222222,
              "#7201a8"
             ],
             [
              0.3333333333333333,
              "#9c179e"
             ],
             [
              0.4444444444444444,
              "#bd3786"
             ],
             [
              0.5555555555555556,
              "#d8576b"
             ],
             [
              0.6666666666666666,
              "#ed7953"
             ],
             [
              0.7777777777777778,
              "#fb9f3a"
             ],
             [
              0.8888888888888888,
              "#fdca26"
             ],
             [
              1,
              "#f0f921"
             ]
            ],
            "type": "histogram2dcontour"
           }
          ],
          "mesh3d": [
           {
            "colorbar": {
             "outlinewidth": 0,
             "ticks": ""
            },
            "type": "mesh3d"
           }
          ],
          "parcoords": [
           {
            "line": {
             "colorbar": {
              "outlinewidth": 0,
              "ticks": ""
             }
            },
            "type": "parcoords"
           }
          ],
          "pie": [
           {
            "automargin": true,
            "type": "pie"
           }
          ],
          "scatter": [
           {
            "fillpattern": {
             "fillmode": "overlay",
             "size": 10,
             "solidity": 0.2
            },
            "type": "scatter"
           }
          ],
          "scatter3d": [
           {
            "line": {
             "colorbar": {
              "outlinewidth": 0,
              "ticks": ""
             }
            },
            "marker": {
             "colorbar": {
              "outlinewidth": 0,
              "ticks": ""
             }
            },
            "type": "scatter3d"
           }
          ],
          "scattercarpet": [
           {
            "marker": {
             "colorbar": {
              "outlinewidth": 0,
              "ticks": ""
             }
            },
            "type": "scattercarpet"
           }
          ],
          "scattergeo": [
           {
            "marker": {
             "colorbar": {
              "outlinewidth": 0,
              "ticks": ""
             }
            },
            "type": "scattergeo"
           }
          ],
          "scattergl": [
           {
            "marker": {
             "colorbar": {
              "outlinewidth": 0,
              "ticks": ""
             }
            },
            "type": "scattergl"
           }
          ],
          "scattermapbox": [
           {
            "marker": {
             "colorbar": {
              "outlinewidth": 0,
              "ticks": ""
             }
            },
            "type": "scattermapbox"
           }
          ],
          "scatterpolar": [
           {
            "marker": {
             "colorbar": {
              "outlinewidth": 0,
              "ticks": ""
             }
            },
            "type": "scatterpolar"
           }
          ],
          "scatterpolargl": [
           {
            "marker": {
             "colorbar": {
              "outlinewidth": 0,
              "ticks": ""
             }
            },
            "type": "scatterpolargl"
           }
          ],
          "scatterternary": [
           {
            "marker": {
             "colorbar": {
              "outlinewidth": 0,
              "ticks": ""
             }
            },
            "type": "scatterternary"
           }
          ],
          "surface": [
           {
            "colorbar": {
             "outlinewidth": 0,
             "ticks": ""
            },
            "colorscale": [
             [
              0,
              "#0d0887"
             ],
             [
              0.1111111111111111,
              "#46039f"
             ],
             [
              0.2222222222222222,
              "#7201a8"
             ],
             [
              0.3333333333333333,
              "#9c179e"
             ],
             [
              0.4444444444444444,
              "#bd3786"
             ],
             [
              0.5555555555555556,
              "#d8576b"
             ],
             [
              0.6666666666666666,
              "#ed7953"
             ],
             [
              0.7777777777777778,
              "#fb9f3a"
             ],
             [
              0.8888888888888888,
              "#fdca26"
             ],
             [
              1,
              "#f0f921"
             ]
            ],
            "type": "surface"
           }
          ],
          "table": [
           {
            "cells": {
             "fill": {
              "color": "#EBF0F8"
             },
             "line": {
              "color": "white"
             }
            },
            "header": {
             "fill": {
              "color": "#C8D4E3"
             },
             "line": {
              "color": "white"
             }
            },
            "type": "table"
           }
          ]
         },
         "layout": {
          "annotationdefaults": {
           "arrowcolor": "#2a3f5f",
           "arrowhead": 0,
           "arrowwidth": 1
          },
          "autotypenumbers": "strict",
          "coloraxis": {
           "colorbar": {
            "outlinewidth": 0,
            "ticks": ""
           }
          },
          "colorscale": {
           "diverging": [
            [
             0,
             "#8e0152"
            ],
            [
             0.1,
             "#c51b7d"
            ],
            [
             0.2,
             "#de77ae"
            ],
            [
             0.3,
             "#f1b6da"
            ],
            [
             0.4,
             "#fde0ef"
            ],
            [
             0.5,
             "#f7f7f7"
            ],
            [
             0.6,
             "#e6f5d0"
            ],
            [
             0.7,
             "#b8e186"
            ],
            [
             0.8,
             "#7fbc41"
            ],
            [
             0.9,
             "#4d9221"
            ],
            [
             1,
             "#276419"
            ]
           ],
           "sequential": [
            [
             0,
             "#0d0887"
            ],
            [
             0.1111111111111111,
             "#46039f"
            ],
            [
             0.2222222222222222,
             "#7201a8"
            ],
            [
             0.3333333333333333,
             "#9c179e"
            ],
            [
             0.4444444444444444,
             "#bd3786"
            ],
            [
             0.5555555555555556,
             "#d8576b"
            ],
            [
             0.6666666666666666,
             "#ed7953"
            ],
            [
             0.7777777777777778,
             "#fb9f3a"
            ],
            [
             0.8888888888888888,
             "#fdca26"
            ],
            [
             1,
             "#f0f921"
            ]
           ],
           "sequentialminus": [
            [
             0,
             "#0d0887"
            ],
            [
             0.1111111111111111,
             "#46039f"
            ],
            [
             0.2222222222222222,
             "#7201a8"
            ],
            [
             0.3333333333333333,
             "#9c179e"
            ],
            [
             0.4444444444444444,
             "#bd3786"
            ],
            [
             0.5555555555555556,
             "#d8576b"
            ],
            [
             0.6666666666666666,
             "#ed7953"
            ],
            [
             0.7777777777777778,
             "#fb9f3a"
            ],
            [
             0.8888888888888888,
             "#fdca26"
            ],
            [
             1,
             "#f0f921"
            ]
           ]
          },
          "colorway": [
           "#636efa",
           "#EF553B",
           "#00cc96",
           "#ab63fa",
           "#FFA15A",
           "#19d3f3",
           "#FF6692",
           "#B6E880",
           "#FF97FF",
           "#FECB52"
          ],
          "font": {
           "color": "#2a3f5f"
          },
          "geo": {
           "bgcolor": "white",
           "lakecolor": "white",
           "landcolor": "#E5ECF6",
           "showlakes": true,
           "showland": true,
           "subunitcolor": "white"
          },
          "hoverlabel": {
           "align": "left"
          },
          "hovermode": "closest",
          "mapbox": {
           "style": "light"
          },
          "paper_bgcolor": "white",
          "plot_bgcolor": "#E5ECF6",
          "polar": {
           "angularaxis": {
            "gridcolor": "white",
            "linecolor": "white",
            "ticks": ""
           },
           "bgcolor": "#E5ECF6",
           "radialaxis": {
            "gridcolor": "white",
            "linecolor": "white",
            "ticks": ""
           }
          },
          "scene": {
           "xaxis": {
            "backgroundcolor": "#E5ECF6",
            "gridcolor": "white",
            "gridwidth": 2,
            "linecolor": "white",
            "showbackground": true,
            "ticks": "",
            "zerolinecolor": "white"
           },
           "yaxis": {
            "backgroundcolor": "#E5ECF6",
            "gridcolor": "white",
            "gridwidth": 2,
            "linecolor": "white",
            "showbackground": true,
            "ticks": "",
            "zerolinecolor": "white"
           },
           "zaxis": {
            "backgroundcolor": "#E5ECF6",
            "gridcolor": "white",
            "gridwidth": 2,
            "linecolor": "white",
            "showbackground": true,
            "ticks": "",
            "zerolinecolor": "white"
           }
          },
          "shapedefaults": {
           "line": {
            "color": "#2a3f5f"
           }
          },
          "ternary": {
           "aaxis": {
            "gridcolor": "white",
            "linecolor": "white",
            "ticks": ""
           },
           "baxis": {
            "gridcolor": "white",
            "linecolor": "white",
            "ticks": ""
           },
           "bgcolor": "#E5ECF6",
           "caxis": {
            "gridcolor": "white",
            "linecolor": "white",
            "ticks": ""
           }
          },
          "title": {
           "x": 0.05
          },
          "xaxis": {
           "automargin": true,
           "gridcolor": "white",
           "linecolor": "white",
           "ticks": "",
           "title": {
            "standoff": 15
           },
           "zerolinecolor": "white",
           "zerolinewidth": 2
          },
          "yaxis": {
           "automargin": true,
           "gridcolor": "white",
           "linecolor": "white",
           "ticks": "",
           "title": {
            "standoff": 15
           },
           "zerolinecolor": "white",
           "zerolinewidth": 2
          }
         }
        },
        "title": {
         "text": "Service Correlation Heatmap"
        },
        "width": 800,
        "xaxis": {
         "anchor": "y",
         "constrain": "domain",
         "domain": [
          0,
          1
         ],
         "scaleanchor": "y",
         "title": {
          "text": "Prestation"
         }
        },
        "yaxis": {
         "anchor": "x",
         "autorange": "reversed",
         "constrain": "domain",
         "domain": [
          0,
          1
         ],
         "title": {
          "text": "Prestation"
         }
        }
       }
      }
     },
     "metadata": {},
     "output_type": "display_data"
    }
   ],
   "source": [
    "# Frequency of each service type by day of week\n",
    "jan24_df['Day of Week'] = jan24_df['Date'].dt.day_name()\n",
    "service_by_day = jan24_df.groupby(['Prestation', 'Day of Week']).size().unstack(fill_value=0)\n",
    "\n",
    "fig = px.bar(service_by_day, barmode='group', labels={'value': 'Frequency', 'variable': 'Day of Week'}, title='Service Frequency by Day of the Week')\n",
    "fig.show()\n",
    "\n",
    "# Analyzing service corelation\n",
    "service_combinations = jan24_df.pivot_table(index=['Date', 'ID Client'], columns='Prestation', aggfunc='size', fill_value=0)\n",
    "service_correlation = service_combinations.corr()\n",
    "\n",
    "fig = px.imshow(service_correlation, x=service_correlation.index, y=service_correlation.columns)\n",
    "fig.update_layout(title='Service Correlation Heatmap')\n",
    "fig.update_layout(height=600, width=800)  \n",
    "fig.show()\n"
   ]
  },
  {
   "cell_type": "code",
   "execution_count": 17,
   "metadata": {},
   "outputs": [
    {
     "data": {
      "application/vnd.plotly.v1+json": {
       "config": {
        "plotlyServerURL": "https://plot.ly"
       },
       "data": [
        {
         "alignmentgroup": "True",
         "hovertemplate": "Service=Service Duration<br>Prestation=%{x}<br>Average Duration (hours)=%{y}<extra></extra>",
         "legendgroup": "Service Duration",
         "marker": {
          "color": "#636efa",
          "pattern": {
           "shape": ""
          }
         },
         "name": "Service Duration",
         "offsetgroup": "Service Duration",
         "orientation": "v",
         "showlegend": true,
         "textposition": "auto",
         "type": "bar",
         "x": [
          "ACCOMPAGNEMENTS COURSES PA",
          "ADMINISTRATION",
          "AIDE MENAGERE",
          "COORDINATION",
          "FEMME DE MENAGE",
          "FORMATION",
          "GARDE D'ENFANTS",
          "HOMMES TOUTES MAINS",
          "REPAS",
          "TOILETTE",
          "VIE SOCIALE",
          "VISITE MEDICALE"
         ],
         "xaxis": "x",
         "y": [
          1.4809236947791165,
          3.309071729957806,
          1.4554176072234764,
          0.8166666666666667,
          3,
          0.85,
          1.85,
          1,
          0.6441391941391941,
          0.7629416598192276,
          0.7317708333333334,
          1
         ],
         "yaxis": "y"
        }
       ],
       "layout": {
        "barmode": "relative",
        "legend": {
         "title": {
          "text": "Service"
         },
         "tracegroupgap": 0
        },
        "template": {
         "data": {
          "bar": [
           {
            "error_x": {
             "color": "#2a3f5f"
            },
            "error_y": {
             "color": "#2a3f5f"
            },
            "marker": {
             "line": {
              "color": "#E5ECF6",
              "width": 0.5
             },
             "pattern": {
              "fillmode": "overlay",
              "size": 10,
              "solidity": 0.2
             }
            },
            "type": "bar"
           }
          ],
          "barpolar": [
           {
            "marker": {
             "line": {
              "color": "#E5ECF6",
              "width": 0.5
             },
             "pattern": {
              "fillmode": "overlay",
              "size": 10,
              "solidity": 0.2
             }
            },
            "type": "barpolar"
           }
          ],
          "carpet": [
           {
            "aaxis": {
             "endlinecolor": "#2a3f5f",
             "gridcolor": "white",
             "linecolor": "white",
             "minorgridcolor": "white",
             "startlinecolor": "#2a3f5f"
            },
            "baxis": {
             "endlinecolor": "#2a3f5f",
             "gridcolor": "white",
             "linecolor": "white",
             "minorgridcolor": "white",
             "startlinecolor": "#2a3f5f"
            },
            "type": "carpet"
           }
          ],
          "choropleth": [
           {
            "colorbar": {
             "outlinewidth": 0,
             "ticks": ""
            },
            "type": "choropleth"
           }
          ],
          "contour": [
           {
            "colorbar": {
             "outlinewidth": 0,
             "ticks": ""
            },
            "colorscale": [
             [
              0,
              "#0d0887"
             ],
             [
              0.1111111111111111,
              "#46039f"
             ],
             [
              0.2222222222222222,
              "#7201a8"
             ],
             [
              0.3333333333333333,
              "#9c179e"
             ],
             [
              0.4444444444444444,
              "#bd3786"
             ],
             [
              0.5555555555555556,
              "#d8576b"
             ],
             [
              0.6666666666666666,
              "#ed7953"
             ],
             [
              0.7777777777777778,
              "#fb9f3a"
             ],
             [
              0.8888888888888888,
              "#fdca26"
             ],
             [
              1,
              "#f0f921"
             ]
            ],
            "type": "contour"
           }
          ],
          "contourcarpet": [
           {
            "colorbar": {
             "outlinewidth": 0,
             "ticks": ""
            },
            "type": "contourcarpet"
           }
          ],
          "heatmap": [
           {
            "colorbar": {
             "outlinewidth": 0,
             "ticks": ""
            },
            "colorscale": [
             [
              0,
              "#0d0887"
             ],
             [
              0.1111111111111111,
              "#46039f"
             ],
             [
              0.2222222222222222,
              "#7201a8"
             ],
             [
              0.3333333333333333,
              "#9c179e"
             ],
             [
              0.4444444444444444,
              "#bd3786"
             ],
             [
              0.5555555555555556,
              "#d8576b"
             ],
             [
              0.6666666666666666,
              "#ed7953"
             ],
             [
              0.7777777777777778,
              "#fb9f3a"
             ],
             [
              0.8888888888888888,
              "#fdca26"
             ],
             [
              1,
              "#f0f921"
             ]
            ],
            "type": "heatmap"
           }
          ],
          "heatmapgl": [
           {
            "colorbar": {
             "outlinewidth": 0,
             "ticks": ""
            },
            "colorscale": [
             [
              0,
              "#0d0887"
             ],
             [
              0.1111111111111111,
              "#46039f"
             ],
             [
              0.2222222222222222,
              "#7201a8"
             ],
             [
              0.3333333333333333,
              "#9c179e"
             ],
             [
              0.4444444444444444,
              "#bd3786"
             ],
             [
              0.5555555555555556,
              "#d8576b"
             ],
             [
              0.6666666666666666,
              "#ed7953"
             ],
             [
              0.7777777777777778,
              "#fb9f3a"
             ],
             [
              0.8888888888888888,
              "#fdca26"
             ],
             [
              1,
              "#f0f921"
             ]
            ],
            "type": "heatmapgl"
           }
          ],
          "histogram": [
           {
            "marker": {
             "pattern": {
              "fillmode": "overlay",
              "size": 10,
              "solidity": 0.2
             }
            },
            "type": "histogram"
           }
          ],
          "histogram2d": [
           {
            "colorbar": {
             "outlinewidth": 0,
             "ticks": ""
            },
            "colorscale": [
             [
              0,
              "#0d0887"
             ],
             [
              0.1111111111111111,
              "#46039f"
             ],
             [
              0.2222222222222222,
              "#7201a8"
             ],
             [
              0.3333333333333333,
              "#9c179e"
             ],
             [
              0.4444444444444444,
              "#bd3786"
             ],
             [
              0.5555555555555556,
              "#d8576b"
             ],
             [
              0.6666666666666666,
              "#ed7953"
             ],
             [
              0.7777777777777778,
              "#fb9f3a"
             ],
             [
              0.8888888888888888,
              "#fdca26"
             ],
             [
              1,
              "#f0f921"
             ]
            ],
            "type": "histogram2d"
           }
          ],
          "histogram2dcontour": [
           {
            "colorbar": {
             "outlinewidth": 0,
             "ticks": ""
            },
            "colorscale": [
             [
              0,
              "#0d0887"
             ],
             [
              0.1111111111111111,
              "#46039f"
             ],
             [
              0.2222222222222222,
              "#7201a8"
             ],
             [
              0.3333333333333333,
              "#9c179e"
             ],
             [
              0.4444444444444444,
              "#bd3786"
             ],
             [
              0.5555555555555556,
              "#d8576b"
             ],
             [
              0.6666666666666666,
              "#ed7953"
             ],
             [
              0.7777777777777778,
              "#fb9f3a"
             ],
             [
              0.8888888888888888,
              "#fdca26"
             ],
             [
              1,
              "#f0f921"
             ]
            ],
            "type": "histogram2dcontour"
           }
          ],
          "mesh3d": [
           {
            "colorbar": {
             "outlinewidth": 0,
             "ticks": ""
            },
            "type": "mesh3d"
           }
          ],
          "parcoords": [
           {
            "line": {
             "colorbar": {
              "outlinewidth": 0,
              "ticks": ""
             }
            },
            "type": "parcoords"
           }
          ],
          "pie": [
           {
            "automargin": true,
            "type": "pie"
           }
          ],
          "scatter": [
           {
            "fillpattern": {
             "fillmode": "overlay",
             "size": 10,
             "solidity": 0.2
            },
            "type": "scatter"
           }
          ],
          "scatter3d": [
           {
            "line": {
             "colorbar": {
              "outlinewidth": 0,
              "ticks": ""
             }
            },
            "marker": {
             "colorbar": {
              "outlinewidth": 0,
              "ticks": ""
             }
            },
            "type": "scatter3d"
           }
          ],
          "scattercarpet": [
           {
            "marker": {
             "colorbar": {
              "outlinewidth": 0,
              "ticks": ""
             }
            },
            "type": "scattercarpet"
           }
          ],
          "scattergeo": [
           {
            "marker": {
             "colorbar": {
              "outlinewidth": 0,
              "ticks": ""
             }
            },
            "type": "scattergeo"
           }
          ],
          "scattergl": [
           {
            "marker": {
             "colorbar": {
              "outlinewidth": 0,
              "ticks": ""
             }
            },
            "type": "scattergl"
           }
          ],
          "scattermapbox": [
           {
            "marker": {
             "colorbar": {
              "outlinewidth": 0,
              "ticks": ""
             }
            },
            "type": "scattermapbox"
           }
          ],
          "scatterpolar": [
           {
            "marker": {
             "colorbar": {
              "outlinewidth": 0,
              "ticks": ""
             }
            },
            "type": "scatterpolar"
           }
          ],
          "scatterpolargl": [
           {
            "marker": {
             "colorbar": {
              "outlinewidth": 0,
              "ticks": ""
             }
            },
            "type": "scatterpolargl"
           }
          ],
          "scatterternary": [
           {
            "marker": {
             "colorbar": {
              "outlinewidth": 0,
              "ticks": ""
             }
            },
            "type": "scatterternary"
           }
          ],
          "surface": [
           {
            "colorbar": {
             "outlinewidth": 0,
             "ticks": ""
            },
            "colorscale": [
             [
              0,
              "#0d0887"
             ],
             [
              0.1111111111111111,
              "#46039f"
             ],
             [
              0.2222222222222222,
              "#7201a8"
             ],
             [
              0.3333333333333333,
              "#9c179e"
             ],
             [
              0.4444444444444444,
              "#bd3786"
             ],
             [
              0.5555555555555556,
              "#d8576b"
             ],
             [
              0.6666666666666666,
              "#ed7953"
             ],
             [
              0.7777777777777778,
              "#fb9f3a"
             ],
             [
              0.8888888888888888,
              "#fdca26"
             ],
             [
              1,
              "#f0f921"
             ]
            ],
            "type": "surface"
           }
          ],
          "table": [
           {
            "cells": {
             "fill": {
              "color": "#EBF0F8"
             },
             "line": {
              "color": "white"
             }
            },
            "header": {
             "fill": {
              "color": "#C8D4E3"
             },
             "line": {
              "color": "white"
             }
            },
            "type": "table"
           }
          ]
         },
         "layout": {
          "annotationdefaults": {
           "arrowcolor": "#2a3f5f",
           "arrowhead": 0,
           "arrowwidth": 1
          },
          "autotypenumbers": "strict",
          "coloraxis": {
           "colorbar": {
            "outlinewidth": 0,
            "ticks": ""
           }
          },
          "colorscale": {
           "diverging": [
            [
             0,
             "#8e0152"
            ],
            [
             0.1,
             "#c51b7d"
            ],
            [
             0.2,
             "#de77ae"
            ],
            [
             0.3,
             "#f1b6da"
            ],
            [
             0.4,
             "#fde0ef"
            ],
            [
             0.5,
             "#f7f7f7"
            ],
            [
             0.6,
             "#e6f5d0"
            ],
            [
             0.7,
             "#b8e186"
            ],
            [
             0.8,
             "#7fbc41"
            ],
            [
             0.9,
             "#4d9221"
            ],
            [
             1,
             "#276419"
            ]
           ],
           "sequential": [
            [
             0,
             "#0d0887"
            ],
            [
             0.1111111111111111,
             "#46039f"
            ],
            [
             0.2222222222222222,
             "#7201a8"
            ],
            [
             0.3333333333333333,
             "#9c179e"
            ],
            [
             0.4444444444444444,
             "#bd3786"
            ],
            [
             0.5555555555555556,
             "#d8576b"
            ],
            [
             0.6666666666666666,
             "#ed7953"
            ],
            [
             0.7777777777777778,
             "#fb9f3a"
            ],
            [
             0.8888888888888888,
             "#fdca26"
            ],
            [
             1,
             "#f0f921"
            ]
           ],
           "sequentialminus": [
            [
             0,
             "#0d0887"
            ],
            [
             0.1111111111111111,
             "#46039f"
            ],
            [
             0.2222222222222222,
             "#7201a8"
            ],
            [
             0.3333333333333333,
             "#9c179e"
            ],
            [
             0.4444444444444444,
             "#bd3786"
            ],
            [
             0.5555555555555556,
             "#d8576b"
            ],
            [
             0.6666666666666666,
             "#ed7953"
            ],
            [
             0.7777777777777778,
             "#fb9f3a"
            ],
            [
             0.8888888888888888,
             "#fdca26"
            ],
            [
             1,
             "#f0f921"
            ]
           ]
          },
          "colorway": [
           "#636efa",
           "#EF553B",
           "#00cc96",
           "#ab63fa",
           "#FFA15A",
           "#19d3f3",
           "#FF6692",
           "#B6E880",
           "#FF97FF",
           "#FECB52"
          ],
          "font": {
           "color": "#2a3f5f"
          },
          "geo": {
           "bgcolor": "white",
           "lakecolor": "white",
           "landcolor": "#E5ECF6",
           "showlakes": true,
           "showland": true,
           "subunitcolor": "white"
          },
          "hoverlabel": {
           "align": "left"
          },
          "hovermode": "closest",
          "mapbox": {
           "style": "light"
          },
          "paper_bgcolor": "white",
          "plot_bgcolor": "#E5ECF6",
          "polar": {
           "angularaxis": {
            "gridcolor": "white",
            "linecolor": "white",
            "ticks": ""
           },
           "bgcolor": "#E5ECF6",
           "radialaxis": {
            "gridcolor": "white",
            "linecolor": "white",
            "ticks": ""
           }
          },
          "scene": {
           "xaxis": {
            "backgroundcolor": "#E5ECF6",
            "gridcolor": "white",
            "gridwidth": 2,
            "linecolor": "white",
            "showbackground": true,
            "ticks": "",
            "zerolinecolor": "white"
           },
           "yaxis": {
            "backgroundcolor": "#E5ECF6",
            "gridcolor": "white",
            "gridwidth": 2,
            "linecolor": "white",
            "showbackground": true,
            "ticks": "",
            "zerolinecolor": "white"
           },
           "zaxis": {
            "backgroundcolor": "#E5ECF6",
            "gridcolor": "white",
            "gridwidth": 2,
            "linecolor": "white",
            "showbackground": true,
            "ticks": "",
            "zerolinecolor": "white"
           }
          },
          "shapedefaults": {
           "line": {
            "color": "#2a3f5f"
           }
          },
          "ternary": {
           "aaxis": {
            "gridcolor": "white",
            "linecolor": "white",
            "ticks": ""
           },
           "baxis": {
            "gridcolor": "white",
            "linecolor": "white",
            "ticks": ""
           },
           "bgcolor": "#E5ECF6",
           "caxis": {
            "gridcolor": "white",
            "linecolor": "white",
            "ticks": ""
           }
          },
          "title": {
           "x": 0.05
          },
          "xaxis": {
           "automargin": true,
           "gridcolor": "white",
           "linecolor": "white",
           "ticks": "",
           "title": {
            "standoff": 15
           },
           "zerolinecolor": "white",
           "zerolinewidth": 2
          },
          "yaxis": {
           "automargin": true,
           "gridcolor": "white",
           "linecolor": "white",
           "ticks": "",
           "title": {
            "standoff": 15
           },
           "zerolinecolor": "white",
           "zerolinewidth": 2
          }
         }
        },
        "title": {
         "text": "Average Duration of Each Service"
        },
        "xaxis": {
         "anchor": "y",
         "domain": [
          0,
          1
         ],
         "title": {
          "text": "Prestation"
         }
        },
        "yaxis": {
         "anchor": "x",
         "domain": [
          0,
          1
         ],
         "title": {
          "text": "Average Duration (hours)"
         }
        }
       }
      }
     },
     "metadata": {},
     "output_type": "display_data"
    }
   ],
   "source": [
    "# Average Duration of Each Service\n",
    "jan24_df['Service Duration'] = (pd.to_datetime(jan24_df['Heure de fin'], format='%H:%M:%S') - \n",
    "                                pd.to_datetime(jan24_df['Heure de début'], format='%H:%M:%S')).dt.total_seconds() / 3600\n",
    "average_duration = jan24_df.groupby('Prestation')['Service Duration'].mean()\n",
    "\n",
    "fig = px.bar(average_duration, labels={'value': 'Average Duration (hours)', 'variable': 'Service'}, title='Average Duration of Each Service')\n",
    "fig.show()\n"
   ]
  },
  {
   "cell_type": "code",
   "execution_count": 18,
   "metadata": {},
   "outputs": [
    {
     "name": "stdout",
     "output_type": "stream",
     "text": [
      "      ID Client  ID Intervenant  Count\n",
      "414   794098228       213237245     49\n",
      "252   552306887       609468992     43\n",
      "85     99999999        78005437     41\n",
      "151   446362468       764144581     41\n",
      "86     99999999        78007018     38\n",
      "..          ...             ...    ...\n",
      "453   833548586       854577575      1\n",
      "454   846949801        78005437      1\n",
      "455   855391156       888888888      1\n",
      "456   858147751        78005437      1\n",
      "500  1453084257       710283561      1\n",
      "\n",
      "[501 rows x 3 columns]\n"
     ]
    }
   ],
   "source": [
    "\n",
    "# Client-Caretaker Pairing Patterns\n",
    "client_caretaker_pairing = jan24_df.groupby(['ID Client', 'ID Intervenant']).size().reset_index(name='Count').sort_values(by='Count', ascending=False)\n",
    "\n",
    "print(client_caretaker_pairing.sort_values(by='Count', ascending=False))"
   ]
  },
  {
   "cell_type": "code",
   "execution_count": 19,
   "metadata": {},
   "outputs": [
    {
     "data": {
      "application/vnd.plotly.v1+json": {
       "config": {
        "plotlyServerURL": "https://plot.ly"
       },
       "data": [
        {
         "alignmentgroup": "True",
         "hovertemplate": "Hour of Day=%{x}<br>Frequency=%{y}<extra></extra>",
         "legendgroup": "0",
         "marker": {
          "color": "#636efa",
          "pattern": {
           "shape": ""
          }
         },
         "name": "0",
         "offsetgroup": "0",
         "orientation": "v",
         "showlegend": true,
         "textposition": "auto",
         "type": "bar",
         "x": [
          7,
          8,
          9,
          10,
          11,
          12,
          13,
          14,
          15,
          16,
          17,
          18,
          19,
          20
         ],
         "xaxis": "x",
         "y": [
          148,
          356,
          354,
          324,
          272,
          208,
          102,
          187,
          116,
          98,
          257,
          314,
          97,
          37
         ],
         "yaxis": "y"
        }
       ],
       "layout": {
        "barmode": "relative",
        "legend": {
         "title": {
          "text": "Hour of Day"
         },
         "tracegroupgap": 0
        },
        "template": {
         "data": {
          "bar": [
           {
            "error_x": {
             "color": "#2a3f5f"
            },
            "error_y": {
             "color": "#2a3f5f"
            },
            "marker": {
             "line": {
              "color": "#E5ECF6",
              "width": 0.5
             },
             "pattern": {
              "fillmode": "overlay",
              "size": 10,
              "solidity": 0.2
             }
            },
            "type": "bar"
           }
          ],
          "barpolar": [
           {
            "marker": {
             "line": {
              "color": "#E5ECF6",
              "width": 0.5
             },
             "pattern": {
              "fillmode": "overlay",
              "size": 10,
              "solidity": 0.2
             }
            },
            "type": "barpolar"
           }
          ],
          "carpet": [
           {
            "aaxis": {
             "endlinecolor": "#2a3f5f",
             "gridcolor": "white",
             "linecolor": "white",
             "minorgridcolor": "white",
             "startlinecolor": "#2a3f5f"
            },
            "baxis": {
             "endlinecolor": "#2a3f5f",
             "gridcolor": "white",
             "linecolor": "white",
             "minorgridcolor": "white",
             "startlinecolor": "#2a3f5f"
            },
            "type": "carpet"
           }
          ],
          "choropleth": [
           {
            "colorbar": {
             "outlinewidth": 0,
             "ticks": ""
            },
            "type": "choropleth"
           }
          ],
          "contour": [
           {
            "colorbar": {
             "outlinewidth": 0,
             "ticks": ""
            },
            "colorscale": [
             [
              0,
              "#0d0887"
             ],
             [
              0.1111111111111111,
              "#46039f"
             ],
             [
              0.2222222222222222,
              "#7201a8"
             ],
             [
              0.3333333333333333,
              "#9c179e"
             ],
             [
              0.4444444444444444,
              "#bd3786"
             ],
             [
              0.5555555555555556,
              "#d8576b"
             ],
             [
              0.6666666666666666,
              "#ed7953"
             ],
             [
              0.7777777777777778,
              "#fb9f3a"
             ],
             [
              0.8888888888888888,
              "#fdca26"
             ],
             [
              1,
              "#f0f921"
             ]
            ],
            "type": "contour"
           }
          ],
          "contourcarpet": [
           {
            "colorbar": {
             "outlinewidth": 0,
             "ticks": ""
            },
            "type": "contourcarpet"
           }
          ],
          "heatmap": [
           {
            "colorbar": {
             "outlinewidth": 0,
             "ticks": ""
            },
            "colorscale": [
             [
              0,
              "#0d0887"
             ],
             [
              0.1111111111111111,
              "#46039f"
             ],
             [
              0.2222222222222222,
              "#7201a8"
             ],
             [
              0.3333333333333333,
              "#9c179e"
             ],
             [
              0.4444444444444444,
              "#bd3786"
             ],
             [
              0.5555555555555556,
              "#d8576b"
             ],
             [
              0.6666666666666666,
              "#ed7953"
             ],
             [
              0.7777777777777778,
              "#fb9f3a"
             ],
             [
              0.8888888888888888,
              "#fdca26"
             ],
             [
              1,
              "#f0f921"
             ]
            ],
            "type": "heatmap"
           }
          ],
          "heatmapgl": [
           {
            "colorbar": {
             "outlinewidth": 0,
             "ticks": ""
            },
            "colorscale": [
             [
              0,
              "#0d0887"
             ],
             [
              0.1111111111111111,
              "#46039f"
             ],
             [
              0.2222222222222222,
              "#7201a8"
             ],
             [
              0.3333333333333333,
              "#9c179e"
             ],
             [
              0.4444444444444444,
              "#bd3786"
             ],
             [
              0.5555555555555556,
              "#d8576b"
             ],
             [
              0.6666666666666666,
              "#ed7953"
             ],
             [
              0.7777777777777778,
              "#fb9f3a"
             ],
             [
              0.8888888888888888,
              "#fdca26"
             ],
             [
              1,
              "#f0f921"
             ]
            ],
            "type": "heatmapgl"
           }
          ],
          "histogram": [
           {
            "marker": {
             "pattern": {
              "fillmode": "overlay",
              "size": 10,
              "solidity": 0.2
             }
            },
            "type": "histogram"
           }
          ],
          "histogram2d": [
           {
            "colorbar": {
             "outlinewidth": 0,
             "ticks": ""
            },
            "colorscale": [
             [
              0,
              "#0d0887"
             ],
             [
              0.1111111111111111,
              "#46039f"
             ],
             [
              0.2222222222222222,
              "#7201a8"
             ],
             [
              0.3333333333333333,
              "#9c179e"
             ],
             [
              0.4444444444444444,
              "#bd3786"
             ],
             [
              0.5555555555555556,
              "#d8576b"
             ],
             [
              0.6666666666666666,
              "#ed7953"
             ],
             [
              0.7777777777777778,
              "#fb9f3a"
             ],
             [
              0.8888888888888888,
              "#fdca26"
             ],
             [
              1,
              "#f0f921"
             ]
            ],
            "type": "histogram2d"
           }
          ],
          "histogram2dcontour": [
           {
            "colorbar": {
             "outlinewidth": 0,
             "ticks": ""
            },
            "colorscale": [
             [
              0,
              "#0d0887"
             ],
             [
              0.1111111111111111,
              "#46039f"
             ],
             [
              0.2222222222222222,
              "#7201a8"
             ],
             [
              0.3333333333333333,
              "#9c179e"
             ],
             [
              0.4444444444444444,
              "#bd3786"
             ],
             [
              0.5555555555555556,
              "#d8576b"
             ],
             [
              0.6666666666666666,
              "#ed7953"
             ],
             [
              0.7777777777777778,
              "#fb9f3a"
             ],
             [
              0.8888888888888888,
              "#fdca26"
             ],
             [
              1,
              "#f0f921"
             ]
            ],
            "type": "histogram2dcontour"
           }
          ],
          "mesh3d": [
           {
            "colorbar": {
             "outlinewidth": 0,
             "ticks": ""
            },
            "type": "mesh3d"
           }
          ],
          "parcoords": [
           {
            "line": {
             "colorbar": {
              "outlinewidth": 0,
              "ticks": ""
             }
            },
            "type": "parcoords"
           }
          ],
          "pie": [
           {
            "automargin": true,
            "type": "pie"
           }
          ],
          "scatter": [
           {
            "fillpattern": {
             "fillmode": "overlay",
             "size": 10,
             "solidity": 0.2
            },
            "type": "scatter"
           }
          ],
          "scatter3d": [
           {
            "line": {
             "colorbar": {
              "outlinewidth": 0,
              "ticks": ""
             }
            },
            "marker": {
             "colorbar": {
              "outlinewidth": 0,
              "ticks": ""
             }
            },
            "type": "scatter3d"
           }
          ],
          "scattercarpet": [
           {
            "marker": {
             "colorbar": {
              "outlinewidth": 0,
              "ticks": ""
             }
            },
            "type": "scattercarpet"
           }
          ],
          "scattergeo": [
           {
            "marker": {
             "colorbar": {
              "outlinewidth": 0,
              "ticks": ""
             }
            },
            "type": "scattergeo"
           }
          ],
          "scattergl": [
           {
            "marker": {
             "colorbar": {
              "outlinewidth": 0,
              "ticks": ""
             }
            },
            "type": "scattergl"
           }
          ],
          "scattermapbox": [
           {
            "marker": {
             "colorbar": {
              "outlinewidth": 0,
              "ticks": ""
             }
            },
            "type": "scattermapbox"
           }
          ],
          "scatterpolar": [
           {
            "marker": {
             "colorbar": {
              "outlinewidth": 0,
              "ticks": ""
             }
            },
            "type": "scatterpolar"
           }
          ],
          "scatterpolargl": [
           {
            "marker": {
             "colorbar": {
              "outlinewidth": 0,
              "ticks": ""
             }
            },
            "type": "scatterpolargl"
           }
          ],
          "scatterternary": [
           {
            "marker": {
             "colorbar": {
              "outlinewidth": 0,
              "ticks": ""
             }
            },
            "type": "scatterternary"
           }
          ],
          "surface": [
           {
            "colorbar": {
             "outlinewidth": 0,
             "ticks": ""
            },
            "colorscale": [
             [
              0,
              "#0d0887"
             ],
             [
              0.1111111111111111,
              "#46039f"
             ],
             [
              0.2222222222222222,
              "#7201a8"
             ],
             [
              0.3333333333333333,
              "#9c179e"
             ],
             [
              0.4444444444444444,
              "#bd3786"
             ],
             [
              0.5555555555555556,
              "#d8576b"
             ],
             [
              0.6666666666666666,
              "#ed7953"
             ],
             [
              0.7777777777777778,
              "#fb9f3a"
             ],
             [
              0.8888888888888888,
              "#fdca26"
             ],
             [
              1,
              "#f0f921"
             ]
            ],
            "type": "surface"
           }
          ],
          "table": [
           {
            "cells": {
             "fill": {
              "color": "#EBF0F8"
             },
             "line": {
              "color": "white"
             }
            },
            "header": {
             "fill": {
              "color": "#C8D4E3"
             },
             "line": {
              "color": "white"
             }
            },
            "type": "table"
           }
          ]
         },
         "layout": {
          "annotationdefaults": {
           "arrowcolor": "#2a3f5f",
           "arrowhead": 0,
           "arrowwidth": 1
          },
          "autotypenumbers": "strict",
          "coloraxis": {
           "colorbar": {
            "outlinewidth": 0,
            "ticks": ""
           }
          },
          "colorscale": {
           "diverging": [
            [
             0,
             "#8e0152"
            ],
            [
             0.1,
             "#c51b7d"
            ],
            [
             0.2,
             "#de77ae"
            ],
            [
             0.3,
             "#f1b6da"
            ],
            [
             0.4,
             "#fde0ef"
            ],
            [
             0.5,
             "#f7f7f7"
            ],
            [
             0.6,
             "#e6f5d0"
            ],
            [
             0.7,
             "#b8e186"
            ],
            [
             0.8,
             "#7fbc41"
            ],
            [
             0.9,
             "#4d9221"
            ],
            [
             1,
             "#276419"
            ]
           ],
           "sequential": [
            [
             0,
             "#0d0887"
            ],
            [
             0.1111111111111111,
             "#46039f"
            ],
            [
             0.2222222222222222,
             "#7201a8"
            ],
            [
             0.3333333333333333,
             "#9c179e"
            ],
            [
             0.4444444444444444,
             "#bd3786"
            ],
            [
             0.5555555555555556,
             "#d8576b"
            ],
            [
             0.6666666666666666,
             "#ed7953"
            ],
            [
             0.7777777777777778,
             "#fb9f3a"
            ],
            [
             0.8888888888888888,
             "#fdca26"
            ],
            [
             1,
             "#f0f921"
            ]
           ],
           "sequentialminus": [
            [
             0,
             "#0d0887"
            ],
            [
             0.1111111111111111,
             "#46039f"
            ],
            [
             0.2222222222222222,
             "#7201a8"
            ],
            [
             0.3333333333333333,
             "#9c179e"
            ],
            [
             0.4444444444444444,
             "#bd3786"
            ],
            [
             0.5555555555555556,
             "#d8576b"
            ],
            [
             0.6666666666666666,
             "#ed7953"
            ],
            [
             0.7777777777777778,
             "#fb9f3a"
            ],
            [
             0.8888888888888888,
             "#fdca26"
            ],
            [
             1,
             "#f0f921"
            ]
           ]
          },
          "colorway": [
           "#636efa",
           "#EF553B",
           "#00cc96",
           "#ab63fa",
           "#FFA15A",
           "#19d3f3",
           "#FF6692",
           "#B6E880",
           "#FF97FF",
           "#FECB52"
          ],
          "font": {
           "color": "#2a3f5f"
          },
          "geo": {
           "bgcolor": "white",
           "lakecolor": "white",
           "landcolor": "#E5ECF6",
           "showlakes": true,
           "showland": true,
           "subunitcolor": "white"
          },
          "hoverlabel": {
           "align": "left"
          },
          "hovermode": "closest",
          "mapbox": {
           "style": "light"
          },
          "paper_bgcolor": "white",
          "plot_bgcolor": "#E5ECF6",
          "polar": {
           "angularaxis": {
            "gridcolor": "white",
            "linecolor": "white",
            "ticks": ""
           },
           "bgcolor": "#E5ECF6",
           "radialaxis": {
            "gridcolor": "white",
            "linecolor": "white",
            "ticks": ""
           }
          },
          "scene": {
           "xaxis": {
            "backgroundcolor": "#E5ECF6",
            "gridcolor": "white",
            "gridwidth": 2,
            "linecolor": "white",
            "showbackground": true,
            "ticks": "",
            "zerolinecolor": "white"
           },
           "yaxis": {
            "backgroundcolor": "#E5ECF6",
            "gridcolor": "white",
            "gridwidth": 2,
            "linecolor": "white",
            "showbackground": true,
            "ticks": "",
            "zerolinecolor": "white"
           },
           "zaxis": {
            "backgroundcolor": "#E5ECF6",
            "gridcolor": "white",
            "gridwidth": 2,
            "linecolor": "white",
            "showbackground": true,
            "ticks": "",
            "zerolinecolor": "white"
           }
          },
          "shapedefaults": {
           "line": {
            "color": "#2a3f5f"
           }
          },
          "ternary": {
           "aaxis": {
            "gridcolor": "white",
            "linecolor": "white",
            "ticks": ""
           },
           "baxis": {
            "gridcolor": "white",
            "linecolor": "white",
            "ticks": ""
           },
           "bgcolor": "#E5ECF6",
           "caxis": {
            "gridcolor": "white",
            "linecolor": "white",
            "ticks": ""
           }
          },
          "title": {
           "x": 0.05
          },
          "xaxis": {
           "automargin": true,
           "gridcolor": "white",
           "linecolor": "white",
           "ticks": "",
           "title": {
            "standoff": 15
           },
           "zerolinecolor": "white",
           "zerolinewidth": 2
          },
          "yaxis": {
           "automargin": true,
           "gridcolor": "white",
           "linecolor": "white",
           "ticks": "",
           "title": {
            "standoff": 15
           },
           "zerolinecolor": "white",
           "zerolinewidth": 2
          }
         }
        },
        "title": {
         "text": "Peak Service Hours Analysis"
        },
        "xaxis": {
         "anchor": "y",
         "domain": [
          0,
          1
         ],
         "title": {
          "text": "Hour of Day"
         }
        },
        "yaxis": {
         "anchor": "x",
         "domain": [
          0,
          1
         ],
         "title": {
          "text": "Frequency"
         }
        }
       }
      }
     },
     "metadata": {},
     "output_type": "display_data"
    }
   ],
   "source": [
    "\n",
    "#Peak Service Hours Analysis\n",
    "jan24_df['Hour of Day'] = pd.to_datetime(jan24_df['Heure de début'], format='%H:%M:%S').dt.hour\n",
    "peak_hours = jan24_df.groupby('Hour of Day').size()\n",
    "fig = px.bar(peak_hours, labels={'value': 'Frequency', 'variable': 'Hour of Day'}, title='Peak Service Hours Analysis')\n",
    "fig.show()\n"
   ]
  },
  {
   "cell_type": "code",
   "execution_count": 20,
   "metadata": {},
   "outputs": [],
   "source": [
    "\n",
    "# Grouping data by caretaker and date to count the number of services provided each day\n",
    "caretaker_daily_workload = jan24_df.groupby(['ID Intervenant', jan24_df['Date'].dt.date]).size()\n",
    "caretaker_daily_workload = caretaker_daily_workload.reset_index(name='Daily Service Count')\n",
    "\n",
    "# Grouping data by caretaker and week to count the number of services provided each week\n",
    "jan24_df['Week'] = jan24_df['Date'].dt.isocalendar().week\n",
    "caretaker_weekly_workload = jan24_df.groupby(['ID Intervenant', 'Week']).size()\n",
    "caretaker_weekly_workload = caretaker_weekly_workload.reset_index(name='Weekly Service Count')"
   ]
  },
  {
   "cell_type": "code",
   "execution_count": 21,
   "metadata": {},
   "outputs": [
    {
     "data": {
      "application/vnd.plotly.v1+json": {
       "config": {
        "plotlyServerURL": "https://plot.ly"
       },
       "data": [
        {
         "alignmentgroup": "True",
         "hovertemplate": "Date=%{x}<br>Daily Service Count=%{y}<extra></extra>",
         "legendgroup": "",
         "marker": {
          "color": "#636efa",
          "pattern": {
           "shape": ""
          }
         },
         "name": "",
         "offsetgroup": "",
         "orientation": "v",
         "showlegend": false,
         "textposition": "auto",
         "type": "bar",
         "x": [
          "2024-01-01",
          "2024-01-02",
          "2024-01-03",
          "2024-01-04",
          "2024-01-05",
          "2024-01-08",
          "2024-01-09",
          "2024-01-10",
          "2024-01-11",
          "2024-01-12",
          "2024-01-15",
          "2024-01-16",
          "2024-01-17",
          "2024-01-18",
          "2024-01-19",
          "2024-01-22",
          "2024-01-23",
          "2024-01-24",
          "2024-01-25",
          "2024-01-26",
          "2024-01-29",
          "2024-01-30",
          "2024-01-31"
         ],
         "xaxis": "x",
         "y": [
          10,
          12,
          11,
          4,
          6,
          3,
          4,
          7,
          2,
          4,
          7,
          3,
          2,
          2,
          4,
          8,
          2,
          5,
          4,
          4,
          6,
          5,
          5
         ],
         "yaxis": "y"
        }
       ],
       "layout": {
        "barmode": "relative",
        "legend": {
         "tracegroupgap": 0
        },
        "template": {
         "data": {
          "bar": [
           {
            "error_x": {
             "color": "#2a3f5f"
            },
            "error_y": {
             "color": "#2a3f5f"
            },
            "marker": {
             "line": {
              "color": "#E5ECF6",
              "width": 0.5
             },
             "pattern": {
              "fillmode": "overlay",
              "size": 10,
              "solidity": 0.2
             }
            },
            "type": "bar"
           }
          ],
          "barpolar": [
           {
            "marker": {
             "line": {
              "color": "#E5ECF6",
              "width": 0.5
             },
             "pattern": {
              "fillmode": "overlay",
              "size": 10,
              "solidity": 0.2
             }
            },
            "type": "barpolar"
           }
          ],
          "carpet": [
           {
            "aaxis": {
             "endlinecolor": "#2a3f5f",
             "gridcolor": "white",
             "linecolor": "white",
             "minorgridcolor": "white",
             "startlinecolor": "#2a3f5f"
            },
            "baxis": {
             "endlinecolor": "#2a3f5f",
             "gridcolor": "white",
             "linecolor": "white",
             "minorgridcolor": "white",
             "startlinecolor": "#2a3f5f"
            },
            "type": "carpet"
           }
          ],
          "choropleth": [
           {
            "colorbar": {
             "outlinewidth": 0,
             "ticks": ""
            },
            "type": "choropleth"
           }
          ],
          "contour": [
           {
            "colorbar": {
             "outlinewidth": 0,
             "ticks": ""
            },
            "colorscale": [
             [
              0,
              "#0d0887"
             ],
             [
              0.1111111111111111,
              "#46039f"
             ],
             [
              0.2222222222222222,
              "#7201a8"
             ],
             [
              0.3333333333333333,
              "#9c179e"
             ],
             [
              0.4444444444444444,
              "#bd3786"
             ],
             [
              0.5555555555555556,
              "#d8576b"
             ],
             [
              0.6666666666666666,
              "#ed7953"
             ],
             [
              0.7777777777777778,
              "#fb9f3a"
             ],
             [
              0.8888888888888888,
              "#fdca26"
             ],
             [
              1,
              "#f0f921"
             ]
            ],
            "type": "contour"
           }
          ],
          "contourcarpet": [
           {
            "colorbar": {
             "outlinewidth": 0,
             "ticks": ""
            },
            "type": "contourcarpet"
           }
          ],
          "heatmap": [
           {
            "colorbar": {
             "outlinewidth": 0,
             "ticks": ""
            },
            "colorscale": [
             [
              0,
              "#0d0887"
             ],
             [
              0.1111111111111111,
              "#46039f"
             ],
             [
              0.2222222222222222,
              "#7201a8"
             ],
             [
              0.3333333333333333,
              "#9c179e"
             ],
             [
              0.4444444444444444,
              "#bd3786"
             ],
             [
              0.5555555555555556,
              "#d8576b"
             ],
             [
              0.6666666666666666,
              "#ed7953"
             ],
             [
              0.7777777777777778,
              "#fb9f3a"
             ],
             [
              0.8888888888888888,
              "#fdca26"
             ],
             [
              1,
              "#f0f921"
             ]
            ],
            "type": "heatmap"
           }
          ],
          "heatmapgl": [
           {
            "colorbar": {
             "outlinewidth": 0,
             "ticks": ""
            },
            "colorscale": [
             [
              0,
              "#0d0887"
             ],
             [
              0.1111111111111111,
              "#46039f"
             ],
             [
              0.2222222222222222,
              "#7201a8"
             ],
             [
              0.3333333333333333,
              "#9c179e"
             ],
             [
              0.4444444444444444,
              "#bd3786"
             ],
             [
              0.5555555555555556,
              "#d8576b"
             ],
             [
              0.6666666666666666,
              "#ed7953"
             ],
             [
              0.7777777777777778,
              "#fb9f3a"
             ],
             [
              0.8888888888888888,
              "#fdca26"
             ],
             [
              1,
              "#f0f921"
             ]
            ],
            "type": "heatmapgl"
           }
          ],
          "histogram": [
           {
            "marker": {
             "pattern": {
              "fillmode": "overlay",
              "size": 10,
              "solidity": 0.2
             }
            },
            "type": "histogram"
           }
          ],
          "histogram2d": [
           {
            "colorbar": {
             "outlinewidth": 0,
             "ticks": ""
            },
            "colorscale": [
             [
              0,
              "#0d0887"
             ],
             [
              0.1111111111111111,
              "#46039f"
             ],
             [
              0.2222222222222222,
              "#7201a8"
             ],
             [
              0.3333333333333333,
              "#9c179e"
             ],
             [
              0.4444444444444444,
              "#bd3786"
             ],
             [
              0.5555555555555556,
              "#d8576b"
             ],
             [
              0.6666666666666666,
              "#ed7953"
             ],
             [
              0.7777777777777778,
              "#fb9f3a"
             ],
             [
              0.8888888888888888,
              "#fdca26"
             ],
             [
              1,
              "#f0f921"
             ]
            ],
            "type": "histogram2d"
           }
          ],
          "histogram2dcontour": [
           {
            "colorbar": {
             "outlinewidth": 0,
             "ticks": ""
            },
            "colorscale": [
             [
              0,
              "#0d0887"
             ],
             [
              0.1111111111111111,
              "#46039f"
             ],
             [
              0.2222222222222222,
              "#7201a8"
             ],
             [
              0.3333333333333333,
              "#9c179e"
             ],
             [
              0.4444444444444444,
              "#bd3786"
             ],
             [
              0.5555555555555556,
              "#d8576b"
             ],
             [
              0.6666666666666666,
              "#ed7953"
             ],
             [
              0.7777777777777778,
              "#fb9f3a"
             ],
             [
              0.8888888888888888,
              "#fdca26"
             ],
             [
              1,
              "#f0f921"
             ]
            ],
            "type": "histogram2dcontour"
           }
          ],
          "mesh3d": [
           {
            "colorbar": {
             "outlinewidth": 0,
             "ticks": ""
            },
            "type": "mesh3d"
           }
          ],
          "parcoords": [
           {
            "line": {
             "colorbar": {
              "outlinewidth": 0,
              "ticks": ""
             }
            },
            "type": "parcoords"
           }
          ],
          "pie": [
           {
            "automargin": true,
            "type": "pie"
           }
          ],
          "scatter": [
           {
            "fillpattern": {
             "fillmode": "overlay",
             "size": 10,
             "solidity": 0.2
            },
            "type": "scatter"
           }
          ],
          "scatter3d": [
           {
            "line": {
             "colorbar": {
              "outlinewidth": 0,
              "ticks": ""
             }
            },
            "marker": {
             "colorbar": {
              "outlinewidth": 0,
              "ticks": ""
             }
            },
            "type": "scatter3d"
           }
          ],
          "scattercarpet": [
           {
            "marker": {
             "colorbar": {
              "outlinewidth": 0,
              "ticks": ""
             }
            },
            "type": "scattercarpet"
           }
          ],
          "scattergeo": [
           {
            "marker": {
             "colorbar": {
              "outlinewidth": 0,
              "ticks": ""
             }
            },
            "type": "scattergeo"
           }
          ],
          "scattergl": [
           {
            "marker": {
             "colorbar": {
              "outlinewidth": 0,
              "ticks": ""
             }
            },
            "type": "scattergl"
           }
          ],
          "scattermapbox": [
           {
            "marker": {
             "colorbar": {
              "outlinewidth": 0,
              "ticks": ""
             }
            },
            "type": "scattermapbox"
           }
          ],
          "scatterpolar": [
           {
            "marker": {
             "colorbar": {
              "outlinewidth": 0,
              "ticks": ""
             }
            },
            "type": "scatterpolar"
           }
          ],
          "scatterpolargl": [
           {
            "marker": {
             "colorbar": {
              "outlinewidth": 0,
              "ticks": ""
             }
            },
            "type": "scatterpolargl"
           }
          ],
          "scatterternary": [
           {
            "marker": {
             "colorbar": {
              "outlinewidth": 0,
              "ticks": ""
             }
            },
            "type": "scatterternary"
           }
          ],
          "surface": [
           {
            "colorbar": {
             "outlinewidth": 0,
             "ticks": ""
            },
            "colorscale": [
             [
              0,
              "#0d0887"
             ],
             [
              0.1111111111111111,
              "#46039f"
             ],
             [
              0.2222222222222222,
              "#7201a8"
             ],
             [
              0.3333333333333333,
              "#9c179e"
             ],
             [
              0.4444444444444444,
              "#bd3786"
             ],
             [
              0.5555555555555556,
              "#d8576b"
             ],
             [
              0.6666666666666666,
              "#ed7953"
             ],
             [
              0.7777777777777778,
              "#fb9f3a"
             ],
             [
              0.8888888888888888,
              "#fdca26"
             ],
             [
              1,
              "#f0f921"
             ]
            ],
            "type": "surface"
           }
          ],
          "table": [
           {
            "cells": {
             "fill": {
              "color": "#EBF0F8"
             },
             "line": {
              "color": "white"
             }
            },
            "header": {
             "fill": {
              "color": "#C8D4E3"
             },
             "line": {
              "color": "white"
             }
            },
            "type": "table"
           }
          ]
         },
         "layout": {
          "annotationdefaults": {
           "arrowcolor": "#2a3f5f",
           "arrowhead": 0,
           "arrowwidth": 1
          },
          "autotypenumbers": "strict",
          "coloraxis": {
           "colorbar": {
            "outlinewidth": 0,
            "ticks": ""
           }
          },
          "colorscale": {
           "diverging": [
            [
             0,
             "#8e0152"
            ],
            [
             0.1,
             "#c51b7d"
            ],
            [
             0.2,
             "#de77ae"
            ],
            [
             0.3,
             "#f1b6da"
            ],
            [
             0.4,
             "#fde0ef"
            ],
            [
             0.5,
             "#f7f7f7"
            ],
            [
             0.6,
             "#e6f5d0"
            ],
            [
             0.7,
             "#b8e186"
            ],
            [
             0.8,
             "#7fbc41"
            ],
            [
             0.9,
             "#4d9221"
            ],
            [
             1,
             "#276419"
            ]
           ],
           "sequential": [
            [
             0,
             "#0d0887"
            ],
            [
             0.1111111111111111,
             "#46039f"
            ],
            [
             0.2222222222222222,
             "#7201a8"
            ],
            [
             0.3333333333333333,
             "#9c179e"
            ],
            [
             0.4444444444444444,
             "#bd3786"
            ],
            [
             0.5555555555555556,
             "#d8576b"
            ],
            [
             0.6666666666666666,
             "#ed7953"
            ],
            [
             0.7777777777777778,
             "#fb9f3a"
            ],
            [
             0.8888888888888888,
             "#fdca26"
            ],
            [
             1,
             "#f0f921"
            ]
           ],
           "sequentialminus": [
            [
             0,
             "#0d0887"
            ],
            [
             0.1111111111111111,
             "#46039f"
            ],
            [
             0.2222222222222222,
             "#7201a8"
            ],
            [
             0.3333333333333333,
             "#9c179e"
            ],
            [
             0.4444444444444444,
             "#bd3786"
            ],
            [
             0.5555555555555556,
             "#d8576b"
            ],
            [
             0.6666666666666666,
             "#ed7953"
            ],
            [
             0.7777777777777778,
             "#fb9f3a"
            ],
            [
             0.8888888888888888,
             "#fdca26"
            ],
            [
             1,
             "#f0f921"
            ]
           ]
          },
          "colorway": [
           "#636efa",
           "#EF553B",
           "#00cc96",
           "#ab63fa",
           "#FFA15A",
           "#19d3f3",
           "#FF6692",
           "#B6E880",
           "#FF97FF",
           "#FECB52"
          ],
          "font": {
           "color": "#2a3f5f"
          },
          "geo": {
           "bgcolor": "white",
           "lakecolor": "white",
           "landcolor": "#E5ECF6",
           "showlakes": true,
           "showland": true,
           "subunitcolor": "white"
          },
          "hoverlabel": {
           "align": "left"
          },
          "hovermode": "closest",
          "mapbox": {
           "style": "light"
          },
          "paper_bgcolor": "white",
          "plot_bgcolor": "#E5ECF6",
          "polar": {
           "angularaxis": {
            "gridcolor": "white",
            "linecolor": "white",
            "ticks": ""
           },
           "bgcolor": "#E5ECF6",
           "radialaxis": {
            "gridcolor": "white",
            "linecolor": "white",
            "ticks": ""
           }
          },
          "scene": {
           "xaxis": {
            "backgroundcolor": "#E5ECF6",
            "gridcolor": "white",
            "gridwidth": 2,
            "linecolor": "white",
            "showbackground": true,
            "ticks": "",
            "zerolinecolor": "white"
           },
           "yaxis": {
            "backgroundcolor": "#E5ECF6",
            "gridcolor": "white",
            "gridwidth": 2,
            "linecolor": "white",
            "showbackground": true,
            "ticks": "",
            "zerolinecolor": "white"
           },
           "zaxis": {
            "backgroundcolor": "#E5ECF6",
            "gridcolor": "white",
            "gridwidth": 2,
            "linecolor": "white",
            "showbackground": true,
            "ticks": "",
            "zerolinecolor": "white"
           }
          },
          "shapedefaults": {
           "line": {
            "color": "#2a3f5f"
           }
          },
          "ternary": {
           "aaxis": {
            "gridcolor": "white",
            "linecolor": "white",
            "ticks": ""
           },
           "baxis": {
            "gridcolor": "white",
            "linecolor": "white",
            "ticks": ""
           },
           "bgcolor": "#E5ECF6",
           "caxis": {
            "gridcolor": "white",
            "linecolor": "white",
            "ticks": ""
           }
          },
          "title": {
           "x": 0.05
          },
          "xaxis": {
           "automargin": true,
           "gridcolor": "white",
           "linecolor": "white",
           "ticks": "",
           "title": {
            "standoff": 15
           },
           "zerolinecolor": "white",
           "zerolinewidth": 2
          },
          "yaxis": {
           "automargin": true,
           "gridcolor": "white",
           "linecolor": "white",
           "ticks": "",
           "title": {
            "standoff": 15
           },
           "zerolinecolor": "white",
           "zerolinewidth": 2
          }
         }
        },
        "title": {
         "text": "Daily Workload for Caretaker 78005437"
        },
        "xaxis": {
         "anchor": "y",
         "domain": [
          0,
          1
         ],
         "title": {
          "text": "Date"
         }
        },
        "yaxis": {
         "anchor": "x",
         "domain": [
          0,
          1
         ],
         "title": {
          "text": "Number of Services"
         }
        }
       }
      }
     },
     "metadata": {},
     "output_type": "display_data"
    }
   ],
   "source": [
    "def plot_daily_workload(caretaker_daily_workload, caretaker_id):\n",
    "    sample_caretaker = caretaker_daily_workload[caretaker_daily_workload['ID Intervenant'] == caretaker_id]\n",
    "    fig = px.bar(sample_caretaker, x='Date', y='Daily Service Count', title=f'Daily Workload for Caretaker {caretaker_id}')\n",
    "    fig.update_layout(xaxis_title='Date', yaxis_title='Number of Services')\n",
    "    fig.show()\n",
    "\n",
    "plot_daily_workload(caretaker_daily_workload, 78005437)\n"
   ]
  },
  {
   "cell_type": "code",
   "execution_count": 22,
   "metadata": {},
   "outputs": [
    {
     "data": {
      "application/vnd.plotly.v1+json": {
       "config": {
        "plotlyServerURL": "https://plot.ly"
       },
       "data": [
        {
         "hovertemplate": "Week=%{x}<br>Weekly Service Count=%{y}<extra></extra>",
         "legendgroup": "",
         "line": {
          "color": "#636efa",
          "dash": "solid"
         },
         "marker": {
          "symbol": "circle"
         },
         "mode": "lines+markers",
         "name": "",
         "orientation": "v",
         "showlegend": false,
         "type": "scatter",
         "x": [
          1,
          2,
          3,
          4,
          5
         ],
         "xaxis": "x",
         "y": [
          43,
          20,
          18,
          23,
          16
         ],
         "yaxis": "y"
        }
       ],
       "layout": {
        "legend": {
         "tracegroupgap": 0
        },
        "template": {
         "data": {
          "bar": [
           {
            "error_x": {
             "color": "#2a3f5f"
            },
            "error_y": {
             "color": "#2a3f5f"
            },
            "marker": {
             "line": {
              "color": "#E5ECF6",
              "width": 0.5
             },
             "pattern": {
              "fillmode": "overlay",
              "size": 10,
              "solidity": 0.2
             }
            },
            "type": "bar"
           }
          ],
          "barpolar": [
           {
            "marker": {
             "line": {
              "color": "#E5ECF6",
              "width": 0.5
             },
             "pattern": {
              "fillmode": "overlay",
              "size": 10,
              "solidity": 0.2
             }
            },
            "type": "barpolar"
           }
          ],
          "carpet": [
           {
            "aaxis": {
             "endlinecolor": "#2a3f5f",
             "gridcolor": "white",
             "linecolor": "white",
             "minorgridcolor": "white",
             "startlinecolor": "#2a3f5f"
            },
            "baxis": {
             "endlinecolor": "#2a3f5f",
             "gridcolor": "white",
             "linecolor": "white",
             "minorgridcolor": "white",
             "startlinecolor": "#2a3f5f"
            },
            "type": "carpet"
           }
          ],
          "choropleth": [
           {
            "colorbar": {
             "outlinewidth": 0,
             "ticks": ""
            },
            "type": "choropleth"
           }
          ],
          "contour": [
           {
            "colorbar": {
             "outlinewidth": 0,
             "ticks": ""
            },
            "colorscale": [
             [
              0,
              "#0d0887"
             ],
             [
              0.1111111111111111,
              "#46039f"
             ],
             [
              0.2222222222222222,
              "#7201a8"
             ],
             [
              0.3333333333333333,
              "#9c179e"
             ],
             [
              0.4444444444444444,
              "#bd3786"
             ],
             [
              0.5555555555555556,
              "#d8576b"
             ],
             [
              0.6666666666666666,
              "#ed7953"
             ],
             [
              0.7777777777777778,
              "#fb9f3a"
             ],
             [
              0.8888888888888888,
              "#fdca26"
             ],
             [
              1,
              "#f0f921"
             ]
            ],
            "type": "contour"
           }
          ],
          "contourcarpet": [
           {
            "colorbar": {
             "outlinewidth": 0,
             "ticks": ""
            },
            "type": "contourcarpet"
           }
          ],
          "heatmap": [
           {
            "colorbar": {
             "outlinewidth": 0,
             "ticks": ""
            },
            "colorscale": [
             [
              0,
              "#0d0887"
             ],
             [
              0.1111111111111111,
              "#46039f"
             ],
             [
              0.2222222222222222,
              "#7201a8"
             ],
             [
              0.3333333333333333,
              "#9c179e"
             ],
             [
              0.4444444444444444,
              "#bd3786"
             ],
             [
              0.5555555555555556,
              "#d8576b"
             ],
             [
              0.6666666666666666,
              "#ed7953"
             ],
             [
              0.7777777777777778,
              "#fb9f3a"
             ],
             [
              0.8888888888888888,
              "#fdca26"
             ],
             [
              1,
              "#f0f921"
             ]
            ],
            "type": "heatmap"
           }
          ],
          "heatmapgl": [
           {
            "colorbar": {
             "outlinewidth": 0,
             "ticks": ""
            },
            "colorscale": [
             [
              0,
              "#0d0887"
             ],
             [
              0.1111111111111111,
              "#46039f"
             ],
             [
              0.2222222222222222,
              "#7201a8"
             ],
             [
              0.3333333333333333,
              "#9c179e"
             ],
             [
              0.4444444444444444,
              "#bd3786"
             ],
             [
              0.5555555555555556,
              "#d8576b"
             ],
             [
              0.6666666666666666,
              "#ed7953"
             ],
             [
              0.7777777777777778,
              "#fb9f3a"
             ],
             [
              0.8888888888888888,
              "#fdca26"
             ],
             [
              1,
              "#f0f921"
             ]
            ],
            "type": "heatmapgl"
           }
          ],
          "histogram": [
           {
            "marker": {
             "pattern": {
              "fillmode": "overlay",
              "size": 10,
              "solidity": 0.2
             }
            },
            "type": "histogram"
           }
          ],
          "histogram2d": [
           {
            "colorbar": {
             "outlinewidth": 0,
             "ticks": ""
            },
            "colorscale": [
             [
              0,
              "#0d0887"
             ],
             [
              0.1111111111111111,
              "#46039f"
             ],
             [
              0.2222222222222222,
              "#7201a8"
             ],
             [
              0.3333333333333333,
              "#9c179e"
             ],
             [
              0.4444444444444444,
              "#bd3786"
             ],
             [
              0.5555555555555556,
              "#d8576b"
             ],
             [
              0.6666666666666666,
              "#ed7953"
             ],
             [
              0.7777777777777778,
              "#fb9f3a"
             ],
             [
              0.8888888888888888,
              "#fdca26"
             ],
             [
              1,
              "#f0f921"
             ]
            ],
            "type": "histogram2d"
           }
          ],
          "histogram2dcontour": [
           {
            "colorbar": {
             "outlinewidth": 0,
             "ticks": ""
            },
            "colorscale": [
             [
              0,
              "#0d0887"
             ],
             [
              0.1111111111111111,
              "#46039f"
             ],
             [
              0.2222222222222222,
              "#7201a8"
             ],
             [
              0.3333333333333333,
              "#9c179e"
             ],
             [
              0.4444444444444444,
              "#bd3786"
             ],
             [
              0.5555555555555556,
              "#d8576b"
             ],
             [
              0.6666666666666666,
              "#ed7953"
             ],
             [
              0.7777777777777778,
              "#fb9f3a"
             ],
             [
              0.8888888888888888,
              "#fdca26"
             ],
             [
              1,
              "#f0f921"
             ]
            ],
            "type": "histogram2dcontour"
           }
          ],
          "mesh3d": [
           {
            "colorbar": {
             "outlinewidth": 0,
             "ticks": ""
            },
            "type": "mesh3d"
           }
          ],
          "parcoords": [
           {
            "line": {
             "colorbar": {
              "outlinewidth": 0,
              "ticks": ""
             }
            },
            "type": "parcoords"
           }
          ],
          "pie": [
           {
            "automargin": true,
            "type": "pie"
           }
          ],
          "scatter": [
           {
            "fillpattern": {
             "fillmode": "overlay",
             "size": 10,
             "solidity": 0.2
            },
            "type": "scatter"
           }
          ],
          "scatter3d": [
           {
            "line": {
             "colorbar": {
              "outlinewidth": 0,
              "ticks": ""
             }
            },
            "marker": {
             "colorbar": {
              "outlinewidth": 0,
              "ticks": ""
             }
            },
            "type": "scatter3d"
           }
          ],
          "scattercarpet": [
           {
            "marker": {
             "colorbar": {
              "outlinewidth": 0,
              "ticks": ""
             }
            },
            "type": "scattercarpet"
           }
          ],
          "scattergeo": [
           {
            "marker": {
             "colorbar": {
              "outlinewidth": 0,
              "ticks": ""
             }
            },
            "type": "scattergeo"
           }
          ],
          "scattergl": [
           {
            "marker": {
             "colorbar": {
              "outlinewidth": 0,
              "ticks": ""
             }
            },
            "type": "scattergl"
           }
          ],
          "scattermapbox": [
           {
            "marker": {
             "colorbar": {
              "outlinewidth": 0,
              "ticks": ""
             }
            },
            "type": "scattermapbox"
           }
          ],
          "scatterpolar": [
           {
            "marker": {
             "colorbar": {
              "outlinewidth": 0,
              "ticks": ""
             }
            },
            "type": "scatterpolar"
           }
          ],
          "scatterpolargl": [
           {
            "marker": {
             "colorbar": {
              "outlinewidth": 0,
              "ticks": ""
             }
            },
            "type": "scatterpolargl"
           }
          ],
          "scatterternary": [
           {
            "marker": {
             "colorbar": {
              "outlinewidth": 0,
              "ticks": ""
             }
            },
            "type": "scatterternary"
           }
          ],
          "surface": [
           {
            "colorbar": {
             "outlinewidth": 0,
             "ticks": ""
            },
            "colorscale": [
             [
              0,
              "#0d0887"
             ],
             [
              0.1111111111111111,
              "#46039f"
             ],
             [
              0.2222222222222222,
              "#7201a8"
             ],
             [
              0.3333333333333333,
              "#9c179e"
             ],
             [
              0.4444444444444444,
              "#bd3786"
             ],
             [
              0.5555555555555556,
              "#d8576b"
             ],
             [
              0.6666666666666666,
              "#ed7953"
             ],
             [
              0.7777777777777778,
              "#fb9f3a"
             ],
             [
              0.8888888888888888,
              "#fdca26"
             ],
             [
              1,
              "#f0f921"
             ]
            ],
            "type": "surface"
           }
          ],
          "table": [
           {
            "cells": {
             "fill": {
              "color": "#EBF0F8"
             },
             "line": {
              "color": "white"
             }
            },
            "header": {
             "fill": {
              "color": "#C8D4E3"
             },
             "line": {
              "color": "white"
             }
            },
            "type": "table"
           }
          ]
         },
         "layout": {
          "annotationdefaults": {
           "arrowcolor": "#2a3f5f",
           "arrowhead": 0,
           "arrowwidth": 1
          },
          "autotypenumbers": "strict",
          "coloraxis": {
           "colorbar": {
            "outlinewidth": 0,
            "ticks": ""
           }
          },
          "colorscale": {
           "diverging": [
            [
             0,
             "#8e0152"
            ],
            [
             0.1,
             "#c51b7d"
            ],
            [
             0.2,
             "#de77ae"
            ],
            [
             0.3,
             "#f1b6da"
            ],
            [
             0.4,
             "#fde0ef"
            ],
            [
             0.5,
             "#f7f7f7"
            ],
            [
             0.6,
             "#e6f5d0"
            ],
            [
             0.7,
             "#b8e186"
            ],
            [
             0.8,
             "#7fbc41"
            ],
            [
             0.9,
             "#4d9221"
            ],
            [
             1,
             "#276419"
            ]
           ],
           "sequential": [
            [
             0,
             "#0d0887"
            ],
            [
             0.1111111111111111,
             "#46039f"
            ],
            [
             0.2222222222222222,
             "#7201a8"
            ],
            [
             0.3333333333333333,
             "#9c179e"
            ],
            [
             0.4444444444444444,
             "#bd3786"
            ],
            [
             0.5555555555555556,
             "#d8576b"
            ],
            [
             0.6666666666666666,
             "#ed7953"
            ],
            [
             0.7777777777777778,
             "#fb9f3a"
            ],
            [
             0.8888888888888888,
             "#fdca26"
            ],
            [
             1,
             "#f0f921"
            ]
           ],
           "sequentialminus": [
            [
             0,
             "#0d0887"
            ],
            [
             0.1111111111111111,
             "#46039f"
            ],
            [
             0.2222222222222222,
             "#7201a8"
            ],
            [
             0.3333333333333333,
             "#9c179e"
            ],
            [
             0.4444444444444444,
             "#bd3786"
            ],
            [
             0.5555555555555556,
             "#d8576b"
            ],
            [
             0.6666666666666666,
             "#ed7953"
            ],
            [
             0.7777777777777778,
             "#fb9f3a"
            ],
            [
             0.8888888888888888,
             "#fdca26"
            ],
            [
             1,
             "#f0f921"
            ]
           ]
          },
          "colorway": [
           "#636efa",
           "#EF553B",
           "#00cc96",
           "#ab63fa",
           "#FFA15A",
           "#19d3f3",
           "#FF6692",
           "#B6E880",
           "#FF97FF",
           "#FECB52"
          ],
          "font": {
           "color": "#2a3f5f"
          },
          "geo": {
           "bgcolor": "white",
           "lakecolor": "white",
           "landcolor": "#E5ECF6",
           "showlakes": true,
           "showland": true,
           "subunitcolor": "white"
          },
          "hoverlabel": {
           "align": "left"
          },
          "hovermode": "closest",
          "mapbox": {
           "style": "light"
          },
          "paper_bgcolor": "white",
          "plot_bgcolor": "#E5ECF6",
          "polar": {
           "angularaxis": {
            "gridcolor": "white",
            "linecolor": "white",
            "ticks": ""
           },
           "bgcolor": "#E5ECF6",
           "radialaxis": {
            "gridcolor": "white",
            "linecolor": "white",
            "ticks": ""
           }
          },
          "scene": {
           "xaxis": {
            "backgroundcolor": "#E5ECF6",
            "gridcolor": "white",
            "gridwidth": 2,
            "linecolor": "white",
            "showbackground": true,
            "ticks": "",
            "zerolinecolor": "white"
           },
           "yaxis": {
            "backgroundcolor": "#E5ECF6",
            "gridcolor": "white",
            "gridwidth": 2,
            "linecolor": "white",
            "showbackground": true,
            "ticks": "",
            "zerolinecolor": "white"
           },
           "zaxis": {
            "backgroundcolor": "#E5ECF6",
            "gridcolor": "white",
            "gridwidth": 2,
            "linecolor": "white",
            "showbackground": true,
            "ticks": "",
            "zerolinecolor": "white"
           }
          },
          "shapedefaults": {
           "line": {
            "color": "#2a3f5f"
           }
          },
          "ternary": {
           "aaxis": {
            "gridcolor": "white",
            "linecolor": "white",
            "ticks": ""
           },
           "baxis": {
            "gridcolor": "white",
            "linecolor": "white",
            "ticks": ""
           },
           "bgcolor": "#E5ECF6",
           "caxis": {
            "gridcolor": "white",
            "linecolor": "white",
            "ticks": ""
           }
          },
          "title": {
           "x": 0.05
          },
          "xaxis": {
           "automargin": true,
           "gridcolor": "white",
           "linecolor": "white",
           "ticks": "",
           "title": {
            "standoff": 15
           },
           "zerolinecolor": "white",
           "zerolinewidth": 2
          },
          "yaxis": {
           "automargin": true,
           "gridcolor": "white",
           "linecolor": "white",
           "ticks": "",
           "title": {
            "standoff": 15
           },
           "zerolinecolor": "white",
           "zerolinewidth": 2
          }
         }
        },
        "title": {
         "text": "Weekly Workload for Caretaker 78005437"
        },
        "xaxis": {
         "anchor": "y",
         "domain": [
          0,
          1
         ],
         "title": {
          "text": "Week"
         }
        },
        "yaxis": {
         "anchor": "x",
         "domain": [
          0,
          1
         ],
         "title": {
          "text": "Number of Services"
         }
        }
       }
      }
     },
     "metadata": {},
     "output_type": "display_data"
    }
   ],
   "source": [
    "def plot_weekly_workload(caretaker_weekly_workload, caretaker_id):\n",
    "    sample_caretaker_weekly = caretaker_weekly_workload[caretaker_weekly_workload['ID Intervenant'] == caretaker_id]\n",
    "    fig = px.line(sample_caretaker_weekly, x='Week', y='Weekly Service Count', title=f'Weekly Workload for Caretaker {caretaker_id}', markers=True)\n",
    "    fig.update_layout(xaxis_title='Week', yaxis_title='Number of Services')\n",
    "    fig.show()\n",
    "\n",
    "plot_weekly_workload(caretaker_weekly_workload, 78005437)\n"
   ]
  }
 ],
 "metadata": {
  "kernelspec": {
   "display_name": "health",
   "language": "python",
   "name": "python3"
  },
  "language_info": {
   "codemirror_mode": {
    "name": "ipython",
    "version": 3
   },
   "file_extension": ".py",
   "mimetype": "text/x-python",
   "name": "python",
   "nbconvert_exporter": "python",
   "pygments_lexer": "ipython3",
   "version": "3.10.7"
  }
 },
 "nbformat": 4,
 "nbformat_minor": 2
}
