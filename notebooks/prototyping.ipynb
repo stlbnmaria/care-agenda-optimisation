{
 "cells": [
  {
   "cell_type": "code",
   "execution_count": 1,
   "metadata": {},
   "outputs": [],
   "source": [
    "import pandas as pd\n",
    "import plotly.express as px"
   ]
  },
  {
   "cell_type": "code",
   "execution_count": 2,
   "metadata": {},
   "outputs": [],
   "source": [
    "# Load data\n",
    "file_path = \"../data/ChallengeXHEC23022024.xlsx\"\n",
    "excel_data = pd.ExcelFile(file_path)\n",
    "\n",
    "\n",
    "jan24_df = pd.read_excel(excel_data, sheet_name=\"JAN24\")\n",
    "clients_df = pd.read_excel(excel_data, sheet_name=\"clients\")\n",
    "intervenants_df = pd.read_excel(excel_data, sheet_name=\"intervenants\")"
   ]
  },
  {
   "cell_type": "code",
   "execution_count": 3,
   "metadata": {},
   "outputs": [
    {
     "name": "stdout",
     "output_type": "stream",
     "text": [
      "                    Prestation Start Time Earliest Start Time Latest  \\\n",
      "0   ACCOMPAGNEMENTS COURSES PA            08:45:00          17:30:00   \n",
      "1               ADMINISTRATION            07:30:00          14:30:00   \n",
      "2                AIDE MENAGERE            08:00:00          18:15:00   \n",
      "3                 COORDINATION            08:30:00          17:40:00   \n",
      "4              FEMME DE MENAGE            09:00:00          09:00:00   \n",
      "5                    FORMATION            08:30:00          19:30:00   \n",
      "6              GARDE D'ENFANTS            12:00:00          18:20:00   \n",
      "7          HOMMES TOUTES MAINS            10:00:00          13:00:00   \n",
      "8                        REPAS            07:00:00          19:45:00   \n",
      "9                     TOILETTE            07:00:00          20:55:00   \n",
      "10                 VIE SOCIALE            09:00:00          17:40:00   \n",
      "11             VISITE MEDICALE            10:20:00          10:20:00   \n",
      "\n",
      "   End Time Earliest End Time Latest  \n",
      "0           10:00:00        18:00:00  \n",
      "1           11:45:00        18:00:00  \n",
      "2           09:00:00        19:30:00  \n",
      "3           09:50:00        18:10:00  \n",
      "4           12:00:00        12:00:00  \n",
      "5           09:30:00        20:00:00  \n",
      "6           16:30:00        20:20:00  \n",
      "7           11:00:00        14:00:00  \n",
      "8           07:30:00        20:20:00  \n",
      "9           07:45:00        21:30:00  \n",
      "10          11:00:00        18:00:00  \n",
      "11          11:20:00        11:20:00  \n"
     ]
    }
   ],
   "source": [
    "# Analyze start/end times for each type of service\n",
    "jan24_df[\"Heure de début\"] = pd.to_datetime(\n",
    "    jan24_df[\"Heure de début\"], format=\"%H:%M:%S\"\n",
    ").dt.time\n",
    "jan24_df[\"Heure de fin\"] = pd.to_datetime(\n",
    "    jan24_df[\"Heure de fin\"], format=\"%H:%M:%S\"\n",
    ").dt.time\n",
    "service_constraints = jan24_df.groupby(\"Prestation\").agg(\n",
    "    {\"Heure de début\": [\"min\", \"max\"], \"Heure de fin\": [\"min\", \"max\"]}\n",
    ")\n",
    "service_constraints.columns = [\n",
    "    \"Start Time Earliest\",\n",
    "    \"Start Time Latest\",\n",
    "    \"End Time Earliest\",\n",
    "    \"End Time Latest\",\n",
    "]\n",
    "service_constraints.reset_index(inplace=True)\n",
    "\n",
    "\n",
    "print(service_constraints)"
   ]
  },
  {
   "cell_type": "code",
   "execution_count": 7,
   "metadata": {},
   "outputs": [],
   "source": [
    "prestation_segmented_data = {prestation: group for prestation, group in jan24_df.groupby('Prestation')}\n",
    "\n",
    "\n",
    "toilette_data = prestation_segmented_data['TOILETTE']  # Replace 'TOILETTE' with the desired service segmented data\n"
   ]
  },
  {
   "cell_type": "code",
   "execution_count": 4,
   "metadata": {},
   "outputs": [
    {
     "name": "stdout",
     "output_type": "stream",
     "text": [
      "Prestation  ACCOMPAGNEMENTS COURSES PA  ADMINISTRATION  AIDE MENAGERE  \\\n",
      "ID Client                                                               \n",
      "78690893                             0               0             28   \n",
      "78691334                             4               0             13   \n",
      "78691389                             0               0              5   \n",
      "78691461                             0               0              4   \n",
      "78692265                             2               0              5   \n",
      "...                                ...             ...            ...   \n",
      "1452740690                           1               0              0   \n",
      "1452763176                           0               0              3   \n",
      "1452775101                           0               0              0   \n",
      "1452858131                           0               0              0   \n",
      "1453084257                           0               0              2   \n",
      "\n",
      "Prestation  COORDINATION  FEMME DE MENAGE  FORMATION  GARDE D'ENFANTS  \\\n",
      "ID Client                                                               \n",
      "78690893               0                0          0                0   \n",
      "78691334               0                0          0                0   \n",
      "78691389               0                0          0                0   \n",
      "78691461               0                0          0                0   \n",
      "78692265               0                0          0                0   \n",
      "...                  ...              ...        ...              ...   \n",
      "1452740690             0                0          0                0   \n",
      "1452763176             0                0          0                0   \n",
      "1452775101             0                0          0                0   \n",
      "1452858131             0                0          0                0   \n",
      "1453084257             0                0          0                0   \n",
      "\n",
      "Prestation  HOMMES TOUTES MAINS  REPAS  TOILETTE  VIE SOCIALE  VISITE MEDICALE  \n",
      "ID Client                                                                       \n",
      "78690893                      0      0         0            0                0  \n",
      "78691334                      0      0         0            0                0  \n",
      "78691389                      0      0         0            0                0  \n",
      "78691461                      0     49         9            0                0  \n",
      "78692265                      0      0         0            0                0  \n",
      "...                         ...    ...       ...          ...              ...  \n",
      "1452740690                    0      0         0            0                0  \n",
      "1452763176                    0      0         0            0                0  \n",
      "1452775101                    0      0        17            0                0  \n",
      "1452858131                    0      0         3            0                0  \n",
      "1453084257                    0      0         0            0                0  \n",
      "\n",
      "[118 rows x 12 columns]\n"
     ]
    }
   ],
   "source": [
    "# Segment clients according to their needs\n",
    "client_needs = (\n",
    "    jan24_df.groupby([\"ID Client\", \"Prestation\"]).size().unstack(fill_value=0)\n",
    ")\n",
    "\n",
    "print(client_needs)"
   ]
  },
  {
   "cell_type": "code",
   "execution_count": 5,
   "metadata": {},
   "outputs": [
    {
     "data": {
      "text/html": [
       "<div>\n",
       "<style scoped>\n",
       "    .dataframe tbody tr th:only-of-type {\n",
       "        vertical-align: middle;\n",
       "    }\n",
       "\n",
       "    .dataframe tbody tr th {\n",
       "        vertical-align: top;\n",
       "    }\n",
       "\n",
       "    .dataframe thead th {\n",
       "        text-align: right;\n",
       "    }\n",
       "</style>\n",
       "<table border=\"1\" class=\"dataframe\">\n",
       "  <thead>\n",
       "    <tr style=\"text-align: right;\">\n",
       "      <th>Day Type</th>\n",
       "      <th>Weekday</th>\n",
       "      <th>Weekend</th>\n",
       "    </tr>\n",
       "    <tr>\n",
       "      <th>Prestation</th>\n",
       "      <th></th>\n",
       "      <th></th>\n",
       "    </tr>\n",
       "  </thead>\n",
       "  <tbody>\n",
       "    <tr>\n",
       "      <th>ACCOMPAGNEMENTS COURSES PA</th>\n",
       "      <td>83</td>\n",
       "      <td>0</td>\n",
       "    </tr>\n",
       "    <tr>\n",
       "      <th>ADMINISTRATION</th>\n",
       "      <td>79</td>\n",
       "      <td>0</td>\n",
       "    </tr>\n",
       "    <tr>\n",
       "      <th>AIDE MENAGERE</th>\n",
       "      <td>435</td>\n",
       "      <td>8</td>\n",
       "    </tr>\n",
       "    <tr>\n",
       "      <th>COORDINATION</th>\n",
       "      <td>10</td>\n",
       "      <td>0</td>\n",
       "    </tr>\n",
       "    <tr>\n",
       "      <th>FEMME DE MENAGE</th>\n",
       "      <td>4</td>\n",
       "      <td>0</td>\n",
       "    </tr>\n",
       "    <tr>\n",
       "      <th>FORMATION</th>\n",
       "      <td>15</td>\n",
       "      <td>0</td>\n",
       "    </tr>\n",
       "    <tr>\n",
       "      <th>GARDE D'ENFANTS</th>\n",
       "      <td>10</td>\n",
       "      <td>0</td>\n",
       "    </tr>\n",
       "    <tr>\n",
       "      <th>HOMMES TOUTES MAINS</th>\n",
       "      <td>2</td>\n",
       "      <td>0</td>\n",
       "    </tr>\n",
       "    <tr>\n",
       "      <th>REPAS</th>\n",
       "      <td>696</td>\n",
       "      <td>214</td>\n",
       "    </tr>\n",
       "    <tr>\n",
       "      <th>TOILETTE</th>\n",
       "      <td>938</td>\n",
       "      <td>279</td>\n",
       "    </tr>\n",
       "    <tr>\n",
       "      <th>VIE SOCIALE</th>\n",
       "      <td>72</td>\n",
       "      <td>24</td>\n",
       "    </tr>\n",
       "    <tr>\n",
       "      <th>VISITE MEDICALE</th>\n",
       "      <td>1</td>\n",
       "      <td>0</td>\n",
       "    </tr>\n",
       "  </tbody>\n",
       "</table>\n",
       "</div>"
      ],
      "text/plain": [
       "Day Type                    Weekday  Weekend\n",
       "Prestation                                  \n",
       "ACCOMPAGNEMENTS COURSES PA       83        0\n",
       "ADMINISTRATION                   79        0\n",
       "AIDE MENAGERE                   435        8\n",
       "COORDINATION                     10        0\n",
       "FEMME DE MENAGE                   4        0\n",
       "FORMATION                        15        0\n",
       "GARDE D'ENFANTS                  10        0\n",
       "HOMMES TOUTES MAINS               2        0\n",
       "REPAS                           696      214\n",
       "TOILETTE                        938      279\n",
       "VIE SOCIALE                      72       24\n",
       "VISITE MEDICALE                   1        0"
      ]
     },
     "execution_count": 5,
     "metadata": {},
     "output_type": "execute_result"
    }
   ],
   "source": [
    "# Segment days according to the services offered\n",
    "jan24_df[\"Day of Week\"] = jan24_df[\"Date\"].dt.dayofweek\n",
    "jan24_df[\"Day Type\"] = jan24_df[\"Day of Week\"].apply(\n",
    "    lambda x: \"Weekend\" if x > 4 else \"Weekday\"\n",
    ")\n",
    "day_segmentation = (\n",
    "    jan24_df.groupby([\"Day Type\", \"Prestation\"]).size().unstack(fill_value=0)\n",
    ")\n",
    "\n",
    "day_segmentation.T"
   ]
  },
  {
   "cell_type": "code",
   "execution_count": 6,
   "metadata": {},
   "outputs": [
    {
     "name": "stdout",
     "output_type": "stream",
     "text": [
      "Weekday services:  ['ACCOMPAGNEMENTS COURSES PA', 'ADMINISTRATION', 'AIDE MENAGERE', 'COORDINATION', 'FEMME DE MENAGE', 'FORMATION', \"GARDE D'ENFANTS\", 'HOMMES TOUTES MAINS', 'REPAS', 'TOILETTE', 'VIE SOCIALE', 'VISITE MEDICALE']\n",
      "Weekend services:  ['AIDE MENAGERE', 'REPAS', 'TOILETTE', 'VIE SOCIALE']\n"
     ]
    }
   ],
   "source": [
    "day_seg_inv = day_segmentation.T\n",
    "print(\n",
    "    \"Weekday services: \", day_seg_inv[day_seg_inv.Weekday > 0].index.to_list()\n",
    ")\n",
    "print(\n",
    "    \"Weekend services: \", day_seg_inv[day_seg_inv.Weekend > 0].index.to_list()\n",
    ")"
   ]
  },
  {
   "cell_type": "markdown",
   "metadata": {},
   "source": [
    "# Plotting agenda of Caretakers"
   ]
  },
  {
   "cell_type": "code",
   "execution_count": null,
   "metadata": {},
   "outputs": [],
   "source": [
    "jan24_df[\"Start DateTime\"] = pd.to_datetime(\n",
    "    jan24_df[\"Date\"].astype(str) + \" \" + jan24_df[\"Heure de début\"].astype(str)\n",
    ")\n",
    "jan24_df[\"End DateTime\"] = pd.to_datetime(\n",
    "    jan24_df[\"Date\"].astype(str) + \" \" + jan24_df[\"Heure de fin\"].astype(str)\n",
    ")"
   ]
  },
  {
   "cell_type": "code",
   "execution_count": null,
   "metadata": {},
   "outputs": [],
   "source": [
    "# TODO: add commute time & waittime\n",
    "# TODO: add client id in hover description"
   ]
  },
  {
   "cell_type": "code",
   "execution_count": null,
   "metadata": {},
   "outputs": [],
   "source": [
    "def plot_agenda_for_intervenant(intervenant_id):\n",
    "    intervenant_agenda = jan24_df[jan24_df[\"ID Intervenant\"] == intervenant_id]\n",
    "    intervenant_agenda_sorted = intervenant_agenda.sort_values(\n",
    "        by=[\"Date\", \"Heure de début\"]\n",
    "    )\n",
    "\n",
    "    df_timeline = intervenant_agenda_sorted.copy()\n",
    "    df_timeline[\"Start\"] = pd.to_datetime(df_timeline[\"Start DateTime\"])\n",
    "    df_timeline[\"Finish\"] = pd.to_datetime(df_timeline[\"End DateTime\"])\n",
    "    df_timeline[\"Task\"] = df_timeline[\"Prestation\"]\n",
    "    df_timeline[\"Resource\"] = df_timeline[\"ID Intervenant\"].astype(str)\n",
    "\n",
    "    fig = px.timeline(\n",
    "        df_timeline,\n",
    "        x_start=\"Start\",\n",
    "        x_end=\"Finish\",\n",
    "        y=\"Task\",\n",
    "        color=\"Resource\",\n",
    "    )\n",
    "    fig.update_yaxes(autorange=\"reversed\")\n",
    "    fig.update_layout(title=f\"Agenda for Intervenant ID: {intervenant_id}\")\n",
    "\n",
    "    fig.update_layout(\n",
    "        xaxis=dict(\n",
    "            rangeselector=dict(\n",
    "                buttons=list(\n",
    "                    [\n",
    "                        dict(\n",
    "                            count=1,\n",
    "                            label=\"1D\",\n",
    "                            step=\"day\",\n",
    "                            stepmode=\"backward\",\n",
    "                        ),\n",
    "                        dict(\n",
    "                            count=7,\n",
    "                            label=\"1W\",\n",
    "                            step=\"day\",\n",
    "                            stepmode=\"backward\",\n",
    "                        ),\n",
    "                        dict(step=\"all\"),\n",
    "                    ]\n",
    "                )\n",
    "            ),\n",
    "            rangeslider=dict(visible=True),\n",
    "            type=\"date\",\n",
    "        )\n",
    "    )\n",
    "\n",
    "    fig.show()"
   ]
  },
  {
   "cell_type": "code",
   "execution_count": null,
   "metadata": {},
   "outputs": [],
   "source": [
    "for intervenant_id in jan24_df[\"ID Intervenant\"].unique():\n",
    "    plot_agenda_for_intervenant(intervenant_id)"
   ]
  }
 ],
 "metadata": {
  "kernelspec": {
   "display_name": "health",
   "language": "python",
   "name": "python3"
  },
  "language_info": {
   "codemirror_mode": {
    "name": "ipython",
    "version": 3
   },
   "file_extension": ".py",
   "mimetype": "text/x-python",
   "name": "python",
   "nbconvert_exporter": "python",
   "pygments_lexer": "ipython3",
   "version": "3.10.7"
  }
 },
 "nbformat": 4,
 "nbformat_minor": 2
}
